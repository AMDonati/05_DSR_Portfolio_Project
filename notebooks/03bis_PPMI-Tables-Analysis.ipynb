{
 "cells": [
  {
   "cell_type": "code",
   "execution_count": 1,
   "metadata": {},
   "outputs": [],
   "source": [
    "#imports \n",
    "import numpy as np \n",
    "import pandas as pd \n",
    "import matplotlib.pyplot as plt\n",
    "import urllib.parse\n",
    "from glob import glob\n",
    "import os\n",
    "import ntpath \n",
    "import zipfile\n",
    "\n",
    "#paths\n",
    "#PPMI_zippath='/Users/alicemartin/02_DSR_Project/parkinson-disease-project/data/PPMI-final-dataset-382018.zip'\n",
    "PPMI_path='/Users/alicemartin/02_DSR_Project/parkinson-disease-project/data/'"
   ]
  },
  {
   "cell_type": "code",
   "execution_count": 2,
   "metadata": {},
   "outputs": [],
   "source": [
    "def reading_csv_files(folder_path):\n",
    "    # saving all the csv files in a dataframe\n",
    "    import os\n",
    "    import glob\n",
    "    # glob.glob('*.csv') #find all the csv files in a pathname. \n",
    "    os.chdir(folder_path)\n",
    "    csv_files = [i for i in glob.glob('*.csv')]\n",
    "\n",
    "    # Reading each csv file and storing them in a dictionnary containing the file name and the dataframe\n",
    "    dict_files={}\n",
    "    files_names=[]\n",
    "    for files in csv_files:\n",
    "    #for i, files in enumerate(csv_files): \n",
    "        df=pd.read_csv(files,engine='python')\n",
    "        basepath, filename=ntpath.split(files)\n",
    "        files_names.append(filename)\n",
    "        dict_files[filename]=df\n",
    "\n",
    "    # Calculating the # of rows and features for each dataframe and storing them in a list of tuples\n",
    "    shape_df=[]\n",
    "    for i in range(0,len(dict_files.keys())):\n",
    "        nrows, ncols=(len(dict_files[files_names[i]]),len(dict_files[files_names[i]].columns))\n",
    "        shape_df.append((nrows,ncols))\n",
    "\n",
    "    return (shape_df,files_names,dict_files)"
   ]
  },
  {
   "cell_type": "code",
   "execution_count": 34,
   "metadata": {},
   "outputs": [],
   "source": [
    "def number_of_patients(df):\n",
    "    '''return the number of patients in each csv files'''\n",
    "    if 'PATNO' in df.columns:\n",
    "        patients=len(list(set(df['PATNO'])))\n",
    "        if 'EVENT_ID' in df.columns:\n",
    "            events=len(list(set(df['EVENT_ID'])))\n",
    "        else:\n",
    "            events='no TS data'\n",
    "        return (patients,events)\n",
    "    else: \n",
    "        print('no PATNO features in df')"
   ]
  },
  {
   "cell_type": "code",
   "execution_count": 4,
   "metadata": {},
   "outputs": [],
   "source": [
    "def features_selection(df, SEL):\n",
    "    '''cleanier way to do features selection in each csv file'''\n",
    "    return df_sel"
   ]
  },
  {
   "cell_type": "code",
   "execution_count": 30,
   "metadata": {},
   "outputs": [],
   "source": [
    "def patients_selection(df, threshold=6):\n",
    "    '''return a dataframe containing only the patients with number of visits > threshold'''\n",
    "    if 'PATNO' in df.columns: \n",
    "        visits_number_by_pat=df.groupby('PATNO').size().sort_values(ascending=False)\n",
    "        mask_sel=visits_number_by_pat>=threshold\n",
    "        patients_sel=list(mask_sel[mask_sel.values==True].index)\n",
    "        df=df.loc[df['PATNO'].isin(patients_sel),:]\n",
    "        df=df.sort_values('PATNO')\n",
    "        return (patients_sel, df)\n",
    "    else:\n",
    "        print(\"There is no 'PATNO' column in the dataframe\")"
   ]
  },
  {
   "cell_type": "code",
   "execution_count": null,
   "metadata": {},
   "outputs": [],
   "source": [
    "dict={}\n",
    "for df in list_df: \n",
    "    print(number_of_patients(df))\n",
    "    dict[df]=len(patients_selection(df)[0])\n",
    "dict"
   ]
  },
  {
   "cell_type": "markdown",
   "metadata": {},
   "source": [
    "Inline-style: \n",
    "![1-Subject-Characteristics](https://github.com/AMDonati/parkinson-disease-project/blob/master/assets%20/1-subject-characteristics.png)\n",
    "![2-Biospecimen](https://github.com/AMDonati/parkinson-disease-project/blob/master/assets%20/2-Biospecimen.png)\n",
    "![3-Enrollment](https://github.com/AMDonati/parkinson-disease-project/blob/master/assets%20/3-Enrollment.png)\n",
    "![4-Imaging](https://github.com/AMDonati/parkinson-disease-project/blob/master/assets%20/4-Medical.png)\n",
    "![5-Medical-History](https://github.com/AMDonati/parkinson-disease-project/blob/master/assets%20/5-Imaging.png)\n",
    "![6-Motor-Assessments](https://github.com/AMDonati/parkinson-disease-project/blob/master/assets%20/6-Motor-Assessments.png)\n",
    "![7-Non-Motor-Assessments](https://github.com/AMDonati/parkinson-disease-project/blob/master/assets%20/7-Non-Motor-Assessments.png)"
   ]
  },
  {
   "cell_type": "markdown",
   "metadata": {},
   "source": [
    "## 1-Subject-Characteristics"
   ]
  },
  {
   "cell_type": "code",
   "execution_count": 6,
   "metadata": {},
   "outputs": [
    {
     "name": "stdout",
     "output_type": "stream",
     "text": [
      "(2135, 'no TS data')\n",
      "[nan, 'GENPD', 'REGPD', 'PD', 'PRODROMA', 'REGUN', 'SWEDD', 'GENUN', 'HC']\n",
      "331\n",
      "(2144, 1)\n"
     ]
    }
   ],
   "source": [
    "folder_path='/Users/alicemartin/02_DSR_Project/parkinson-disease-project/data/PPMI-final-dataset-382018/1-Subject-Characteristics/'\n",
    "files_names=reading_csv_files(folder_path)[1]\n",
    "dict_files=reading_csv_files(folder_path)[2]\n",
    "\n",
    "### Patient_Status - actually useful for selecting only the PD patients in each table\n",
    "\n",
    "PRODROMA=dict_files[files_names[0]]\n",
    "print(number_of_patients(PRODROMA))\n",
    "#print(list(set(PRODROMA['RECRUITMENT_CAT'])))\n",
    "print(list(set(PRODROMA['ENROLL_CAT'])))\n",
    "print(PRODROMA['ENROLL_CAT'].isnull().sum())\n",
    "PD_cat=['PD','REGPD','GENPD']\n",
    "mask=PRODROMA['ENROLL_CAT'].isin(PD_cat)\n",
    "PD_patients=PRODROMA.loc[mask,'PATNO']\n",
    "len(PD_patients)\n",
    "\n",
    "### Screening__Demographics - useful\n",
    "#### NOT TS DATA\n",
    "SCREEN=dict_files[files_names[3]]\n",
    "SEL=['REC_ID', 'PATNO', 'EVENT_ID', 'PAG_NAME',\n",
    "       'CONSNTDT', 'APPRDX', 'CURRENT_APPRDX', 'P3GRP', 'BIRTHDT', 'GENDER',\n",
    "       'HISPLAT', 'RAINDALS', 'RAASIAN', 'RABLACK', 'RAHAWOPI', 'RAWHITE',\n",
    "       'RANOS', 'PRJENRDT']\n",
    "SCREEN_sel=SCREEN[SEL]\n",
    "print(number_of_patients(SCREEN))"
   ]
  },
  {
   "cell_type": "markdown",
   "metadata": {},
   "source": [
    "## 2-Biospecimen"
   ]
  },
  {
   "cell_type": "code",
   "execution_count": 7,
   "metadata": {},
   "outputs": [
    {
     "name": "stdout",
     "output_type": "stream",
     "text": [
      "(1116, 1)\n",
      "(664, 'no TS data')\n",
      "(1344, 20)\n"
     ]
    }
   ],
   "source": [
    "folder_path='/Users/alicemartin/02_DSR_Project/parkinson-disease-project/data/PPMI-final-dataset-382018/2-Biospecimen/'\n",
    "files_names=reading_csv_files(folder_path)[1]\n",
    "dict_files=reading_csv_files(folder_path)[2]\n",
    "\n",
    "### Genetic_Results_Tests - useful: Feat-bio - 1116 patients\n",
    "#### NOT TS DATA\n",
    "\n",
    "MUTRSLT=dict_files[files_names[3]]\n",
    "SEL=['REC_ID','PATNO', 'EVENT_ID', 'PAG_NAME', 'INFODT',\n",
    "       'GENECAT', 'LRRKCD', 'MUTRSLT']\n",
    "MUTRSLT_sel=MUTRSLT[SEL]\n",
    "print(number_of_patients(MUTRSLT))\n",
    "MUTRSLT_sel.head()\n",
    "\n",
    "### Pilot_Biospecimen_Analysis_Results - useful: Feat-bio\n",
    "#### Understand if the cohort of patient IDs are different from the classic PPMI cohort.\n",
    "#### NOT TS DATA.\n",
    "\n",
    "### Pilot_Biospecimen_Analysis_Results - useful: Feat-bio\n",
    "Biospecimen_Analysis=dict_files[files_names[6]]\n",
    "\n",
    "SEL=['PATNO', 'DIAGNOSIS', 'CLINICAL_EVENT', 'TYPE', 'TESTNAME',\n",
    "       'TESTVALUE','RUNDATE', 'PROJECTID']\n",
    "print(number_of_patients(Biospecimen_Analysis))\n",
    "Biospecimen_Analysis_sel=Biospecimen_Analysis[SEL]\n",
    "\n",
    "### Lumbar_Puncture_Sample_Collection - useful: Feat-bio - 1344 patients\n",
    "LUMBAR=dict_files[files_names[9]]\n",
    "\n",
    "### Only features useful I think: white cell blood count, red blood cell count, total glucose, total protein.\n",
    "\n",
    "SEL=['REC_ID','PATNO', 'EVENT_ID', 'PAG_NAME', 'INFODT', 'FASTSTAT','PDMEDYN', 'PDMEDDT', 'PDMEDTM',\n",
    "     'SMPDSCRD','RBCRSLT','WBCRSLT','TOPRRSLT','TGLCRSLT','SPFI','FLUORO']\n",
    "print(number_of_patients(LUMBAR))\n",
    "#print(len(patients_selection(LUMBAR,6)[0]))\n",
    "LUMBAR_sel=LUMBAR[SEL]"
   ]
  },
  {
   "cell_type": "markdown",
   "metadata": {},
   "source": [
    "## 3-Enrollment - useless?"
   ]
  },
  {
   "cell_type": "code",
   "execution_count": 8,
   "metadata": {},
   "outputs": [
    {
     "name": "stdout",
     "output_type": "stream",
     "text": [
      "(789, 15)\n",
      "[nan, 97.0, 1.0, 4.0, 5.0, 7.0, 11.0, 15.0, 17.0]\n"
     ]
    }
   ],
   "source": [
    "folder_path='/Users/alicemartin/02_DSR_Project/parkinson-disease-project/data/PPMI-final-dataset-382018/3-Enrollment/'\n",
    "files_names=reading_csv_files(folder_path)[1]\n",
    "dict_files=reading_csv_files(folder_path)[2]\n",
    "\n",
    "### 'Primary_Diagnosis.csv' - useful: Feat-Gen - 789 patients... (only PD patients?)\n",
    "PRIMDXPD=dict_files[files_names[8]]\n",
    "\n",
    "\n",
    "SEL=['REC_ID', 'F_STATUS', 'PATNO', 'EVENT_ID', 'PAG_NAME', 'INFODT',\n",
    "       'PRIMDIAG', 'OTHNEURO']\n",
    "print(number_of_patients(PRIMDXPD))\n",
    "PRIMDXPD_sel=PRIMDXPD[SEL]\n",
    "print(list(set(PRIMDXPD_sel['PRIMDIAG'])))\n"
   ]
  },
  {
   "cell_type": "markdown",
   "metadata": {},
   "source": [
    "## 5-Medical History"
   ]
  },
  {
   "cell_type": "code",
   "execution_count": 9,
   "metadata": {},
   "outputs": [
    {
     "name": "stdout",
     "output_type": "stream",
     "text": [
      "(1670, 19)\n",
      "(2067, 2)\n",
      "(2047, 8)\n",
      "(2048, 15)\n",
      "(2049, 15)\n",
      "(1017, 3)\n",
      "(2047, 21)\n"
     ]
    }
   ],
   "source": [
    "folder_path='/Users/alicemartin/02_DSR_Project/parkinson-disease-project/data/PPMI-final-dataset-382018/5-Medical-History/'\n",
    "files_names=reading_csv_files(folder_path)[1]\n",
    "dict_files=reading_csv_files(folder_path)[2]\n",
    "\n",
    "### 'Diagnostic_Features.csv': useful: Feat-PD - 1670 patients.\n",
    "\n",
    "DIAGFEAT=dict_files[files_names[1]]\n",
    "\n",
    "SEL=['REC_ID', 'PATNO', 'EVENT_ID', 'PAG_NAME', 'INFODT',\n",
    "       'DFSTROKE', 'DFRSKFCT', 'DFPRESNT', 'DFRPROG', 'DFSTATIC', 'DFHEMPRK',\n",
    "       'DFAGESX', 'DFOTHCRS', 'DFCRSCM', 'DFRTREMP', 'DFRTREMA', 'DFPATREM',\n",
    "       'DFOTHTRM', 'DFTREMCM', 'DFRIGIDP', 'DFRIGIDA', 'DFAXRIG', 'DFUNIRIG',\n",
    "       'DFTONE', 'DFOTHRIG', 'DFRIGCM', 'DFBRADYP', 'DFBRADYA', 'DFAKINES',\n",
    "       'DFBRPLUS', 'DFOTHABR', 'DFABRCM', 'DFPGDIST', 'DFGAIT', 'DFFREEZ',\n",
    "       'DFFALLS', 'DFOTHPG', 'DFPGCM', 'DFPSYCH', 'DFCOGNIT', 'DFDYSTON',\n",
    "       'DFCHOREA', 'DFMYOCLO', 'DFOTHHYP', 'DFHYPCM', 'DFHEMTRO', 'DFPSHYPO',\n",
    "       'DFSEXDYS', 'DFURDYS', 'DFBWLDYS', 'DFOCULO', 'DFEYELID', 'DFNEURAB',\n",
    "       'DFDOPRSP', 'DFRAPSPE', 'DFBULBAR', 'DFCTSCAN', 'DFMRI', 'DFATYP']\n",
    "print(number_of_patients(DIAGFEAT))\n",
    "DIAGFEAT_sel=DIAGFEAT[SEL]\n",
    "\n",
    "### 'General_Medical_History.csv': useful: Feat-Gen - 2067 patients\n",
    "#### NOT TS DATA...\n",
    "\n",
    "MHXGEN=dict_files[files_names[3]]\n",
    "SEL=['REC_ID', 'F_STATUS', 'PATNO', 'EVENT_ID', 'PAG_NAME', 'INFODT',\n",
    "       'MHCAT', 'MHROW', 'MHHX', 'MHACTRES', 'MHDIAGYR', \n",
    "     'PT_CODE', 'PT_NAME', 'HLT_NAME', 'SOCABBR1']\n",
    "# I need probably to select less features here\n",
    "print(number_of_patients(MHXGEN))\n",
    "MHXGEN_sel=MHXGEN[SEL]\n",
    "\n",
    "### General_Physical_Exam: useful: Feat-Gen - 2047 patients\n",
    "\n",
    "GENPHYEX=dict_files[files_names[5]]\n",
    "\n",
    "SEL=['REC_ID', 'PATNO', 'EVENT_ID', 'PAG_NAME', 'INFODT',\n",
    "       'PESEQ', 'PECAT', 'ABNORM']\n",
    "print(number_of_patients(GENPHYEX))\n",
    "GENPHYEX_sel=GENPHYEX[SEL]\n",
    "\n",
    "### 'General_Neurological_Exam.csv': useful: Feat-Gen - 2048 patients\n",
    "\n",
    "PENEURO=dict_files[files_names[7]]\n",
    "\n",
    "SEL=['REC_ID', 'PATNO', 'EVENT_ID', 'PAG_NAME', 'INFODT',\n",
    "       'MSRARSP', 'MSRACM', 'MSLARSP', 'MSLACM', 'MSRLRSP', 'MSRLCM',\n",
    "       'MSLLRSP', 'MSLLCM', 'COFNRRSP', 'COFNRCM', 'COFNLRSP', 'COFNLCM',\n",
    "       'COHSRRSP', 'COHSRCM', 'COHSLRSP', 'COHSLCM', 'SENRARSP', 'SENRACM',\n",
    "       'SENLARSP', 'SENLACM', 'SENRLRSP', 'SENRLCM', 'SENLLRSP', 'SENLLCM',\n",
    "       'RFLRARSP', 'RFLRACM', 'RFLLARSP', 'RFLLACM', 'RFLRLRSP', 'RFLRLCM',\n",
    "       'RFLLLRSP', 'RFLLLCM', 'PLRRRSP', 'PLRRCM', 'PLRLRSP', 'PLRLCM']\n",
    "print(number_of_patients(PENEURO))\n",
    "PENEURO_sel=PENEURO[SEL]\n",
    "PENEURO_sel.head()\n",
    "\n",
    "### 'Neurological_Exam_-_Cranial_Nerves.csv': useful: Feat-PD - 2049 patients\n",
    "\n",
    "PENEURO2=dict_files[files_names[13]]\n",
    "PENEURO2.head()\n",
    "PENEURO2.columns\n",
    "\n",
    "SEL=['REC_ID', 'PATNO', 'EVENT_ID', 'PAG_NAME', 'INFODT',\n",
    "       'CN1RSP','CN2RSP', 'CN346RSP','CN5RSP',\n",
    "     'CN7RSP', 'CN8RSP', 'CN910RSP',\n",
    "       'CN11RSP', 'CN12RSP']\n",
    "print(number_of_patients(PENEURO2))\n",
    "PENEURO2_sel=PENEURO2[SEL]\n",
    "\n",
    "### 'PD_Features.csv': useful: Feat-PD - caution: these are actually not timeseries but examination only done at screening (SC), BL & V04\n",
    "### 1017 patients\n",
    "\n",
    "PDFEAT=dict_files[files_names[14]]\n",
    "#PDFEAT.head()\n",
    "#PDFEAT.columns\n",
    "\n",
    "SEL=['REC_ID', 'PATNO', 'EVENT_ID', 'PAG_NAME', 'INFODT', 'SXMO',\n",
    "       'SXYEAR', 'PDDXDT', 'DXTREMOR', 'DXRIGID', 'DXBRADY',\n",
    "       'DXPOSINS', 'DXOTHSX', 'DXOTHCM', 'DOMSIDE']\n",
    "print(number_of_patients(PDFEAT))\n",
    "PDFEAT_sel=PDFEAT[SEL]\n",
    "#list(set(PDFEAT_sel['DXOTHCM'])) - see if we remove the comment feature or not.\n",
    "\n",
    "### 'Vital_Signs.csv': useful: Feat-Gen\n",
    "### 2047 patients\n",
    "\n",
    "VITAL=dict_files[files_names[15]]\n",
    "\n",
    "SEL=['REC_ID', 'PATNO', 'EVENT_ID', 'PAG_NAME', 'INFODT',\n",
    "       'WGTKG', 'HTCM', 'TEMPC', 'SYSSUP', 'DIASUP', 'HRSUP',\n",
    "       'SYSSTND', 'DIASTND', 'HRSTND']\n",
    "print(number_of_patients(VITAL))\n",
    "VITAL_sel=VITAL[SEL]"
   ]
  },
  {
   "cell_type": "markdown",
   "metadata": {},
   "source": [
    "## 6-Motor-Assessments - all of them can be useful. \n",
    "#### But we might make the choice to not take all of them. \n",
    "#### For assessing the disease state (the labels), I think we should focus on the UPDRS1,3,&4 and take the other assessments as features"
   ]
  },
  {
   "cell_type": "code",
   "execution_count": 10,
   "metadata": {},
   "outputs": [
    {
     "name": "stdout",
     "output_type": "stream",
     "text": [
      "(2011, 20)\n",
      "(2010, 20)\n",
      "(2011, 20)\n",
      "(2010, 20)\n",
      "(860, 19)\n",
      "(1248, 13)\n",
      "(1248, 13)\n",
      "(1837, 20)\n"
     ]
    }
   ],
   "source": [
    "folder_path='/Users/alicemartin/02_DSR_Project/parkinson-disease-project/data/PPMI-final-dataset-382018/6-Motor-Assessments/'\n",
    "files_names=reading_csv_files(folder_path)[1]\n",
    "dict_files=reading_csv_files(folder_path)[2]\n",
    "\n",
    "### 'MDS_UPDRS_Part_I__Patient_Questionnaire.csv' - 2011 patients\n",
    "\n",
    "NUPDR1SP=dict_files[files_names[0]]\n",
    "print(number_of_patients(NUPDR1SP))\n",
    "\n",
    "### 'MDS_UPDRS_Part_I.csv' - 2010 patients\n",
    "\n",
    "NUPDRS1=dict_files[files_names[2]]\n",
    "print(number_of_patients(NUPDRS1))\n",
    "\n",
    "### 'MDS_UPDRS_Part_II__Patient_Questionnaire.csv' - 2011 patients\n",
    "\n",
    "NUPDRS2P=dict_files[files_names[11]]\n",
    "print(number_of_patients(NUPDRS2P))\n",
    "\n",
    "### 'MDS_UPDRS_Part_III.csv' - 2010 patients\n",
    "\n",
    "NUPDRS3=dict_files[files_names[7]]\n",
    "print(number_of_patients(NUPDRS3))\n",
    "\n",
    "### 'MDS_UPDRS_Part_IV.csv' - 860 patients\n",
    "\n",
    "NUPDRS4=dict_files[files_names[5]]\n",
    "print(number_of_patients(NUPDRS4))\n",
    "\n",
    "### 'PASE_-_Household_Activity.csv' - 1248 patients\n",
    "\n",
    "PASE=dict_files[files_names[3]]\n",
    "print(number_of_patients(PASE))\n",
    "\n",
    "### 'PASE_-_Leisure_Time_Activity.csv' - 1248 patients\n",
    "\n",
    "PASELT=dict_files[files_names[10]]\n",
    "print(number_of_patients(PASELT))\n",
    "\n",
    "### 'Modified_Schwab_+_England_ADL.csv' - 1837 patients\n",
    "\n",
    "MODSEADL=dict_files[files_names[6]]\n",
    "print(number_of_patients(MODSEADL))"
   ]
  },
  {
   "cell_type": "markdown",
   "metadata": {},
   "source": [
    "## 7-Non-motor-assessments - all of them can be useful but we might need to choose. \n",
    "### Do a correlation analysis and ask doctors which ones are the more relevant. "
   ]
  },
  {
   "cell_type": "code",
   "execution_count": 29,
   "metadata": {},
   "outputs": [
    {
     "data": {
      "text/html": [
       "<div>\n",
       "<style scoped>\n",
       "    .dataframe tbody tr th:only-of-type {\n",
       "        vertical-align: middle;\n",
       "    }\n",
       "\n",
       "    .dataframe tbody tr th {\n",
       "        vertical-align: top;\n",
       "    }\n",
       "\n",
       "    .dataframe thead th {\n",
       "        text-align: right;\n",
       "    }\n",
       "</style>\n",
       "<table border=\"1\" class=\"dataframe\">\n",
       "  <thead>\n",
       "    <tr style=\"text-align: right;\">\n",
       "      <th></th>\n",
       "      <th>REC_ID</th>\n",
       "      <th>F_STATUS</th>\n",
       "      <th>PATNO</th>\n",
       "      <th>EVENT_ID</th>\n",
       "      <th>PAG_NAME</th>\n",
       "      <th>INFODT</th>\n",
       "      <th>PTINBOTH</th>\n",
       "      <th>TMGAMBLE</th>\n",
       "      <th>CNTRLGMB</th>\n",
       "      <th>TMSEX</th>\n",
       "      <th>...</th>\n",
       "      <th>CNTRLEAT</th>\n",
       "      <th>TMTORACT</th>\n",
       "      <th>TMTMTACT</th>\n",
       "      <th>TMTRWD</th>\n",
       "      <th>TMDISMED</th>\n",
       "      <th>CNTRLDSM</th>\n",
       "      <th>ORIG_ENTRY</th>\n",
       "      <th>LAST_UPDATE</th>\n",
       "      <th>QUERY</th>\n",
       "      <th>SITE_APRV</th>\n",
       "    </tr>\n",
       "  </thead>\n",
       "  <tbody>\n",
       "    <tr>\n",
       "      <th>0</th>\n",
       "      <td>232537101</td>\n",
       "      <td>V</td>\n",
       "      <td>3401</td>\n",
       "      <td>BL</td>\n",
       "      <td>QUIPCS</td>\n",
       "      <td>07/2010</td>\n",
       "      <td>1.0</td>\n",
       "      <td>0.0</td>\n",
       "      <td>0.0</td>\n",
       "      <td>0.0</td>\n",
       "      <td>...</td>\n",
       "      <td>0.0</td>\n",
       "      <td>0.0</td>\n",
       "      <td>0.0</td>\n",
       "      <td>0.0</td>\n",
       "      <td>0</td>\n",
       "      <td>0</td>\n",
       "      <td>07/2010</td>\n",
       "      <td>2010-07-13 13:56:29.0</td>\n",
       "      <td>NaN</td>\n",
       "      <td>07/2010</td>\n",
       "    </tr>\n",
       "    <tr>\n",
       "      <th>1</th>\n",
       "      <td>233826501</td>\n",
       "      <td>V</td>\n",
       "      <td>3400</td>\n",
       "      <td>BL</td>\n",
       "      <td>QUIPCS</td>\n",
       "      <td>07/2010</td>\n",
       "      <td>1.0</td>\n",
       "      <td>0.0</td>\n",
       "      <td>0.0</td>\n",
       "      <td>0.0</td>\n",
       "      <td>...</td>\n",
       "      <td>0.0</td>\n",
       "      <td>0.0</td>\n",
       "      <td>0.0</td>\n",
       "      <td>0.0</td>\n",
       "      <td>0</td>\n",
       "      <td>0</td>\n",
       "      <td>07/2010</td>\n",
       "      <td>2010-07-20 07:29:44.0</td>\n",
       "      <td>NaN</td>\n",
       "      <td>07/2010</td>\n",
       "    </tr>\n",
       "    <tr>\n",
       "      <th>2</th>\n",
       "      <td>234844401</td>\n",
       "      <td>V</td>\n",
       "      <td>3404</td>\n",
       "      <td>BL</td>\n",
       "      <td>QUIPCS</td>\n",
       "      <td>07/2010</td>\n",
       "      <td>1.0</td>\n",
       "      <td>0.0</td>\n",
       "      <td>0.0</td>\n",
       "      <td>0.0</td>\n",
       "      <td>...</td>\n",
       "      <td>0.0</td>\n",
       "      <td>0.0</td>\n",
       "      <td>0.0</td>\n",
       "      <td>0.0</td>\n",
       "      <td>0</td>\n",
       "      <td>0</td>\n",
       "      <td>07/2010</td>\n",
       "      <td>2010-07-23 11:59:49.0</td>\n",
       "      <td>NaN</td>\n",
       "      <td>07/2010</td>\n",
       "    </tr>\n",
       "    <tr>\n",
       "      <th>3</th>\n",
       "      <td>231746401</td>\n",
       "      <td>V</td>\n",
       "      <td>3403</td>\n",
       "      <td>BL</td>\n",
       "      <td>QUIPCS</td>\n",
       "      <td>07/2010</td>\n",
       "      <td>1.0</td>\n",
       "      <td>0.0</td>\n",
       "      <td>0.0</td>\n",
       "      <td>0.0</td>\n",
       "      <td>...</td>\n",
       "      <td>0.0</td>\n",
       "      <td>0.0</td>\n",
       "      <td>0.0</td>\n",
       "      <td>0.0</td>\n",
       "      <td>0</td>\n",
       "      <td>0</td>\n",
       "      <td>07/2010</td>\n",
       "      <td>2010-07-09 09:48:15.0</td>\n",
       "      <td>NaN</td>\n",
       "      <td>07/2010</td>\n",
       "    </tr>\n",
       "    <tr>\n",
       "      <th>4</th>\n",
       "      <td>236093001</td>\n",
       "      <td>V</td>\n",
       "      <td>3405</td>\n",
       "      <td>BL</td>\n",
       "      <td>QUIPCS</td>\n",
       "      <td>07/2010</td>\n",
       "      <td>1.0</td>\n",
       "      <td>0.0</td>\n",
       "      <td>0.0</td>\n",
       "      <td>0.0</td>\n",
       "      <td>...</td>\n",
       "      <td>0.0</td>\n",
       "      <td>0.0</td>\n",
       "      <td>0.0</td>\n",
       "      <td>0.0</td>\n",
       "      <td>0</td>\n",
       "      <td>0</td>\n",
       "      <td>07/2010</td>\n",
       "      <td>2010-07-30 10:31:15.0</td>\n",
       "      <td>NaN</td>\n",
       "      <td>07/2010</td>\n",
       "    </tr>\n",
       "  </tbody>\n",
       "</table>\n",
       "<p>5 rows × 24 columns</p>\n",
       "</div>"
      ],
      "text/plain": [
       "      REC_ID F_STATUS  PATNO EVENT_ID PAG_NAME   INFODT  PTINBOTH  TMGAMBLE  \\\n",
       "0  232537101        V   3401       BL   QUIPCS  07/2010       1.0       0.0   \n",
       "1  233826501        V   3400       BL   QUIPCS  07/2010       1.0       0.0   \n",
       "2  234844401        V   3404       BL   QUIPCS  07/2010       1.0       0.0   \n",
       "3  231746401        V   3403       BL   QUIPCS  07/2010       1.0       0.0   \n",
       "4  236093001        V   3405       BL   QUIPCS  07/2010       1.0       0.0   \n",
       "\n",
       "   CNTRLGMB  TMSEX    ...     CNTRLEAT  TMTORACT  TMTMTACT  TMTRWD  TMDISMED  \\\n",
       "0       0.0    0.0    ...          0.0       0.0       0.0     0.0         0   \n",
       "1       0.0    0.0    ...          0.0       0.0       0.0     0.0         0   \n",
       "2       0.0    0.0    ...          0.0       0.0       0.0     0.0         0   \n",
       "3       0.0    0.0    ...          0.0       0.0       0.0     0.0         0   \n",
       "4       0.0    0.0    ...          0.0       0.0       0.0     0.0         0   \n",
       "\n",
       "   CNTRLDSM  ORIG_ENTRY            LAST_UPDATE QUERY SITE_APRV  \n",
       "0         0     07/2010  2010-07-13 13:56:29.0   NaN   07/2010  \n",
       "1         0     07/2010  2010-07-20 07:29:44.0   NaN   07/2010  \n",
       "2         0     07/2010  2010-07-23 11:59:49.0   NaN   07/2010  \n",
       "3         0     07/2010  2010-07-09 09:48:15.0   NaN   07/2010  \n",
       "4         0     07/2010  2010-07-30 10:31:15.0   NaN   07/2010  \n",
       "\n",
       "[5 rows x 24 columns]"
      ]
     },
     "execution_count": 29,
     "metadata": {},
     "output_type": "execute_result"
    }
   ],
   "source": [
    "folder_path='/Users/alicemartin/02_DSR_Project/parkinson-disease-project/data/PPMI-final-dataset-382018/7-Non-motor-assessments/'\n",
    "files_names=reading_csv_files(folder_path)[1]\n",
    "dict_files=reading_csv_files(folder_path)[2]\n",
    "\n",
    "### 'University_of_Pennsylvania_Smell_ID_Test.csv' - 1799 patients\n",
    "\n",
    "UPSIT=dict_files[files_names[0]]\n",
    "#print(number_of_patients(UPSIT))\n",
    "UPSIT.head()\n",
    "\n",
    "### 'Features_of_REM_Behavior_Disorder.csv' - only 80 patients...\n",
    "#### NOT TS data.\n",
    "\n",
    "REMBHVDS=dict_files[files_names[1]]\n",
    "#print(number_of_patients(REMBHVDS))\n",
    "REMBHVDS.head()\n",
    "\n",
    "### 'Epworth_Sleepiness_Scale.csv - 1343 patients.\n",
    "\n",
    "EPWORTH=dict_files[files_names[2]]\n",
    "#print(number_of_patients(EPWORTH))\n",
    "EPWORTH.head()\n",
    "\n",
    "### 'Letter_-_Number_Sequencing__PD_.csv' - 1341 patients.\n",
    "\n",
    "LNSPD=dict_files[files_names[3]]\n",
    "#print(number_of_patients(LNSPD))\n",
    "LNSPD.head()\n",
    "\n",
    "### 'Olfactory_UPSIT.csv' - 4468 patients\n",
    "#### NB: only take the 2 last columns as features (TOTAL_CORRECT, UPSIIT_PRCNTGE)\n",
    "\n",
    "OLFACT=dict_files[files_names[4]]\n",
    "#print(number_of_patients(OLFACT))\n",
    "#print(len(list(set(OLFACT['SUBJECT_ID']))))\n",
    "OLFACT.head()\n",
    "\n",
    "### 'REM_Sleep_Disorder_Questionnaire.csv' - 1810 patients\n",
    "\n",
    "REMSLEEP=dict_files[files_names[5]]\n",
    "#print(number_of_patients(REMSLEEP))\n",
    "REMSLEEP.head()\n",
    "\n",
    "### 'Cognitive_Assessments.csv' - 1172 patients\n",
    "\n",
    "COGTIME=dict_files[files_names[6]]\n",
    "#print(number_of_patients(COGTIME))\n",
    "COGTIME.head()\n",
    "\n",
    "### 'SCOPA-AUT.csv' - 1345 patients\n",
    "\n",
    "SCOPAAUT=dict_files[files_names[7]]\n",
    "#print(number_of_patients(SCOPAAUT))\n",
    "SCOPAAUT.head()\n",
    "\n",
    "### Cognitive_Categorization.csv' - 1302 patients\n",
    "\n",
    "COGCATG=dict_files[files_names[8]]\n",
    "#print(number_of_patients(COGCATG))\n",
    "COGCATG.head()\n",
    "\n",
    "### 'Hopkins_Verbal_Learning_Test.csv' - 1341 patients\n",
    "\n",
    "HVLT=dict_files[files_names[9]]\n",
    "#print(number_of_patients(HVLT))\n",
    "HVLT.head()\n",
    "\n",
    "### 'Montreal_Cognitive_Assessment__MoCA_.csv' - 2054 patients\n",
    "\n",
    "MOCA=dict_files[files_names[10]]\n",
    "#print(number_of_patients(MOCA))\n",
    "MOCA.head()\n",
    "\n",
    "### 'Semantic_Fluency.csv' - 1342 patients\n",
    "\n",
    "SFT=dict_files[files_names[11]]\n",
    "#print(number_of_patients(SFT))\n",
    "SFT.head()\n",
    "\n",
    "### 'Geriatric_Depression_Scale__Short_.csv' - 1478 patients\n",
    "\n",
    "GDSSHORT=dict_files[files_names[12]]\n",
    "#print(number_of_patients(GDSSHORT))\n",
    "GDSSHORT.head()\n",
    "\n",
    "### 'Symbol_Digit_Modalities.csv' - 1340 patients\n",
    "\n",
    "SDM=dict_files[files_names[13]]\n",
    "#print(number_of_patients(SDM))\n",
    "SDM.head()\n",
    "\n",
    "### 'State-Trait_Anxiety_Inventory.csv' - 1474 patients\n",
    "\n",
    "STAI=dict_files[files_names[14]]\n",
    "#print(number_of_patients(STAI))\n",
    "STAI.head()\n",
    "\n",
    "### 'Benton_Judgment_of_Line_Orientation.csv' - 1341 patients\n",
    "\n",
    "BENTONOD=dict_files[files_names[15]]\n",
    "#print(number_of_patients(BENTONOD))\n",
    "BENTONOD.head()\n",
    "\n",
    "### 'QUIP_Current_Short.csv' - 1346 patients\n",
    "\n",
    "QUIPCS=dict_files[files_names[16]]\n",
    "#print(number_of_patients(QUIPCS))\n",
    "QUIPCS.head()"
   ]
  },
  {
   "cell_type": "code",
   "execution_count": 39,
   "metadata": {},
   "outputs": [],
   "source": [
    "list_df=['PRODROMA','SCREEN','MUTRSLT',\n",
    "'LUMBAR','Biospecimen_Analysis',\n",
    "'PRIMDXPD','DIAGFEAT','MHXGEN','GENPHYEX','PENEURO','PENEURO2','PDFEAT','VITAL',\n",
    "'NUPDRS1','NUPDRS2P','NUPDRS3','NUPDRS4','PASE','PASELT','MODSEADL',\n",
    "'UPSIT','REMBHVDS','EPWORTH','LNSPD','OLFACT','REMSLEEP','COGTIME','SCOPAUT','COGCATG','HVLT',\n",
    "'MOCA','SFT','GDDSHORT','SDM','STAI','BENTONOD','QUIPCS']\n",
    "\n",
    "dict={}\n",
    "#for df in list_df: \n",
    "    #print(number_of_patients(df))\n",
    "    #dict[df]=len(patients_selection(df)[0])\n",
    "#dict"
   ]
  },
  {
   "cell_type": "markdown",
   "metadata": {},
   "source": [
    "# Datasets to investigate"
   ]
  },
  {
   "cell_type": "markdown",
   "metadata": {},
   "source": [
    "### Blood_Chemistry__Hematology - Contains information about patient blood. \n",
    "### Ask doctors if really useful. "
   ]
  },
  {
   "cell_type": "code",
   "execution_count": 13,
   "metadata": {},
   "outputs": [],
   "source": [
    "COVANCE=dict_files[files_names[12]]\n",
    "#COVANCE.head()"
   ]
  },
  {
   "cell_type": "markdown",
   "metadata": {},
   "source": [
    "### IUSM_Catalog - DNK - most likely useless\n",
    "#### seems ti be only metadata on the lab collections.\n",
    "Look @ the PPMI doc to understand what is this table"
   ]
  },
  {
   "cell_type": "code",
   "execution_count": 14,
   "metadata": {},
   "outputs": [],
   "source": [
    "IUSMCAT=dict_files[files_names[14]]\n",
    "#IUSMCAT.head()"
   ]
  },
  {
   "cell_type": "markdown",
   "metadata": {},
   "source": [
    "# Additionnal data that will be used later on (imaging data and medication data)"
   ]
  },
  {
   "cell_type": "markdown",
   "metadata": {},
   "source": [
    "## 4-Imaging - dataset not to be used for the time being."
   ]
  },
  {
   "cell_type": "code",
   "execution_count": 15,
   "metadata": {},
   "outputs": [],
   "source": [
    "folder_path='/Users/alicemartin/02_DSR_Project/parkinson-disease-project/data/PPMI-final-dataset-382018/4-Imaging/'\n",
    "files_names=reading_csv_files(folder_path)[1]\n",
    "dict_files=reading_csv_files(folder_path)[2]"
   ]
  },
  {
   "cell_type": "markdown",
   "metadata": {},
   "source": [
    "### FBB_Analysis_Data.csv"
   ]
  },
  {
   "cell_type": "code",
   "execution_count": 16,
   "metadata": {},
   "outputs": [],
   "source": [
    "FBBANAL=dict_files[files_names[0]]\n",
    "#FBBANAL.head()"
   ]
  },
  {
   "cell_type": "markdown",
   "metadata": {},
   "source": [
    "### AV-133_Image_Metadata.csv"
   ]
  },
  {
   "cell_type": "code",
   "execution_count": 17,
   "metadata": {},
   "outputs": [],
   "source": [
    "AV133META=dict_files[files_names[1]]\n",
    "#AV133META.head()"
   ]
  },
  {
   "cell_type": "markdown",
   "metadata": {},
   "source": [
    "### AV-133_Imaging.csv"
   ]
  },
  {
   "cell_type": "code",
   "execution_count": 18,
   "metadata": {},
   "outputs": [],
   "source": [
    "AVIMAG=dict_files[files_names[2]]\n",
    "#AVIMAG.head()"
   ]
  },
  {
   "cell_type": "markdown",
   "metadata": {},
   "source": [
    "### DaTscan_Imaging.csv"
   ]
  },
  {
   "cell_type": "code",
   "execution_count": 19,
   "metadata": {},
   "outputs": [],
   "source": [
    "DATSCAN=dict_files[files_names[3]]\n",
    "#DATSCAN.head()"
   ]
  },
  {
   "cell_type": "markdown",
   "metadata": {},
   "source": [
    "### SPECT_Scan_Information_Source_Document.csv"
   ]
  },
  {
   "cell_type": "code",
   "execution_count": 20,
   "metadata": {},
   "outputs": [],
   "source": [
    "SPECTSCANINFO=dict_files[files_names[4]]\n",
    "#SPECTSCANINFO.head()"
   ]
  },
  {
   "cell_type": "markdown",
   "metadata": {},
   "source": [
    "### AV-133_SBR_Results.csv"
   ]
  },
  {
   "cell_type": "code",
   "execution_count": 21,
   "metadata": {},
   "outputs": [],
   "source": [
    "AV133SBRRSLT=dict_files[files_names[5]]\n",
    "#AV133SBRRSLT.head()"
   ]
  },
  {
   "cell_type": "markdown",
   "metadata": {},
   "source": [
    "### Magnetic_Resonance_Imaging.csv"
   ]
  },
  {
   "cell_type": "code",
   "execution_count": 22,
   "metadata": {},
   "outputs": [],
   "source": [
    "MRI=dict_files[files_names[6]]\n",
    "#MRI.head()"
   ]
  },
  {
   "cell_type": "markdown",
   "metadata": {},
   "source": [
    "### DTI_Regions_of_Interest"
   ]
  },
  {
   "cell_type": "code",
   "execution_count": 23,
   "metadata": {},
   "outputs": [],
   "source": [
    "DTIROI=dict_files[files_names[7]]\n",
    "#DTIROI.head()"
   ]
  },
  {
   "cell_type": "markdown",
   "metadata": {},
   "source": [
    "### DaTSCAN_SPECT_Visual_Interpretation_Assessment.csv"
   ]
  },
  {
   "cell_type": "code",
   "execution_count": 24,
   "metadata": {},
   "outputs": [],
   "source": [
    "FBBMETA=dict_files[files_names[8]]\n",
    "#FBBMETA.head()"
   ]
  },
  {
   "cell_type": "markdown",
   "metadata": {},
   "source": [
    "### 'FBB_Metadata.csv'"
   ]
  },
  {
   "cell_type": "code",
   "execution_count": 25,
   "metadata": {},
   "outputs": [],
   "source": [
    "FBBMETA=dict_files[files_names[9]]\n",
    "#FBBMETA.head()"
   ]
  },
  {
   "cell_type": "markdown",
   "metadata": {},
   "source": [
    "### 'MRI_Imaging_Data_Transfer_Information_Source_Document.csv'"
   ]
  },
  {
   "cell_type": "code",
   "execution_count": 26,
   "metadata": {},
   "outputs": [],
   "source": [
    "MRIINFO=dict_files[files_names[10]]\n",
    "#MRIINFO.head()"
   ]
  },
  {
   "cell_type": "markdown",
   "metadata": {},
   "source": [
    "## Medications data & misc data - to be used later on."
   ]
  },
  {
   "cell_type": "markdown",
   "metadata": {},
   "source": [
    "### Family_History_PD - most likely useful but not to be used for now.\n",
    "#### Can be useful for detecting early PD"
   ]
  },
  {
   "cell_type": "code",
   "execution_count": 27,
   "metadata": {},
   "outputs": [],
   "source": [
    "FAMHXPD=dict_files[files_names[2]]\n",
    "#FAMHXPD.head()"
   ]
  },
  {
   "cell_type": "markdown",
   "metadata": {},
   "source": [
    "### 'Prodromal_Diagnostic_Questionnaire.csv': useful: Feat-Gen (PRIMDIAG & PSLVL2)\n",
    "#### NB: PSLV2 evaluates the proba of the patient being PD: might be useful for early PD. \n",
    "#### But not to be used in the main analysis as a feature (only for Prodromal - i.e 800 subjects)"
   ]
  },
  {
   "cell_type": "code",
   "execution_count": 28,
   "metadata": {},
   "outputs": [
    {
     "name": "stdout",
     "output_type": "stream",
     "text": [
      "(88, 6)\n"
     ]
    },
    {
     "ename": "KeyError",
     "evalue": "\"['REC_ID' 'F_STATUS' 'PAG_NAME' 'PRIMDIAG' 'OTHNEURO' 'PSLVL2'] not in index\"",
     "output_type": "error",
     "traceback": [
      "\u001b[0;31m---------------------------------------------------------------------------\u001b[0m",
      "\u001b[0;31mKeyError\u001b[0m                                  Traceback (most recent call last)",
      "\u001b[0;32m<ipython-input-28-1821e3da3628>\u001b[0m in \u001b[0;36m<module>\u001b[0;34m()\u001b[0m\n\u001b[1;32m      6\u001b[0m        'OTHNEURO', 'PSLVL2']\n\u001b[1;32m      7\u001b[0m \u001b[0mprint\u001b[0m\u001b[0;34m(\u001b[0m\u001b[0mnumber_of_patients\u001b[0m\u001b[0;34m(\u001b[0m\u001b[0mPRODIAG\u001b[0m\u001b[0;34m)\u001b[0m\u001b[0;34m)\u001b[0m\u001b[0;34m\u001b[0m\u001b[0m\n\u001b[0;32m----> 8\u001b[0;31m \u001b[0mPRODIAG_sel\u001b[0m\u001b[0;34m=\u001b[0m\u001b[0mPRODIAG\u001b[0m\u001b[0;34m[\u001b[0m\u001b[0mSEL\u001b[0m\u001b[0;34m]\u001b[0m\u001b[0;34m\u001b[0m\u001b[0m\n\u001b[0m\u001b[1;32m      9\u001b[0m \u001b[0mPRODIAG_sel\u001b[0m\u001b[0;34m.\u001b[0m\u001b[0mhead\u001b[0m\u001b[0;34m(\u001b[0m\u001b[0;34m)\u001b[0m\u001b[0;34m\u001b[0m\u001b[0m\n",
      "\u001b[0;32m/anaconda3/lib/python3.6/site-packages/pandas/core/frame.py\u001b[0m in \u001b[0;36m__getitem__\u001b[0;34m(self, key)\u001b[0m\n\u001b[1;32m   2677\u001b[0m         \u001b[0;32mif\u001b[0m \u001b[0misinstance\u001b[0m\u001b[0;34m(\u001b[0m\u001b[0mkey\u001b[0m\u001b[0;34m,\u001b[0m \u001b[0;34m(\u001b[0m\u001b[0mSeries\u001b[0m\u001b[0;34m,\u001b[0m \u001b[0mnp\u001b[0m\u001b[0;34m.\u001b[0m\u001b[0mndarray\u001b[0m\u001b[0;34m,\u001b[0m \u001b[0mIndex\u001b[0m\u001b[0;34m,\u001b[0m \u001b[0mlist\u001b[0m\u001b[0;34m)\u001b[0m\u001b[0;34m)\u001b[0m\u001b[0;34m:\u001b[0m\u001b[0;34m\u001b[0m\u001b[0m\n\u001b[1;32m   2678\u001b[0m             \u001b[0;31m# either boolean or fancy integer index\u001b[0m\u001b[0;34m\u001b[0m\u001b[0;34m\u001b[0m\u001b[0m\n\u001b[0;32m-> 2679\u001b[0;31m             \u001b[0;32mreturn\u001b[0m \u001b[0mself\u001b[0m\u001b[0;34m.\u001b[0m\u001b[0m_getitem_array\u001b[0m\u001b[0;34m(\u001b[0m\u001b[0mkey\u001b[0m\u001b[0;34m)\u001b[0m\u001b[0;34m\u001b[0m\u001b[0m\n\u001b[0m\u001b[1;32m   2680\u001b[0m         \u001b[0;32melif\u001b[0m \u001b[0misinstance\u001b[0m\u001b[0;34m(\u001b[0m\u001b[0mkey\u001b[0m\u001b[0;34m,\u001b[0m \u001b[0mDataFrame\u001b[0m\u001b[0;34m)\u001b[0m\u001b[0;34m:\u001b[0m\u001b[0;34m\u001b[0m\u001b[0m\n\u001b[1;32m   2681\u001b[0m             \u001b[0;32mreturn\u001b[0m \u001b[0mself\u001b[0m\u001b[0;34m.\u001b[0m\u001b[0m_getitem_frame\u001b[0m\u001b[0;34m(\u001b[0m\u001b[0mkey\u001b[0m\u001b[0;34m)\u001b[0m\u001b[0;34m\u001b[0m\u001b[0m\n",
      "\u001b[0;32m/anaconda3/lib/python3.6/site-packages/pandas/core/frame.py\u001b[0m in \u001b[0;36m_getitem_array\u001b[0;34m(self, key)\u001b[0m\n\u001b[1;32m   2721\u001b[0m             \u001b[0;32mreturn\u001b[0m \u001b[0mself\u001b[0m\u001b[0;34m.\u001b[0m\u001b[0m_take\u001b[0m\u001b[0;34m(\u001b[0m\u001b[0mindexer\u001b[0m\u001b[0;34m,\u001b[0m \u001b[0maxis\u001b[0m\u001b[0;34m=\u001b[0m\u001b[0;36m0\u001b[0m\u001b[0;34m)\u001b[0m\u001b[0;34m\u001b[0m\u001b[0m\n\u001b[1;32m   2722\u001b[0m         \u001b[0;32melse\u001b[0m\u001b[0;34m:\u001b[0m\u001b[0;34m\u001b[0m\u001b[0m\n\u001b[0;32m-> 2723\u001b[0;31m             \u001b[0mindexer\u001b[0m \u001b[0;34m=\u001b[0m \u001b[0mself\u001b[0m\u001b[0;34m.\u001b[0m\u001b[0mloc\u001b[0m\u001b[0;34m.\u001b[0m\u001b[0m_convert_to_indexer\u001b[0m\u001b[0;34m(\u001b[0m\u001b[0mkey\u001b[0m\u001b[0;34m,\u001b[0m \u001b[0maxis\u001b[0m\u001b[0;34m=\u001b[0m\u001b[0;36m1\u001b[0m\u001b[0;34m)\u001b[0m\u001b[0;34m\u001b[0m\u001b[0m\n\u001b[0m\u001b[1;32m   2724\u001b[0m             \u001b[0;32mreturn\u001b[0m \u001b[0mself\u001b[0m\u001b[0;34m.\u001b[0m\u001b[0m_take\u001b[0m\u001b[0;34m(\u001b[0m\u001b[0mindexer\u001b[0m\u001b[0;34m,\u001b[0m \u001b[0maxis\u001b[0m\u001b[0;34m=\u001b[0m\u001b[0;36m1\u001b[0m\u001b[0;34m)\u001b[0m\u001b[0;34m\u001b[0m\u001b[0m\n\u001b[1;32m   2725\u001b[0m \u001b[0;34m\u001b[0m\u001b[0m\n",
      "\u001b[0;32m/anaconda3/lib/python3.6/site-packages/pandas/core/indexing.py\u001b[0m in \u001b[0;36m_convert_to_indexer\u001b[0;34m(self, obj, axis, is_setter)\u001b[0m\n\u001b[1;32m   1325\u001b[0m                 \u001b[0;32mif\u001b[0m \u001b[0mmask\u001b[0m\u001b[0;34m.\u001b[0m\u001b[0many\u001b[0m\u001b[0;34m(\u001b[0m\u001b[0;34m)\u001b[0m\u001b[0;34m:\u001b[0m\u001b[0;34m\u001b[0m\u001b[0m\n\u001b[1;32m   1326\u001b[0m                     raise KeyError('{mask} not in index'\n\u001b[0;32m-> 1327\u001b[0;31m                                    .format(mask=objarr[mask]))\n\u001b[0m\u001b[1;32m   1328\u001b[0m \u001b[0;34m\u001b[0m\u001b[0m\n\u001b[1;32m   1329\u001b[0m                 \u001b[0;32mreturn\u001b[0m \u001b[0mcom\u001b[0m\u001b[0;34m.\u001b[0m\u001b[0m_values_from_object\u001b[0m\u001b[0;34m(\u001b[0m\u001b[0mindexer\u001b[0m\u001b[0;34m)\u001b[0m\u001b[0;34m\u001b[0m\u001b[0m\n",
      "\u001b[0;31mKeyError\u001b[0m: \"['REC_ID' 'F_STATUS' 'PAG_NAME' 'PRIMDIAG' 'OTHNEURO' 'PSLVL2'] not in index\""
     ]
    }
   ],
   "source": [
    "PRODIAG=dict_files[files_names[0]]\n",
    "#PRODIAG.head()\n",
    "#PRODIAG.columns\n",
    "\n",
    "SEL=['REC_ID', 'F_STATUS', 'PATNO', 'EVENT_ID', 'PAG_NAME', 'PRIMDIAG',\n",
    "       'OTHNEURO', 'PSLVL2']\n",
    "print(number_of_patients(PRODIAG))\n",
    "PRODIAG_sel=PRODIAG[SEL]\n",
    "PRODIAG_sel.head()"
   ]
  },
  {
   "cell_type": "markdown",
   "metadata": {},
   "source": [
    "### 'Signature_Form.csv' - most likely useful: Meds - but not to be used for now.\n",
    "#### Can be useful for the meds log"
   ]
  },
  {
   "cell_type": "code",
   "execution_count": null,
   "metadata": {},
   "outputs": [],
   "source": [
    "SIG=dict_files[files_names[10]]\n",
    "#SIG.head()"
   ]
  },
  {
   "cell_type": "markdown",
   "metadata": {},
   "source": [
    "### Use of PD Medication: useful: Meds - but not to be used for now."
   ]
  },
  {
   "cell_type": "code",
   "execution_count": null,
   "metadata": {},
   "outputs": [],
   "source": [
    "PDMEDUSE=dict_files[files_names[4]]\n",
    "#PDMEDUSE.head()"
   ]
  },
  {
   "cell_type": "markdown",
   "metadata": {},
   "source": [
    "### 'Concomitant_Medications.csv': useful: Meds - But not to be used for now."
   ]
  },
  {
   "cell_type": "code",
   "execution_count": null,
   "metadata": {},
   "outputs": [],
   "source": [
    "CMED=dict_files[files_names[6]]\n",
    "#CMED.head()"
   ]
  },
  {
   "cell_type": "markdown",
   "metadata": {},
   "source": [
    "### 'Current_Medical_Conditions_Log.csv': useful: Meds - but not to be used for now. "
   ]
  },
  {
   "cell_type": "code",
   "execution_count": null,
   "metadata": {},
   "outputs": [],
   "source": [
    "### 'Current_Medical_Conditions_Log.csv': Meds\n",
    "CURRCOND=dict_files[files_names[8]]\n",
    "#CURRCOND.head()"
   ]
  },
  {
   "cell_type": "markdown",
   "metadata": {},
   "source": [
    "### 'Adverse_Event_Log.csv': useful: Meds - but not to be used for now.\n",
    "#### Measures the side effects of the meds taken for PD."
   ]
  },
  {
   "cell_type": "code",
   "execution_count": null,
   "metadata": {},
   "outputs": [],
   "source": [
    "LOG=dict_files[files_names[9]]\n",
    "#LOG.head()"
   ]
  },
  {
   "cell_type": "markdown",
   "metadata": {},
   "source": [
    "### 'Surgery_for_Parkinson_Disease.csv': useful: Meds - but not to be used for now."
   ]
  },
  {
   "cell_type": "code",
   "execution_count": null,
   "metadata": {},
   "outputs": [],
   "source": [
    "SURGPD=dict_files[files_names[12]]\n",
    "#SURGPD.head()"
   ]
  },
  {
   "cell_type": "markdown",
   "metadata": {},
   "source": [
    "## Datasets with two few data points (not enough patients)"
   ]
  },
  {
   "cell_type": "markdown",
   "metadata": {},
   "source": [
    "### Skin_Biopsy - useful: Feat-bio (wound closure) - only 26 patients..."
   ]
  },
  {
   "cell_type": "code",
   "execution_count": null,
   "metadata": {},
   "outputs": [],
   "source": [
    "SKBIO=dict_files[files_names[1]]\n",
    "#SKBIO.head()\n",
    "#SKBIO.columns\n",
    "\n",
    "SEL=['REC_ID','PATNO', 'EVENT_ID', 'PAG_NAME', 'INFODT','SKBIOCMP','WOUNDCLS']\n",
    "SKBIO_sel=SKBIO[SEL]\n",
    "print(number_of_patients(SKBIO))\n",
    "SKBIO_sel.head()\n",
    "#list(set(SKBIO_sel['EVENT_ID']))"
   ]
  },
  {
   "cell_type": "markdown",
   "metadata": {},
   "source": [
    "### IPSC_Labs: useful - Feat-bio: blood, liver disease, heparin(?), myeloma(?) stuff (linked to Med dose history)\n",
    "### ONLY 137 patients..."
   ]
  },
  {
   "cell_type": "code",
   "execution_count": null,
   "metadata": {},
   "outputs": [],
   "source": [
    "### ISPC_Labs: useful - Feat-bio\n",
    "#### Select only history of liver disease and multiple myeloma (can be useful for treatments strategies)\n",
    "IPSCLAB=dict_files[files_names[5]]\n",
    "#IPSCLAB.head()\n",
    "IPSCLAB.columns\n",
    "\n",
    "SEL=['REC_ID','PATNO', 'EVENT_ID', 'PAG_NAME', 'INFODT',\n",
    "       'PDMEDYN', 'PDMEDDT', 'PDMEDTM', 'WARFBEF', 'HEPBEF', 'HXLIVER',\n",
    "       'HXMMYLMA', 'BLDLTH', 'LTHTM', 'LTHINVN', 'BLDSST', 'BLDCPT']\n",
    "# we might be able to remove some features. \n",
    "print(number_of_patients(IPSCLAB))\n",
    "IPSCLAB_sel=IPSCLAB[SEL]\n",
    "IPSCLAB_sel.head()\n",
    "#list(set(IPSCLAB_sel['EVENT_ID']))"
   ]
  },
  {
   "cell_type": "markdown",
   "metadata": {},
   "source": [
    "### 'Clinical_Diagnosis_and_Management.csv': Feat-PD - only 73 patients..."
   ]
  },
  {
   "cell_type": "code",
   "execution_count": null,
   "metadata": {},
   "outputs": [],
   "source": [
    "### 'Clinical_Diagnosis_and_Management.csv': Feat-PD\n",
    "CLINDX=dict_files[files_names[2]]\n",
    "CLINDX.head()\n",
    "#CLINDX.columns\n",
    "\n",
    "SEL=['REC_ID', 'PATNO', 'EVENT_ID', 'PAG_NAME', 'INFODT',\n",
    "       'PSLVL', 'DCNOMTR', 'DCRTREM', 'DCRIGID', 'DCBRADY', 'DFPGDIST',\n",
    "       'DFOTH', 'PRIMDIAG', 'OTHNEURO', 'CLDXCHNG', 'DXFDTIMG',\n",
    "       'DXFCLSGN', 'DXFRSPMD', 'DXFNATHX', 'DXFOTH', 'DXFOTHCM', 'MNGCHNG',\n",
    "       'MNGTRTSX', 'MNGTRIAL', 'MNGTRTOT', 'MNGDXTST', 'MNGNOTRT',\n",
    "       'NEURWKDX']\n",
    "print(number_of_patients(CLINDX))\n",
    "CLINDX_sel=CLINDX[SEL]\n",
    "CLINDX_sel.head()\n",
    "#list(set(CLINDX_sel['EVENT_ID']))"
   ]
  },
  {
   "cell_type": "markdown",
   "metadata": {},
   "source": [
    "### 'TAP-PD_OPDM_Assessment.csv' - only 173 patients...\n"
   ]
  },
  {
   "cell_type": "code",
   "execution_count": null,
   "metadata": {
    "scrolled": true
   },
   "outputs": [],
   "source": [
    "TAPOPDM=dict_files[files_names[8]]\n",
    "print(number_of_patients(TAPOPDM))\n",
    "TAPOPDM.head()"
   ]
  },
  {
   "cell_type": "markdown",
   "metadata": {},
   "source": [
    "### 'TAP-PD_OPDM_Use_Questionnaire.csv' - only 32 patients"
   ]
  },
  {
   "cell_type": "code",
   "execution_count": null,
   "metadata": {
    "scrolled": true
   },
   "outputs": [],
   "source": [
    "TAPUSE=dict_files[files_names[1]]\n",
    "print(number_of_patients(TAPUSE))\n",
    "TAPUSE.head()"
   ]
  },
  {
   "cell_type": "markdown",
   "metadata": {},
   "source": [
    "### 'Gait_Data___Arm_swing.csv' - not sure if we should consider this dataset. - only 62 patients..."
   ]
  },
  {
   "cell_type": "code",
   "execution_count": null,
   "metadata": {},
   "outputs": [],
   "source": [
    "GAITDATA=dict_files[files_names[4]]\n",
    "print(number_of_patients(GAITDATA))\n",
    "GAITDATA.head()"
   ]
  },
  {
   "cell_type": "markdown",
   "metadata": {},
   "source": [
    "### 'TAP-PD_Kinetics_Device_Testing.csv' - Idem for this one- not sure it is essential to consider it.\n",
    "#### NO TS data. \n",
    "### Only 32 patients..."
   ]
  },
  {
   "cell_type": "code",
   "execution_count": null,
   "metadata": {},
   "outputs": [],
   "source": [
    "KINETICS=dict_files[files_names[9]]\n",
    "print(number_of_patients(KINETICS))\n",
    "KINETICS.head()"
   ]
  }
 ],
 "metadata": {
  "kernelspec": {
   "display_name": "Python 3",
   "language": "python",
   "name": "python3"
  },
  "language_info": {
   "codemirror_mode": {
    "name": "ipython",
    "version": 3
   },
   "file_extension": ".py",
   "mimetype": "text/x-python",
   "name": "python",
   "nbconvert_exporter": "python",
   "pygments_lexer": "ipython3",
   "version": "3.6.4"
  }
 },
 "nbformat": 4,
 "nbformat_minor": 2
}
