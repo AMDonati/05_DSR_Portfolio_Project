{
 "cells": [
  {
   "cell_type": "markdown",
   "metadata": {},
   "source": [
    "### TO DO - Aug 22th\n",
    "* solve the issue of calculation of the number of pads and number of drops, number of crops. "
   ]
  },
  {
   "cell_type": "code",
   "execution_count": 1,
   "metadata": {},
   "outputs": [],
   "source": [
    "#imports \n",
    "import numpy as np \n",
    "import pandas as pd \n",
    "import matplotlib.pyplot as plt\n",
    "import seaborn as sns\n",
    "import urllib.parse\n",
    "from glob import glob\n",
    "import os\n",
    "import ntpath \n",
    "import zipfile"
   ]
  },
  {
   "cell_type": "code",
   "execution_count": 2,
   "metadata": {},
   "outputs": [],
   "source": [
    "def reading_csv_files(folder_path):\n",
    "    '''PRE-PROCESSING: reading the csv file on a particular folder'''\n",
    "    \n",
    "    # saving all the csv files in a dataframe\n",
    "    import os\n",
    "    import glob\n",
    "    # glob.glob('*.csv') #find all the csv files in a pathname. \n",
    "    os.chdir(folder_path)\n",
    "    csv_files = [i for i in glob.glob('*.csv')]\n",
    "\n",
    "    # Reading each csv file and storing them in a dictionnary containing the file name and the dataframe\n",
    "    dict_files={}\n",
    "    files_names=[]\n",
    "    for files in csv_files:\n",
    "        df=pd.read_csv(files,engine='python')\n",
    "        basepath, filename=ntpath.split(files)\n",
    "        files_names.append(filename)\n",
    "        dict_files[filename]=df\n",
    "\n",
    "    # Calculating the # of rows and features for each dataframe and storing them in a list of tuples\n",
    "    shape_df=[]\n",
    "    for i in range(0,len(dict_files.keys())):\n",
    "        nrows, ncols=(len(dict_files[files_names[i]]),len(dict_files[files_names[i]].columns))\n",
    "        shape_df.append((nrows,ncols))\n",
    "\n",
    "    return (shape_df,files_names,dict_files)\n",
    "\n",
    "def number_of_patients(df):\n",
    "    '''PRE_PROCESSING: return the number of patients in each csv files'''\n",
    "    if 'PATNO' in df.columns:\n",
    "        patients=len(list(set(df['PATNO'])))\n",
    "    else: \n",
    "        patients=0\n",
    "    return patients\n",
    "\n",
    "# to change by adding the max sequence length. \n",
    "def number_of_events(df): \n",
    "    '''PRE_PROCESSING: return the number of events covered by each csv file'''\n",
    "    if 'EVENT_ID' in df.columns:\n",
    "        events=len(list(set(df['EVENT_ID'])))\n",
    "    else: \n",
    "        events=0\n",
    "    return events\n",
    "\n",
    "def features_selection(list_df_sel):\n",
    "    '''PRE PROCESSING: do features selection for each df,sel in list_df_sel'''\n",
    "    return df_sel\n",
    "\n",
    "def patients_selection(df, threshold=6):\n",
    "    '''PRE-PROCESSING: return a dataframe containing only the patients with number of visits > threshold'''\n",
    "    if 'PATNO' in df.columns: \n",
    "        visits_number_by_pat=df.groupby('PATNO').size().sort_values(ascending=False)\n",
    "        mask_sel=visits_number_by_pat>=threshold\n",
    "        patients_sel=list(mask_sel[mask_sel.values==True].index)\n",
    "        df=df.loc[df['PATNO'].isin(patients_sel),:]\n",
    "        df=df.sort_values('PATNO')\n",
    "        return (patients_sel, df)\n",
    "    else:\n",
    "        return 0\n",
    "\n",
    "def padding_cropping_analysis(df,input_timesteps=4,th_drop=2):\n",
    "    \n",
    "    '''Return the number of crops, pads, drops to do in function of the length of the input \n",
    "    sequence and the threshold of pads allowed'''\n",
    "    \n",
    "    ## Write some assert statement for this function\n",
    "    visits_number=df.groupby('PATNO').size().sort_values(ascending=False)\n",
    "\n",
    "    patients_cropping=visits_number[visits_number>input_timesteps].to_frame().rename(columns=dict(zip([0],['visits_num'])))\n",
    "    patients_nothing=visits_number[visits_number==input_timesteps].to_frame().rename(columns=dict(zip([0],['visits_num'])))\n",
    "    patients_dropping=visits_number[visits_number<input_timesteps-th_drop].to_frame().rename(columns=dict(zip([0],['visits_num'])))\n",
    "    pad_mask=((visits_number>=(input_timesteps-2)) & (visits_number<input_timesteps))\n",
    "    patients_padding=visits_number[pad_mask].to_frame().rename(columns=dict(zip([0],['visits_num'])))\n",
    "\n",
    "    patients_cropping['processing_op']='cropping'\n",
    "    patients_cropping['op_num']=patients_cropping['visits_num']-(input_timesteps)\n",
    "    num_crops=patients_cropping['op_num'].sum()\n",
    "    \n",
    "    patients_nothing['processing_op']='nothing'\n",
    "    patients_nothing['op_num']=patients_nothing['visits_num']-(input_timesteps)\n",
    "    \n",
    "    assert patients_nothing['op_num'].sum()==0\n",
    "    \n",
    "    patients_dropping['processing_op']='dropping'\n",
    "    patients_dropping['op_num']=(input_timesteps-2)-patients_dropping['visits_num']\n",
    "    num_drops=patients_dropping['op_num'].sum()\n",
    "    \n",
    "    patients_padding['processing_op']='padding'\n",
    "    patients_padding['op_num']=(input_timesteps)-patients_padding['visits_num']\n",
    "    num_pads=patients_padding['op_num'].sum()\n",
    "\n",
    "    df_visits=pd.concat([patients_dropping,patients_padding,patients_nothing,patients_cropping],axis=0)\n",
    "  \n",
    "    #operations_num=df_visits.groupby('processing_op').size()\n",
    "    #index=list(operations_num.index)\n",
    "    #index_values=[operations_num[i] for i in index]\n",
    "    #num_pat=dict(zip(index,index_values))\n",
    "    \n",
    "    return (df_visits, dict(zip(['drops','pads','crops'],[num_drops,num_pads,num_crops])))\n",
    "\n",
    "def table_analysis(list_df,df_names,threshold=6,input_timesteps=4,th_drop=2): \n",
    "    '''PRE-PROCESSING: return a dataframe with: \n",
    "    -as rows: list of df\n",
    "    -as columns: \n",
    "        - total number of observations=rows\n",
    "        - total number of features=columns after features_selection - features_selection function \n",
    "        - number of events\n",
    "        - number of PD patients by using PRODROMA info - number_of_patients function\n",
    "        - number of patients with # of visits > threshold - number_of_patients function\n",
    "        - shape of final df after selections of rows and columns\n",
    "        -number of NaN values in the final df\n",
    "        NB: takes as input the df with features selection. \n",
    "    '''   \n",
    "    # initialisation df\n",
    "    col=['observations_tot','features','events_num','patients_num',\n",
    "         'patients_sel','len_df_sel','drops','pads','crops','new_len','NaN_values']\n",
    "    df_df=pd.DataFrame(columns=col,index=df_names)\n",
    "\n",
    "    # remplissage of dataframe for each row\n",
    "    for i,df in enumerate(list_df):\n",
    "        \n",
    "        df_df.iloc[i,:]['observations_tot']=len(df)\n",
    "        df_df.iloc[i,:]['features']=len(df.columns)\n",
    "        df_df.iloc[i,:]['events_num']=number_of_events(df)\n",
    "        df_df.iloc[i,:]['patients_num']=number_of_patients(df)\n",
    "        \n",
    "        if not patients_selection(df)==0:\n",
    "            df=patients_selection(df,threshold=threshold)[1]          \n",
    "            df_df.iloc[i,:]['patients_sel']=len(set(df['PATNO']))\n",
    "        else: \n",
    "            if 'PATNO' in df.columns:\n",
    "                df_df.iloc[i,:]['patients_sel']=len(set(df['PATNO']))\n",
    "            else:\n",
    "                df_df.iloc[i,:]['patients_sel']=0            \n",
    "        df_df.iloc[i,:]['len_df_sel']=len(df)\n",
    "        df_df.iloc[i,:]['NaN_values']=(df.isnull().sum().sum())/(df_df.iloc[i,:]['len_df_sel']*df_df.iloc[i,:]['features'])\n",
    "        \n",
    "        \n",
    "        if 'drops' in list(padding_cropping_analysis(df)[1].keys()):\n",
    "            df_df.iloc[i,:]['drops']=padding_cropping_analysis(df,input_timesteps=input_timesteps,th_drop=th_drop)[1]['drops']\n",
    "        else:\n",
    "            df_df.iloc[i,:]['drops']=0\n",
    "            \n",
    "        if 'pads' in list(padding_cropping_analysis(df)[1].keys()):\n",
    "            df_df.iloc[i,:]['pads']=padding_cropping_analysis(df,input_timesteps=input_timesteps,th_drop=th_drop)[1]['pads']\n",
    "        else:\n",
    "            df_df.iloc[i,:]['pads']=0\n",
    "            \n",
    "        if 'crops' in list(padding_cropping_analysis(df)[1].keys()):\n",
    "            df_df.iloc[i,:]['crops']=padding_cropping_analysis(df,input_timesteps=input_timesteps,th_drop=th_drop)[1]['crops']\n",
    "        else:\n",
    "            df_df.iloc[i,:]['crops']=0\n",
    "            \n",
    "        df_df.iloc[i,:]['new_len']=input_timesteps*df_df.iloc[i,:]['patients_num']-df_df.iloc[i,:]['drops']\n",
    "\n",
    "    return df_df\n",
    "\n",
    "def INFODT_date(df):\n",
    "    '''PRE_PROCESSING: add a datetime for the timeseries'''\n",
    "    if 'INFODT' in df.columns: \n",
    "        df['INFODT_date']=df['INFODT'].apply(lambda x: datetime.strptime(x,'%m/%Y'))\n",
    "    return df"
   ]
  },
  {
   "cell_type": "markdown",
   "metadata": {},
   "source": [
    "## 1-Subject-Characteristics"
   ]
  },
  {
   "cell_type": "code",
   "execution_count": 11,
   "metadata": {},
   "outputs": [
    {
     "name": "stdout",
     "output_type": "stream",
     "text": [
      "number of PD patients:1052\n",
      "2144\n"
     ]
    }
   ],
   "source": [
    "folder_path='/Users/alicemartin/02_DSR_Project/parkinson-disease-project/data/PPMI-final-dataset-382018/1-Subject-Characteristics/'\n",
    "files_names=reading_csv_files(folder_path)[1]\n",
    "dict_files=reading_csv_files(folder_path)[2]\n",
    "\n",
    "### Patient_Status - actually useful for selecting only the PD patients in each table\n",
    "PRODROMA=dict_files[files_names[0]]\n",
    "PD_cat=['PD','REGPD','GENPD']\n",
    "PD_patients=list(PRODROMA.loc[PRODROMA['RECRUITMENT_CAT'].isin(PD_cat),'PATNO'])\n",
    "print('number of PD patients:{}'.format(len(PD_patients)))\n",
    "\n",
    "\n",
    "### Screening__Demographics - useful\n",
    "#### NOT TS DATA\n",
    "SCREEN=dict_files[files_names[3]]\n",
    "SEL=['REC_ID', 'PATNO', 'EVENT_ID', 'PAG_NAME',\n",
    "       'CONSNTDT', 'APPRDX', 'CURRENT_APPRDX', 'P3GRP', 'BIRTHDT', 'GENDER',\n",
    "       'HISPLAT', 'RAINDALS', 'RAASIAN', 'RABLACK', 'RAHAWOPI', 'RAWHITE',\n",
    "       'RANOS', 'PRJENRDT']\n",
    "SCREEN_sel=SCREEN[SEL]\n",
    "print(number_of_patients(SCREEN))"
   ]
  },
  {
   "cell_type": "markdown",
   "metadata": {},
   "source": [
    "## 5-Medical History"
   ]
  },
  {
   "cell_type": "code",
   "execution_count": 12,
   "metadata": {},
   "outputs": [],
   "source": [
    "folder_path='/Users/alicemartin/02_DSR_Project/parkinson-disease-project/data/PPMI-final-dataset-382018/5-Medical-History/'\n",
    "files_names=reading_csv_files(folder_path)[1]\n",
    "dict_files=reading_csv_files(folder_path)[2]\n",
    "\n",
    "### 'Diagnostic_Features.csv': useful: Feat-PD - 1670 patients.\n",
    "\n",
    "DIAGFEAT=dict_files[files_names[1]]\n",
    "SEL=['REC_ID', 'PATNO', 'EVENT_ID', 'PAG_NAME', 'INFODT',\n",
    "       'DFSTROKE', 'DFRSKFCT', 'DFPRESNT', 'DFRPROG', 'DFSTATIC', 'DFHEMPRK',\n",
    "       'DFAGESX', 'DFOTHCRS', 'DFCRSCM', 'DFRTREMP', 'DFRTREMA', 'DFPATREM',\n",
    "       'DFOTHTRM', 'DFTREMCM', 'DFRIGIDP', 'DFRIGIDA', 'DFAXRIG', 'DFUNIRIG',\n",
    "       'DFTONE', 'DFOTHRIG', 'DFRIGCM', 'DFBRADYP', 'DFBRADYA', 'DFAKINES',\n",
    "       'DFBRPLUS', 'DFOTHABR', 'DFABRCM', 'DFPGDIST', 'DFGAIT', 'DFFREEZ',\n",
    "       'DFFALLS', 'DFOTHPG', 'DFPGCM', 'DFPSYCH', 'DFCOGNIT', 'DFDYSTON',\n",
    "       'DFCHOREA', 'DFMYOCLO', 'DFOTHHYP', 'DFHYPCM', 'DFHEMTRO', 'DFPSHYPO',\n",
    "       'DFSEXDYS', 'DFURDYS', 'DFBWLDYS', 'DFOCULO', 'DFEYELID', 'DFNEURAB',\n",
    "       'DFDOPRSP', 'DFRAPSPE', 'DFBULBAR', 'DFCTSCAN', 'DFMRI', 'DFATYP']\n",
    "DIAGFEAT_sel=DIAGFEAT[SEL]\n",
    "\n",
    "### 'General_Medical_History.csv': useful: Feat-Gen - 2067 patients\n",
    "#### NOT TS DATA...\n",
    "\n",
    "MHXGEN=dict_files[files_names[3]]\n",
    "SEL=['REC_ID', 'PATNO', 'EVENT_ID', 'PAG_NAME', 'INFODT',\n",
    "       'MHCAT', 'MHROW', 'MHHX', 'MHACTRES', 'MHDIAGYR', \n",
    "     'PT_CODE', 'PT_NAME', 'HLT_NAME', 'SOCABBR1']\n",
    "# I need probably to select less features here\n",
    "MHXGEN_sel=MHXGEN[SEL]\n",
    "\n",
    "### General_Physical_Exam: useful: Feat-Gen - 2047 patients\n",
    "GENPHYEX=dict_files[files_names[5]]\n",
    "SEL=['REC_ID', 'PATNO', 'EVENT_ID', 'PAG_NAME', 'INFODT',\n",
    "       'PESEQ', 'PECAT', 'ABNORM']\n",
    "GENPHYEX_sel=GENPHYEX[SEL]\n",
    "\n",
    "### 'General_Neurological_Exam.csv': useful: Feat-Gen - 2048 patients\n",
    "PENEURO=dict_files[files_names[7]]\n",
    "SEL=['REC_ID', 'PATNO', 'EVENT_ID', 'PAG_NAME', 'INFODT',\n",
    "       'MSRARSP', 'MSRACM', 'MSLARSP', 'MSLACM', 'MSRLRSP', 'MSRLCM',\n",
    "       'MSLLRSP', 'MSLLCM', 'COFNRRSP', 'COFNRCM', 'COFNLRSP', 'COFNLCM',\n",
    "       'COHSRRSP', 'COHSRCM', 'COHSLRSP', 'COHSLCM', 'SENRARSP', 'SENRACM',\n",
    "       'SENLARSP', 'SENLACM', 'SENRLRSP', 'SENRLCM', 'SENLLRSP', 'SENLLCM',\n",
    "       'RFLRARSP', 'RFLRACM', 'RFLLARSP', 'RFLLACM', 'RFLRLRSP', 'RFLRLCM',\n",
    "       'RFLLLRSP', 'RFLLLCM', 'PLRRRSP', 'PLRRCM', 'PLRLRSP', 'PLRLCM']\n",
    "PENEURO_sel=PENEURO[SEL]\n",
    "\n",
    "### 'Neurological_Exam_-_Cranial_Nerves.csv': useful: Feat-PD - 2049 patients\n",
    "PENEURO2=dict_files[files_names[13]]\n",
    "SEL=['REC_ID', 'PATNO', 'EVENT_ID', 'PAG_NAME', 'INFODT',\n",
    "       'CN1RSP','CN2RSP', 'CN346RSP','CN5RSP',\n",
    "     'CN7RSP', 'CN8RSP', 'CN910RSP',\n",
    "       'CN11RSP', 'CN12RSP']\n",
    "PENEURO2_sel=PENEURO2[SEL]\n",
    "\n",
    "### 'PD_Features.csv': useful: Feat-PD - caution: these are actually not timeseries but examination only done at screening (SC), BL & V04\n",
    "### 1017 patients\n",
    "PDFEAT=dict_files[files_names[14]]\n",
    "SEL=['REC_ID', 'PATNO', 'EVENT_ID', 'PAG_NAME', 'INFODT', 'SXMO',\n",
    "       'SXYEAR', 'PDDXDT', 'DXTREMOR', 'DXRIGID', 'DXBRADY',\n",
    "       'DXPOSINS', 'DXOTHSX','DOMSIDE','DOMSIDE']\n",
    "PDFEAT_sel=PDFEAT[SEL]\n",
    "#list(set(PDFEAT_sel['DXOTHCM'])) - see if we remove the comment feature or not.\n",
    "\n",
    "### 'Vital_Signs.csv': useful: Feat-Gen\n",
    "### 2047 patients\n",
    "VITAL=dict_files[files_names[15]]\n",
    "SEL=['REC_ID', 'PATNO', 'EVENT_ID', 'PAG_NAME', 'INFODT',\n",
    "       'WGTKG', 'HTCM', 'TEMPC', 'SYSSUP', 'DIASUP', 'HRSUP',\n",
    "       'SYSSTND', 'DIASTND', 'HRSTND']\n",
    "VITAL_sel=VITAL[SEL]"
   ]
  },
  {
   "cell_type": "markdown",
   "metadata": {},
   "source": [
    "## 6-Motor-Assessments - all of them can be useful. \n",
    "* UPDRS1 assesses non-motor experiences of daily-living \n",
    "* UPDRS2P assesses motor experiences of daily living\n",
    "* UPDRS3 assesses motor signs of PD. Includes Hoehn & Yahr Stage. \n",
    "* UPDRS4 assesses motor complications, dyskinesias, & moto fluctuations using historical & objective information.  \n",
    "\n",
    "**NHY from NUPDRS3 & MODSEALG are the 2 possible targets (cat variables)**"
   ]
  },
  {
   "cell_type": "code",
   "execution_count": 14,
   "metadata": {},
   "outputs": [],
   "source": [
    "folder_path='/Users/alicemartin/02_DSR_Project/parkinson-disease-project/data/PPMI-final-dataset-382018/6-Motor-Assessments/'\n",
    "files_names=reading_csv_files(folder_path)[1]\n",
    "dict_files=reading_csv_files(folder_path)[2]\n",
    "\n",
    "### 'MDS_UPDRS_Part_I__Patient_Questionnaire.csv' - 2011 patients\n",
    "NUPDR1SP=dict_files[files_names[0]]\n",
    "\n",
    "### 'MDS_UPDRS_Part_I.csv' - 2010 patients - \n",
    "NUPDRS1=dict_files[files_names[2]]\n",
    "SEL=['REC_ID', 'PATNO', 'EVENT_ID', 'PAG_NAME', 'INFODT',\n",
    "       'NP1COG', 'NP1HALL', 'NP1DPRS', 'NP1ANXS', 'NP1APAT',\n",
    "       'NP1DDS']\n",
    "NUPDRS1_sel=NUPDRS1[SEL]\n",
    "\n",
    "### 'MDS_UPDRS_Part_II__Patient_Questionnaire.csv' - 2011 patients\n",
    "NUPDRS2P=dict_files[files_names[11]]\n",
    "SEL=['REC_ID', 'PATNO', 'EVENT_ID', 'PAG_NAME', 'INFODT',\n",
    "       'NP2SPCH', 'NP2SALV', 'NP2SWAL', 'NP2EAT', 'NP2DRES',\n",
    "       'NP2HYGN', 'NP2HWRT', 'NP2HOBB', 'NP2TURN', 'NP2TRMR', 'NP2RISE',\n",
    "       'NP2WALK', 'NP2FREZ']\n",
    "NUPDRS2P_sel=NUPDRS2P[SEL]\n",
    "\n",
    "### 'MDS_UPDRS_Part_III.csv' - 2010 patients\n",
    "NUPDRS3=dict_files[files_names[7]]\n",
    "SEL=['REC_ID', 'PATNO', 'EVENT_ID', 'PAG_NAME', 'INFODT',\n",
    "       'CMEDTM', 'NP3SPCH', 'NP3FACXP', 'NP3RIGN', 'NP3RIGRU',\n",
    "       'NP3RIGLU', 'PN3RIGRL', 'NP3RIGLL', 'NP3FTAPR', 'NP3FTAPL', 'NP3HMOVR',\n",
    "       'NP3HMOVL', 'NP3PRSPR', 'NP3PRSPL', 'NP3TTAPR', 'NP3TTAPL', 'NP3LGAGR',\n",
    "       'NP3LGAGL', 'NP3RISNG', 'NP3GAIT', 'NP3FRZGT', 'NP3PSTBL', 'NP3POSTR',\n",
    "       'NP3BRADY', 'NP3PTRMR', 'NP3PTRML', 'NP3KTRMR', 'NP3KTRML', 'NP3RTARU',\n",
    "       'NP3RTALU', 'NP3RTARL', 'NP3RTALL', 'NP3RTALJ', 'NP3RTCON', 'DYSKPRES',\n",
    "       'DYSKIRAT', 'NHY', 'ANNUAL_TIME_BTW_DOSE_NUPDRS', 'ON_OFF_DOSE',\n",
    "       'PD_MED_USE']\n",
    "NUPDRS3_sel=NUPDRS3[SEL]\n",
    "\n",
    "### 'MDS_UPDRS_Part_IV.csv' - 860 patients\n",
    "NUPDRS4=dict_files[files_names[5]]\n",
    "SEL=['REC_ID', 'PATNO', 'EVENT_ID', 'PAG_NAME', 'INFODT',\n",
    "       'NP4WDYSK', 'NP4DYSKI', 'NP4OFF', 'NP4FLCTI', 'NP4FLCTX', 'NP4DYSTN']\n",
    "NUPDRS4_sel=NUPDRS4[SEL]\n",
    "\n",
    "### 'PASE_-_Household_Activity.csv' - 1248 patients\n",
    "PASE=dict_files[files_names[3]]\n",
    "### 'PASE_-_Leisure_Time_Activity.csv' - 1248 patients\n",
    "PASELT=dict_files[files_names[10]]\n",
    "\n",
    "### 'Modified_Schwab_+_England_ADL.csv' - 1837 patients\n",
    "MODSEADL=dict_files[files_names[6]]"
   ]
  },
  {
   "cell_type": "markdown",
   "metadata": {},
   "source": [
    "## 7-Non-motor-assessments - all of them can be useful but we might need to choose. \n",
    "### Do a correlation analysis and ask doctors which ones are the more relevant. "
   ]
  },
  {
   "cell_type": "code",
   "execution_count": 15,
   "metadata": {},
   "outputs": [],
   "source": [
    "folder_path='/Users/alicemartin/02_DSR_Project/parkinson-disease-project/data/PPMI-final-dataset-382018/7-Non-motor-assessments/'\n",
    "files_names=reading_csv_files(folder_path)[1]\n",
    "dict_files=reading_csv_files(folder_path)[2]\n",
    "\n",
    "### 'University_of_Pennsylvania_Smell_ID_Test.csv' - 1799 patients - OLFACTION\n",
    "UPSIT=dict_files[files_names[0]]\n",
    "UPSIT.head()\n",
    "\n",
    "### 'Epworth_Sleepiness_Scale.csv - 1343 patients - SLEEP. \n",
    "EPWORTH=dict_files[files_names[2]]\n",
    "EPWORTH.head()\n",
    "\n",
    "### 'Letter_-_Number_Sequencing__PD_.csv' - 1341 patients. - MEMORY. \n",
    "LNSPD=dict_files[files_names[3]]\n",
    "LNSPD.head()\n",
    "\n",
    "### 'Olfactory_UPSIT.csv' - 4468 patients - OLFACTION. \n",
    "#### NB: only take the 2 last columns as features (TOTAL_CORRECT, UPSIIT_PRCNTGE)\n",
    "OLFACT=dict_files[files_names[4]]\n",
    "OLFACT.head()\n",
    "\n",
    "### 'REM_Sleep_Disorder_Questionnaire.csv' - 1810 patients - SLEEP. \n",
    "REMSLEEP=dict_files[files_names[5]]\n",
    "REMSLEEP.head()\n",
    "\n",
    "### 'Cognitive_Assessments.csv' - 1172 patients\n",
    "COGTIME=dict_files[files_names[6]]\n",
    "COGTIME.head()\n",
    "\n",
    "### 'SCOPA-AUT.csv' - 1345 patients - AUTOMATIC DYSFUNCTIONS\n",
    "SCOPAAUT=dict_files[files_names[7]]\n",
    "SCOPAAUT.head()\n",
    "\n",
    "### Cognitive_Categorization.csv' - 1302 patients - DEMENTIA/MILD COGNITIVE IMPAIRMENT\n",
    "COGCATG=dict_files[files_names[8]]\n",
    "COGCATG.head()\n",
    "\n",
    "### 'Hopkins_Verbal_Learning_Test.csv' - 1341 patients - MEMORY\n",
    "HVLT=dict_files[files_names[9]]\n",
    "HVLT.head()\n",
    "\n",
    "### 'Montreal_Cognitive_Assessment__MoCA_.csv' - 2054 patients - MILD COGNITIVE IMPAIRMENT - PD \n",
    "MOCA=dict_files[files_names[10]]\n",
    "MOCA.head()\n",
    "\n",
    "### 'Semantic_Fluency.csv' - 1342 patients - Lexical/Semantic Fluency\n",
    "SFT=dict_files[files_names[11]]\n",
    "SFT.head()\n",
    "\n",
    "### 'Geriatric_Depression_Scale__Short_.csv' - 1478 patients - DEPRESSION\n",
    "GDSSHORT=dict_files[files_names[12]]\n",
    "GDSSHORT.head()\n",
    "\n",
    "### 'Symbol_Digit_Modalities.csv' - 1340 patients - COGNITIVE IMPAIRMENT. \n",
    "SDM=dict_files[files_names[13]]\n",
    "SDM.head()\n",
    "\n",
    "### 'State-Trait_Anxiety_Inventory.csv' - 1474 patients - DEPRESSION\n",
    "STAI=dict_files[files_names[14]]\n",
    "STAI.head()\n",
    "\n",
    "### 'Benton_Judgment_of_Line_Orientation.csv' - 1341 patients - SPATIAL PERCEPTION/ORIENTATION \n",
    "BENTONOD=dict_files[files_names[15]]\n",
    "BENTONOD.head()\n",
    "\n",
    "### 'QUIP_Current_Short.csv' - 1346 patients - COMPULSIVE DISORDERS\n",
    "QUIPCS=dict_files[files_names[16]]"
   ]
  },
  {
   "cell_type": "markdown",
   "metadata": {},
   "source": [
    "## 8-Medications data"
   ]
  },
  {
   "cell_type": "code",
   "execution_count": 16,
   "metadata": {},
   "outputs": [],
   "source": [
    "folder_path='/Users/alicemartin/02_DSR_Project/parkinson-disease-project/data/PPMI-final-dataset-382018/5-Medical-History/'\n",
    "files_names=reading_csv_files(folder_path)[1]\n",
    "dict_files=reading_csv_files(folder_path)[2]"
   ]
  },
  {
   "cell_type": "code",
   "execution_count": 17,
   "metadata": {},
   "outputs": [],
   "source": [
    "### Use of PD Medication: useful: Meds - but not to be used for now.\n",
    "PDMEDUSE=dict_files[files_names[4]]\n",
    "SEL=['REC_ID', 'PATNO', 'EVENT_ID', 'PAG_NAME', 'INFODT',\n",
    "       'PDMEDYN', 'ONLDOPA', 'ONDOPAG', 'ONOTHER', 'FULNUPDR', 'PDMEDDT',\n",
    "       'PDMEDTM', 'NUPDRTM']\n",
    "PDMEDUSE_sel=PDMEDUSE[SEL]\n",
    "\n",
    "### 'Concomitant_Medications.csv': useful: Meds - no time to exploit this stuff. \n",
    "CMED=dict_files[files_names[6]]\n",
    "\n",
    "### 'Current_Medical_Conditions_Log.csv': Meds\n",
    "CURRCOND=dict_files[files_names[8]]\n",
    "CURRCOND.columns\n",
    "SEL=['REC_ID', 'PATNO', 'EVENT_ID', 'PAG_NAME', 'SEQNO',\n",
    "       'CONDCAT', 'DIAGYR','CONDTERM', 'RESOLVD', 'RESYR',\n",
    "       'HLGTNAME', 'HLT_NAME','PT_CODE','SOCABBR1', 'VMEDDRA']\n",
    "CURRCOND_sel=CURRCOND[SEL]\n",
    "\n",
    "### 'Surgery_for_Parkinson_Disease.csv': useful: Meds - but not to be used for now.\n",
    "SURGPD=dict_files[files_names[12]]\n",
    "SURGPD.columns\n",
    "SEL=['REC_ID','PATNO', 'EVENT_ID', 'PAG_NAME', 'INFODT',\n",
    "       'PDSURG', 'PDSURGDT', 'PDSURGTP']\n",
    "SURGPD_sel=SURGPD[SEL]"
   ]
  },
  {
   "cell_type": "markdown",
   "metadata": {},
   "source": [
    "## Dataset Analysis (variations of number of samples, patients)"
   ]
  },
  {
   "cell_type": "markdown",
   "metadata": {},
   "source": [
    "### 1. Variation of # of samples by seg length thresold"
   ]
  },
  {
   "cell_type": "code",
   "execution_count": 18,
   "metadata": {},
   "outputs": [
    {
     "name": "stderr",
     "output_type": "stream",
     "text": [
      "/anaconda3/lib/python3.6/site-packages/ipykernel_launcher.py:38: RuntimeWarning: invalid value encountered in long_scalars\n"
     ]
    }
   ],
   "source": [
    "list_df=[DIAGFEAT_sel,MHXGEN_sel,GENPHYEX_sel,PENEURO_sel,PENEURO2_sel,VITAL_sel,\n",
    "NUPDRS1,NUPDRS2P,NUPDRS3,NUPDRS4,PASE,PASELT,MODSEADL,\n",
    "UPSIT,EPWORTH,LNSPD,REMSLEEP,COGTIME,SCOPAAUT,COGCATG,HVLT,\n",
    "MOCA,SFT,GDSSHORT,SDM,STAI,BENTONOD,QUIPCS,PDMEDUSE]\n",
    "\n",
    "df_names=['DIAGFEAT','MHXGEN','GENPHYEX','PENEURO','PENEURO2','VITAL',\n",
    "'NUPDRS1','NUPDRS2P','NUPDRS3','NUPDRS4','PASE','PASELT','MODSEADL',\n",
    "'UPSIT','EPWORTH','LNSPD','REMSLEEP','COGTIME','SCOPAAUT','COGCATG','HVLT',\n",
    "'MOCA','SFT','GDSSHORT','SDM','STAI','BENTONOD','QUIPCS','PDMEDUSE']\n",
    "\n",
    "dataset_analysis_maintables6=table_analysis(list_df,df_names)\n",
    "dataset_analysis_maintables2=table_analysis(list_df,df_names,2)\n",
    "dataset_analysis_maintables4=table_analysis(list_df,df_names,4)"
   ]
  },
  {
   "cell_type": "code",
   "execution_count": 35,
   "metadata": {},
   "outputs": [],
   "source": [
    "def sel_for_plot(df,rowSel, colSel,num):\n",
    "    df=df.loc[rowSel,colSel]\n",
    "    NewCols=[c+'{}'.format(num) for c in colSel]\n",
    "    colRenamed=dict(zip(colSel,NewCols))\n",
    "    df.rename(columns=colRenamed,inplace=True)\n",
    "    return df\n",
    "\n",
    "rowSel=['DIAGFEAT','GENPHYEX','NUPDRS3','MODSEADL','MOCA','PDMEDUSE']\n",
    "colSel=['patients_sel','len_df_sel']\n",
    "df_to_plot6=sel_for_plot(dataset_analysis_maintables6,rowSel=rowSel,colSel=colSel,num=6)\n",
    "df_to_plot4=sel_for_plot(dataset_analysis_maintables4,rowSel=rowSel,colSel=colSel,num=4)\n",
    "df_to_plot2=sel_for_plot(dataset_analysis_maintables2,rowSel=rowSel,colSel=colSel,num=2)\n",
    "\n",
    "df_to_plot=pd.merge(df_to_plot2,df_to_plot4,left_index=True,right_index=True)\n",
    "df_to_plot=pd.merge(df_to_plot,df_to_plot6,left_index=True,right_index=True)\n",
    "df_to_plot=df_to_plot.T\n",
    "df_to_plot['Measure']=list(np.tile(('len_patients','len_df_sel'),3))\n",
    "df_to_plot['Visits_threshold']=list(np.repeat((2,4,6),2))\n",
    "\n",
    "def select_measure(df,rowSel): \n",
    "    df=df.loc[rowSel,:]\n",
    "    df.drop(columns='Measure',inplace=True)\n",
    "    df.rename(index=dict(zip(list(df.index),list(df['Visits_threshold'].values))),inplace=True)\n",
    "    df.drop(columns='Visits_threshold',inplace=True)\n",
    "    return df\n",
    "\n",
    "dfPlot_patients=select_measure(df_to_plot,['patients_sel2','patients_sel4','patients_sel6'])\n",
    "dfPlot_patients\n",
    "\n",
    "dfPlot_samples=select_measure(df_to_plot,['len_df_sel2','len_df_sel4','len_df_sel6'])\n",
    "dfPlot_samples"
   ]
  },
  {
   "cell_type": "code",
   "execution_count": 52,
   "metadata": {},
   "outputs": [
    {
     "data": {
      "text/html": [
       "<script>requirejs.config({paths: { 'plotly': ['https://cdn.plot.ly/plotly-latest.min']},});if(!window.Plotly) {{require(['plotly'],function(plotly) {window.Plotly=plotly;});}}</script>"
      ],
      "text/vnd.plotly.v1+html": [
       "<script>requirejs.config({paths: { 'plotly': ['https://cdn.plot.ly/plotly-latest.min']},});if(!window.Plotly) {{require(['plotly'],function(plotly) {window.Plotly=plotly;});}}</script>"
      ]
     },
     "metadata": {},
     "output_type": "display_data"
    },
    {
     "data": {
      "application/vnd.plotly.v1+json": {
       "data": [
        {
         "marker": {
          "color": "rgba(255, 153, 51, 0.6)",
          "line": {
           "color": "rgba(255, 153, 51, 1.0)",
           "width": 1
          }
         },
         "name": "DIAGFEAT",
         "orientation": "v",
         "text": "",
         "type": "bar",
         "x": [
          2,
          4,
          6
         ],
         "y": [
          1174,
          717,
          320
         ]
        },
        {
         "marker": {
          "color": "rgba(55, 128, 191, 0.6)",
          "line": {
           "color": "rgba(55, 128, 191, 1.0)",
           "width": 1
          }
         },
         "name": "GENPHYEX",
         "orientation": "v",
         "text": "",
         "type": "bar",
         "x": [
          2,
          4,
          6
         ],
         "y": [
          2047,
          2047,
          2047
         ]
        },
        {
         "marker": {
          "color": "rgba(50, 171, 96, 0.6)",
          "line": {
           "color": "rgba(50, 171, 96, 1.0)",
           "width": 1
          }
         },
         "name": "NUPDRS3",
         "orientation": "v",
         "text": "",
         "type": "bar",
         "x": [
          2,
          4,
          6
         ],
         "y": [
          1439,
          1089,
          896
         ]
        },
        {
         "marker": {
          "color": "rgba(128, 0, 128, 0.6)",
          "line": {
           "color": "rgba(128, 0, 128, 1.0)",
           "width": 1
          }
         },
         "name": "MODSEADL",
         "orientation": "v",
         "text": "",
         "type": "bar",
         "x": [
          2,
          4,
          6
         ],
         "y": [
          1252,
          899,
          717
         ]
        },
        {
         "marker": {
          "color": "rgba(219, 64, 82, 0.6)",
          "line": {
           "color": "rgba(219, 64, 82, 1.0)",
           "width": 1
          }
         },
         "name": "MOCA",
         "orientation": "v",
         "text": "",
         "type": "bar",
         "x": [
          2,
          4,
          6
         ],
         "y": [
          1261,
          716,
          433
         ]
        },
        {
         "marker": {
          "color": "rgba(0, 128, 128, 0.6)",
          "line": {
           "color": "rgba(0, 128, 128, 1.0)",
           "width": 1
          }
         },
         "name": "PDMEDUSE",
         "orientation": "v",
         "text": "",
         "type": "bar",
         "x": [
          2,
          4,
          6
         ],
         "y": [
          759,
          669,
          576
         ]
        }
       ],
       "layout": {
        "legend": {
         "bgcolor": "#F5F6F9",
         "font": {
          "color": "#4D5663"
         }
        },
        "paper_bgcolor": "#F5F6F9",
        "plot_bgcolor": "#F5F6F9",
        "title": "number of patients per table for each number of visits threshold",
        "titlefont": {
         "color": "#4D5663"
        },
        "xaxis1": {
         "gridcolor": "#E1E5ED",
         "showgrid": true,
         "tickfont": {
          "color": "#4D5663"
         },
         "title": "number of visits thresold",
         "titlefont": {
          "color": "#4D5663"
         },
         "zerolinecolor": "#E1E5ED"
        },
        "yaxis1": {
         "gridcolor": "#E1E5ED",
         "showgrid": true,
         "tickfont": {
          "color": "#4D5663"
         },
         "title": "number of patients per table",
         "titlefont": {
          "color": "#4D5663"
         },
         "zerolinecolor": "#E1E5ED"
        }
       }
      },
      "text/html": [
       "<div id=\"816230f8-5bf6-402c-a04a-47f65904892d\" style=\"height: 525px; width: 100%;\" class=\"plotly-graph-div\"></div><script type=\"text/javascript\">require([\"plotly\"], function(Plotly) { window.PLOTLYENV=window.PLOTLYENV || {};window.PLOTLYENV.BASE_URL=\"https://plot.ly\";Plotly.newPlot(\"816230f8-5bf6-402c-a04a-47f65904892d\", [{\"type\": \"bar\", \"x\": [2, 4, 6], \"y\": [1174, 717, 320], \"name\": \"DIAGFEAT\", \"text\": \"\", \"marker\": {\"color\": \"rgba(255, 153, 51, 0.6)\", \"line\": {\"color\": \"rgba(255, 153, 51, 1.0)\", \"width\": 1}}, \"orientation\": \"v\"}, {\"type\": \"bar\", \"x\": [2, 4, 6], \"y\": [2047, 2047, 2047], \"name\": \"GENPHYEX\", \"text\": \"\", \"marker\": {\"color\": \"rgba(55, 128, 191, 0.6)\", \"line\": {\"color\": \"rgba(55, 128, 191, 1.0)\", \"width\": 1}}, \"orientation\": \"v\"}, {\"type\": \"bar\", \"x\": [2, 4, 6], \"y\": [1439, 1089, 896], \"name\": \"NUPDRS3\", \"text\": \"\", \"marker\": {\"color\": \"rgba(50, 171, 96, 0.6)\", \"line\": {\"color\": \"rgba(50, 171, 96, 1.0)\", \"width\": 1}}, \"orientation\": \"v\"}, {\"type\": \"bar\", \"x\": [2, 4, 6], \"y\": [1252, 899, 717], \"name\": \"MODSEADL\", \"text\": \"\", \"marker\": {\"color\": \"rgba(128, 0, 128, 0.6)\", \"line\": {\"color\": \"rgba(128, 0, 128, 1.0)\", \"width\": 1}}, \"orientation\": \"v\"}, {\"type\": \"bar\", \"x\": [2, 4, 6], \"y\": [1261, 716, 433], \"name\": \"MOCA\", \"text\": \"\", \"marker\": {\"color\": \"rgba(219, 64, 82, 0.6)\", \"line\": {\"color\": \"rgba(219, 64, 82, 1.0)\", \"width\": 1}}, \"orientation\": \"v\"}, {\"type\": \"bar\", \"x\": [2, 4, 6], \"y\": [759, 669, 576], \"name\": \"PDMEDUSE\", \"text\": \"\", \"marker\": {\"color\": \"rgba(0, 128, 128, 0.6)\", \"line\": {\"color\": \"rgba(0, 128, 128, 1.0)\", \"width\": 1}}, \"orientation\": \"v\"}], {\"legend\": {\"bgcolor\": \"#F5F6F9\", \"font\": {\"color\": \"#4D5663\"}}, \"paper_bgcolor\": \"#F5F6F9\", \"plot_bgcolor\": \"#F5F6F9\", \"yaxis1\": {\"tickfont\": {\"color\": \"#4D5663\"}, \"gridcolor\": \"#E1E5ED\", \"titlefont\": {\"color\": \"#4D5663\"}, \"zerolinecolor\": \"#E1E5ED\", \"showgrid\": true, \"title\": \"number of patients per table\"}, \"xaxis1\": {\"tickfont\": {\"color\": \"#4D5663\"}, \"gridcolor\": \"#E1E5ED\", \"titlefont\": {\"color\": \"#4D5663\"}, \"zerolinecolor\": \"#E1E5ED\", \"showgrid\": true, \"title\": \"number of visits thresold\"}, \"titlefont\": {\"color\": \"#4D5663\"}, \"title\": \"number of patients per table for each number of visits threshold\"}, {\"showLink\": true, \"linkText\": \"Export to plot.ly\"})});</script>"
      ],
      "text/vnd.plotly.v1+html": [
       "<div id=\"816230f8-5bf6-402c-a04a-47f65904892d\" style=\"height: 525px; width: 100%;\" class=\"plotly-graph-div\"></div><script type=\"text/javascript\">require([\"plotly\"], function(Plotly) { window.PLOTLYENV=window.PLOTLYENV || {};window.PLOTLYENV.BASE_URL=\"https://plot.ly\";Plotly.newPlot(\"816230f8-5bf6-402c-a04a-47f65904892d\", [{\"type\": \"bar\", \"x\": [2, 4, 6], \"y\": [1174, 717, 320], \"name\": \"DIAGFEAT\", \"text\": \"\", \"marker\": {\"color\": \"rgba(255, 153, 51, 0.6)\", \"line\": {\"color\": \"rgba(255, 153, 51, 1.0)\", \"width\": 1}}, \"orientation\": \"v\"}, {\"type\": \"bar\", \"x\": [2, 4, 6], \"y\": [2047, 2047, 2047], \"name\": \"GENPHYEX\", \"text\": \"\", \"marker\": {\"color\": \"rgba(55, 128, 191, 0.6)\", \"line\": {\"color\": \"rgba(55, 128, 191, 1.0)\", \"width\": 1}}, \"orientation\": \"v\"}, {\"type\": \"bar\", \"x\": [2, 4, 6], \"y\": [1439, 1089, 896], \"name\": \"NUPDRS3\", \"text\": \"\", \"marker\": {\"color\": \"rgba(50, 171, 96, 0.6)\", \"line\": {\"color\": \"rgba(50, 171, 96, 1.0)\", \"width\": 1}}, \"orientation\": \"v\"}, {\"type\": \"bar\", \"x\": [2, 4, 6], \"y\": [1252, 899, 717], \"name\": \"MODSEADL\", \"text\": \"\", \"marker\": {\"color\": \"rgba(128, 0, 128, 0.6)\", \"line\": {\"color\": \"rgba(128, 0, 128, 1.0)\", \"width\": 1}}, \"orientation\": \"v\"}, {\"type\": \"bar\", \"x\": [2, 4, 6], \"y\": [1261, 716, 433], \"name\": \"MOCA\", \"text\": \"\", \"marker\": {\"color\": \"rgba(219, 64, 82, 0.6)\", \"line\": {\"color\": \"rgba(219, 64, 82, 1.0)\", \"width\": 1}}, \"orientation\": \"v\"}, {\"type\": \"bar\", \"x\": [2, 4, 6], \"y\": [759, 669, 576], \"name\": \"PDMEDUSE\", \"text\": \"\", \"marker\": {\"color\": \"rgba(0, 128, 128, 0.6)\", \"line\": {\"color\": \"rgba(0, 128, 128, 1.0)\", \"width\": 1}}, \"orientation\": \"v\"}], {\"legend\": {\"bgcolor\": \"#F5F6F9\", \"font\": {\"color\": \"#4D5663\"}}, \"paper_bgcolor\": \"#F5F6F9\", \"plot_bgcolor\": \"#F5F6F9\", \"yaxis1\": {\"tickfont\": {\"color\": \"#4D5663\"}, \"gridcolor\": \"#E1E5ED\", \"titlefont\": {\"color\": \"#4D5663\"}, \"zerolinecolor\": \"#E1E5ED\", \"showgrid\": true, \"title\": \"number of patients per table\"}, \"xaxis1\": {\"tickfont\": {\"color\": \"#4D5663\"}, \"gridcolor\": \"#E1E5ED\", \"titlefont\": {\"color\": \"#4D5663\"}, \"zerolinecolor\": \"#E1E5ED\", \"showgrid\": true, \"title\": \"number of visits thresold\"}, \"titlefont\": {\"color\": \"#4D5663\"}, \"title\": \"number of patients per table for each number of visits threshold\"}, {\"showLink\": true, \"linkText\": \"Export to plot.ly\"})});</script>"
      ]
     },
     "metadata": {},
     "output_type": "display_data"
    }
   ],
   "source": [
    "import cufflinks as cf\n",
    "# Configure it to work offline:\n",
    "cf.go_offline(connected=True)\n",
    "\n",
    "dfPlot_patients.iplot(kind='bar',\n",
    "                              bins=list(df_to_plot_len_patients.index),\n",
    "                              title='number of patients per table for each number of visits threshold',\n",
    "                              xTitle='number of visits thresold',\n",
    "                            yTitle='number of patients per table')"
   ]
  },
  {
   "cell_type": "code",
   "execution_count": 63,
   "metadata": {},
   "outputs": [
    {
     "data": {
      "application/vnd.plotly.v1+json": {
       "data": [
        {
         "marker": {
          "color": "rgba(255, 153, 51, 0.6)",
          "line": {
           "color": "rgba(255, 153, 51, 1.0)",
           "width": 1
          }
         },
         "name": "DIAGFEAT",
         "orientation": "v",
         "text": "",
         "type": "bar",
         "x": [
          2,
          4,
          6
         ],
         "y": [
          5243,
          4169,
          2349
         ]
        },
        {
         "marker": {
          "color": "rgba(55, 128, 191, 0.6)",
          "line": {
           "color": "rgba(55, 128, 191, 1.0)",
           "width": 1
          }
         },
         "name": "NUPDRS3",
         "orientation": "v",
         "text": "",
         "type": "bar",
         "x": [
          2,
          4,
          6
         ],
         "y": [
          12125,
          11322,
          10440
         ]
        },
        {
         "marker": {
          "color": "rgba(50, 171, 96, 0.6)",
          "line": {
           "color": "rgba(50, 171, 96, 1.0)",
           "width": 1
          }
         },
         "name": "MODSEADL",
         "orientation": "v",
         "text": "",
         "type": "bar",
         "x": [
          2,
          4,
          6
         ],
         "y": [
          9606,
          8811,
          7985
         ]
        },
        {
         "marker": {
          "color": "rgba(128, 0, 128, 0.6)",
          "line": {
           "color": "rgba(128, 0, 128, 1.0)",
           "width": 1
          }
         },
         "name": "MOCA",
         "orientation": "v",
         "text": "",
         "type": "bar",
         "x": [
          2,
          4,
          6
         ],
         "y": [
          5393,
          4093,
          2824
         ]
        },
        {
         "marker": {
          "color": "rgba(219, 64, 82, 0.6)",
          "line": {
           "color": "rgba(219, 64, 82, 1.0)",
           "width": 1
          }
         },
         "name": "PDMEDUSE",
         "orientation": "v",
         "text": "",
         "type": "bar",
         "x": [
          2,
          4,
          6
         ],
         "y": [
          6518,
          6294,
          5873
         ]
        }
       ],
       "layout": {
        "legend": {
         "bgcolor": "#F5F6F9",
         "font": {
          "color": "#4D5663"
         }
        },
        "paper_bgcolor": "#F5F6F9",
        "plot_bgcolor": "#F5F6F9",
        "title": "number of samples per table for each number of visits threshold",
        "titlefont": {
         "color": "#4D5663"
        },
        "xaxis1": {
         "gridcolor": "#E1E5ED",
         "showgrid": true,
         "tickfont": {
          "color": "#4D5663"
         },
         "title": "number of visits thresold",
         "titlefont": {
          "color": "#4D5663"
         },
         "zerolinecolor": "#E1E5ED"
        },
        "yaxis1": {
         "gridcolor": "#E1E5ED",
         "showgrid": true,
         "tickfont": {
          "color": "#4D5663"
         },
         "title": "number of samples per table",
         "titlefont": {
          "color": "#4D5663"
         },
         "zerolinecolor": "#E1E5ED"
        }
       }
      },
      "text/html": [
       "<div id=\"a514fcb9-3400-4b8b-8802-a7bec7b0d5e6\" style=\"height: 525px; width: 100%;\" class=\"plotly-graph-div\"></div><script type=\"text/javascript\">require([\"plotly\"], function(Plotly) { window.PLOTLYENV=window.PLOTLYENV || {};window.PLOTLYENV.BASE_URL=\"https://plot.ly\";Plotly.newPlot(\"a514fcb9-3400-4b8b-8802-a7bec7b0d5e6\", [{\"type\": \"bar\", \"x\": [2, 4, 6], \"y\": [5243, 4169, 2349], \"name\": \"DIAGFEAT\", \"text\": \"\", \"marker\": {\"color\": \"rgba(255, 153, 51, 0.6)\", \"line\": {\"color\": \"rgba(255, 153, 51, 1.0)\", \"width\": 1}}, \"orientation\": \"v\"}, {\"type\": \"bar\", \"x\": [2, 4, 6], \"y\": [12125, 11322, 10440], \"name\": \"NUPDRS3\", \"text\": \"\", \"marker\": {\"color\": \"rgba(55, 128, 191, 0.6)\", \"line\": {\"color\": \"rgba(55, 128, 191, 1.0)\", \"width\": 1}}, \"orientation\": \"v\"}, {\"type\": \"bar\", \"x\": [2, 4, 6], \"y\": [9606, 8811, 7985], \"name\": \"MODSEADL\", \"text\": \"\", \"marker\": {\"color\": \"rgba(50, 171, 96, 0.6)\", \"line\": {\"color\": \"rgba(50, 171, 96, 1.0)\", \"width\": 1}}, \"orientation\": \"v\"}, {\"type\": \"bar\", \"x\": [2, 4, 6], \"y\": [5393, 4093, 2824], \"name\": \"MOCA\", \"text\": \"\", \"marker\": {\"color\": \"rgba(128, 0, 128, 0.6)\", \"line\": {\"color\": \"rgba(128, 0, 128, 1.0)\", \"width\": 1}}, \"orientation\": \"v\"}, {\"type\": \"bar\", \"x\": [2, 4, 6], \"y\": [6518, 6294, 5873], \"name\": \"PDMEDUSE\", \"text\": \"\", \"marker\": {\"color\": \"rgba(219, 64, 82, 0.6)\", \"line\": {\"color\": \"rgba(219, 64, 82, 1.0)\", \"width\": 1}}, \"orientation\": \"v\"}], {\"legend\": {\"bgcolor\": \"#F5F6F9\", \"font\": {\"color\": \"#4D5663\"}}, \"paper_bgcolor\": \"#F5F6F9\", \"plot_bgcolor\": \"#F5F6F9\", \"yaxis1\": {\"tickfont\": {\"color\": \"#4D5663\"}, \"gridcolor\": \"#E1E5ED\", \"titlefont\": {\"color\": \"#4D5663\"}, \"zerolinecolor\": \"#E1E5ED\", \"showgrid\": true, \"title\": \"number of samples per table\"}, \"xaxis1\": {\"tickfont\": {\"color\": \"#4D5663\"}, \"gridcolor\": \"#E1E5ED\", \"titlefont\": {\"color\": \"#4D5663\"}, \"zerolinecolor\": \"#E1E5ED\", \"showgrid\": true, \"title\": \"number of visits thresold\"}, \"titlefont\": {\"color\": \"#4D5663\"}, \"title\": \"number of samples per table for each number of visits threshold\"}, {\"showLink\": true, \"linkText\": \"Export to plot.ly\"})});</script>"
      ],
      "text/vnd.plotly.v1+html": [
       "<div id=\"a514fcb9-3400-4b8b-8802-a7bec7b0d5e6\" style=\"height: 525px; width: 100%;\" class=\"plotly-graph-div\"></div><script type=\"text/javascript\">require([\"plotly\"], function(Plotly) { window.PLOTLYENV=window.PLOTLYENV || {};window.PLOTLYENV.BASE_URL=\"https://plot.ly\";Plotly.newPlot(\"a514fcb9-3400-4b8b-8802-a7bec7b0d5e6\", [{\"type\": \"bar\", \"x\": [2, 4, 6], \"y\": [5243, 4169, 2349], \"name\": \"DIAGFEAT\", \"text\": \"\", \"marker\": {\"color\": \"rgba(255, 153, 51, 0.6)\", \"line\": {\"color\": \"rgba(255, 153, 51, 1.0)\", \"width\": 1}}, \"orientation\": \"v\"}, {\"type\": \"bar\", \"x\": [2, 4, 6], \"y\": [12125, 11322, 10440], \"name\": \"NUPDRS3\", \"text\": \"\", \"marker\": {\"color\": \"rgba(55, 128, 191, 0.6)\", \"line\": {\"color\": \"rgba(55, 128, 191, 1.0)\", \"width\": 1}}, \"orientation\": \"v\"}, {\"type\": \"bar\", \"x\": [2, 4, 6], \"y\": [9606, 8811, 7985], \"name\": \"MODSEADL\", \"text\": \"\", \"marker\": {\"color\": \"rgba(50, 171, 96, 0.6)\", \"line\": {\"color\": \"rgba(50, 171, 96, 1.0)\", \"width\": 1}}, \"orientation\": \"v\"}, {\"type\": \"bar\", \"x\": [2, 4, 6], \"y\": [5393, 4093, 2824], \"name\": \"MOCA\", \"text\": \"\", \"marker\": {\"color\": \"rgba(128, 0, 128, 0.6)\", \"line\": {\"color\": \"rgba(128, 0, 128, 1.0)\", \"width\": 1}}, \"orientation\": \"v\"}, {\"type\": \"bar\", \"x\": [2, 4, 6], \"y\": [6518, 6294, 5873], \"name\": \"PDMEDUSE\", \"text\": \"\", \"marker\": {\"color\": \"rgba(219, 64, 82, 0.6)\", \"line\": {\"color\": \"rgba(219, 64, 82, 1.0)\", \"width\": 1}}, \"orientation\": \"v\"}], {\"legend\": {\"bgcolor\": \"#F5F6F9\", \"font\": {\"color\": \"#4D5663\"}}, \"paper_bgcolor\": \"#F5F6F9\", \"plot_bgcolor\": \"#F5F6F9\", \"yaxis1\": {\"tickfont\": {\"color\": \"#4D5663\"}, \"gridcolor\": \"#E1E5ED\", \"titlefont\": {\"color\": \"#4D5663\"}, \"zerolinecolor\": \"#E1E5ED\", \"showgrid\": true, \"title\": \"number of samples per table\"}, \"xaxis1\": {\"tickfont\": {\"color\": \"#4D5663\"}, \"gridcolor\": \"#E1E5ED\", \"titlefont\": {\"color\": \"#4D5663\"}, \"zerolinecolor\": \"#E1E5ED\", \"showgrid\": true, \"title\": \"number of visits thresold\"}, \"titlefont\": {\"color\": \"#4D5663\"}, \"title\": \"number of samples per table for each number of visits threshold\"}, {\"showLink\": true, \"linkText\": \"Export to plot.ly\"})});</script>"
      ]
     },
     "metadata": {},
     "output_type": "display_data"
    }
   ],
   "source": [
    "dfPlot_samples2=dfPlot_samples.drop(columns='GENPHYEX')\n",
    "dfPlot_samples2.iplot(kind='bar',\n",
    "                              bins=list(df_to_plot_len_patients.index),\n",
    "                              title='number of samples per table for each number of visits threshold',\n",
    "                              xTitle='number of visits thresold',\n",
    "                            yTitle='number of samples per table')"
   ]
  },
  {
   "cell_type": "markdown",
   "metadata": {},
   "source": [
    "### 2. Analysis of variations of number of pads, crops, drops per input_timesteps"
   ]
  },
  {
   "cell_type": "code",
   "execution_count": 64,
   "metadata": {},
   "outputs": [],
   "source": [
    "list_df=[DIAGFEAT_sel,MHXGEN_sel,GENPHYEX_sel,PENEURO_sel,PENEURO2_sel,VITAL_sel,\n",
    "NUPDRS1,NUPDRS2P,NUPDRS3,NUPDRS4,PASE,PASELT,MODSEADL,\n",
    "UPSIT,EPWORTH,LNSPD,REMSLEEP,COGTIME,SCOPAAUT,COGCATG,HVLT,\n",
    "MOCA,SFT,GDSSHORT,SDM,STAI,BENTONOD,QUIPCS,PDMEDUSE]\n",
    "\n",
    "df_names=['DIAGFEAT','MHXGEN','GENPHYEX','PENEURO','PENEURO2','VITAL',\n",
    "'NUPDRS1','NUPDRS2P','NUPDRS3','NUPDRS4','PASE','PASELT','MODSEADL',\n",
    "'UPSIT','EPWORTH','LNSPD','REMSLEEP','COGTIME','SCOPAAUT','COGCATG','HVLT',\n",
    "'MOCA','SFT','GDSSHORT','SDM','STAI','BENTONOD','QUIPCS','PDMEDUSE']\n",
    "\n",
    "dataset_analysis_maintables0_4_2=table_analysis(list_df,df_names,0)\n",
    "dataset_analysis_maintables0_5_2=table_analysis(list_df,df_names,0,5)\n",
    "dataset_analysis_maintables0_6_2=table_analysis(list_df,df_names,0,6)\n",
    "\n",
    "dataset_analysis_maintables0_4_3=table_analysis(list_df,df_names,0,th_drop=3)\n",
    "dataset_analysis_maintables0_5_3=table_analysis(list_df,df_names,0,5,3)\n",
    "dataset_analysis_maintables0_6_3=table_analysis(list_df,df_names,0,6,3)\n",
    "\n",
    "rowSel=['DIAGFEAT','GENPHYEX','NUPDRS3','MODSEADL','MOCA','PDMEDUSE']\n",
    "colSel=['drops','pads','crops']\n",
    "\n",
    "# boucle for with a list of df instead: \n",
    "df_4_2=dataset_analysis_maintables0_4_2.loc[rowSel,colSel]\n",
    "df_5_2=dataset_analysis_maintables0_5_2.loc[rowSel,colSel]\n",
    "df_6_2=dataset_analysis_maintables0_6_2.loc[rowSel,colSel]\n",
    "\n",
    "df_4_3=dataset_analysis_maintables0_4_3.loc[rowSel,colSel]\n",
    "df_5_3=dataset_analysis_maintables0_5_3.loc[rowSel,colSel]\n",
    "df_6_3=dataset_analysis_maintables0_6_3.loc[rowSel,colSel]\n",
    "\n",
    "#col_renamed=dict(zip(list(df_to_plot4.columns),['len_patients4','len_df_sel4']))\n",
    "#df_to_plot4.rename(columns=col_renamed,inplace=True)\n",
    "\n",
    "\n",
    "df=pd.merge(df_4_2,df_5_2,left_index=True,right_index=True)\n",
    "df=pd.merge(df,df_6_2,left_index=True,right_index=True)\n",
    "df=df.T\n",
    "df['Measure']=np.tile(('drops','pads','crops'),len(colSel))\n",
    "df['input_timesteps']=np.repeat((4,5,6),len(colSel))\n",
    "df=df.rename(index=dict(zip(list(df.index),list(df['input_timesteps'].values))))\n",
    "\n",
    "df2=pd.merge(df_4_3,df_5_3,left_index=True,right_index=True)\n",
    "df2=pd.merge(df2,df_6_3,left_index=True,right_index=True)\n",
    "df2=df2.T\n",
    "df2['Measure']=np.tile(('drops','pads','crops'),len(colSel))\n",
    "df2['input_timesteps']=np.repeat((4,5,6),len(colSel))\n",
    "df2=df2.rename(index=dict(zip(list(df2.index),list(df2['input_timesteps'].values))))\n",
    "\n",
    "list_tables=['DIAGFEAT','GENPHYEX','NUPDRS3','MODSEADL','MOCA','PDMEDUSE']\n",
    "colors=dict(zip(['drops','pads','crops'],['grey','green','red']))\n",
    "\n",
    "for i, table in enumerate(list_tables): \n",
    "    f=plt.subplot(3, 2, i+1)\n",
    "    f=sns.barplot(x='input_timesteps',y=table,data=df,hue='Measure',palette=colors)\n",
    "    f.set_title('{}'.format(table))\n",
    "    f.figure.set_size_inches(w=30,h=30)\n",
    "    \n",
    "plt_path_name='/Users/alicemartin/02_DSR_Project/parkinson-disease-project/output/pre-processing/'\n",
    "fig_name='pad_crop_drop_mainTables_thr2.png'\n",
    "plt_path_name=plt_path_name+fig_name\n",
    "f.figure.savefig(plt_path_name)\n",
    "plt.close()\n",
    "\n",
    "for i, table in enumerate(list_tables): \n",
    "    f=plt.subplot(3, 2, i+1)\n",
    "    f=sns.barplot(x='input_timesteps',y=table,data=df2,hue='Measure',palette=colors)\n",
    "    f.set_title('{}'.format(table))\n",
    "    f.figure.set_size_inches(w=30,h=30)\n",
    "\n",
    "plt_path_name='/Users/alicemartin/02_DSR_Project/parkinson-disease-project/output/pre-processing/'\n",
    "fig_name='pad_crop_drop_mainTables_thr3.png'\n",
    "plt_path_name=plt_path_name+fig_name\n",
    "f.figure.savefig(plt_path_name)\n",
    "plt.close()"
   ]
  },
  {
   "cell_type": "markdown",
   "metadata": {},
   "source": [
    "## Addtionnal (no TS) features"
   ]
  },
  {
   "cell_type": "code",
   "execution_count": 99,
   "metadata": {},
   "outputs": [
    {
     "name": "stdout",
     "output_type": "stream",
     "text": [
      "789\n"
     ]
    }
   ],
   "source": [
    "folder_path='/Users/alicemartin/02_DSR_Project/parkinson-disease-project/data/PPMI-final-dataset-382018/1-Subject-Characteristics/'\n",
    "files_names=reading_csv_files(folder_path)[1]\n",
    "dict_files=reading_csv_files(folder_path)[2]\n",
    "\n",
    "### Screening__Demographics - useful\n",
    "#### NOT TS DATA\n",
    "SCREEN=dict_files[files_names[3]]\n",
    "SEL=['REC_ID', 'PATNO', 'EVENT_ID', 'PAG_NAME',\n",
    "       'CONSNTDT', 'APPRDX', 'CURRENT_APPRDX', 'P3GRP', 'BIRTHDT', 'GENDER',\n",
    "       'HISPLAT', 'RAINDALS', 'RAASIAN', 'RABLACK', 'RAHAWOPI', 'RAWHITE',\n",
    "       'RANOS', 'PRJENRDT']\n",
    "SCREEN_sel=SCREEN[SEL]\n",
    "\n",
    "folder_path='/Users/alicemartin/02_DSR_Project/parkinson-disease-project/data/PPMI-final-dataset-382018/5-Medical-History/'\n",
    "files_names=reading_csv_files(folder_path)[1]\n",
    "dict_files=reading_csv_files(folder_path)[2]\n",
    "\n",
    "### 'PD_Features.csv': useful: Feat-PD - caution: these are actually not timeseries but examination only done at screening (SC), BL & V04\n",
    "### 1017 patients\n",
    "PDFEAT=dict_files[files_names[14]]\n",
    "SEL=['REC_ID', 'PATNO', 'EVENT_ID', 'PAG_NAME', 'INFODT', 'SXMO',\n",
    "       'SXYEAR', 'PDDXDT', 'DXTREMOR', 'DXRIGID', 'DXBRADY',\n",
    "       'DXPOSINS', 'DXOTHSX','DOMSIDE','DOMSIDE']\n",
    "PDFEAT_sel=PDFEAT[SEL]\n",
    "\n",
    "## Biospecimen\n",
    "folder_path='/Users/alicemartin/02_DSR_Project/parkinson-disease-project/data/PPMI-final-dataset-382018/2-Biospecimen/'\n",
    "files_names=reading_csv_files(folder_path)[1]\n",
    "dict_files=reading_csv_files(folder_path)[2]\n",
    "\n",
    "### Genetic_Results_Tests - useful: Feat-bio - 1116 patients\n",
    "#### NOT TS DATA\n",
    "\n",
    "MUTRSLT=dict_files[files_names[3]]\n",
    "SEL=['REC_ID','PATNO', 'EVENT_ID', 'PAG_NAME', 'INFODT',\n",
    "       'GENECAT', 'LRRKCD', 'MUTRSLT']\n",
    "MUTRSLT_sel=MUTRSLT[SEL]\n",
    "\n",
    "### Pilot_Biospecimen_Analysis_Results - useful: Feat-bio - 664 patients...\n",
    "#### Understand if the cohort of patient IDs are different from the classic PPMI cohort.\n",
    "#### NOT TS DATA.\n",
    "\n",
    "### Pilot_Biospecimen_Analysis_Results - useful: Feat-bio\n",
    "Biospecimen_Analysis=dict_files[files_names[6]]\n",
    "\n",
    "SEL=['PATNO', 'DIAGNOSIS', 'CLINICAL_EVENT', 'TYPE', 'TESTNAME',\n",
    "       'TESTVALUE','RUNDATE', 'PROJECTID']\n",
    "Biospecimen_Analysis_sel=Biospecimen_Analysis[SEL]\n",
    "\n",
    "### Lumbar_Puncture_Sample_Collection - useful: Feat-bio - 1344 patients\n",
    "LUMBAR=dict_files[files_names[9]]\n",
    "\n",
    "### Only features useful I think: white cell blood count, red blood cell count, total glucose, total protein.\n",
    "\n",
    "SEL=['REC_ID','PATNO', 'EVENT_ID', 'PAG_NAME', 'INFODT','CSFSPNRT',\n",
    "     'SMPDSCRD','RBCRSLT','WBCRSLT','TOPRRSLT','TGLCRSLT']\n",
    "LUMBAR_sel=LUMBAR[SEL]\n",
    "\n",
    "### Additionnal feature: PRIMDX. \n",
    "\n",
    "folder_path='/Users/alicemartin/02_DSR_Project/parkinson-disease-project/data/PPMI-final-dataset-382018/3-Enrollment/'\n",
    "files_names=reading_csv_files(folder_path)[1]\n",
    "dict_files=reading_csv_files(folder_path)[2]\n",
    "\n",
    "### 'Primary_Diagnosis.csv' - useful: Feat-Gen - 789 patients... (only PD patients?)\n",
    "PRIMDXPD=dict_files[files_names[8]]\n",
    "\n",
    "SEL=['REC_ID', 'F_STATUS', 'PATNO', 'EVENT_ID', 'PAG_NAME', 'INFODT',\n",
    "       'PRIMDIAG']\n",
    "print(number_of_patients(PRIMDXPD))\n",
    "PRIMDXPD_sel=PRIMDXPD[SEL]\n",
    "\n",
    "### 'Prodromal_Diagnostic_Questionnaire.csv': useful: Feat-Gen (PRIMDIAG & PSLVL2) \n",
    "#### NB: PSLV2 evaluates the proba of the patient being PD: might be useful for early PD. But not to be used in the main analysis as a feature (only for Prodromal & Genetic Cohort - i.e 800 subjects) \n",
    "\n",
    "folder_path='/Users/alicemartin/02_DSR_Project/parkinson-disease-project/data/PPMI-final-dataset-382018/5-Medical-History/'\n",
    "files_names=reading_csv_files(folder_path)[1]\n",
    "dict_files=reading_csv_files(folder_path)[2]\n",
    "\n",
    "PRODIAG=dict_files[files_names[0]]\n",
    "SEL=['REC_ID', 'F_STATUS', 'PATNO', 'EVENT_ID', 'PAG_NAME', 'PRIMDIAG', 'PSLVL2']\n",
    "PRODIAG_sel=PRODIAG[SEL]\n",
    "\n",
    "Prodromal=set(PRODIAG['PATNO'])\n",
    "PrimdxPat=set(PRIMDXPD['PATNO'])\n",
    "intersect=list(Prodromal or PrimdxPat)"
   ]
  },
  {
   "cell_type": "markdown",
   "metadata": {},
   "source": [
    "### GOOD NEWS!! : PRODROMA AND PRIMDX CAN BE CONCATENATED!!!!! (different set of patients)"
   ]
  },
  {
   "cell_type": "markdown",
   "metadata": {},
   "source": [
    "## 4-Imaging - dataset not to be used for the time being.\n",
    "### Info about Imaging Data pages 98 to 101 in the study protocol. "
   ]
  },
  {
   "cell_type": "code",
   "execution_count": 31,
   "metadata": {},
   "outputs": [],
   "source": [
    "folder_path='/Users/alicemartin/02_DSR_Project/parkinson-disease-project/data/PPMI-final-dataset-382018/4-Imaging/'\n",
    "files_names=reading_csv_files(folder_path)[1]\n",
    "dict_files=reading_csv_files(folder_path)[2]\n",
    "\n",
    "### FBB_Analysis_Data.csv\n",
    "FBBANAL=dict_files[files_names[0]]\n",
    "# no selection to do. \n",
    "\n",
    "### AV-133_Imaging.csv\n",
    "AVIMAG=dict_files[files_names[2]]\n",
    "SEL=['REC_ID','PATNO', 'EVENT_ID', 'PAG_NAME', 'INFODT', 'PETCMPLT','VMATRSLT']\n",
    "AVIMAG_sel=AVIMAG[SEL]\n",
    "\n",
    "### DaTscan_Imaging.csv\n",
    "DATSCAN=dict_files[files_names[3]]\n",
    "DATSCAN.columns\n",
    "SEL=['REC_ID','PATNO', 'EVENT_ID', 'PAG_NAME', 'INFODT',\n",
    "       'DATSCAN','VSINTRPT','VSRPTELG']\n",
    "DATSCAN_sel=DATSCAN[SEL]\n",
    "\n",
    "### AV-133_SBR_Results.csv\n",
    "ind_av133_sbr=dict_files[files_names[5]]\n",
    "col_old=list(ind_av133_sbr.columns)\n",
    "col_new=['PATNO',\n",
    " 'EVENT_ID',\n",
    " 'INFODT',\n",
    " 'TIMEPOINT',\n",
    " 'RCAUD-S',\n",
    " 'RPUTANT-S',\n",
    " 'RPUTPOST-S',\n",
    " 'LCAUD-S',\n",
    " 'LPUTANT-S',\n",
    " 'LPUTPOST-S',\n",
    " 'update_stamp']\n",
    "col=dict(zip(col_old,col_new))\n",
    "ind_av133_sbr.rename(columns=col,inplace=True)\n",
    "SEL=['PATNO', 'EVENT_ID', 'INFODT', 'RCAUD-S', 'RPUTANT-S',\n",
    "       'RPUTPOST-S', 'LCAUD-S', 'LPUTANT-S', 'LPUTPOST-S']\n",
    "ind_av133_sbr_sel=ind_av133_sbr[SEL]\n",
    "\n",
    "### Magnetic_Resonance_Imaging.csv\n",
    "MRI=dict_files[files_names[6]]\n",
    "SEL=['REC_ID', 'PATNO', 'EVENT_ID', 'PAG_NAME', 'INFODT',\n",
    "       'MRICMPLT', 'MRIWDTI', 'MRIWRSS', 'MRIRSLT',\n",
    "       'PDMEDYN', 'ONLDOPA', 'ONDOPAG']\n",
    "MRI_sel=MRI[SEL]\n",
    "\n",
    "### DTI_Regions_of_Interest\n",
    "DTIROI=dict_files[files_names[7]]\n",
    "SEL=['PATNO', 'PAG_NAME', 'INFODT', 'Measure','ROI1', 'ROI2',\n",
    "       'ROI3', 'ROI4', 'ROI5', 'ROI6', 'REF1', 'REF2']\n",
    "DTIROI_sel=DTIROI[SEL]\n",
    "\n",
    "### DaTSCAN_SPECT_Visual_Interpretation_Assessment.csv - not found in data dictionary...\n",
    "SPECT_vis_assess=dict_files[files_names[8]]\n",
    "#SPECT_vis_assess.head()"
   ]
  },
  {
   "cell_type": "code",
   "execution_count": 71,
   "metadata": {},
   "outputs": [
    {
     "name": "stderr",
     "output_type": "stream",
     "text": [
      "/anaconda3/lib/python3.6/site-packages/ipykernel_launcher.py:38: RuntimeWarning:\n",
      "\n",
      "invalid value encountered in long_scalars\n",
      "\n"
     ]
    }
   ],
   "source": [
    "list_df=[FBBANAL,AVIMAG_sel,DATSCAN_sel,ind_av133_sbr_sel,MRI_sel,DTIROI_sel]\n",
    "df_names=['FBBANAL','AVIMAG','DATSCAN','ind_av133_sbr','MRI','DTIROI']\n",
    "dataset_analysis_imaging=table_analysis(list_df,df_names,threshold=3) #threshold=3 to have more \n",
    "#dataset_analysis_imaging"
   ]
  },
  {
   "cell_type": "code",
   "execution_count": 70,
   "metadata": {},
   "outputs": [],
   "source": [
    "list_df=[PDMEDUSE_sel,CURRCOND_sel,SURGPD_sel]\n",
    "df_names=['PDMEDUSE','CURRCOND','SURGPD']\n",
    "dataset_analysis_meds=table_analysis(list_df,df_names)"
   ]
  },
  {
   "cell_type": "code",
   "execution_count": null,
   "metadata": {},
   "outputs": [],
   "source": []
  }
 ],
 "metadata": {
  "kernelspec": {
   "display_name": "Python 3",
   "language": "python",
   "name": "python3"
  },
  "language_info": {
   "codemirror_mode": {
    "name": "ipython",
    "version": 3
   },
   "file_extension": ".py",
   "mimetype": "text/x-python",
   "name": "python",
   "nbconvert_exporter": "python",
   "pygments_lexer": "ipython3",
   "version": "3.6.4"
  }
 },
 "nbformat": 4,
 "nbformat_minor": 2
}
