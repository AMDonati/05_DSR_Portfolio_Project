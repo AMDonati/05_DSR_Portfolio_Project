{
 "cells": [
  {
   "cell_type": "markdown",
   "metadata": {},
   "source": [
    "## REFERENCES"
   ]
  },
  {
   "cell_type": "markdown",
   "metadata": {},
   "source": [
    "* **Data viz - Jesus**: \n",
    " > http://localhost:8888/notebooks/00_TRAINING/02_DSR/VIZ_course/PLOTLY/code_for_slides.ipynb\n",
    " > http://localhost:8888/notebooks/01_Dev/02_Python-tutorials_Jupyter-notebooks/03_Python_forDS_Udemy/Plotly%20and%20cufflinks_AM.ipynb\n",
    "\n",
    "### Specific to time-series: \n",
    "* https://github.com/ChadFulton/tsa-notebooks\n",
    "* https://github.com/maxim5/time-series-machine-learning\n",
    "\n",
    "### time-series w/ DL on EHR data\n",
    "* https://github.com/AMDonati/Deep-Neural-Networks-HealthCare/tree/master/Project%209%20--%20Deep%20Learning%20RNN%20for%20Predicting%20%20Glucose%20Concentration%20for%20Diabetes1%20Patients\n",
    "* https://github.com/AMDonati/Deep-Neural-Networks-HealthCare/tree/master/Project%209%20--%20Deep%20Learning%20RNN%20for%20Predicting%20%20Glucose%20Concentration%20for%20Diabetes1%20Patients\n",
    "* https://github.com/AMDonati/doctorai\n",
    "\n",
    "### Kaggle Kernels\n",
    "* https://www.kaggle.com/c/web-traffic-time-series-forecasting"
   ]
  },
  {
   "cell_type": "markdown",
   "metadata": {},
   "source": [
    "## 0. Imports & functions"
   ]
  },
  {
   "cell_type": "code",
   "execution_count": 1,
   "metadata": {},
   "outputs": [],
   "source": [
    "#imports \n",
    "import numpy as np \n",
    "import pandas as pd \n",
    "import matplotlib.pyplot as plt\n",
    "import plotly.plotly as py\n",
    "import cufflinks as cf\n",
    "import seaborn as sns\n",
    "import urllib.parse\n",
    "from glob import glob\n",
    "import os\n",
    "import ntpath \n",
    "import zipfile\n",
    "from datetime import datetime\n",
    "\n",
    "#and enable the offline mode in the notebook (not needed in Jupyter Lab)\n",
    "#py.offline.init_notebook_mode(connected=True)\n",
    "\n",
    "import warnings\n",
    "warnings.filterwarnings('ignore')\n",
    "\n",
    "PPMI_path='/Users/alicemartin/02_DSR_Project/parkinson-disease-project/data/'"
   ]
  },
  {
   "cell_type": "code",
   "execution_count": 2,
   "metadata": {},
   "outputs": [],
   "source": [
    "#!pip install cufflinks --upgrade"
   ]
  },
  {
   "cell_type": "code",
   "execution_count": 3,
   "metadata": {},
   "outputs": [],
   "source": [
    "def reading_csv_files(folder_path):\n",
    "    # saving all the csv files in a dataframe\n",
    "    import os\n",
    "    import glob\n",
    "    # glob.glob('*.csv') #find all the csv files in a pathname. \n",
    "    os.chdir(folder_path)\n",
    "    csv_files = [i for i in glob.glob('*.csv')]\n",
    "\n",
    "    # Reading each csv file and storing them in a dictionnary containing the file name and the dataframe\n",
    "    dict_files={}\n",
    "    files_names=[]\n",
    "    for files in csv_files:\n",
    "        df=pd.read_csv(files,engine='python')\n",
    "        basepath, filename=ntpath.split(files)\n",
    "        files_names.append(filename)\n",
    "        dict_files[filename]=df\n",
    "        \n",
    "    # Calculating the # of rows and features for each dataframe and storing them in a list of tuples\n",
    "    shape_df=[]\n",
    "    for i in range(0,len(dict_files.keys())):\n",
    "        nrows, ncols=(len(dict_files[files_names[i]]),len(dict_files[files_names[i]].columns))\n",
    "        shape_df.append((nrows,ncols))\n",
    "\n",
    "    return (shape_df,files_names,dict_files)"
   ]
  },
  {
   "cell_type": "code",
   "execution_count": 4,
   "metadata": {},
   "outputs": [],
   "source": [
    "def number_of_patients(df):\n",
    "    '''return the number of patients in each csv files and the number of events'''\n",
    "    patients=len(list(set(df['PATNO'])))\n",
    "    if 'EVENT_ID' in df.columns:\n",
    "        events=len(list(set(df['EVENT_ID'])))\n",
    "    else:\n",
    "        events='no TS data'\n",
    "    return (patients,events)"
   ]
  },
  {
   "cell_type": "code",
   "execution_count": 5,
   "metadata": {},
   "outputs": [],
   "source": [
    "def features_selection(df, SEL):\n",
    "    '''cleanier way to do features selection in each csv file'''\n",
    "    return df_sel"
   ]
  },
  {
   "cell_type": "code",
   "execution_count": 57,
   "metadata": {},
   "outputs": [],
   "source": [
    "def patients_selection(df, threshold=6):\n",
    "    '''return a dataframe containing only the patients with number of visits > threshold'''\n",
    "    if 'PATNO' in df.columns: \n",
    "        visits_number_by_pat=df.groupby('PATNO').size().sort_values(ascending=False)\n",
    "        mask_sel=visits_number_by_pat>=threshold\n",
    "        patients_sel=list(mask_sel[mask_sel.values==True].index)\n",
    "        df=df.loc[df['PATNO'].isin(patients_sel),:]\n",
    "        df=df.sort_values('PATNO')\n",
    "        return (patients_sel, df)\n",
    "    else:\n",
    "        print(\"There is no 'PATNO' column in the dataframe\")"
   ]
  },
  {
   "cell_type": "code",
   "execution_count": 87,
   "metadata": {},
   "outputs": [],
   "source": [
    "def patients_sampling(df,sample_size=25,seed='123'):\n",
    "    np.random.seed(seed)\n",
    "    sample=list(np.random.randint(0,number_of_patients(diagfeat_EADL)[0],sample_size+1))\n",
    "    patients_sample=pd.Series(list(set(df['PATNO'])))[sample]\n",
    "    patients_sample=list(patients_sample.values)\n",
    "    sub_df=df.loc[diagfeat_EADL['PATNO'].isin(patients_sample),:]\n",
    "    return sub_df"
   ]
  },
  {
   "cell_type": "code",
   "execution_count": 7,
   "metadata": {},
   "outputs": [],
   "source": [
    "def plotting_MSEADLG(df, sample_size=25):\n",
    "    '''EDA on labels '''"
   ]
  },
  {
   "cell_type": "code",
   "execution_count": 8,
   "metadata": {},
   "outputs": [],
   "source": [
    "def plotting_features(df,sample_size=25):\n",
    "    '''EDA on features'''"
   ]
  },
  {
   "cell_type": "code",
   "execution_count": 9,
   "metadata": {},
   "outputs": [],
   "source": [
    "def feat_variance_analysis(df,sample_size=25): \n",
    "    ''''''"
   ]
  },
  {
   "cell_type": "markdown",
   "metadata": {},
   "source": [
    "## 1. Data-processing"
   ]
  },
  {
   "cell_type": "markdown",
   "metadata": {},
   "source": [
    "###  Getting the PD people.\n"
   ]
  },
  {
   "cell_type": "code",
   "execution_count": 10,
   "metadata": {},
   "outputs": [
    {
     "name": "stdout",
     "output_type": "stream",
     "text": [
      "number of PD patients:876\n"
     ]
    }
   ],
   "source": [
    "folder_path='/Users/alicemartin/02_DSR_Project/parkinson-disease-project/data/PPMI-final-dataset-382018/1-Subject-Characteristics/'\n",
    "files_names=reading_csv_files(folder_path)[1]\n",
    "dict_files=reading_csv_files(folder_path)[2]\n",
    "\n",
    "### Patient_Status - actually useful for selecting only the PD patients in each table\n",
    "PRODROMA=dict_files[files_names[0]]\n",
    "PD_cat=['PD','REGPD','GENPD']\n",
    "mask=PRODROMA['ENROLL_CAT'].isin(PD_cat)\n",
    "# might be better to use the other cat variable because ENROLL_CAT contains ~320 NaN. \n",
    "PD_patients=list(PRODROMA.loc[mask,'PATNO'])\n",
    "print('number of PD patients:{}'.format(len(PD_patients)))"
   ]
  },
  {
   "cell_type": "markdown",
   "metadata": {},
   "source": [
    "### Creating the dataset with selected features."
   ]
  },
  {
   "cell_type": "code",
   "execution_count": 32,
   "metadata": {},
   "outputs": [
    {
     "data": {
      "text/html": [
       "<div>\n",
       "<style scoped>\n",
       "    .dataframe tbody tr th:only-of-type {\n",
       "        vertical-align: middle;\n",
       "    }\n",
       "\n",
       "    .dataframe tbody tr th {\n",
       "        vertical-align: top;\n",
       "    }\n",
       "\n",
       "    .dataframe thead th {\n",
       "        text-align: right;\n",
       "    }\n",
       "</style>\n",
       "<table border=\"1\" class=\"dataframe\">\n",
       "  <thead>\n",
       "    <tr style=\"text-align: right;\">\n",
       "      <th></th>\n",
       "      <th>REC_ID</th>\n",
       "      <th>PATNO</th>\n",
       "      <th>EVENT_ID</th>\n",
       "      <th>INFODT</th>\n",
       "      <th>DFSTROKE</th>\n",
       "      <th>DFRSKFCT</th>\n",
       "      <th>DFPRESNT</th>\n",
       "      <th>DFRPROG</th>\n",
       "      <th>DFSTATIC</th>\n",
       "      <th>DFHEMPRK</th>\n",
       "      <th>...</th>\n",
       "      <th>DFSEXDYS</th>\n",
       "      <th>DFURDYS</th>\n",
       "      <th>DFBWLDYS</th>\n",
       "      <th>DFOCULO</th>\n",
       "      <th>DFEYELID</th>\n",
       "      <th>DFNEURAB</th>\n",
       "      <th>DFRAPSPE</th>\n",
       "      <th>DFBULBAR</th>\n",
       "      <th>DFATYP</th>\n",
       "      <th>sum_feat</th>\n",
       "    </tr>\n",
       "  </thead>\n",
       "  <tbody>\n",
       "    <tr>\n",
       "      <th>0</th>\n",
       "      <td>544962901</td>\n",
       "      <td>3051</td>\n",
       "      <td>V12</td>\n",
       "      <td>11/2015</td>\n",
       "      <td>0.0</td>\n",
       "      <td>0.0</td>\n",
       "      <td>0.0</td>\n",
       "      <td>0.0</td>\n",
       "      <td>0.0</td>\n",
       "      <td>0.0</td>\n",
       "      <td>...</td>\n",
       "      <td>0.0</td>\n",
       "      <td>1.0</td>\n",
       "      <td>1.0</td>\n",
       "      <td>0.0</td>\n",
       "      <td>0.0</td>\n",
       "      <td>0.0</td>\n",
       "      <td>0.0</td>\n",
       "      <td>0.0</td>\n",
       "      <td>0.0</td>\n",
       "      <td>6.0</td>\n",
       "    </tr>\n",
       "    <tr>\n",
       "      <th>1</th>\n",
       "      <td>378904801</td>\n",
       "      <td>3051</td>\n",
       "      <td>V06</td>\n",
       "      <td>11/2012</td>\n",
       "      <td>0.0</td>\n",
       "      <td>0.0</td>\n",
       "      <td>0.0</td>\n",
       "      <td>0.0</td>\n",
       "      <td>0.0</td>\n",
       "      <td>0.0</td>\n",
       "      <td>...</td>\n",
       "      <td>1.0</td>\n",
       "      <td>1.0</td>\n",
       "      <td>0.0</td>\n",
       "      <td>0.0</td>\n",
       "      <td>0.0</td>\n",
       "      <td>0.0</td>\n",
       "      <td>0.0</td>\n",
       "      <td>0.0</td>\n",
       "      <td>0.0</td>\n",
       "      <td>6.0</td>\n",
       "    </tr>\n",
       "    <tr>\n",
       "      <th>2</th>\n",
       "      <td>659585301</td>\n",
       "      <td>3051</td>\n",
       "      <td>V14</td>\n",
       "      <td>10/2017</td>\n",
       "      <td>0.0</td>\n",
       "      <td>0.0</td>\n",
       "      <td>0.0</td>\n",
       "      <td>0.0</td>\n",
       "      <td>0.0</td>\n",
       "      <td>0.0</td>\n",
       "      <td>...</td>\n",
       "      <td>1.0</td>\n",
       "      <td>1.0</td>\n",
       "      <td>1.0</td>\n",
       "      <td>0.0</td>\n",
       "      <td>0.0</td>\n",
       "      <td>0.0</td>\n",
       "      <td>0.0</td>\n",
       "      <td>0.0</td>\n",
       "      <td>0.0</td>\n",
       "      <td>8.0</td>\n",
       "    </tr>\n",
       "    <tr>\n",
       "      <th>3</th>\n",
       "      <td>595650601</td>\n",
       "      <td>3051</td>\n",
       "      <td>V13</td>\n",
       "      <td>10/2016</td>\n",
       "      <td>0.0</td>\n",
       "      <td>0.0</td>\n",
       "      <td>0.0</td>\n",
       "      <td>0.0</td>\n",
       "      <td>0.0</td>\n",
       "      <td>0.0</td>\n",
       "      <td>...</td>\n",
       "      <td>1.0</td>\n",
       "      <td>1.0</td>\n",
       "      <td>1.0</td>\n",
       "      <td>0.0</td>\n",
       "      <td>0.0</td>\n",
       "      <td>0.0</td>\n",
       "      <td>0.0</td>\n",
       "      <td>0.0</td>\n",
       "      <td>0.0</td>\n",
       "      <td>7.0</td>\n",
       "    </tr>\n",
       "    <tr>\n",
       "      <th>4</th>\n",
       "      <td>417112701</td>\n",
       "      <td>3051</td>\n",
       "      <td>V08</td>\n",
       "      <td>11/2013</td>\n",
       "      <td>0.0</td>\n",
       "      <td>0.0</td>\n",
       "      <td>0.0</td>\n",
       "      <td>0.0</td>\n",
       "      <td>0.0</td>\n",
       "      <td>0.0</td>\n",
       "      <td>...</td>\n",
       "      <td>0.0</td>\n",
       "      <td>0.0</td>\n",
       "      <td>0.0</td>\n",
       "      <td>0.0</td>\n",
       "      <td>0.0</td>\n",
       "      <td>0.0</td>\n",
       "      <td>0.0</td>\n",
       "      <td>0.0</td>\n",
       "      <td>0.0</td>\n",
       "      <td>4.0</td>\n",
       "    </tr>\n",
       "  </tbody>\n",
       "</table>\n",
       "<p>5 rows × 56 columns</p>\n",
       "</div>"
      ],
      "text/plain": [
       "      REC_ID  PATNO EVENT_ID   INFODT  DFSTROKE  DFRSKFCT  DFPRESNT  DFRPROG  \\\n",
       "0  544962901   3051      V12  11/2015       0.0       0.0       0.0      0.0   \n",
       "1  378904801   3051      V06  11/2012       0.0       0.0       0.0      0.0   \n",
       "2  659585301   3051      V14  10/2017       0.0       0.0       0.0      0.0   \n",
       "3  595650601   3051      V13  10/2016       0.0       0.0       0.0      0.0   \n",
       "4  417112701   3051      V08  11/2013       0.0       0.0       0.0      0.0   \n",
       "\n",
       "   DFSTATIC  DFHEMPRK    ...     DFSEXDYS  DFURDYS DFBWLDYS  DFOCULO  \\\n",
       "0       0.0       0.0    ...          0.0      1.0      1.0      0.0   \n",
       "1       0.0       0.0    ...          1.0      1.0      0.0      0.0   \n",
       "2       0.0       0.0    ...          1.0      1.0      1.0      0.0   \n",
       "3       0.0       0.0    ...          1.0      1.0      1.0      0.0   \n",
       "4       0.0       0.0    ...          0.0      0.0      0.0      0.0   \n",
       "\n",
       "   DFEYELID  DFNEURAB  DFRAPSPE DFBULBAR  DFATYP  sum_feat  \n",
       "0       0.0       0.0       0.0      0.0     0.0       6.0  \n",
       "1       0.0       0.0       0.0      0.0     0.0       6.0  \n",
       "2       0.0       0.0       0.0      0.0     0.0       8.0  \n",
       "3       0.0       0.0       0.0      0.0     0.0       7.0  \n",
       "4       0.0       0.0       0.0      0.0     0.0       4.0  \n",
       "\n",
       "[5 rows x 56 columns]"
      ]
     },
     "execution_count": 32,
     "metadata": {},
     "output_type": "execute_result"
    }
   ],
   "source": [
    "folder_path='/Users/alicemartin/02_DSR_Project/parkinson-disease-project/data/PPMI-final-dataset-382018/5-Medical-History/'\n",
    "files_names=reading_csv_files(folder_path)[1]\n",
    "dict_files=reading_csv_files(folder_path)[2]\n",
    "\n",
    "### 'Diagnostic_Features.csv': useful: Feat-PD - 1670 patients.\n",
    "DIAGFEAT=dict_files[files_names[1]]\n",
    "\n",
    "#using SEL2 for now: removing features with Non applicable values\n",
    "SEL2=[ 'REC_ID','PATNO', 'EVENT_ID','INFODT',\n",
    "       'DFSTROKE', 'DFRSKFCT', 'DFPRESNT', 'DFRPROG', 'DFSTATIC', 'DFHEMPRK',\n",
    "       'DFAGESX', 'DFOTHCRS', 'DFCRSCM', 'DFRTREMP', 'DFRTREMA', 'DFPATREM',\n",
    "       'DFOTHTRM', 'DFTREMCM', 'DFRIGIDP', 'DFRIGIDA', 'DFAXRIG', 'DFUNIRIG',\n",
    "       'DFTONE', 'DFOTHRIG', 'DFRIGCM', 'DFBRADYP', 'DFBRADYA', 'DFAKINES',\n",
    "       'DFBRPLUS', 'DFOTHABR', 'DFABRCM', 'DFPGDIST', 'DFGAIT', 'DFFREEZ',\n",
    "       'DFFALLS', 'DFOTHPG', 'DFPGCM', 'DFPSYCH', 'DFCOGNIT', 'DFDYSTON',\n",
    "       'DFCHOREA', 'DFMYOCLO', 'DFOTHHYP', 'DFHYPCM', 'DFHEMTRO', 'DFPSHYPO',\n",
    "       'DFSEXDYS', 'DFURDYS', 'DFBWLDYS', 'DFOCULO', 'DFEYELID', 'DFNEURAB',\n",
    "       'DFRAPSPE', 'DFBULBAR','DFATYP']\n",
    "## features removed.\n",
    "#SEL2=SEL.remove('DFCTSCAN')\n",
    "#SEL2=SEL.remove('DFDOPRSP')\n",
    "#SEL2=SEL.remove('DFMRI')\n",
    "\n",
    "# seleting the patients and features\n",
    "patients_sel=patients_selection(DIAGFEAT,6)[0]\n",
    "DIAGFEAT_sel=patients_selection(DIAGFEAT,6)[1]\n",
    "DIAGFEAT_sel=DIAGFEAT_sel[SEL2]\n",
    "DIAGFEAT_sel.reset_index(drop=True,inplace=True)\n",
    "\n",
    "#Add one feature: summing the binary PD measurements \n",
    "DIAGFEAT_sel['sum_feat']=DIAGFEAT_sel.iloc[:,range(4,55)].sum(axis=1)\n",
    "\n",
    "DIAGFEAT_sel.head()"
   ]
  },
  {
   "cell_type": "markdown",
   "metadata": {},
   "source": [
    "### Creating the Labels."
   ]
  },
  {
   "cell_type": "code",
   "execution_count": 33,
   "metadata": {},
   "outputs": [
    {
     "name": "stdout",
     "output_type": "stream",
     "text": [
      "(320, 18)\n"
     ]
    },
    {
     "data": {
      "text/html": [
       "<div>\n",
       "<style scoped>\n",
       "    .dataframe tbody tr th:only-of-type {\n",
       "        vertical-align: middle;\n",
       "    }\n",
       "\n",
       "    .dataframe tbody tr th {\n",
       "        vertical-align: top;\n",
       "    }\n",
       "\n",
       "    .dataframe thead th {\n",
       "        text-align: right;\n",
       "    }\n",
       "</style>\n",
       "<table border=\"1\" class=\"dataframe\">\n",
       "  <thead>\n",
       "    <tr style=\"text-align: right;\">\n",
       "      <th></th>\n",
       "      <th>REC_ID</th>\n",
       "      <th>PATNO</th>\n",
       "      <th>EVENT_ID</th>\n",
       "      <th>INFODT</th>\n",
       "      <th>MSEADLG</th>\n",
       "    </tr>\n",
       "  </thead>\n",
       "  <tbody>\n",
       "    <tr>\n",
       "      <th>506</th>\n",
       "      <td>320322201</td>\n",
       "      <td>3051</td>\n",
       "      <td>V04</td>\n",
       "      <td>11/2011</td>\n",
       "      <td>95.0</td>\n",
       "    </tr>\n",
       "    <tr>\n",
       "      <th>4405</th>\n",
       "      <td>478012101</td>\n",
       "      <td>3051</td>\n",
       "      <td>V10</td>\n",
       "      <td>11/2014</td>\n",
       "      <td>80.0</td>\n",
       "    </tr>\n",
       "    <tr>\n",
       "      <th>3626</th>\n",
       "      <td>436854001</td>\n",
       "      <td>3051</td>\n",
       "      <td>V09</td>\n",
       "      <td>04/2014</td>\n",
       "      <td>85.0</td>\n",
       "    </tr>\n",
       "    <tr>\n",
       "      <th>956</th>\n",
       "      <td>346352601</td>\n",
       "      <td>3051</td>\n",
       "      <td>V05</td>\n",
       "      <td>05/2012</td>\n",
       "      <td>95.0</td>\n",
       "    </tr>\n",
       "    <tr>\n",
       "      <th>3039</th>\n",
       "      <td>417119301</td>\n",
       "      <td>3051</td>\n",
       "      <td>V08</td>\n",
       "      <td>11/2013</td>\n",
       "      <td>85.0</td>\n",
       "    </tr>\n",
       "  </tbody>\n",
       "</table>\n",
       "</div>"
      ],
      "text/plain": [
       "         REC_ID  PATNO EVENT_ID   INFODT  MSEADLG\n",
       "506   320322201   3051      V04  11/2011     95.0\n",
       "4405  478012101   3051      V10  11/2014     80.0\n",
       "3626  436854001   3051      V09  04/2014     85.0\n",
       "956   346352601   3051      V05  05/2012     95.0\n",
       "3039  417119301   3051      V08  11/2013     85.0"
      ]
     },
     "execution_count": 33,
     "metadata": {},
     "output_type": "execute_result"
    }
   ],
   "source": [
    "### 'Modified_Schwab_+_England_ADL.csv' - 1837 patients\n",
    "folder_path='/Users/alicemartin/02_DSR_Project/parkinson-disease-project/data/PPMI-final-dataset-382018/6-Motor-Assessments/'\n",
    "files_names=reading_csv_files(folder_path)[1]\n",
    "dict_files=reading_csv_files(folder_path)[2]\n",
    "\n",
    "MODSEADL=dict_files[files_names[6]]\n",
    "\n",
    "# seleting the patients and features\n",
    "patients_sel=patients_selection(MODSEADL,6)[0]\n",
    "MODSEADL_sel=patients_selection(MODSEADL,6)[1]\n",
    "SEL=['REC_ID','PATNO','EVENT_ID','INFODT','MSEADLG']\n",
    "MODSEADL_sel=MODSEADL_sel[SEL]\n",
    "\n",
    "# finding the patient set intersection between features and labels \n",
    "labels_pat=patients_selection(MODSEADL,6)[0] \n",
    "feat_pat=patients_selection(DIAGFEAT_sel,6)[0]\n",
    "intersect=list(set(labels_pat) & set(feat_pat)) # ok cool: all the patients in DIAGFEAT are in MODSEADL. \n",
    "#print(len(intersect))\n",
    "\n",
    "# selecting only the intersect patients.\n",
    "MODSEADL_sel2=MODSEADL_sel.loc[MODSEADL_sel['PATNO'].isin(intersect),:]\n",
    "print(number_of_patients(MODSEADL_sel2))\n",
    "#MODSEADL_sel2.reset_index(drop=True,inplace=True)\n",
    "MODSEADL_sel2.head()"
   ]
  },
  {
   "cell_type": "code",
   "execution_count": 46,
   "metadata": {},
   "outputs": [
    {
     "data": {
      "text/html": [
       "<div>\n",
       "<style scoped>\n",
       "    .dataframe tbody tr th:only-of-type {\n",
       "        vertical-align: middle;\n",
       "    }\n",
       "\n",
       "    .dataframe tbody tr th {\n",
       "        vertical-align: top;\n",
       "    }\n",
       "\n",
       "    .dataframe thead th {\n",
       "        text-align: right;\n",
       "    }\n",
       "</style>\n",
       "<table border=\"1\" class=\"dataframe\">\n",
       "  <thead>\n",
       "    <tr style=\"text-align: right;\">\n",
       "      <th></th>\n",
       "      <th>REC_ID_x</th>\n",
       "      <th>PATNO</th>\n",
       "      <th>EVENT_ID</th>\n",
       "      <th>INFODT</th>\n",
       "      <th>DFSTROKE</th>\n",
       "      <th>DFRSKFCT</th>\n",
       "      <th>DFPRESNT</th>\n",
       "      <th>DFRPROG</th>\n",
       "      <th>DFSTATIC</th>\n",
       "      <th>DFHEMPRK</th>\n",
       "      <th>...</th>\n",
       "      <th>DFBWLDYS</th>\n",
       "      <th>DFOCULO</th>\n",
       "      <th>DFEYELID</th>\n",
       "      <th>DFNEURAB</th>\n",
       "      <th>DFRAPSPE</th>\n",
       "      <th>DFBULBAR</th>\n",
       "      <th>DFATYP</th>\n",
       "      <th>sum_feat</th>\n",
       "      <th>REC_ID_y</th>\n",
       "      <th>MSEADLG</th>\n",
       "    </tr>\n",
       "  </thead>\n",
       "  <tbody>\n",
       "    <tr>\n",
       "      <th>0</th>\n",
       "      <td>544962901</td>\n",
       "      <td>3051</td>\n",
       "      <td>V12</td>\n",
       "      <td>11/2015</td>\n",
       "      <td>0.0</td>\n",
       "      <td>0.0</td>\n",
       "      <td>0.0</td>\n",
       "      <td>0.0</td>\n",
       "      <td>0.0</td>\n",
       "      <td>0.0</td>\n",
       "      <td>...</td>\n",
       "      <td>1.0</td>\n",
       "      <td>0.0</td>\n",
       "      <td>0.0</td>\n",
       "      <td>0.0</td>\n",
       "      <td>0.0</td>\n",
       "      <td>0.0</td>\n",
       "      <td>0.0</td>\n",
       "      <td>6.0</td>\n",
       "      <td>544964201.0</td>\n",
       "      <td>75.0</td>\n",
       "    </tr>\n",
       "    <tr>\n",
       "      <th>1</th>\n",
       "      <td>378904801</td>\n",
       "      <td>3051</td>\n",
       "      <td>V06</td>\n",
       "      <td>11/2012</td>\n",
       "      <td>0.0</td>\n",
       "      <td>0.0</td>\n",
       "      <td>0.0</td>\n",
       "      <td>0.0</td>\n",
       "      <td>0.0</td>\n",
       "      <td>0.0</td>\n",
       "      <td>...</td>\n",
       "      <td>0.0</td>\n",
       "      <td>0.0</td>\n",
       "      <td>0.0</td>\n",
       "      <td>0.0</td>\n",
       "      <td>0.0</td>\n",
       "      <td>0.0</td>\n",
       "      <td>0.0</td>\n",
       "      <td>6.0</td>\n",
       "      <td>378915401.0</td>\n",
       "      <td>95.0</td>\n",
       "    </tr>\n",
       "    <tr>\n",
       "      <th>2</th>\n",
       "      <td>659585301</td>\n",
       "      <td>3051</td>\n",
       "      <td>V14</td>\n",
       "      <td>10/2017</td>\n",
       "      <td>0.0</td>\n",
       "      <td>0.0</td>\n",
       "      <td>0.0</td>\n",
       "      <td>0.0</td>\n",
       "      <td>0.0</td>\n",
       "      <td>0.0</td>\n",
       "      <td>...</td>\n",
       "      <td>1.0</td>\n",
       "      <td>0.0</td>\n",
       "      <td>0.0</td>\n",
       "      <td>0.0</td>\n",
       "      <td>0.0</td>\n",
       "      <td>0.0</td>\n",
       "      <td>0.0</td>\n",
       "      <td>8.0</td>\n",
       "      <td>659589001.0</td>\n",
       "      <td>90.0</td>\n",
       "    </tr>\n",
       "    <tr>\n",
       "      <th>3</th>\n",
       "      <td>595650601</td>\n",
       "      <td>3051</td>\n",
       "      <td>V13</td>\n",
       "      <td>10/2016</td>\n",
       "      <td>0.0</td>\n",
       "      <td>0.0</td>\n",
       "      <td>0.0</td>\n",
       "      <td>0.0</td>\n",
       "      <td>0.0</td>\n",
       "      <td>0.0</td>\n",
       "      <td>...</td>\n",
       "      <td>1.0</td>\n",
       "      <td>0.0</td>\n",
       "      <td>0.0</td>\n",
       "      <td>0.0</td>\n",
       "      <td>0.0</td>\n",
       "      <td>0.0</td>\n",
       "      <td>0.0</td>\n",
       "      <td>7.0</td>\n",
       "      <td>595656701.0</td>\n",
       "      <td>80.0</td>\n",
       "    </tr>\n",
       "    <tr>\n",
       "      <th>4</th>\n",
       "      <td>417112701</td>\n",
       "      <td>3051</td>\n",
       "      <td>V08</td>\n",
       "      <td>11/2013</td>\n",
       "      <td>0.0</td>\n",
       "      <td>0.0</td>\n",
       "      <td>0.0</td>\n",
       "      <td>0.0</td>\n",
       "      <td>0.0</td>\n",
       "      <td>0.0</td>\n",
       "      <td>...</td>\n",
       "      <td>0.0</td>\n",
       "      <td>0.0</td>\n",
       "      <td>0.0</td>\n",
       "      <td>0.0</td>\n",
       "      <td>0.0</td>\n",
       "      <td>0.0</td>\n",
       "      <td>0.0</td>\n",
       "      <td>4.0</td>\n",
       "      <td>417119301.0</td>\n",
       "      <td>85.0</td>\n",
       "    </tr>\n",
       "  </tbody>\n",
       "</table>\n",
       "<p>5 rows × 58 columns</p>\n",
       "</div>"
      ],
      "text/plain": [
       "    REC_ID_x  PATNO EVENT_ID   INFODT  DFSTROKE  DFRSKFCT  DFPRESNT  DFRPROG  \\\n",
       "0  544962901   3051      V12  11/2015       0.0       0.0       0.0      0.0   \n",
       "1  378904801   3051      V06  11/2012       0.0       0.0       0.0      0.0   \n",
       "2  659585301   3051      V14  10/2017       0.0       0.0       0.0      0.0   \n",
       "3  595650601   3051      V13  10/2016       0.0       0.0       0.0      0.0   \n",
       "4  417112701   3051      V08  11/2013       0.0       0.0       0.0      0.0   \n",
       "\n",
       "   DFSTATIC  DFHEMPRK   ...     DFBWLDYS  DFOCULO DFEYELID  DFNEURAB  \\\n",
       "0       0.0       0.0   ...          1.0      0.0      0.0       0.0   \n",
       "1       0.0       0.0   ...          0.0      0.0      0.0       0.0   \n",
       "2       0.0       0.0   ...          1.0      0.0      0.0       0.0   \n",
       "3       0.0       0.0   ...          1.0      0.0      0.0       0.0   \n",
       "4       0.0       0.0   ...          0.0      0.0      0.0       0.0   \n",
       "\n",
       "   DFRAPSPE  DFBULBAR  DFATYP sum_feat     REC_ID_y  MSEADLG  \n",
       "0       0.0       0.0     0.0      6.0  544964201.0     75.0  \n",
       "1       0.0       0.0     0.0      6.0  378915401.0     95.0  \n",
       "2       0.0       0.0     0.0      8.0  659589001.0     90.0  \n",
       "3       0.0       0.0     0.0      7.0  595656701.0     80.0  \n",
       "4       0.0       0.0     0.0      4.0  417119301.0     85.0  \n",
       "\n",
       "[5 rows x 58 columns]"
      ]
     },
     "execution_count": 46,
     "metadata": {},
     "output_type": "execute_result"
    }
   ],
   "source": [
    "# merging features & label for plotting: \n",
    "#MODSEADL_sel2=MODSEADL_sel.loc[intersect,:]\n",
    "diagfeat_EADL=pd.merge(DIAGFEAT_sel,MODSEADL_sel2,on=['PATNO','EVENT_ID','INFODT'],how='left')\n",
    "diagfeat_EADL.head()"
   ]
  },
  {
   "cell_type": "markdown",
   "metadata": {},
   "source": [
    "## 2-Plotting. "
   ]
  },
  {
   "cell_type": "markdown",
   "metadata": {},
   "source": [
    "### Features"
   ]
  },
  {
   "cell_type": "code",
   "execution_count": 40,
   "metadata": {},
   "outputs": [],
   "source": [
    "# simple Matplotlib graph\n",
    "df_3051=diagfeat_EADL.loc[diagfeat_EADL['PATNO']==3051,:]\n",
    "#plt.plot(df_3051['INFODT'], df_3051['MSEADLG'])\n",
    "#plt.show()"
   ]
  },
  {
   "cell_type": "code",
   "execution_count": 45,
   "metadata": {},
   "outputs": [
    {
     "data": {
      "text/html": [
       "<script>requirejs.config({paths: { 'plotly': ['https://cdn.plot.ly/plotly-latest.min']},});if(!window.Plotly) {{require(['plotly'],function(plotly) {window.Plotly=plotly;});}}</script>"
      ],
      "text/vnd.plotly.v1+html": [
       "<script>requirejs.config({paths: { 'plotly': ['https://cdn.plot.ly/plotly-latest.min']},});if(!window.Plotly) {{require(['plotly'],function(plotly) {window.Plotly=plotly;});}}</script>"
      ]
     },
     "metadata": {},
     "output_type": "display_data"
    },
    {
     "data": {
      "application/vnd.plotly.v1+json": {
       "data": [
        {
         "line": {
          "color": "rgba(255, 153, 51, 1.0)",
          "dash": "solid",
          "width": 1.3
         },
         "marker": {
          "size": 12,
          "symbol": "dot"
         },
         "mode": "lines+markers",
         "name": "DFSTROKE",
         "text": "",
         "type": "scatter",
         "x": [
          "11/2015",
          "11/2012",
          "10/2017",
          "10/2016",
          "11/2013",
          "11/2014"
         ],
         "y": [
          0,
          0,
          0,
          0,
          0,
          0
         ]
        },
        {
         "line": {
          "color": "rgba(55, 128, 191, 1.0)",
          "dash": "solid",
          "width": 1.3
         },
         "marker": {
          "size": 12,
          "symbol": "dot"
         },
         "mode": "lines+markers",
         "name": "DFRSKFCT",
         "text": "",
         "type": "scatter",
         "x": [
          "11/2015",
          "11/2012",
          "10/2017",
          "10/2016",
          "11/2013",
          "11/2014"
         ],
         "y": [
          0,
          0,
          0,
          0,
          0,
          0
         ]
        },
        {
         "line": {
          "color": "rgba(50, 171, 96, 1.0)",
          "dash": "solid",
          "width": 1.3
         },
         "marker": {
          "size": 12,
          "symbol": "dot"
         },
         "mode": "lines+markers",
         "name": "DFPRESNT",
         "text": "",
         "type": "scatter",
         "x": [
          "11/2015",
          "11/2012",
          "10/2017",
          "10/2016",
          "11/2013",
          "11/2014"
         ],
         "y": [
          0,
          0,
          0,
          0,
          0,
          0
         ]
        },
        {
         "line": {
          "color": "rgba(128, 0, 128, 1.0)",
          "dash": "solid",
          "width": 1.3
         },
         "marker": {
          "size": 12,
          "symbol": "dot"
         },
         "mode": "lines+markers",
         "name": "DFRPROG",
         "text": "",
         "type": "scatter",
         "x": [
          "11/2015",
          "11/2012",
          "10/2017",
          "10/2016",
          "11/2013",
          "11/2014"
         ],
         "y": [
          0,
          0,
          0,
          0,
          0,
          0
         ]
        },
        {
         "line": {
          "color": "rgba(219, 64, 82, 1.0)",
          "dash": "solid",
          "width": 1.3
         },
         "marker": {
          "size": 12,
          "symbol": "dot"
         },
         "mode": "lines+markers",
         "name": "DFSTATIC",
         "text": "",
         "type": "scatter",
         "x": [
          "11/2015",
          "11/2012",
          "10/2017",
          "10/2016",
          "11/2013",
          "11/2014"
         ],
         "y": [
          0,
          0,
          0,
          0,
          0,
          0
         ]
        },
        {
         "line": {
          "color": "rgba(0, 128, 128, 1.0)",
          "dash": "solid",
          "width": 1.3
         },
         "marker": {
          "size": 12,
          "symbol": "dot"
         },
         "mode": "lines+markers",
         "name": "DFHEMPRK",
         "text": "",
         "type": "scatter",
         "x": [
          "11/2015",
          "11/2012",
          "10/2017",
          "10/2016",
          "11/2013",
          "11/2014"
         ],
         "y": [
          0,
          0,
          0,
          0,
          0,
          0
         ]
        },
        {
         "line": {
          "color": "rgba(255, 255, 51, 1.0)",
          "dash": "solid",
          "width": 1.3
         },
         "marker": {
          "size": 12,
          "symbol": "dot"
         },
         "mode": "lines+markers",
         "name": "DFAGESX",
         "text": "",
         "type": "scatter",
         "x": [
          "11/2015",
          "11/2012",
          "10/2017",
          "10/2016",
          "11/2013",
          "11/2014"
         ],
         "y": [
          0,
          0,
          0,
          0,
          0,
          0
         ]
        },
        {
         "line": {
          "color": "rgba(128, 128, 0, 1.0)",
          "dash": "solid",
          "width": 1.3
         },
         "marker": {
          "size": 12,
          "symbol": "dot"
         },
         "mode": "lines+markers",
         "name": "DFOTHCRS",
         "text": "",
         "type": "scatter",
         "x": [
          "11/2015",
          "11/2012",
          "10/2017",
          "10/2016",
          "11/2013",
          "11/2014"
         ],
         "y": [
          0,
          0,
          0,
          0,
          0,
          0
         ]
        },
        {
         "line": {
          "color": "rgba(251, 128, 114, 1.0)",
          "dash": "solid",
          "width": 1.3
         },
         "marker": {
          "size": 12,
          "symbol": "dot"
         },
         "mode": "lines+markers",
         "name": "DFCRSCM",
         "text": "",
         "type": "scatter",
         "x": [
          "11/2015",
          "11/2012",
          "10/2017",
          "10/2016",
          "11/2013",
          "11/2014"
         ],
         "y": [
          "",
          "",
          "",
          "",
          "",
          ""
         ]
        },
        {
         "line": {
          "color": "rgba(128, 177, 211, 1.0)",
          "dash": "solid",
          "width": 1.3
         },
         "marker": {
          "size": 12,
          "symbol": "dot"
         },
         "mode": "lines+markers",
         "name": "DFRTREMP",
         "text": "",
         "type": "scatter",
         "x": [
          "11/2015",
          "11/2012",
          "10/2017",
          "10/2016",
          "11/2013",
          "11/2014"
         ],
         "y": [
          1,
          1,
          1,
          1,
          1,
          1
         ]
        },
        {
         "line": {
          "color": "rgba(128, 177, 211, 0.8999999999999999)",
          "dash": "solid",
          "width": 1.3
         },
         "marker": {
          "size": 12,
          "symbol": "dot"
         },
         "mode": "lines+markers",
         "name": "DFRTREMA",
         "text": "",
         "type": "scatter",
         "x": [
          "11/2015",
          "11/2012",
          "10/2017",
          "10/2016",
          "11/2013",
          "11/2014"
         ],
         "y": [
          0,
          0,
          0,
          0,
          0,
          0
         ]
        },
        {
         "line": {
          "color": "rgba(255, 153, 51, 0.8999999999999999)",
          "dash": "solid",
          "width": 1.3
         },
         "marker": {
          "size": 12,
          "symbol": "dot"
         },
         "mode": "lines+markers",
         "name": "DFPATREM",
         "text": "",
         "type": "scatter",
         "x": [
          "11/2015",
          "11/2012",
          "10/2017",
          "10/2016",
          "11/2013",
          "11/2014"
         ],
         "y": [
          0,
          0,
          0,
          0,
          0,
          0
         ]
        },
        {
         "line": {
          "color": "rgba(55, 128, 191, 0.8999999999999999)",
          "dash": "solid",
          "width": 1.3
         },
         "marker": {
          "size": 12,
          "symbol": "dot"
         },
         "mode": "lines+markers",
         "name": "DFOTHTRM",
         "text": "",
         "type": "scatter",
         "x": [
          "11/2015",
          "11/2012",
          "10/2017",
          "10/2016",
          "11/2013",
          "11/2014"
         ],
         "y": [
          0,
          0,
          0,
          0,
          0,
          0
         ]
        },
        {
         "line": {
          "color": "rgba(50, 171, 96, 0.8999999999999999)",
          "dash": "solid",
          "width": 1.3
         },
         "marker": {
          "size": 12,
          "symbol": "dot"
         },
         "mode": "lines+markers",
         "name": "DFTREMCM",
         "text": "",
         "type": "scatter",
         "x": [
          "11/2015",
          "11/2012",
          "10/2017",
          "10/2016",
          "11/2013",
          "11/2014"
         ],
         "y": [
          "",
          "",
          "",
          "",
          "",
          ""
         ]
        },
        {
         "line": {
          "color": "rgba(128, 0, 128, 0.8999999999999999)",
          "dash": "solid",
          "width": 1.3
         },
         "marker": {
          "size": 12,
          "symbol": "dot"
         },
         "mode": "lines+markers",
         "name": "DFRIGIDP",
         "text": "",
         "type": "scatter",
         "x": [
          "11/2015",
          "11/2012",
          "10/2017",
          "10/2016",
          "11/2013",
          "11/2014"
         ],
         "y": [
          1,
          1,
          1,
          1,
          1,
          1
         ]
        },
        {
         "line": {
          "color": "rgba(219, 64, 82, 0.8999999999999999)",
          "dash": "solid",
          "width": 1.3
         },
         "marker": {
          "size": 12,
          "symbol": "dot"
         },
         "mode": "lines+markers",
         "name": "DFRIGIDA",
         "text": "",
         "type": "scatter",
         "x": [
          "11/2015",
          "11/2012",
          "10/2017",
          "10/2016",
          "11/2013",
          "11/2014"
         ],
         "y": [
          0,
          0,
          0,
          0,
          0,
          0
         ]
        },
        {
         "line": {
          "color": "rgba(0, 128, 128, 0.8999999999999999)",
          "dash": "solid",
          "width": 1.3
         },
         "marker": {
          "size": 12,
          "symbol": "dot"
         },
         "mode": "lines+markers",
         "name": "DFAXRIG",
         "text": "",
         "type": "scatter",
         "x": [
          "11/2015",
          "11/2012",
          "10/2017",
          "10/2016",
          "11/2013",
          "11/2014"
         ],
         "y": [
          0,
          0,
          0,
          0,
          0,
          0
         ]
        },
        {
         "line": {
          "color": "rgba(255, 255, 51, 0.8999999999999999)",
          "dash": "solid",
          "width": 1.3
         },
         "marker": {
          "size": 12,
          "symbol": "dot"
         },
         "mode": "lines+markers",
         "name": "DFUNIRIG",
         "text": "",
         "type": "scatter",
         "x": [
          "11/2015",
          "11/2012",
          "10/2017",
          "10/2016",
          "11/2013",
          "11/2014"
         ],
         "y": [
          0,
          0,
          0,
          0,
          0,
          0
         ]
        },
        {
         "line": {
          "color": "rgba(128, 128, 0, 0.8999999999999999)",
          "dash": "solid",
          "width": 1.3
         },
         "marker": {
          "size": 12,
          "symbol": "dot"
         },
         "mode": "lines+markers",
         "name": "DFTONE",
         "text": "",
         "type": "scatter",
         "x": [
          "11/2015",
          "11/2012",
          "10/2017",
          "10/2016",
          "11/2013",
          "11/2014"
         ],
         "y": [
          0,
          0,
          0,
          0,
          0,
          0
         ]
        },
        {
         "line": {
          "color": "rgba(251, 128, 114, 0.8999999999999999)",
          "dash": "solid",
          "width": 1.3
         },
         "marker": {
          "size": 12,
          "symbol": "dot"
         },
         "mode": "lines+markers",
         "name": "DFOTHRIG",
         "text": "",
         "type": "scatter",
         "x": [
          "11/2015",
          "11/2012",
          "10/2017",
          "10/2016",
          "11/2013",
          "11/2014"
         ],
         "y": [
          0,
          0,
          0,
          0,
          0,
          0
         ]
        },
        {
         "line": {
          "color": "rgba(251, 128, 114, 0.7999999999999998)",
          "dash": "solid",
          "width": 1.3
         },
         "marker": {
          "size": 12,
          "symbol": "dot"
         },
         "mode": "lines+markers",
         "name": "DFRIGCM",
         "text": "",
         "type": "scatter",
         "x": [
          "11/2015",
          "11/2012",
          "10/2017",
          "10/2016",
          "11/2013",
          "11/2014"
         ],
         "y": [
          "",
          "",
          "",
          "",
          "",
          ""
         ]
        },
        {
         "line": {
          "color": "rgba(128, 177, 211, 0.7999999999999998)",
          "dash": "solid",
          "width": 1.3
         },
         "marker": {
          "size": 12,
          "symbol": "dot"
         },
         "mode": "lines+markers",
         "name": "DFBRADYP",
         "text": "",
         "type": "scatter",
         "x": [
          "11/2015",
          "11/2012",
          "10/2017",
          "10/2016",
          "11/2013",
          "11/2014"
         ],
         "y": [
          1,
          1,
          1,
          1,
          1,
          1
         ]
        },
        {
         "line": {
          "color": "rgba(255, 153, 51, 0.7999999999999998)",
          "dash": "solid",
          "width": 1.3
         },
         "marker": {
          "size": 12,
          "symbol": "dot"
         },
         "mode": "lines+markers",
         "name": "DFBRADYA",
         "text": "",
         "type": "scatter",
         "x": [
          "11/2015",
          "11/2012",
          "10/2017",
          "10/2016",
          "11/2013",
          "11/2014"
         ],
         "y": [
          0,
          0,
          0,
          0,
          0,
          0
         ]
        },
        {
         "line": {
          "color": "rgba(55, 128, 191, 0.7999999999999998)",
          "dash": "solid",
          "width": 1.3
         },
         "marker": {
          "size": 12,
          "symbol": "dot"
         },
         "mode": "lines+markers",
         "name": "DFAKINES",
         "text": "",
         "type": "scatter",
         "x": [
          "11/2015",
          "11/2012",
          "10/2017",
          "10/2016",
          "11/2013",
          "11/2014"
         ],
         "y": [
          0,
          0,
          0,
          0,
          0,
          0
         ]
        },
        {
         "line": {
          "color": "rgba(50, 171, 96, 0.7999999999999998)",
          "dash": "solid",
          "width": 1.3
         },
         "marker": {
          "size": 12,
          "symbol": "dot"
         },
         "mode": "lines+markers",
         "name": "DFBRPLUS",
         "text": "",
         "type": "scatter",
         "x": [
          "11/2015",
          "11/2012",
          "10/2017",
          "10/2016",
          "11/2013",
          "11/2014"
         ],
         "y": [
          0,
          0,
          0,
          0,
          0,
          0
         ]
        },
        {
         "line": {
          "color": "rgba(128, 0, 128, 0.7999999999999998)",
          "dash": "solid",
          "width": 1.3
         },
         "marker": {
          "size": 12,
          "symbol": "dot"
         },
         "mode": "lines+markers",
         "name": "DFOTHABR",
         "text": "",
         "type": "scatter",
         "x": [
          "11/2015",
          "11/2012",
          "10/2017",
          "10/2016",
          "11/2013",
          "11/2014"
         ],
         "y": [
          0,
          0,
          0,
          0,
          0,
          0
         ]
        },
        {
         "line": {
          "color": "rgba(219, 64, 82, 0.7999999999999998)",
          "dash": "solid",
          "width": 1.3
         },
         "marker": {
          "size": 12,
          "symbol": "dot"
         },
         "mode": "lines+markers",
         "name": "DFABRCM",
         "text": "",
         "type": "scatter",
         "x": [
          "11/2015",
          "11/2012",
          "10/2017",
          "10/2016",
          "11/2013",
          "11/2014"
         ],
         "y": [
          "",
          "",
          "",
          "",
          "",
          ""
         ]
        },
        {
         "line": {
          "color": "rgba(0, 128, 128, 0.7999999999999998)",
          "dash": "solid",
          "width": 1.3
         },
         "marker": {
          "size": 12,
          "symbol": "dot"
         },
         "mode": "lines+markers",
         "name": "DFPGDIST",
         "text": "",
         "type": "scatter",
         "x": [
          "11/2015",
          "11/2012",
          "10/2017",
          "10/2016",
          "11/2013",
          "11/2014"
         ],
         "y": [
          1,
          1,
          1,
          1,
          1,
          1
         ]
        },
        {
         "line": {
          "color": "rgba(255, 255, 51, 0.7999999999999998)",
          "dash": "solid",
          "width": 1.3
         },
         "marker": {
          "size": 12,
          "symbol": "dot"
         },
         "mode": "lines+markers",
         "name": "DFGAIT",
         "text": "",
         "type": "scatter",
         "x": [
          "11/2015",
          "11/2012",
          "10/2017",
          "10/2016",
          "11/2013",
          "11/2014"
         ],
         "y": [
          0,
          0,
          0,
          0,
          0,
          0
         ]
        },
        {
         "line": {
          "color": "rgba(128, 128, 0, 0.7999999999999998)",
          "dash": "solid",
          "width": 1.3
         },
         "marker": {
          "size": 12,
          "symbol": "dot"
         },
         "mode": "lines+markers",
         "name": "DFFREEZ",
         "text": "",
         "type": "scatter",
         "x": [
          "11/2015",
          "11/2012",
          "10/2017",
          "10/2016",
          "11/2013",
          "11/2014"
         ],
         "y": [
          0,
          0,
          0,
          0,
          0,
          0
         ]
        },
        {
         "line": {
          "color": "rgba(128, 128, 0, 0.7)",
          "dash": "solid",
          "width": 1.3
         },
         "marker": {
          "size": 12,
          "symbol": "dot"
         },
         "mode": "lines+markers",
         "name": "DFFALLS",
         "text": "",
         "type": "scatter",
         "x": [
          "11/2015",
          "11/2012",
          "10/2017",
          "10/2016",
          "11/2013",
          "11/2014"
         ],
         "y": [
          0,
          0,
          0,
          0,
          0,
          0
         ]
        },
        {
         "line": {
          "color": "rgba(251, 128, 114, 0.7)",
          "dash": "solid",
          "width": 1.3
         },
         "marker": {
          "size": 12,
          "symbol": "dot"
         },
         "mode": "lines+markers",
         "name": "DFOTHPG",
         "text": "",
         "type": "scatter",
         "x": [
          "11/2015",
          "11/2012",
          "10/2017",
          "10/2016",
          "11/2013",
          "11/2014"
         ],
         "y": [
          0,
          0,
          0,
          0,
          0,
          0
         ]
        },
        {
         "line": {
          "color": "rgba(128, 177, 211, 0.7)",
          "dash": "solid",
          "width": 1.3
         },
         "marker": {
          "size": 12,
          "symbol": "dot"
         },
         "mode": "lines+markers",
         "name": "DFPGCM",
         "text": "",
         "type": "scatter",
         "x": [
          "11/2015",
          "11/2012",
          "10/2017",
          "10/2016",
          "11/2013",
          "11/2014"
         ],
         "y": [
          "",
          "",
          "",
          "",
          "",
          ""
         ]
        },
        {
         "line": {
          "color": "rgba(255, 153, 51, 0.7)",
          "dash": "solid",
          "width": 1.3
         },
         "marker": {
          "size": 12,
          "symbol": "dot"
         },
         "mode": "lines+markers",
         "name": "DFPSYCH",
         "text": "",
         "type": "scatter",
         "x": [
          "11/2015",
          "11/2012",
          "10/2017",
          "10/2016",
          "11/2013",
          "11/2014"
         ],
         "y": [
          0,
          0,
          0,
          0,
          0,
          0
         ]
        },
        {
         "line": {
          "color": "rgba(55, 128, 191, 0.7)",
          "dash": "solid",
          "width": 1.3
         },
         "marker": {
          "size": 12,
          "symbol": "dot"
         },
         "mode": "lines+markers",
         "name": "DFCOGNIT",
         "text": "",
         "type": "scatter",
         "x": [
          "11/2015",
          "11/2012",
          "10/2017",
          "10/2016",
          "11/2013",
          "11/2014"
         ],
         "y": [
          0,
          0,
          0,
          0,
          0,
          0
         ]
        },
        {
         "line": {
          "color": "rgba(50, 171, 96, 0.7)",
          "dash": "solid",
          "width": 1.3
         },
         "marker": {
          "size": 12,
          "symbol": "dot"
         },
         "mode": "lines+markers",
         "name": "DFDYSTON",
         "text": "",
         "type": "scatter",
         "x": [
          "11/2015",
          "11/2012",
          "10/2017",
          "10/2016",
          "11/2013",
          "11/2014"
         ],
         "y": [
          0,
          0,
          0,
          0,
          0,
          0
         ]
        },
        {
         "line": {
          "color": "rgba(128, 0, 128, 0.7)",
          "dash": "solid",
          "width": 1.3
         },
         "marker": {
          "size": 12,
          "symbol": "dot"
         },
         "mode": "lines+markers",
         "name": "DFCHOREA",
         "text": "",
         "type": "scatter",
         "x": [
          "11/2015",
          "11/2012",
          "10/2017",
          "10/2016",
          "11/2013",
          "11/2014"
         ],
         "y": [
          0,
          0,
          0,
          0,
          0,
          0
         ]
        },
        {
         "line": {
          "color": "rgba(219, 64, 82, 0.7)",
          "dash": "solid",
          "width": 1.3
         },
         "marker": {
          "size": 12,
          "symbol": "dot"
         },
         "mode": "lines+markers",
         "name": "DFMYOCLO",
         "text": "",
         "type": "scatter",
         "x": [
          "11/2015",
          "11/2012",
          "10/2017",
          "10/2016",
          "11/2013",
          "11/2014"
         ],
         "y": [
          0,
          0,
          0,
          0,
          0,
          0
         ]
        },
        {
         "line": {
          "color": "rgba(0, 128, 128, 0.7)",
          "dash": "solid",
          "width": 1.3
         },
         "marker": {
          "size": 12,
          "symbol": "dot"
         },
         "mode": "lines+markers",
         "name": "DFOTHHYP",
         "text": "",
         "type": "scatter",
         "x": [
          "11/2015",
          "11/2012",
          "10/2017",
          "10/2016",
          "11/2013",
          "11/2014"
         ],
         "y": [
          0,
          0,
          0,
          0,
          0,
          0
         ]
        },
        {
         "line": {
          "color": "rgba(255, 255, 51, 0.7)",
          "dash": "solid",
          "width": 1.3
         },
         "marker": {
          "size": 12,
          "symbol": "dot"
         },
         "mode": "lines+markers",
         "name": "DFHYPCM",
         "text": "",
         "type": "scatter",
         "x": [
          "11/2015",
          "11/2012",
          "10/2017",
          "10/2016",
          "11/2013",
          "11/2014"
         ],
         "y": [
          "",
          "",
          "",
          "",
          "",
          ""
         ]
        },
        {
         "line": {
          "color": "rgba(255, 255, 51, 0.5999999999999999)",
          "dash": "solid",
          "width": 1.3
         },
         "marker": {
          "size": 12,
          "symbol": "dot"
         },
         "mode": "lines+markers",
         "name": "DFHEMTRO",
         "text": "",
         "type": "scatter",
         "x": [
          "11/2015",
          "11/2012",
          "10/2017",
          "10/2016",
          "11/2013",
          "11/2014"
         ],
         "y": [
          0,
          0,
          0,
          0,
          0,
          0
         ]
        },
        {
         "line": {
          "color": "rgba(128, 128, 0, 0.5999999999999999)",
          "dash": "solid",
          "width": 1.3
         },
         "marker": {
          "size": 12,
          "symbol": "dot"
         },
         "mode": "lines+markers",
         "name": "DFPSHYPO",
         "text": "",
         "type": "scatter",
         "x": [
          "11/2015",
          "11/2012",
          "10/2017",
          "10/2016",
          "11/2013",
          "11/2014"
         ],
         "y": [
          0,
          0,
          1,
          0,
          0,
          0
         ]
        },
        {
         "line": {
          "color": "rgba(251, 128, 114, 0.5999999999999999)",
          "dash": "solid",
          "width": 1.3
         },
         "marker": {
          "size": 12,
          "symbol": "dot"
         },
         "mode": "lines+markers",
         "name": "DFSEXDYS",
         "text": "",
         "type": "scatter",
         "x": [
          "11/2015",
          "11/2012",
          "10/2017",
          "10/2016",
          "11/2013",
          "11/2014"
         ],
         "y": [
          0,
          1,
          1,
          1,
          0,
          0
         ]
        },
        {
         "line": {
          "color": "rgba(128, 177, 211, 0.5999999999999999)",
          "dash": "solid",
          "width": 1.3
         },
         "marker": {
          "size": 12,
          "symbol": "dot"
         },
         "mode": "lines+markers",
         "name": "DFURDYS",
         "text": "",
         "type": "scatter",
         "x": [
          "11/2015",
          "11/2012",
          "10/2017",
          "10/2016",
          "11/2013",
          "11/2014"
         ],
         "y": [
          1,
          1,
          1,
          1,
          0,
          0
         ]
        },
        {
         "line": {
          "color": "rgba(255, 153, 51, 0.5999999999999999)",
          "dash": "solid",
          "width": 1.3
         },
         "marker": {
          "size": 12,
          "symbol": "dot"
         },
         "mode": "lines+markers",
         "name": "DFBWLDYS",
         "text": "",
         "type": "scatter",
         "x": [
          "11/2015",
          "11/2012",
          "10/2017",
          "10/2016",
          "11/2013",
          "11/2014"
         ],
         "y": [
          1,
          0,
          1,
          1,
          0,
          0
         ]
        },
        {
         "line": {
          "color": "rgba(55, 128, 191, 0.5999999999999999)",
          "dash": "solid",
          "width": 1.3
         },
         "marker": {
          "size": 12,
          "symbol": "dot"
         },
         "mode": "lines+markers",
         "name": "DFOCULO",
         "text": "",
         "type": "scatter",
         "x": [
          "11/2015",
          "11/2012",
          "10/2017",
          "10/2016",
          "11/2013",
          "11/2014"
         ],
         "y": [
          0,
          0,
          0,
          0,
          0,
          0
         ]
        },
        {
         "line": {
          "color": "rgba(50, 171, 96, 0.5999999999999999)",
          "dash": "solid",
          "width": 1.3
         },
         "marker": {
          "size": 12,
          "symbol": "dot"
         },
         "mode": "lines+markers",
         "name": "DFEYELID",
         "text": "",
         "type": "scatter",
         "x": [
          "11/2015",
          "11/2012",
          "10/2017",
          "10/2016",
          "11/2013",
          "11/2014"
         ],
         "y": [
          0,
          0,
          0,
          0,
          0,
          0
         ]
        },
        {
         "line": {
          "color": "rgba(128, 0, 128, 0.5999999999999999)",
          "dash": "solid",
          "width": 1.3
         },
         "marker": {
          "size": 12,
          "symbol": "dot"
         },
         "mode": "lines+markers",
         "name": "DFNEURAB",
         "text": "",
         "type": "scatter",
         "x": [
          "11/2015",
          "11/2012",
          "10/2017",
          "10/2016",
          "11/2013",
          "11/2014"
         ],
         "y": [
          0,
          0,
          0,
          0,
          0,
          0
         ]
        },
        {
         "line": {
          "color": "rgba(219, 64, 82, 0.5999999999999999)",
          "dash": "solid",
          "width": 1.3
         },
         "marker": {
          "size": 12,
          "symbol": "dot"
         },
         "mode": "lines+markers",
         "name": "DFRAPSPE",
         "text": "",
         "type": "scatter",
         "x": [
          "11/2015",
          "11/2012",
          "10/2017",
          "10/2016",
          "11/2013",
          "11/2014"
         ],
         "y": [
          0,
          0,
          0,
          0,
          0,
          0
         ]
        },
        {
         "line": {
          "color": "rgba(0, 128, 128, 0.5999999999999999)",
          "dash": "solid",
          "width": 1.3
         },
         "marker": {
          "size": 12,
          "symbol": "dot"
         },
         "mode": "lines+markers",
         "name": "DFBULBAR",
         "text": "",
         "type": "scatter",
         "x": [
          "11/2015",
          "11/2012",
          "10/2017",
          "10/2016",
          "11/2013",
          "11/2014"
         ],
         "y": [
          0,
          0,
          0,
          0,
          0,
          0
         ]
        },
        {
         "line": {
          "color": "rgba(0, 128, 128, 0.49999999999999983)",
          "dash": "solid",
          "width": 1.3
         },
         "marker": {
          "size": 12,
          "symbol": "dot"
         },
         "mode": "lines+markers",
         "name": "DFATYP",
         "text": "",
         "type": "scatter",
         "x": [
          "11/2015",
          "11/2012",
          "10/2017",
          "10/2016",
          "11/2013",
          "11/2014"
         ],
         "y": [
          0,
          0,
          0,
          0,
          0,
          0
         ]
        }
       ],
       "layout": {
        "legend": {
         "bgcolor": "#F5F6F9",
         "font": {
          "color": "#4D5663"
         }
        },
        "paper_bgcolor": "#F5F6F9",
        "plot_bgcolor": "#F5F6F9",
        "titlefont": {
         "color": "#4D5663"
        },
        "xaxis1": {
         "gridcolor": "#E1E5ED",
         "showgrid": true,
         "tickfont": {
          "color": "#4D5663"
         },
         "title": "",
         "titlefont": {
          "color": "#4D5663"
         },
         "zerolinecolor": "#E1E5ED"
        },
        "yaxis1": {
         "gridcolor": "#E1E5ED",
         "showgrid": true,
         "tickfont": {
          "color": "#4D5663"
         },
         "title": "",
         "titlefont": {
          "color": "#4D5663"
         },
         "zerolinecolor": "#E1E5ED"
        }
       }
      },
      "text/html": [
       "<div id=\"05921bc7-9ee4-4977-9ecb-349d8bef6362\" style=\"height: 525px; width: 100%;\" class=\"plotly-graph-div\"></div><script type=\"text/javascript\">require([\"plotly\"], function(Plotly) { window.PLOTLYENV=window.PLOTLYENV || {};window.PLOTLYENV.BASE_URL=\"https://plot.ly\";Plotly.newPlot(\"05921bc7-9ee4-4977-9ecb-349d8bef6362\", [{\"type\": \"scatter\", \"x\": [\"11/2015\", \"11/2012\", \"10/2017\", \"10/2016\", \"11/2013\", \"11/2014\"], \"y\": [0.0, 0.0, 0.0, 0.0, 0.0, 0.0], \"name\": \"DFSTROKE\", \"text\": \"\", \"line\": {\"color\": \"rgba(255, 153, 51, 1.0)\", \"width\": 1.3, \"dash\": \"solid\"}, \"mode\": \"lines+markers\", \"marker\": {\"symbol\": \"dot\", \"size\": 12}}, {\"type\": \"scatter\", \"x\": [\"11/2015\", \"11/2012\", \"10/2017\", \"10/2016\", \"11/2013\", \"11/2014\"], \"y\": [0.0, 0.0, 0.0, 0.0, 0.0, 0.0], \"name\": \"DFRSKFCT\", \"text\": \"\", \"line\": {\"color\": \"rgba(55, 128, 191, 1.0)\", \"width\": 1.3, \"dash\": \"solid\"}, \"mode\": \"lines+markers\", \"marker\": {\"symbol\": \"dot\", \"size\": 12}}, {\"type\": \"scatter\", \"x\": [\"11/2015\", \"11/2012\", \"10/2017\", \"10/2016\", \"11/2013\", \"11/2014\"], \"y\": [0.0, 0.0, 0.0, 0.0, 0.0, 0.0], \"name\": \"DFPRESNT\", \"text\": \"\", \"line\": {\"color\": \"rgba(50, 171, 96, 1.0)\", \"width\": 1.3, \"dash\": \"solid\"}, \"mode\": \"lines+markers\", \"marker\": {\"symbol\": \"dot\", \"size\": 12}}, {\"type\": \"scatter\", \"x\": [\"11/2015\", \"11/2012\", \"10/2017\", \"10/2016\", \"11/2013\", \"11/2014\"], \"y\": [0.0, 0.0, 0.0, 0.0, 0.0, 0.0], \"name\": \"DFRPROG\", \"text\": \"\", \"line\": {\"color\": \"rgba(128, 0, 128, 1.0)\", \"width\": 1.3, \"dash\": \"solid\"}, \"mode\": \"lines+markers\", \"marker\": {\"symbol\": \"dot\", \"size\": 12}}, {\"type\": \"scatter\", \"x\": [\"11/2015\", \"11/2012\", \"10/2017\", \"10/2016\", \"11/2013\", \"11/2014\"], \"y\": [0.0, 0.0, 0.0, 0.0, 0.0, 0.0], \"name\": \"DFSTATIC\", \"text\": \"\", \"line\": {\"color\": \"rgba(219, 64, 82, 1.0)\", \"width\": 1.3, \"dash\": \"solid\"}, \"mode\": \"lines+markers\", \"marker\": {\"symbol\": \"dot\", \"size\": 12}}, {\"type\": \"scatter\", \"x\": [\"11/2015\", \"11/2012\", \"10/2017\", \"10/2016\", \"11/2013\", \"11/2014\"], \"y\": [0.0, 0.0, 0.0, 0.0, 0.0, 0.0], \"name\": \"DFHEMPRK\", \"text\": \"\", \"line\": {\"color\": \"rgba(0, 128, 128, 1.0)\", \"width\": 1.3, \"dash\": \"solid\"}, \"mode\": \"lines+markers\", \"marker\": {\"symbol\": \"dot\", \"size\": 12}}, {\"type\": \"scatter\", \"x\": [\"11/2015\", \"11/2012\", \"10/2017\", \"10/2016\", \"11/2013\", \"11/2014\"], \"y\": [0.0, 0.0, 0.0, 0.0, 0.0, 0.0], \"name\": \"DFAGESX\", \"text\": \"\", \"line\": {\"color\": \"rgba(255, 255, 51, 1.0)\", \"width\": 1.3, \"dash\": \"solid\"}, \"mode\": \"lines+markers\", \"marker\": {\"symbol\": \"dot\", \"size\": 12}}, {\"type\": \"scatter\", \"x\": [\"11/2015\", \"11/2012\", \"10/2017\", \"10/2016\", \"11/2013\", \"11/2014\"], \"y\": [0.0, 0.0, 0.0, 0.0, 0.0, 0.0], \"name\": \"DFOTHCRS\", \"text\": \"\", \"line\": {\"color\": \"rgba(128, 128, 0, 1.0)\", \"width\": 1.3, \"dash\": \"solid\"}, \"mode\": \"lines+markers\", \"marker\": {\"symbol\": \"dot\", \"size\": 12}}, {\"type\": \"scatter\", \"x\": [\"11/2015\", \"11/2012\", \"10/2017\", \"10/2016\", \"11/2013\", \"11/2014\"], \"y\": [\"\", \"\", \"\", \"\", \"\", \"\"], \"name\": \"DFCRSCM\", \"text\": \"\", \"line\": {\"color\": \"rgba(251, 128, 114, 1.0)\", \"width\": 1.3, \"dash\": \"solid\"}, \"mode\": \"lines+markers\", \"marker\": {\"symbol\": \"dot\", \"size\": 12}}, {\"type\": \"scatter\", \"x\": [\"11/2015\", \"11/2012\", \"10/2017\", \"10/2016\", \"11/2013\", \"11/2014\"], \"y\": [1.0, 1.0, 1.0, 1.0, 1.0, 1.0], \"name\": \"DFRTREMP\", \"text\": \"\", \"line\": {\"color\": \"rgba(128, 177, 211, 1.0)\", \"width\": 1.3, \"dash\": \"solid\"}, \"mode\": \"lines+markers\", \"marker\": {\"symbol\": \"dot\", \"size\": 12}}, {\"type\": \"scatter\", \"x\": [\"11/2015\", \"11/2012\", \"10/2017\", \"10/2016\", \"11/2013\", \"11/2014\"], \"y\": [0.0, 0.0, 0.0, 0.0, 0.0, 0.0], \"name\": \"DFRTREMA\", \"text\": \"\", \"line\": {\"color\": \"rgba(128, 177, 211, 0.8999999999999999)\", \"width\": 1.3, \"dash\": \"solid\"}, \"mode\": \"lines+markers\", \"marker\": {\"symbol\": \"dot\", \"size\": 12}}, {\"type\": \"scatter\", \"x\": [\"11/2015\", \"11/2012\", \"10/2017\", \"10/2016\", \"11/2013\", \"11/2014\"], \"y\": [0.0, 0.0, 0.0, 0.0, 0.0, 0.0], \"name\": \"DFPATREM\", \"text\": \"\", \"line\": {\"color\": \"rgba(255, 153, 51, 0.8999999999999999)\", \"width\": 1.3, \"dash\": \"solid\"}, \"mode\": \"lines+markers\", \"marker\": {\"symbol\": \"dot\", \"size\": 12}}, {\"type\": \"scatter\", \"x\": [\"11/2015\", \"11/2012\", \"10/2017\", \"10/2016\", \"11/2013\", \"11/2014\"], \"y\": [0.0, 0.0, 0.0, 0.0, 0.0, 0.0], \"name\": \"DFOTHTRM\", \"text\": \"\", \"line\": {\"color\": \"rgba(55, 128, 191, 0.8999999999999999)\", \"width\": 1.3, \"dash\": \"solid\"}, \"mode\": \"lines+markers\", \"marker\": {\"symbol\": \"dot\", \"size\": 12}}, {\"type\": \"scatter\", \"x\": [\"11/2015\", \"11/2012\", \"10/2017\", \"10/2016\", \"11/2013\", \"11/2014\"], \"y\": [\"\", \"\", \"\", \"\", \"\", \"\"], \"name\": \"DFTREMCM\", \"text\": \"\", \"line\": {\"color\": \"rgba(50, 171, 96, 0.8999999999999999)\", \"width\": 1.3, \"dash\": \"solid\"}, \"mode\": \"lines+markers\", \"marker\": {\"symbol\": \"dot\", \"size\": 12}}, {\"type\": \"scatter\", \"x\": [\"11/2015\", \"11/2012\", \"10/2017\", \"10/2016\", \"11/2013\", \"11/2014\"], \"y\": [1.0, 1.0, 1.0, 1.0, 1.0, 1.0], \"name\": \"DFRIGIDP\", \"text\": \"\", \"line\": {\"color\": \"rgba(128, 0, 128, 0.8999999999999999)\", \"width\": 1.3, \"dash\": \"solid\"}, \"mode\": \"lines+markers\", \"marker\": {\"symbol\": \"dot\", \"size\": 12}}, {\"type\": \"scatter\", \"x\": [\"11/2015\", \"11/2012\", \"10/2017\", \"10/2016\", \"11/2013\", \"11/2014\"], \"y\": [0.0, 0.0, 0.0, 0.0, 0.0, 0.0], \"name\": \"DFRIGIDA\", \"text\": \"\", \"line\": {\"color\": \"rgba(219, 64, 82, 0.8999999999999999)\", \"width\": 1.3, \"dash\": \"solid\"}, \"mode\": \"lines+markers\", \"marker\": {\"symbol\": \"dot\", \"size\": 12}}, {\"type\": \"scatter\", \"x\": [\"11/2015\", \"11/2012\", \"10/2017\", \"10/2016\", \"11/2013\", \"11/2014\"], \"y\": [0.0, 0.0, 0.0, 0.0, 0.0, 0.0], \"name\": \"DFAXRIG\", \"text\": \"\", \"line\": {\"color\": \"rgba(0, 128, 128, 0.8999999999999999)\", \"width\": 1.3, \"dash\": \"solid\"}, \"mode\": \"lines+markers\", \"marker\": {\"symbol\": \"dot\", \"size\": 12}}, {\"type\": \"scatter\", \"x\": [\"11/2015\", \"11/2012\", \"10/2017\", \"10/2016\", \"11/2013\", \"11/2014\"], \"y\": [0.0, 0.0, 0.0, 0.0, 0.0, 0.0], \"name\": \"DFUNIRIG\", \"text\": \"\", \"line\": {\"color\": \"rgba(255, 255, 51, 0.8999999999999999)\", \"width\": 1.3, \"dash\": \"solid\"}, \"mode\": \"lines+markers\", \"marker\": {\"symbol\": \"dot\", \"size\": 12}}, {\"type\": \"scatter\", \"x\": [\"11/2015\", \"11/2012\", \"10/2017\", \"10/2016\", \"11/2013\", \"11/2014\"], \"y\": [0.0, 0.0, 0.0, 0.0, 0.0, 0.0], \"name\": \"DFTONE\", \"text\": \"\", \"line\": {\"color\": \"rgba(128, 128, 0, 0.8999999999999999)\", \"width\": 1.3, \"dash\": \"solid\"}, \"mode\": \"lines+markers\", \"marker\": {\"symbol\": \"dot\", \"size\": 12}}, {\"type\": \"scatter\", \"x\": [\"11/2015\", \"11/2012\", \"10/2017\", \"10/2016\", \"11/2013\", \"11/2014\"], \"y\": [0.0, 0.0, 0.0, 0.0, 0.0, 0.0], \"name\": \"DFOTHRIG\", \"text\": \"\", \"line\": {\"color\": \"rgba(251, 128, 114, 0.8999999999999999)\", \"width\": 1.3, \"dash\": \"solid\"}, \"mode\": \"lines+markers\", \"marker\": {\"symbol\": \"dot\", \"size\": 12}}, {\"type\": \"scatter\", \"x\": [\"11/2015\", \"11/2012\", \"10/2017\", \"10/2016\", \"11/2013\", \"11/2014\"], \"y\": [\"\", \"\", \"\", \"\", \"\", \"\"], \"name\": \"DFRIGCM\", \"text\": \"\", \"line\": {\"color\": \"rgba(251, 128, 114, 0.7999999999999998)\", \"width\": 1.3, \"dash\": \"solid\"}, \"mode\": \"lines+markers\", \"marker\": {\"symbol\": \"dot\", \"size\": 12}}, {\"type\": \"scatter\", \"x\": [\"11/2015\", \"11/2012\", \"10/2017\", \"10/2016\", \"11/2013\", \"11/2014\"], \"y\": [1.0, 1.0, 1.0, 1.0, 1.0, 1.0], \"name\": \"DFBRADYP\", \"text\": \"\", \"line\": {\"color\": \"rgba(128, 177, 211, 0.7999999999999998)\", \"width\": 1.3, \"dash\": \"solid\"}, \"mode\": \"lines+markers\", \"marker\": {\"symbol\": \"dot\", \"size\": 12}}, {\"type\": \"scatter\", \"x\": [\"11/2015\", \"11/2012\", \"10/2017\", \"10/2016\", \"11/2013\", \"11/2014\"], \"y\": [0.0, 0.0, 0.0, 0.0, 0.0, 0.0], \"name\": \"DFBRADYA\", \"text\": \"\", \"line\": {\"color\": \"rgba(255, 153, 51, 0.7999999999999998)\", \"width\": 1.3, \"dash\": \"solid\"}, \"mode\": \"lines+markers\", \"marker\": {\"symbol\": \"dot\", \"size\": 12}}, {\"type\": \"scatter\", \"x\": [\"11/2015\", \"11/2012\", \"10/2017\", \"10/2016\", \"11/2013\", \"11/2014\"], \"y\": [0.0, 0.0, 0.0, 0.0, 0.0, 0.0], \"name\": \"DFAKINES\", \"text\": \"\", \"line\": {\"color\": \"rgba(55, 128, 191, 0.7999999999999998)\", \"width\": 1.3, \"dash\": \"solid\"}, \"mode\": \"lines+markers\", \"marker\": {\"symbol\": \"dot\", \"size\": 12}}, {\"type\": \"scatter\", \"x\": [\"11/2015\", \"11/2012\", \"10/2017\", \"10/2016\", \"11/2013\", \"11/2014\"], \"y\": [0.0, 0.0, 0.0, 0.0, 0.0, 0.0], \"name\": \"DFBRPLUS\", \"text\": \"\", \"line\": {\"color\": \"rgba(50, 171, 96, 0.7999999999999998)\", \"width\": 1.3, \"dash\": \"solid\"}, \"mode\": \"lines+markers\", \"marker\": {\"symbol\": \"dot\", \"size\": 12}}, {\"type\": \"scatter\", \"x\": [\"11/2015\", \"11/2012\", \"10/2017\", \"10/2016\", \"11/2013\", \"11/2014\"], \"y\": [0.0, 0.0, 0.0, 0.0, 0.0, 0.0], \"name\": \"DFOTHABR\", \"text\": \"\", \"line\": {\"color\": \"rgba(128, 0, 128, 0.7999999999999998)\", \"width\": 1.3, \"dash\": \"solid\"}, \"mode\": \"lines+markers\", \"marker\": {\"symbol\": \"dot\", \"size\": 12}}, {\"type\": \"scatter\", \"x\": [\"11/2015\", \"11/2012\", \"10/2017\", \"10/2016\", \"11/2013\", \"11/2014\"], \"y\": [\"\", \"\", \"\", \"\", \"\", \"\"], \"name\": \"DFABRCM\", \"text\": \"\", \"line\": {\"color\": \"rgba(219, 64, 82, 0.7999999999999998)\", \"width\": 1.3, \"dash\": \"solid\"}, \"mode\": \"lines+markers\", \"marker\": {\"symbol\": \"dot\", \"size\": 12}}, {\"type\": \"scatter\", \"x\": [\"11/2015\", \"11/2012\", \"10/2017\", \"10/2016\", \"11/2013\", \"11/2014\"], \"y\": [1.0, 1.0, 1.0, 1.0, 1.0, 1.0], \"name\": \"DFPGDIST\", \"text\": \"\", \"line\": {\"color\": \"rgba(0, 128, 128, 0.7999999999999998)\", \"width\": 1.3, \"dash\": \"solid\"}, \"mode\": \"lines+markers\", \"marker\": {\"symbol\": \"dot\", \"size\": 12}}, {\"type\": \"scatter\", \"x\": [\"11/2015\", \"11/2012\", \"10/2017\", \"10/2016\", \"11/2013\", \"11/2014\"], \"y\": [0.0, 0.0, 0.0, 0.0, 0.0, 0.0], \"name\": \"DFGAIT\", \"text\": \"\", \"line\": {\"color\": \"rgba(255, 255, 51, 0.7999999999999998)\", \"width\": 1.3, \"dash\": \"solid\"}, \"mode\": \"lines+markers\", \"marker\": {\"symbol\": \"dot\", \"size\": 12}}, {\"type\": \"scatter\", \"x\": [\"11/2015\", \"11/2012\", \"10/2017\", \"10/2016\", \"11/2013\", \"11/2014\"], \"y\": [0.0, 0.0, 0.0, 0.0, 0.0, 0.0], \"name\": \"DFFREEZ\", \"text\": \"\", \"line\": {\"color\": \"rgba(128, 128, 0, 0.7999999999999998)\", \"width\": 1.3, \"dash\": \"solid\"}, \"mode\": \"lines+markers\", \"marker\": {\"symbol\": \"dot\", \"size\": 12}}, {\"type\": \"scatter\", \"x\": [\"11/2015\", \"11/2012\", \"10/2017\", \"10/2016\", \"11/2013\", \"11/2014\"], \"y\": [0.0, 0.0, 0.0, 0.0, 0.0, 0.0], \"name\": \"DFFALLS\", \"text\": \"\", \"line\": {\"color\": \"rgba(128, 128, 0, 0.7)\", \"width\": 1.3, \"dash\": \"solid\"}, \"mode\": \"lines+markers\", \"marker\": {\"symbol\": \"dot\", \"size\": 12}}, {\"type\": \"scatter\", \"x\": [\"11/2015\", \"11/2012\", \"10/2017\", \"10/2016\", \"11/2013\", \"11/2014\"], \"y\": [0.0, 0.0, 0.0, 0.0, 0.0, 0.0], \"name\": \"DFOTHPG\", \"text\": \"\", \"line\": {\"color\": \"rgba(251, 128, 114, 0.7)\", \"width\": 1.3, \"dash\": \"solid\"}, \"mode\": \"lines+markers\", \"marker\": {\"symbol\": \"dot\", \"size\": 12}}, {\"type\": \"scatter\", \"x\": [\"11/2015\", \"11/2012\", \"10/2017\", \"10/2016\", \"11/2013\", \"11/2014\"], \"y\": [\"\", \"\", \"\", \"\", \"\", \"\"], \"name\": \"DFPGCM\", \"text\": \"\", \"line\": {\"color\": \"rgba(128, 177, 211, 0.7)\", \"width\": 1.3, \"dash\": \"solid\"}, \"mode\": \"lines+markers\", \"marker\": {\"symbol\": \"dot\", \"size\": 12}}, {\"type\": \"scatter\", \"x\": [\"11/2015\", \"11/2012\", \"10/2017\", \"10/2016\", \"11/2013\", \"11/2014\"], \"y\": [0.0, 0.0, 0.0, 0.0, 0.0, 0.0], \"name\": \"DFPSYCH\", \"text\": \"\", \"line\": {\"color\": \"rgba(255, 153, 51, 0.7)\", \"width\": 1.3, \"dash\": \"solid\"}, \"mode\": \"lines+markers\", \"marker\": {\"symbol\": \"dot\", \"size\": 12}}, {\"type\": \"scatter\", \"x\": [\"11/2015\", \"11/2012\", \"10/2017\", \"10/2016\", \"11/2013\", \"11/2014\"], \"y\": [0.0, 0.0, 0.0, 0.0, 0.0, 0.0], \"name\": \"DFCOGNIT\", \"text\": \"\", \"line\": {\"color\": \"rgba(55, 128, 191, 0.7)\", \"width\": 1.3, \"dash\": \"solid\"}, \"mode\": \"lines+markers\", \"marker\": {\"symbol\": \"dot\", \"size\": 12}}, {\"type\": \"scatter\", \"x\": [\"11/2015\", \"11/2012\", \"10/2017\", \"10/2016\", \"11/2013\", \"11/2014\"], \"y\": [0.0, 0.0, 0.0, 0.0, 0.0, 0.0], \"name\": \"DFDYSTON\", \"text\": \"\", \"line\": {\"color\": \"rgba(50, 171, 96, 0.7)\", \"width\": 1.3, \"dash\": \"solid\"}, \"mode\": \"lines+markers\", \"marker\": {\"symbol\": \"dot\", \"size\": 12}}, {\"type\": \"scatter\", \"x\": [\"11/2015\", \"11/2012\", \"10/2017\", \"10/2016\", \"11/2013\", \"11/2014\"], \"y\": [0.0, 0.0, 0.0, 0.0, 0.0, 0.0], \"name\": \"DFCHOREA\", \"text\": \"\", \"line\": {\"color\": \"rgba(128, 0, 128, 0.7)\", \"width\": 1.3, \"dash\": \"solid\"}, \"mode\": \"lines+markers\", \"marker\": {\"symbol\": \"dot\", \"size\": 12}}, {\"type\": \"scatter\", \"x\": [\"11/2015\", \"11/2012\", \"10/2017\", \"10/2016\", \"11/2013\", \"11/2014\"], \"y\": [0.0, 0.0, 0.0, 0.0, 0.0, 0.0], \"name\": \"DFMYOCLO\", \"text\": \"\", \"line\": {\"color\": \"rgba(219, 64, 82, 0.7)\", \"width\": 1.3, \"dash\": \"solid\"}, \"mode\": \"lines+markers\", \"marker\": {\"symbol\": \"dot\", \"size\": 12}}, {\"type\": \"scatter\", \"x\": [\"11/2015\", \"11/2012\", \"10/2017\", \"10/2016\", \"11/2013\", \"11/2014\"], \"y\": [0.0, 0.0, 0.0, 0.0, 0.0, 0.0], \"name\": \"DFOTHHYP\", \"text\": \"\", \"line\": {\"color\": \"rgba(0, 128, 128, 0.7)\", \"width\": 1.3, \"dash\": \"solid\"}, \"mode\": \"lines+markers\", \"marker\": {\"symbol\": \"dot\", \"size\": 12}}, {\"type\": \"scatter\", \"x\": [\"11/2015\", \"11/2012\", \"10/2017\", \"10/2016\", \"11/2013\", \"11/2014\"], \"y\": [\"\", \"\", \"\", \"\", \"\", \"\"], \"name\": \"DFHYPCM\", \"text\": \"\", \"line\": {\"color\": \"rgba(255, 255, 51, 0.7)\", \"width\": 1.3, \"dash\": \"solid\"}, \"mode\": \"lines+markers\", \"marker\": {\"symbol\": \"dot\", \"size\": 12}}, {\"type\": \"scatter\", \"x\": [\"11/2015\", \"11/2012\", \"10/2017\", \"10/2016\", \"11/2013\", \"11/2014\"], \"y\": [0.0, 0.0, 0.0, 0.0, 0.0, 0.0], \"name\": \"DFHEMTRO\", \"text\": \"\", \"line\": {\"color\": \"rgba(255, 255, 51, 0.5999999999999999)\", \"width\": 1.3, \"dash\": \"solid\"}, \"mode\": \"lines+markers\", \"marker\": {\"symbol\": \"dot\", \"size\": 12}}, {\"type\": \"scatter\", \"x\": [\"11/2015\", \"11/2012\", \"10/2017\", \"10/2016\", \"11/2013\", \"11/2014\"], \"y\": [0.0, 0.0, 1.0, 0.0, 0.0, 0.0], \"name\": \"DFPSHYPO\", \"text\": \"\", \"line\": {\"color\": \"rgba(128, 128, 0, 0.5999999999999999)\", \"width\": 1.3, \"dash\": \"solid\"}, \"mode\": \"lines+markers\", \"marker\": {\"symbol\": \"dot\", \"size\": 12}}, {\"type\": \"scatter\", \"x\": [\"11/2015\", \"11/2012\", \"10/2017\", \"10/2016\", \"11/2013\", \"11/2014\"], \"y\": [0.0, 1.0, 1.0, 1.0, 0.0, 0.0], \"name\": \"DFSEXDYS\", \"text\": \"\", \"line\": {\"color\": \"rgba(251, 128, 114, 0.5999999999999999)\", \"width\": 1.3, \"dash\": \"solid\"}, \"mode\": \"lines+markers\", \"marker\": {\"symbol\": \"dot\", \"size\": 12}}, {\"type\": \"scatter\", \"x\": [\"11/2015\", \"11/2012\", \"10/2017\", \"10/2016\", \"11/2013\", \"11/2014\"], \"y\": [1.0, 1.0, 1.0, 1.0, 0.0, 0.0], \"name\": \"DFURDYS\", \"text\": \"\", \"line\": {\"color\": \"rgba(128, 177, 211, 0.5999999999999999)\", \"width\": 1.3, \"dash\": \"solid\"}, \"mode\": \"lines+markers\", \"marker\": {\"symbol\": \"dot\", \"size\": 12}}, {\"type\": \"scatter\", \"x\": [\"11/2015\", \"11/2012\", \"10/2017\", \"10/2016\", \"11/2013\", \"11/2014\"], \"y\": [1.0, 0.0, 1.0, 1.0, 0.0, 0.0], \"name\": \"DFBWLDYS\", \"text\": \"\", \"line\": {\"color\": \"rgba(255, 153, 51, 0.5999999999999999)\", \"width\": 1.3, \"dash\": \"solid\"}, \"mode\": \"lines+markers\", \"marker\": {\"symbol\": \"dot\", \"size\": 12}}, {\"type\": \"scatter\", \"x\": [\"11/2015\", \"11/2012\", \"10/2017\", \"10/2016\", \"11/2013\", \"11/2014\"], \"y\": [0.0, 0.0, 0.0, 0.0, 0.0, 0.0], \"name\": \"DFOCULO\", \"text\": \"\", \"line\": {\"color\": \"rgba(55, 128, 191, 0.5999999999999999)\", \"width\": 1.3, \"dash\": \"solid\"}, \"mode\": \"lines+markers\", \"marker\": {\"symbol\": \"dot\", \"size\": 12}}, {\"type\": \"scatter\", \"x\": [\"11/2015\", \"11/2012\", \"10/2017\", \"10/2016\", \"11/2013\", \"11/2014\"], \"y\": [0.0, 0.0, 0.0, 0.0, 0.0, 0.0], \"name\": \"DFEYELID\", \"text\": \"\", \"line\": {\"color\": \"rgba(50, 171, 96, 0.5999999999999999)\", \"width\": 1.3, \"dash\": \"solid\"}, \"mode\": \"lines+markers\", \"marker\": {\"symbol\": \"dot\", \"size\": 12}}, {\"type\": \"scatter\", \"x\": [\"11/2015\", \"11/2012\", \"10/2017\", \"10/2016\", \"11/2013\", \"11/2014\"], \"y\": [0.0, 0.0, 0.0, 0.0, 0.0, 0.0], \"name\": \"DFNEURAB\", \"text\": \"\", \"line\": {\"color\": \"rgba(128, 0, 128, 0.5999999999999999)\", \"width\": 1.3, \"dash\": \"solid\"}, \"mode\": \"lines+markers\", \"marker\": {\"symbol\": \"dot\", \"size\": 12}}, {\"type\": \"scatter\", \"x\": [\"11/2015\", \"11/2012\", \"10/2017\", \"10/2016\", \"11/2013\", \"11/2014\"], \"y\": [0.0, 0.0, 0.0, 0.0, 0.0, 0.0], \"name\": \"DFRAPSPE\", \"text\": \"\", \"line\": {\"color\": \"rgba(219, 64, 82, 0.5999999999999999)\", \"width\": 1.3, \"dash\": \"solid\"}, \"mode\": \"lines+markers\", \"marker\": {\"symbol\": \"dot\", \"size\": 12}}, {\"type\": \"scatter\", \"x\": [\"11/2015\", \"11/2012\", \"10/2017\", \"10/2016\", \"11/2013\", \"11/2014\"], \"y\": [0.0, 0.0, 0.0, 0.0, 0.0, 0.0], \"name\": \"DFBULBAR\", \"text\": \"\", \"line\": {\"color\": \"rgba(0, 128, 128, 0.5999999999999999)\", \"width\": 1.3, \"dash\": \"solid\"}, \"mode\": \"lines+markers\", \"marker\": {\"symbol\": \"dot\", \"size\": 12}}, {\"type\": \"scatter\", \"x\": [\"11/2015\", \"11/2012\", \"10/2017\", \"10/2016\", \"11/2013\", \"11/2014\"], \"y\": [0.0, 0.0, 0.0, 0.0, 0.0, 0.0], \"name\": \"DFATYP\", \"text\": \"\", \"line\": {\"color\": \"rgba(0, 128, 128, 0.49999999999999983)\", \"width\": 1.3, \"dash\": \"solid\"}, \"mode\": \"lines+markers\", \"marker\": {\"symbol\": \"dot\", \"size\": 12}}], {\"legend\": {\"bgcolor\": \"#F5F6F9\", \"font\": {\"color\": \"#4D5663\"}}, \"paper_bgcolor\": \"#F5F6F9\", \"plot_bgcolor\": \"#F5F6F9\", \"yaxis1\": {\"tickfont\": {\"color\": \"#4D5663\"}, \"gridcolor\": \"#E1E5ED\", \"titlefont\": {\"color\": \"#4D5663\"}, \"zerolinecolor\": \"#E1E5ED\", \"showgrid\": true, \"title\": \"\"}, \"xaxis1\": {\"tickfont\": {\"color\": \"#4D5663\"}, \"gridcolor\": \"#E1E5ED\", \"titlefont\": {\"color\": \"#4D5663\"}, \"zerolinecolor\": \"#E1E5ED\", \"showgrid\": true, \"title\": \"\"}, \"titlefont\": {\"color\": \"#4D5663\"}}, {\"showLink\": true, \"linkText\": \"Export to plot.ly\"})});</script>"
      ],
      "text/vnd.plotly.v1+html": [
       "<div id=\"05921bc7-9ee4-4977-9ecb-349d8bef6362\" style=\"height: 525px; width: 100%;\" class=\"plotly-graph-div\"></div><script type=\"text/javascript\">require([\"plotly\"], function(Plotly) { window.PLOTLYENV=window.PLOTLYENV || {};window.PLOTLYENV.BASE_URL=\"https://plot.ly\";Plotly.newPlot(\"05921bc7-9ee4-4977-9ecb-349d8bef6362\", [{\"type\": \"scatter\", \"x\": [\"11/2015\", \"11/2012\", \"10/2017\", \"10/2016\", \"11/2013\", \"11/2014\"], \"y\": [0.0, 0.0, 0.0, 0.0, 0.0, 0.0], \"name\": \"DFSTROKE\", \"text\": \"\", \"line\": {\"color\": \"rgba(255, 153, 51, 1.0)\", \"width\": 1.3, \"dash\": \"solid\"}, \"mode\": \"lines+markers\", \"marker\": {\"symbol\": \"dot\", \"size\": 12}}, {\"type\": \"scatter\", \"x\": [\"11/2015\", \"11/2012\", \"10/2017\", \"10/2016\", \"11/2013\", \"11/2014\"], \"y\": [0.0, 0.0, 0.0, 0.0, 0.0, 0.0], \"name\": \"DFRSKFCT\", \"text\": \"\", \"line\": {\"color\": \"rgba(55, 128, 191, 1.0)\", \"width\": 1.3, \"dash\": \"solid\"}, \"mode\": \"lines+markers\", \"marker\": {\"symbol\": \"dot\", \"size\": 12}}, {\"type\": \"scatter\", \"x\": [\"11/2015\", \"11/2012\", \"10/2017\", \"10/2016\", \"11/2013\", \"11/2014\"], \"y\": [0.0, 0.0, 0.0, 0.0, 0.0, 0.0], \"name\": \"DFPRESNT\", \"text\": \"\", \"line\": {\"color\": \"rgba(50, 171, 96, 1.0)\", \"width\": 1.3, \"dash\": \"solid\"}, \"mode\": \"lines+markers\", \"marker\": {\"symbol\": \"dot\", \"size\": 12}}, {\"type\": \"scatter\", \"x\": [\"11/2015\", \"11/2012\", \"10/2017\", \"10/2016\", \"11/2013\", \"11/2014\"], \"y\": [0.0, 0.0, 0.0, 0.0, 0.0, 0.0], \"name\": \"DFRPROG\", \"text\": \"\", \"line\": {\"color\": \"rgba(128, 0, 128, 1.0)\", \"width\": 1.3, \"dash\": \"solid\"}, \"mode\": \"lines+markers\", \"marker\": {\"symbol\": \"dot\", \"size\": 12}}, {\"type\": \"scatter\", \"x\": [\"11/2015\", \"11/2012\", \"10/2017\", \"10/2016\", \"11/2013\", \"11/2014\"], \"y\": [0.0, 0.0, 0.0, 0.0, 0.0, 0.0], \"name\": \"DFSTATIC\", \"text\": \"\", \"line\": {\"color\": \"rgba(219, 64, 82, 1.0)\", \"width\": 1.3, \"dash\": \"solid\"}, \"mode\": \"lines+markers\", \"marker\": {\"symbol\": \"dot\", \"size\": 12}}, {\"type\": \"scatter\", \"x\": [\"11/2015\", \"11/2012\", \"10/2017\", \"10/2016\", \"11/2013\", \"11/2014\"], \"y\": [0.0, 0.0, 0.0, 0.0, 0.0, 0.0], \"name\": \"DFHEMPRK\", \"text\": \"\", \"line\": {\"color\": \"rgba(0, 128, 128, 1.0)\", \"width\": 1.3, \"dash\": \"solid\"}, \"mode\": \"lines+markers\", \"marker\": {\"symbol\": \"dot\", \"size\": 12}}, {\"type\": \"scatter\", \"x\": [\"11/2015\", \"11/2012\", \"10/2017\", \"10/2016\", \"11/2013\", \"11/2014\"], \"y\": [0.0, 0.0, 0.0, 0.0, 0.0, 0.0], \"name\": \"DFAGESX\", \"text\": \"\", \"line\": {\"color\": \"rgba(255, 255, 51, 1.0)\", \"width\": 1.3, \"dash\": \"solid\"}, \"mode\": \"lines+markers\", \"marker\": {\"symbol\": \"dot\", \"size\": 12}}, {\"type\": \"scatter\", \"x\": [\"11/2015\", \"11/2012\", \"10/2017\", \"10/2016\", \"11/2013\", \"11/2014\"], \"y\": [0.0, 0.0, 0.0, 0.0, 0.0, 0.0], \"name\": \"DFOTHCRS\", \"text\": \"\", \"line\": {\"color\": \"rgba(128, 128, 0, 1.0)\", \"width\": 1.3, \"dash\": \"solid\"}, \"mode\": \"lines+markers\", \"marker\": {\"symbol\": \"dot\", \"size\": 12}}, {\"type\": \"scatter\", \"x\": [\"11/2015\", \"11/2012\", \"10/2017\", \"10/2016\", \"11/2013\", \"11/2014\"], \"y\": [\"\", \"\", \"\", \"\", \"\", \"\"], \"name\": \"DFCRSCM\", \"text\": \"\", \"line\": {\"color\": \"rgba(251, 128, 114, 1.0)\", \"width\": 1.3, \"dash\": \"solid\"}, \"mode\": \"lines+markers\", \"marker\": {\"symbol\": \"dot\", \"size\": 12}}, {\"type\": \"scatter\", \"x\": [\"11/2015\", \"11/2012\", \"10/2017\", \"10/2016\", \"11/2013\", \"11/2014\"], \"y\": [1.0, 1.0, 1.0, 1.0, 1.0, 1.0], \"name\": \"DFRTREMP\", \"text\": \"\", \"line\": {\"color\": \"rgba(128, 177, 211, 1.0)\", \"width\": 1.3, \"dash\": \"solid\"}, \"mode\": \"lines+markers\", \"marker\": {\"symbol\": \"dot\", \"size\": 12}}, {\"type\": \"scatter\", \"x\": [\"11/2015\", \"11/2012\", \"10/2017\", \"10/2016\", \"11/2013\", \"11/2014\"], \"y\": [0.0, 0.0, 0.0, 0.0, 0.0, 0.0], \"name\": \"DFRTREMA\", \"text\": \"\", \"line\": {\"color\": \"rgba(128, 177, 211, 0.8999999999999999)\", \"width\": 1.3, \"dash\": \"solid\"}, \"mode\": \"lines+markers\", \"marker\": {\"symbol\": \"dot\", \"size\": 12}}, {\"type\": \"scatter\", \"x\": [\"11/2015\", \"11/2012\", \"10/2017\", \"10/2016\", \"11/2013\", \"11/2014\"], \"y\": [0.0, 0.0, 0.0, 0.0, 0.0, 0.0], \"name\": \"DFPATREM\", \"text\": \"\", \"line\": {\"color\": \"rgba(255, 153, 51, 0.8999999999999999)\", \"width\": 1.3, \"dash\": \"solid\"}, \"mode\": \"lines+markers\", \"marker\": {\"symbol\": \"dot\", \"size\": 12}}, {\"type\": \"scatter\", \"x\": [\"11/2015\", \"11/2012\", \"10/2017\", \"10/2016\", \"11/2013\", \"11/2014\"], \"y\": [0.0, 0.0, 0.0, 0.0, 0.0, 0.0], \"name\": \"DFOTHTRM\", \"text\": \"\", \"line\": {\"color\": \"rgba(55, 128, 191, 0.8999999999999999)\", \"width\": 1.3, \"dash\": \"solid\"}, \"mode\": \"lines+markers\", \"marker\": {\"symbol\": \"dot\", \"size\": 12}}, {\"type\": \"scatter\", \"x\": [\"11/2015\", \"11/2012\", \"10/2017\", \"10/2016\", \"11/2013\", \"11/2014\"], \"y\": [\"\", \"\", \"\", \"\", \"\", \"\"], \"name\": \"DFTREMCM\", \"text\": \"\", \"line\": {\"color\": \"rgba(50, 171, 96, 0.8999999999999999)\", \"width\": 1.3, \"dash\": \"solid\"}, \"mode\": \"lines+markers\", \"marker\": {\"symbol\": \"dot\", \"size\": 12}}, {\"type\": \"scatter\", \"x\": [\"11/2015\", \"11/2012\", \"10/2017\", \"10/2016\", \"11/2013\", \"11/2014\"], \"y\": [1.0, 1.0, 1.0, 1.0, 1.0, 1.0], \"name\": \"DFRIGIDP\", \"text\": \"\", \"line\": {\"color\": \"rgba(128, 0, 128, 0.8999999999999999)\", \"width\": 1.3, \"dash\": \"solid\"}, \"mode\": \"lines+markers\", \"marker\": {\"symbol\": \"dot\", \"size\": 12}}, {\"type\": \"scatter\", \"x\": [\"11/2015\", \"11/2012\", \"10/2017\", \"10/2016\", \"11/2013\", \"11/2014\"], \"y\": [0.0, 0.0, 0.0, 0.0, 0.0, 0.0], \"name\": \"DFRIGIDA\", \"text\": \"\", \"line\": {\"color\": \"rgba(219, 64, 82, 0.8999999999999999)\", \"width\": 1.3, \"dash\": \"solid\"}, \"mode\": \"lines+markers\", \"marker\": {\"symbol\": \"dot\", \"size\": 12}}, {\"type\": \"scatter\", \"x\": [\"11/2015\", \"11/2012\", \"10/2017\", \"10/2016\", \"11/2013\", \"11/2014\"], \"y\": [0.0, 0.0, 0.0, 0.0, 0.0, 0.0], \"name\": \"DFAXRIG\", \"text\": \"\", \"line\": {\"color\": \"rgba(0, 128, 128, 0.8999999999999999)\", \"width\": 1.3, \"dash\": \"solid\"}, \"mode\": \"lines+markers\", \"marker\": {\"symbol\": \"dot\", \"size\": 12}}, {\"type\": \"scatter\", \"x\": [\"11/2015\", \"11/2012\", \"10/2017\", \"10/2016\", \"11/2013\", \"11/2014\"], \"y\": [0.0, 0.0, 0.0, 0.0, 0.0, 0.0], \"name\": \"DFUNIRIG\", \"text\": \"\", \"line\": {\"color\": \"rgba(255, 255, 51, 0.8999999999999999)\", \"width\": 1.3, \"dash\": \"solid\"}, \"mode\": \"lines+markers\", \"marker\": {\"symbol\": \"dot\", \"size\": 12}}, {\"type\": \"scatter\", \"x\": [\"11/2015\", \"11/2012\", \"10/2017\", \"10/2016\", \"11/2013\", \"11/2014\"], \"y\": [0.0, 0.0, 0.0, 0.0, 0.0, 0.0], \"name\": \"DFTONE\", \"text\": \"\", \"line\": {\"color\": \"rgba(128, 128, 0, 0.8999999999999999)\", \"width\": 1.3, \"dash\": \"solid\"}, \"mode\": \"lines+markers\", \"marker\": {\"symbol\": \"dot\", \"size\": 12}}, {\"type\": \"scatter\", \"x\": [\"11/2015\", \"11/2012\", \"10/2017\", \"10/2016\", \"11/2013\", \"11/2014\"], \"y\": [0.0, 0.0, 0.0, 0.0, 0.0, 0.0], \"name\": \"DFOTHRIG\", \"text\": \"\", \"line\": {\"color\": \"rgba(251, 128, 114, 0.8999999999999999)\", \"width\": 1.3, \"dash\": \"solid\"}, \"mode\": \"lines+markers\", \"marker\": {\"symbol\": \"dot\", \"size\": 12}}, {\"type\": \"scatter\", \"x\": [\"11/2015\", \"11/2012\", \"10/2017\", \"10/2016\", \"11/2013\", \"11/2014\"], \"y\": [\"\", \"\", \"\", \"\", \"\", \"\"], \"name\": \"DFRIGCM\", \"text\": \"\", \"line\": {\"color\": \"rgba(251, 128, 114, 0.7999999999999998)\", \"width\": 1.3, \"dash\": \"solid\"}, \"mode\": \"lines+markers\", \"marker\": {\"symbol\": \"dot\", \"size\": 12}}, {\"type\": \"scatter\", \"x\": [\"11/2015\", \"11/2012\", \"10/2017\", \"10/2016\", \"11/2013\", \"11/2014\"], \"y\": [1.0, 1.0, 1.0, 1.0, 1.0, 1.0], \"name\": \"DFBRADYP\", \"text\": \"\", \"line\": {\"color\": \"rgba(128, 177, 211, 0.7999999999999998)\", \"width\": 1.3, \"dash\": \"solid\"}, \"mode\": \"lines+markers\", \"marker\": {\"symbol\": \"dot\", \"size\": 12}}, {\"type\": \"scatter\", \"x\": [\"11/2015\", \"11/2012\", \"10/2017\", \"10/2016\", \"11/2013\", \"11/2014\"], \"y\": [0.0, 0.0, 0.0, 0.0, 0.0, 0.0], \"name\": \"DFBRADYA\", \"text\": \"\", \"line\": {\"color\": \"rgba(255, 153, 51, 0.7999999999999998)\", \"width\": 1.3, \"dash\": \"solid\"}, \"mode\": \"lines+markers\", \"marker\": {\"symbol\": \"dot\", \"size\": 12}}, {\"type\": \"scatter\", \"x\": [\"11/2015\", \"11/2012\", \"10/2017\", \"10/2016\", \"11/2013\", \"11/2014\"], \"y\": [0.0, 0.0, 0.0, 0.0, 0.0, 0.0], \"name\": \"DFAKINES\", \"text\": \"\", \"line\": {\"color\": \"rgba(55, 128, 191, 0.7999999999999998)\", \"width\": 1.3, \"dash\": \"solid\"}, \"mode\": \"lines+markers\", \"marker\": {\"symbol\": \"dot\", \"size\": 12}}, {\"type\": \"scatter\", \"x\": [\"11/2015\", \"11/2012\", \"10/2017\", \"10/2016\", \"11/2013\", \"11/2014\"], \"y\": [0.0, 0.0, 0.0, 0.0, 0.0, 0.0], \"name\": \"DFBRPLUS\", \"text\": \"\", \"line\": {\"color\": \"rgba(50, 171, 96, 0.7999999999999998)\", \"width\": 1.3, \"dash\": \"solid\"}, \"mode\": \"lines+markers\", \"marker\": {\"symbol\": \"dot\", \"size\": 12}}, {\"type\": \"scatter\", \"x\": [\"11/2015\", \"11/2012\", \"10/2017\", \"10/2016\", \"11/2013\", \"11/2014\"], \"y\": [0.0, 0.0, 0.0, 0.0, 0.0, 0.0], \"name\": \"DFOTHABR\", \"text\": \"\", \"line\": {\"color\": \"rgba(128, 0, 128, 0.7999999999999998)\", \"width\": 1.3, \"dash\": \"solid\"}, \"mode\": \"lines+markers\", \"marker\": {\"symbol\": \"dot\", \"size\": 12}}, {\"type\": \"scatter\", \"x\": [\"11/2015\", \"11/2012\", \"10/2017\", \"10/2016\", \"11/2013\", \"11/2014\"], \"y\": [\"\", \"\", \"\", \"\", \"\", \"\"], \"name\": \"DFABRCM\", \"text\": \"\", \"line\": {\"color\": \"rgba(219, 64, 82, 0.7999999999999998)\", \"width\": 1.3, \"dash\": \"solid\"}, \"mode\": \"lines+markers\", \"marker\": {\"symbol\": \"dot\", \"size\": 12}}, {\"type\": \"scatter\", \"x\": [\"11/2015\", \"11/2012\", \"10/2017\", \"10/2016\", \"11/2013\", \"11/2014\"], \"y\": [1.0, 1.0, 1.0, 1.0, 1.0, 1.0], \"name\": \"DFPGDIST\", \"text\": \"\", \"line\": {\"color\": \"rgba(0, 128, 128, 0.7999999999999998)\", \"width\": 1.3, \"dash\": \"solid\"}, \"mode\": \"lines+markers\", \"marker\": {\"symbol\": \"dot\", \"size\": 12}}, {\"type\": \"scatter\", \"x\": [\"11/2015\", \"11/2012\", \"10/2017\", \"10/2016\", \"11/2013\", \"11/2014\"], \"y\": [0.0, 0.0, 0.0, 0.0, 0.0, 0.0], \"name\": \"DFGAIT\", \"text\": \"\", \"line\": {\"color\": \"rgba(255, 255, 51, 0.7999999999999998)\", \"width\": 1.3, \"dash\": \"solid\"}, \"mode\": \"lines+markers\", \"marker\": {\"symbol\": \"dot\", \"size\": 12}}, {\"type\": \"scatter\", \"x\": [\"11/2015\", \"11/2012\", \"10/2017\", \"10/2016\", \"11/2013\", \"11/2014\"], \"y\": [0.0, 0.0, 0.0, 0.0, 0.0, 0.0], \"name\": \"DFFREEZ\", \"text\": \"\", \"line\": {\"color\": \"rgba(128, 128, 0, 0.7999999999999998)\", \"width\": 1.3, \"dash\": \"solid\"}, \"mode\": \"lines+markers\", \"marker\": {\"symbol\": \"dot\", \"size\": 12}}, {\"type\": \"scatter\", \"x\": [\"11/2015\", \"11/2012\", \"10/2017\", \"10/2016\", \"11/2013\", \"11/2014\"], \"y\": [0.0, 0.0, 0.0, 0.0, 0.0, 0.0], \"name\": \"DFFALLS\", \"text\": \"\", \"line\": {\"color\": \"rgba(128, 128, 0, 0.7)\", \"width\": 1.3, \"dash\": \"solid\"}, \"mode\": \"lines+markers\", \"marker\": {\"symbol\": \"dot\", \"size\": 12}}, {\"type\": \"scatter\", \"x\": [\"11/2015\", \"11/2012\", \"10/2017\", \"10/2016\", \"11/2013\", \"11/2014\"], \"y\": [0.0, 0.0, 0.0, 0.0, 0.0, 0.0], \"name\": \"DFOTHPG\", \"text\": \"\", \"line\": {\"color\": \"rgba(251, 128, 114, 0.7)\", \"width\": 1.3, \"dash\": \"solid\"}, \"mode\": \"lines+markers\", \"marker\": {\"symbol\": \"dot\", \"size\": 12}}, {\"type\": \"scatter\", \"x\": [\"11/2015\", \"11/2012\", \"10/2017\", \"10/2016\", \"11/2013\", \"11/2014\"], \"y\": [\"\", \"\", \"\", \"\", \"\", \"\"], \"name\": \"DFPGCM\", \"text\": \"\", \"line\": {\"color\": \"rgba(128, 177, 211, 0.7)\", \"width\": 1.3, \"dash\": \"solid\"}, \"mode\": \"lines+markers\", \"marker\": {\"symbol\": \"dot\", \"size\": 12}}, {\"type\": \"scatter\", \"x\": [\"11/2015\", \"11/2012\", \"10/2017\", \"10/2016\", \"11/2013\", \"11/2014\"], \"y\": [0.0, 0.0, 0.0, 0.0, 0.0, 0.0], \"name\": \"DFPSYCH\", \"text\": \"\", \"line\": {\"color\": \"rgba(255, 153, 51, 0.7)\", \"width\": 1.3, \"dash\": \"solid\"}, \"mode\": \"lines+markers\", \"marker\": {\"symbol\": \"dot\", \"size\": 12}}, {\"type\": \"scatter\", \"x\": [\"11/2015\", \"11/2012\", \"10/2017\", \"10/2016\", \"11/2013\", \"11/2014\"], \"y\": [0.0, 0.0, 0.0, 0.0, 0.0, 0.0], \"name\": \"DFCOGNIT\", \"text\": \"\", \"line\": {\"color\": \"rgba(55, 128, 191, 0.7)\", \"width\": 1.3, \"dash\": \"solid\"}, \"mode\": \"lines+markers\", \"marker\": {\"symbol\": \"dot\", \"size\": 12}}, {\"type\": \"scatter\", \"x\": [\"11/2015\", \"11/2012\", \"10/2017\", \"10/2016\", \"11/2013\", \"11/2014\"], \"y\": [0.0, 0.0, 0.0, 0.0, 0.0, 0.0], \"name\": \"DFDYSTON\", \"text\": \"\", \"line\": {\"color\": \"rgba(50, 171, 96, 0.7)\", \"width\": 1.3, \"dash\": \"solid\"}, \"mode\": \"lines+markers\", \"marker\": {\"symbol\": \"dot\", \"size\": 12}}, {\"type\": \"scatter\", \"x\": [\"11/2015\", \"11/2012\", \"10/2017\", \"10/2016\", \"11/2013\", \"11/2014\"], \"y\": [0.0, 0.0, 0.0, 0.0, 0.0, 0.0], \"name\": \"DFCHOREA\", \"text\": \"\", \"line\": {\"color\": \"rgba(128, 0, 128, 0.7)\", \"width\": 1.3, \"dash\": \"solid\"}, \"mode\": \"lines+markers\", \"marker\": {\"symbol\": \"dot\", \"size\": 12}}, {\"type\": \"scatter\", \"x\": [\"11/2015\", \"11/2012\", \"10/2017\", \"10/2016\", \"11/2013\", \"11/2014\"], \"y\": [0.0, 0.0, 0.0, 0.0, 0.0, 0.0], \"name\": \"DFMYOCLO\", \"text\": \"\", \"line\": {\"color\": \"rgba(219, 64, 82, 0.7)\", \"width\": 1.3, \"dash\": \"solid\"}, \"mode\": \"lines+markers\", \"marker\": {\"symbol\": \"dot\", \"size\": 12}}, {\"type\": \"scatter\", \"x\": [\"11/2015\", \"11/2012\", \"10/2017\", \"10/2016\", \"11/2013\", \"11/2014\"], \"y\": [0.0, 0.0, 0.0, 0.0, 0.0, 0.0], \"name\": \"DFOTHHYP\", \"text\": \"\", \"line\": {\"color\": \"rgba(0, 128, 128, 0.7)\", \"width\": 1.3, \"dash\": \"solid\"}, \"mode\": \"lines+markers\", \"marker\": {\"symbol\": \"dot\", \"size\": 12}}, {\"type\": \"scatter\", \"x\": [\"11/2015\", \"11/2012\", \"10/2017\", \"10/2016\", \"11/2013\", \"11/2014\"], \"y\": [\"\", \"\", \"\", \"\", \"\", \"\"], \"name\": \"DFHYPCM\", \"text\": \"\", \"line\": {\"color\": \"rgba(255, 255, 51, 0.7)\", \"width\": 1.3, \"dash\": \"solid\"}, \"mode\": \"lines+markers\", \"marker\": {\"symbol\": \"dot\", \"size\": 12}}, {\"type\": \"scatter\", \"x\": [\"11/2015\", \"11/2012\", \"10/2017\", \"10/2016\", \"11/2013\", \"11/2014\"], \"y\": [0.0, 0.0, 0.0, 0.0, 0.0, 0.0], \"name\": \"DFHEMTRO\", \"text\": \"\", \"line\": {\"color\": \"rgba(255, 255, 51, 0.5999999999999999)\", \"width\": 1.3, \"dash\": \"solid\"}, \"mode\": \"lines+markers\", \"marker\": {\"symbol\": \"dot\", \"size\": 12}}, {\"type\": \"scatter\", \"x\": [\"11/2015\", \"11/2012\", \"10/2017\", \"10/2016\", \"11/2013\", \"11/2014\"], \"y\": [0.0, 0.0, 1.0, 0.0, 0.0, 0.0], \"name\": \"DFPSHYPO\", \"text\": \"\", \"line\": {\"color\": \"rgba(128, 128, 0, 0.5999999999999999)\", \"width\": 1.3, \"dash\": \"solid\"}, \"mode\": \"lines+markers\", \"marker\": {\"symbol\": \"dot\", \"size\": 12}}, {\"type\": \"scatter\", \"x\": [\"11/2015\", \"11/2012\", \"10/2017\", \"10/2016\", \"11/2013\", \"11/2014\"], \"y\": [0.0, 1.0, 1.0, 1.0, 0.0, 0.0], \"name\": \"DFSEXDYS\", \"text\": \"\", \"line\": {\"color\": \"rgba(251, 128, 114, 0.5999999999999999)\", \"width\": 1.3, \"dash\": \"solid\"}, \"mode\": \"lines+markers\", \"marker\": {\"symbol\": \"dot\", \"size\": 12}}, {\"type\": \"scatter\", \"x\": [\"11/2015\", \"11/2012\", \"10/2017\", \"10/2016\", \"11/2013\", \"11/2014\"], \"y\": [1.0, 1.0, 1.0, 1.0, 0.0, 0.0], \"name\": \"DFURDYS\", \"text\": \"\", \"line\": {\"color\": \"rgba(128, 177, 211, 0.5999999999999999)\", \"width\": 1.3, \"dash\": \"solid\"}, \"mode\": \"lines+markers\", \"marker\": {\"symbol\": \"dot\", \"size\": 12}}, {\"type\": \"scatter\", \"x\": [\"11/2015\", \"11/2012\", \"10/2017\", \"10/2016\", \"11/2013\", \"11/2014\"], \"y\": [1.0, 0.0, 1.0, 1.0, 0.0, 0.0], \"name\": \"DFBWLDYS\", \"text\": \"\", \"line\": {\"color\": \"rgba(255, 153, 51, 0.5999999999999999)\", \"width\": 1.3, \"dash\": \"solid\"}, \"mode\": \"lines+markers\", \"marker\": {\"symbol\": \"dot\", \"size\": 12}}, {\"type\": \"scatter\", \"x\": [\"11/2015\", \"11/2012\", \"10/2017\", \"10/2016\", \"11/2013\", \"11/2014\"], \"y\": [0.0, 0.0, 0.0, 0.0, 0.0, 0.0], \"name\": \"DFOCULO\", \"text\": \"\", \"line\": {\"color\": \"rgba(55, 128, 191, 0.5999999999999999)\", \"width\": 1.3, \"dash\": \"solid\"}, \"mode\": \"lines+markers\", \"marker\": {\"symbol\": \"dot\", \"size\": 12}}, {\"type\": \"scatter\", \"x\": [\"11/2015\", \"11/2012\", \"10/2017\", \"10/2016\", \"11/2013\", \"11/2014\"], \"y\": [0.0, 0.0, 0.0, 0.0, 0.0, 0.0], \"name\": \"DFEYELID\", \"text\": \"\", \"line\": {\"color\": \"rgba(50, 171, 96, 0.5999999999999999)\", \"width\": 1.3, \"dash\": \"solid\"}, \"mode\": \"lines+markers\", \"marker\": {\"symbol\": \"dot\", \"size\": 12}}, {\"type\": \"scatter\", \"x\": [\"11/2015\", \"11/2012\", \"10/2017\", \"10/2016\", \"11/2013\", \"11/2014\"], \"y\": [0.0, 0.0, 0.0, 0.0, 0.0, 0.0], \"name\": \"DFNEURAB\", \"text\": \"\", \"line\": {\"color\": \"rgba(128, 0, 128, 0.5999999999999999)\", \"width\": 1.3, \"dash\": \"solid\"}, \"mode\": \"lines+markers\", \"marker\": {\"symbol\": \"dot\", \"size\": 12}}, {\"type\": \"scatter\", \"x\": [\"11/2015\", \"11/2012\", \"10/2017\", \"10/2016\", \"11/2013\", \"11/2014\"], \"y\": [0.0, 0.0, 0.0, 0.0, 0.0, 0.0], \"name\": \"DFRAPSPE\", \"text\": \"\", \"line\": {\"color\": \"rgba(219, 64, 82, 0.5999999999999999)\", \"width\": 1.3, \"dash\": \"solid\"}, \"mode\": \"lines+markers\", \"marker\": {\"symbol\": \"dot\", \"size\": 12}}, {\"type\": \"scatter\", \"x\": [\"11/2015\", \"11/2012\", \"10/2017\", \"10/2016\", \"11/2013\", \"11/2014\"], \"y\": [0.0, 0.0, 0.0, 0.0, 0.0, 0.0], \"name\": \"DFBULBAR\", \"text\": \"\", \"line\": {\"color\": \"rgba(0, 128, 128, 0.5999999999999999)\", \"width\": 1.3, \"dash\": \"solid\"}, \"mode\": \"lines+markers\", \"marker\": {\"symbol\": \"dot\", \"size\": 12}}, {\"type\": \"scatter\", \"x\": [\"11/2015\", \"11/2012\", \"10/2017\", \"10/2016\", \"11/2013\", \"11/2014\"], \"y\": [0.0, 0.0, 0.0, 0.0, 0.0, 0.0], \"name\": \"DFATYP\", \"text\": \"\", \"line\": {\"color\": \"rgba(0, 128, 128, 0.49999999999999983)\", \"width\": 1.3, \"dash\": \"solid\"}, \"mode\": \"lines+markers\", \"marker\": {\"symbol\": \"dot\", \"size\": 12}}], {\"legend\": {\"bgcolor\": \"#F5F6F9\", \"font\": {\"color\": \"#4D5663\"}}, \"paper_bgcolor\": \"#F5F6F9\", \"plot_bgcolor\": \"#F5F6F9\", \"yaxis1\": {\"tickfont\": {\"color\": \"#4D5663\"}, \"gridcolor\": \"#E1E5ED\", \"titlefont\": {\"color\": \"#4D5663\"}, \"zerolinecolor\": \"#E1E5ED\", \"showgrid\": true, \"title\": \"\"}, \"xaxis1\": {\"tickfont\": {\"color\": \"#4D5663\"}, \"gridcolor\": \"#E1E5ED\", \"titlefont\": {\"color\": \"#4D5663\"}, \"zerolinecolor\": \"#E1E5ED\", \"showgrid\": true, \"title\": \"\"}, \"titlefont\": {\"color\": \"#4D5663\"}}, {\"showLink\": true, \"linkText\": \"Export to plot.ly\"})});</script>"
      ]
     },
     "metadata": {},
     "output_type": "display_data"
    }
   ],
   "source": [
    "import cufflinks as cf\n",
    "# Configure it to work offline:\n",
    "cf.go_offline(connected=True)\n",
    "\n",
    "df_3051=diagfeat_EADL.loc[diagfeat_EADL['PATNO']==3051,:]\n",
    "df_3051.set_index('INFODT',inplace=True)\n",
    "df_3051['var_sumfeat']=df_3051.iloc[:,range(3,54)].sum(axis=1)\n",
    "df_3051_sumfeat=df_3051.loc[:,'var_sumfeat']\n",
    "df_3051_plot=df_3051.iloc[:,range(3,54)]\n",
    "\n",
    "df_3051_plot.iplot(kind='scatter',filename='PATNO 3051 Diag Feat over time',mode='lines+markers')\n",
    "#find something better than scatter plot."
   ]
  },
  {
   "cell_type": "code",
   "execution_count": 67,
   "metadata": {},
   "outputs": [],
   "source": [
    "# Plotting the labels of multiple patients\n",
    "sub_df=patients_sampling(diagfeat_EADL)\n",
    "sub_df['INFODT_date']=sub_df['INFODT'].apply(lambda x: datetime.strptime(x,'%m/%Y'))"
   ]
  },
  {
   "cell_type": "code",
   "execution_count": 68,
   "metadata": {},
   "outputs": [
    {
     "data": {
      "text/plain": [
       "<seaborn.axisgrid.FacetGrid at 0x1a0d53b978>"
      ]
     },
     "execution_count": 68,
     "metadata": {},
     "output_type": "execute_result"
    },
    {
     "data": {
      "image/png": "[encoded data removed]",
      "text/plain": [
       "<Figure size 1080x1080 with 25 Axes>"
      ]
     },
     "metadata": {},
     "output_type": "display_data"
    }
   ],
   "source": [
    "# https://seaborn.pydata.org/examples/faceted_histogram.html\n",
    "sns.set(style=\"darkgrid\")\n",
    "g = sns.FacetGrid(sub_df, col=\"PATNO\", margin_titles=True,col_wrap=5)\n",
    "g.map(plt.hist, \"sum_feat\", color=\"steelblue\")"
   ]
  },
  {
   "cell_type": "code",
   "execution_count": 69,
   "metadata": {},
   "outputs": [
    {
     "data": {
      "text/plain": [
       "<seaborn.axisgrid.FacetGrid at 0x1a0de7ca90>"
      ]
     },
     "execution_count": 69,
     "metadata": {},
     "output_type": "execute_result"
    },
    {
     "data": {
      "image/png": "[encoded data removed]",
      "text/plain": [
       "<Figure size 1080x1080 with 25 Axes>"
      ]
     },
     "metadata": {},
     "output_type": "display_data"
    }
   ],
   "source": [
    "sns.set(style=\"darkgrid\")\n",
    "g = sns.FacetGrid(sub_df, col=\"PATNO\", margin_titles=True,col_wrap=5)\n",
    "#bins = np.linspace(0, 60, 13)\n",
    "g.map(plt.plot, \"sum_feat\", color=\"steelblue\")"
   ]
  },
  {
   "cell_type": "code",
   "execution_count": 80,
   "metadata": {},
   "outputs": [
    {
     "data": {
      "image/png": "[encoded data removed]",
      "text/plain": [
       "<Figure size 1440x720 with 1 Axes>"
      ]
     },
     "metadata": {},
     "output_type": "display_data"
    }
   ],
   "source": [
    "#fig,ax=plt.plot()\n",
    "ax = sns.stripplot(x=\"PATNO\", y=\"sum_feat\",data=sub_df, jitter=True)\n",
    "ax.figure.set_size_inches(w=20,h=10)\n",
    "#plt.setp(ax.get_legend().get_texts(), fontsize='22') # for legend text\n",
    "#plt.setp(ax.get_legend().get_title(), fontsize='32') # for legend title\n",
    "plt.show()\n",
    "# put more than 10 patients...25."
   ]
  },
  {
   "cell_type": "code",
   "execution_count": 82,
   "metadata": {},
   "outputs": [
    {
     "data": {
      "image/png": "[encoded data removed]",
      "text/plain": [
       "<Figure size 1440x720 with 1 Axes>"
      ]
     },
     "metadata": {},
     "output_type": "display_data"
    }
   ],
   "source": [
    "ax=sns.boxplot(y=\"sum_feat\",\n",
    "            x=\"PATNO\", data=sub_df)\n",
    "ax.figure.set_size_inches(w=20,h=10)"
   ]
  },
  {
   "cell_type": "markdown",
   "metadata": {},
   "source": [
    "### Labels"
   ]
  },
  {
   "cell_type": "code",
   "execution_count": 83,
   "metadata": {},
   "outputs": [
    {
     "data": {
      "text/plain": [
       "<seaborn.axisgrid.FacetGrid at 0x1a1bb453c8>"
      ]
     },
     "execution_count": 83,
     "metadata": {},
     "output_type": "execute_result"
    },
    {
     "data": {
      "image/png": "[encoded data removed]",
      "text/plain": [
       "<Figure size 1080x1080 with 25 Axes>"
      ]
     },
     "metadata": {},
     "output_type": "display_data"
    }
   ],
   "source": [
    "# https://seaborn.pydata.org/examples/faceted_histogram.html\n",
    "sns.set(style=\"darkgrid\")\n",
    "g = sns.FacetGrid(sub_df, col=\"PATNO\", margin_titles=True, col_wrap=5)\n",
    "g.map(plt.hist, \"MSEADLG\", color=\"steelblue\")\n",
    "\n",
    "# ADD TITLE"
   ]
  },
  {
   "cell_type": "code",
   "execution_count": 84,
   "metadata": {},
   "outputs": [
    {
     "data": {
      "text/plain": [
       "<seaborn.axisgrid.FacetGrid at 0x1a1af7e668>"
      ]
     },
     "execution_count": 84,
     "metadata": {},
     "output_type": "execute_result"
    },
    {
     "data": {
      "image/png": "[encoded data removed]",
      "text/plain": [
       "<Figure size 1080x1080 with 25 Axes>"
      ]
     },
     "metadata": {},
     "output_type": "display_data"
    }
   ],
   "source": [
    "sns.set(style=\"darkgrid\")\n",
    "g = sns.FacetGrid(sub_df, col=\"PATNO\", margin_titles=True,col_wrap=5)\n",
    "g.map(plt.plot, \"MSEADLG\", color=\"steelblue\")"
   ]
  },
  {
   "cell_type": "code",
   "execution_count": 85,
   "metadata": {},
   "outputs": [
    {
     "data": {
      "image/png": "[encoded data removed]",
      "text/plain": [
       "<Figure size 1440x720 with 1 Axes>"
      ]
     },
     "metadata": {},
     "output_type": "display_data"
    }
   ],
   "source": [
    "ax = sns.stripplot(x=\"PATNO\", y=\"MSEADLG\",data=sub_df, jitter=True)\n",
    "ax.figure.set_size_inches(w=20,h=10)\n",
    "plt.show()"
   ]
  },
  {
   "cell_type": "code",
   "execution_count": 86,
   "metadata": {},
   "outputs": [
    {
     "data": {
      "image/png": "[encoded data removed]",
      "text/plain": [
       "<Figure size 1440x720 with 1 Axes>"
      ]
     },
     "metadata": {},
     "output_type": "display_data"
    }
   ],
   "source": [
    "ax=sns.boxplot(y=\"MSEADLG\",\n",
    "            x=\"PATNO\", data=sub_df)\n",
    "ax.figure.set_size_inches(w=20,h=10)"
   ]
  },
  {
   "cell_type": "code",
   "execution_count": 22,
   "metadata": {},
   "outputs": [],
   "source": [
    "sub_df=diagfeat_EADL.loc[diagfeat_EADL['PATNO']==patients_sample[0],:]\n",
    "#sub_df"
   ]
  },
  {
   "cell_type": "markdown",
   "metadata": {},
   "source": [
    "## TO USE LATER ON (multi-label classification)"
   ]
  },
  {
   "cell_type": "code",
   "execution_count": null,
   "metadata": {},
   "outputs": [],
   "source": [
    "folder_path='/Users/alicemartin/02_DSR_Project/parkinson-disease-project/data/PPMI-final-dataset-382018/6-Motor-Assessments/'\n",
    "files_names=reading_csv_files(folder_path)[1]\n",
    "dict_files=reading_csv_files(folder_path)[2]\n",
    "\n",
    "### 'MDS_UPDRS_Part_I.csv' - 2010 patients\n",
    "\n",
    "NUPDRS1=dict_files[files_names[2]]\n",
    "print(number_of_patients(NUPDRS1))\n",
    "NUPDRS1.head()\n",
    "\n",
    "### 'MDS_UPDRS_Part_III.csv' - 2010 patients\n",
    "\n",
    "NUPDRS3=dict_files[files_names[7]]\n",
    "print(number_of_patients(NUPDRS3))\n",
    "NUPDRS3.head()"
   ]
  },
  {
   "cell_type": "code",
   "execution_count": null,
   "metadata": {},
   "outputs": [],
   "source": [
    "### 'General_Neurological_Exam.csv': useful: Feat-Gen - 2048 patients\n",
    "\n",
    "PENEURO=dict_files[files_names[7]]\n",
    "SEL=['REC_ID', 'PATNO', 'EVENT_ID', 'PAG_NAME', 'INFODT',\n",
    "       'MSRARSP', 'MSRACM', 'MSLARSP', 'MSLACM', 'MSRLRSP', 'MSRLCM',\n",
    "       'MSLLRSP', 'MSLLCM', 'COFNRRSP', 'COFNRCM', 'COFNLRSP', 'COFNLCM',\n",
    "       'COHSRRSP', 'COHSRCM', 'COHSLRSP', 'COHSLCM', 'SENRARSP', 'SENRACM',\n",
    "       'SENLARSP', 'SENLACM', 'SENRLRSP', 'SENRLCM', 'SENLLRSP', 'SENLLCM',\n",
    "       'RFLRARSP', 'RFLRACM', 'RFLLARSP', 'RFLLACM', 'RFLRLRSP', 'RFLRLCM',\n",
    "       'RFLLLRSP', 'RFLLLCM', 'PLRRRSP', 'PLRRCM', 'PLRLRSP', 'PLRLCM']\n",
    "print(number_of_patients(PENEURO))\n",
    "PENEURO_sel=PENEURO[SEL]\n",
    "PENEURO_sel.head()\n",
    "#list(set(PENEURO['EVENT_ID']))\n",
    "\n",
    "### 'Neurological_Exam_-_Cranial_Nerves.csv': useful: Feat-PD - 2049 patients\n",
    "\n",
    "PENEURO2=dict_files[files_names[13]]\n",
    "PENEURO2.head()\n",
    "PENEURO2.columns\n",
    "\n",
    "SEL=['REC_ID', 'PATNO', 'EVENT_ID', 'PAG_NAME', 'INFODT',\n",
    "       'CN1RSP','CN2RSP', 'CN346RSP','CN5RSP',\n",
    "     'CN7RSP', 'CN8RSP', 'CN910RSP',\n",
    "       'CN11RSP', 'CN12RSP']\n",
    "print(number_of_patients(PENEURO2))\n",
    "PENEURO2_sel=PENEURO2[SEL]\n",
    "PENEURO2_sel.head()\n",
    "#list(set(PENEURO['EVENT_ID']))"
   ]
  },
  {
   "cell_type": "code",
   "execution_count": null,
   "metadata": {},
   "outputs": [],
   "source": [
    "### 'Vital_Signs.csv': useful: Feat-Gen\n",
    "### 2047 patients\n",
    "\n",
    "VITAL=dict_files[files_names[15]]\n",
    "#VITAL.head()\n",
    "#VITAL.columns\n",
    "\n",
    "SEL=['REC_ID', 'PATNO', 'EVENT_ID', 'PAG_NAME', 'INFODT',\n",
    "       'WGTKG', 'HTCM', 'TEMPC', 'SYSSUP', 'DIASUP', 'HRSUP',\n",
    "       'SYSSTND', 'DIASTND', 'HRSTND']\n",
    "print(number_of_patients(VITAL))\n",
    "VITAL_sel=VITAL[SEL]\n",
    "VITAL_sel.head()"
   ]
  },
  {
   "cell_type": "markdown",
   "metadata": {},
   "source": [
    "### Plotly code bugging: understand why."
   ]
  },
  {
   "cell_type": "markdown",
   "metadata": {},
   "source": [
    "#plotting with plotly \n",
    "import plotly as py\n",
    "py.offline.init_notebook_mode(connected=True)\n",
    "import plotly.graph_objs as go\n",
    "\n",
    "#Traces\n",
    "data=[]\n",
    "for i in patients_sample: \n",
    "    sub_df=diagfeat_EADL.loc[diagfeat_EADL['PATNO']==i,:]\n",
    "    sub_df['INFODT_date']=sub_df['INFODT'].apply(lambda x: datetime.strptime(x,'%m/%Y'))\n",
    "    #print(len(sub_df))\n",
    "    sub_df.dropna(inplace=True)\n",
    "    #trace=dict(type='scatter',x=sub_df['INFODT'],\n",
    "              # y=sub_df['MSEADLG'],\n",
    "              # name='PATNO{}'.format(i))\n",
    "    trace=go.Scatter(x=sub_df['INFODT_date'],y=sub_df['MSEADLG'],name='PATNO{}'.format(i))\n",
    "    data.append(trace)\n",
    "#Figure\n",
    "#fig=go.Figure(data)"
   ]
  }
 ],
 "metadata": {
  "kernelspec": {
   "display_name": "Python 3",
   "language": "python",
   "name": "python3"
  },
  "language_info": {
   "codemirror_mode": {
    "name": "ipython",
    "version": 3
   },
   "file_extension": ".py",
   "mimetype": "text/x-python",
   "name": "python",
   "nbconvert_exporter": "python",
   "pygments_lexer": "ipython3",
   "version": "3.6.4"
  }
 },
 "nbformat": 4,
 "nbformat_minor": 2
}
