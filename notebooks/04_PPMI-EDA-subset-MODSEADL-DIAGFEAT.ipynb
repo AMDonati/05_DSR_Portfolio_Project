{
 "cells": [
  {
   "cell_type": "markdown",
   "metadata": {},
   "source": [
    "## TO DO - Aug 26th\n",
    "* write all plotting functions\n",
    "* add number of timepoints for each patients on graph\n",
    "* do EDA for: \n",
    "    * UPDRS with average\n",
    "    * Non-motor assessments\n",
    "    * Gen Medical info\n",
    "    * Neurological assessements\n",
    "* to plot as well: unbalance of class in the dataset using an histogram"
   ]
  },
  {
   "cell_type": "markdown",
   "metadata": {},
   "source": [
    "## REFERENCES"
   ]
  },
  {
   "cell_type": "markdown",
   "metadata": {},
   "source": [
    "* **Data viz - Jesus**: \n",
    " > http://localhost:8888/notebooks/00_TRAINING/02_DSR/VIZ_course/PLOTLY/code_for_slides.ipynb\n",
    " > http://localhost:8888/notebooks/01_Dev/02_Python-tutorials_Jupyter-notebooks/03_Python_forDS_Udemy/Plotly%20and%20cufflinks_AM.ipynb\n",
    "\n",
    "### Specific to time-series: \n",
    "* https://github.com/ChadFulton/tsa-notebooks\n",
    "* https://github.com/maxim5/time-series-machine-learning\n",
    "\n",
    "### time-series w/ DL on EHR data\n",
    "* https://github.com/AMDonati/Deep-Neural-Networks-HealthCare/tree/master/Project%209%20--%20Deep%20Learning%20RNN%20for%20Predicting%20%20Glucose%20Concentration%20for%20Diabetes1%20Patients\n",
    "* https://github.com/AMDonati/Deep-Neural-Networks-HealthCare/tree/master/Project%209%20--%20Deep%20Learning%20RNN%20for%20Predicting%20%20Glucose%20Concentration%20for%20Diabetes1%20Patients\n",
    "* https://github.com/AMDonati/doctorai\n",
    "\n",
    "### Kaggle Kernels\n",
    "* https://www.kaggle.com/c/web-traffic-time-series-forecasting"
   ]
  },
  {
   "cell_type": "markdown",
   "metadata": {},
   "source": [
    "## 0. Imports & functions"
   ]
  },
  {
   "cell_type": "code",
   "execution_count": 1,
   "metadata": {},
   "outputs": [],
   "source": [
    "#imports \n",
    "import numpy as np \n",
    "import pandas as pd \n",
    "import matplotlib.pyplot as plt\n",
    "import plotly.plotly as py\n",
    "import cufflinks as cf\n",
    "import seaborn as sns\n",
    "import urllib.parse\n",
    "from glob import glob\n",
    "import os\n",
    "import ntpath \n",
    "import zipfile\n",
    "from datetime import datetime\n",
    "\n",
    "#and enable the offline mode in the notebook (not needed in Jupyter Lab)\n",
    "#py.offline.init_notebook_mode(connected=True)\n",
    "\n",
    "import warnings\n",
    "warnings.filterwarnings('ignore')\n",
    "\n",
    "PPMI_path='/Users/alicemartin/02_DSR_Project/parkinson-disease-project/data/'"
   ]
  },
  {
   "cell_type": "code",
   "execution_count": 2,
   "metadata": {},
   "outputs": [],
   "source": [
    "#!pip install cufflinks --upgrade"
   ]
  },
  {
   "cell_type": "code",
   "execution_count": 3,
   "metadata": {},
   "outputs": [],
   "source": [
    "def reading_csv_files(folder_path):\n",
    "    # saving all the csv files in a dataframe\n",
    "    import os\n",
    "    import glob\n",
    "    # glob.glob('*.csv') #find all the csv files in a pathname. \n",
    "    os.chdir(folder_path)\n",
    "    csv_files = [i for i in glob.glob('*.csv')]\n",
    "\n",
    "    # Reading each csv file and storing them in a dictionnary containing the file name and the dataframe\n",
    "    dict_files={}\n",
    "    files_names=[]\n",
    "    for files in csv_files:\n",
    "        df=pd.read_csv(files,engine='python')\n",
    "        basepath, filename=ntpath.split(files)\n",
    "        files_names.append(filename)\n",
    "        dict_files[filename]=df\n",
    "        \n",
    "    # Calculating the # of rows and features for each dataframe and storing them in a list of tuples\n",
    "    shape_df=[]\n",
    "    for i in range(0,len(dict_files.keys())):\n",
    "        nrows, ncols=(len(dict_files[files_names[i]]),len(dict_files[files_names[i]].columns))\n",
    "        shape_df.append((nrows,ncols))\n",
    "\n",
    "    return (shape_df,files_names,dict_files)"
   ]
  },
  {
   "cell_type": "code",
   "execution_count": 4,
   "metadata": {},
   "outputs": [],
   "source": [
    "def number_of_patients(df):\n",
    "    '''return the number of patients in each csv files and the number of events'''\n",
    "    patients=len(list(set(df['PATNO'])))\n",
    "    if 'EVENT_ID' in df.columns:\n",
    "        events=len(list(set(df['EVENT_ID'])))\n",
    "    else:\n",
    "        events='no TS data'\n",
    "    return (patients,events)"
   ]
  },
  {
   "cell_type": "code",
   "execution_count": 5,
   "metadata": {},
   "outputs": [],
   "source": [
    "def features_selection(df, SEL):\n",
    "    '''cleanier way to do features selection in each csv file'''\n",
    "    return df_sel"
   ]
  },
  {
   "cell_type": "code",
   "execution_count": 6,
   "metadata": {},
   "outputs": [],
   "source": [
    "def patients_selection(df, threshold=6):\n",
    "    '''return a dataframe containing only the patients with number of visits > threshold'''\n",
    "    if 'PATNO' in df.columns: \n",
    "        visits_number_by_pat=df.groupby('PATNO').size().sort_values(ascending=False)\n",
    "        mask_sel=visits_number_by_pat>=threshold\n",
    "        patients_sel=list(mask_sel[mask_sel.values==True].index)\n",
    "        df=df.loc[df['PATNO'].isin(patients_sel),:]\n",
    "        df=df.sort_values('PATNO')\n",
    "        return (patients_sel, df)\n",
    "    else:\n",
    "        print(\"There is no 'PATNO' column in the dataframe\")"
   ]
  },
  {
   "cell_type": "code",
   "execution_count": 7,
   "metadata": {},
   "outputs": [],
   "source": [
    "def patients_sampling(df,sample_size=25,seed=123):\n",
    "    np.random.seed(seed)\n",
    "    sample=list(np.random.randint(0,number_of_patients(diagfeat_EADL)[0],sample_size+1))\n",
    "    patients_sample=pd.Series(list(set(df['PATNO'])))[sample]\n",
    "    patients_sample=list(patients_sample.values)\n",
    "    sub_df=df.loc[diagfeat_EADL['PATNO'].isin(patients_sample),:]\n",
    "    return sub_df"
   ]
  },
  {
   "cell_type": "code",
   "execution_count": 8,
   "metadata": {},
   "outputs": [],
   "source": [
    "def INFODT_date(df):\n",
    "    if 'INFODT' in df.columns: \n",
    "        df['INFODT_date']=df['INFODT'].apply(lambda x: datetime.strptime(x,'%m/%Y'))\n",
    "    return df"
   ]
  },
  {
   "cell_type": "code",
   "execution_count": 10,
   "metadata": {},
   "outputs": [],
   "source": [
    "def plotting(df,sample_size=25):\n",
    "        '''EDA on features'''\n",
    "# first plot \n",
    "sns.set(style=\"darkgrid\")\n",
    "g = sns.FacetGrid(sub_df, col=\"PATNO\", margin_titles=True,col_wrap=5)\n",
    "g.map(plt.hist, \"sum_feat\", color=\"steelblue\")\n",
    "\n",
    "# second plot\n",
    "g = sns.FacetGrid(sub_df, col=\"PATNO\", margin_titles=True,col_wrap=5)\n",
    "g.map(plt.plot, \"sum_feat\", color=\"steelblue\")\n",
    "\n",
    "# third plot\n",
    "ax=sns.boxplot(y=\"sum_feat\",\n",
    "            x=\"PATNO\", data=sub_df)\n",
    "ax.figure.set_size_inches(w=20,h=10)"
   ]
  },
  {
   "cell_type": "code",
   "execution_count": 11,
   "metadata": {},
   "outputs": [],
   "source": [
    "def feat_variance_analysis(df,sample_size=25): \n",
    "    ''''''"
   ]
  },
  {
   "cell_type": "markdown",
   "metadata": {},
   "source": [
    "## 1. Data-processing"
   ]
  },
  {
   "cell_type": "markdown",
   "metadata": {},
   "source": [
    "###  Getting the PD people.\n"
   ]
  },
  {
   "cell_type": "code",
   "execution_count": 12,
   "metadata": {},
   "outputs": [
    {
     "name": "stdout",
     "output_type": "stream",
     "text": [
      "number of PD patients:876\n"
     ]
    }
   ],
   "source": [
    "folder_path='/Users/alicemartin/02_DSR_Project/parkinson-disease-project/data/PPMI-final-dataset-382018/1-Subject-Characteristics/'\n",
    "files_names=reading_csv_files(folder_path)[1]\n",
    "dict_files=reading_csv_files(folder_path)[2]\n",
    "\n",
    "### Patient_Status - actually useful for selecting only the PD patients in each table\n",
    "PRODROMA=dict_files[files_names[0]]\n",
    "PD_cat=['PD','REGPD','GENPD']\n",
    "mask=PRODROMA['ENROLL_CAT'].isin(PD_cat)\n",
    "# might be better to use the other cat variable because ENROLL_CAT contains ~320 NaN. \n",
    "PD_patients=list(PRODROMA.loc[mask,'PATNO'])\n",
    "print('number of PD patients:{}'.format(len(PD_patients)))"
   ]
  },
  {
   "cell_type": "markdown",
   "metadata": {},
   "source": [
    "### Creating the dataset with selected features."
   ]
  },
  {
   "cell_type": "code",
   "execution_count": 13,
   "metadata": {},
   "outputs": [
    {
     "data": {
      "text/html": [
       "<div>\n",
       "<style scoped>\n",
       "    .dataframe tbody tr th:only-of-type {\n",
       "        vertical-align: middle;\n",
       "    }\n",
       "\n",
       "    .dataframe tbody tr th {\n",
       "        vertical-align: top;\n",
       "    }\n",
       "\n",
       "    .dataframe thead th {\n",
       "        text-align: right;\n",
       "    }\n",
       "</style>\n",
       "<table border=\"1\" class=\"dataframe\">\n",
       "  <thead>\n",
       "    <tr style=\"text-align: right;\">\n",
       "      <th></th>\n",
       "      <th>REC_ID</th>\n",
       "      <th>PATNO</th>\n",
       "      <th>EVENT_ID</th>\n",
       "      <th>INFODT</th>\n",
       "      <th>DFSTROKE</th>\n",
       "      <th>DFRSKFCT</th>\n",
       "      <th>DFPRESNT</th>\n",
       "      <th>DFRPROG</th>\n",
       "      <th>DFSTATIC</th>\n",
       "      <th>DFHEMPRK</th>\n",
       "      <th>...</th>\n",
       "      <th>DFSEXDYS</th>\n",
       "      <th>DFURDYS</th>\n",
       "      <th>DFBWLDYS</th>\n",
       "      <th>DFOCULO</th>\n",
       "      <th>DFEYELID</th>\n",
       "      <th>DFNEURAB</th>\n",
       "      <th>DFRAPSPE</th>\n",
       "      <th>DFBULBAR</th>\n",
       "      <th>DFATYP</th>\n",
       "      <th>sum_feat</th>\n",
       "    </tr>\n",
       "  </thead>\n",
       "  <tbody>\n",
       "    <tr>\n",
       "      <th>0</th>\n",
       "      <td>544962901</td>\n",
       "      <td>3051</td>\n",
       "      <td>V12</td>\n",
       "      <td>11/2015</td>\n",
       "      <td>0.0</td>\n",
       "      <td>0.0</td>\n",
       "      <td>0.0</td>\n",
       "      <td>0.0</td>\n",
       "      <td>0.0</td>\n",
       "      <td>0.0</td>\n",
       "      <td>...</td>\n",
       "      <td>0.0</td>\n",
       "      <td>1.0</td>\n",
       "      <td>1.0</td>\n",
       "      <td>0.0</td>\n",
       "      <td>0.0</td>\n",
       "      <td>0.0</td>\n",
       "      <td>0.0</td>\n",
       "      <td>0.0</td>\n",
       "      <td>0.0</td>\n",
       "      <td>6.0</td>\n",
       "    </tr>\n",
       "    <tr>\n",
       "      <th>1</th>\n",
       "      <td>378904801</td>\n",
       "      <td>3051</td>\n",
       "      <td>V06</td>\n",
       "      <td>11/2012</td>\n",
       "      <td>0.0</td>\n",
       "      <td>0.0</td>\n",
       "      <td>0.0</td>\n",
       "      <td>0.0</td>\n",
       "      <td>0.0</td>\n",
       "      <td>0.0</td>\n",
       "      <td>...</td>\n",
       "      <td>1.0</td>\n",
       "      <td>1.0</td>\n",
       "      <td>0.0</td>\n",
       "      <td>0.0</td>\n",
       "      <td>0.0</td>\n",
       "      <td>0.0</td>\n",
       "      <td>0.0</td>\n",
       "      <td>0.0</td>\n",
       "      <td>0.0</td>\n",
       "      <td>6.0</td>\n",
       "    </tr>\n",
       "    <tr>\n",
       "      <th>2</th>\n",
       "      <td>659585301</td>\n",
       "      <td>3051</td>\n",
       "      <td>V14</td>\n",
       "      <td>10/2017</td>\n",
       "      <td>0.0</td>\n",
       "      <td>0.0</td>\n",
       "      <td>0.0</td>\n",
       "      <td>0.0</td>\n",
       "      <td>0.0</td>\n",
       "      <td>0.0</td>\n",
       "      <td>...</td>\n",
       "      <td>1.0</td>\n",
       "      <td>1.0</td>\n",
       "      <td>1.0</td>\n",
       "      <td>0.0</td>\n",
       "      <td>0.0</td>\n",
       "      <td>0.0</td>\n",
       "      <td>0.0</td>\n",
       "      <td>0.0</td>\n",
       "      <td>0.0</td>\n",
       "      <td>8.0</td>\n",
       "    </tr>\n",
       "    <tr>\n",
       "      <th>3</th>\n",
       "      <td>595650601</td>\n",
       "      <td>3051</td>\n",
       "      <td>V13</td>\n",
       "      <td>10/2016</td>\n",
       "      <td>0.0</td>\n",
       "      <td>0.0</td>\n",
       "      <td>0.0</td>\n",
       "      <td>0.0</td>\n",
       "      <td>0.0</td>\n",
       "      <td>0.0</td>\n",
       "      <td>...</td>\n",
       "      <td>1.0</td>\n",
       "      <td>1.0</td>\n",
       "      <td>1.0</td>\n",
       "      <td>0.0</td>\n",
       "      <td>0.0</td>\n",
       "      <td>0.0</td>\n",
       "      <td>0.0</td>\n",
       "      <td>0.0</td>\n",
       "      <td>0.0</td>\n",
       "      <td>7.0</td>\n",
       "    </tr>\n",
       "    <tr>\n",
       "      <th>4</th>\n",
       "      <td>417112701</td>\n",
       "      <td>3051</td>\n",
       "      <td>V08</td>\n",
       "      <td>11/2013</td>\n",
       "      <td>0.0</td>\n",
       "      <td>0.0</td>\n",
       "      <td>0.0</td>\n",
       "      <td>0.0</td>\n",
       "      <td>0.0</td>\n",
       "      <td>0.0</td>\n",
       "      <td>...</td>\n",
       "      <td>0.0</td>\n",
       "      <td>0.0</td>\n",
       "      <td>0.0</td>\n",
       "      <td>0.0</td>\n",
       "      <td>0.0</td>\n",
       "      <td>0.0</td>\n",
       "      <td>0.0</td>\n",
       "      <td>0.0</td>\n",
       "      <td>0.0</td>\n",
       "      <td>4.0</td>\n",
       "    </tr>\n",
       "  </tbody>\n",
       "</table>\n",
       "<p>5 rows × 56 columns</p>\n",
       "</div>"
      ],
      "text/plain": [
       "      REC_ID  PATNO EVENT_ID   INFODT  DFSTROKE  DFRSKFCT  DFPRESNT  DFRPROG  \\\n",
       "0  544962901   3051      V12  11/2015       0.0       0.0       0.0      0.0   \n",
       "1  378904801   3051      V06  11/2012       0.0       0.0       0.0      0.0   \n",
       "2  659585301   3051      V14  10/2017       0.0       0.0       0.0      0.0   \n",
       "3  595650601   3051      V13  10/2016       0.0       0.0       0.0      0.0   \n",
       "4  417112701   3051      V08  11/2013       0.0       0.0       0.0      0.0   \n",
       "\n",
       "   DFSTATIC  DFHEMPRK    ...     DFSEXDYS  DFURDYS DFBWLDYS  DFOCULO  \\\n",
       "0       0.0       0.0    ...          0.0      1.0      1.0      0.0   \n",
       "1       0.0       0.0    ...          1.0      1.0      0.0      0.0   \n",
       "2       0.0       0.0    ...          1.0      1.0      1.0      0.0   \n",
       "3       0.0       0.0    ...          1.0      1.0      1.0      0.0   \n",
       "4       0.0       0.0    ...          0.0      0.0      0.0      0.0   \n",
       "\n",
       "   DFEYELID  DFNEURAB  DFRAPSPE DFBULBAR  DFATYP  sum_feat  \n",
       "0       0.0       0.0       0.0      0.0     0.0       6.0  \n",
       "1       0.0       0.0       0.0      0.0     0.0       6.0  \n",
       "2       0.0       0.0       0.0      0.0     0.0       8.0  \n",
       "3       0.0       0.0       0.0      0.0     0.0       7.0  \n",
       "4       0.0       0.0       0.0      0.0     0.0       4.0  \n",
       "\n",
       "[5 rows x 56 columns]"
      ]
     },
     "execution_count": 13,
     "metadata": {},
     "output_type": "execute_result"
    }
   ],
   "source": [
    "folder_path='/Users/alicemartin/02_DSR_Project/parkinson-disease-project/data/PPMI-final-dataset-382018/5-Medical-History/'\n",
    "files_names=reading_csv_files(folder_path)[1]\n",
    "dict_files=reading_csv_files(folder_path)[2]\n",
    "\n",
    "### 'Diagnostic_Features.csv': useful: Feat-PD - 1670 patients.\n",
    "DIAGFEAT=dict_files[files_names[1]]\n",
    "\n",
    "#using SEL2 for now: removing features with Non applicable values\n",
    "SEL2=[ 'REC_ID','PATNO', 'EVENT_ID','INFODT',\n",
    "       'DFSTROKE', 'DFRSKFCT', 'DFPRESNT', 'DFRPROG', 'DFSTATIC', 'DFHEMPRK',\n",
    "       'DFAGESX', 'DFOTHCRS', 'DFCRSCM', 'DFRTREMP', 'DFRTREMA', 'DFPATREM',\n",
    "       'DFOTHTRM', 'DFTREMCM', 'DFRIGIDP', 'DFRIGIDA', 'DFAXRIG', 'DFUNIRIG',\n",
    "       'DFTONE', 'DFOTHRIG', 'DFRIGCM', 'DFBRADYP', 'DFBRADYA', 'DFAKINES',\n",
    "       'DFBRPLUS', 'DFOTHABR', 'DFABRCM', 'DFPGDIST', 'DFGAIT', 'DFFREEZ',\n",
    "       'DFFALLS', 'DFOTHPG', 'DFPGCM', 'DFPSYCH', 'DFCOGNIT', 'DFDYSTON',\n",
    "       'DFCHOREA', 'DFMYOCLO', 'DFOTHHYP', 'DFHYPCM', 'DFHEMTRO', 'DFPSHYPO',\n",
    "       'DFSEXDYS', 'DFURDYS', 'DFBWLDYS', 'DFOCULO', 'DFEYELID', 'DFNEURAB',\n",
    "       'DFRAPSPE', 'DFBULBAR','DFATYP']\n",
    "## features removed.\n",
    "#SEL2=SEL.remove('DFCTSCAN')\n",
    "#SEL2=SEL.remove('DFDOPRSP')\n",
    "#SEL2=SEL.remove('DFMRI')\n",
    "\n",
    "# seleting the patients and features\n",
    "patients_sel=patients_selection(DIAGFEAT,6)[0]\n",
    "DIAGFEAT_sel=patients_selection(DIAGFEAT,6)[1]\n",
    "DIAGFEAT_sel=DIAGFEAT_sel[SEL2]\n",
    "DIAGFEAT_sel.reset_index(drop=True,inplace=True)\n",
    "\n",
    "#Add one feature: summing the binary PD measurements \n",
    "DIAGFEAT_sel['sum_feat']=DIAGFEAT_sel.iloc[:,range(4,55)].sum(axis=1)\n",
    "\n",
    "DIAGFEAT_sel.head()"
   ]
  },
  {
   "cell_type": "markdown",
   "metadata": {},
   "source": [
    "### Creating the Labels."
   ]
  },
  {
   "cell_type": "code",
   "execution_count": 14,
   "metadata": {},
   "outputs": [
    {
     "name": "stdout",
     "output_type": "stream",
     "text": [
      "(320, 18)\n"
     ]
    },
    {
     "data": {
      "text/html": [
       "<div>\n",
       "<style scoped>\n",
       "    .dataframe tbody tr th:only-of-type {\n",
       "        vertical-align: middle;\n",
       "    }\n",
       "\n",
       "    .dataframe tbody tr th {\n",
       "        vertical-align: top;\n",
       "    }\n",
       "\n",
       "    .dataframe thead th {\n",
       "        text-align: right;\n",
       "    }\n",
       "</style>\n",
       "<table border=\"1\" class=\"dataframe\">\n",
       "  <thead>\n",
       "    <tr style=\"text-align: right;\">\n",
       "      <th></th>\n",
       "      <th>REC_ID</th>\n",
       "      <th>PATNO</th>\n",
       "      <th>EVENT_ID</th>\n",
       "      <th>INFODT</th>\n",
       "      <th>MSEADLG</th>\n",
       "    </tr>\n",
       "  </thead>\n",
       "  <tbody>\n",
       "    <tr>\n",
       "      <th>506</th>\n",
       "      <td>320322201</td>\n",
       "      <td>3051</td>\n",
       "      <td>V04</td>\n",
       "      <td>11/2011</td>\n",
       "      <td>95.0</td>\n",
       "    </tr>\n",
       "    <tr>\n",
       "      <th>4405</th>\n",
       "      <td>478012101</td>\n",
       "      <td>3051</td>\n",
       "      <td>V10</td>\n",
       "      <td>11/2014</td>\n",
       "      <td>80.0</td>\n",
       "    </tr>\n",
       "    <tr>\n",
       "      <th>3626</th>\n",
       "      <td>436854001</td>\n",
       "      <td>3051</td>\n",
       "      <td>V09</td>\n",
       "      <td>04/2014</td>\n",
       "      <td>85.0</td>\n",
       "    </tr>\n",
       "    <tr>\n",
       "      <th>956</th>\n",
       "      <td>346352601</td>\n",
       "      <td>3051</td>\n",
       "      <td>V05</td>\n",
       "      <td>05/2012</td>\n",
       "      <td>95.0</td>\n",
       "    </tr>\n",
       "    <tr>\n",
       "      <th>3039</th>\n",
       "      <td>417119301</td>\n",
       "      <td>3051</td>\n",
       "      <td>V08</td>\n",
       "      <td>11/2013</td>\n",
       "      <td>85.0</td>\n",
       "    </tr>\n",
       "  </tbody>\n",
       "</table>\n",
       "</div>"
      ],
      "text/plain": [
       "         REC_ID  PATNO EVENT_ID   INFODT  MSEADLG\n",
       "506   320322201   3051      V04  11/2011     95.0\n",
       "4405  478012101   3051      V10  11/2014     80.0\n",
       "3626  436854001   3051      V09  04/2014     85.0\n",
       "956   346352601   3051      V05  05/2012     95.0\n",
       "3039  417119301   3051      V08  11/2013     85.0"
      ]
     },
     "execution_count": 14,
     "metadata": {},
     "output_type": "execute_result"
    }
   ],
   "source": [
    "### 'Modified_Schwab_+_England_ADL.csv' - 1837 patients\n",
    "folder_path='/Users/alicemartin/02_DSR_Project/parkinson-disease-project/data/PPMI-final-dataset-382018/6-Motor-Assessments/'\n",
    "files_names=reading_csv_files(folder_path)[1]\n",
    "dict_files=reading_csv_files(folder_path)[2]\n",
    "\n",
    "MODSEADL=dict_files[files_names[6]]\n",
    "\n",
    "# seleting the patients and features\n",
    "patients_sel=patients_selection(MODSEADL,6)[0]\n",
    "MODSEADL_sel=patients_selection(MODSEADL,6)[1]\n",
    "SEL=['REC_ID','PATNO','EVENT_ID','INFODT','MSEADLG']\n",
    "MODSEADL_sel=MODSEADL_sel[SEL]\n",
    "\n",
    "# finding the patient set intersection between features and labels \n",
    "labels_pat=patients_selection(MODSEADL,6)[0] \n",
    "feat_pat=patients_selection(DIAGFEAT_sel,6)[0]\n",
    "intersect=list(set(labels_pat) & set(feat_pat)) # ok cool: all the patients in DIAGFEAT are in MODSEADL. \n",
    "#print(len(intersect))\n",
    "\n",
    "# selecting only the intersect patients.\n",
    "MODSEADL_sel2=MODSEADL_sel.loc[MODSEADL_sel['PATNO'].isin(intersect),:]\n",
    "print(number_of_patients(MODSEADL_sel2))\n",
    "#MODSEADL_sel2.reset_index(drop=True,inplace=True)\n",
    "MODSEADL_sel2.head()"
   ]
  },
  {
   "cell_type": "code",
   "execution_count": 15,
   "metadata": {},
   "outputs": [
    {
     "data": {
      "text/html": [
       "<div>\n",
       "<style scoped>\n",
       "    .dataframe tbody tr th:only-of-type {\n",
       "        vertical-align: middle;\n",
       "    }\n",
       "\n",
       "    .dataframe tbody tr th {\n",
       "        vertical-align: top;\n",
       "    }\n",
       "\n",
       "    .dataframe thead th {\n",
       "        text-align: right;\n",
       "    }\n",
       "</style>\n",
       "<table border=\"1\" class=\"dataframe\">\n",
       "  <thead>\n",
       "    <tr style=\"text-align: right;\">\n",
       "      <th></th>\n",
       "      <th>REC_ID_x</th>\n",
       "      <th>PATNO</th>\n",
       "      <th>EVENT_ID</th>\n",
       "      <th>INFODT</th>\n",
       "      <th>DFSTROKE</th>\n",
       "      <th>DFRSKFCT</th>\n",
       "      <th>DFPRESNT</th>\n",
       "      <th>DFRPROG</th>\n",
       "      <th>DFSTATIC</th>\n",
       "      <th>DFHEMPRK</th>\n",
       "      <th>...</th>\n",
       "      <th>DFBWLDYS</th>\n",
       "      <th>DFOCULO</th>\n",
       "      <th>DFEYELID</th>\n",
       "      <th>DFNEURAB</th>\n",
       "      <th>DFRAPSPE</th>\n",
       "      <th>DFBULBAR</th>\n",
       "      <th>DFATYP</th>\n",
       "      <th>sum_feat</th>\n",
       "      <th>REC_ID_y</th>\n",
       "      <th>MSEADLG</th>\n",
       "    </tr>\n",
       "  </thead>\n",
       "  <tbody>\n",
       "    <tr>\n",
       "      <th>0</th>\n",
       "      <td>544962901</td>\n",
       "      <td>3051</td>\n",
       "      <td>V12</td>\n",
       "      <td>11/2015</td>\n",
       "      <td>0.0</td>\n",
       "      <td>0.0</td>\n",
       "      <td>0.0</td>\n",
       "      <td>0.0</td>\n",
       "      <td>0.0</td>\n",
       "      <td>0.0</td>\n",
       "      <td>...</td>\n",
       "      <td>1.0</td>\n",
       "      <td>0.0</td>\n",
       "      <td>0.0</td>\n",
       "      <td>0.0</td>\n",
       "      <td>0.0</td>\n",
       "      <td>0.0</td>\n",
       "      <td>0.0</td>\n",
       "      <td>6.0</td>\n",
       "      <td>544964201.0</td>\n",
       "      <td>75.0</td>\n",
       "    </tr>\n",
       "    <tr>\n",
       "      <th>1</th>\n",
       "      <td>378904801</td>\n",
       "      <td>3051</td>\n",
       "      <td>V06</td>\n",
       "      <td>11/2012</td>\n",
       "      <td>0.0</td>\n",
       "      <td>0.0</td>\n",
       "      <td>0.0</td>\n",
       "      <td>0.0</td>\n",
       "      <td>0.0</td>\n",
       "      <td>0.0</td>\n",
       "      <td>...</td>\n",
       "      <td>0.0</td>\n",
       "      <td>0.0</td>\n",
       "      <td>0.0</td>\n",
       "      <td>0.0</td>\n",
       "      <td>0.0</td>\n",
       "      <td>0.0</td>\n",
       "      <td>0.0</td>\n",
       "      <td>6.0</td>\n",
       "      <td>378915401.0</td>\n",
       "      <td>95.0</td>\n",
       "    </tr>\n",
       "    <tr>\n",
       "      <th>2</th>\n",
       "      <td>659585301</td>\n",
       "      <td>3051</td>\n",
       "      <td>V14</td>\n",
       "      <td>10/2017</td>\n",
       "      <td>0.0</td>\n",
       "      <td>0.0</td>\n",
       "      <td>0.0</td>\n",
       "      <td>0.0</td>\n",
       "      <td>0.0</td>\n",
       "      <td>0.0</td>\n",
       "      <td>...</td>\n",
       "      <td>1.0</td>\n",
       "      <td>0.0</td>\n",
       "      <td>0.0</td>\n",
       "      <td>0.0</td>\n",
       "      <td>0.0</td>\n",
       "      <td>0.0</td>\n",
       "      <td>0.0</td>\n",
       "      <td>8.0</td>\n",
       "      <td>659589001.0</td>\n",
       "      <td>90.0</td>\n",
       "    </tr>\n",
       "    <tr>\n",
       "      <th>3</th>\n",
       "      <td>595650601</td>\n",
       "      <td>3051</td>\n",
       "      <td>V13</td>\n",
       "      <td>10/2016</td>\n",
       "      <td>0.0</td>\n",
       "      <td>0.0</td>\n",
       "      <td>0.0</td>\n",
       "      <td>0.0</td>\n",
       "      <td>0.0</td>\n",
       "      <td>0.0</td>\n",
       "      <td>...</td>\n",
       "      <td>1.0</td>\n",
       "      <td>0.0</td>\n",
       "      <td>0.0</td>\n",
       "      <td>0.0</td>\n",
       "      <td>0.0</td>\n",
       "      <td>0.0</td>\n",
       "      <td>0.0</td>\n",
       "      <td>7.0</td>\n",
       "      <td>595656701.0</td>\n",
       "      <td>80.0</td>\n",
       "    </tr>\n",
       "    <tr>\n",
       "      <th>4</th>\n",
       "      <td>417112701</td>\n",
       "      <td>3051</td>\n",
       "      <td>V08</td>\n",
       "      <td>11/2013</td>\n",
       "      <td>0.0</td>\n",
       "      <td>0.0</td>\n",
       "      <td>0.0</td>\n",
       "      <td>0.0</td>\n",
       "      <td>0.0</td>\n",
       "      <td>0.0</td>\n",
       "      <td>...</td>\n",
       "      <td>0.0</td>\n",
       "      <td>0.0</td>\n",
       "      <td>0.0</td>\n",
       "      <td>0.0</td>\n",
       "      <td>0.0</td>\n",
       "      <td>0.0</td>\n",
       "      <td>0.0</td>\n",
       "      <td>4.0</td>\n",
       "      <td>417119301.0</td>\n",
       "      <td>85.0</td>\n",
       "    </tr>\n",
       "  </tbody>\n",
       "</table>\n",
       "<p>5 rows × 58 columns</p>\n",
       "</div>"
      ],
      "text/plain": [
       "    REC_ID_x  PATNO EVENT_ID   INFODT  DFSTROKE  DFRSKFCT  DFPRESNT  DFRPROG  \\\n",
       "0  544962901   3051      V12  11/2015       0.0       0.0       0.0      0.0   \n",
       "1  378904801   3051      V06  11/2012       0.0       0.0       0.0      0.0   \n",
       "2  659585301   3051      V14  10/2017       0.0       0.0       0.0      0.0   \n",
       "3  595650601   3051      V13  10/2016       0.0       0.0       0.0      0.0   \n",
       "4  417112701   3051      V08  11/2013       0.0       0.0       0.0      0.0   \n",
       "\n",
       "   DFSTATIC  DFHEMPRK   ...     DFBWLDYS  DFOCULO DFEYELID  DFNEURAB  \\\n",
       "0       0.0       0.0   ...          1.0      0.0      0.0       0.0   \n",
       "1       0.0       0.0   ...          0.0      0.0      0.0       0.0   \n",
       "2       0.0       0.0   ...          1.0      0.0      0.0       0.0   \n",
       "3       0.0       0.0   ...          1.0      0.0      0.0       0.0   \n",
       "4       0.0       0.0   ...          0.0      0.0      0.0       0.0   \n",
       "\n",
       "   DFRAPSPE  DFBULBAR  DFATYP sum_feat     REC_ID_y  MSEADLG  \n",
       "0       0.0       0.0     0.0      6.0  544964201.0     75.0  \n",
       "1       0.0       0.0     0.0      6.0  378915401.0     95.0  \n",
       "2       0.0       0.0     0.0      8.0  659589001.0     90.0  \n",
       "3       0.0       0.0     0.0      7.0  595656701.0     80.0  \n",
       "4       0.0       0.0     0.0      4.0  417119301.0     85.0  \n",
       "\n",
       "[5 rows x 58 columns]"
      ]
     },
     "execution_count": 15,
     "metadata": {},
     "output_type": "execute_result"
    }
   ],
   "source": [
    "# merging features & label for plotting: \n",
    "#MODSEADL_sel2=MODSEADL_sel.loc[intersect,:]\n",
    "diagfeat_EADL=pd.merge(DIAGFEAT_sel,MODSEADL_sel2,on=['PATNO','EVENT_ID','INFODT'],how='left')\n",
    "diagfeat_EADL.head()"
   ]
  },
  {
   "cell_type": "code",
   "execution_count": 16,
   "metadata": {},
   "outputs": [
    {
     "data": {
      "text/plain": [
       "(array([0.4625  , 0.15625 , 0.159375, 0.08125 , 0.140625]),\n",
       " array([ 6,  7,  8,  9, 10, 11]),\n",
       " <a list of 5 Patch objects>)"
      ]
     },
     "execution_count": 16,
     "metadata": {},
     "output_type": "execute_result"
    },
    {
     "data": {
      "image/png": "[encoded data removed]",
      "text/plain": [
       "<Figure size 432x288 with 1 Axes>"
      ]
     },
     "metadata": {},
     "output_type": "display_data"
    }
   ],
   "source": [
    "# distribution of patients over the number of visits\n",
    "visits_pat=diagfeat_EADL.groupby('PATNO').size()\n",
    "visits_pat.sort_values(ascending=False)\n",
    "plt.hist(x=visits_pat,bins=list(set(visits_pat.values)),normed=True,rwidth=0.5)"
   ]
  },
  {
   "cell_type": "markdown",
   "metadata": {},
   "source": [
    "## 2-Plotting. "
   ]
  },
  {
   "cell_type": "markdown",
   "metadata": {},
   "source": [
    "### Features"
   ]
  },
  {
   "cell_type": "code",
   "execution_count": 17,
   "metadata": {},
   "outputs": [],
   "source": [
    "# simple Matplotlib graph\n",
    "df_3051=diagfeat_EADL.loc[diagfeat_EADL['PATNO']==3051,:]\n",
    "#plt.plot(df_3051['INFODT'], df_3051['MSEADLG'])\n",
    "#plt.show()"
   ]
  },
  {
   "cell_type": "code",
   "execution_count": 18,
   "metadata": {},
   "outputs": [
    {
     "data": {
      "text/html": [
       "<script>requirejs.config({paths: { 'plotly': ['https://cdn.plot.ly/plotly-latest.min']},});if(!window.Plotly) {{require(['plotly'],function(plotly) {window.Plotly=plotly;});}}</script>"
      ],
      "text/vnd.plotly.v1+html": [
       "<script>requirejs.config({paths: { 'plotly': ['https://cdn.plot.ly/plotly-latest.min']},});if(!window.Plotly) {{require(['plotly'],function(plotly) {window.Plotly=plotly;});}}</script>"
      ]
     },
     "metadata": {},
     "output_type": "display_data"
    },
    {
     "data": {
      "application/vnd.plotly.v1+json": {
       "data": [
        {
         "line": {
          "color": "rgba(255, 153, 51, 1.0)",
          "dash": "solid",
          "width": 1.3
         },
         "marker": {
          "size": 12,
          "symbol": "dot"
         },
         "mode": "lines+markers",
         "name": "DFSTROKE",
         "text": "",
         "type": "scatter",
         "x": [
          "11/2015",
          "11/2012",
          "10/2017",
          "10/2016",
          "11/2013",
          "11/2014"
         ],
         "y": [
          0,
          0,
          0,
          0,
          0,
          0
         ]
        },
        {
         "line": {
          "color": "rgba(55, 128, 191, 1.0)",
          "dash": "solid",
          "width": 1.3
         },
         "marker": {
          "size": 12,
          "symbol": "dot"
         },
         "mode": "lines+markers",
         "name": "DFRSKFCT",
         "text": "",
         "type": "scatter",
         "x": [
          "11/2015",
          "11/2012",
          "10/2017",
          "10/2016",
          "11/2013",
          "11/2014"
         ],
         "y": [
          0,
          0,
          0,
          0,
          0,
          0
         ]
        },
        {
         "line": {
          "color": "rgba(50, 171, 96, 1.0)",
          "dash": "solid",
          "width": 1.3
         },
         "marker": {
          "size": 12,
          "symbol": "dot"
         },
         "mode": "lines+markers",
         "name": "DFPRESNT",
         "text": "",
         "type": "scatter",
         "x": [
          "11/2015",
          "11/2012",
          "10/2017",
          "10/2016",
          "11/2013",
          "11/2014"
         ],
         "y": [
          0,
          0,
          0,
          0,
          0,
          0
         ]
        },
        {
         "line": {
          "color": "rgba(128, 0, 128, 1.0)",
          "dash": "solid",
          "width": 1.3
         },
         "marker": {
          "size": 12,
          "symbol": "dot"
         },
         "mode": "lines+markers",
         "name": "DFRPROG",
         "text": "",
         "type": "scatter",
         "x": [
          "11/2015",
          "11/2012",
          "10/2017",
          "10/2016",
          "11/2013",
          "11/2014"
         ],
         "y": [
          0,
          0,
          0,
          0,
          0,
          0
         ]
        },
        {
         "line": {
          "color": "rgba(219, 64, 82, 1.0)",
          "dash": "solid",
          "width": 1.3
         },
         "marker": {
          "size": 12,
          "symbol": "dot"
         },
         "mode": "lines+markers",
         "name": "DFSTATIC",
         "text": "",
         "type": "scatter",
         "x": [
          "11/2015",
          "11/2012",
          "10/2017",
          "10/2016",
          "11/2013",
          "11/2014"
         ],
         "y": [
          0,
          0,
          0,
          0,
          0,
          0
         ]
        },
        {
         "line": {
          "color": "rgba(0, 128, 128, 1.0)",
          "dash": "solid",
          "width": 1.3
         },
         "marker": {
          "size": 12,
          "symbol": "dot"
         },
         "mode": "lines+markers",
         "name": "DFHEMPRK",
         "text": "",
         "type": "scatter",
         "x": [
          "11/2015",
          "11/2012",
          "10/2017",
          "10/2016",
          "11/2013",
          "11/2014"
         ],
         "y": [
          0,
          0,
          0,
          0,
          0,
          0
         ]
        },
        {
         "line": {
          "color": "rgba(255, 255, 51, 1.0)",
          "dash": "solid",
          "width": 1.3
         },
         "marker": {
          "size": 12,
          "symbol": "dot"
         },
         "mode": "lines+markers",
         "name": "DFAGESX",
         "text": "",
         "type": "scatter",
         "x": [
          "11/2015",
          "11/2012",
          "10/2017",
          "10/2016",
          "11/2013",
          "11/2014"
         ],
         "y": [
          0,
          0,
          0,
          0,
          0,
          0
         ]
        },
        {
         "line": {
          "color": "rgba(128, 128, 0, 1.0)",
          "dash": "solid",
          "width": 1.3
         },
         "marker": {
          "size": 12,
          "symbol": "dot"
         },
         "mode": "lines+markers",
         "name": "DFOTHCRS",
         "text": "",
         "type": "scatter",
         "x": [
          "11/2015",
          "11/2012",
          "10/2017",
          "10/2016",
          "11/2013",
          "11/2014"
         ],
         "y": [
          0,
          0,
          0,
          0,
          0,
          0
         ]
        },
        {
         "line": {
          "color": "rgba(251, 128, 114, 1.0)",
          "dash": "solid",
          "width": 1.3
         },
         "marker": {
          "size": 12,
          "symbol": "dot"
         },
         "mode": "lines+markers",
         "name": "DFCRSCM",
         "text": "",
         "type": "scatter",
         "x": [
          "11/2015",
          "11/2012",
          "10/2017",
          "10/2016",
          "11/2013",
          "11/2014"
         ],
         "y": [
          "",
          "",
          "",
          "",
          "",
          ""
         ]
        },
        {
         "line": {
          "color": "rgba(128, 177, 211, 1.0)",
          "dash": "solid",
          "width": 1.3
         },
         "marker": {
          "size": 12,
          "symbol": "dot"
         },
         "mode": "lines+markers",
         "name": "DFRTREMP",
         "text": "",
         "type": "scatter",
         "x": [
          "11/2015",
          "11/2012",
          "10/2017",
          "10/2016",
          "11/2013",
          "11/2014"
         ],
         "y": [
          1,
          1,
          1,
          1,
          1,
          1
         ]
        },
        {
         "line": {
          "color": "rgba(128, 177, 211, 0.8999999999999999)",
          "dash": "solid",
          "width": 1.3
         },
         "marker": {
          "size": 12,
          "symbol": "dot"
         },
         "mode": "lines+markers",
         "name": "DFRTREMA",
         "text": "",
         "type": "scatter",
         "x": [
          "11/2015",
          "11/2012",
          "10/2017",
          "10/2016",
          "11/2013",
          "11/2014"
         ],
         "y": [
          0,
          0,
          0,
          0,
          0,
          0
         ]
        },
        {
         "line": {
          "color": "rgba(255, 153, 51, 0.8999999999999999)",
          "dash": "solid",
          "width": 1.3
         },
         "marker": {
          "size": 12,
          "symbol": "dot"
         },
         "mode": "lines+markers",
         "name": "DFPATREM",
         "text": "",
         "type": "scatter",
         "x": [
          "11/2015",
          "11/2012",
          "10/2017",
          "10/2016",
          "11/2013",
          "11/2014"
         ],
         "y": [
          0,
          0,
          0,
          0,
          0,
          0
         ]
        },
        {
         "line": {
          "color": "rgba(55, 128, 191, 0.8999999999999999)",
          "dash": "solid",
          "width": 1.3
         },
         "marker": {
          "size": 12,
          "symbol": "dot"
         },
         "mode": "lines+markers",
         "name": "DFOTHTRM",
         "text": "",
         "type": "scatter",
         "x": [
          "11/2015",
          "11/2012",
          "10/2017",
          "10/2016",
          "11/2013",
          "11/2014"
         ],
         "y": [
          0,
          0,
          0,
          0,
          0,
          0
         ]
        },
        {
         "line": {
          "color": "rgba(50, 171, 96, 0.8999999999999999)",
          "dash": "solid",
          "width": 1.3
         },
         "marker": {
          "size": 12,
          "symbol": "dot"
         },
         "mode": "lines+markers",
         "name": "DFTREMCM",
         "text": "",
         "type": "scatter",
         "x": [
          "11/2015",
          "11/2012",
          "10/2017",
          "10/2016",
          "11/2013",
          "11/2014"
         ],
         "y": [
          "",
          "",
          "",
          "",
          "",
          ""
         ]
        },
        {
         "line": {
          "color": "rgba(128, 0, 128, 0.8999999999999999)",
          "dash": "solid",
          "width": 1.3
         },
         "marker": {
          "size": 12,
          "symbol": "dot"
         },
         "mode": "lines+markers",
         "name": "DFRIGIDP",
         "text": "",
         "type": "scatter",
         "x": [
          "11/2015",
          "11/2012",
          "10/2017",
          "10/2016",
          "11/2013",
          "11/2014"
         ],
         "y": [
          1,
          1,
          1,
          1,
          1,
          1
         ]
        },
        {
         "line": {
          "color": "rgba(219, 64, 82, 0.8999999999999999)",
          "dash": "solid",
          "width": 1.3
         },
         "marker": {
          "size": 12,
          "symbol": "dot"
         },
         "mode": "lines+markers",
         "name": "DFRIGIDA",
         "text": "",
         "type": "scatter",
         "x": [
          "11/2015",
          "11/2012",
          "10/2017",
          "10/2016",
          "11/2013",
          "11/2014"
         ],
         "y": [
          0,
          0,
          0,
          0,
          0,
          0
         ]
        },
        {
         "line": {
          "color": "rgba(0, 128, 128, 0.8999999999999999)",
          "dash": "solid",
          "width": 1.3
         },
         "marker": {
          "size": 12,
          "symbol": "dot"
         },
         "mode": "lines+markers",
         "name": "DFAXRIG",
         "text": "",
         "type": "scatter",
         "x": [
          "11/2015",
          "11/2012",
          "10/2017",
          "10/2016",
          "11/2013",
          "11/2014"
         ],
         "y": [
          0,
          0,
          0,
          0,
          0,
          0
         ]
        },
        {
         "line": {
          "color": "rgba(255, 255, 51, 0.8999999999999999)",
          "dash": "solid",
          "width": 1.3
         },
         "marker": {
          "size": 12,
          "symbol": "dot"
         },
         "mode": "lines+markers",
         "name": "DFUNIRIG",
         "text": "",
         "type": "scatter",
         "x": [
          "11/2015",
          "11/2012",
          "10/2017",
          "10/2016",
          "11/2013",
          "11/2014"
         ],
         "y": [
          0,
          0,
          0,
          0,
          0,
          0
         ]
        },
        {
         "line": {
          "color": "rgba(128, 128, 0, 0.8999999999999999)",
          "dash": "solid",
          "width": 1.3
         },
         "marker": {
          "size": 12,
          "symbol": "dot"
         },
         "mode": "lines+markers",
         "name": "DFTONE",
         "text": "",
         "type": "scatter",
         "x": [
          "11/2015",
          "11/2012",
          "10/2017",
          "10/2016",
          "11/2013",
          "11/2014"
         ],
         "y": [
          0,
          0,
          0,
          0,
          0,
          0
         ]
        },
        {
         "line": {
          "color": "rgba(251, 128, 114, 0.8999999999999999)",
          "dash": "solid",
          "width": 1.3
         },
         "marker": {
          "size": 12,
          "symbol": "dot"
         },
         "mode": "lines+markers",
         "name": "DFOTHRIG",
         "text": "",
         "type": "scatter",
         "x": [
          "11/2015",
          "11/2012",
          "10/2017",
          "10/2016",
          "11/2013",
          "11/2014"
         ],
         "y": [
          0,
          0,
          0,
          0,
          0,
          0
         ]
        },
        {
         "line": {
          "color": "rgba(251, 128, 114, 0.7999999999999998)",
          "dash": "solid",
          "width": 1.3
         },
         "marker": {
          "size": 12,
          "symbol": "dot"
         },
         "mode": "lines+markers",
         "name": "DFRIGCM",
         "text": "",
         "type": "scatter",
         "x": [
          "11/2015",
          "11/2012",
          "10/2017",
          "10/2016",
          "11/2013",
          "11/2014"
         ],
         "y": [
          "",
          "",
          "",
          "",
          "",
          ""
         ]
        },
        {
         "line": {
          "color": "rgba(128, 177, 211, 0.7999999999999998)",
          "dash": "solid",
          "width": 1.3
         },
         "marker": {
          "size": 12,
          "symbol": "dot"
         },
         "mode": "lines+markers",
         "name": "DFBRADYP",
         "text": "",
         "type": "scatter",
         "x": [
          "11/2015",
          "11/2012",
          "10/2017",
          "10/2016",
          "11/2013",
          "11/2014"
         ],
         "y": [
          1,
          1,
          1,
          1,
          1,
          1
         ]
        },
        {
         "line": {
          "color": "rgba(255, 153, 51, 0.7999999999999998)",
          "dash": "solid",
          "width": 1.3
         },
         "marker": {
          "size": 12,
          "symbol": "dot"
         },
         "mode": "lines+markers",
         "name": "DFBRADYA",
         "text": "",
         "type": "scatter",
         "x": [
          "11/2015",
          "11/2012",
          "10/2017",
          "10/2016",
          "11/2013",
          "11/2014"
         ],
         "y": [
          0,
          0,
          0,
          0,
          0,
          0
         ]
        },
        {
         "line": {
          "color": "rgba(55, 128, 191, 0.7999999999999998)",
          "dash": "solid",
          "width": 1.3
         },
         "marker": {
          "size": 12,
          "symbol": "dot"
         },
         "mode": "lines+markers",
         "name": "DFAKINES",
         "text": "",
         "type": "scatter",
         "x": [
          "11/2015",
          "11/2012",
          "10/2017",
          "10/2016",
          "11/2013",
          "11/2014"
         ],
         "y": [
          0,
          0,
          0,
          0,
          0,
          0
         ]
        },
        {
         "line": {
          "color": "rgba(50, 171, 96, 0.7999999999999998)",
          "dash": "solid",
          "width": 1.3
         },
         "marker": {
          "size": 12,
          "symbol": "dot"
         },
         "mode": "lines+markers",
         "name": "DFBRPLUS",
         "text": "",
         "type": "scatter",
         "x": [
          "11/2015",
          "11/2012",
          "10/2017",
          "10/2016",
          "11/2013",
          "11/2014"
         ],
         "y": [
          0,
          0,
          0,
          0,
          0,
          0
         ]
        },
        {
         "line": {
          "color": "rgba(128, 0, 128, 0.7999999999999998)",
          "dash": "solid",
          "width": 1.3
         },
         "marker": {
          "size": 12,
          "symbol": "dot"
         },
         "mode": "lines+markers",
         "name": "DFOTHABR",
         "text": "",
         "type": "scatter",
         "x": [
          "11/2015",
          "11/2012",
          "10/2017",
          "10/2016",
          "11/2013",
          "11/2014"
         ],
         "y": [
          0,
          0,
          0,
          0,
          0,
          0
         ]
        },
        {
         "line": {
          "color": "rgba(219, 64, 82, 0.7999999999999998)",
          "dash": "solid",
          "width": 1.3
         },
         "marker": {
          "size": 12,
          "symbol": "dot"
         },
         "mode": "lines+markers",
         "name": "DFABRCM",
         "text": "",
         "type": "scatter",
         "x": [
          "11/2015",
          "11/2012",
          "10/2017",
          "10/2016",
          "11/2013",
          "11/2014"
         ],
         "y": [
          "",
          "",
          "",
          "",
          "",
          ""
         ]
        },
        {
         "line": {
          "color": "rgba(0, 128, 128, 0.7999999999999998)",
          "dash": "solid",
          "width": 1.3
         },
         "marker": {
          "size": 12,
          "symbol": "dot"
         },
         "mode": "lines+markers",
         "name": "DFPGDIST",
         "text": "",
         "type": "scatter",
         "x": [
          "11/2015",
          "11/2012",
          "10/2017",
          "10/2016",
          "11/2013",
          "11/2014"
         ],
         "y": [
          1,
          1,
          1,
          1,
          1,
          1
         ]
        },
        {
         "line": {
          "color": "rgba(255, 255, 51, 0.7999999999999998)",
          "dash": "solid",
          "width": 1.3
         },
         "marker": {
          "size": 12,
          "symbol": "dot"
         },
         "mode": "lines+markers",
         "name": "DFGAIT",
         "text": "",
         "type": "scatter",
         "x": [
          "11/2015",
          "11/2012",
          "10/2017",
          "10/2016",
          "11/2013",
          "11/2014"
         ],
         "y": [
          0,
          0,
          0,
          0,
          0,
          0
         ]
        },
        {
         "line": {
          "color": "rgba(128, 128, 0, 0.7999999999999998)",
          "dash": "solid",
          "width": 1.3
         },
         "marker": {
          "size": 12,
          "symbol": "dot"
         },
         "mode": "lines+markers",
         "name": "DFFREEZ",
         "text": "",
         "type": "scatter",
         "x": [
          "11/2015",
          "11/2012",
          "10/2017",
          "10/2016",
          "11/2013",
          "11/2014"
         ],
         "y": [
          0,
          0,
          0,
          0,
          0,
          0
         ]
        },
        {
         "line": {
          "color": "rgba(128, 128, 0, 0.7)",
          "dash": "solid",
          "width": 1.3
         },
         "marker": {
          "size": 12,
          "symbol": "dot"
         },
         "mode": "lines+markers",
         "name": "DFFALLS",
         "text": "",
         "type": "scatter",
         "x": [
          "11/2015",
          "11/2012",
          "10/2017",
          "10/2016",
          "11/2013",
          "11/2014"
         ],
         "y": [
          0,
          0,
          0,
          0,
          0,
          0
         ]
        },
        {
         "line": {
          "color": "rgba(251, 128, 114, 0.7)",
          "dash": "solid",
          "width": 1.3
         },
         "marker": {
          "size": 12,
          "symbol": "dot"
         },
         "mode": "lines+markers",
         "name": "DFOTHPG",
         "text": "",
         "type": "scatter",
         "x": [
          "11/2015",
          "11/2012",
          "10/2017",
          "10/2016",
          "11/2013",
          "11/2014"
         ],
         "y": [
          0,
          0,
          0,
          0,
          0,
          0
         ]
        },
        {
         "line": {
          "color": "rgba(128, 177, 211, 0.7)",
          "dash": "solid",
          "width": 1.3
         },
         "marker": {
          "size": 12,
          "symbol": "dot"
         },
         "mode": "lines+markers",
         "name": "DFPGCM",
         "text": "",
         "type": "scatter",
         "x": [
          "11/2015",
          "11/2012",
          "10/2017",
          "10/2016",
          "11/2013",
          "11/2014"
         ],
         "y": [
          "",
          "",
          "",
          "",
          "",
          ""
         ]
        },
        {
         "line": {
          "color": "rgba(255, 153, 51, 0.7)",
          "dash": "solid",
          "width": 1.3
         },
         "marker": {
          "size": 12,
          "symbol": "dot"
         },
         "mode": "lines+markers",
         "name": "DFPSYCH",
         "text": "",
         "type": "scatter",
         "x": [
          "11/2015",
          "11/2012",
          "10/2017",
          "10/2016",
          "11/2013",
          "11/2014"
         ],
         "y": [
          0,
          0,
          0,
          0,
          0,
          0
         ]
        },
        {
         "line": {
          "color": "rgba(55, 128, 191, 0.7)",
          "dash": "solid",
          "width": 1.3
         },
         "marker": {
          "size": 12,
          "symbol": "dot"
         },
         "mode": "lines+markers",
         "name": "DFCOGNIT",
         "text": "",
         "type": "scatter",
         "x": [
          "11/2015",
          "11/2012",
          "10/2017",
          "10/2016",
          "11/2013",
          "11/2014"
         ],
         "y": [
          0,
          0,
          0,
          0,
          0,
          0
         ]
        },
        {
         "line": {
          "color": "rgba(50, 171, 96, 0.7)",
          "dash": "solid",
          "width": 1.3
         },
         "marker": {
          "size": 12,
          "symbol": "dot"
         },
         "mode": "lines+markers",
         "name": "DFDYSTON",
         "text": "",
         "type": "scatter",
         "x": [
          "11/2015",
          "11/2012",
          "10/2017",
          "10/2016",
          "11/2013",
          "11/2014"
         ],
         "y": [
          0,
          0,
          0,
          0,
          0,
          0
         ]
        },
        {
         "line": {
          "color": "rgba(128, 0, 128, 0.7)",
          "dash": "solid",
          "width": 1.3
         },
         "marker": {
          "size": 12,
          "symbol": "dot"
         },
         "mode": "lines+markers",
         "name": "DFCHOREA",
         "text": "",
         "type": "scatter",
         "x": [
          "11/2015",
          "11/2012",
          "10/2017",
          "10/2016",
          "11/2013",
          "11/2014"
         ],
         "y": [
          0,
          0,
          0,
          0,
          0,
          0
         ]
        },
        {
         "line": {
          "color": "rgba(219, 64, 82, 0.7)",
          "dash": "solid",
          "width": 1.3
         },
         "marker": {
          "size": 12,
          "symbol": "dot"
         },
         "mode": "lines+markers",
         "name": "DFMYOCLO",
         "text": "",
         "type": "scatter",
         "x": [
          "11/2015",
          "11/2012",
          "10/2017",
          "10/2016",
          "11/2013",
          "11/2014"
         ],
         "y": [
          0,
          0,
          0,
          0,
          0,
          0
         ]
        },
        {
         "line": {
          "color": "rgba(0, 128, 128, 0.7)",
          "dash": "solid",
          "width": 1.3
         },
         "marker": {
          "size": 12,
          "symbol": "dot"
         },
         "mode": "lines+markers",
         "name": "DFOTHHYP",
         "text": "",
         "type": "scatter",
         "x": [
          "11/2015",
          "11/2012",
          "10/2017",
          "10/2016",
          "11/2013",
          "11/2014"
         ],
         "y": [
          0,
          0,
          0,
          0,
          0,
          0
         ]
        },
        {
         "line": {
          "color": "rgba(255, 255, 51, 0.7)",
          "dash": "solid",
          "width": 1.3
         },
         "marker": {
          "size": 12,
          "symbol": "dot"
         },
         "mode": "lines+markers",
         "name": "DFHYPCM",
         "text": "",
         "type": "scatter",
         "x": [
          "11/2015",
          "11/2012",
          "10/2017",
          "10/2016",
          "11/2013",
          "11/2014"
         ],
         "y": [
          "",
          "",
          "",
          "",
          "",
          ""
         ]
        },
        {
         "line": {
          "color": "rgba(255, 255, 51, 0.5999999999999999)",
          "dash": "solid",
          "width": 1.3
         },
         "marker": {
          "size": 12,
          "symbol": "dot"
         },
         "mode": "lines+markers",
         "name": "DFHEMTRO",
         "text": "",
         "type": "scatter",
         "x": [
          "11/2015",
          "11/2012",
          "10/2017",
          "10/2016",
          "11/2013",
          "11/2014"
         ],
         "y": [
          0,
          0,
          0,
          0,
          0,
          0
         ]
        },
        {
         "line": {
          "color": "rgba(128, 128, 0, 0.5999999999999999)",
          "dash": "solid",
          "width": 1.3
         },
         "marker": {
          "size": 12,
          "symbol": "dot"
         },
         "mode": "lines+markers",
         "name": "DFPSHYPO",
         "text": "",
         "type": "scatter",
         "x": [
          "11/2015",
          "11/2012",
          "10/2017",
          "10/2016",
          "11/2013",
          "11/2014"
         ],
         "y": [
          0,
          0,
          1,
          0,
          0,
          0
         ]
        },
        {
         "line": {
          "color": "rgba(251, 128, 114, 0.5999999999999999)",
          "dash": "solid",
          "width": 1.3
         },
         "marker": {
          "size": 12,
          "symbol": "dot"
         },
         "mode": "lines+markers",
         "name": "DFSEXDYS",
         "text": "",
         "type": "scatter",
         "x": [
          "11/2015",
          "11/2012",
          "10/2017",
          "10/2016",
          "11/2013",
          "11/2014"
         ],
         "y": [
          0,
          1,
          1,
          1,
          0,
          0
         ]
        },
        {
         "line": {
          "color": "rgba(128, 177, 211, 0.5999999999999999)",
          "dash": "solid",
          "width": 1.3
         },
         "marker": {
          "size": 12,
          "symbol": "dot"
         },
         "mode": "lines+markers",
         "name": "DFURDYS",
         "text": "",
         "type": "scatter",
         "x": [
          "11/2015",
          "11/2012",
          "10/2017",
          "10/2016",
          "11/2013",
          "11/2014"
         ],
         "y": [
          1,
          1,
          1,
          1,
          0,
          0
         ]
        },
        {
         "line": {
          "color": "rgba(255, 153, 51, 0.5999999999999999)",
          "dash": "solid",
          "width": 1.3
         },
         "marker": {
          "size": 12,
          "symbol": "dot"
         },
         "mode": "lines+markers",
         "name": "DFBWLDYS",
         "text": "",
         "type": "scatter",
         "x": [
          "11/2015",
          "11/2012",
          "10/2017",
          "10/2016",
          "11/2013",
          "11/2014"
         ],
         "y": [
          1,
          0,
          1,
          1,
          0,
          0
         ]
        },
        {
         "line": {
          "color": "rgba(55, 128, 191, 0.5999999999999999)",
          "dash": "solid",
          "width": 1.3
         },
         "marker": {
          "size": 12,
          "symbol": "dot"
         },
         "mode": "lines+markers",
         "name": "DFOCULO",
         "text": "",
         "type": "scatter",
         "x": [
          "11/2015",
          "11/2012",
          "10/2017",
          "10/2016",
          "11/2013",
          "11/2014"
         ],
         "y": [
          0,
          0,
          0,
          0,
          0,
          0
         ]
        },
        {
         "line": {
          "color": "rgba(50, 171, 96, 0.5999999999999999)",
          "dash": "solid",
          "width": 1.3
         },
         "marker": {
          "size": 12,
          "symbol": "dot"
         },
         "mode": "lines+markers",
         "name": "DFEYELID",
         "text": "",
         "type": "scatter",
         "x": [
          "11/2015",
          "11/2012",
          "10/2017",
          "10/2016",
          "11/2013",
          "11/2014"
         ],
         "y": [
          0,
          0,
          0,
          0,
          0,
          0
         ]
        },
        {
         "line": {
          "color": "rgba(128, 0, 128, 0.5999999999999999)",
          "dash": "solid",
          "width": 1.3
         },
         "marker": {
          "size": 12,
          "symbol": "dot"
         },
         "mode": "lines+markers",
         "name": "DFNEURAB",
         "text": "",
         "type": "scatter",
         "x": [
          "11/2015",
          "11/2012",
          "10/2017",
          "10/2016",
          "11/2013",
          "11/2014"
         ],
         "y": [
          0,
          0,
          0,
          0,
          0,
          0
         ]
        },
        {
         "line": {
          "color": "rgba(219, 64, 82, 0.5999999999999999)",
          "dash": "solid",
          "width": 1.3
         },
         "marker": {
          "size": 12,
          "symbol": "dot"
         },
         "mode": "lines+markers",
         "name": "DFRAPSPE",
         "text": "",
         "type": "scatter",
         "x": [
          "11/2015",
          "11/2012",
          "10/2017",
          "10/2016",
          "11/2013",
          "11/2014"
         ],
         "y": [
          0,
          0,
          0,
          0,
          0,
          0
         ]
        },
        {
         "line": {
          "color": "rgba(0, 128, 128, 0.5999999999999999)",
          "dash": "solid",
          "width": 1.3
         },
         "marker": {
          "size": 12,
          "symbol": "dot"
         },
         "mode": "lines+markers",
         "name": "DFBULBAR",
         "text": "",
         "type": "scatter",
         "x": [
          "11/2015",
          "11/2012",
          "10/2017",
          "10/2016",
          "11/2013",
          "11/2014"
         ],
         "y": [
          0,
          0,
          0,
          0,
          0,
          0
         ]
        },
        {
         "line": {
          "color": "rgba(0, 128, 128, 0.49999999999999983)",
          "dash": "solid",
          "width": 1.3
         },
         "marker": {
          "size": 12,
          "symbol": "dot"
         },
         "mode": "lines+markers",
         "name": "DFATYP",
         "text": "",
         "type": "scatter",
         "x": [
          "11/2015",
          "11/2012",
          "10/2017",
          "10/2016",
          "11/2013",
          "11/2014"
         ],
         "y": [
          0,
          0,
          0,
          0,
          0,
          0
         ]
        }
       ],
       "layout": {
        "legend": {
         "bgcolor": "#F5F6F9",
         "font": {
          "color": "#4D5663"
         }
        },
        "paper_bgcolor": "#F5F6F9",
        "plot_bgcolor": "#F5F6F9",
        "titlefont": {
         "color": "#4D5663"
        },
        "xaxis1": {
         "gridcolor": "#E1E5ED",
         "showgrid": true,
         "tickfont": {
          "color": "#4D5663"
         },
         "title": "",
         "titlefont": {
          "color": "#4D5663"
         },
         "zerolinecolor": "#E1E5ED"
        },
        "yaxis1": {
         "gridcolor": "#E1E5ED",
         "showgrid": true,
         "tickfont": {
          "color": "#4D5663"
         },
         "title": "",
         "titlefont": {
          "color": "#4D5663"
         },
         "zerolinecolor": "#E1E5ED"
        }
       }
      },
      "text/html": [
       "<div id=\"f5616285-a1f2-442a-8ced-8f65ff4a0ffd\" style=\"height: 525px; width: 100%;\" class=\"plotly-graph-div\"></div><script type=\"text/javascript\">require([\"plotly\"], function(Plotly) { window.PLOTLYENV=window.PLOTLYENV || {};window.PLOTLYENV.BASE_URL=\"https://plot.ly\";Plotly.newPlot(\"f5616285-a1f2-442a-8ced-8f65ff4a0ffd\", [{\"type\": \"scatter\", \"x\": [\"11/2015\", \"11/2012\", \"10/2017\", \"10/2016\", \"11/2013\", \"11/2014\"], \"y\": [0.0, 0.0, 0.0, 0.0, 0.0, 0.0], \"name\": \"DFSTROKE\", \"text\": \"\", \"line\": {\"color\": \"rgba(255, 153, 51, 1.0)\", \"width\": 1.3, \"dash\": \"solid\"}, \"mode\": \"lines+markers\", \"marker\": {\"symbol\": \"dot\", \"size\": 12}}, {\"type\": \"scatter\", \"x\": [\"11/2015\", \"11/2012\", \"10/2017\", \"10/2016\", \"11/2013\", \"11/2014\"], \"y\": [0.0, 0.0, 0.0, 0.0, 0.0, 0.0], \"name\": \"DFRSKFCT\", \"text\": \"\", \"line\": {\"color\": \"rgba(55, 128, 191, 1.0)\", \"width\": 1.3, \"dash\": \"solid\"}, \"mode\": \"lines+markers\", \"marker\": {\"symbol\": \"dot\", \"size\": 12}}, {\"type\": \"scatter\", \"x\": [\"11/2015\", \"11/2012\", \"10/2017\", \"10/2016\", \"11/2013\", \"11/2014\"], \"y\": [0.0, 0.0, 0.0, 0.0, 0.0, 0.0], \"name\": \"DFPRESNT\", \"text\": \"\", \"line\": {\"color\": \"rgba(50, 171, 96, 1.0)\", \"width\": 1.3, \"dash\": \"solid\"}, \"mode\": \"lines+markers\", \"marker\": {\"symbol\": \"dot\", \"size\": 12}}, {\"type\": \"scatter\", \"x\": [\"11/2015\", \"11/2012\", \"10/2017\", \"10/2016\", \"11/2013\", \"11/2014\"], \"y\": [0.0, 0.0, 0.0, 0.0, 0.0, 0.0], \"name\": \"DFRPROG\", \"text\": \"\", \"line\": {\"color\": \"rgba(128, 0, 128, 1.0)\", \"width\": 1.3, \"dash\": \"solid\"}, \"mode\": \"lines+markers\", \"marker\": {\"symbol\": \"dot\", \"size\": 12}}, {\"type\": \"scatter\", \"x\": [\"11/2015\", \"11/2012\", \"10/2017\", \"10/2016\", \"11/2013\", \"11/2014\"], \"y\": [0.0, 0.0, 0.0, 0.0, 0.0, 0.0], \"name\": \"DFSTATIC\", \"text\": \"\", \"line\": {\"color\": \"rgba(219, 64, 82, 1.0)\", \"width\": 1.3, \"dash\": \"solid\"}, \"mode\": \"lines+markers\", \"marker\": {\"symbol\": \"dot\", \"size\": 12}}, {\"type\": \"scatter\", \"x\": [\"11/2015\", \"11/2012\", \"10/2017\", \"10/2016\", \"11/2013\", \"11/2014\"], \"y\": [0.0, 0.0, 0.0, 0.0, 0.0, 0.0], \"name\": \"DFHEMPRK\", \"text\": \"\", \"line\": {\"color\": \"rgba(0, 128, 128, 1.0)\", \"width\": 1.3, \"dash\": \"solid\"}, \"mode\": \"lines+markers\", \"marker\": {\"symbol\": \"dot\", \"size\": 12}}, {\"type\": \"scatter\", \"x\": [\"11/2015\", \"11/2012\", \"10/2017\", \"10/2016\", \"11/2013\", \"11/2014\"], \"y\": [0.0, 0.0, 0.0, 0.0, 0.0, 0.0], \"name\": \"DFAGESX\", \"text\": \"\", \"line\": {\"color\": \"rgba(255, 255, 51, 1.0)\", \"width\": 1.3, \"dash\": \"solid\"}, \"mode\": \"lines+markers\", \"marker\": {\"symbol\": \"dot\", \"size\": 12}}, {\"type\": \"scatter\", \"x\": [\"11/2015\", \"11/2012\", \"10/2017\", \"10/2016\", \"11/2013\", \"11/2014\"], \"y\": [0.0, 0.0, 0.0, 0.0, 0.0, 0.0], \"name\": \"DFOTHCRS\", \"text\": \"\", \"line\": {\"color\": \"rgba(128, 128, 0, 1.0)\", \"width\": 1.3, \"dash\": \"solid\"}, \"mode\": \"lines+markers\", \"marker\": {\"symbol\": \"dot\", \"size\": 12}}, {\"type\": \"scatter\", \"x\": [\"11/2015\", \"11/2012\", \"10/2017\", \"10/2016\", \"11/2013\", \"11/2014\"], \"y\": [\"\", \"\", \"\", \"\", \"\", \"\"], \"name\": \"DFCRSCM\", \"text\": \"\", \"line\": {\"color\": \"rgba(251, 128, 114, 1.0)\", \"width\": 1.3, \"dash\": \"solid\"}, \"mode\": \"lines+markers\", \"marker\": {\"symbol\": \"dot\", \"size\": 12}}, {\"type\": \"scatter\", \"x\": [\"11/2015\", \"11/2012\", \"10/2017\", \"10/2016\", \"11/2013\", \"11/2014\"], \"y\": [1.0, 1.0, 1.0, 1.0, 1.0, 1.0], \"name\": \"DFRTREMP\", \"text\": \"\", \"line\": {\"color\": \"rgba(128, 177, 211, 1.0)\", \"width\": 1.3, \"dash\": \"solid\"}, \"mode\": \"lines+markers\", \"marker\": {\"symbol\": \"dot\", \"size\": 12}}, {\"type\": \"scatter\", \"x\": [\"11/2015\", \"11/2012\", \"10/2017\", \"10/2016\", \"11/2013\", \"11/2014\"], \"y\": [0.0, 0.0, 0.0, 0.0, 0.0, 0.0], \"name\": \"DFRTREMA\", \"text\": \"\", \"line\": {\"color\": \"rgba(128, 177, 211, 0.8999999999999999)\", \"width\": 1.3, \"dash\": \"solid\"}, \"mode\": \"lines+markers\", \"marker\": {\"symbol\": \"dot\", \"size\": 12}}, {\"type\": \"scatter\", \"x\": [\"11/2015\", \"11/2012\", \"10/2017\", \"10/2016\", \"11/2013\", \"11/2014\"], \"y\": [0.0, 0.0, 0.0, 0.0, 0.0, 0.0], \"name\": \"DFPATREM\", \"text\": \"\", \"line\": {\"color\": \"rgba(255, 153, 51, 0.8999999999999999)\", \"width\": 1.3, \"dash\": \"solid\"}, \"mode\": \"lines+markers\", \"marker\": {\"symbol\": \"dot\", \"size\": 12}}, {\"type\": \"scatter\", \"x\": [\"11/2015\", \"11/2012\", \"10/2017\", \"10/2016\", \"11/2013\", \"11/2014\"], \"y\": [0.0, 0.0, 0.0, 0.0, 0.0, 0.0], \"name\": \"DFOTHTRM\", \"text\": \"\", \"line\": {\"color\": \"rgba(55, 128, 191, 0.8999999999999999)\", \"width\": 1.3, \"dash\": \"solid\"}, \"mode\": \"lines+markers\", \"marker\": {\"symbol\": \"dot\", \"size\": 12}}, {\"type\": \"scatter\", \"x\": [\"11/2015\", \"11/2012\", \"10/2017\", \"10/2016\", \"11/2013\", \"11/2014\"], \"y\": [\"\", \"\", \"\", \"\", \"\", \"\"], \"name\": \"DFTREMCM\", \"text\": \"\", \"line\": {\"color\": \"rgba(50, 171, 96, 0.8999999999999999)\", \"width\": 1.3, \"dash\": \"solid\"}, \"mode\": \"lines+markers\", \"marker\": {\"symbol\": \"dot\", \"size\": 12}}, {\"type\": \"scatter\", \"x\": [\"11/2015\", \"11/2012\", \"10/2017\", \"10/2016\", \"11/2013\", \"11/2014\"], \"y\": [1.0, 1.0, 1.0, 1.0, 1.0, 1.0], \"name\": \"DFRIGIDP\", \"text\": \"\", \"line\": {\"color\": \"rgba(128, 0, 128, 0.8999999999999999)\", \"width\": 1.3, \"dash\": \"solid\"}, \"mode\": \"lines+markers\", \"marker\": {\"symbol\": \"dot\", \"size\": 12}}, {\"type\": \"scatter\", \"x\": [\"11/2015\", \"11/2012\", \"10/2017\", \"10/2016\", \"11/2013\", \"11/2014\"], \"y\": [0.0, 0.0, 0.0, 0.0, 0.0, 0.0], \"name\": \"DFRIGIDA\", \"text\": \"\", \"line\": {\"color\": \"rgba(219, 64, 82, 0.8999999999999999)\", \"width\": 1.3, \"dash\": \"solid\"}, \"mode\": \"lines+markers\", \"marker\": {\"symbol\": \"dot\", \"size\": 12}}, {\"type\": \"scatter\", \"x\": [\"11/2015\", \"11/2012\", \"10/2017\", \"10/2016\", \"11/2013\", \"11/2014\"], \"y\": [0.0, 0.0, 0.0, 0.0, 0.0, 0.0], \"name\": \"DFAXRIG\", \"text\": \"\", \"line\": {\"color\": \"rgba(0, 128, 128, 0.8999999999999999)\", \"width\": 1.3, \"dash\": \"solid\"}, \"mode\": \"lines+markers\", \"marker\": {\"symbol\": \"dot\", \"size\": 12}}, {\"type\": \"scatter\", \"x\": [\"11/2015\", \"11/2012\", \"10/2017\", \"10/2016\", \"11/2013\", \"11/2014\"], \"y\": [0.0, 0.0, 0.0, 0.0, 0.0, 0.0], \"name\": \"DFUNIRIG\", \"text\": \"\", \"line\": {\"color\": \"rgba(255, 255, 51, 0.8999999999999999)\", \"width\": 1.3, \"dash\": \"solid\"}, \"mode\": \"lines+markers\", \"marker\": {\"symbol\": \"dot\", \"size\": 12}}, {\"type\": \"scatter\", \"x\": [\"11/2015\", \"11/2012\", \"10/2017\", \"10/2016\", \"11/2013\", \"11/2014\"], \"y\": [0.0, 0.0, 0.0, 0.0, 0.0, 0.0], \"name\": \"DFTONE\", \"text\": \"\", \"line\": {\"color\": \"rgba(128, 128, 0, 0.8999999999999999)\", \"width\": 1.3, \"dash\": \"solid\"}, \"mode\": \"lines+markers\", \"marker\": {\"symbol\": \"dot\", \"size\": 12}}, {\"type\": \"scatter\", \"x\": [\"11/2015\", \"11/2012\", \"10/2017\", \"10/2016\", \"11/2013\", \"11/2014\"], \"y\": [0.0, 0.0, 0.0, 0.0, 0.0, 0.0], \"name\": \"DFOTHRIG\", \"text\": \"\", \"line\": {\"color\": \"rgba(251, 128, 114, 0.8999999999999999)\", \"width\": 1.3, \"dash\": \"solid\"}, \"mode\": \"lines+markers\", \"marker\": {\"symbol\": \"dot\", \"size\": 12}}, {\"type\": \"scatter\", \"x\": [\"11/2015\", \"11/2012\", \"10/2017\", \"10/2016\", \"11/2013\", \"11/2014\"], \"y\": [\"\", \"\", \"\", \"\", \"\", \"\"], \"name\": \"DFRIGCM\", \"text\": \"\", \"line\": {\"color\": \"rgba(251, 128, 114, 0.7999999999999998)\", \"width\": 1.3, \"dash\": \"solid\"}, \"mode\": \"lines+markers\", \"marker\": {\"symbol\": \"dot\", \"size\": 12}}, {\"type\": \"scatter\", \"x\": [\"11/2015\", \"11/2012\", \"10/2017\", \"10/2016\", \"11/2013\", \"11/2014\"], \"y\": [1.0, 1.0, 1.0, 1.0, 1.0, 1.0], \"name\": \"DFBRADYP\", \"text\": \"\", \"line\": {\"color\": \"rgba(128, 177, 211, 0.7999999999999998)\", \"width\": 1.3, \"dash\": \"solid\"}, \"mode\": \"lines+markers\", \"marker\": {\"symbol\": \"dot\", \"size\": 12}}, {\"type\": \"scatter\", \"x\": [\"11/2015\", \"11/2012\", \"10/2017\", \"10/2016\", \"11/2013\", \"11/2014\"], \"y\": [0.0, 0.0, 0.0, 0.0, 0.0, 0.0], \"name\": \"DFBRADYA\", \"text\": \"\", \"line\": {\"color\": \"rgba(255, 153, 51, 0.7999999999999998)\", \"width\": 1.3, \"dash\": \"solid\"}, \"mode\": \"lines+markers\", \"marker\": {\"symbol\": \"dot\", \"size\": 12}}, {\"type\": \"scatter\", \"x\": [\"11/2015\", \"11/2012\", \"10/2017\", \"10/2016\", \"11/2013\", \"11/2014\"], \"y\": [0.0, 0.0, 0.0, 0.0, 0.0, 0.0], \"name\": \"DFAKINES\", \"text\": \"\", \"line\": {\"color\": \"rgba(55, 128, 191, 0.7999999999999998)\", \"width\": 1.3, \"dash\": \"solid\"}, \"mode\": \"lines+markers\", \"marker\": {\"symbol\": \"dot\", \"size\": 12}}, {\"type\": \"scatter\", \"x\": [\"11/2015\", \"11/2012\", \"10/2017\", \"10/2016\", \"11/2013\", \"11/2014\"], \"y\": [0.0, 0.0, 0.0, 0.0, 0.0, 0.0], \"name\": \"DFBRPLUS\", \"text\": \"\", \"line\": {\"color\": \"rgba(50, 171, 96, 0.7999999999999998)\", \"width\": 1.3, \"dash\": \"solid\"}, \"mode\": \"lines+markers\", \"marker\": {\"symbol\": \"dot\", \"size\": 12}}, {\"type\": \"scatter\", \"x\": [\"11/2015\", \"11/2012\", \"10/2017\", \"10/2016\", \"11/2013\", \"11/2014\"], \"y\": [0.0, 0.0, 0.0, 0.0, 0.0, 0.0], \"name\": \"DFOTHABR\", \"text\": \"\", \"line\": {\"color\": \"rgba(128, 0, 128, 0.7999999999999998)\", \"width\": 1.3, \"dash\": \"solid\"}, \"mode\": \"lines+markers\", \"marker\": {\"symbol\": \"dot\", \"size\": 12}}, {\"type\": \"scatter\", \"x\": [\"11/2015\", \"11/2012\", \"10/2017\", \"10/2016\", \"11/2013\", \"11/2014\"], \"y\": [\"\", \"\", \"\", \"\", \"\", \"\"], \"name\": \"DFABRCM\", \"text\": \"\", \"line\": {\"color\": \"rgba(219, 64, 82, 0.7999999999999998)\", \"width\": 1.3, \"dash\": \"solid\"}, \"mode\": \"lines+markers\", \"marker\": {\"symbol\": \"dot\", \"size\": 12}}, {\"type\": \"scatter\", \"x\": [\"11/2015\", \"11/2012\", \"10/2017\", \"10/2016\", \"11/2013\", \"11/2014\"], \"y\": [1.0, 1.0, 1.0, 1.0, 1.0, 1.0], \"name\": \"DFPGDIST\", \"text\": \"\", \"line\": {\"color\": \"rgba(0, 128, 128, 0.7999999999999998)\", \"width\": 1.3, \"dash\": \"solid\"}, \"mode\": \"lines+markers\", \"marker\": {\"symbol\": \"dot\", \"size\": 12}}, {\"type\": \"scatter\", \"x\": [\"11/2015\", \"11/2012\", \"10/2017\", \"10/2016\", \"11/2013\", \"11/2014\"], \"y\": [0.0, 0.0, 0.0, 0.0, 0.0, 0.0], \"name\": \"DFGAIT\", \"text\": \"\", \"line\": {\"color\": \"rgba(255, 255, 51, 0.7999999999999998)\", \"width\": 1.3, \"dash\": \"solid\"}, \"mode\": \"lines+markers\", \"marker\": {\"symbol\": \"dot\", \"size\": 12}}, {\"type\": \"scatter\", \"x\": [\"11/2015\", \"11/2012\", \"10/2017\", \"10/2016\", \"11/2013\", \"11/2014\"], \"y\": [0.0, 0.0, 0.0, 0.0, 0.0, 0.0], \"name\": \"DFFREEZ\", \"text\": \"\", \"line\": {\"color\": \"rgba(128, 128, 0, 0.7999999999999998)\", \"width\": 1.3, \"dash\": \"solid\"}, \"mode\": \"lines+markers\", \"marker\": {\"symbol\": \"dot\", \"size\": 12}}, {\"type\": \"scatter\", \"x\": [\"11/2015\", \"11/2012\", \"10/2017\", \"10/2016\", \"11/2013\", \"11/2014\"], \"y\": [0.0, 0.0, 0.0, 0.0, 0.0, 0.0], \"name\": \"DFFALLS\", \"text\": \"\", \"line\": {\"color\": \"rgba(128, 128, 0, 0.7)\", \"width\": 1.3, \"dash\": \"solid\"}, \"mode\": \"lines+markers\", \"marker\": {\"symbol\": \"dot\", \"size\": 12}}, {\"type\": \"scatter\", \"x\": [\"11/2015\", \"11/2012\", \"10/2017\", \"10/2016\", \"11/2013\", \"11/2014\"], \"y\": [0.0, 0.0, 0.0, 0.0, 0.0, 0.0], \"name\": \"DFOTHPG\", \"text\": \"\", \"line\": {\"color\": \"rgba(251, 128, 114, 0.7)\", \"width\": 1.3, \"dash\": \"solid\"}, \"mode\": \"lines+markers\", \"marker\": {\"symbol\": \"dot\", \"size\": 12}}, {\"type\": \"scatter\", \"x\": [\"11/2015\", \"11/2012\", \"10/2017\", \"10/2016\", \"11/2013\", \"11/2014\"], \"y\": [\"\", \"\", \"\", \"\", \"\", \"\"], \"name\": \"DFPGCM\", \"text\": \"\", \"line\": {\"color\": \"rgba(128, 177, 211, 0.7)\", \"width\": 1.3, \"dash\": \"solid\"}, \"mode\": \"lines+markers\", \"marker\": {\"symbol\": \"dot\", \"size\": 12}}, {\"type\": \"scatter\", \"x\": [\"11/2015\", \"11/2012\", \"10/2017\", \"10/2016\", \"11/2013\", \"11/2014\"], \"y\": [0.0, 0.0, 0.0, 0.0, 0.0, 0.0], \"name\": \"DFPSYCH\", \"text\": \"\", \"line\": {\"color\": \"rgba(255, 153, 51, 0.7)\", \"width\": 1.3, \"dash\": \"solid\"}, \"mode\": \"lines+markers\", \"marker\": {\"symbol\": \"dot\", \"size\": 12}}, {\"type\": \"scatter\", \"x\": [\"11/2015\", \"11/2012\", \"10/2017\", \"10/2016\", \"11/2013\", \"11/2014\"], \"y\": [0.0, 0.0, 0.0, 0.0, 0.0, 0.0], \"name\": \"DFCOGNIT\", \"text\": \"\", \"line\": {\"color\": \"rgba(55, 128, 191, 0.7)\", \"width\": 1.3, \"dash\": \"solid\"}, \"mode\": \"lines+markers\", \"marker\": {\"symbol\": \"dot\", \"size\": 12}}, {\"type\": \"scatter\", \"x\": [\"11/2015\", \"11/2012\", \"10/2017\", \"10/2016\", \"11/2013\", \"11/2014\"], \"y\": [0.0, 0.0, 0.0, 0.0, 0.0, 0.0], \"name\": \"DFDYSTON\", \"text\": \"\", \"line\": {\"color\": \"rgba(50, 171, 96, 0.7)\", \"width\": 1.3, \"dash\": \"solid\"}, \"mode\": \"lines+markers\", \"marker\": {\"symbol\": \"dot\", \"size\": 12}}, {\"type\": \"scatter\", \"x\": [\"11/2015\", \"11/2012\", \"10/2017\", \"10/2016\", \"11/2013\", \"11/2014\"], \"y\": [0.0, 0.0, 0.0, 0.0, 0.0, 0.0], \"name\": \"DFCHOREA\", \"text\": \"\", \"line\": {\"color\": \"rgba(128, 0, 128, 0.7)\", \"width\": 1.3, \"dash\": \"solid\"}, \"mode\": \"lines+markers\", \"marker\": {\"symbol\": \"dot\", \"size\": 12}}, {\"type\": \"scatter\", \"x\": [\"11/2015\", \"11/2012\", \"10/2017\", \"10/2016\", \"11/2013\", \"11/2014\"], \"y\": [0.0, 0.0, 0.0, 0.0, 0.0, 0.0], \"name\": \"DFMYOCLO\", \"text\": \"\", \"line\": {\"color\": \"rgba(219, 64, 82, 0.7)\", \"width\": 1.3, \"dash\": \"solid\"}, \"mode\": \"lines+markers\", \"marker\": {\"symbol\": \"dot\", \"size\": 12}}, {\"type\": \"scatter\", \"x\": [\"11/2015\", \"11/2012\", \"10/2017\", \"10/2016\", \"11/2013\", \"11/2014\"], \"y\": [0.0, 0.0, 0.0, 0.0, 0.0, 0.0], \"name\": \"DFOTHHYP\", \"text\": \"\", \"line\": {\"color\": \"rgba(0, 128, 128, 0.7)\", \"width\": 1.3, \"dash\": \"solid\"}, \"mode\": \"lines+markers\", \"marker\": {\"symbol\": \"dot\", \"size\": 12}}, {\"type\": \"scatter\", \"x\": [\"11/2015\", \"11/2012\", \"10/2017\", \"10/2016\", \"11/2013\", \"11/2014\"], \"y\": [\"\", \"\", \"\", \"\", \"\", \"\"], \"name\": \"DFHYPCM\", \"text\": \"\", \"line\": {\"color\": \"rgba(255, 255, 51, 0.7)\", \"width\": 1.3, \"dash\": \"solid\"}, \"mode\": \"lines+markers\", \"marker\": {\"symbol\": \"dot\", \"size\": 12}}, {\"type\": \"scatter\", \"x\": [\"11/2015\", \"11/2012\", \"10/2017\", \"10/2016\", \"11/2013\", \"11/2014\"], \"y\": [0.0, 0.0, 0.0, 0.0, 0.0, 0.0], \"name\": \"DFHEMTRO\", \"text\": \"\", \"line\": {\"color\": \"rgba(255, 255, 51, 0.5999999999999999)\", \"width\": 1.3, \"dash\": \"solid\"}, \"mode\": \"lines+markers\", \"marker\": {\"symbol\": \"dot\", \"size\": 12}}, {\"type\": \"scatter\", \"x\": [\"11/2015\", \"11/2012\", \"10/2017\", \"10/2016\", \"11/2013\", \"11/2014\"], \"y\": [0.0, 0.0, 1.0, 0.0, 0.0, 0.0], \"name\": \"DFPSHYPO\", \"text\": \"\", \"line\": {\"color\": \"rgba(128, 128, 0, 0.5999999999999999)\", \"width\": 1.3, \"dash\": \"solid\"}, \"mode\": \"lines+markers\", \"marker\": {\"symbol\": \"dot\", \"size\": 12}}, {\"type\": \"scatter\", \"x\": [\"11/2015\", \"11/2012\", \"10/2017\", \"10/2016\", \"11/2013\", \"11/2014\"], \"y\": [0.0, 1.0, 1.0, 1.0, 0.0, 0.0], \"name\": \"DFSEXDYS\", \"text\": \"\", \"line\": {\"color\": \"rgba(251, 128, 114, 0.5999999999999999)\", \"width\": 1.3, \"dash\": \"solid\"}, \"mode\": \"lines+markers\", \"marker\": {\"symbol\": \"dot\", \"size\": 12}}, {\"type\": \"scatter\", \"x\": [\"11/2015\", \"11/2012\", \"10/2017\", \"10/2016\", \"11/2013\", \"11/2014\"], \"y\": [1.0, 1.0, 1.0, 1.0, 0.0, 0.0], \"name\": \"DFURDYS\", \"text\": \"\", \"line\": {\"color\": \"rgba(128, 177, 211, 0.5999999999999999)\", \"width\": 1.3, \"dash\": \"solid\"}, \"mode\": \"lines+markers\", \"marker\": {\"symbol\": \"dot\", \"size\": 12}}, {\"type\": \"scatter\", \"x\": [\"11/2015\", \"11/2012\", \"10/2017\", \"10/2016\", \"11/2013\", \"11/2014\"], \"y\": [1.0, 0.0, 1.0, 1.0, 0.0, 0.0], \"name\": \"DFBWLDYS\", \"text\": \"\", \"line\": {\"color\": \"rgba(255, 153, 51, 0.5999999999999999)\", \"width\": 1.3, \"dash\": \"solid\"}, \"mode\": \"lines+markers\", \"marker\": {\"symbol\": \"dot\", \"size\": 12}}, {\"type\": \"scatter\", \"x\": [\"11/2015\", \"11/2012\", \"10/2017\", \"10/2016\", \"11/2013\", \"11/2014\"], \"y\": [0.0, 0.0, 0.0, 0.0, 0.0, 0.0], \"name\": \"DFOCULO\", \"text\": \"\", \"line\": {\"color\": \"rgba(55, 128, 191, 0.5999999999999999)\", \"width\": 1.3, \"dash\": \"solid\"}, \"mode\": \"lines+markers\", \"marker\": {\"symbol\": \"dot\", \"size\": 12}}, {\"type\": \"scatter\", \"x\": [\"11/2015\", \"11/2012\", \"10/2017\", \"10/2016\", \"11/2013\", \"11/2014\"], \"y\": [0.0, 0.0, 0.0, 0.0, 0.0, 0.0], \"name\": \"DFEYELID\", \"text\": \"\", \"line\": {\"color\": \"rgba(50, 171, 96, 0.5999999999999999)\", \"width\": 1.3, \"dash\": \"solid\"}, \"mode\": \"lines+markers\", \"marker\": {\"symbol\": \"dot\", \"size\": 12}}, {\"type\": \"scatter\", \"x\": [\"11/2015\", \"11/2012\", \"10/2017\", \"10/2016\", \"11/2013\", \"11/2014\"], \"y\": [0.0, 0.0, 0.0, 0.0, 0.0, 0.0], \"name\": \"DFNEURAB\", \"text\": \"\", \"line\": {\"color\": \"rgba(128, 0, 128, 0.5999999999999999)\", \"width\": 1.3, \"dash\": \"solid\"}, \"mode\": \"lines+markers\", \"marker\": {\"symbol\": \"dot\", \"size\": 12}}, {\"type\": \"scatter\", \"x\": [\"11/2015\", \"11/2012\", \"10/2017\", \"10/2016\", \"11/2013\", \"11/2014\"], \"y\": [0.0, 0.0, 0.0, 0.0, 0.0, 0.0], \"name\": \"DFRAPSPE\", \"text\": \"\", \"line\": {\"color\": \"rgba(219, 64, 82, 0.5999999999999999)\", \"width\": 1.3, \"dash\": \"solid\"}, \"mode\": \"lines+markers\", \"marker\": {\"symbol\": \"dot\", \"size\": 12}}, {\"type\": \"scatter\", \"x\": [\"11/2015\", \"11/2012\", \"10/2017\", \"10/2016\", \"11/2013\", \"11/2014\"], \"y\": [0.0, 0.0, 0.0, 0.0, 0.0, 0.0], \"name\": \"DFBULBAR\", \"text\": \"\", \"line\": {\"color\": \"rgba(0, 128, 128, 0.5999999999999999)\", \"width\": 1.3, \"dash\": \"solid\"}, \"mode\": \"lines+markers\", \"marker\": {\"symbol\": \"dot\", \"size\": 12}}, {\"type\": \"scatter\", \"x\": [\"11/2015\", \"11/2012\", \"10/2017\", \"10/2016\", \"11/2013\", \"11/2014\"], \"y\": [0.0, 0.0, 0.0, 0.0, 0.0, 0.0], \"name\": \"DFATYP\", \"text\": \"\", \"line\": {\"color\": \"rgba(0, 128, 128, 0.49999999999999983)\", \"width\": 1.3, \"dash\": \"solid\"}, \"mode\": \"lines+markers\", \"marker\": {\"symbol\": \"dot\", \"size\": 12}}], {\"legend\": {\"bgcolor\": \"#F5F6F9\", \"font\": {\"color\": \"#4D5663\"}}, \"paper_bgcolor\": \"#F5F6F9\", \"plot_bgcolor\": \"#F5F6F9\", \"yaxis1\": {\"tickfont\": {\"color\": \"#4D5663\"}, \"gridcolor\": \"#E1E5ED\", \"titlefont\": {\"color\": \"#4D5663\"}, \"zerolinecolor\": \"#E1E5ED\", \"showgrid\": true, \"title\": \"\"}, \"xaxis1\": {\"tickfont\": {\"color\": \"#4D5663\"}, \"gridcolor\": \"#E1E5ED\", \"titlefont\": {\"color\": \"#4D5663\"}, \"zerolinecolor\": \"#E1E5ED\", \"showgrid\": true, \"title\": \"\"}, \"titlefont\": {\"color\": \"#4D5663\"}}, {\"showLink\": true, \"linkText\": \"Export to plot.ly\"})});</script>"
      ],
      "text/vnd.plotly.v1+html": [
       "<div id=\"f5616285-a1f2-442a-8ced-8f65ff4a0ffd\" style=\"height: 525px; width: 100%;\" class=\"plotly-graph-div\"></div><script type=\"text/javascript\">require([\"plotly\"], function(Plotly) { window.PLOTLYENV=window.PLOTLYENV || {};window.PLOTLYENV.BASE_URL=\"https://plot.ly\";Plotly.newPlot(\"f5616285-a1f2-442a-8ced-8f65ff4a0ffd\", [{\"type\": \"scatter\", \"x\": [\"11/2015\", \"11/2012\", \"10/2017\", \"10/2016\", \"11/2013\", \"11/2014\"], \"y\": [0.0, 0.0, 0.0, 0.0, 0.0, 0.0], \"name\": \"DFSTROKE\", \"text\": \"\", \"line\": {\"color\": \"rgba(255, 153, 51, 1.0)\", \"width\": 1.3, \"dash\": \"solid\"}, \"mode\": \"lines+markers\", \"marker\": {\"symbol\": \"dot\", \"size\": 12}}, {\"type\": \"scatter\", \"x\": [\"11/2015\", \"11/2012\", \"10/2017\", \"10/2016\", \"11/2013\", \"11/2014\"], \"y\": [0.0, 0.0, 0.0, 0.0, 0.0, 0.0], \"name\": \"DFRSKFCT\", \"text\": \"\", \"line\": {\"color\": \"rgba(55, 128, 191, 1.0)\", \"width\": 1.3, \"dash\": \"solid\"}, \"mode\": \"lines+markers\", \"marker\": {\"symbol\": \"dot\", \"size\": 12}}, {\"type\": \"scatter\", \"x\": [\"11/2015\", \"11/2012\", \"10/2017\", \"10/2016\", \"11/2013\", \"11/2014\"], \"y\": [0.0, 0.0, 0.0, 0.0, 0.0, 0.0], \"name\": \"DFPRESNT\", \"text\": \"\", \"line\": {\"color\": \"rgba(50, 171, 96, 1.0)\", \"width\": 1.3, \"dash\": \"solid\"}, \"mode\": \"lines+markers\", \"marker\": {\"symbol\": \"dot\", \"size\": 12}}, {\"type\": \"scatter\", \"x\": [\"11/2015\", \"11/2012\", \"10/2017\", \"10/2016\", \"11/2013\", \"11/2014\"], \"y\": [0.0, 0.0, 0.0, 0.0, 0.0, 0.0], \"name\": \"DFRPROG\", \"text\": \"\", \"line\": {\"color\": \"rgba(128, 0, 128, 1.0)\", \"width\": 1.3, \"dash\": \"solid\"}, \"mode\": \"lines+markers\", \"marker\": {\"symbol\": \"dot\", \"size\": 12}}, {\"type\": \"scatter\", \"x\": [\"11/2015\", \"11/2012\", \"10/2017\", \"10/2016\", \"11/2013\", \"11/2014\"], \"y\": [0.0, 0.0, 0.0, 0.0, 0.0, 0.0], \"name\": \"DFSTATIC\", \"text\": \"\", \"line\": {\"color\": \"rgba(219, 64, 82, 1.0)\", \"width\": 1.3, \"dash\": \"solid\"}, \"mode\": \"lines+markers\", \"marker\": {\"symbol\": \"dot\", \"size\": 12}}, {\"type\": \"scatter\", \"x\": [\"11/2015\", \"11/2012\", \"10/2017\", \"10/2016\", \"11/2013\", \"11/2014\"], \"y\": [0.0, 0.0, 0.0, 0.0, 0.0, 0.0], \"name\": \"DFHEMPRK\", \"text\": \"\", \"line\": {\"color\": \"rgba(0, 128, 128, 1.0)\", \"width\": 1.3, \"dash\": \"solid\"}, \"mode\": \"lines+markers\", \"marker\": {\"symbol\": \"dot\", \"size\": 12}}, {\"type\": \"scatter\", \"x\": [\"11/2015\", \"11/2012\", \"10/2017\", \"10/2016\", \"11/2013\", \"11/2014\"], \"y\": [0.0, 0.0, 0.0, 0.0, 0.0, 0.0], \"name\": \"DFAGESX\", \"text\": \"\", \"line\": {\"color\": \"rgba(255, 255, 51, 1.0)\", \"width\": 1.3, \"dash\": \"solid\"}, \"mode\": \"lines+markers\", \"marker\": {\"symbol\": \"dot\", \"size\": 12}}, {\"type\": \"scatter\", \"x\": [\"11/2015\", \"11/2012\", \"10/2017\", \"10/2016\", \"11/2013\", \"11/2014\"], \"y\": [0.0, 0.0, 0.0, 0.0, 0.0, 0.0], \"name\": \"DFOTHCRS\", \"text\": \"\", \"line\": {\"color\": \"rgba(128, 128, 0, 1.0)\", \"width\": 1.3, \"dash\": \"solid\"}, \"mode\": \"lines+markers\", \"marker\": {\"symbol\": \"dot\", \"size\": 12}}, {\"type\": \"scatter\", \"x\": [\"11/2015\", \"11/2012\", \"10/2017\", \"10/2016\", \"11/2013\", \"11/2014\"], \"y\": [\"\", \"\", \"\", \"\", \"\", \"\"], \"name\": \"DFCRSCM\", \"text\": \"\", \"line\": {\"color\": \"rgba(251, 128, 114, 1.0)\", \"width\": 1.3, \"dash\": \"solid\"}, \"mode\": \"lines+markers\", \"marker\": {\"symbol\": \"dot\", \"size\": 12}}, {\"type\": \"scatter\", \"x\": [\"11/2015\", \"11/2012\", \"10/2017\", \"10/2016\", \"11/2013\", \"11/2014\"], \"y\": [1.0, 1.0, 1.0, 1.0, 1.0, 1.0], \"name\": \"DFRTREMP\", \"text\": \"\", \"line\": {\"color\": \"rgba(128, 177, 211, 1.0)\", \"width\": 1.3, \"dash\": \"solid\"}, \"mode\": \"lines+markers\", \"marker\": {\"symbol\": \"dot\", \"size\": 12}}, {\"type\": \"scatter\", \"x\": [\"11/2015\", \"11/2012\", \"10/2017\", \"10/2016\", \"11/2013\", \"11/2014\"], \"y\": [0.0, 0.0, 0.0, 0.0, 0.0, 0.0], \"name\": \"DFRTREMA\", \"text\": \"\", \"line\": {\"color\": \"rgba(128, 177, 211, 0.8999999999999999)\", \"width\": 1.3, \"dash\": \"solid\"}, \"mode\": \"lines+markers\", \"marker\": {\"symbol\": \"dot\", \"size\": 12}}, {\"type\": \"scatter\", \"x\": [\"11/2015\", \"11/2012\", \"10/2017\", \"10/2016\", \"11/2013\", \"11/2014\"], \"y\": [0.0, 0.0, 0.0, 0.0, 0.0, 0.0], \"name\": \"DFPATREM\", \"text\": \"\", \"line\": {\"color\": \"rgba(255, 153, 51, 0.8999999999999999)\", \"width\": 1.3, \"dash\": \"solid\"}, \"mode\": \"lines+markers\", \"marker\": {\"symbol\": \"dot\", \"size\": 12}}, {\"type\": \"scatter\", \"x\": [\"11/2015\", \"11/2012\", \"10/2017\", \"10/2016\", \"11/2013\", \"11/2014\"], \"y\": [0.0, 0.0, 0.0, 0.0, 0.0, 0.0], \"name\": \"DFOTHTRM\", \"text\": \"\", \"line\": {\"color\": \"rgba(55, 128, 191, 0.8999999999999999)\", \"width\": 1.3, \"dash\": \"solid\"}, \"mode\": \"lines+markers\", \"marker\": {\"symbol\": \"dot\", \"size\": 12}}, {\"type\": \"scatter\", \"x\": [\"11/2015\", \"11/2012\", \"10/2017\", \"10/2016\", \"11/2013\", \"11/2014\"], \"y\": [\"\", \"\", \"\", \"\", \"\", \"\"], \"name\": \"DFTREMCM\", \"text\": \"\", \"line\": {\"color\": \"rgba(50, 171, 96, 0.8999999999999999)\", \"width\": 1.3, \"dash\": \"solid\"}, \"mode\": \"lines+markers\", \"marker\": {\"symbol\": \"dot\", \"size\": 12}}, {\"type\": \"scatter\", \"x\": [\"11/2015\", \"11/2012\", \"10/2017\", \"10/2016\", \"11/2013\", \"11/2014\"], \"y\": [1.0, 1.0, 1.0, 1.0, 1.0, 1.0], \"name\": \"DFRIGIDP\", \"text\": \"\", \"line\": {\"color\": \"rgba(128, 0, 128, 0.8999999999999999)\", \"width\": 1.3, \"dash\": \"solid\"}, \"mode\": \"lines+markers\", \"marker\": {\"symbol\": \"dot\", \"size\": 12}}, {\"type\": \"scatter\", \"x\": [\"11/2015\", \"11/2012\", \"10/2017\", \"10/2016\", \"11/2013\", \"11/2014\"], \"y\": [0.0, 0.0, 0.0, 0.0, 0.0, 0.0], \"name\": \"DFRIGIDA\", \"text\": \"\", \"line\": {\"color\": \"rgba(219, 64, 82, 0.8999999999999999)\", \"width\": 1.3, \"dash\": \"solid\"}, \"mode\": \"lines+markers\", \"marker\": {\"symbol\": \"dot\", \"size\": 12}}, {\"type\": \"scatter\", \"x\": [\"11/2015\", \"11/2012\", \"10/2017\", \"10/2016\", \"11/2013\", \"11/2014\"], \"y\": [0.0, 0.0, 0.0, 0.0, 0.0, 0.0], \"name\": \"DFAXRIG\", \"text\": \"\", \"line\": {\"color\": \"rgba(0, 128, 128, 0.8999999999999999)\", \"width\": 1.3, \"dash\": \"solid\"}, \"mode\": \"lines+markers\", \"marker\": {\"symbol\": \"dot\", \"size\": 12}}, {\"type\": \"scatter\", \"x\": [\"11/2015\", \"11/2012\", \"10/2017\", \"10/2016\", \"11/2013\", \"11/2014\"], \"y\": [0.0, 0.0, 0.0, 0.0, 0.0, 0.0], \"name\": \"DFUNIRIG\", \"text\": \"\", \"line\": {\"color\": \"rgba(255, 255, 51, 0.8999999999999999)\", \"width\": 1.3, \"dash\": \"solid\"}, \"mode\": \"lines+markers\", \"marker\": {\"symbol\": \"dot\", \"size\": 12}}, {\"type\": \"scatter\", \"x\": [\"11/2015\", \"11/2012\", \"10/2017\", \"10/2016\", \"11/2013\", \"11/2014\"], \"y\": [0.0, 0.0, 0.0, 0.0, 0.0, 0.0], \"name\": \"DFTONE\", \"text\": \"\", \"line\": {\"color\": \"rgba(128, 128, 0, 0.8999999999999999)\", \"width\": 1.3, \"dash\": \"solid\"}, \"mode\": \"lines+markers\", \"marker\": {\"symbol\": \"dot\", \"size\": 12}}, {\"type\": \"scatter\", \"x\": [\"11/2015\", \"11/2012\", \"10/2017\", \"10/2016\", \"11/2013\", \"11/2014\"], \"y\": [0.0, 0.0, 0.0, 0.0, 0.0, 0.0], \"name\": \"DFOTHRIG\", \"text\": \"\", \"line\": {\"color\": \"rgba(251, 128, 114, 0.8999999999999999)\", \"width\": 1.3, \"dash\": \"solid\"}, \"mode\": \"lines+markers\", \"marker\": {\"symbol\": \"dot\", \"size\": 12}}, {\"type\": \"scatter\", \"x\": [\"11/2015\", \"11/2012\", \"10/2017\", \"10/2016\", \"11/2013\", \"11/2014\"], \"y\": [\"\", \"\", \"\", \"\", \"\", \"\"], \"name\": \"DFRIGCM\", \"text\": \"\", \"line\": {\"color\": \"rgba(251, 128, 114, 0.7999999999999998)\", \"width\": 1.3, \"dash\": \"solid\"}, \"mode\": \"lines+markers\", \"marker\": {\"symbol\": \"dot\", \"size\": 12}}, {\"type\": \"scatter\", \"x\": [\"11/2015\", \"11/2012\", \"10/2017\", \"10/2016\", \"11/2013\", \"11/2014\"], \"y\": [1.0, 1.0, 1.0, 1.0, 1.0, 1.0], \"name\": \"DFBRADYP\", \"text\": \"\", \"line\": {\"color\": \"rgba(128, 177, 211, 0.7999999999999998)\", \"width\": 1.3, \"dash\": \"solid\"}, \"mode\": \"lines+markers\", \"marker\": {\"symbol\": \"dot\", \"size\": 12}}, {\"type\": \"scatter\", \"x\": [\"11/2015\", \"11/2012\", \"10/2017\", \"10/2016\", \"11/2013\", \"11/2014\"], \"y\": [0.0, 0.0, 0.0, 0.0, 0.0, 0.0], \"name\": \"DFBRADYA\", \"text\": \"\", \"line\": {\"color\": \"rgba(255, 153, 51, 0.7999999999999998)\", \"width\": 1.3, \"dash\": \"solid\"}, \"mode\": \"lines+markers\", \"marker\": {\"symbol\": \"dot\", \"size\": 12}}, {\"type\": \"scatter\", \"x\": [\"11/2015\", \"11/2012\", \"10/2017\", \"10/2016\", \"11/2013\", \"11/2014\"], \"y\": [0.0, 0.0, 0.0, 0.0, 0.0, 0.0], \"name\": \"DFAKINES\", \"text\": \"\", \"line\": {\"color\": \"rgba(55, 128, 191, 0.7999999999999998)\", \"width\": 1.3, \"dash\": \"solid\"}, \"mode\": \"lines+markers\", \"marker\": {\"symbol\": \"dot\", \"size\": 12}}, {\"type\": \"scatter\", \"x\": [\"11/2015\", \"11/2012\", \"10/2017\", \"10/2016\", \"11/2013\", \"11/2014\"], \"y\": [0.0, 0.0, 0.0, 0.0, 0.0, 0.0], \"name\": \"DFBRPLUS\", \"text\": \"\", \"line\": {\"color\": \"rgba(50, 171, 96, 0.7999999999999998)\", \"width\": 1.3, \"dash\": \"solid\"}, \"mode\": \"lines+markers\", \"marker\": {\"symbol\": \"dot\", \"size\": 12}}, {\"type\": \"scatter\", \"x\": [\"11/2015\", \"11/2012\", \"10/2017\", \"10/2016\", \"11/2013\", \"11/2014\"], \"y\": [0.0, 0.0, 0.0, 0.0, 0.0, 0.0], \"name\": \"DFOTHABR\", \"text\": \"\", \"line\": {\"color\": \"rgba(128, 0, 128, 0.7999999999999998)\", \"width\": 1.3, \"dash\": \"solid\"}, \"mode\": \"lines+markers\", \"marker\": {\"symbol\": \"dot\", \"size\": 12}}, {\"type\": \"scatter\", \"x\": [\"11/2015\", \"11/2012\", \"10/2017\", \"10/2016\", \"11/2013\", \"11/2014\"], \"y\": [\"\", \"\", \"\", \"\", \"\", \"\"], \"name\": \"DFABRCM\", \"text\": \"\", \"line\": {\"color\": \"rgba(219, 64, 82, 0.7999999999999998)\", \"width\": 1.3, \"dash\": \"solid\"}, \"mode\": \"lines+markers\", \"marker\": {\"symbol\": \"dot\", \"size\": 12}}, {\"type\": \"scatter\", \"x\": [\"11/2015\", \"11/2012\", \"10/2017\", \"10/2016\", \"11/2013\", \"11/2014\"], \"y\": [1.0, 1.0, 1.0, 1.0, 1.0, 1.0], \"name\": \"DFPGDIST\", \"text\": \"\", \"line\": {\"color\": \"rgba(0, 128, 128, 0.7999999999999998)\", \"width\": 1.3, \"dash\": \"solid\"}, \"mode\": \"lines+markers\", \"marker\": {\"symbol\": \"dot\", \"size\": 12}}, {\"type\": \"scatter\", \"x\": [\"11/2015\", \"11/2012\", \"10/2017\", \"10/2016\", \"11/2013\", \"11/2014\"], \"y\": [0.0, 0.0, 0.0, 0.0, 0.0, 0.0], \"name\": \"DFGAIT\", \"text\": \"\", \"line\": {\"color\": \"rgba(255, 255, 51, 0.7999999999999998)\", \"width\": 1.3, \"dash\": \"solid\"}, \"mode\": \"lines+markers\", \"marker\": {\"symbol\": \"dot\", \"size\": 12}}, {\"type\": \"scatter\", \"x\": [\"11/2015\", \"11/2012\", \"10/2017\", \"10/2016\", \"11/2013\", \"11/2014\"], \"y\": [0.0, 0.0, 0.0, 0.0, 0.0, 0.0], \"name\": \"DFFREEZ\", \"text\": \"\", \"line\": {\"color\": \"rgba(128, 128, 0, 0.7999999999999998)\", \"width\": 1.3, \"dash\": \"solid\"}, \"mode\": \"lines+markers\", \"marker\": {\"symbol\": \"dot\", \"size\": 12}}, {\"type\": \"scatter\", \"x\": [\"11/2015\", \"11/2012\", \"10/2017\", \"10/2016\", \"11/2013\", \"11/2014\"], \"y\": [0.0, 0.0, 0.0, 0.0, 0.0, 0.0], \"name\": \"DFFALLS\", \"text\": \"\", \"line\": {\"color\": \"rgba(128, 128, 0, 0.7)\", \"width\": 1.3, \"dash\": \"solid\"}, \"mode\": \"lines+markers\", \"marker\": {\"symbol\": \"dot\", \"size\": 12}}, {\"type\": \"scatter\", \"x\": [\"11/2015\", \"11/2012\", \"10/2017\", \"10/2016\", \"11/2013\", \"11/2014\"], \"y\": [0.0, 0.0, 0.0, 0.0, 0.0, 0.0], \"name\": \"DFOTHPG\", \"text\": \"\", \"line\": {\"color\": \"rgba(251, 128, 114, 0.7)\", \"width\": 1.3, \"dash\": \"solid\"}, \"mode\": \"lines+markers\", \"marker\": {\"symbol\": \"dot\", \"size\": 12}}, {\"type\": \"scatter\", \"x\": [\"11/2015\", \"11/2012\", \"10/2017\", \"10/2016\", \"11/2013\", \"11/2014\"], \"y\": [\"\", \"\", \"\", \"\", \"\", \"\"], \"name\": \"DFPGCM\", \"text\": \"\", \"line\": {\"color\": \"rgba(128, 177, 211, 0.7)\", \"width\": 1.3, \"dash\": \"solid\"}, \"mode\": \"lines+markers\", \"marker\": {\"symbol\": \"dot\", \"size\": 12}}, {\"type\": \"scatter\", \"x\": [\"11/2015\", \"11/2012\", \"10/2017\", \"10/2016\", \"11/2013\", \"11/2014\"], \"y\": [0.0, 0.0, 0.0, 0.0, 0.0, 0.0], \"name\": \"DFPSYCH\", \"text\": \"\", \"line\": {\"color\": \"rgba(255, 153, 51, 0.7)\", \"width\": 1.3, \"dash\": \"solid\"}, \"mode\": \"lines+markers\", \"marker\": {\"symbol\": \"dot\", \"size\": 12}}, {\"type\": \"scatter\", \"x\": [\"11/2015\", \"11/2012\", \"10/2017\", \"10/2016\", \"11/2013\", \"11/2014\"], \"y\": [0.0, 0.0, 0.0, 0.0, 0.0, 0.0], \"name\": \"DFCOGNIT\", \"text\": \"\", \"line\": {\"color\": \"rgba(55, 128, 191, 0.7)\", \"width\": 1.3, \"dash\": \"solid\"}, \"mode\": \"lines+markers\", \"marker\": {\"symbol\": \"dot\", \"size\": 12}}, {\"type\": \"scatter\", \"x\": [\"11/2015\", \"11/2012\", \"10/2017\", \"10/2016\", \"11/2013\", \"11/2014\"], \"y\": [0.0, 0.0, 0.0, 0.0, 0.0, 0.0], \"name\": \"DFDYSTON\", \"text\": \"\", \"line\": {\"color\": \"rgba(50, 171, 96, 0.7)\", \"width\": 1.3, \"dash\": \"solid\"}, \"mode\": \"lines+markers\", \"marker\": {\"symbol\": \"dot\", \"size\": 12}}, {\"type\": \"scatter\", \"x\": [\"11/2015\", \"11/2012\", \"10/2017\", \"10/2016\", \"11/2013\", \"11/2014\"], \"y\": [0.0, 0.0, 0.0, 0.0, 0.0, 0.0], \"name\": \"DFCHOREA\", \"text\": \"\", \"line\": {\"color\": \"rgba(128, 0, 128, 0.7)\", \"width\": 1.3, \"dash\": \"solid\"}, \"mode\": \"lines+markers\", \"marker\": {\"symbol\": \"dot\", \"size\": 12}}, {\"type\": \"scatter\", \"x\": [\"11/2015\", \"11/2012\", \"10/2017\", \"10/2016\", \"11/2013\", \"11/2014\"], \"y\": [0.0, 0.0, 0.0, 0.0, 0.0, 0.0], \"name\": \"DFMYOCLO\", \"text\": \"\", \"line\": {\"color\": \"rgba(219, 64, 82, 0.7)\", \"width\": 1.3, \"dash\": \"solid\"}, \"mode\": \"lines+markers\", \"marker\": {\"symbol\": \"dot\", \"size\": 12}}, {\"type\": \"scatter\", \"x\": [\"11/2015\", \"11/2012\", \"10/2017\", \"10/2016\", \"11/2013\", \"11/2014\"], \"y\": [0.0, 0.0, 0.0, 0.0, 0.0, 0.0], \"name\": \"DFOTHHYP\", \"text\": \"\", \"line\": {\"color\": \"rgba(0, 128, 128, 0.7)\", \"width\": 1.3, \"dash\": \"solid\"}, \"mode\": \"lines+markers\", \"marker\": {\"symbol\": \"dot\", \"size\": 12}}, {\"type\": \"scatter\", \"x\": [\"11/2015\", \"11/2012\", \"10/2017\", \"10/2016\", \"11/2013\", \"11/2014\"], \"y\": [\"\", \"\", \"\", \"\", \"\", \"\"], \"name\": \"DFHYPCM\", \"text\": \"\", \"line\": {\"color\": \"rgba(255, 255, 51, 0.7)\", \"width\": 1.3, \"dash\": \"solid\"}, \"mode\": \"lines+markers\", \"marker\": {\"symbol\": \"dot\", \"size\": 12}}, {\"type\": \"scatter\", \"x\": [\"11/2015\", \"11/2012\", \"10/2017\", \"10/2016\", \"11/2013\", \"11/2014\"], \"y\": [0.0, 0.0, 0.0, 0.0, 0.0, 0.0], \"name\": \"DFHEMTRO\", \"text\": \"\", \"line\": {\"color\": \"rgba(255, 255, 51, 0.5999999999999999)\", \"width\": 1.3, \"dash\": \"solid\"}, \"mode\": \"lines+markers\", \"marker\": {\"symbol\": \"dot\", \"size\": 12}}, {\"type\": \"scatter\", \"x\": [\"11/2015\", \"11/2012\", \"10/2017\", \"10/2016\", \"11/2013\", \"11/2014\"], \"y\": [0.0, 0.0, 1.0, 0.0, 0.0, 0.0], \"name\": \"DFPSHYPO\", \"text\": \"\", \"line\": {\"color\": \"rgba(128, 128, 0, 0.5999999999999999)\", \"width\": 1.3, \"dash\": \"solid\"}, \"mode\": \"lines+markers\", \"marker\": {\"symbol\": \"dot\", \"size\": 12}}, {\"type\": \"scatter\", \"x\": [\"11/2015\", \"11/2012\", \"10/2017\", \"10/2016\", \"11/2013\", \"11/2014\"], \"y\": [0.0, 1.0, 1.0, 1.0, 0.0, 0.0], \"name\": \"DFSEXDYS\", \"text\": \"\", \"line\": {\"color\": \"rgba(251, 128, 114, 0.5999999999999999)\", \"width\": 1.3, \"dash\": \"solid\"}, \"mode\": \"lines+markers\", \"marker\": {\"symbol\": \"dot\", \"size\": 12}}, {\"type\": \"scatter\", \"x\": [\"11/2015\", \"11/2012\", \"10/2017\", \"10/2016\", \"11/2013\", \"11/2014\"], \"y\": [1.0, 1.0, 1.0, 1.0, 0.0, 0.0], \"name\": \"DFURDYS\", \"text\": \"\", \"line\": {\"color\": \"rgba(128, 177, 211, 0.5999999999999999)\", \"width\": 1.3, \"dash\": \"solid\"}, \"mode\": \"lines+markers\", \"marker\": {\"symbol\": \"dot\", \"size\": 12}}, {\"type\": \"scatter\", \"x\": [\"11/2015\", \"11/2012\", \"10/2017\", \"10/2016\", \"11/2013\", \"11/2014\"], \"y\": [1.0, 0.0, 1.0, 1.0, 0.0, 0.0], \"name\": \"DFBWLDYS\", \"text\": \"\", \"line\": {\"color\": \"rgba(255, 153, 51, 0.5999999999999999)\", \"width\": 1.3, \"dash\": \"solid\"}, \"mode\": \"lines+markers\", \"marker\": {\"symbol\": \"dot\", \"size\": 12}}, {\"type\": \"scatter\", \"x\": [\"11/2015\", \"11/2012\", \"10/2017\", \"10/2016\", \"11/2013\", \"11/2014\"], \"y\": [0.0, 0.0, 0.0, 0.0, 0.0, 0.0], \"name\": \"DFOCULO\", \"text\": \"\", \"line\": {\"color\": \"rgba(55, 128, 191, 0.5999999999999999)\", \"width\": 1.3, \"dash\": \"solid\"}, \"mode\": \"lines+markers\", \"marker\": {\"symbol\": \"dot\", \"size\": 12}}, {\"type\": \"scatter\", \"x\": [\"11/2015\", \"11/2012\", \"10/2017\", \"10/2016\", \"11/2013\", \"11/2014\"], \"y\": [0.0, 0.0, 0.0, 0.0, 0.0, 0.0], \"name\": \"DFEYELID\", \"text\": \"\", \"line\": {\"color\": \"rgba(50, 171, 96, 0.5999999999999999)\", \"width\": 1.3, \"dash\": \"solid\"}, \"mode\": \"lines+markers\", \"marker\": {\"symbol\": \"dot\", \"size\": 12}}, {\"type\": \"scatter\", \"x\": [\"11/2015\", \"11/2012\", \"10/2017\", \"10/2016\", \"11/2013\", \"11/2014\"], \"y\": [0.0, 0.0, 0.0, 0.0, 0.0, 0.0], \"name\": \"DFNEURAB\", \"text\": \"\", \"line\": {\"color\": \"rgba(128, 0, 128, 0.5999999999999999)\", \"width\": 1.3, \"dash\": \"solid\"}, \"mode\": \"lines+markers\", \"marker\": {\"symbol\": \"dot\", \"size\": 12}}, {\"type\": \"scatter\", \"x\": [\"11/2015\", \"11/2012\", \"10/2017\", \"10/2016\", \"11/2013\", \"11/2014\"], \"y\": [0.0, 0.0, 0.0, 0.0, 0.0, 0.0], \"name\": \"DFRAPSPE\", \"text\": \"\", \"line\": {\"color\": \"rgba(219, 64, 82, 0.5999999999999999)\", \"width\": 1.3, \"dash\": \"solid\"}, \"mode\": \"lines+markers\", \"marker\": {\"symbol\": \"dot\", \"size\": 12}}, {\"type\": \"scatter\", \"x\": [\"11/2015\", \"11/2012\", \"10/2017\", \"10/2016\", \"11/2013\", \"11/2014\"], \"y\": [0.0, 0.0, 0.0, 0.0, 0.0, 0.0], \"name\": \"DFBULBAR\", \"text\": \"\", \"line\": {\"color\": \"rgba(0, 128, 128, 0.5999999999999999)\", \"width\": 1.3, \"dash\": \"solid\"}, \"mode\": \"lines+markers\", \"marker\": {\"symbol\": \"dot\", \"size\": 12}}, {\"type\": \"scatter\", \"x\": [\"11/2015\", \"11/2012\", \"10/2017\", \"10/2016\", \"11/2013\", \"11/2014\"], \"y\": [0.0, 0.0, 0.0, 0.0, 0.0, 0.0], \"name\": \"DFATYP\", \"text\": \"\", \"line\": {\"color\": \"rgba(0, 128, 128, 0.49999999999999983)\", \"width\": 1.3, \"dash\": \"solid\"}, \"mode\": \"lines+markers\", \"marker\": {\"symbol\": \"dot\", \"size\": 12}}], {\"legend\": {\"bgcolor\": \"#F5F6F9\", \"font\": {\"color\": \"#4D5663\"}}, \"paper_bgcolor\": \"#F5F6F9\", \"plot_bgcolor\": \"#F5F6F9\", \"yaxis1\": {\"tickfont\": {\"color\": \"#4D5663\"}, \"gridcolor\": \"#E1E5ED\", \"titlefont\": {\"color\": \"#4D5663\"}, \"zerolinecolor\": \"#E1E5ED\", \"showgrid\": true, \"title\": \"\"}, \"xaxis1\": {\"tickfont\": {\"color\": \"#4D5663\"}, \"gridcolor\": \"#E1E5ED\", \"titlefont\": {\"color\": \"#4D5663\"}, \"zerolinecolor\": \"#E1E5ED\", \"showgrid\": true, \"title\": \"\"}, \"titlefont\": {\"color\": \"#4D5663\"}}, {\"showLink\": true, \"linkText\": \"Export to plot.ly\"})});</script>"
      ]
     },
     "metadata": {},
     "output_type": "display_data"
    }
   ],
   "source": [
    "import cufflinks as cf\n",
    "# Configure it to work offline:\n",
    "cf.go_offline(connected=True)\n",
    "\n",
    "df_3051=diagfeat_EADL.loc[diagfeat_EADL['PATNO']==3051,:]\n",
    "df_3051.set_index('INFODT',inplace=True)\n",
    "df_3051['var_sumfeat']=df_3051.iloc[:,range(3,54)].sum(axis=1)\n",
    "df_3051_sumfeat=df_3051.loc[:,'var_sumfeat']\n",
    "df_3051_plot=df_3051.iloc[:,range(3,54)]\n",
    "\n",
    "df_3051_plot.iplot(kind='scatter',filename='PATNO 3051 Diag Feat over time',mode='lines+markers')\n",
    "#find something better than scatter plot."
   ]
  },
  {
   "cell_type": "code",
   "execution_count": 19,
   "metadata": {},
   "outputs": [],
   "source": [
    "# Plotting the labels of multiple patients\n",
    "sub_df=patients_sampling(diagfeat_EADL)\n",
    "sub_df['INFODT_date']=sub_df['INFODT'].apply(lambda x: datetime.strptime(x,'%m/%Y'))"
   ]
  },
  {
   "cell_type": "code",
   "execution_count": 20,
   "metadata": {},
   "outputs": [
    {
     "data": {
      "text/plain": [
       "<seaborn.axisgrid.FacetGrid at 0x10b2db438>"
      ]
     },
     "execution_count": 20,
     "metadata": {},
     "output_type": "execute_result"
    },
    {
     "data": {
      "image/png": "[encoded data removed]",
      "text/plain": [
       "<Figure size 1080x1080 with 25 Axes>"
      ]
     },
     "metadata": {},
     "output_type": "display_data"
    }
   ],
   "source": [
    "# https://seaborn.pydata.org/examples/faceted_histogram.html\n",
    "sns.set(style=\"darkgrid\")\n",
    "g = sns.FacetGrid(sub_df, col=\"PATNO\", margin_titles=True,col_wrap=5)\n",
    "g.map(plt.hist, \"sum_feat\", color=\"steelblue\")"
   ]
  },
  {
   "cell_type": "code",
   "execution_count": 21,
   "metadata": {},
   "outputs": [
    {
     "data": {
      "text/plain": [
       "<seaborn.axisgrid.FacetGrid at 0x1a0ceb8dd8>"
      ]
     },
     "execution_count": 21,
     "metadata": {},
     "output_type": "execute_result"
    },
    {
     "data": {
      "image/png": "[encoded data removed]",
      "text/plain": [
       "<Figure size 1080x1080 with 25 Axes>"
      ]
     },
     "metadata": {},
     "output_type": "display_data"
    }
   ],
   "source": [
    "sns.set(style=\"darkgrid\")\n",
    "g = sns.FacetGrid(sub_df, col=\"PATNO\", margin_titles=True,col_wrap=5)\n",
    "#bins = np.linspace(0, 60, 13)\n",
    "g.map(plt.plot, \"sum_feat\", color=\"steelblue\")"
   ]
  },
  {
   "cell_type": "code",
   "execution_count": 37,
   "metadata": {
    "scrolled": true
   },
   "outputs": [],
   "source": [
    "#fig,ax=plt.plot()\n",
    "#ax = sns.stripplot(x=\"PATNO\", y=\"sum_feat\",data=sub_df, jitter=True)\n",
    "#ax.figure.set_size_inches(w=20,h=10)\n",
    "#plt.show()"
   ]
  },
  {
   "cell_type": "code",
   "execution_count": 23,
   "metadata": {},
   "outputs": [
    {
     "data": {
      "image/png": "[encoded data removed]",
      "text/plain": [
       "<Figure size 1440x720 with 1 Axes>"
      ]
     },
     "metadata": {},
     "output_type": "display_data"
    }
   ],
   "source": [
    "ax=sns.boxplot(y=\"sum_feat\",\n",
    "            x=\"PATNO\", data=sub_df)\n",
    "ax.figure.set_size_inches(w=20,h=10)"
   ]
  },
  {
   "cell_type": "markdown",
   "metadata": {},
   "source": [
    "### Labels"
   ]
  },
  {
   "cell_type": "code",
   "execution_count": 24,
   "metadata": {},
   "outputs": [
    {
     "data": {
      "text/plain": [
       "<seaborn.axisgrid.FacetGrid at 0x1a0e14f240>"
      ]
     },
     "execution_count": 24,
     "metadata": {},
     "output_type": "execute_result"
    },
    {
     "data": {
      "image/png": "[encoded data removed]",
      "text/plain": [
       "<Figure size 1080x1080 with 25 Axes>"
      ]
     },
     "metadata": {},
     "output_type": "display_data"
    }
   ],
   "source": [
    "# https://seaborn.pydata.org/examples/faceted_histogram.html\n",
    "sns.set(style=\"darkgrid\")\n",
    "g = sns.FacetGrid(sub_df, col=\"PATNO\", margin_titles=True, col_wrap=5)\n",
    "g.map(plt.hist, \"MSEADLG\", color=\"steelblue\")\n",
    "\n",
    "# ADD TITLE"
   ]
  },
  {
   "cell_type": "code",
   "execution_count": 25,
   "metadata": {},
   "outputs": [
    {
     "data": {
      "text/plain": [
       "<seaborn.axisgrid.FacetGrid at 0x1a0cf2f240>"
      ]
     },
     "execution_count": 25,
     "metadata": {},
     "output_type": "execute_result"
    },
    {
     "data": {
      "image/png": "[encoded data removed]",
      "text/plain": [
       "<Figure size 1080x1080 with 25 Axes>"
      ]
     },
     "metadata": {},
     "output_type": "display_data"
    }
   ],
   "source": [
    "sns.set(style=\"darkgrid\")\n",
    "g = sns.FacetGrid(sub_df, col=\"PATNO\", margin_titles=True,col_wrap=5)\n",
    "g.map(plt.plot, \"MSEADLG\", color=\"steelblue\")"
   ]
  },
  {
   "cell_type": "code",
   "execution_count": 26,
   "metadata": {},
   "outputs": [
    {
     "data": {
      "image/png": "[encoded data removed]",
      "text/plain": [
       "<Figure size 1440x720 with 1 Axes>"
      ]
     },
     "metadata": {},
     "output_type": "display_data"
    }
   ],
   "source": [
    "ax = sns.stripplot(x=\"PATNO\", y=\"MSEADLG\",data=sub_df, jitter=True)\n",
    "ax.figure.set_size_inches(w=20,h=10)\n",
    "plt.show()"
   ]
  },
  {
   "cell_type": "code",
   "execution_count": 27,
   "metadata": {},
   "outputs": [
    {
     "data": {
      "image/png": "[encoded data removed]",
      "text/plain": [
       "<Figure size 1440x720 with 1 Axes>"
      ]
     },
     "metadata": {},
     "output_type": "display_data"
    }
   ],
   "source": [
    "ax=sns.boxplot(y=\"MSEADLG\",\n",
    "            x=\"PATNO\", data=sub_df)\n",
    "ax.figure.set_size_inches(w=20,h=10)"
   ]
  },
  {
   "cell_type": "markdown",
   "metadata": {},
   "source": [
    "## TO USE LATER ON (multi-label classification)"
   ]
  },
  {
   "cell_type": "code",
   "execution_count": 35,
   "metadata": {},
   "outputs": [
    {
     "name": "stdout",
     "output_type": "stream",
     "text": [
      "(2010, 20)\n"
     ]
    },
    {
     "data": {
      "text/html": [
       "<div>\n",
       "<style scoped>\n",
       "    .dataframe tbody tr th:only-of-type {\n",
       "        vertical-align: middle;\n",
       "    }\n",
       "\n",
       "    .dataframe tbody tr th {\n",
       "        vertical-align: top;\n",
       "    }\n",
       "\n",
       "    .dataframe thead th {\n",
       "        text-align: right;\n",
       "    }\n",
       "</style>\n",
       "<table border=\"1\" class=\"dataframe\">\n",
       "  <thead>\n",
       "    <tr style=\"text-align: right;\">\n",
       "      <th></th>\n",
       "      <th>REC_ID</th>\n",
       "      <th>F_STATUS</th>\n",
       "      <th>PATNO</th>\n",
       "      <th>EVENT_ID</th>\n",
       "      <th>PAG_NAME</th>\n",
       "      <th>INFODT</th>\n",
       "      <th>NUPSOURC</th>\n",
       "      <th>NP1COG</th>\n",
       "      <th>NP1HALL</th>\n",
       "      <th>NP1DPRS</th>\n",
       "      <th>NP1ANXS</th>\n",
       "      <th>NP1APAT</th>\n",
       "      <th>NP1DDS</th>\n",
       "      <th>ORIG_ENTRY</th>\n",
       "      <th>LAST_UPDATE</th>\n",
       "      <th>QUERY</th>\n",
       "      <th>SITE_APRV</th>\n",
       "      <th>INFODT_date</th>\n",
       "      <th>sum_feat</th>\n",
       "    </tr>\n",
       "  </thead>\n",
       "  <tbody>\n",
       "    <tr>\n",
       "      <th>0</th>\n",
       "      <td>231798601</td>\n",
       "      <td>V</td>\n",
       "      <td>3402</td>\n",
       "      <td>SC</td>\n",
       "      <td>NUPDRS1</td>\n",
       "      <td>07/2010</td>\n",
       "      <td>1.0</td>\n",
       "      <td>0.0</td>\n",
       "      <td>0.0</td>\n",
       "      <td>1.0</td>\n",
       "      <td>0.0</td>\n",
       "      <td>2.0</td>\n",
       "      <td>0.0</td>\n",
       "      <td>07/2010</td>\n",
       "      <td>2010-07-09 12:00:30.0</td>\n",
       "      <td>NaN</td>\n",
       "      <td>07/2010</td>\n",
       "      <td>2010-07-01</td>\n",
       "      <td>3.0</td>\n",
       "    </tr>\n",
       "    <tr>\n",
       "      <th>1</th>\n",
       "      <td>233164301</td>\n",
       "      <td>V</td>\n",
       "      <td>3400</td>\n",
       "      <td>BL</td>\n",
       "      <td>NUPDRS1</td>\n",
       "      <td>07/2010</td>\n",
       "      <td>1.0</td>\n",
       "      <td>0.0</td>\n",
       "      <td>0.0</td>\n",
       "      <td>2.0</td>\n",
       "      <td>3.0</td>\n",
       "      <td>2.0</td>\n",
       "      <td>0.0</td>\n",
       "      <td>07/2010</td>\n",
       "      <td>2010-07-15 17:04:33.0</td>\n",
       "      <td>NaN</td>\n",
       "      <td>07/2010</td>\n",
       "      <td>2010-07-01</td>\n",
       "      <td>7.0</td>\n",
       "    </tr>\n",
       "    <tr>\n",
       "      <th>2</th>\n",
       "      <td>230955201</td>\n",
       "      <td>V</td>\n",
       "      <td>3403</td>\n",
       "      <td>SC</td>\n",
       "      <td>NUPDRS1</td>\n",
       "      <td>07/2010</td>\n",
       "      <td>1.0</td>\n",
       "      <td>0.0</td>\n",
       "      <td>0.0</td>\n",
       "      <td>0.0</td>\n",
       "      <td>0.0</td>\n",
       "      <td>0.0</td>\n",
       "      <td>0.0</td>\n",
       "      <td>07/2010</td>\n",
       "      <td>2010-07-06 13:03:54.0</td>\n",
       "      <td>NaN</td>\n",
       "      <td>07/2010</td>\n",
       "      <td>2010-07-01</td>\n",
       "      <td>0.0</td>\n",
       "    </tr>\n",
       "    <tr>\n",
       "      <th>3</th>\n",
       "      <td>234837501</td>\n",
       "      <td>V</td>\n",
       "      <td>3404</td>\n",
       "      <td>BL</td>\n",
       "      <td>NUPDRS1</td>\n",
       "      <td>07/2010</td>\n",
       "      <td>1.0</td>\n",
       "      <td>0.0</td>\n",
       "      <td>0.0</td>\n",
       "      <td>0.0</td>\n",
       "      <td>0.0</td>\n",
       "      <td>0.0</td>\n",
       "      <td>0.0</td>\n",
       "      <td>07/2010</td>\n",
       "      <td>2010-07-23 11:30:12.0</td>\n",
       "      <td>NaN</td>\n",
       "      <td>07/2010</td>\n",
       "      <td>2010-07-01</td>\n",
       "      <td>0.0</td>\n",
       "    </tr>\n",
       "    <tr>\n",
       "      <th>4</th>\n",
       "      <td>232712901</td>\n",
       "      <td>V</td>\n",
       "      <td>3406</td>\n",
       "      <td>SC</td>\n",
       "      <td>NUPDRS1</td>\n",
       "      <td>07/2010</td>\n",
       "      <td>1.0</td>\n",
       "      <td>0.0</td>\n",
       "      <td>0.0</td>\n",
       "      <td>0.0</td>\n",
       "      <td>1.0</td>\n",
       "      <td>1.0</td>\n",
       "      <td>0.0</td>\n",
       "      <td>07/2010</td>\n",
       "      <td>2010-07-14 08:54:29.0</td>\n",
       "      <td>NaN</td>\n",
       "      <td>07/2010</td>\n",
       "      <td>2010-07-01</td>\n",
       "      <td>2.0</td>\n",
       "    </tr>\n",
       "  </tbody>\n",
       "</table>\n",
       "</div>"
      ],
      "text/plain": [
       "      REC_ID F_STATUS  PATNO EVENT_ID PAG_NAME   INFODT  NUPSOURC  NP1COG  \\\n",
       "0  231798601        V   3402       SC  NUPDRS1  07/2010       1.0     0.0   \n",
       "1  233164301        V   3400       BL  NUPDRS1  07/2010       1.0     0.0   \n",
       "2  230955201        V   3403       SC  NUPDRS1  07/2010       1.0     0.0   \n",
       "3  234837501        V   3404       BL  NUPDRS1  07/2010       1.0     0.0   \n",
       "4  232712901        V   3406       SC  NUPDRS1  07/2010       1.0     0.0   \n",
       "\n",
       "   NP1HALL  NP1DPRS  NP1ANXS  NP1APAT  NP1DDS ORIG_ENTRY  \\\n",
       "0      0.0      1.0      0.0      2.0     0.0    07/2010   \n",
       "1      0.0      2.0      3.0      2.0     0.0    07/2010   \n",
       "2      0.0      0.0      0.0      0.0     0.0    07/2010   \n",
       "3      0.0      0.0      0.0      0.0     0.0    07/2010   \n",
       "4      0.0      0.0      1.0      1.0     0.0    07/2010   \n",
       "\n",
       "             LAST_UPDATE QUERY SITE_APRV INFODT_date  sum_feat  \n",
       "0  2010-07-09 12:00:30.0   NaN   07/2010  2010-07-01       3.0  \n",
       "1  2010-07-15 17:04:33.0   NaN   07/2010  2010-07-01       7.0  \n",
       "2  2010-07-06 13:03:54.0   NaN   07/2010  2010-07-01       0.0  \n",
       "3  2010-07-23 11:30:12.0   NaN   07/2010  2010-07-01       0.0  \n",
       "4  2010-07-14 08:54:29.0   NaN   07/2010  2010-07-01       2.0  "
      ]
     },
     "execution_count": 35,
     "metadata": {},
     "output_type": "execute_result"
    }
   ],
   "source": [
    "folder_path='/Users/alicemartin/02_DSR_Project/parkinson-disease-project/data/PPMI-final-dataset-382018/6-Motor-Assessments/'\n",
    "files_names=reading_csv_files(folder_path)[1]\n",
    "dict_files=reading_csv_files(folder_path)[2]\n",
    "\n",
    "### 'MDS_UPDRS_Part_I.csv' - 2010 patients\n",
    "NUPDRS1=dict_files[files_names[2]]\n",
    "print(number_of_patients(NUPDRS1))\n",
    "NUPDRS1=INFODT_date(NUPDRS1)\n",
    "NUPDRS1.columns\n",
    "NUPDRS1['sum_feat']=NUPDRS1[['NP1COG', 'NP1HALL', 'NP1DPRS', 'NP1ANXS', 'NP1APAT',\n",
    "       'NP1DDS']].sum(axis=1)\n",
    "NUPDRS1.head()"
   ]
  },
  {
   "cell_type": "code",
   "execution_count": 29,
   "metadata": {},
   "outputs": [
    {
     "name": "stdout",
     "output_type": "stream",
     "text": [
      "(2010, 20)\n"
     ]
    },
    {
     "data": {
      "text/html": [
       "<div>\n",
       "<style scoped>\n",
       "    .dataframe tbody tr th:only-of-type {\n",
       "        vertical-align: middle;\n",
       "    }\n",
       "\n",
       "    .dataframe tbody tr th {\n",
       "        vertical-align: top;\n",
       "    }\n",
       "\n",
       "    .dataframe thead th {\n",
       "        text-align: right;\n",
       "    }\n",
       "</style>\n",
       "<table border=\"1\" class=\"dataframe\">\n",
       "  <thead>\n",
       "    <tr style=\"text-align: right;\">\n",
       "      <th></th>\n",
       "      <th>REC_ID</th>\n",
       "      <th>F_STATUS</th>\n",
       "      <th>PATNO</th>\n",
       "      <th>EVENT_ID</th>\n",
       "      <th>PAG_NAME</th>\n",
       "      <th>INFODT</th>\n",
       "      <th>CMEDTM</th>\n",
       "      <th>EXAMTM</th>\n",
       "      <th>NP3SPCH</th>\n",
       "      <th>NP3FACXP</th>\n",
       "      <th>...</th>\n",
       "      <th>DYSKPRES</th>\n",
       "      <th>DYSKIRAT</th>\n",
       "      <th>NHY</th>\n",
       "      <th>ANNUAL_TIME_BTW_DOSE_NUPDRS</th>\n",
       "      <th>ON_OFF_DOSE</th>\n",
       "      <th>PD_MED_USE</th>\n",
       "      <th>ORIG_ENTRY</th>\n",
       "      <th>LAST_UPDATE</th>\n",
       "      <th>QUERY</th>\n",
       "      <th>SITE_APRV</th>\n",
       "    </tr>\n",
       "  </thead>\n",
       "  <tbody>\n",
       "    <tr>\n",
       "      <th>0</th>\n",
       "      <td>324141901</td>\n",
       "      <td>V</td>\n",
       "      <td>3506</td>\n",
       "      <td>V03</td>\n",
       "      <td>NUPDRS3</td>\n",
       "      <td>10/2011</td>\n",
       "      <td>NaN</td>\n",
       "      <td>NaN</td>\n",
       "      <td>1.0</td>\n",
       "      <td>1.0</td>\n",
       "      <td>...</td>\n",
       "      <td>0.0</td>\n",
       "      <td>NaN</td>\n",
       "      <td>1.0</td>\n",
       "      <td>NaN</td>\n",
       "      <td>NaN</td>\n",
       "      <td>0</td>\n",
       "      <td>12/2011</td>\n",
       "      <td>2011-12-05 19:23:15.0</td>\n",
       "      <td>NaN</td>\n",
       "      <td>12/2011</td>\n",
       "    </tr>\n",
       "    <tr>\n",
       "      <th>1</th>\n",
       "      <td>324180301</td>\n",
       "      <td>V</td>\n",
       "      <td>3419</td>\n",
       "      <td>V02</td>\n",
       "      <td>NUPDRS3</td>\n",
       "      <td>12/2011</td>\n",
       "      <td>NaN</td>\n",
       "      <td>NaN</td>\n",
       "      <td>0.0</td>\n",
       "      <td>0.0</td>\n",
       "      <td>...</td>\n",
       "      <td>0.0</td>\n",
       "      <td>NaN</td>\n",
       "      <td>1.0</td>\n",
       "      <td>NaN</td>\n",
       "      <td>NaN</td>\n",
       "      <td>0</td>\n",
       "      <td>12/2011</td>\n",
       "      <td>2011-12-06 07:25:10.0</td>\n",
       "      <td>NaN</td>\n",
       "      <td>12/2011</td>\n",
       "    </tr>\n",
       "    <tr>\n",
       "      <th>2</th>\n",
       "      <td>324389901</td>\n",
       "      <td>V</td>\n",
       "      <td>3816</td>\n",
       "      <td>BL</td>\n",
       "      <td>NUPDRS3</td>\n",
       "      <td>12/2011</td>\n",
       "      <td>NaN</td>\n",
       "      <td>NaN</td>\n",
       "      <td>0.0</td>\n",
       "      <td>0.0</td>\n",
       "      <td>...</td>\n",
       "      <td>0.0</td>\n",
       "      <td>NaN</td>\n",
       "      <td>0.0</td>\n",
       "      <td>NaN</td>\n",
       "      <td>NaN</td>\n",
       "      <td>0</td>\n",
       "      <td>12/2011</td>\n",
       "      <td>2011-12-07 02:10:18.0</td>\n",
       "      <td>NaN</td>\n",
       "      <td>12/2011</td>\n",
       "    </tr>\n",
       "    <tr>\n",
       "      <th>3</th>\n",
       "      <td>324396501</td>\n",
       "      <td>V</td>\n",
       "      <td>3762</td>\n",
       "      <td>BL</td>\n",
       "      <td>NUPDRS3</td>\n",
       "      <td>11/2011</td>\n",
       "      <td>NaN</td>\n",
       "      <td>NaN</td>\n",
       "      <td>0.0</td>\n",
       "      <td>1.0</td>\n",
       "      <td>...</td>\n",
       "      <td>1.0</td>\n",
       "      <td>1.0</td>\n",
       "      <td>2.0</td>\n",
       "      <td>NaN</td>\n",
       "      <td>NaN</td>\n",
       "      <td>0</td>\n",
       "      <td>12/2011</td>\n",
       "      <td>2011-12-07 02:34:41.0</td>\n",
       "      <td>NaN</td>\n",
       "      <td>12/2011</td>\n",
       "    </tr>\n",
       "    <tr>\n",
       "      <th>4</th>\n",
       "      <td>324399901</td>\n",
       "      <td>V</td>\n",
       "      <td>3765</td>\n",
       "      <td>BL</td>\n",
       "      <td>NUPDRS3</td>\n",
       "      <td>11/2011</td>\n",
       "      <td>NaN</td>\n",
       "      <td>NaN</td>\n",
       "      <td>0.0</td>\n",
       "      <td>0.0</td>\n",
       "      <td>...</td>\n",
       "      <td>0.0</td>\n",
       "      <td>NaN</td>\n",
       "      <td>0.0</td>\n",
       "      <td>NaN</td>\n",
       "      <td>NaN</td>\n",
       "      <td>0</td>\n",
       "      <td>12/2011</td>\n",
       "      <td>2011-12-07 02:47:42.0</td>\n",
       "      <td>NaN</td>\n",
       "      <td>12/2011</td>\n",
       "    </tr>\n",
       "  </tbody>\n",
       "</table>\n",
       "<p>5 rows × 51 columns</p>\n",
       "</div>"
      ],
      "text/plain": [
       "      REC_ID F_STATUS  PATNO EVENT_ID PAG_NAME   INFODT CMEDTM EXAMTM  \\\n",
       "0  324141901        V   3506      V03  NUPDRS3  10/2011    NaN    NaN   \n",
       "1  324180301        V   3419      V02  NUPDRS3  12/2011    NaN    NaN   \n",
       "2  324389901        V   3816       BL  NUPDRS3  12/2011    NaN    NaN   \n",
       "3  324396501        V   3762       BL  NUPDRS3  11/2011    NaN    NaN   \n",
       "4  324399901        V   3765       BL  NUPDRS3  11/2011    NaN    NaN   \n",
       "\n",
       "   NP3SPCH  NP3FACXP    ...      DYSKPRES  DYSKIRAT  NHY  \\\n",
       "0      1.0       1.0    ...           0.0       NaN  1.0   \n",
       "1      0.0       0.0    ...           0.0       NaN  1.0   \n",
       "2      0.0       0.0    ...           0.0       NaN  0.0   \n",
       "3      0.0       1.0    ...           1.0       1.0  2.0   \n",
       "4      0.0       0.0    ...           0.0       NaN  0.0   \n",
       "\n",
       "   ANNUAL_TIME_BTW_DOSE_NUPDRS  ON_OFF_DOSE  PD_MED_USE  ORIG_ENTRY  \\\n",
       "0                          NaN          NaN           0     12/2011   \n",
       "1                          NaN          NaN           0     12/2011   \n",
       "2                          NaN          NaN           0     12/2011   \n",
       "3                          NaN          NaN           0     12/2011   \n",
       "4                          NaN          NaN           0     12/2011   \n",
       "\n",
       "             LAST_UPDATE  QUERY  SITE_APRV  \n",
       "0  2011-12-05 19:23:15.0    NaN    12/2011  \n",
       "1  2011-12-06 07:25:10.0    NaN    12/2011  \n",
       "2  2011-12-07 02:10:18.0    NaN    12/2011  \n",
       "3  2011-12-07 02:34:41.0    NaN    12/2011  \n",
       "4  2011-12-07 02:47:42.0    NaN    12/2011  \n",
       "\n",
       "[5 rows x 51 columns]"
      ]
     },
     "execution_count": 29,
     "metadata": {},
     "output_type": "execute_result"
    }
   ],
   "source": [
    "### 'MDS_UPDRS_Part_III.csv' - 2010 patients\n",
    "NUPDRS3=dict_files[files_names[7]]\n",
    "print(number_of_patients(NUPDRS3))\n",
    "NUPDRS3.head()"
   ]
  },
  {
   "cell_type": "code",
   "execution_count": 30,
   "metadata": {},
   "outputs": [
    {
     "name": "stdout",
     "output_type": "stream",
     "text": [
      "(2010, 20)\n"
     ]
    },
    {
     "ename": "KeyError",
     "evalue": "\"['MSRARSP' 'MSRACM' 'MSLARSP' 'MSLACM' 'MSRLRSP' 'MSRLCM' 'MSLLRSP'\\n 'MSLLCM' 'COFNRRSP' 'COFNRCM' 'COFNLRSP' 'COFNLCM' 'COHSRRSP' 'COHSRCM'\\n 'COHSLRSP' 'COHSLCM' 'SENRARSP' 'SENRACM' 'SENLARSP' 'SENLACM' 'SENRLRSP'\\n 'SENRLCM' 'SENLLRSP' 'SENLLCM' 'RFLRARSP' 'RFLRACM' 'RFLLARSP' 'RFLLACM'\\n 'RFLRLRSP' 'RFLRLCM' 'RFLLLRSP' 'RFLLLCM' 'PLRRRSP' 'PLRRCM' 'PLRLRSP'\\n 'PLRLCM'] not in index\"",
     "output_type": "error",
     "traceback": [
      "\u001b[0;31m---------------------------------------------------------------------------\u001b[0m",
      "\u001b[0;31mKeyError\u001b[0m                                  Traceback (most recent call last)",
      "\u001b[0;32m<ipython-input-30-6ad43db0cb14>\u001b[0m in \u001b[0;36m<module>\u001b[0;34m()\u001b[0m\n\u001b[1;32m      9\u001b[0m        'RFLLLRSP', 'RFLLLCM', 'PLRRRSP', 'PLRRCM', 'PLRLRSP', 'PLRLCM']\n\u001b[1;32m     10\u001b[0m \u001b[0mprint\u001b[0m\u001b[0;34m(\u001b[0m\u001b[0mnumber_of_patients\u001b[0m\u001b[0;34m(\u001b[0m\u001b[0mPENEURO\u001b[0m\u001b[0;34m)\u001b[0m\u001b[0;34m)\u001b[0m\u001b[0;34m\u001b[0m\u001b[0m\n\u001b[0;32m---> 11\u001b[0;31m \u001b[0mPENEURO_sel\u001b[0m\u001b[0;34m=\u001b[0m\u001b[0mPENEURO\u001b[0m\u001b[0;34m[\u001b[0m\u001b[0mSEL\u001b[0m\u001b[0;34m]\u001b[0m\u001b[0;34m\u001b[0m\u001b[0m\n\u001b[0m\u001b[1;32m     12\u001b[0m \u001b[0mPENEURO_sel\u001b[0m\u001b[0;34m.\u001b[0m\u001b[0mhead\u001b[0m\u001b[0;34m(\u001b[0m\u001b[0;34m)\u001b[0m\u001b[0;34m\u001b[0m\u001b[0m\n\u001b[1;32m     13\u001b[0m \u001b[0;31m#list(set(PENEURO['EVENT_ID']))\u001b[0m\u001b[0;34m\u001b[0m\u001b[0;34m\u001b[0m\u001b[0m\n",
      "\u001b[0;32m/anaconda3/lib/python3.6/site-packages/pandas/core/frame.py\u001b[0m in \u001b[0;36m__getitem__\u001b[0;34m(self, key)\u001b[0m\n\u001b[1;32m   2677\u001b[0m         \u001b[0;32mif\u001b[0m \u001b[0misinstance\u001b[0m\u001b[0;34m(\u001b[0m\u001b[0mkey\u001b[0m\u001b[0;34m,\u001b[0m \u001b[0;34m(\u001b[0m\u001b[0mSeries\u001b[0m\u001b[0;34m,\u001b[0m \u001b[0mnp\u001b[0m\u001b[0;34m.\u001b[0m\u001b[0mndarray\u001b[0m\u001b[0;34m,\u001b[0m \u001b[0mIndex\u001b[0m\u001b[0;34m,\u001b[0m \u001b[0mlist\u001b[0m\u001b[0;34m)\u001b[0m\u001b[0;34m)\u001b[0m\u001b[0;34m:\u001b[0m\u001b[0;34m\u001b[0m\u001b[0m\n\u001b[1;32m   2678\u001b[0m             \u001b[0;31m# either boolean or fancy integer index\u001b[0m\u001b[0;34m\u001b[0m\u001b[0;34m\u001b[0m\u001b[0m\n\u001b[0;32m-> 2679\u001b[0;31m             \u001b[0;32mreturn\u001b[0m \u001b[0mself\u001b[0m\u001b[0;34m.\u001b[0m\u001b[0m_getitem_array\u001b[0m\u001b[0;34m(\u001b[0m\u001b[0mkey\u001b[0m\u001b[0;34m)\u001b[0m\u001b[0;34m\u001b[0m\u001b[0m\n\u001b[0m\u001b[1;32m   2680\u001b[0m         \u001b[0;32melif\u001b[0m \u001b[0misinstance\u001b[0m\u001b[0;34m(\u001b[0m\u001b[0mkey\u001b[0m\u001b[0;34m,\u001b[0m \u001b[0mDataFrame\u001b[0m\u001b[0;34m)\u001b[0m\u001b[0;34m:\u001b[0m\u001b[0;34m\u001b[0m\u001b[0m\n\u001b[1;32m   2681\u001b[0m             \u001b[0;32mreturn\u001b[0m \u001b[0mself\u001b[0m\u001b[0;34m.\u001b[0m\u001b[0m_getitem_frame\u001b[0m\u001b[0;34m(\u001b[0m\u001b[0mkey\u001b[0m\u001b[0;34m)\u001b[0m\u001b[0;34m\u001b[0m\u001b[0m\n",
      "\u001b[0;32m/anaconda3/lib/python3.6/site-packages/pandas/core/frame.py\u001b[0m in \u001b[0;36m_getitem_array\u001b[0;34m(self, key)\u001b[0m\n\u001b[1;32m   2721\u001b[0m             \u001b[0;32mreturn\u001b[0m \u001b[0mself\u001b[0m\u001b[0;34m.\u001b[0m\u001b[0m_take\u001b[0m\u001b[0;34m(\u001b[0m\u001b[0mindexer\u001b[0m\u001b[0;34m,\u001b[0m \u001b[0maxis\u001b[0m\u001b[0;34m=\u001b[0m\u001b[0;36m0\u001b[0m\u001b[0;34m)\u001b[0m\u001b[0;34m\u001b[0m\u001b[0m\n\u001b[1;32m   2722\u001b[0m         \u001b[0;32melse\u001b[0m\u001b[0;34m:\u001b[0m\u001b[0;34m\u001b[0m\u001b[0m\n\u001b[0;32m-> 2723\u001b[0;31m             \u001b[0mindexer\u001b[0m \u001b[0;34m=\u001b[0m \u001b[0mself\u001b[0m\u001b[0;34m.\u001b[0m\u001b[0mloc\u001b[0m\u001b[0;34m.\u001b[0m\u001b[0m_convert_to_indexer\u001b[0m\u001b[0;34m(\u001b[0m\u001b[0mkey\u001b[0m\u001b[0;34m,\u001b[0m \u001b[0maxis\u001b[0m\u001b[0;34m=\u001b[0m\u001b[0;36m1\u001b[0m\u001b[0;34m)\u001b[0m\u001b[0;34m\u001b[0m\u001b[0m\n\u001b[0m\u001b[1;32m   2724\u001b[0m             \u001b[0;32mreturn\u001b[0m \u001b[0mself\u001b[0m\u001b[0;34m.\u001b[0m\u001b[0m_take\u001b[0m\u001b[0;34m(\u001b[0m\u001b[0mindexer\u001b[0m\u001b[0;34m,\u001b[0m \u001b[0maxis\u001b[0m\u001b[0;34m=\u001b[0m\u001b[0;36m1\u001b[0m\u001b[0;34m)\u001b[0m\u001b[0;34m\u001b[0m\u001b[0m\n\u001b[1;32m   2725\u001b[0m \u001b[0;34m\u001b[0m\u001b[0m\n",
      "\u001b[0;32m/anaconda3/lib/python3.6/site-packages/pandas/core/indexing.py\u001b[0m in \u001b[0;36m_convert_to_indexer\u001b[0;34m(self, obj, axis, is_setter)\u001b[0m\n\u001b[1;32m   1325\u001b[0m                 \u001b[0;32mif\u001b[0m \u001b[0mmask\u001b[0m\u001b[0;34m.\u001b[0m\u001b[0many\u001b[0m\u001b[0;34m(\u001b[0m\u001b[0;34m)\u001b[0m\u001b[0;34m:\u001b[0m\u001b[0;34m\u001b[0m\u001b[0m\n\u001b[1;32m   1326\u001b[0m                     raise KeyError('{mask} not in index'\n\u001b[0;32m-> 1327\u001b[0;31m                                    .format(mask=objarr[mask]))\n\u001b[0m\u001b[1;32m   1328\u001b[0m \u001b[0;34m\u001b[0m\u001b[0m\n\u001b[1;32m   1329\u001b[0m                 \u001b[0;32mreturn\u001b[0m \u001b[0mcom\u001b[0m\u001b[0;34m.\u001b[0m\u001b[0m_values_from_object\u001b[0m\u001b[0;34m(\u001b[0m\u001b[0mindexer\u001b[0m\u001b[0;34m)\u001b[0m\u001b[0;34m\u001b[0m\u001b[0m\n",
      "\u001b[0;31mKeyError\u001b[0m: \"['MSRARSP' 'MSRACM' 'MSLARSP' 'MSLACM' 'MSRLRSP' 'MSRLCM' 'MSLLRSP'\\n 'MSLLCM' 'COFNRRSP' 'COFNRCM' 'COFNLRSP' 'COFNLCM' 'COHSRRSP' 'COHSRCM'\\n 'COHSLRSP' 'COHSLCM' 'SENRARSP' 'SENRACM' 'SENLARSP' 'SENLACM' 'SENRLRSP'\\n 'SENRLCM' 'SENLLRSP' 'SENLLCM' 'RFLRARSP' 'RFLRACM' 'RFLLARSP' 'RFLLACM'\\n 'RFLRLRSP' 'RFLRLCM' 'RFLLLRSP' 'RFLLLCM' 'PLRRRSP' 'PLRRCM' 'PLRLRSP'\\n 'PLRLCM'] not in index\""
     ]
    }
   ],
   "source": [
    "### 'General_Neurological_Exam.csv': useful: Feat-Gen - 2048 patients\n",
    "PENEURO=dict_files[files_names[7]]\n",
    "SEL=['REC_ID', 'PATNO', 'EVENT_ID', 'PAG_NAME', 'INFODT',\n",
    "       'MSRARSP', 'MSRACM', 'MSLARSP', 'MSLACM', 'MSRLRSP', 'MSRLCM',\n",
    "       'MSLLRSP', 'MSLLCM', 'COFNRRSP', 'COFNRCM', 'COFNLRSP', 'COFNLCM',\n",
    "       'COHSRRSP', 'COHSRCM', 'COHSLRSP', 'COHSLCM', 'SENRARSP', 'SENRACM',\n",
    "       'SENLARSP', 'SENLACM', 'SENRLRSP', 'SENRLCM', 'SENLLRSP', 'SENLLCM',\n",
    "       'RFLRARSP', 'RFLRACM', 'RFLLARSP', 'RFLLACM', 'RFLRLRSP', 'RFLRLCM',\n",
    "       'RFLLLRSP', 'RFLLLCM', 'PLRRRSP', 'PLRRCM', 'PLRLRSP', 'PLRLCM']\n",
    "print(number_of_patients(PENEURO))\n",
    "PENEURO_sel=PENEURO[SEL]\n",
    "PENEURO_sel.head()\n",
    "#list(set(PENEURO['EVENT_ID']))\n",
    "\n",
    "### 'Neurological_Exam_-_Cranial_Nerves.csv': useful: Feat-PD - 2049 patients\n",
    "\n",
    "PENEURO2=dict_files[files_names[13]]\n",
    "PENEURO2.head()\n",
    "PENEURO2.columns\n",
    "\n",
    "SEL=['REC_ID', 'PATNO', 'EVENT_ID', 'PAG_NAME', 'INFODT',\n",
    "       'CN1RSP','CN2RSP', 'CN346RSP','CN5RSP',\n",
    "     'CN7RSP', 'CN8RSP', 'CN910RSP',\n",
    "       'CN11RSP', 'CN12RSP']\n",
    "print(number_of_patients(PENEURO2))\n",
    "PENEURO2_sel=PENEURO2[SEL]\n",
    "PENEURO2_sel.head()\n",
    "#list(set(PENEURO['EVENT_ID']))"
   ]
  },
  {
   "cell_type": "code",
   "execution_count": null,
   "metadata": {},
   "outputs": [],
   "source": [
    "### 'Vital_Signs.csv': useful: Feat-Gen\n",
    "### 2047 patients\n",
    "\n",
    "VITAL=dict_files[files_names[15]]\n",
    "#VITAL.head()\n",
    "#VITAL.columns\n",
    "\n",
    "SEL=['REC_ID', 'PATNO', 'EVENT_ID', 'PAG_NAME', 'INFODT',\n",
    "       'WGTKG', 'HTCM', 'TEMPC', 'SYSSUP', 'DIASUP', 'HRSUP',\n",
    "       'SYSSTND', 'DIASTND', 'HRSTND']\n",
    "print(number_of_patients(VITAL))\n",
    "VITAL_sel=VITAL[SEL]\n",
    "VITAL_sel.head()"
   ]
  },
  {
   "cell_type": "markdown",
   "metadata": {},
   "source": [
    "### Plotly code bugging: understand why."
   ]
  },
  {
   "cell_type": "markdown",
   "metadata": {},
   "source": [
    "#plotting with plotly \n",
    "import plotly as py\n",
    "py.offline.init_notebook_mode(connected=True)\n",
    "import plotly.graph_objs as go\n",
    "\n",
    "#Traces\n",
    "data=[]\n",
    "for i in patients_sample: \n",
    "    sub_df=diagfeat_EADL.loc[diagfeat_EADL['PATNO']==i,:]\n",
    "    sub_df['INFODT_date']=sub_df['INFODT'].apply(lambda x: datetime.strptime(x,'%m/%Y'))\n",
    "    #print(len(sub_df))\n",
    "    sub_df.dropna(inplace=True)\n",
    "    #trace=dict(type='scatter',x=sub_df['INFODT'],\n",
    "              # y=sub_df['MSEADLG'],\n",
    "              # name='PATNO{}'.format(i))\n",
    "    trace=go.Scatter(x=sub_df['INFODT_date'],y=sub_df['MSEADLG'],name='PATNO{}'.format(i))\n",
    "    data.append(trace)\n",
    "#Figure\n",
    "#fig=go.Figure(data)"
   ]
  }
 ],
 "metadata": {
  "kernelspec": {
   "display_name": "Python 3",
   "language": "python",
   "name": "python3"
  },
  "language_info": {
   "codemirror_mode": {
    "name": "ipython",
    "version": 3
   },
   "file_extension": ".py",
   "mimetype": "text/x-python",
   "name": "python",
   "nbconvert_exporter": "python",
   "pygments_lexer": "ipython3",
   "version": "3.6.4"
  }
 },
 "nbformat": 4,
 "nbformat_minor": 2
}
