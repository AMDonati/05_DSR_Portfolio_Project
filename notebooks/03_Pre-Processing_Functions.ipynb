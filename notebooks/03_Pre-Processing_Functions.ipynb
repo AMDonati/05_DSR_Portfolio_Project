{
 "cells": [
  {
   "cell_type": "code",
   "execution_count": 1,
   "metadata": {},
   "outputs": [],
   "source": [
    "def reading_csv_files(folder_path):\n",
    "    # saving all the csv files in a dataframe\n",
    "    import os\n",
    "    import glob\n",
    "    # glob.glob('*.csv') #find all the csv files in a pathname. \n",
    "    os.chdir(folder_path)\n",
    "    csv_files = [i for i in glob.glob('*.csv')]\n",
    "\n",
    "    # Reading each csv file and storing them in a dictionnary containing the file name and the dataframe\n",
    "    dict_files={}\n",
    "    files_names=[]\n",
    "    for files in csv_files:\n",
    "        df=pd.read_csv(files,engine='python')\n",
    "        basepath, filename=ntpath.split(files)\n",
    "        files_names.append(filename)\n",
    "        dict_files[filename]=df\n",
    "\n",
    "    # Calculating the # of rows and features for each dataframe and storing them in a list of tuples\n",
    "    shape_df=[]\n",
    "    for i in range(0,len(dict_files.keys())):\n",
    "        nrows, ncols=(len(dict_files[files_names[i]]),len(dict_files[files_names[i]].columns))\n",
    "        shape_df.append((nrows,ncols))\n",
    "\n",
    "    return (shape_df,files_names,dict_files)"
   ]
  },
  {
   "cell_type": "code",
   "execution_count": 2,
   "metadata": {},
   "outputs": [],
   "source": [
    "def number_of_patients(df):\n",
    "    '''return the number of patients in each csv files'''\n",
    "    if 'PATNO' in df.columns:\n",
    "        patients=len(list(set(df['PATNO'])))\n",
    "    else: \n",
    "        patients=0\n",
    "    return patients"
   ]
  },
  {
   "cell_type": "code",
   "execution_count": 3,
   "metadata": {},
   "outputs": [],
   "source": [
    "def number_of_events(df): \n",
    "    '''return the number of events covered by each csv file'''\n",
    "    if 'EVENT_ID' in df.columns:\n",
    "        events=len(list(set(df['EVENT_ID'])))\n",
    "    else: \n",
    "        events=0\n",
    "    return events"
   ]
  },
  {
   "cell_type": "code",
   "execution_count": 4,
   "metadata": {},
   "outputs": [],
   "source": [
    "def features_selection(list_df_sel):\n",
    "    '''do features selection for each df,sel in list_df_sel'''\n",
    "    return df_sel"
   ]
  },
  {
   "cell_type": "code",
   "execution_count": 5,
   "metadata": {},
   "outputs": [],
   "source": [
    "def PD_patients_selection(df):\n",
    "    folder_path='/Users/alicemartin/02_DSR_Project/parkinson-disease-project/data/PPMI-final-dataset-382018/1-Subject-Characteristics/'\n",
    "    files_names=reading_csv_files(folder_path)[1]\n",
    "    dict_files=reading_csv_files(folder_path)[2]\n",
    "\n",
    "    ### Patient_Status - actually useful for selecting only the PD patients in each table\n",
    "    PRODROMA=dict_files[files_names[0]]\n",
    "    PD_cat=['PD','REGPD','GENPD']\n",
    "    PD_patients=list(PRODROMA.loc[PRODROMA['RECRUITMENT_CAT'].isin(PD_cat),'PATNO'])\n",
    "    sub_df=df.loc[df['PATNO'].isin(PD_patients),:]\n",
    "    return (PD_patients,sub_df)"
   ]
  },
  {
   "cell_type": "code",
   "execution_count": 6,
   "metadata": {},
   "outputs": [],
   "source": [
    "def INFODT_date(df):\n",
    "    if 'INFODT' in df.columns: \n",
    "        df['INFODT_date']=df['INFODT'].apply(lambda x: datetime.strptime(x,'%m/%Y'))\n",
    "    return df"
   ]
  },
  {
   "cell_type": "code",
   "execution_count": 7,
   "metadata": {},
   "outputs": [],
   "source": [
    "def table_analysis(list_df,df_names,threshold=6): \n",
    "    '''return a dataframe with: \n",
    "    -as rows: list of df\n",
    "    -as columns: \n",
    "        - total number of observations=rows\n",
    "        - total number of features=columns after features_selection - features_selection function \n",
    "        - number of events\n",
    "        - number of PD patients by using PRODROMA info - number_of_patients function\n",
    "        - number of patients with # of visits > threshold - number_of_patients function\n",
    "        - shape of final df after selections of rows and columns\n",
    "        -number of NaN values in the final df\n",
    "        NB: takes as input the df with features selection. \n",
    "    '''   \n",
    "    # initialisation df\n",
    "    col=['observations_tot','features','events_num','patients_num','patients_sel','len_df_sel','NaN_values']\n",
    "    df_df=pd.DataFrame(columns=col,index=df_names)\n",
    "\n",
    "    # remplissage of dataframe for each row\n",
    "    for i,df in enumerate(list_df): \n",
    "        df_df.iloc[i,:]['observations_tot']=len(df)\n",
    "        df_df.iloc[i,:]['features']=len(df.columns)\n",
    "        df_df.iloc[i,:]['events_num']=number_of_events(df)\n",
    "        df_df.iloc[i,:]['patients_num']=number_of_patients(df)\n",
    "        \n",
    "        if not patients_selection(df)==0:\n",
    "            df=patients_selection(df,threshold=threshold)[1]\n",
    "            #df=PD_patients_selection(df)[1]          \n",
    "            df_df.iloc[i,:]['patients_sel']=len(set(df['PATNO']))\n",
    "        else: \n",
    "            if 'PATNO' in df.columns:\n",
    "                #df=PD_patients_selection(df)[1]\n",
    "                df_df.iloc[i,:]['patients_sel']=len(set(df['PATNO']))\n",
    "            else:\n",
    "                df_df.iloc[i,:]['patients_sel']=0            \n",
    "        df_df.iloc[i,:]['len_df_sel']=len(df)\n",
    "        df_df.iloc[i,:]['NaN_values']=(df.isnull().sum().sum())/(df_df.iloc[i,:]['len_df_sel']*df_df.iloc[i,:]['features'])\n",
    "        \n",
    "    return df_df"
   ]
  },
  {
   "cell_type": "code",
   "execution_count": null,
   "metadata": {},
   "outputs": [],
   "source": []
  }
 ],
 "metadata": {
  "kernelspec": {
   "display_name": "Python 3",
   "language": "python",
   "name": "python3"
  },
  "language_info": {
   "codemirror_mode": {
    "name": "ipython",
    "version": 3
   },
   "file_extension": ".py",
   "mimetype": "text/x-python",
   "name": "python",
   "nbconvert_exporter": "python",
   "pygments_lexer": "ipython3",
   "version": "3.6.4"
  }
 },
 "nbformat": 4,
 "nbformat_minor": 2
}
