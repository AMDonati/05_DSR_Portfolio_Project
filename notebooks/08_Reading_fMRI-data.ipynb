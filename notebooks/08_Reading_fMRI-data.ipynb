{
 "cells": [
  {
   "cell_type": "markdown",
   "metadata": {},
   "source": [
    "Need to read Metadata (xml files)\n",
    "* https://docs.python.org/2/library/xml.etree.elementtree.html\n",
    "* https://www.datacamp.com/community/tutorials/python-xml-elementtree"
   ]
  },
  {
   "cell_type": "markdown",
   "metadata": {},
   "source": [
    "Need to read dcm files: \n",
    "* https://pyscience.wordpress.com/2014/09/08/dicom-in-python-importing-medical-image-data-into-numpy-with-pydicom-and-vtk/\n",
    "* https://medium.com/coinmonks/visualizing-brain-imaging-data-fmri-with-python-e1d0358d9dba"
   ]
  },
  {
   "cell_type": "markdown",
   "metadata": {},
   "source": [
    "Similar Kaggle competitions:\n",
    "* https://www.kaggle.com/c/rsna-pneumonia-detection-challenge/kernels\n",
    "* https://www.kaggle.com/c/data-science-bowl-2017/discussion/28034\n",
    "* https://github.com/booz-allen-hamilton/DSB3Tutorial"
   ]
  },
  {
   "cell_type": "code",
   "execution_count": null,
   "metadata": {},
   "outputs": [],
   "source": []
  }
 ],
 "metadata": {
  "kernelspec": {
   "display_name": "Python [conda env:project]",
   "language": "python",
   "name": "conda-env-project-py"
  },
  "language_info": {
   "codemirror_mode": {
    "name": "ipython",
    "version": 3
   },
   "file_extension": ".py",
   "mimetype": "text/x-python",
   "name": "python",
   "nbconvert_exporter": "python",
   "pygments_lexer": "ipython3",
   "version": "3.5.6"
  }
 },
 "nbformat": 4,
 "nbformat_minor": 2
}
