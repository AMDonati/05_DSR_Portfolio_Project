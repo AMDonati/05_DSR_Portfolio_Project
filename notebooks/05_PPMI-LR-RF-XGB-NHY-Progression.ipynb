{
 "cells": [
  {
   "cell_type": "markdown",
   "metadata": {},
   "source": [
    "## 0. Imports & functions"
   ]
  },
  {
   "cell_type": "code",
   "execution_count": 1,
   "metadata": {},
   "outputs": [
    {
     "name": "stderr",
     "output_type": "stream",
     "text": [
      "/Users/alicemartin/miniconda3/envs/project/lib/python3.5/site-packages/sklearn/ensemble/weight_boosting.py:29: DeprecationWarning: numpy.core.umath_tests is an internal NumPy module and should not be imported. It will be removed in a future NumPy release.\n",
      "  from numpy.core.umath_tests import inner1d\n",
      "/Users/alicemartin/miniconda3/envs/project/lib/python3.5/site-packages/sklearn/cross_validation.py:41: DeprecationWarning: This module was deprecated in version 0.18 in favor of the model_selection module into which all the refactored classes and functions are moved. Also note that the interface of the new CV iterators are different from that of this module. This module will be removed in 0.20.\n",
      "  \"This module will be removed in 0.20.\", DeprecationWarning)\n"
     ]
    }
   ],
   "source": [
    "#imports \n",
    "import numpy as np \n",
    "import pandas as pd \n",
    "import matplotlib.pyplot as plt\n",
    "import random\n",
    "% matplotlib inline\n",
    "\n",
    "import sklearn\n",
    "from sklearn.dummy import DummyRegressor\n",
    "from sklearn.linear_model import LogisticRegression\n",
    "from sklearn.model_selection import train_test_split\n",
    "from sklearn.ensemble import RandomForestClassifier\n",
    "from sklearn.metrics import classification_report\n",
    "from sklearn.metrics import roc_curve\n",
    "import sklearn.cross_validation as cv\n",
    "from sklearn.model_selection import ShuffleSplit\n",
    "from sklearn.model_selection import GridSearchCV\n",
    "from sklearn.model_selection import validation_curve\n",
    "from sklearn.metrics import confusion_matrix\n",
    "\n",
    "\n",
    "import warnings\n",
    "warnings.filterwarnings('ignore')"
   ]
  },
  {
   "cell_type": "markdown",
   "metadata": {},
   "source": [
    "## 1. Data Processing"
   ]
  },
  {
   "cell_type": "code",
   "execution_count": 42,
   "metadata": {},
   "outputs": [
    {
     "name": "stdout",
     "output_type": "stream",
     "text": [
      "samples lost: 671\n",
      "(4113, 376)\n"
     ]
    },
    {
     "data": {
      "text/plain": [
       "6    852\n",
       "7    714\n",
       "2    586\n",
       "3    564\n",
       "5    525\n",
       "4    512\n",
       "8    360\n",
       "Name: num_visits, dtype: int64"
      ]
     },
     "execution_count": 42,
     "metadata": {},
     "output_type": "execute_result"
    }
   ],
   "source": [
    "def patients_selection(df, threshold=6):\n",
    "    '''return a dataframe containing only the patients with number of visits > threshold'''\n",
    "    if 'PATNO' in df.columns: \n",
    "        visits_number_by_pat=df.groupby('PATNO').size().sort_values(ascending=False)\n",
    "        mask_sel=visits_number_by_pat>=threshold\n",
    "        patients_sel=list(mask_sel[mask_sel.values==True].index)\n",
    "        df=df.loc[df['PATNO'].isin(patients_sel),:]\n",
    "        df=df.sort_values('PATNO')\n",
    "        return (patients_sel, df)\n",
    "    else:\n",
    "        return 0\n",
    "\n",
    "file_path='/Users/alicemartin/02_DSR_Project/parkinson-disease-project/output/pre-processing/dfFinal.csv'\n",
    "df2=pd.read_csv(file_path)\n",
    "\n",
    "df_th2=patients_selection(df,threshold=2)[1]\n",
    "print('samples lost: {}'.format((df2.shape[0]-df_th2.shape[0])))\n",
    "print(df_th2.shape)\n",
    "df_th2['num_visits'].value_counts()"
   ]
  },
  {
   "cell_type": "markdown",
   "metadata": {},
   "source": [
    "### padding for patients with visits <4"
   ]
  },
  {
   "cell_type": "code",
   "execution_count": 44,
   "metadata": {},
   "outputs": [
    {
     "name": "stdout",
     "output_type": "stream",
     "text": [
      "(774, 375)\n",
      "(4113, 375)\n",
      "(4887, 375)\n",
      "(293, 188)\n",
      "(4887, 375)\n",
      "(1003, 375)\n",
      "(3884, 373)\n",
      "(1003, 375)\n",
      "(3884,)\n"
     ]
    },
    {
     "data": {
      "text/plain": [
       "[0.0, 1.0, 2.0, 3.0, 4.0, 5.0]"
      ]
     },
     "execution_count": 44,
     "metadata": {},
     "output_type": "execute_result"
    }
   ],
   "source": [
    "# padding rows for num_visits <4 \n",
    "\n",
    "rowstoAdd=df_th2[df_th2['num_visits']==2].groupby('PATNO').median()\n",
    "rowstoAdd['VISIT_ID']=3\n",
    "rowstoAdd['visitsdiff_days']=3*61\n",
    "rowstoAdd['lastDate_diff_days']=rowstoAdd['lastDate_diff_days']-rowstoAdd['visitsdiff_days']\n",
    "rowstoAdd['PDDXDT_diff_days']=rowstoAdd['PDDXDT_diff_days'].where(rowstoAdd['PDDXDT_diff_days']==0,\n",
    "                                                                 rowstoAdd['PDDXDT_diff_days']+rowstoAdd['visitsdiff_days'])\n",
    "maskMED=rowstoAdd['PDMEDT_diff_days']!=0\n",
    "rowstoAdd.loc[maskMED,'PDMEDT_diff_days']=rowstoAdd.loc[maskMED,'PDMEDT_diff_days']+rowstoAdd.loc[maskMED,'visitsdiff_days']\n",
    "maskSURG=rowstoAdd['PDSURGDT_diff_days']!=0\n",
    "rowstoAdd.loc[maskSURG,'PDSURGDT_diff_days']=rowstoAdd.loc[maskSURG,'PDSURGDT_diff_days']+rowstoAdd.loc[maskSURG,'visitsdiff_days']\n",
    "\n",
    "rowstoAdd2=df_th2[df_th2['num_visits']==2].groupby('PATNO').median()\n",
    "rowstoAdd2['VISIT_ID']=4\n",
    "rowstoAdd2['visitsdiff_days']=3*61\n",
    "rowstoAdd2['lastDate_diff_days']=rowstoAdd2['lastDate_diff_days']-rowstoAdd2['visitsdiff_days']\n",
    "rowstoAdd2['PDDXDT_diff_days']=rowstoAdd2['PDDXDT_diff_days'].where(rowstoAdd2['PDDXDT_diff_days']==0,\n",
    "                                                                 rowstoAdd2['PDDXDT_diff_days']+rowstoAdd2['visitsdiff_days'])\n",
    "\n",
    "rowstoAdd2.loc[maskMED,'PDMEDT_diff_days']=rowstoAdd2.loc[maskMED,'PDMEDT_diff_days']+rowstoAdd2.loc[maskMED,'visitsdiff_days']\n",
    "rowstoAdd2.loc[maskSURG,'PDSURGDT_diff_days']=rowstoAdd2.loc[maskSURG,'PDSURGDT_diff_days']+rowstoAdd2.loc[maskSURG,'visitsdiff_days']\n",
    "\n",
    "\n",
    "rows3toAdd=df_th2[df_th2['num_visits']==3].groupby('PATNO').median()\n",
    "rows3toAdd['VISIT_ID']=4\n",
    "rows3toAdd['visitsdiff_days']=3*61\n",
    "rows3toAdd['lastDate_diff_days']=rows3toAdd['lastDate_diff_days']-rows3toAdd['visitsdiff_days']\n",
    "rows3toAdd['PDDXDT_diff_days']=rows3toAdd['PDDXDT_diff_days'].where(rows3toAdd['PDDXDT_diff_days']==0,\n",
    "                                                                 rows3toAdd['PDDXDT_diff_days']+rows3toAdd['visitsdiff_days'])\n",
    "mask3MED=rows3toAdd['PDMEDT_diff_days']!=0\n",
    "rows3toAdd.loc[mask3MED,'PDMEDT_diff_days']=rows3toAdd.loc[mask3MED,'PDMEDT_diff_days']+rows3toAdd.loc[mask3MED,'visitsdiff_days']\n",
    "mask3SURG=rows3toAdd['PDSURGDT_diff_days']!=0\n",
    "rows3toAdd.loc[mask3SURG,'PDSURGDT_diff_days']=rows3toAdd.loc[mask3SURG,'PDSURGDT_diff_days']+rows3toAdd.loc[mask3SURG,'visitsdiff_days']\n",
    "\n",
    "rowspadding=pd.concat([rowstoAdd,rowstoAdd2,rows3toAdd])\n",
    "rowspadding['num_visits']=4\n",
    "rowspadding.reset_index(inplace=True)\n",
    "print(rowspadding.shape)\n",
    "\n",
    "# reformatting final df\n",
    "dfpad_th4=df_th2.drop(columns='INFODT_date')\n",
    "print(dfpad_th4.shape)\n",
    "dfpad_th4=pd.concat([dfpad_th4,rowspadding])\n",
    "print(dfpad_th4.shape)\n",
    "dfpad_th4['num_visits'].replace(2,4,inplace=True)\n",
    "dfpad_th4['num_visits'].replace(3,4,inplace=True)\n",
    "dfpad_th4.reset_index(drop=True,inplace=True)\n",
    "dfpad_th4.head()\n",
    "print((len(rowstoAdd),len(rows3toAdd)))\n",
    "dfpad_th4['NHY']=dfpad_th4['NHY'].apply(lambda x: round(x,0))\n",
    "dfpad_th4.sort_values(['PATNO','VISIT_ID'],inplace=True)\n",
    "print(dfpad_th4.shape)\n",
    "\n",
    "# creating data & target from final df\n",
    "datatoDrop=dfpad_th4[dfpad_th4['num_visits']==dfpad_th4['VISIT_ID']]\n",
    "print(datatoDrop.shape)\n",
    "data_TS=dfpad_th4.drop(index=list(datatoDrop.index),columns=['MSEADLG'])\n",
    "data_TS.set_index(keys=['PATNO'],inplace=True)\n",
    "print(data_TS.shape)\n",
    "\n",
    "targettoDrop=dfpad_th4[dfpad_th4['VISIT_ID']==1]\n",
    "print(targettoDrop.shape)\n",
    "target_TS=dfpad_th4.drop(index=list(targettoDrop.index))\n",
    "target_TS.set_index(keys=['PATNO'],inplace=True)\n",
    "assert len(target_TS)==len(data_TS)\n",
    "assert set(data_TS.index)==set(target_TS.index)\n",
    "target_TS=target_TS['NHY']\n",
    "print(target_TS.shape)\n",
    "list(set(target_TS.values))"
   ]
  },
  {
   "cell_type": "markdown",
   "metadata": {},
   "source": [
    "## Training ML models (Logistic Regression, RandomForest, XGBoost)"
   ]
  },
  {
   "cell_type": "markdown",
   "metadata": {},
   "source": [
    "### custom train/test split for time-series data"
   ]
  },
  {
   "cell_type": "code",
   "execution_count": 45,
   "metadata": {
    "scrolled": true
   },
   "outputs": [
    {
     "name": "stdout",
     "output_type": "stream",
     "text": [
      "201.0\n",
      "(787, 373)\n",
      "(3097, 373)\n",
      "(787,)\n",
      "(3097,)\n"
     ]
    }
   ],
   "source": [
    "print(round(0.2*len(set(data_TS.index)),0))\n",
    "np.random.seed(123)\n",
    "pat_testset=np.random.choice(list(set(data_TS.index)),201,replace=False)\n",
    "X_test=data_TS.loc[pat_testset,:]\n",
    "X_test.head(50)\n",
    "print(X_test.shape)\n",
    "X_train=data_TS.drop(index=pat_testset)\n",
    "print(X_train.shape)\n",
    "y_test=target_TS[pat_testset]\n",
    "print(y_test.shape)\n",
    "assert set(y_test.index)==set(X_test.index)\n",
    "y_train=target_TS.drop(index=pat_testset)\n",
    "print(y_train.shape)\n",
    "assert set(y_train.index)==set(X_train.index)"
   ]
  },
  {
   "cell_type": "markdown",
   "metadata": {},
   "source": [
    "### Models training (Dummy, Logistic Regression, RF, XGBoost)"
   ]
  },
  {
   "cell_type": "code",
   "execution_count": 46,
   "metadata": {},
   "outputs": [
    {
     "name": "stderr",
     "output_type": "stream",
     "text": [
      "/Users/alicemartin/miniconda3/envs/project/lib/python3.5/site-packages/sklearn/utils/optimize.py:203: ConvergenceWarning: newton-cg failed to converge. Increase the number of iterations.\n",
      "  \"number of iterations.\", ConvergenceWarning)\n"
     ]
    },
    {
     "data": {
      "text/plain": [
       "XGBClassifier(base_score=0.5, booster='gbtree', colsample_bylevel=1,\n",
       "       colsample_bytree=1, gamma=0, learning_rate=0.1, max_delta_step=0,\n",
       "       max_depth=3, min_child_weight=1, missing=None, n_estimators=100,\n",
       "       n_jobs=-1, nthread=None, objective='multi:softprob', random_state=0,\n",
       "       reg_alpha=0, reg_lambda=1, scale_pos_weight=1, seed=0, silent=True,\n",
       "       subsample=1)"
      ]
     },
     "execution_count": 46,
     "metadata": {},
     "output_type": "execute_result"
    }
   ],
   "source": [
    "from sklearn.dummy import DummyClassifier\n",
    "dummy=DummyClassifier()\n",
    "dummy.fit(X_train, y_train)\n",
    "\n",
    "#### Logistic Regression\n",
    "from sklearn.linear_model import LogisticRegression\n",
    "logreg_TS = LogisticRegression(multi_class='multinomial',solver='newton-cg',random_state=0,max_iter=500)\n",
    "logreg_TS.fit(X_train, y_train)\n",
    "\n",
    "#### Random Forest\n",
    "rfc_TS = RandomForestClassifier(n_estimators=100, random_state=0,n_jobs=-1)\n",
    "rfc_TS.fit(X_train, y_train)\n",
    "\n",
    "#### XGBoost\n",
    "from xgboost import XGBClassifier\n",
    "xgb_TS = XGBClassifier(n_jobs=-1,seed=0)\n",
    "xgb_TS.fit(X_train, y_train)"
   ]
  },
  {
   "cell_type": "code",
   "execution_count": 47,
   "metadata": {
    "scrolled": true
   },
   "outputs": [
    {
     "name": "stdout",
     "output_type": "stream",
     "text": [
      "Train-Score-dummy: 0.3807, Test-Accuracy-dummy: 0.4193\n",
      "Train-Score-logreg: 0.8802, Test-Accuracy-logreg: 0.7789\n",
      "Train-Score-rfc: 1.0000, Test-Accuracy-rfc: 0.8094\n",
      "Train-Score-xgb: 0.89, Test-Accuracy-xgb: 0.82\n"
     ]
    }
   ],
   "source": [
    "print(\"Train-Score-dummy: %.4f, Test-Accuracy-dummy: %.4f\" % (dummy.score(X_train, y_train), dummy.score(X_test, y_test)))\n",
    "\n",
    "print(\"Train-Score-logreg: %.4f, Test-Accuracy-logreg: %.4f\" % (logreg_TS.score(X_train, y_train), logreg_TS.score(X_test, y_test)))\n",
    "print(\"Train-Score-rfc: %.4f, Test-Accuracy-rfc: %.4f\" % (rfc_TS.score(X_train, y_train), rfc_TS.score(X_test, y_test)))\n",
    "print(\"Train-Score-xgb: %.2f, Test-Accuracy-xgb: %.2f\" % (xgb_TS.score(X_train, y_train), \n",
    "                                                          xgb_TS.score(X_test, y_test)))"
   ]
  },
  {
   "cell_type": "markdown",
   "metadata": {},
   "source": [
    "## 3. Cross-Validation"
   ]
  },
  {
   "cell_type": "code",
   "execution_count": 48,
   "metadata": {},
   "outputs": [
    {
     "name": "stdout",
     "output_type": "stream",
     "text": [
      "[0.75609756 0.79150579 0.79021879 0.79021879 0.75968992]\n",
      "0.7775461710799203\n"
     ]
    }
   ],
   "source": [
    "from sklearn.cross_validation import StratifiedKFold\n",
    "from sklearn.model_selection import cross_val_score\n",
    "# C = 1/lambda, the parameter of the sigmoid function\n",
    "# lambda = 0.001, 0.005, 0.01, 0.05, ..., 1, 5, 10, 50\n",
    "cv_score_rfc=cross_val_score(rfc_TS,data_TS,target_TS,cv=5,n_jobs=-1)\n",
    "cv_score_xgb=cross_val_score(xgb_TS,data_TS,target_TS,cv=5,n_jobs=-1)\n",
    "cv_score_lr=cross_val_score(logreg_TS,data_TS,target_TS,cv=5,n_jobs=-1)"
   ]
  },
  {
   "cell_type": "code",
   "execution_count": 56,
   "metadata": {},
   "outputs": [],
   "source": [
    "from sklearn.model_selection import cross_validate"
   ]
  },
  {
   "cell_type": "code",
   "execution_count": 57,
   "metadata": {},
   "outputs": [
    {
     "name": "stderr",
     "output_type": "stream",
     "text": [
      "/Users/alicemartin/miniconda3/envs/project/lib/python3.5/site-packages/sklearn/utils/optimize.py:203: ConvergenceWarning: newton-cg failed to converge. Increase the number of iterations.\n",
      "  \"number of iterations.\", ConvergenceWarning)\n",
      "/Users/alicemartin/miniconda3/envs/project/lib/python3.5/site-packages/sklearn/utils/optimize.py:203: ConvergenceWarning: newton-cg failed to converge. Increase the number of iterations.\n",
      "  \"number of iterations.\", ConvergenceWarning)\n",
      "/Users/alicemartin/miniconda3/envs/project/lib/python3.5/site-packages/sklearn/utils/optimize.py:203: ConvergenceWarning: newton-cg failed to converge. Increase the number of iterations.\n",
      "  \"number of iterations.\", ConvergenceWarning)\n",
      "/Users/alicemartin/miniconda3/envs/project/lib/python3.5/site-packages/sklearn/utils/optimize.py:203: ConvergenceWarning: newton-cg failed to converge. Increase the number of iterations.\n",
      "  \"number of iterations.\", ConvergenceWarning)\n",
      "/Users/alicemartin/miniconda3/envs/project/lib/python3.5/site-packages/sklearn/utils/optimize.py:203: ConvergenceWarning: newton-cg failed to converge. Increase the number of iterations.\n",
      "  \"number of iterations.\", ConvergenceWarning)\n"
     ]
    }
   ],
   "source": [
    "cross_validate_rfc=cross_validate(rfc_TS,data_TS,target_TS,cv=5,n_jobs=-1,return_train_score=True)\n",
    "cross_validate_xgb=cross_validate(xgb_TS,data_TS,target_TS,cv=5,n_jobs=-1,return_train_score=True)\n",
    "cross_validate_lr=cross_validate(logreg_TS,data_TS,target_TS,cv=5,n_jobs=-1,return_train_score=True)"
   ]
  },
  {
   "cell_type": "code",
   "execution_count": 55,
   "metadata": {},
   "outputs": [
    {
     "name": "stdout",
     "output_type": "stream",
     "text": [
      "cv score LR:(array([0.67265725, 0.74517375, 0.72715573, 0.73745174, 0.63824289]), 0.7041362713452752)\n",
      "cv score RF:(array([0.75609756, 0.79150579, 0.79021879, 0.79021879, 0.75968992]), 0.7775461710799203)\n",
      "cv score XGB:(array([0.7406932 , 0.78120978, 0.79021879, 0.83140283, 0.76356589]), 0.7814180981419839)\n"
     ]
    }
   ],
   "source": [
    "print('cv score LR:{}'.format((cv_score_lr,cv_score_lr.mean())))\n",
    "print('cv score RF:{}'.format((cv_score_rfc,cv_score_rfc.mean())))\n",
    "print('cv score XGB:{}'.format((cv_score_xgb,cv_score_xgb.mean())))"
   ]
  },
  {
   "cell_type": "code",
   "execution_count": 61,
   "metadata": {},
   "outputs": [
    {
     "name": "stdout",
     "output_type": "stream",
     "text": [
      "Training Accuracy LR: 0.89 (+/- 0.01)\n",
      "Training Accuracy RF: 1.00 (+/- 0.00)\n",
      "Training Accuracy XGB: 0.89 (+/- 0.01)\n",
      "Test Accuracy LR: 0.70 (+/- 0.08)\n",
      "Test Accuracy RF: 0.78 (+/- 0.03)\n",
      "Test Accuracy XGB: 0.78 (+/- 0.06)\n"
     ]
    }
   ],
   "source": [
    "#print(cross_validate_lr)\n",
    "print(\"Training Accuracy LR: %0.2f (+/- %0.2f)\" % (cross_validate_lr['train_score'].mean(), cross_validate_lr['train_score'].std() * 2))\n",
    "print(\"Training Accuracy RF: %0.2f (+/- %0.2f)\" % (cross_validate_rfc['train_score'].mean(), cross_validate_rfc['train_score'].std() * 2))\n",
    "print(\"Training Accuracy XGB: %0.2f (+/- %0.2f)\" % (cross_validate_xgb['train_score'].mean(), cross_validate_xgb['train_score'].std() * 2))\n",
    "\n",
    "print(\"Test Accuracy LR: %0.2f (+/- %0.2f)\" % (cross_validate_lr['test_score'].mean(), cross_validate_lr['test_score'].std() * 2))\n",
    "print(\"Test Accuracy RF: %0.2f (+/- %0.2f)\" % (cross_validate_rfc['test_score'].mean(), cross_validate_rfc['test_score'].std() * 2))\n",
    "print(\"Test Accuracy XGB: %0.2f (+/- %0.2f)\" % (cross_validate_xgb['test_score'].mean(), cross_validate_xgb['test_score'].std() * 2))"
   ]
  },
  {
   "cell_type": "markdown",
   "metadata": {},
   "source": [
    "### Features importance: to compare with simple classification problem"
   ]
  },
  {
   "cell_type": "code",
   "execution_count": 219,
   "metadata": {},
   "outputs": [
    {
     "name": "stdout",
     "output_type": "stream",
     "text": [
      "0.4054402725052078\n"
     ]
    },
    {
     "data": {
      "text/html": [
       "<div>\n",
       "<style scoped>\n",
       "    .dataframe tbody tr th:only-of-type {\n",
       "        vertical-align: middle;\n",
       "    }\n",
       "\n",
       "    .dataframe tbody tr th {\n",
       "        vertical-align: top;\n",
       "    }\n",
       "\n",
       "    .dataframe thead th {\n",
       "        text-align: right;\n",
       "    }\n",
       "</style>\n",
       "<table border=\"1\" class=\"dataframe\">\n",
       "  <thead>\n",
       "    <tr style=\"text-align: right;\">\n",
       "      <th></th>\n",
       "      <th>importance</th>\n",
       "    </tr>\n",
       "  </thead>\n",
       "  <tbody>\n",
       "    <tr>\n",
       "      <th>NHY</th>\n",
       "      <td>7.853733</td>\n",
       "    </tr>\n",
       "    <tr>\n",
       "      <th>PDDXDT_diff_days</th>\n",
       "      <td>4.409014</td>\n",
       "    </tr>\n",
       "    <tr>\n",
       "      <th>DOMSIDE</th>\n",
       "      <td>2.941035</td>\n",
       "    </tr>\n",
       "    <tr>\n",
       "      <th>DFBRADYP</th>\n",
       "      <td>2.862482</td>\n",
       "    </tr>\n",
       "    <tr>\n",
       "      <th>DFRIGIDP</th>\n",
       "      <td>2.275013</td>\n",
       "    </tr>\n",
       "    <tr>\n",
       "      <th>PRIMDIAG</th>\n",
       "      <td>2.129814</td>\n",
       "    </tr>\n",
       "    <tr>\n",
       "      <th>APPRDX</th>\n",
       "      <td>1.933023</td>\n",
       "    </tr>\n",
       "    <tr>\n",
       "      <th>NP3FACXP</th>\n",
       "      <td>1.619591</td>\n",
       "    </tr>\n",
       "    <tr>\n",
       "      <th>NP3BRADY</th>\n",
       "      <td>1.556028</td>\n",
       "    </tr>\n",
       "    <tr>\n",
       "      <th>DFBRADYA</th>\n",
       "      <td>1.448058</td>\n",
       "    </tr>\n",
       "    <tr>\n",
       "      <th>DXTREMOR</th>\n",
       "      <td>1.369756</td>\n",
       "    </tr>\n",
       "    <tr>\n",
       "      <th>NP3TTAPL</th>\n",
       "      <td>1.364504</td>\n",
       "    </tr>\n",
       "    <tr>\n",
       "      <th>DFRIGIDA</th>\n",
       "      <td>1.272713</td>\n",
       "    </tr>\n",
       "    <tr>\n",
       "      <th>NP3FTAPL</th>\n",
       "      <td>1.220957</td>\n",
       "    </tr>\n",
       "    <tr>\n",
       "      <th>lastDate_diff_days</th>\n",
       "      <td>1.088463</td>\n",
       "    </tr>\n",
       "    <tr>\n",
       "      <th>BIRTHDT</th>\n",
       "      <td>1.082068</td>\n",
       "    </tr>\n",
       "    <tr>\n",
       "      <th>ON_OFF_DOSE</th>\n",
       "      <td>1.054659</td>\n",
       "    </tr>\n",
       "    <tr>\n",
       "      <th>CURRENT_APPRDX</th>\n",
       "      <td>1.035232</td>\n",
       "    </tr>\n",
       "    <tr>\n",
       "      <th>NP3PRSPL</th>\n",
       "      <td>1.019773</td>\n",
       "    </tr>\n",
       "    <tr>\n",
       "      <th>DIASTND</th>\n",
       "      <td>1.008111</td>\n",
       "    </tr>\n",
       "  </tbody>\n",
       "</table>\n",
       "</div>"
      ],
      "text/plain": [
       "                    importance\n",
       "NHY                   7.853733\n",
       "PDDXDT_diff_days      4.409014\n",
       "DOMSIDE               2.941035\n",
       "DFBRADYP              2.862482\n",
       "DFRIGIDP              2.275013\n",
       "PRIMDIAG              2.129814\n",
       "APPRDX                1.933023\n",
       "NP3FACXP              1.619591\n",
       "NP3BRADY              1.556028\n",
       "DFBRADYA              1.448058\n",
       "DXTREMOR              1.369756\n",
       "NP3TTAPL              1.364504\n",
       "DFRIGIDA              1.272713\n",
       "NP3FTAPL              1.220957\n",
       "lastDate_diff_days    1.088463\n",
       "BIRTHDT               1.082068\n",
       "ON_OFF_DOSE           1.054659\n",
       "CURRENT_APPRDX        1.035232\n",
       "NP3PRSPL              1.019773\n",
       "DIASTND               1.008111"
      ]
     },
     "execution_count": 219,
     "metadata": {},
     "output_type": "execute_result"
    }
   ],
   "source": [
    "feature_importances = pd.DataFrame(rfc_TS.feature_importances_,\n",
    "                                   index = X_train.columns,\n",
    "                                    columns=['importance']).sort_values('importance',ascending=False)\n",
    "ImportantFeatures_TS=feature_importances[feature_importances.values>=0.01]\n",
    "print(ImportantFeatures_TS.values.sum())\n",
    "RelevantFeatures=feature_importances[feature_importances.values> 0]\n",
    "assert RelevantFeatures.values.sum()==1\n",
    "ImportantFeatures_TS=ImportantFeatures_TS*100\n",
    "ImportantFeatures_TS"
   ]
  },
  {
   "cell_type": "code",
   "execution_count": 257,
   "metadata": {},
   "outputs": [
    {
     "data": {
      "image/png": "[encoded data removed]",
      "text/plain": [
       "<Figure size 1440x1080 with 1 Axes>"
      ]
     },
     "metadata": {},
     "output_type": "display_data"
    }
   ],
   "source": [
    "#fig,ax=plt.figure()\n",
    "#ax=fig.add_axes([1,1,1,1])\n",
    "colors1=['darkred','indianred']\n",
    "colors2=['salmon'] * 2\n",
    "colors3=['darkorange']*3\n",
    "colors4=['navajowhite']*7\n",
    "colors5=['lightgray']*6\n",
    "\n",
    "import itertools\n",
    "\n",
    "colors=list(itertools.chain(colors1,colors2,colors3,colors4,colors5))\n",
    "fig=plt.figure(figsize=(20,15))\n",
    "ax=fig.add_axes([1,1,1,1])\n",
    "bar_features=ImportantFeatures_TS.plot(y='importance',kind='bar',\n",
    "                                       fontsize=20,color=colors,legend=False,ax=ax)\n",
    "ax.set_title('Barplot of features importance (importance > 1%)',fontdict={'fontsize':30})\n",
    "ax.set_ylabel(ylabel='importance (%)',fontdict={'fontsize':30})\n",
    "fig.savefig('/Users/alicemartin/02_DSR_Project/parkinson-disease-project/output/ML_predictions/featuresImportance.png')\n",
    "plt.show()"
   ]
  },
  {
   "cell_type": "code",
   "execution_count": 75,
   "metadata": {},
   "outputs": [],
   "source": [
    "def plot_importantFeatures(clf,X_train,threshold=0.01,figsize=(10,10),color='b'):\n",
    "    importances=clf.feature_importances_\n",
    "    importances=importances[importances>=threshold]\n",
    "    features = X_train.columns\n",
    "    indices = np.argsort(importances)\n",
    "    fig = plt.figure(figsize=figsize)\n",
    "    plt.title('Feature Importances')\n",
    "    plt.barh(range(len(indices)), importances[indices], color=color, align='center')\n",
    "    plt.yticks(range(len(indices)), [features[i] for i in indices])\n",
    "    plt.xlabel('Relative Importance')\n",
    "    plt.show()"
   ]
  },
  {
   "cell_type": "code",
   "execution_count": 209,
   "metadata": {},
   "outputs": [],
   "source": [
    "#plot_importantFeatures(rfc_TS,X_train,color='green')\n",
    "# TO CORRECT!!!!"
   ]
  },
  {
   "cell_type": "markdown",
   "metadata": {},
   "source": [
    "### GridSearchCV on RandomForestClassifier"
   ]
  },
  {
   "cell_type": "code",
   "execution_count": 83,
   "metadata": {},
   "outputs": [
    {
     "data": {
      "text/html": [
       "<div>\n",
       "<style scoped>\n",
       "    .dataframe tbody tr th:only-of-type {\n",
       "        vertical-align: middle;\n",
       "    }\n",
       "\n",
       "    .dataframe tbody tr th {\n",
       "        vertical-align: top;\n",
       "    }\n",
       "\n",
       "    .dataframe thead th {\n",
       "        text-align: right;\n",
       "    }\n",
       "</style>\n",
       "<table border=\"1\" class=\"dataframe\">\n",
       "  <thead>\n",
       "    <tr style=\"text-align: right;\">\n",
       "      <th></th>\n",
       "      <th>NHY</th>\n",
       "      <th>PDDXDT_diff_days</th>\n",
       "      <th>DOMSIDE</th>\n",
       "      <th>DFBRADYP</th>\n",
       "      <th>DFRIGIDP</th>\n",
       "      <th>PRIMDIAG</th>\n",
       "      <th>APPRDX</th>\n",
       "      <th>NP3FACXP</th>\n",
       "      <th>NP3BRADY</th>\n",
       "      <th>DFBRADYA</th>\n",
       "      <th>...</th>\n",
       "      <th>DFCHOREA</th>\n",
       "      <th>DFHEMPRK</th>\n",
       "      <th>PDMEDT_diff_days</th>\n",
       "      <th>DFMYOCLO</th>\n",
       "      <th>MCACAMEL</th>\n",
       "      <th>NARCLPSY</th>\n",
       "      <th>MHROW_9</th>\n",
       "      <th>MHROW_11</th>\n",
       "      <th>DFAGESX</th>\n",
       "      <th>MHROW_10</th>\n",
       "    </tr>\n",
       "    <tr>\n",
       "      <th>PATNO</th>\n",
       "      <th></th>\n",
       "      <th></th>\n",
       "      <th></th>\n",
       "      <th></th>\n",
       "      <th></th>\n",
       "      <th></th>\n",
       "      <th></th>\n",
       "      <th></th>\n",
       "      <th></th>\n",
       "      <th></th>\n",
       "      <th></th>\n",
       "      <th></th>\n",
       "      <th></th>\n",
       "      <th></th>\n",
       "      <th></th>\n",
       "      <th></th>\n",
       "      <th></th>\n",
       "      <th></th>\n",
       "      <th></th>\n",
       "      <th></th>\n",
       "      <th></th>\n",
       "    </tr>\n",
       "  </thead>\n",
       "  <tbody>\n",
       "    <tr>\n",
       "      <th>3001</th>\n",
       "      <td>2.0</td>\n",
       "      <td>306.0</td>\n",
       "      <td>2.0</td>\n",
       "      <td>1.0</td>\n",
       "      <td>1.0</td>\n",
       "      <td>1.0</td>\n",
       "      <td>1.0</td>\n",
       "      <td>2.0</td>\n",
       "      <td>1.0</td>\n",
       "      <td>0.0</td>\n",
       "      <td>...</td>\n",
       "      <td>0.0</td>\n",
       "      <td>0.0</td>\n",
       "      <td>0.0</td>\n",
       "      <td>0.0</td>\n",
       "      <td>1.0</td>\n",
       "      <td>0.0</td>\n",
       "      <td>0.0</td>\n",
       "      <td>0.0</td>\n",
       "      <td>0.0</td>\n",
       "      <td>0.0</td>\n",
       "    </tr>\n",
       "    <tr>\n",
       "      <th>3001</th>\n",
       "      <td>2.0</td>\n",
       "      <td>700.0</td>\n",
       "      <td>2.0</td>\n",
       "      <td>1.0</td>\n",
       "      <td>1.0</td>\n",
       "      <td>1.0</td>\n",
       "      <td>1.0</td>\n",
       "      <td>1.0</td>\n",
       "      <td>1.0</td>\n",
       "      <td>0.0</td>\n",
       "      <td>...</td>\n",
       "      <td>0.0</td>\n",
       "      <td>0.0</td>\n",
       "      <td>0.0</td>\n",
       "      <td>0.0</td>\n",
       "      <td>1.0</td>\n",
       "      <td>0.0</td>\n",
       "      <td>0.0</td>\n",
       "      <td>0.0</td>\n",
       "      <td>0.0</td>\n",
       "      <td>0.0</td>\n",
       "    </tr>\n",
       "    <tr>\n",
       "      <th>3001</th>\n",
       "      <td>2.0</td>\n",
       "      <td>1126.0</td>\n",
       "      <td>2.0</td>\n",
       "      <td>1.0</td>\n",
       "      <td>1.0</td>\n",
       "      <td>1.0</td>\n",
       "      <td>1.0</td>\n",
       "      <td>2.0</td>\n",
       "      <td>2.0</td>\n",
       "      <td>0.0</td>\n",
       "      <td>...</td>\n",
       "      <td>0.0</td>\n",
       "      <td>0.0</td>\n",
       "      <td>0.0</td>\n",
       "      <td>0.0</td>\n",
       "      <td>1.0</td>\n",
       "      <td>0.0</td>\n",
       "      <td>0.0</td>\n",
       "      <td>0.0</td>\n",
       "      <td>0.0</td>\n",
       "      <td>0.0</td>\n",
       "    </tr>\n",
       "    <tr>\n",
       "      <th>3001</th>\n",
       "      <td>2.0</td>\n",
       "      <td>1461.0</td>\n",
       "      <td>2.0</td>\n",
       "      <td>1.0</td>\n",
       "      <td>1.0</td>\n",
       "      <td>1.0</td>\n",
       "      <td>1.0</td>\n",
       "      <td>2.0</td>\n",
       "      <td>2.0</td>\n",
       "      <td>0.0</td>\n",
       "      <td>...</td>\n",
       "      <td>0.0</td>\n",
       "      <td>0.0</td>\n",
       "      <td>0.0</td>\n",
       "      <td>0.0</td>\n",
       "      <td>1.0</td>\n",
       "      <td>0.0</td>\n",
       "      <td>0.0</td>\n",
       "      <td>0.0</td>\n",
       "      <td>0.0</td>\n",
       "      <td>0.0</td>\n",
       "    </tr>\n",
       "    <tr>\n",
       "      <th>3001</th>\n",
       "      <td>2.0</td>\n",
       "      <td>1826.0</td>\n",
       "      <td>2.0</td>\n",
       "      <td>1.0</td>\n",
       "      <td>1.0</td>\n",
       "      <td>1.0</td>\n",
       "      <td>1.0</td>\n",
       "      <td>1.0</td>\n",
       "      <td>1.0</td>\n",
       "      <td>0.0</td>\n",
       "      <td>...</td>\n",
       "      <td>0.0</td>\n",
       "      <td>0.0</td>\n",
       "      <td>0.0</td>\n",
       "      <td>0.0</td>\n",
       "      <td>1.0</td>\n",
       "      <td>0.0</td>\n",
       "      <td>0.0</td>\n",
       "      <td>0.0</td>\n",
       "      <td>0.0</td>\n",
       "      <td>0.0</td>\n",
       "    </tr>\n",
       "  </tbody>\n",
       "</table>\n",
       "<p>5 rows × 356 columns</p>\n",
       "</div>"
      ],
      "text/plain": [
       "       NHY  PDDXDT_diff_days  DOMSIDE  DFBRADYP  DFRIGIDP  PRIMDIAG  APPRDX  \\\n",
       "PATNO                                                                         \n",
       "3001   2.0             306.0      2.0       1.0       1.0       1.0     1.0   \n",
       "3001   2.0             700.0      2.0       1.0       1.0       1.0     1.0   \n",
       "3001   2.0            1126.0      2.0       1.0       1.0       1.0     1.0   \n",
       "3001   2.0            1461.0      2.0       1.0       1.0       1.0     1.0   \n",
       "3001   2.0            1826.0      2.0       1.0       1.0       1.0     1.0   \n",
       "\n",
       "       NP3FACXP  NP3BRADY  DFBRADYA    ...     DFCHOREA  DFHEMPRK  \\\n",
       "PATNO                                  ...                          \n",
       "3001        2.0       1.0       0.0    ...          0.0       0.0   \n",
       "3001        1.0       1.0       0.0    ...          0.0       0.0   \n",
       "3001        2.0       2.0       0.0    ...          0.0       0.0   \n",
       "3001        2.0       2.0       0.0    ...          0.0       0.0   \n",
       "3001        1.0       1.0       0.0    ...          0.0       0.0   \n",
       "\n",
       "       PDMEDT_diff_days  DFMYOCLO  MCACAMEL  NARCLPSY  MHROW_9  MHROW_11  \\\n",
       "PATNO                                                                      \n",
       "3001                0.0       0.0       1.0       0.0      0.0       0.0   \n",
       "3001                0.0       0.0       1.0       0.0      0.0       0.0   \n",
       "3001                0.0       0.0       1.0       0.0      0.0       0.0   \n",
       "3001                0.0       0.0       1.0       0.0      0.0       0.0   \n",
       "3001                0.0       0.0       1.0       0.0      0.0       0.0   \n",
       "\n",
       "       DFAGESX  MHROW_10  \n",
       "PATNO                     \n",
       "3001       0.0       0.0  \n",
       "3001       0.0       0.0  \n",
       "3001       0.0       0.0  \n",
       "3001       0.0       0.0  \n",
       "3001       0.0       0.0  \n",
       "\n",
       "[5 rows x 356 columns]"
      ]
     },
     "execution_count": 83,
     "metadata": {},
     "output_type": "execute_result"
    }
   ],
   "source": [
    "data_GS=data_TS[RelevantFeatures.index]\n",
    "assert len(data_GS)==len(target_TS)\n",
    "data_GS.head()"
   ]
  },
  {
   "cell_type": "code",
   "execution_count": 86,
   "metadata": {},
   "outputs": [
    {
     "data": {
      "text/plain": [
       "27.59"
      ]
     },
     "execution_count": 86,
     "metadata": {},
     "output_type": "execute_result"
    }
   ],
   "source": [
    "np.mean([estimator.tree_.max_depth for estimator in rfc_TS.estimators_])"
   ]
  },
  {
   "cell_type": "code",
   "execution_count": 87,
   "metadata": {},
   "outputs": [],
   "source": [
    "def grid_search(param_grid, estimator, data, target, cv=3,njobs=-1):\n",
    "    from sklearn.model_selection import GridSearchCV\n",
    "    est = estimator\n",
    "    grid_search=GridSearchCV(est, param_grid,cv=cv)\n",
    "    grid_search.fit(data,target)\n",
    "    print(\"Best estimator:\\n{}\".format(grid_search.best_estimator_))\n",
    "    print(\"Best parameters: {}\".format(grid_search.best_params_))\n",
    "    print(\"Best cross-validation score: {:.2f}\".format(grid_search.best_score_))\n",
    "    return grid_search"
   ]
  },
  {
   "cell_type": "code",
   "execution_count": 167,
   "metadata": {},
   "outputs": [
    {
     "name": "stdout",
     "output_type": "stream",
     "text": [
      "Best estimator:\n",
      "RandomForestClassifier(bootstrap=True, class_weight=None, criterion='gini',\n",
      "            max_depth=10, max_features=10, max_leaf_nodes=None,\n",
      "            min_impurity_decrease=0.0, min_impurity_split=None,\n",
      "            min_samples_leaf=1, min_samples_split=2,\n",
      "            min_weight_fraction_leaf=0.0, n_estimators=250, n_jobs=1,\n",
      "            oob_score=False, random_state=0, verbose=0, warm_start=False)\n",
      "Best parameters: {'max_depth': 10, 'n_estimators': 250, 'max_features': 10}\n",
      "Best cross-validation score: 0.75\n"
     ]
    }
   ],
   "source": [
    "param_grid_rfc={'n_estimators':[250,500],\n",
    "               'max_features':[10,20,30],\n",
    "               'max_depth':[None,10,20]}\n",
    "grid_search1=grid_search(param_grid_rfc, estimator=RandomForestClassifier(random_state=0), \n",
    "                         data=data_GS, target=target_TS)\n",
    "\n",
    "#grid_search1.cv_results_"
   ]
  },
  {
   "cell_type": "code",
   "execution_count": 168,
   "metadata": {},
   "outputs": [
    {
     "name": "stdout",
     "output_type": "stream",
     "text": [
      "Best estimator:\n",
      "RandomForestClassifier(bootstrap=True, class_weight=None, criterion='gini',\n",
      "            max_depth=5, max_features=5, max_leaf_nodes=None,\n",
      "            min_impurity_decrease=0.0, min_impurity_split=None,\n",
      "            min_samples_leaf=1, min_samples_split=2,\n",
      "            min_weight_fraction_leaf=0.0, n_estimators=250, n_jobs=1,\n",
      "            oob_score=False, random_state=0, verbose=0, warm_start=False)\n",
      "Best parameters: {'max_depth': 5, 'n_estimators': 250, 'max_features': 5}\n",
      "Best cross-validation score: 0.76\n"
     ]
    }
   ],
   "source": [
    "# it seems that the overfitting can be really reduced by playing on max_depth: remove None option\n",
    "param_grid4_rfc={'n_estimators':[250],\n",
    "               'max_features':[5,10,15,17],\n",
    "               'max_depth':[5,10,15,17]}\n",
    "grid_search2=grid_search(param_grid4_rfc, estimator=RandomForestClassifier(random_state=0), data=data_GS, target=target_TS)\n",
    "#grid_search2.cv_results_"
   ]
  },
  {
   "cell_type": "code",
   "execution_count": 169,
   "metadata": {},
   "outputs": [
    {
     "name": "stdout",
     "output_type": "stream",
     "text": [
      "Best estimator:\n",
      "RandomForestClassifier(bootstrap=True, class_weight=None, criterion='gini',\n",
      "            max_depth=7, max_features=12, max_leaf_nodes=None,\n",
      "            min_impurity_decrease=0.0, min_impurity_split=None,\n",
      "            min_samples_leaf=1, min_samples_split=2,\n",
      "            min_weight_fraction_leaf=0.0, n_estimators=250, n_jobs=1,\n",
      "            oob_score=False, random_state=0, verbose=0, warm_start=False)\n",
      "Best parameters: {'max_depth': 7, 'n_estimators': 250, 'max_features': 12}\n",
      "Best cross-validation score: 0.76\n"
     ]
    }
   ],
   "source": [
    "param_grid_rfc3={'n_estimators':[250],\n",
    "               'max_features':[1,5,7,10,12],\n",
    "               'max_depth':[1,5,7,10,12]}\n",
    "grid_search3=grid_search(param_grid_rfc3, estimator=RandomForestClassifier(random_state=0), \n",
    "                         data=data_GS, target=target_TS)"
   ]
  },
  {
   "cell_type": "markdown",
   "metadata": {},
   "source": [
    "### Plotting the bias/variance tradeoff"
   ]
  },
  {
   "cell_type": "code",
   "execution_count": 170,
   "metadata": {},
   "outputs": [],
   "source": [
    "GS1_test_score=grid_search1.cv_results_['mean_test_score']\n",
    "GS1_train_score=grid_search1.cv_results_['mean_train_score']\n",
    "GS1_params=grid_search1.cv_results_['params']\n",
    "GS2_test_score=grid_search2.cv_results_['mean_test_score']\n",
    "GS2_train_score=grid_search2.cv_results_['mean_train_score']\n",
    "GS2_params=grid_search2.cv_results_['params']\n",
    "GS3_test_score=grid_search3.cv_results_['mean_test_score']\n",
    "GS3_train_score=grid_search3.cv_results_['mean_train_score']\n",
    "GS3_params=grid_search3.cv_results_['params']"
   ]
  },
  {
   "cell_type": "markdown",
   "metadata": {},
   "source": [
    "#### Max_features as variable"
   ]
  },
  {
   "cell_type": "code",
   "execution_count": 244,
   "metadata": {},
   "outputs": [
    {
     "data": {
      "image/png": "[encoded data removed]",
      "text/plain": [
       "<Figure size 720x576 with 1 Axes>"
      ]
     },
     "metadata": {},
     "output_type": "display_data"
    }
   ],
   "source": [
    "serGS1_train=pd.Series(GS1_train_score)\n",
    "serGS1_test=pd.Series(GS1_test_score)\n",
    "dfGS1=pd.DataFrame(GS1_params)\n",
    "dfGS1=pd.concat([serGS1_train,serGS1_test,dfGS1],axis=1)\n",
    "dfGS1.rename(columns={0:'train_score',1:'test_score'},inplace=True)\n",
    "serGS2_train=pd.Series(GS2_train_score)\n",
    "serGS2_test=pd.Series(GS2_test_score)\n",
    "dfGS2=pd.DataFrame(GS2_params)\n",
    "dfGS2=pd.concat([serGS2_train,serGS2_test,dfGS2],axis=1)\n",
    "dfGS2.rename(columns={0:'train_score',1:'test_score'},inplace=True)\n",
    "\n",
    "serGS3_train=pd.Series(GS3_train_score)\n",
    "serGS3_test=pd.Series(GS3_test_score)\n",
    "dfGS3=pd.DataFrame(GS3_params)\n",
    "dfGS3=pd.concat([serGS3_train,serGS3_test,dfGS3],axis=1)\n",
    "dfGS3.rename(columns={0:'train_score',1:'test_score'},inplace=True)\n",
    "\n",
    "\n",
    "dfGS=pd.concat([dfGS2,dfGS3])\n",
    "#dfGS_toplot=dfGS[dfGS['n_estimators']==250]\n",
    "dfGS_toplot=dfGS[dfGS['max_depth']==5]\n",
    "dfGS_toplot.drop(index=[6],inplace=True)\n",
    "dfGS_toplot.sort_values('max_features',inplace=True)\n",
    "\n",
    "fig= plt.figure(figsize=(10,8))\n",
    "ax=fig.add_axes([1,1,1,1])\n",
    "plot_maxdepth=dfGS_toplot.plot(x='max_features',y=['train_score','test_score'],ylim=[0.6,0.8],ax=ax)\n",
    "ax.legend(fontsize='xx-large')\n",
    "ax.set_title('Random Forest: bias/variance evolution for different max_features',fontdict={'fontsize':20})\n",
    "fig.savefig('/Users/alicemartin/02_DSR_Project/parkinson-disease-project/output/ML_predictions/bias_variance_maxFeatures.png')\n",
    "plt.show()"
   ]
  },
  {
   "cell_type": "markdown",
   "metadata": {},
   "source": [
    "#### Max_depth as variable"
   ]
  },
  {
   "cell_type": "code",
   "execution_count": 208,
   "metadata": {},
   "outputs": [
    {
     "data": {
      "image/png": "[encoded data removed]",
      "text/plain": [
       "<Figure size 720x576 with 1 Axes>"
      ]
     },
     "metadata": {},
     "output_type": "display_data"
    }
   ],
   "source": [
    "dfGS_maxdepth=dfGS[dfGS['max_features']==5]\n",
    "dfGS_maxdepth.drop(index=[6,16],inplace=True)\n",
    "dfGS_maxdepth.sort_values('max_depth',inplace=True)\n",
    "#dfGS_maxdepth['max_depth']=dfGS_maxdepth['max_depth'].replace(np.nan,100)\n",
    "\n",
    "fig= plt.figure(figsize=(10,8))\n",
    "ax=fig.add_axes([1,1,1,1])\n",
    "dfGS_maxdepth.plot(x='max_depth',y=['train_score','test_score'],ylim=[0.6,1.05],ax=ax)\n",
    "ax.legend(fontsize='xx-large')\n",
    "ax.set_title('Random Forest: bias/variance evolution for different max_depth',fontdict={'fontsize':20})\n",
    "#plt.close()\n",
    "fig.savefig('/Users/alicemartin/02_DSR_Project/parkinson-disease-project/output/ML_predictions/bias_variance_maxdepth.png')"
   ]
  },
  {
   "cell_type": "code",
   "execution_count": 137,
   "metadata": {},
   "outputs": [],
   "source": [
    "rfc_final=RandomForestClassifier(max_depth=5,max_features=5,n_estimators=250, random_state=0,n_jobs=-1)"
   ]
  },
  {
   "cell_type": "code",
   "execution_count": 134,
   "metadata": {},
   "outputs": [
    {
     "name": "stderr",
     "output_type": "stream",
     "text": [
      "/Users/alicemartin/miniconda3/envs/project/lib/python3.5/site-packages/sklearn/utils/optimize.py:203: ConvergenceWarning: newton-cg failed to converge. Increase the number of iterations.\n",
      "  \"number of iterations.\", ConvergenceWarning)\n",
      "/Users/alicemartin/miniconda3/envs/project/lib/python3.5/site-packages/sklearn/utils/optimize.py:203: ConvergenceWarning: newton-cg failed to converge. Increase the number of iterations.\n",
      "  \"number of iterations.\", ConvergenceWarning)\n",
      "/Users/alicemartin/miniconda3/envs/project/lib/python3.5/site-packages/sklearn/utils/optimize.py:203: ConvergenceWarning: newton-cg failed to converge. Increase the number of iterations.\n",
      "  \"number of iterations.\", ConvergenceWarning)\n"
     ]
    },
    {
     "data": {
      "text/plain": [
       "VotingClassifier(estimators=[('LogReg', LogisticRegression(C=1.0, class_weight=None, dual=False, fit_intercept=True,\n",
       "          intercept_scaling=1, max_iter=100, multi_class='multinomial',\n",
       "          n_jobs=1, penalty='l2', random_state=0, solver='newton-cg',\n",
       "          tol=0.0001, verbose=0, warm_start=False)), ('rfc...=0,\n",
       "       reg_alpha=0, reg_lambda=1, scale_pos_weight=1, seed=0, silent=True,\n",
       "       subsample=1))],\n",
       "         flatten_transform=None, n_jobs=1, voting='soft', weights=None)"
      ]
     },
     "execution_count": 134,
     "metadata": {},
     "output_type": "execute_result"
    }
   ],
   "source": [
    "from sklearn.ensemble import VotingClassifier\n",
    "\n",
    "eclf1 = VotingClassifier(estimators=[('LogReg',logreg_TS), ('rfc', rfc_TS), ('xgb', xgb_TS)], voting='hard')\n",
    "eclf2 = VotingClassifier(estimators=[('LogReg',logreg_TS), ('rfc', rfc_TS), ('xgb', xgb_TS)], voting='soft', \n",
    "                         weights=[1,1,2])\n",
    "eclf3 = VotingClassifier(estimators=[('LogReg',logreg_TS), ('rfc', rfc_TS), ('xgb', xgb_TS)], voting='soft')\n",
    "\n",
    "\n",
    "eclf1.fit(X_train,y_train)\n",
    "eclf2.fit(X_train,y_train)\n",
    "eclf3.fit(X_train,y_train)"
   ]
  },
  {
   "cell_type": "code",
   "execution_count": 142,
   "metadata": {},
   "outputs": [
    {
     "name": "stderr",
     "output_type": "stream",
     "text": [
      "/Users/alicemartin/miniconda3/envs/project/lib/python3.5/site-packages/sklearn/utils/optimize.py:203: ConvergenceWarning: newton-cg failed to converge. Increase the number of iterations.\n",
      "  \"number of iterations.\", ConvergenceWarning)\n"
     ]
    },
    {
     "data": {
      "text/plain": [
       "VotingClassifier(estimators=[('LogReg', LogisticRegression(C=1.0, class_weight=None, dual=False, fit_intercept=True,\n",
       "          intercept_scaling=1, max_iter=100, multi_class='multinomial',\n",
       "          n_jobs=1, penalty='l2', random_state=0, solver='newton-cg',\n",
       "          tol=0.0001, verbose=0, warm_start=False)), ('rfc...=0,\n",
       "       reg_alpha=0, reg_lambda=1, scale_pos_weight=1, seed=0, silent=True,\n",
       "       subsample=1))],\n",
       "         flatten_transform=None, n_jobs=1, voting='soft',\n",
       "         weights=[1, 2, 2])"
      ]
     },
     "execution_count": 142,
     "metadata": {},
     "output_type": "execute_result"
    }
   ],
   "source": [
    "eclf4= VotingClassifier(estimators=[('LogReg',logreg_TS), ('rfc', rfc_TS), ('xgb', xgb_TS)], voting='soft', \n",
    "                         weights=[1,2,2])\n",
    "eclf4.fit(X_train,y_train)"
   ]
  },
  {
   "cell_type": "code",
   "execution_count": 135,
   "metadata": {},
   "outputs": [
    {
     "name": "stdout",
     "output_type": "stream",
     "text": [
      "Logistic Regression(0.880206651598321, 0.7789072426937739)\n",
      "Random Forest(1.0, 0.8094027954256671)\n",
      "XGBoost(0.8895705521472392, 0.818297331639136)\n",
      "Ensemble - Hard Voting(0.9257345818534065, 0.818297331639136)\n",
      "Ensemble-soft Voting(0.9389731998708427, 0.8195679796696315)\n",
      "Ensemble-Soft Voting weighted(0.9276719405876654, 0.8259212198221093)\n"
     ]
    }
   ],
   "source": [
    "for clf, label in zip([logreg_TS, rfc_TS, xgb_TS, eclf1, eclf3, eclf2], ['Logistic Regression', 'Random Forest', \n",
    "                                                                         'XGBoost', \n",
    "                                                                         'Ensemble - Hard Voting',\n",
    "                                                                         'Ensemble-soft Voting',\n",
    "                                                                         'Ensemble-Soft Voting weighted']):\n",
    "    score= (clf.score(X_train, y_train),clf.score(X_test, y_test))\n",
    "    print(label+'{}'.format(score))"
   ]
  },
  {
   "cell_type": "code",
   "execution_count": 145,
   "metadata": {},
   "outputs": [
    {
     "name": "stdout",
     "output_type": "stream",
     "text": [
      "Ensemble-Soft Voting weights=[1,2,2]:(0.9451081691959962, 0.818297331639136)\n"
     ]
    }
   ],
   "source": [
    "print('Ensemble-Soft Voting weights=[1,2,2]:{}'.format((eclf4.score(X_train, y_train),eclf4.score(X_test, y_test))))"
   ]
  },
  {
   "cell_type": "code",
   "execution_count": 146,
   "metadata": {},
   "outputs": [
    {
     "name": "stderr",
     "output_type": "stream",
     "text": [
      "/Users/alicemartin/miniconda3/envs/project/lib/python3.5/site-packages/sklearn/utils/optimize.py:203: ConvergenceWarning: newton-cg failed to converge. Increase the number of iterations.\n",
      "  \"number of iterations.\", ConvergenceWarning)\n",
      "/Users/alicemartin/miniconda3/envs/project/lib/python3.5/site-packages/sklearn/utils/optimize.py:203: ConvergenceWarning: newton-cg failed to converge. Increase the number of iterations.\n",
      "  \"number of iterations.\", ConvergenceWarning)\n",
      "/Users/alicemartin/miniconda3/envs/project/lib/python3.5/site-packages/sklearn/utils/optimize.py:203: ConvergenceWarning: newton-cg failed to converge. Increase the number of iterations.\n",
      "  \"number of iterations.\", ConvergenceWarning)\n",
      "/Users/alicemartin/miniconda3/envs/project/lib/python3.5/site-packages/sklearn/utils/optimize.py:203: ConvergenceWarning: newton-cg failed to converge. Increase the number of iterations.\n",
      "  \"number of iterations.\", ConvergenceWarning)\n"
     ]
    },
    {
     "data": {
      "text/plain": [
       "VotingClassifier(estimators=[('LogReg', LogisticRegression(C=1.0, class_weight=None, dual=False, fit_intercept=True,\n",
       "          intercept_scaling=1, max_iter=100, multi_class='multinomial',\n",
       "          n_jobs=1, penalty='l2', random_state=0, solver='newton-cg',\n",
       "          tol=0.0001, verbose=0, warm_start=False)), ('rfc...=0,\n",
       "       reg_alpha=0, reg_lambda=1, scale_pos_weight=1, seed=0, silent=True,\n",
       "       subsample=1))],\n",
       "         flatten_transform=None, n_jobs=1, voting='soft',\n",
       "         weights=[1, 2, 2])"
      ]
     },
     "execution_count": 146,
     "metadata": {},
     "output_type": "execute_result"
    }
   ],
   "source": [
    "eclf5 = VotingClassifier(estimators=[('LogReg',logreg_TS), ('rfc', rfc_final), ('xgb', xgb_TS)], voting='hard')\n",
    "eclf6 = VotingClassifier(estimators=[('LogReg',logreg_TS), ('rfc', rfc_final), ('xgb', xgb_TS)], voting='soft', \n",
    "                         weights=[1,1,2])\n",
    "eclf7 = VotingClassifier(estimators=[('LogReg',logreg_TS), ('rfc', rfc_final), ('xgb', xgb_TS)], voting='soft')\n",
    "eclf8 = VotingClassifier(estimators=[('LogReg',logreg_TS), ('rfc', rfc_final), ('xgb', xgb_TS)], voting='soft', \n",
    "                         weights=[1,2,2])\n",
    "eclf5.fit(X_train,y_train)\n",
    "eclf6.fit(X_train,y_train)\n",
    "eclf7.fit(X_train,y_train)\n",
    "eclf8.fit(X_train,y_train)"
   ]
  },
  {
   "cell_type": "code",
   "execution_count": 147,
   "metadata": {},
   "outputs": [
    {
     "name": "stdout",
     "output_type": "stream",
     "text": [
      "Logistic Regression(0.880206651598321, 0.7789072426937739)\n",
      "Random Forest(1.0, 0.8094027954256671)\n",
      "XGBoost(0.8895705521472392, 0.818297331639136)\n",
      "Ensemble - Hard Voting(0.8779463997416855, 0.8144853875476493)\n",
      "Ensemble-soft Voting(0.8834355828220859, 0.8221092757306226)\n",
      "Ensemble-Soft Voting weights=[1,1,2](0.878915079108815, 0.8132147395171537)\n",
      "Ensemble-Soft Voting weights=[1,2,2](0.8731030029060382, 0.8170266836086404)\n"
     ]
    }
   ],
   "source": [
    "for clf, label in zip([logreg_TS, rfc_TS, xgb_TS, eclf5, eclf6, eclf7, eclf8], ['Logistic Regression', 'Random Forest', \n",
    "                                                                         'XGBoost', \n",
    "                                                                         'Ensemble - Hard Voting',\n",
    "                                                                         'Ensemble-soft Voting',\n",
    "                                                                         'Ensemble-Soft Voting weights=[1,1,2]',\n",
    "                                                                        'Ensemble-Soft Voting weights=[1,2,2]']):\n",
    "    score= (clf.score(X_train, y_train),clf.score(X_test, y_test))\n",
    "    print(label+'{}'.format(score))"
   ]
  },
  {
   "cell_type": "code",
   "execution_count": 148,
   "metadata": {},
   "outputs": [
    {
     "name": "stderr",
     "output_type": "stream",
     "text": [
      "/Users/alicemartin/miniconda3/envs/project/lib/python3.5/site-packages/sklearn/utils/optimize.py:203: ConvergenceWarning: newton-cg failed to converge. Increase the number of iterations.\n",
      "  \"number of iterations.\", ConvergenceWarning)\n"
     ]
    },
    {
     "data": {
      "text/plain": [
       "VotingClassifier(estimators=[('LogReg', LogisticRegression(C=1.0, class_weight=None, dual=False, fit_intercept=True,\n",
       "          intercept_scaling=1, max_iter=100, multi_class='multinomial',\n",
       "          n_jobs=1, penalty='l2', random_state=0, solver='newton-cg',\n",
       "          tol=0.0001, verbose=0, warm_start=False)), ('rfc...=0,\n",
       "       reg_alpha=0, reg_lambda=1, scale_pos_weight=1, seed=0, silent=True,\n",
       "       subsample=1))],\n",
       "         flatten_transform=None, n_jobs=1, voting='soft',\n",
       "         weights=[1, 2, 1])"
      ]
     },
     "execution_count": 148,
     "metadata": {},
     "output_type": "execute_result"
    }
   ],
   "source": [
    "eclf9 = VotingClassifier(estimators=[('LogReg',logreg_TS), ('rfc', rfc_final), ('xgb', xgb_TS)], voting='soft', \n",
    "                         weights=[1,2,1])\n",
    "eclf9.fit(X_train,y_train)"
   ]
  },
  {
   "cell_type": "code",
   "execution_count": 149,
   "metadata": {},
   "outputs": [
    {
     "name": "stdout",
     "output_type": "stream",
     "text": [
      "Ensemble-Soft Voting weights=[1,2,1]:(0.8582499192767195, 0.8106734434561627)\n"
     ]
    }
   ],
   "source": [
    "print('Ensemble-Soft Voting weights=[1,2,1]:{}'.format((eclf9.score(X_train, y_train),eclf9.score(X_test, y_test))))"
   ]
  },
  {
   "cell_type": "markdown",
   "metadata": {},
   "source": [
    "### CV on eclf3, eclf9"
   ]
  },
  {
   "cell_type": "code",
   "execution_count": 152,
   "metadata": {},
   "outputs": [
    {
     "name": "stderr",
     "output_type": "stream",
     "text": [
      "/Users/alicemartin/miniconda3/envs/project/lib/python3.5/site-packages/sklearn/utils/optimize.py:203: ConvergenceWarning: newton-cg failed to converge. Increase the number of iterations.\n",
      "  \"number of iterations.\", ConvergenceWarning)\n",
      "/Users/alicemartin/miniconda3/envs/project/lib/python3.5/site-packages/sklearn/utils/optimize.py:203: ConvergenceWarning: newton-cg failed to converge. Increase the number of iterations.\n",
      "  \"number of iterations.\", ConvergenceWarning)\n",
      "/Users/alicemartin/miniconda3/envs/project/lib/python3.5/site-packages/sklearn/utils/optimize.py:203: ConvergenceWarning: newton-cg failed to converge. Increase the number of iterations.\n",
      "  \"number of iterations.\", ConvergenceWarning)\n",
      "/Users/alicemartin/miniconda3/envs/project/lib/python3.5/site-packages/sklearn/utils/optimize.py:203: ConvergenceWarning: newton-cg failed to converge. Increase the number of iterations.\n",
      "  \"number of iterations.\", ConvergenceWarning)\n",
      "/Users/alicemartin/miniconda3/envs/project/lib/python3.5/site-packages/sklearn/utils/optimize.py:203: ConvergenceWarning: newton-cg failed to converge. Increase the number of iterations.\n",
      "  \"number of iterations.\", ConvergenceWarning)\n",
      "/Users/alicemartin/miniconda3/envs/project/lib/python3.5/site-packages/sklearn/utils/optimize.py:203: ConvergenceWarning: newton-cg failed to converge. Increase the number of iterations.\n",
      "  \"number of iterations.\", ConvergenceWarning)\n"
     ]
    }
   ],
   "source": [
    "cross_validate_ecfl3=cross_validate(eclf3,data_TS,target_TS,cv=3,n_jobs=-1,return_train_score=True)\n",
    "cross_validate_ecfl9=cross_validate(eclf9,data_TS,target_TS,cv=3,n_jobs=-1,return_train_score=True)"
   ]
  },
  {
   "cell_type": "code",
   "execution_count": 154,
   "metadata": {},
   "outputs": [
    {
     "name": "stdout",
     "output_type": "stream",
     "text": [
      "Training Accuracy eclf3: 0.90 (+/- 0.01)\n",
      "Training Accuracy eclf9: 0.87 (+/- 0.02)\n",
      "Test Accuracy eclf3: 0.67 (+/- 0.29)\n",
      "Test Accuracy eclf9: 0.69 (+/- 0.23)\n"
     ]
    }
   ],
   "source": [
    "print(\"Training Accuracy eclf3: %0.2f (+/- %0.2f)\" % (cross_validate_ecfl3['train_score'].mean(), cross_validate_ecfl3['train_score'].std() * 2))\n",
    "print(\"Training Accuracy eclf9: %0.2f (+/- %0.2f)\" % (cross_validate_ecfl9['train_score'].mean(), cross_validate_ecfl9['train_score'].std() * 2))\n",
    "\n",
    "print(\"Test Accuracy eclf3: %0.2f (+/- %0.2f)\" % (cross_validate_ecfl3['test_score'].mean(), cross_validate_ecfl3['test_score'].std() * 2))\n",
    "print(\"Test Accuracy eclf9: %0.2f (+/- %0.2f)\" % (cross_validate_ecfl9['test_score'].mean(), cross_validate_ecfl9['test_score'].std() * 2))"
   ]
  },
  {
   "cell_type": "markdown",
   "metadata": {},
   "source": [
    "### PLotting the results. "
   ]
  },
  {
   "cell_type": "code",
   "execution_count": null,
   "metadata": {},
   "outputs": [],
   "source": [
    "y_pred_logreg=logreg_TS.predict(X_test)\n",
    "predictions_logreg=pd.Series(y_pred_logreg,index=y_test.index)\n",
    "\n",
    "y_test_pred_logreg=pd.concat([y_test,predictions_logreg],axis=1)\n",
    "y_test_pred_logreg.rename(columns={'NHY':'trueLabel',0:'prediction_logreg'},inplace=True)\n",
    "\n",
    "VISIT_ID=[2]\n",
    "for i in range(1,len(y_test_pred_logreg)):\n",
    "    if (y_test_pred_logreg.index[i]==y_test_pred_logreg.index[i-1]):\n",
    "        visit=VISIT_ID[len(VISIT_ID)-1]+1\n",
    "    else:\n",
    "        visit=2\n",
    "    VISIT_ID.append(visit)\n",
    "print(len(VISIT_ID))\n",
    "y_test_pred_logreg['VISIT_ID_future']=VISIT_ID\n",
    "\n",
    "y_pred_rfc=pd.Series(rfc_TS.predict(X_test),index=y_test.index)\n",
    "y_pred_rfc.name='prediction_rfc'\n",
    "y_pred_xgb=pd.Series(xgb_TS.predict(X_test),index=y_test.index)\n",
    "y_pred_xgb.name='prediction_xgb'\n",
    "\n",
    "test_all=pd.concat([X_test,y_test_pred_logreg, y_pred_rfc,y_pred_xgb],axis=1)\n",
    "print(len(test_all))\n",
    "results_toplot=test_all[['num_visits','VISIT_ID','NHY','VISIT_ID_future','trueLabel',\n",
    "                         'prediction_logreg','prediction_rfc','prediction_xgb']]\n",
    "results_toplot.reset_index(inplace=True)\n",
    "results_toplot.head()"
   ]
  },
  {
   "cell_type": "code",
   "execution_count": null,
   "metadata": {},
   "outputs": [],
   "source": [
    "def patients_sampling(df,sample_size=25,seed=123):\n",
    "    np.random.seed(seed)\n",
    "    sample=list(np.random.randint(0,len(set(df['PATNO'])),sample_size+1))\n",
    "    patients_sample=pd.Series(list(set(df['PATNO'])))[sample]\n",
    "    patients_sample=list(patients_sample.values)\n",
    "    sub_df=df.loc[df['PATNO'].isin(patients_sample),:]\n",
    "    return sub_df\n",
    "df_toPlot=patients_sampling(results_toplot)\n",
    "\n",
    "fig = plt.figure(figsize=(60,60))\n",
    "num_pat=len(set(df_toPlot['PATNO']))\n",
    "for pat,num in zip(list(set(df_toPlot['PATNO'])),range(1,num_pat+1)):\n",
    "    df0=df_toPlot[df_toPlot['PATNO']==pat]\n",
    "    ax = fig.add_subplot(5,5,num)\n",
    "    ax.plot(df0['VISIT_ID'], df0['NHY'],marker='o', markerfacecolor='blue', markersize=15, \n",
    "            color='skyblue', linewidth=4,label='NHY history')\n",
    "    ax.plot(df0['VISIT_ID_future'], df0['trueLabel'],marker='o',markersize=15,\n",
    "            color='blue',linestyle='dashed',linewidth=4,label='True Label')\n",
    "    ax.plot(df0['VISIT_ID_future'], df0['prediction_logreg'], marker='x', \n",
    "            color='black', linewidth=4, linestyle='dotted', label='logreg')\n",
    "    ax.plot(df0['VISIT_ID_future'], df0['prediction_rfc'], marker='x', \n",
    "            color='green', linewidth=4, linestyle='dotted', label='rfc')\n",
    "    ax.plot(df0['VISIT_ID_future'], df0['prediction_xgb'], marker='x', \n",
    "            color='orange', linewidth=4, linestyle='dotted', label='XG Boost')\n",
    "    ax.set_xlim([0.5, 8.5])\n",
    "    ax.set_ylim([-0.5, 5])\n",
    "    ax.set_title(pat,fontdict={'fontsize':20})\n",
    "    ax.legend(fontsize='x-large')\n",
    "plt.tight_layout()\n",
    "#fig.figure.suptitle('true labels vs predictions')\n",
    "plt.savefig('/Users/alicemartin/02_DSR_Project/parkinson-disease-project/output/ML_predictions/predictions_graph_123.png')\n",
    "plt.show()"
   ]
  },
  {
   "cell_type": "markdown",
   "metadata": {},
   "source": [
    "### cropping for number of visits > 4"
   ]
  },
  {
   "cell_type": "markdown",
   "metadata": {},
   "source": [
    "`dfpad_th4['visits_thresold']=dfpad_th4['VISIT_ID']-(dfpad_th4['num_visits']-4)\n",
    "print(dfpad_th4.shape)\n",
    "rowsToDrop=dfpad_th4[(dfpad_th4['num_visits']>4) & (dfpad_th4['visits_thresold']<=0)].index\n",
    "print(len(rowsToDrop))\n",
    "dfpaddrop_th4=dfpad_th4.drop(index=list(rowsToDrop),columns='visits_thresold')\n",
    "dfpaddrop_th4['NHY']=dfpaddrop_th4['NHY'].apply(lambda x: round(x,0))\n",
    "print(dfpaddrop_th4.shape)\n",
    "print('number pf patients:{}'.format(len(set(dfpaddrop_th4['PATNO']))))\n",
    "set(dfpaddrop_th4['NHY'])\n",
    "\n",
    "\n",
    "datatoDrop=dfpaddrop_th4[dfpaddrop_th4['num_visits']==dfpaddrop_th4['VISIT_ID']]\n",
    "data_TS=dfpaddrop_th4.drop(index=list(datatoDrop.index),columns=['MSEADLG'])\n",
    "print(data_TS.shape)\n",
    "data_TS.sort_values(['PATNO','VISIT_ID'],inplace=True)\n",
    "data_TS.set_index(keys=['PATNO'],inplace=True)\n",
    "data_TS.head()\n",
    "\n",
    "targettoDrop=dfpaddrop_th4[dfpaddrop_th4['VISIT_ID']==dfpaddrop_th4['num_visits']-3]\n",
    "len(targettoDrop)\n",
    "target_TS=dfpaddrop_th4.drop(index=list(datatoDrop.index))\n",
    "target_TS.sort_values(['PATNO','VISIT_ID'],inplace=True)\n",
    "target_TS.set_index(keys=['PATNO'],inplace=True)\n",
    "target_TS=target_TS['NHY']\n",
    "print(target_TS.shape)\n",
    "list(set(target_TS.values))`"
   ]
  }
 ],
 "metadata": {
  "kernelspec": {
   "display_name": "Python [default]",
   "language": "python",
   "name": "python3"
  },
  "language_info": {
   "codemirror_mode": {
    "name": "ipython",
    "version": 3
   },
   "file_extension": ".py",
   "mimetype": "text/x-python",
   "name": "python",
   "nbconvert_exporter": "python",
   "pygments_lexer": "ipython3",
   "version": "3.5.6"
  }
 },
 "nbformat": 4,
 "nbformat_minor": 2
}
