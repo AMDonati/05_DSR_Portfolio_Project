{
 "cells": [
  {
   "cell_type": "markdown",
   "metadata": {},
   "source": [
    "## TO DO - Aug 26th\n",
    "* add number of timepoints for each patients on graph\n",
    "* do EDA for: \n",
    "    * UPDRS with average. NB: NUPDRS3 contains a column with Hoehn & Yahr Stage\n",
    "    * Non-motor assessments\n",
    "    * Gen Medical info\n",
    "    * Neurological assessements\n",
    "* to plot as well: unbalance of class in the dataset using an histogram\n",
    "> modify the histogram because does not plot the good thing as is right now..."
   ]
  },
  {
   "cell_type": "markdown",
   "metadata": {},
   "source": [
    "## REFERENCES"
   ]
  },
  {
   "cell_type": "markdown",
   "metadata": {},
   "source": [
    "* **Data viz - Jesus**: \n",
    " * http://localhost:8888/notebooks/00_TRAINING/02_DSR/VIZ_course/PLOTLY/code_for_slides.ipynb\n",
    " * http://localhost:8888/notebooks/00_TRAINING/02_DSR/VIZ_course/PLOTLY/code_to_learn.ipynb\n",
    " * http://localhost:8888/notebooks/01_Dev/02_Python-tutorials_Jupyter-notebooks/03_Python_forDS_Udemy/Plotly%20and%20cufflinks_AM.ipynb\n",
    "\n",
    "### Specific to time-series: \n",
    "* https://github.com/ChadFulton/tsa-notebooks\n",
    "* https://github.com/maxim5/time-series-machine-learning\n",
    "\n",
    "### Kaggle Kernels\n",
    "* https://www.kaggle.com/c/web-traffic-time-series-forecasting"
   ]
  },
  {
   "cell_type": "markdown",
   "metadata": {},
   "source": [
    "## 0. Imports & functions"
   ]
  },
  {
   "cell_type": "code",
   "execution_count": 1,
   "metadata": {},
   "outputs": [],
   "source": [
    "#imports \n",
    "import numpy as np \n",
    "import pandas as pd \n",
    "import matplotlib.pyplot as plt\n",
    "%matplotlib inline\n",
    "import plotly.plotly as py\n",
    "import cufflinks as cf\n",
    "import seaborn as sns\n",
    "import urllib.parse\n",
    "from glob import glob\n",
    "import os\n",
    "import ntpath \n",
    "import zipfile\n",
    "from datetime import datetime\n",
    "\n",
    "#and enable the offline mode in the notebook (not needed in Jupyter Lab)\n",
    "#py.offline.init_notebook_mode(connected=True)\n",
    "import warnings\n",
    "warnings.filterwarnings('ignore')\n",
    "PPMI_path='/Users/alicemartin/02_DSR_Project/parkinson-disease-project/data/'"
   ]
  },
  {
   "cell_type": "code",
   "execution_count": 2,
   "metadata": {},
   "outputs": [],
   "source": [
    "#!pip install cufflinks --upgrade"
   ]
  },
  {
   "cell_type": "code",
   "execution_count": 3,
   "metadata": {},
   "outputs": [],
   "source": [
    "def reading_csv_files(folder_path):\n",
    "    # saving all the csv files in a dataframe\n",
    "    import os\n",
    "    import glob\n",
    "    # glob.glob('*.csv') #find all the csv files in a pathname. \n",
    "    os.chdir(folder_path)\n",
    "    csv_files = [i for i in glob.glob('*.csv')]\n",
    "\n",
    "    # Reading each csv file and storing them in a dictionnary containing the file name and the dataframe\n",
    "    dict_files={}\n",
    "    files_names=[]\n",
    "    for files in csv_files:\n",
    "        df=pd.read_csv(files,engine='python')\n",
    "        basepath, filename=ntpath.split(files)\n",
    "        files_names.append(filename)\n",
    "        dict_files[filename]=df\n",
    "        \n",
    "    # Calculating the # of rows and features for each dataframe and storing them in a list of tuples\n",
    "    shape_df=[]\n",
    "    for i in range(0,len(dict_files.keys())):\n",
    "        nrows, ncols=(len(dict_files[files_names[i]]),len(dict_files[files_names[i]].columns))\n",
    "        shape_df.append((nrows,ncols))\n",
    "\n",
    "    return (shape_df,files_names,dict_files)"
   ]
  },
  {
   "cell_type": "code",
   "execution_count": 4,
   "metadata": {},
   "outputs": [],
   "source": [
    "def number_of_patients(df):\n",
    "    '''return the number of patients in each csv files and the number of events'''\n",
    "    patients=len(list(set(df['PATNO'])))\n",
    "    if 'EVENT_ID' in df.columns:\n",
    "        events=len(list(set(df['EVENT_ID'])))\n",
    "    else:\n",
    "        events='no TS data'\n",
    "    return (patients,events)"
   ]
  },
  {
   "cell_type": "code",
   "execution_count": 5,
   "metadata": {},
   "outputs": [],
   "source": [
    "def features_selection(df, SEL):\n",
    "    '''cleanier way to do features selection in each csv file'''\n",
    "    return df_sel"
   ]
  },
  {
   "cell_type": "code",
   "execution_count": 6,
   "metadata": {},
   "outputs": [],
   "source": [
    "def patients_selection(df, threshold=6):\n",
    "    '''return a dataframe containing only the patients with number of visits > threshold'''\n",
    "    if 'PATNO' in df.columns: \n",
    "        visits_number_by_pat=df.groupby('PATNO').size().sort_values(ascending=False)\n",
    "        mask_sel=visits_number_by_pat>=threshold\n",
    "        patients_sel=list(mask_sel[mask_sel.values==True].index)\n",
    "        df=df.loc[df['PATNO'].isin(patients_sel),:]\n",
    "        df=df.sort_values('PATNO')\n",
    "        return (patients_sel, df)\n",
    "    else:\n",
    "        print(\"There is no 'PATNO' column in the dataframe\")"
   ]
  },
  {
   "cell_type": "code",
   "execution_count": 7,
   "metadata": {},
   "outputs": [],
   "source": [
    "def PD_patients_selection(df):\n",
    "    folder_path='/Users/alicemartin/02_DSR_Project/parkinson-disease-project/data/PPMI-final-dataset-382018/1-Subject-Characteristics/'\n",
    "    files_names=reading_csv_files(folder_path)[1]\n",
    "    dict_files=reading_csv_files(folder_path)[2]\n",
    "\n",
    "    ### Patient_Status - actually useful for selecting only the PD patients in each table\n",
    "    PRODROMA=dict_files[files_names[0]]\n",
    "    PD_cat=['PD','REGPD','GENPD']\n",
    "    PD_patients=list(PRODROMA.loc[PRODROMA['RECRUITMENT_CAT'].isin(PD_cat),'PATNO'])\n",
    "    sub_df=df.loc[df['PATNO'].isin(PD_patients),:]\n",
    "    return sub_df"
   ]
  },
  {
   "cell_type": "code",
   "execution_count": 8,
   "metadata": {},
   "outputs": [],
   "source": [
    "def patients_sampling(df,sample_size=25,seed=123):\n",
    "    np.random.seed(seed)\n",
    "    sample=list(np.random.randint(0,number_of_patients(diagfeat_EADL)[0],sample_size+1))\n",
    "    patients_sample=pd.Series(list(set(df['PATNO'])))[sample]\n",
    "    patients_sample=list(patients_sample.values)\n",
    "    sub_df=df.loc[df['PATNO'].isin(patients_sample),:]\n",
    "    return sub_df"
   ]
  },
  {
   "cell_type": "code",
   "execution_count": 9,
   "metadata": {},
   "outputs": [],
   "source": [
    "def INFODT_date(df):\n",
    "    if 'INFODT' in df.columns: \n",
    "        df['INFODT_date']=df['INFODT'].apply(lambda x: datetime.strptime(x,'%m/%Y'))\n",
    "    return df"
   ]
  },
  {
   "cell_type": "code",
   "execution_count": 10,
   "metadata": {},
   "outputs": [],
   "source": [
    "def plot_distr_visits_pat(df,fig_name):\n",
    "    ''''''\n",
    "    # distribution of patients over the number of visits\n",
    "    visits_pat=df.groupby('PATNO').size()\n",
    "    plt.hist(x=visits_pat,bins=list(set(visits_pat.values)),normed=True,rwidth=0.5)\n",
    "    plt_path_name='/Users/alicemartin/02_DSR_Project/parkinson-disease-project/assets/figs-EDA/distr_visits_pat'\n",
    "    plt_path_name=plt_path_name+fig_name\n",
    "    plt.savefig(plt_path_name)"
   ]
  },
  {
   "cell_type": "code",
   "execution_count": 11,
   "metadata": {},
   "outputs": [],
   "source": [
    "def plotting_feat(df,fig_name,y=\"sum_feat\"):\n",
    "    # first plot \n",
    "    sns.set(style=\"darkgrid\")\n",
    "    g = sns.FacetGrid(df, col=\"PATNO\", margin_titles=True,col_wrap=5)\n",
    "    g.map(plt.hist, y, color=\"steelblue\")\n",
    "    plt.subplots_adjust(top=0.9)\n",
    "    g.fig.suptitle('distribution of feature per number of visits')\n",
    "    plt_path_name='/Users/alicemartin/02_DSR_Project/parkinson-disease-project/assets/figs-EDA/hist_visits_feat'\n",
    "    plt_path_name=plt_path_name+fig_name\n",
    "    g.savefig(plt_path_name)\n",
    "    plt.close()\n",
    "    \n",
    "    # second plot\n",
    "    g = sns.FacetGrid(df, col=\"PATNO\", margin_titles=True,col_wrap=5)\n",
    "    g.map(plt.plot, y, color=\"steelblue\")\n",
    "    plt.subplots_adjust(top=0.9)\n",
    "    g.fig.suptitle('evolution of feature overtime by patient')\n",
    "    plt_path_name='/Users/alicemartin/02_DSR_Project/parkinson-disease-project/assets/figs-EDA/lineplt_DT_feat'\n",
    "    plt_path_name=plt_path_name+fig_name\n",
    "    g.savefig(plt_path_name)\n",
    "    plt.close()\n",
    "    \n",
    "    # Third plot\n",
    "    ax=sns.boxplot(y=y,x=\"PATNO\", data=df)\n",
    "    ax.figure.set_size_inches(w=20,h=10)\n",
    "    plt_path_name='/Users/alicemartin/02_DSR_Project/parkinson-disease-project/assets/figs-EDA/boxplot_PATNO_feat'\n",
    "    plt.subplots_adjust(top=0.9)\n",
    "    g.fig.suptitle('distribution of feature per patient')\n",
    "    plt_path_name=plt_path_name+fig_name\n",
    "    ax.figure.savefig(fname=plt_path_name)\n",
    "    plt.close()"
   ]
  },
  {
   "cell_type": "code",
   "execution_count": 69,
   "metadata": {},
   "outputs": [],
   "source": [
    "def dataset_balance_analysis(df,num_event,feat,normed=False):\n",
    "    events=list(set(df['EVENT_ID']))\n",
    "    if num_event > len(events):\n",
    "        print('num_event is out of range')\n",
    "    else:\n",
    "        num_pat_feat=df[df['EVENT_ID']==events[num_event]].groupby(by=feat).size()\n",
    "        plt.hist(num_pat_feat)"
   ]
  },
  {
   "cell_type": "code",
   "execution_count": 70,
   "metadata": {},
   "outputs": [],
   "source": [
    "def dataset_balance_analysis_allEvents(df,feat,normed=False):\n",
    "        num_pat_feat=df.groupby(by=feat).size()\n",
    "        plt.hist(num_pat_feat)"
   ]
  },
  {
   "cell_type": "markdown",
   "metadata": {},
   "source": [
    "## 1. Data-processing"
   ]
  },
  {
   "cell_type": "markdown",
   "metadata": {},
   "source": [
    "###  Getting the PD people - 1052 patients using RECRUITMENT_CAT"
   ]
  },
  {
   "cell_type": "code",
   "execution_count": 13,
   "metadata": {},
   "outputs": [
    {
     "name": "stdout",
     "output_type": "stream",
     "text": [
      "number of PD patients:1052\n"
     ]
    }
   ],
   "source": [
    "folder_path='/Users/alicemartin/02_DSR_Project/parkinson-disease-project/data/PPMI-final-dataset-382018/1-Subject-Characteristics/'\n",
    "files_names=reading_csv_files(folder_path)[1]\n",
    "dict_files=reading_csv_files(folder_path)[2]\n",
    "\n",
    "### Patient_Status - actually useful for selecting only the PD patients in each table\n",
    "PRODROMA=dict_files[files_names[0]]\n",
    "PD_cat=['PD','REGPD','GENPD']\n",
    "PD_patients=list(PRODROMA.loc[PRODROMA['RECRUITMENT_CAT'].isin(PD_cat),'PATNO'])\n",
    "print('number of PD patients:{}'.format(len(PD_patients)))"
   ]
  },
  {
   "cell_type": "markdown",
   "metadata": {},
   "source": [
    "### Creating the dataset with selected features - DIAGFEAT. "
   ]
  },
  {
   "cell_type": "code",
   "execution_count": 17,
   "metadata": {},
   "outputs": [
    {
     "name": "stdout",
     "output_type": "stream",
     "text": [
      "2349 320\n"
     ]
    }
   ],
   "source": [
    "folder_path='/Users/alicemartin/02_DSR_Project/parkinson-disease-project/data/PPMI-final-dataset-382018/5-Medical-History/'\n",
    "files_names=reading_csv_files(folder_path)[1]\n",
    "dict_files=reading_csv_files(folder_path)[2]\n",
    "\n",
    "### 'Diagnostic_Features.csv': useful: Feat-PD - 1670 patients.\n",
    "DIAGFEAT=dict_files[files_names[1]]\n",
    "\n",
    "#using SEL2 for now: removing features with Non applicable values\n",
    "SEL2=[ 'REC_ID','PATNO', 'EVENT_ID','INFODT',\n",
    "       'DFSTROKE', 'DFRSKFCT', 'DFPRESNT', 'DFRPROG', 'DFSTATIC', 'DFHEMPRK',\n",
    "       'DFAGESX', 'DFOTHCRS', 'DFCRSCM', 'DFRTREMP', 'DFRTREMA', 'DFPATREM',\n",
    "       'DFOTHTRM', 'DFTREMCM', 'DFRIGIDP', 'DFRIGIDA', 'DFAXRIG', 'DFUNIRIG',\n",
    "       'DFTONE', 'DFOTHRIG', 'DFRIGCM', 'DFBRADYP', 'DFBRADYA', 'DFAKINES',\n",
    "       'DFBRPLUS', 'DFOTHABR', 'DFABRCM', 'DFPGDIST', 'DFGAIT', 'DFFREEZ',\n",
    "       'DFFALLS', 'DFOTHPG', 'DFPGCM', 'DFPSYCH', 'DFCOGNIT', 'DFDYSTON',\n",
    "       'DFCHOREA', 'DFMYOCLO', 'DFOTHHYP', 'DFHYPCM', 'DFHEMTRO', 'DFPSHYPO',\n",
    "       'DFSEXDYS', 'DFURDYS', 'DFBWLDYS', 'DFOCULO', 'DFEYELID', 'DFNEURAB',\n",
    "       'DFRAPSPE', 'DFBULBAR','DFATYP']\n",
    "## features removed.\n",
    "#SEL2=SEL.remove('DFCTSCAN')\n",
    "#SEL2=SEL.remove('DFDOPRSP')\n",
    "#SEL2=SEL.remove('DFMRI')\n",
    "DIAGFEAT_sel=DIAGFEAT[SEL2]\n",
    "\n",
    "# seleting the PD_patients with nulbe of visits > Threshold\n",
    "DIAGFEAT_sel=PD_patients_selection(DIAGFEAT_sel)\n",
    "DIAGFEAT_sel=patients_selection(DIAGFEAT,6)[1]\n",
    "DIAGFEAT_sel.reset_index(drop=True,inplace=True)\n",
    "\n",
    "#Add one feature: summing the binary PD measurements \n",
    "DIAGFEAT_sel['sum_feat']=DIAGFEAT_sel.iloc[:,range(4,55)].sum(axis=1)\n",
    "print(len(DIAGFEAT_sel),len(list(set(DIAGFEAT_sel['PATNO']))))"
   ]
  },
  {
   "cell_type": "markdown",
   "metadata": {},
   "source": [
    "### Creating the Labels - MODSEADL & Merging w/ DIAGFEAT. "
   ]
  },
  {
   "cell_type": "code",
   "execution_count": 72,
   "metadata": {},
   "outputs": [
    {
     "name": "stdout",
     "output_type": "stream",
     "text": [
      "320\n",
      "2327 320\n"
     ]
    },
    {
     "data": {
      "text/html": [
       "<div>\n",
       "<style scoped>\n",
       "    .dataframe tbody tr th:only-of-type {\n",
       "        vertical-align: middle;\n",
       "    }\n",
       "\n",
       "    .dataframe tbody tr th {\n",
       "        vertical-align: top;\n",
       "    }\n",
       "\n",
       "    .dataframe thead th {\n",
       "        text-align: right;\n",
       "    }\n",
       "</style>\n",
       "<table border=\"1\" class=\"dataframe\">\n",
       "  <thead>\n",
       "    <tr style=\"text-align: right;\">\n",
       "      <th></th>\n",
       "      <th>REC_ID_x</th>\n",
       "      <th>F_STATUS_x</th>\n",
       "      <th>PATNO</th>\n",
       "      <th>EVENT_ID</th>\n",
       "      <th>PAG_NAME_x</th>\n",
       "      <th>INFODT</th>\n",
       "      <th>DFSTROKE</th>\n",
       "      <th>DFRSKFCT</th>\n",
       "      <th>DFPRESNT</th>\n",
       "      <th>DFRPROG</th>\n",
       "      <th>...</th>\n",
       "      <th>sum_feat</th>\n",
       "      <th>REC_ID_y</th>\n",
       "      <th>F_STATUS_y</th>\n",
       "      <th>PAG_NAME_y</th>\n",
       "      <th>MSEADLG</th>\n",
       "      <th>ORIG_ENTRY_y</th>\n",
       "      <th>LAST_UPDATE_y</th>\n",
       "      <th>QUERY_y</th>\n",
       "      <th>SITE_APRV_y</th>\n",
       "      <th>INFODT_date</th>\n",
       "    </tr>\n",
       "  </thead>\n",
       "  <tbody>\n",
       "    <tr>\n",
       "      <th>0</th>\n",
       "      <td>544962901</td>\n",
       "      <td>V</td>\n",
       "      <td>3051</td>\n",
       "      <td>V12</td>\n",
       "      <td>DIAGFEAT</td>\n",
       "      <td>11/2015</td>\n",
       "      <td>0.0</td>\n",
       "      <td>0.0</td>\n",
       "      <td>0.0</td>\n",
       "      <td>0.0</td>\n",
       "      <td>...</td>\n",
       "      <td>6.0</td>\n",
       "      <td>544964201</td>\n",
       "      <td>V</td>\n",
       "      <td>MODSEADL</td>\n",
       "      <td>75.0</td>\n",
       "      <td>11/2015</td>\n",
       "      <td>2015-11-23 17:00:28.0</td>\n",
       "      <td>NaN</td>\n",
       "      <td>11/2015</td>\n",
       "      <td>2015-11-01</td>\n",
       "    </tr>\n",
       "    <tr>\n",
       "      <th>1</th>\n",
       "      <td>378904801</td>\n",
       "      <td>V</td>\n",
       "      <td>3051</td>\n",
       "      <td>V06</td>\n",
       "      <td>DIAGFEAT</td>\n",
       "      <td>11/2012</td>\n",
       "      <td>0.0</td>\n",
       "      <td>0.0</td>\n",
       "      <td>0.0</td>\n",
       "      <td>0.0</td>\n",
       "      <td>...</td>\n",
       "      <td>6.0</td>\n",
       "      <td>378915401</td>\n",
       "      <td>V</td>\n",
       "      <td>MODSEADL</td>\n",
       "      <td>95.0</td>\n",
       "      <td>12/2012</td>\n",
       "      <td>2012-12-19 12:08:51.0</td>\n",
       "      <td>NaN</td>\n",
       "      <td>12/2012</td>\n",
       "      <td>2012-11-01</td>\n",
       "    </tr>\n",
       "    <tr>\n",
       "      <th>2</th>\n",
       "      <td>659585301</td>\n",
       "      <td>V</td>\n",
       "      <td>3051</td>\n",
       "      <td>V14</td>\n",
       "      <td>DIAGFEAT</td>\n",
       "      <td>10/2017</td>\n",
       "      <td>0.0</td>\n",
       "      <td>0.0</td>\n",
       "      <td>0.0</td>\n",
       "      <td>0.0</td>\n",
       "      <td>...</td>\n",
       "      <td>8.0</td>\n",
       "      <td>659589001</td>\n",
       "      <td>V</td>\n",
       "      <td>MODSEADL</td>\n",
       "      <td>90.0</td>\n",
       "      <td>10/2017</td>\n",
       "      <td>2017-10-26 08:55:54.0</td>\n",
       "      <td>NaN</td>\n",
       "      <td>10/2017</td>\n",
       "      <td>2017-10-01</td>\n",
       "    </tr>\n",
       "  </tbody>\n",
       "</table>\n",
       "<p>3 rows × 74 columns</p>\n",
       "</div>"
      ],
      "text/plain": [
       "    REC_ID_x F_STATUS_x  PATNO EVENT_ID PAG_NAME_x   INFODT  DFSTROKE  \\\n",
       "0  544962901          V   3051      V12   DIAGFEAT  11/2015       0.0   \n",
       "1  378904801          V   3051      V06   DIAGFEAT  11/2012       0.0   \n",
       "2  659585301          V   3051      V14   DIAGFEAT  10/2017       0.0   \n",
       "\n",
       "   DFRSKFCT  DFPRESNT  DFRPROG     ...      sum_feat   REC_ID_y  F_STATUS_y  \\\n",
       "0       0.0       0.0      0.0     ...           6.0  544964201           V   \n",
       "1       0.0       0.0      0.0     ...           6.0  378915401           V   \n",
       "2       0.0       0.0      0.0     ...           8.0  659589001           V   \n",
       "\n",
       "   PAG_NAME_y MSEADLG  ORIG_ENTRY_y          LAST_UPDATE_y  QUERY_y  \\\n",
       "0    MODSEADL    75.0       11/2015  2015-11-23 17:00:28.0      NaN   \n",
       "1    MODSEADL    95.0       12/2012  2012-12-19 12:08:51.0      NaN   \n",
       "2    MODSEADL    90.0       10/2017  2017-10-26 08:55:54.0      NaN   \n",
       "\n",
       "   SITE_APRV_y INFODT_date  \n",
       "0      11/2015  2015-11-01  \n",
       "1      12/2012  2012-11-01  \n",
       "2      10/2017  2017-10-01  \n",
       "\n",
       "[3 rows x 74 columns]"
      ]
     },
     "execution_count": 72,
     "metadata": {},
     "output_type": "execute_result"
    }
   ],
   "source": [
    "### 'Modified_Schwab_+_England_ADL.csv' - 1837 patients\n",
    "folder_path='/Users/alicemartin/02_DSR_Project/parkinson-disease-project/data/PPMI-final-dataset-382018/6-Motor-Assessments/'\n",
    "files_names=reading_csv_files(folder_path)[1]\n",
    "dict_files=reading_csv_files(folder_path)[2]\n",
    "\n",
    "MODSEADL=dict_files[files_names[6]]\n",
    "\n",
    "# seleting the patients and features\n",
    "SEL=['REC_ID','PATNO','EVENT_ID','INFODT','MSEADLG']\n",
    "MODSEADL_sel=MODSEADL[SEL]\n",
    "MODSEADL_sel=PD_patients_selection(MODSEADL_sel)\n",
    "MODSEADL_sel=patients_selection(MODSEADL,6)[1]\n",
    "\n",
    "# finding the patient set intersection between features and labels \n",
    "labels_pat=patients_selection(MODSEADL_sel,6)[0] \n",
    "feat_pat=patients_selection(DIAGFEAT_sel,6)[0]\n",
    "intersect=list(set(labels_pat) & set(feat_pat)) # ok cool: all the patients in DIAGFEAT are in MODSEADL. \n",
    "print(len(intersect))\n",
    "# selecting only the intersect patients.\n",
    "MODSEADL_sel2=MODSEADL_sel.loc[MODSEADL_sel['PATNO'].isin(intersect),:]\n",
    "\n",
    "# merging features & label for plotting: \n",
    "#MODSEADL_sel2=MODSEADL_sel.loc[intersect,:]\n",
    "diagfeat_EADL=pd.merge(DIAGFEAT_sel,MODSEADL_sel2,on=['PATNO','EVENT_ID','INFODT'],how='inner')\n",
    "diagfeat_EADL=INFODT_date(diagfeat_EADL)\n",
    "print(len(diagfeat_EADL),len(list(set(diagfeat_EADL['PATNO']))))\n",
    "diagfeat_EADL.head(3)"
   ]
  },
  {
   "cell_type": "code",
   "execution_count": 73,
   "metadata": {},
   "outputs": [
    {
     "data": {
      "image/png": "[encoded data removed]",
      "text/plain": [
       "<Figure size 432x288 with 1 Axes>"
      ]
     },
     "metadata": {},
     "output_type": "display_data"
    }
   ],
   "source": [
    "dataset_balance_analysis_allEvents(diagfeat_EADL,'MSEADLG')"
   ]
  },
  {
   "cell_type": "code",
   "execution_count": 67,
   "metadata": {},
   "outputs": [
    {
     "data": {
      "image/png": "[encoded data removed]",
      "text/plain": [
       "<Figure size 432x288 with 1 Axes>"
      ]
     },
     "metadata": {},
     "output_type": "display_data"
    }
   ],
   "source": [
    "dataset_balance_analysis(df=diagfeat_EADL,num_event=2,feat='MSEADLG')"
   ]
  },
  {
   "cell_type": "code",
   "execution_count": 66,
   "metadata": {},
   "outputs": [
    {
     "data": {
      "image/png": "[encoded data removed]",
      "text/plain": [
       "<Figure size 432x288 with 1 Axes>"
      ]
     },
     "metadata": {},
     "output_type": "display_data"
    }
   ],
   "source": [
    "dataset_balance_analysis(df=diagfeat_EADL,num_event=5,feat='MSEADLG')"
   ]
  },
  {
   "cell_type": "markdown",
   "metadata": {},
   "source": [
    "## other labels - UPDRS scale. "
   ]
  },
  {
   "cell_type": "code",
   "execution_count": 39,
   "metadata": {},
   "outputs": [
    {
     "name": "stdout",
     "output_type": "stream",
     "text": [
      "6661\n",
      "567\n",
      "6661\n",
      "567\n",
      "8218\n",
      "604\n",
      "3438\n",
      "401\n"
     ]
    }
   ],
   "source": [
    "folder_path='/Users/alicemartin/02_DSR_Project/parkinson-disease-project/data/PPMI-final-dataset-382018/6-Motor-Assessments/'\n",
    "files_names=reading_csv_files(folder_path)[1]\n",
    "dict_files=reading_csv_files(folder_path)[2]\n",
    "\n",
    "### 'MDS_UPDRS_Part_I.csv' - 2010 patients\n",
    "NUPDRS1=dict_files[files_names[2]]\n",
    "SEL=['REC_ID', 'PATNO', 'EVENT_ID', 'PAG_NAME', 'INFODT',\n",
    "       'NP1COG', 'NP1HALL', 'NP1DPRS', 'NP1ANXS', 'NP1APAT',\n",
    "       'NP1DDS']\n",
    "NUPDRS1_sel=NUPDRS1[SEL]\n",
    "NUPDRS1_sel=INFODT_date(NUPDRS1_sel)\n",
    "NUPDRS1_sel['sum_feat']=NUPDRS1_sel[['NP1COG', 'NP1HALL', 'NP1DPRS', 'NP1ANXS', 'NP1APAT',\n",
    "       'NP1DDS']].sum(axis=1)\n",
    "NUPDRS1_sel=PD_patients_selection(NUPDRS1_sel)\n",
    "NUPDRS1_sel=patients_selection(NUPDRS1_sel)[1]\n",
    "#print('UPDRS1:{}'.format((len(NUPDRS1_sel),len(list(set(NUPDRS1_sel['PATNO']))))))\n",
    "print(len(NUPDRS1_sel)),print(len(list(set(NUPDRS1_sel['PATNO']))))\n",
    "\n",
    "### 'MDS_UPDRS_Part_II__Patient_Questionnaire.csv' - 2011 patients\n",
    "NUPDRS2P=dict_files[files_names[11]]\n",
    "SEL=['REC_ID', 'PATNO', 'EVENT_ID', 'PAG_NAME', 'INFODT',\n",
    "       'NP2SPCH', 'NP2SALV', 'NP2SWAL', 'NP2EAT', 'NP2DRES',\n",
    "       'NP2HYGN', 'NP2HWRT', 'NP2HOBB', 'NP2TURN', 'NP2TRMR', 'NP2RISE',\n",
    "       'NP2WALK', 'NP2FREZ']\n",
    "NUPDRS2P_sel=NUPDRS2P[SEL]\n",
    "NUPDRS2P_sel=INFODT_date(NUPDRS2P_sel)\n",
    "NUPDRS2P_sel=PD_patients_selection(NUPDRS2P_sel)\n",
    "NUPDRS2P_sel['sum_feat']=NUPDRS2P_sel[['NP2SPCH', 'NP2SALV', 'NP2SWAL', 'NP2EAT', 'NP2DRES',\n",
    "       'NP2HYGN', 'NP2HWRT', 'NP2HOBB', 'NP2TURN', 'NP2TRMR', 'NP2RISE',\n",
    "       'NP2WALK', 'NP2FREZ']].sum(axis=1)\n",
    "NUPDRS2P_sel=patients_selection(NUPDRS2P_sel)[1]\n",
    "#print('UPDRS2P:({},{})'.format((len(NUPDRS2P_sel),len(list(set(NUPDRS2P_sel['PATNO'])))))))\n",
    "print(len(NUPDRS2P_sel)),print(len(list(set(NUPDRS2P_sel['PATNO']))))\n",
    "\n",
    "### 'MDS_UPDRS_Part_III.csv' - 2010 patients\n",
    "NUPDRS3=dict_files[files_names[7]]\n",
    "SEL=['REC_ID', 'PATNO', 'EVENT_ID', 'PAG_NAME', 'INFODT',\n",
    "       'CMEDTM', 'NP3SPCH', 'NP3FACXP', 'NP3RIGN', 'NP3RIGRU',\n",
    "       'NP3RIGLU', 'PN3RIGRL', 'NP3RIGLL', 'NP3FTAPR', 'NP3FTAPL', 'NP3HMOVR',\n",
    "       'NP3HMOVL', 'NP3PRSPR', 'NP3PRSPL', 'NP3TTAPR', 'NP3TTAPL', 'NP3LGAGR',\n",
    "       'NP3LGAGL', 'NP3RISNG', 'NP3GAIT', 'NP3FRZGT', 'NP3PSTBL', 'NP3POSTR',\n",
    "       'NP3BRADY', 'NP3PTRMR', 'NP3PTRML', 'NP3KTRMR', 'NP3KTRML', 'NP3RTARU',\n",
    "       'NP3RTALU', 'NP3RTARL', 'NP3RTALL', 'NP3RTALJ', 'NP3RTCON', 'DYSKPRES',\n",
    "       'DYSKIRAT', 'NHY', 'ANNUAL_TIME_BTW_DOSE_NUPDRS', 'ON_OFF_DOSE',\n",
    "       'PD_MED_USE']\n",
    "NUPDRS3_sel=NUPDRS3[SEL]\n",
    "NUPDRS3_sel=INFODT_date(NUPDRS3_sel)\n",
    "NUPDRS3_sel=PD_patients_selection(NUPDRS3_sel)\n",
    "NUPDRS3_sel['sum_feat']=NUPDRS3_sel[['NP3SPCH', 'NP3FACXP', 'NP3RIGN', 'NP3RIGRU',\n",
    "       'NP3RIGLU', 'PN3RIGRL', 'NP3RIGLL', 'NP3FTAPR', 'NP3FTAPL', 'NP3HMOVR',\n",
    "       'NP3HMOVL', 'NP3PRSPR', 'NP3PRSPL', 'NP3TTAPR', 'NP3TTAPL', 'NP3LGAGR',\n",
    "       'NP3LGAGL', 'NP3RISNG', 'NP3GAIT', 'NP3FRZGT', 'NP3PSTBL', 'NP3POSTR',\n",
    "       'NP3BRADY', 'NP3PTRMR', 'NP3PTRML', 'NP3KTRMR', 'NP3KTRML', 'NP3RTARU',\n",
    "       'NP3RTALU', 'NP3RTARL', 'NP3RTALL', 'NP3RTALJ', 'NP3RTCON']].sum(axis=1)\n",
    "NUPDRS3_sel=patients_selection(NUPDRS3_sel)[1]\n",
    "#print('UPDRS3:{}'.format((len(NUPDRS3_sel),len(list(set(NUPDRS3_sel['PATNO']))))))\n",
    "print(len(NUPDRS3_sel)),print(len(list(set(NUPDRS3_sel['PATNO']))))\n",
    "\n",
    "\n",
    "### 'MDS_UPDRS_Part_IV.csv' - 860 patients\n",
    "NUPDRS4=dict_files[files_names[5]]\n",
    "SEL=['REC_ID', 'PATNO', 'EVENT_ID', 'PAG_NAME', 'INFODT',\n",
    "       'NP4WDYSK', 'NP4DYSKI', 'NP4OFF', 'NP4FLCTI', 'NP4FLCTX', 'NP4DYSTN']\n",
    "NUPDRS4_sel=NUPDRS4[SEL]\n",
    "NUPDRS4_sel=INFODT_date(NUPDRS4_sel)\n",
    "NUPDRS4_sel=PD_patients_selection(NUPDRS4_sel)\n",
    "NUPDRS4_sel['sum_feat']=NUPDRS4_sel[['NP4WDYSK', 'NP4DYSKI', 'NP4OFF', \n",
    "                                     'NP4FLCTI', 'NP4FLCTX', 'NP4DYSTN']].sum(axis=1)\n",
    "NUPDRS4_sel=patients_selection(NUPDRS4_sel)[1]\n",
    "#print('UPDRS4:{}'.format((len(NUPDRS4_sel),len(list(set(NUPDRS4_sel['PATNO']))))))\n",
    "print(len(NUPDRS4_sel)),print(len(list(set(NUPDRS4_sel['PATNO']))))\n",
    "\n",
    "#merging NUPDRS1 & 2P\n",
    "NUPDRS1_2P=pd.merge(NUPDRS1_sel,NUPDRS2P_sel,how='inner',on=['PATNO','EVENT_ID','INFODT'])"
   ]
  },
  {
   "cell_type": "code",
   "execution_count": 74,
   "metadata": {},
   "outputs": [
    {
     "name": "stdout",
     "output_type": "stream",
     "text": [
      "1285 195\n",
      "1817 195\n"
     ]
    }
   ],
   "source": [
    "#merge DIAGFEAT w/ UPDRS\n",
    "diagfeat_NUPDRS1_2P=pd.merge(DIAGFEAT_sel,NUPDRS1_2P,how='inner',on=['PATNO','EVENT_ID','INFODT'])\n",
    "print(len(diagfeat_NUPDRS1_2P),len(list(set(diagfeat_NUPDRS1_2P['PATNO']))))\n",
    "\n",
    "diagfeat_NUPDRS3=pd.merge(DIAGFEAT_sel,NUPDRS3_sel,how='inner',on=['PATNO','EVENT_ID','INFODT'])\n",
    "print(len(diagfeat_NUPDRS3),len(list(set(diagfeat_NUPDRS3['PATNO']))))"
   ]
  },
  {
   "cell_type": "code",
   "execution_count": 76,
   "metadata": {},
   "outputs": [
    {
     "data": {
      "image/png": "[encoded data removed]",
      "text/plain": [
       "<Figure size 432x288 with 1 Axes>"
      ]
     },
     "metadata": {},
     "output_type": "display_data"
    }
   ],
   "source": [
    "dataset_balance_analysis_allEvents(diagfeat_NUPDRS3,'NHY')"
   ]
  },
  {
   "cell_type": "code",
   "execution_count": 78,
   "metadata": {},
   "outputs": [
    {
     "data": {
      "image/png": "[encoded data removed]",
      "text/plain": [
       "<Figure size 432x288 with 1 Axes>"
      ]
     },
     "metadata": {},
     "output_type": "display_data"
    }
   ],
   "source": [
    "dataset_balance_analysis(diagfeat_NUPDRS3,0,'NHY')"
   ]
  },
  {
   "cell_type": "code",
   "execution_count": 80,
   "metadata": {},
   "outputs": [
    {
     "data": {
      "image/png": "[encoded data removed]",
      "text/plain": [
       "<Figure size 432x288 with 1 Axes>"
      ]
     },
     "metadata": {},
     "output_type": "display_data"
    }
   ],
   "source": [
    "dataset_balance_analysis(diagfeat_NUPDRS3,6,'NHY')"
   ]
  },
  {
   "cell_type": "code",
   "execution_count": 81,
   "metadata": {},
   "outputs": [
    {
     "data": {
      "image/png": "[encoded data removed]",
      "text/plain": [
       "<Figure size 432x288 with 1 Axes>"
      ]
     },
     "metadata": {},
     "output_type": "display_data"
    }
   ],
   "source": [
    "dataset_balance_analysis(diagfeat_NUPDRS3,10,'NHY')"
   ]
  },
  {
   "cell_type": "markdown",
   "metadata": {},
   "source": [
    "## 2-Plotting. "
   ]
  },
  {
   "cell_type": "markdown",
   "metadata": {},
   "source": [
    "### 1. DIAGFEAT/MODSEADL"
   ]
  },
  {
   "cell_type": "code",
   "execution_count": 27,
   "metadata": {},
   "outputs": [
    {
     "data": {
      "image/png": "[encoded data removed]",
      "text/plain": [
       "<Figure size 432x288 with 1 Axes>"
      ]
     },
     "metadata": {},
     "output_type": "display_data"
    }
   ],
   "source": [
    "# distribution of patients over the number of visits\n",
    "plot_distr_visits_pat(diagfeat_EADL,fig_name='diagfeat_EADL.png')"
   ]
  },
  {
   "cell_type": "markdown",
   "metadata": {},
   "source": [
    "### DIAGFEAT"
   ]
  },
  {
   "cell_type": "code",
   "execution_count": null,
   "metadata": {},
   "outputs": [],
   "source": [
    "import cufflinks as cf\n",
    "# Configure it to work offline:\n",
    "cf.go_offline(connected=True)\n",
    "\n",
    "df_3051=diagfeat_EADL.loc[diagfeat_EADL['PATNO']==3051,:]\n",
    "df_3051.set_index('INFODT',inplace=True)\n",
    "df_3051['var_sumfeat']=df_3051.iloc[:,range(3,54)].sum(axis=1)\n",
    "df_3051_sumfeat=df_3051.loc[:,'var_sumfeat']\n",
    "df_3051_plot=df_3051.iloc[:,range(3,54)]\n",
    "\n",
    "#df_3051_plot.iplot(kind='scatter',filename='PATNO 3051 Diag Feat over time',mode='lines+markers')\n",
    "#find something better than scatter plot."
   ]
  },
  {
   "cell_type": "code",
   "execution_count": 28,
   "metadata": {},
   "outputs": [],
   "source": [
    "# Plotting the labels of multiple patients\n",
    "sub_df=patients_sampling(diagfeat_EADL)\n",
    "plotting_feat(sub_df,fig_name='_DIAGFEAT')"
   ]
  },
  {
   "cell_type": "markdown",
   "metadata": {},
   "source": [
    "### MODSEADL"
   ]
  },
  {
   "cell_type": "code",
   "execution_count": 29,
   "metadata": {},
   "outputs": [],
   "source": [
    "plotting_feat(sub_df,fig_name='_MODSEADL.png',y=\"MSEADLG\")"
   ]
  },
  {
   "cell_type": "markdown",
   "metadata": {},
   "source": [
    "### UPDRS"
   ]
  },
  {
   "cell_type": "code",
   "execution_count": 30,
   "metadata": {},
   "outputs": [
    {
     "data": {
      "image/png": "[encoded data removed]",
      "text/plain": [
       "<Figure size 432x288 with 1 Axes>"
      ]
     },
     "metadata": {},
     "output_type": "display_data"
    }
   ],
   "source": [
    "plot_distr_visits_pat(NUPDRS1_sel,fig_name='_UPDRS1.png')\n",
    "sub_df_UPDRS1=patients_sampling(NUPDRS1_sel)"
   ]
  },
  {
   "cell_type": "code",
   "execution_count": 31,
   "metadata": {},
   "outputs": [],
   "source": [
    "plotting_feat(sub_df_UPDRS1,fig_name='_UPDRS1.png')"
   ]
  },
  {
   "cell_type": "code",
   "execution_count": 32,
   "metadata": {},
   "outputs": [],
   "source": [
    "plot_distr_visits_pat(NUPDRS2P_sel,'_UPDRS2P.png')\n",
    "sub_df_UPDRS2P=patients_sampling(NUPDRS2P_sel)\n",
    "plotting_feat(sub_df_UPDRS2P,fig_name='_UPDRS12P.png')"
   ]
  },
  {
   "cell_type": "code",
   "execution_count": 33,
   "metadata": {},
   "outputs": [],
   "source": [
    "plot_distr_visits_pat(NUPDRS3_sel,fig_name='_UPDRS3.png')\n",
    "sub_df_UPDRS3=patients_sampling(NUPDRS3_sel)\n",
    "plotting_feat(sub_df_UPDRS3,fig_name='_UPDRS3.png')"
   ]
  },
  {
   "cell_type": "code",
   "execution_count": 34,
   "metadata": {},
   "outputs": [],
   "source": [
    "plot_distr_visits_pat(NUPDRS4_sel,fig_name='_UPDRS4.png')\n",
    "sub_df_UPDRS4=patients_sampling(NUPDRS4_sel)\n",
    "plotting_feat(sub_df_UPDRS4,fig_name='_UPDRS4.png')"
   ]
  },
  {
   "cell_type": "markdown",
   "metadata": {},
   "source": [
    "### Yoehn and Hahn Scale"
   ]
  },
  {
   "cell_type": "code",
   "execution_count": 35,
   "metadata": {},
   "outputs": [],
   "source": [
    "sub_df_UPDRS3=patients_sampling(NUPDRS3_sel)\n",
    "plotting_feat(sub_df_UPDRS3,fig_name='_Yoehn-Hahn.png',y=\"NHY\")"
   ]
  },
  {
   "cell_type": "code",
   "execution_count": null,
   "metadata": {},
   "outputs": [],
   "source": [
    "#ax = sns.stripplot(x=\"PATNO\", y=\"MSEADLG\",data=sub_df, jitter=True)\n",
    "#ax.figure.set_size_inches(w=20,h=10)\n",
    "#plt.show()"
   ]
  }
 ],
 "metadata": {
  "kernelspec": {
   "display_name": "Python 3",
   "language": "python",
   "name": "python3"
  },
  "language_info": {
   "codemirror_mode": {
    "name": "ipython",
    "version": 3
   },
   "file_extension": ".py",
   "mimetype": "text/x-python",
   "name": "python",
   "nbconvert_exporter": "python",
   "pygments_lexer": "ipython3",
   "version": "3.6.4"
  }
 },
 "nbformat": 4,
 "nbformat_minor": 2
}
