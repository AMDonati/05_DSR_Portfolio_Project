{
 "cells": [
  {
   "cell_type": "markdown",
   "metadata": {},
   "source": [
    "## TO DO: \n",
    "#### Understand what is the source of the perfect training accuracy: \n",
    "* Logistic Regression: play on the C parameter\n",
    "* RF: play on the parameters that can reduce overfitting\n",
    "#### Features highly correlated with NHY feature:\n",
    "* NP3FACXP, NP3FTAPR, NP3HMOVR, NP3PRSPR, NP3TTAPR,NP3POSTR, NP3BRADY,NP2TMPR,NP3SPCH,MSEADLG"
   ]
  },
  {
   "cell_type": "markdown",
   "metadata": {},
   "source": [
    "## REFERENCES"
   ]
  },
  {
   "cell_type": "markdown",
   "metadata": {},
   "source": [
    "#### NOTEBOOKS - classic ML\n",
    "* [DSR- Gerrit- intro to ML] (http://localhost:8888/notebooks/00_TRAINING/02_DSR/05_ML_Geritt_Week2/Machine%20Learning%20-%20DSR%20Intro.ipynb)\n",
    "* [DSR-Gerrit- Boosting & XGBoost]\n",
    "http://localhost:8888/notebooks/00_TRAINING/02_DSR/05_ML_Geritt_Week2/Boosting%20and%20XGBoost.ipynb\n",
    "* [DSR-Gerrit- RF]\n",
    "(http://localhost:8888/notebooks/00_TRAINING/02_DSR/05_ML_Geritt_Week2/%20RF%20notebooks/DecisionTrees_Intro.ipynb)\n",
    "* [DSR-Gerrit-Evaluation models] (http://localhost:8888/notebooks/00_TRAINING/02_DSR/05_ML_Geritt_Week2/exercises/Evaluation%20Solutions.ipynb)\n",
    "* [DSR-Gerrit- Bayesian Learning]\n",
    "(http://localhost:8888/notebooks/00_TRAINING/02_DSR/05_ML_Geritt_Week2/exercises/Bayesian%20Learning%20Solutions.ipynb)\n",
    "* [DSR-Rachel-ML Pipelines]\n",
    "(http://localhost:8888/notebooks/00_TRAINING/02_DSR/10_DSR_Model_Pipelines_Rachel/1.3%20Pipelines%20.ipynb)\n",
    "#### GITHUB repos: \n",
    "* **Hands-On Machine Learning w/scikit-learn and TensorFlow book: https://github.com/AMDonati/handson-ml**\n",
    "* https://github.com/AMDonati/data-science-ipython-notebooks\n",
    "* Data Science w/ Python handbook: https://github.com/AMDonati/PythonDataScienceHandbook\n",
    "* https://github.com/AMDonati/machine-learning-cheat-sheet\n",
    "#### Specific to time-series: \n",
    "* https://github.com/ChadFulton/tsa-notebooks\n",
    "* https://github.com/maxim5/time-series-machine-learning"
   ]
  },
  {
   "cell_type": "markdown",
   "metadata": {},
   "source": [
    "## 0. Imports & functions"
   ]
  },
  {
   "cell_type": "code",
   "execution_count": 1,
   "metadata": {},
   "outputs": [
    {
     "name": "stderr",
     "output_type": "stream",
     "text": [
      "/Users/alicemartin/miniconda3/envs/project/lib/python3.5/site-packages/sklearn/ensemble/weight_boosting.py:29: DeprecationWarning: numpy.core.umath_tests is an internal NumPy module and should not be imported. It will be removed in a future NumPy release.\n",
      "  from numpy.core.umath_tests import inner1d\n",
      "/Users/alicemartin/miniconda3/envs/project/lib/python3.5/site-packages/sklearn/cross_validation.py:41: DeprecationWarning: This module was deprecated in version 0.18 in favor of the model_selection module into which all the refactored classes and functions are moved. Also note that the interface of the new CV iterators are different from that of this module. This module will be removed in 0.20.\n",
      "  \"This module will be removed in 0.20.\", DeprecationWarning)\n"
     ]
    }
   ],
   "source": [
    "#imports \n",
    "import numpy as np \n",
    "import pandas as pd \n",
    "import matplotlib.pyplot as plt\n",
    "import random\n",
    "% matplotlib inline\n",
    "\n",
    "import sklearn\n",
    "from sklearn.dummy import DummyRegressor\n",
    "from sklearn.linear_model import LogisticRegression\n",
    "from sklearn.model_selection import train_test_split\n",
    "from sklearn.ensemble import RandomForestClassifier\n",
    "from sklearn.metrics import classification_report\n",
    "from sklearn.metrics import roc_curve\n",
    "import sklearn.cross_validation as cv\n",
    "from sklearn.model_selection import ShuffleSplit\n",
    "from sklearn.model_selection import GridSearchCV\n",
    "from sklearn.model_selection import validation_curve\n",
    "from sklearn.metrics import confusion_matrix\n",
    "\n",
    "\n",
    "import warnings\n",
    "warnings.filterwarnings('ignore')"
   ]
  },
  {
   "cell_type": "code",
   "execution_count": 2,
   "metadata": {},
   "outputs": [
    {
     "name": "stdout",
     "output_type": "stream",
     "text": [
      "Requirement already up-to-date: imbalanced-learn in /Users/alicemartin/miniconda3/envs/project/lib/python3.5/site-packages (0.3.3)\n",
      "Requirement not upgraded as not directly required: numpy in /Users/alicemartin/miniconda3/envs/project/lib/python3.5/site-packages (from imbalanced-learn) (1.15.1)\n",
      "Requirement not upgraded as not directly required: scikit-learn in /Users/alicemartin/miniconda3/envs/project/lib/python3.5/site-packages (from imbalanced-learn) (0.19.2)\n",
      "Requirement not upgraded as not directly required: scipy in /Users/alicemartin/miniconda3/envs/project/lib/python3.5/site-packages (from imbalanced-learn) (1.1.0)\n",
      "\u001b[31mtwisted 18.7.0 requires PyHamcrest>=1.9.0, which is not installed.\u001b[0m\n",
      "\u001b[31mpyspark 2.3.1 requires py4j==0.10.7, which is not installed.\u001b[0m\n",
      "\u001b[33mYou are using pip version 10.0.1, however version 18.0 is available.\n",
      "You should consider upgrading via the 'pip install --upgrade pip' command.\u001b[0m\n"
     ]
    }
   ],
   "source": [
    "!pip install -U imbalanced-learn"
   ]
  },
  {
   "cell_type": "markdown",
   "metadata": {},
   "source": [
    "# I. Features importance & Non TS classification of Disease Progression"
   ]
  },
  {
   "cell_type": "markdown",
   "metadata": {},
   "source": [
    "## 1. Data preparation"
   ]
  },
  {
   "cell_type": "code",
   "execution_count": 3,
   "metadata": {},
   "outputs": [
    {
     "data": {
      "text/html": [
       "<div>\n",
       "<style scoped>\n",
       "    .dataframe tbody tr th:only-of-type {\n",
       "        vertical-align: middle;\n",
       "    }\n",
       "\n",
       "    .dataframe tbody tr th {\n",
       "        vertical-align: top;\n",
       "    }\n",
       "\n",
       "    .dataframe thead th {\n",
       "        text-align: right;\n",
       "    }\n",
       "</style>\n",
       "<table border=\"1\" class=\"dataframe\">\n",
       "  <thead>\n",
       "    <tr style=\"text-align: right;\">\n",
       "      <th></th>\n",
       "      <th>PATNO</th>\n",
       "      <th>INFODT_date</th>\n",
       "      <th>NP1COG</th>\n",
       "      <th>NP1HALL</th>\n",
       "      <th>NP1DPRS</th>\n",
       "      <th>NP1ANXS</th>\n",
       "      <th>NP1APAT</th>\n",
       "      <th>NP1DDS</th>\n",
       "      <th>NP2SPCH</th>\n",
       "      <th>NP2SALV</th>\n",
       "      <th>...</th>\n",
       "      <th>DXPOSINS</th>\n",
       "      <th>DXOTHSX</th>\n",
       "      <th>DOMSIDE</th>\n",
       "      <th>num_visits</th>\n",
       "      <th>VISIT_ID</th>\n",
       "      <th>visitsdiff_days</th>\n",
       "      <th>lastDate_diff_days</th>\n",
       "      <th>PDDXDT_diff_days</th>\n",
       "      <th>PDMEDT_diff_days</th>\n",
       "      <th>PDSURGDT_diff_days</th>\n",
       "    </tr>\n",
       "  </thead>\n",
       "  <tbody>\n",
       "    <tr>\n",
       "      <th>0</th>\n",
       "      <td>3001</td>\n",
       "      <td>2011-02-01</td>\n",
       "      <td>0.0</td>\n",
       "      <td>0.0</td>\n",
       "      <td>0.0</td>\n",
       "      <td>1.0</td>\n",
       "      <td>0.0</td>\n",
       "      <td>0.0</td>\n",
       "      <td>0.0</td>\n",
       "      <td>0.0</td>\n",
       "      <td>...</td>\n",
       "      <td>0</td>\n",
       "      <td>0</td>\n",
       "      <td>2</td>\n",
       "      <td>7</td>\n",
       "      <td>1</td>\n",
       "      <td>0</td>\n",
       "      <td>2707</td>\n",
       "      <td>306</td>\n",
       "      <td>0</td>\n",
       "      <td>0</td>\n",
       "    </tr>\n",
       "    <tr>\n",
       "      <th>1</th>\n",
       "      <td>3001</td>\n",
       "      <td>2012-03-01</td>\n",
       "      <td>1.0</td>\n",
       "      <td>0.0</td>\n",
       "      <td>1.0</td>\n",
       "      <td>1.0</td>\n",
       "      <td>1.0</td>\n",
       "      <td>0.0</td>\n",
       "      <td>0.0</td>\n",
       "      <td>0.0</td>\n",
       "      <td>...</td>\n",
       "      <td>0</td>\n",
       "      <td>0</td>\n",
       "      <td>2</td>\n",
       "      <td>7</td>\n",
       "      <td>2</td>\n",
       "      <td>394</td>\n",
       "      <td>2313</td>\n",
       "      <td>700</td>\n",
       "      <td>0</td>\n",
       "      <td>0</td>\n",
       "    </tr>\n",
       "    <tr>\n",
       "      <th>2</th>\n",
       "      <td>3001</td>\n",
       "      <td>2013-05-01</td>\n",
       "      <td>0.0</td>\n",
       "      <td>0.0</td>\n",
       "      <td>0.0</td>\n",
       "      <td>0.0</td>\n",
       "      <td>0.0</td>\n",
       "      <td>0.0</td>\n",
       "      <td>0.0</td>\n",
       "      <td>0.0</td>\n",
       "      <td>...</td>\n",
       "      <td>0</td>\n",
       "      <td>0</td>\n",
       "      <td>2</td>\n",
       "      <td>7</td>\n",
       "      <td>3</td>\n",
       "      <td>426</td>\n",
       "      <td>1887</td>\n",
       "      <td>1126</td>\n",
       "      <td>0</td>\n",
       "      <td>0</td>\n",
       "    </tr>\n",
       "    <tr>\n",
       "      <th>3</th>\n",
       "      <td>3001</td>\n",
       "      <td>2014-04-01</td>\n",
       "      <td>0.0</td>\n",
       "      <td>0.0</td>\n",
       "      <td>0.0</td>\n",
       "      <td>1.0</td>\n",
       "      <td>0.0</td>\n",
       "      <td>0.0</td>\n",
       "      <td>0.0</td>\n",
       "      <td>0.0</td>\n",
       "      <td>...</td>\n",
       "      <td>0</td>\n",
       "      <td>0</td>\n",
       "      <td>2</td>\n",
       "      <td>7</td>\n",
       "      <td>4</td>\n",
       "      <td>335</td>\n",
       "      <td>1552</td>\n",
       "      <td>1461</td>\n",
       "      <td>0</td>\n",
       "      <td>0</td>\n",
       "    </tr>\n",
       "    <tr>\n",
       "      <th>4</th>\n",
       "      <td>3001</td>\n",
       "      <td>2015-04-01</td>\n",
       "      <td>0.0</td>\n",
       "      <td>0.0</td>\n",
       "      <td>0.0</td>\n",
       "      <td>1.0</td>\n",
       "      <td>0.0</td>\n",
       "      <td>0.0</td>\n",
       "      <td>0.0</td>\n",
       "      <td>0.0</td>\n",
       "      <td>...</td>\n",
       "      <td>0</td>\n",
       "      <td>0</td>\n",
       "      <td>2</td>\n",
       "      <td>7</td>\n",
       "      <td>5</td>\n",
       "      <td>365</td>\n",
       "      <td>1187</td>\n",
       "      <td>1826</td>\n",
       "      <td>0</td>\n",
       "      <td>0</td>\n",
       "    </tr>\n",
       "  </tbody>\n",
       "</table>\n",
       "<p>5 rows × 376 columns</p>\n",
       "</div>"
      ],
      "text/plain": [
       "   PATNO INFODT_date  NP1COG  NP1HALL  NP1DPRS  NP1ANXS  NP1APAT  NP1DDS  \\\n",
       "0   3001  2011-02-01     0.0      0.0      0.0      1.0      0.0     0.0   \n",
       "1   3001  2012-03-01     1.0      0.0      1.0      1.0      1.0     0.0   \n",
       "2   3001  2013-05-01     0.0      0.0      0.0      0.0      0.0     0.0   \n",
       "3   3001  2014-04-01     0.0      0.0      0.0      1.0      0.0     0.0   \n",
       "4   3001  2015-04-01     0.0      0.0      0.0      1.0      0.0     0.0   \n",
       "\n",
       "   NP2SPCH  NP2SALV         ...          DXPOSINS  DXOTHSX  DOMSIDE  \\\n",
       "0      0.0      0.0         ...                 0        0        2   \n",
       "1      0.0      0.0         ...                 0        0        2   \n",
       "2      0.0      0.0         ...                 0        0        2   \n",
       "3      0.0      0.0         ...                 0        0        2   \n",
       "4      0.0      0.0         ...                 0        0        2   \n",
       "\n",
       "   num_visits  VISIT_ID  visitsdiff_days  lastDate_diff_days  \\\n",
       "0           7         1                0                2707   \n",
       "1           7         2              394                2313   \n",
       "2           7         3              426                1887   \n",
       "3           7         4              335                1552   \n",
       "4           7         5              365                1187   \n",
       "\n",
       "   PDDXDT_diff_days  PDMEDT_diff_days  PDSURGDT_diff_days  \n",
       "0               306                 0                   0  \n",
       "1               700                 0                   0  \n",
       "2              1126                 0                   0  \n",
       "3              1461                 0                   0  \n",
       "4              1826                 0                   0  \n",
       "\n",
       "[5 rows x 376 columns]"
      ]
     },
     "execution_count": 3,
     "metadata": {},
     "output_type": "execute_result"
    }
   ],
   "source": [
    "file_path='/Users/alicemartin/02_DSR_Project/parkinson-disease-project/output/pre-processing/dfFinal.csv'\n",
    "df=pd.read_csv(file_path)\n",
    "df.drop(columns='Unnamed: 0',inplace=True)\n",
    "df.drop(columns=['EVENT_ID','INFODT'],inplace=True)\n",
    "#df.set_index(keys=['PATNO'],inplace=True)\n",
    "df.head()"
   ]
  },
  {
   "cell_type": "code",
   "execution_count": 4,
   "metadata": {},
   "outputs": [
    {
     "data": {
      "text/html": [
       "<div>\n",
       "<style scoped>\n",
       "    .dataframe tbody tr th:only-of-type {\n",
       "        vertical-align: middle;\n",
       "    }\n",
       "\n",
       "    .dataframe tbody tr th {\n",
       "        vertical-align: top;\n",
       "    }\n",
       "\n",
       "    .dataframe thead th {\n",
       "        text-align: right;\n",
       "    }\n",
       "</style>\n",
       "<table border=\"1\" class=\"dataframe\">\n",
       "  <thead>\n",
       "    <tr style=\"text-align: right;\">\n",
       "      <th></th>\n",
       "      <th>NP1COG</th>\n",
       "      <th>NP1HALL</th>\n",
       "      <th>NP1DPRS</th>\n",
       "      <th>NP1ANXS</th>\n",
       "      <th>NP1APAT</th>\n",
       "      <th>NP1DDS</th>\n",
       "      <th>NP2SPCH</th>\n",
       "      <th>NP2SALV</th>\n",
       "      <th>NP2SWAL</th>\n",
       "      <th>NP2EAT</th>\n",
       "      <th>...</th>\n",
       "      <th>DXRIGID</th>\n",
       "      <th>DXBRADY</th>\n",
       "      <th>DXPOSINS</th>\n",
       "      <th>DXOTHSX</th>\n",
       "      <th>DOMSIDE</th>\n",
       "      <th>num_visits</th>\n",
       "      <th>lastDate_diff_days</th>\n",
       "      <th>PDDXDT_diff_days</th>\n",
       "      <th>PDMEDT_diff_days</th>\n",
       "      <th>PDSURGDT_diff_days</th>\n",
       "    </tr>\n",
       "    <tr>\n",
       "      <th>PATNO</th>\n",
       "      <th></th>\n",
       "      <th></th>\n",
       "      <th></th>\n",
       "      <th></th>\n",
       "      <th></th>\n",
       "      <th></th>\n",
       "      <th></th>\n",
       "      <th></th>\n",
       "      <th></th>\n",
       "      <th></th>\n",
       "      <th></th>\n",
       "      <th></th>\n",
       "      <th></th>\n",
       "      <th></th>\n",
       "      <th></th>\n",
       "      <th></th>\n",
       "      <th></th>\n",
       "      <th></th>\n",
       "      <th></th>\n",
       "      <th></th>\n",
       "      <th></th>\n",
       "    </tr>\n",
       "  </thead>\n",
       "  <tbody>\n",
       "    <tr>\n",
       "      <th>3001</th>\n",
       "      <td>0.0</td>\n",
       "      <td>0.0</td>\n",
       "      <td>0.0</td>\n",
       "      <td>1.0</td>\n",
       "      <td>0.0</td>\n",
       "      <td>0.0</td>\n",
       "      <td>0.0</td>\n",
       "      <td>0.0</td>\n",
       "      <td>0.0</td>\n",
       "      <td>0.0</td>\n",
       "      <td>...</td>\n",
       "      <td>1.0</td>\n",
       "      <td>1.0</td>\n",
       "      <td>0.0</td>\n",
       "      <td>0.0</td>\n",
       "      <td>2.0</td>\n",
       "      <td>7.0</td>\n",
       "      <td>1552.0</td>\n",
       "      <td>1461.0</td>\n",
       "      <td>0.0</td>\n",
       "      <td>0.0</td>\n",
       "    </tr>\n",
       "    <tr>\n",
       "      <th>3002</th>\n",
       "      <td>1.0</td>\n",
       "      <td>0.0</td>\n",
       "      <td>1.0</td>\n",
       "      <td>1.0</td>\n",
       "      <td>0.0</td>\n",
       "      <td>0.0</td>\n",
       "      <td>1.5</td>\n",
       "      <td>2.5</td>\n",
       "      <td>1.0</td>\n",
       "      <td>1.0</td>\n",
       "      <td>...</td>\n",
       "      <td>0.0</td>\n",
       "      <td>1.0</td>\n",
       "      <td>0.0</td>\n",
       "      <td>1.0</td>\n",
       "      <td>1.0</td>\n",
       "      <td>6.0</td>\n",
       "      <td>1567.5</td>\n",
       "      <td>1504.5</td>\n",
       "      <td>0.0</td>\n",
       "      <td>0.0</td>\n",
       "    </tr>\n",
       "    <tr>\n",
       "      <th>3003</th>\n",
       "      <td>0.0</td>\n",
       "      <td>0.0</td>\n",
       "      <td>0.0</td>\n",
       "      <td>0.0</td>\n",
       "      <td>0.0</td>\n",
       "      <td>0.0</td>\n",
       "      <td>2.0</td>\n",
       "      <td>0.0</td>\n",
       "      <td>1.0</td>\n",
       "      <td>1.0</td>\n",
       "      <td>...</td>\n",
       "      <td>1.0</td>\n",
       "      <td>1.0</td>\n",
       "      <td>1.0</td>\n",
       "      <td>1.0</td>\n",
       "      <td>2.0</td>\n",
       "      <td>7.0</td>\n",
       "      <td>1552.0</td>\n",
       "      <td>1857.0</td>\n",
       "      <td>0.0</td>\n",
       "      <td>0.0</td>\n",
       "    </tr>\n",
       "    <tr>\n",
       "      <th>3006</th>\n",
       "      <td>0.0</td>\n",
       "      <td>0.0</td>\n",
       "      <td>0.5</td>\n",
       "      <td>1.0</td>\n",
       "      <td>0.0</td>\n",
       "      <td>0.0</td>\n",
       "      <td>2.5</td>\n",
       "      <td>0.0</td>\n",
       "      <td>1.0</td>\n",
       "      <td>1.0</td>\n",
       "      <td>...</td>\n",
       "      <td>1.0</td>\n",
       "      <td>1.0</td>\n",
       "      <td>0.0</td>\n",
       "      <td>0.0</td>\n",
       "      <td>2.0</td>\n",
       "      <td>2.0</td>\n",
       "      <td>2465.5</td>\n",
       "      <td>333.5</td>\n",
       "      <td>0.0</td>\n",
       "      <td>0.0</td>\n",
       "    </tr>\n",
       "    <tr>\n",
       "      <th>3007</th>\n",
       "      <td>1.0</td>\n",
       "      <td>0.0</td>\n",
       "      <td>0.0</td>\n",
       "      <td>0.0</td>\n",
       "      <td>0.0</td>\n",
       "      <td>0.0</td>\n",
       "      <td>0.0</td>\n",
       "      <td>3.0</td>\n",
       "      <td>0.0</td>\n",
       "      <td>1.0</td>\n",
       "      <td>...</td>\n",
       "      <td>1.0</td>\n",
       "      <td>1.0</td>\n",
       "      <td>0.0</td>\n",
       "      <td>1.0</td>\n",
       "      <td>2.0</td>\n",
       "      <td>1.0</td>\n",
       "      <td>2648.0</td>\n",
       "      <td>90.0</td>\n",
       "      <td>0.0</td>\n",
       "      <td>0.0</td>\n",
       "    </tr>\n",
       "  </tbody>\n",
       "</table>\n",
       "<p>5 rows × 371 columns</p>\n",
       "</div>"
      ],
      "text/plain": [
       "       NP1COG  NP1HALL  NP1DPRS  NP1ANXS  NP1APAT  NP1DDS  NP2SPCH  NP2SALV  \\\n",
       "PATNO                                                                         \n",
       "3001      0.0      0.0      0.0      1.0      0.0     0.0      0.0      0.0   \n",
       "3002      1.0      0.0      1.0      1.0      0.0     0.0      1.5      2.5   \n",
       "3003      0.0      0.0      0.0      0.0      0.0     0.0      2.0      0.0   \n",
       "3006      0.0      0.0      0.5      1.0      0.0     0.0      2.5      0.0   \n",
       "3007      1.0      0.0      0.0      0.0      0.0     0.0      0.0      3.0   \n",
       "\n",
       "       NP2SWAL  NP2EAT         ...          DXRIGID  DXBRADY  DXPOSINS  \\\n",
       "PATNO                          ...                                       \n",
       "3001       0.0     0.0         ...              1.0      1.0       0.0   \n",
       "3002       1.0     1.0         ...              0.0      1.0       0.0   \n",
       "3003       1.0     1.0         ...              1.0      1.0       1.0   \n",
       "3006       1.0     1.0         ...              1.0      1.0       0.0   \n",
       "3007       0.0     1.0         ...              1.0      1.0       0.0   \n",
       "\n",
       "       DXOTHSX  DOMSIDE  num_visits  lastDate_diff_days  PDDXDT_diff_days  \\\n",
       "PATNO                                                                       \n",
       "3001       0.0      2.0         7.0              1552.0            1461.0   \n",
       "3002       1.0      1.0         6.0              1567.5            1504.5   \n",
       "3003       1.0      2.0         7.0              1552.0            1857.0   \n",
       "3006       0.0      2.0         2.0              2465.5             333.5   \n",
       "3007       1.0      2.0         1.0              2648.0              90.0   \n",
       "\n",
       "       PDMEDT_diff_days  PDSURGDT_diff_days  \n",
       "PATNO                                        \n",
       "3001                0.0                 0.0  \n",
       "3002                0.0                 0.0  \n",
       "3003                0.0                 0.0  \n",
       "3006                0.0                 0.0  \n",
       "3007                0.0                 0.0  \n",
       "\n",
       "[5 rows x 371 columns]"
      ]
     },
     "execution_count": 4,
     "metadata": {},
     "output_type": "execute_result"
    }
   ],
   "source": [
    "dfAgg=df.groupby('PATNO').agg('median')\n",
    "dfAgg.drop(columns=['visitsdiff_days','VISIT_ID'],inplace=True)\n",
    "dfAgg.drop(columns='MSEADLG',inplace=True)\n",
    "dfAgg['NHY']=dfAgg['NHY'].apply(lambda x: round(x,0))\n",
    "dfAgg.head()"
   ]
  },
  {
   "cell_type": "code",
   "execution_count": 5,
   "metadata": {},
   "outputs": [
    {
     "data": {
      "text/plain": [
       "2.0    692\n",
       "0.0    683\n",
       "1.0    203\n",
       "3.0     69\n",
       "4.0     24\n",
       "5.0      3\n",
       "Name: NHY, dtype: int64"
      ]
     },
     "execution_count": 5,
     "metadata": {},
     "output_type": "execute_result"
    }
   ],
   "source": [
    "dfAgg['NHY'].value_counts()"
   ]
  },
  {
   "cell_type": "markdown",
   "metadata": {},
   "source": [
    "## 2. Split train, test"
   ]
  },
  {
   "cell_type": "code",
   "execution_count": 6,
   "metadata": {},
   "outputs": [
    {
     "name": "stdout",
     "output_type": "stream",
     "text": [
      "train counts: 0.0    478\n",
      "2.0    475\n",
      "1.0    147\n",
      "3.0     51\n",
      "4.0     18\n",
      "5.0      2\n",
      "Name: NHY, dtype: int64\n",
      "(1171, 370)\n",
      "test counts: 2.0    217\n",
      "0.0    205\n",
      "1.0     56\n",
      "3.0     18\n",
      "4.0      6\n",
      "5.0      1\n",
      "Name: NHY, dtype: int64\n"
     ]
    },
    {
     "data": {
      "text/html": [
       "<div>\n",
       "<style scoped>\n",
       "    .dataframe tbody tr th:only-of-type {\n",
       "        vertical-align: middle;\n",
       "    }\n",
       "\n",
       "    .dataframe tbody tr th {\n",
       "        vertical-align: top;\n",
       "    }\n",
       "\n",
       "    .dataframe thead th {\n",
       "        text-align: right;\n",
       "    }\n",
       "</style>\n",
       "<table border=\"1\" class=\"dataframe\">\n",
       "  <thead>\n",
       "    <tr style=\"text-align: right;\">\n",
       "      <th></th>\n",
       "      <th>NP1COG</th>\n",
       "      <th>NP1HALL</th>\n",
       "      <th>NP1DPRS</th>\n",
       "      <th>NP1ANXS</th>\n",
       "      <th>NP1APAT</th>\n",
       "      <th>NP1DDS</th>\n",
       "      <th>NP2SPCH</th>\n",
       "      <th>NP2SALV</th>\n",
       "      <th>NP2SWAL</th>\n",
       "      <th>NP2EAT</th>\n",
       "      <th>...</th>\n",
       "      <th>DXRIGID</th>\n",
       "      <th>DXBRADY</th>\n",
       "      <th>DXPOSINS</th>\n",
       "      <th>DXOTHSX</th>\n",
       "      <th>DOMSIDE</th>\n",
       "      <th>num_visits</th>\n",
       "      <th>lastDate_diff_days</th>\n",
       "      <th>PDDXDT_diff_days</th>\n",
       "      <th>PDMEDT_diff_days</th>\n",
       "      <th>PDSURGDT_diff_days</th>\n",
       "    </tr>\n",
       "    <tr>\n",
       "      <th>PATNO</th>\n",
       "      <th></th>\n",
       "      <th></th>\n",
       "      <th></th>\n",
       "      <th></th>\n",
       "      <th></th>\n",
       "      <th></th>\n",
       "      <th></th>\n",
       "      <th></th>\n",
       "      <th></th>\n",
       "      <th></th>\n",
       "      <th></th>\n",
       "      <th></th>\n",
       "      <th></th>\n",
       "      <th></th>\n",
       "      <th></th>\n",
       "      <th></th>\n",
       "      <th></th>\n",
       "      <th></th>\n",
       "      <th></th>\n",
       "      <th></th>\n",
       "      <th></th>\n",
       "    </tr>\n",
       "  </thead>\n",
       "  <tbody>\n",
       "    <tr>\n",
       "      <th>12898</th>\n",
       "      <td>0.0</td>\n",
       "      <td>0.0</td>\n",
       "      <td>0.0</td>\n",
       "      <td>0.0</td>\n",
       "      <td>0.0</td>\n",
       "      <td>0.0</td>\n",
       "      <td>0.0</td>\n",
       "      <td>0.0</td>\n",
       "      <td>0.0</td>\n",
       "      <td>0.0</td>\n",
       "      <td>...</td>\n",
       "      <td>0.0</td>\n",
       "      <td>0.0</td>\n",
       "      <td>0.0</td>\n",
       "      <td>0.0</td>\n",
       "      <td>0.0</td>\n",
       "      <td>1.0</td>\n",
       "      <td>1734.0</td>\n",
       "      <td>0.0</td>\n",
       "      <td>0.0</td>\n",
       "      <td>0.0</td>\n",
       "    </tr>\n",
       "    <tr>\n",
       "      <th>41544</th>\n",
       "      <td>0.0</td>\n",
       "      <td>0.0</td>\n",
       "      <td>0.0</td>\n",
       "      <td>0.0</td>\n",
       "      <td>0.0</td>\n",
       "      <td>0.0</td>\n",
       "      <td>0.0</td>\n",
       "      <td>0.0</td>\n",
       "      <td>0.0</td>\n",
       "      <td>0.0</td>\n",
       "      <td>...</td>\n",
       "      <td>0.0</td>\n",
       "      <td>0.0</td>\n",
       "      <td>0.0</td>\n",
       "      <td>0.0</td>\n",
       "      <td>0.0</td>\n",
       "      <td>2.0</td>\n",
       "      <td>745.5</td>\n",
       "      <td>0.0</td>\n",
       "      <td>0.0</td>\n",
       "      <td>0.0</td>\n",
       "    </tr>\n",
       "    <tr>\n",
       "      <th>41284</th>\n",
       "      <td>0.0</td>\n",
       "      <td>0.0</td>\n",
       "      <td>0.0</td>\n",
       "      <td>0.0</td>\n",
       "      <td>0.0</td>\n",
       "      <td>0.0</td>\n",
       "      <td>0.0</td>\n",
       "      <td>0.0</td>\n",
       "      <td>0.0</td>\n",
       "      <td>0.0</td>\n",
       "      <td>...</td>\n",
       "      <td>0.0</td>\n",
       "      <td>0.0</td>\n",
       "      <td>0.0</td>\n",
       "      <td>0.0</td>\n",
       "      <td>0.0</td>\n",
       "      <td>4.0</td>\n",
       "      <td>455.0</td>\n",
       "      <td>0.0</td>\n",
       "      <td>0.0</td>\n",
       "      <td>0.0</td>\n",
       "    </tr>\n",
       "    <tr>\n",
       "      <th>53015</th>\n",
       "      <td>0.0</td>\n",
       "      <td>0.0</td>\n",
       "      <td>0.0</td>\n",
       "      <td>0.0</td>\n",
       "      <td>0.0</td>\n",
       "      <td>0.0</td>\n",
       "      <td>0.0</td>\n",
       "      <td>0.0</td>\n",
       "      <td>0.0</td>\n",
       "      <td>0.0</td>\n",
       "      <td>...</td>\n",
       "      <td>0.0</td>\n",
       "      <td>0.0</td>\n",
       "      <td>0.0</td>\n",
       "      <td>0.0</td>\n",
       "      <td>0.0</td>\n",
       "      <td>1.0</td>\n",
       "      <td>791.0</td>\n",
       "      <td>0.0</td>\n",
       "      <td>0.0</td>\n",
       "      <td>0.0</td>\n",
       "    </tr>\n",
       "    <tr>\n",
       "      <th>4080</th>\n",
       "      <td>0.0</td>\n",
       "      <td>0.0</td>\n",
       "      <td>0.0</td>\n",
       "      <td>0.0</td>\n",
       "      <td>0.0</td>\n",
       "      <td>0.0</td>\n",
       "      <td>0.0</td>\n",
       "      <td>1.0</td>\n",
       "      <td>0.0</td>\n",
       "      <td>1.0</td>\n",
       "      <td>...</td>\n",
       "      <td>1.0</td>\n",
       "      <td>1.0</td>\n",
       "      <td>0.0</td>\n",
       "      <td>0.0</td>\n",
       "      <td>2.0</td>\n",
       "      <td>1.0</td>\n",
       "      <td>2099.0</td>\n",
       "      <td>30.0</td>\n",
       "      <td>0.0</td>\n",
       "      <td>0.0</td>\n",
       "    </tr>\n",
       "  </tbody>\n",
       "</table>\n",
       "<p>5 rows × 371 columns</p>\n",
       "</div>"
      ],
      "text/plain": [
       "       NP1COG  NP1HALL  NP1DPRS  NP1ANXS  NP1APAT  NP1DDS  NP2SPCH  NP2SALV  \\\n",
       "PATNO                                                                         \n",
       "12898     0.0      0.0      0.0      0.0      0.0     0.0      0.0      0.0   \n",
       "41544     0.0      0.0      0.0      0.0      0.0     0.0      0.0      0.0   \n",
       "41284     0.0      0.0      0.0      0.0      0.0     0.0      0.0      0.0   \n",
       "53015     0.0      0.0      0.0      0.0      0.0     0.0      0.0      0.0   \n",
       "4080      0.0      0.0      0.0      0.0      0.0     0.0      0.0      1.0   \n",
       "\n",
       "       NP2SWAL  NP2EAT         ...          DXRIGID  DXBRADY  DXPOSINS  \\\n",
       "PATNO                          ...                                       \n",
       "12898      0.0     0.0         ...              0.0      0.0       0.0   \n",
       "41544      0.0     0.0         ...              0.0      0.0       0.0   \n",
       "41284      0.0     0.0         ...              0.0      0.0       0.0   \n",
       "53015      0.0     0.0         ...              0.0      0.0       0.0   \n",
       "4080       0.0     1.0         ...              1.0      1.0       0.0   \n",
       "\n",
       "       DXOTHSX  DOMSIDE  num_visits  lastDate_diff_days  PDDXDT_diff_days  \\\n",
       "PATNO                                                                       \n",
       "12898      0.0      0.0         1.0              1734.0               0.0   \n",
       "41544      0.0      0.0         2.0               745.5               0.0   \n",
       "41284      0.0      0.0         4.0               455.0               0.0   \n",
       "53015      0.0      0.0         1.0               791.0               0.0   \n",
       "4080       0.0      2.0         1.0              2099.0              30.0   \n",
       "\n",
       "       PDMEDT_diff_days  PDSURGDT_diff_days  \n",
       "PATNO                                        \n",
       "12898               0.0                 0.0  \n",
       "41544               0.0                 0.0  \n",
       "41284               0.0                 0.0  \n",
       "53015               0.0                 0.0  \n",
       "4080                0.0                 0.0  \n",
       "\n",
       "[5 rows x 371 columns]"
      ]
     },
     "execution_count": 6,
     "metadata": {},
     "output_type": "execute_result"
    }
   ],
   "source": [
    "from sklearn.model_selection import train_test_split\n",
    "data=dfAgg.drop(columns='NHY')\n",
    "target=dfAgg['NHY']\n",
    "train, test = train_test_split(dfAgg, test_size=0.3, random_state=0)\n",
    "train.to_pickle(\"./train_nonTS.pickle\")\n",
    "test.to_pickle(\"./test_nonTS.pickle\")\n",
    "print('train counts: {}'.format(train.NHY.value_counts()))\n",
    "\n",
    "X_train = train.loc[:,train.columns!='NHY']\n",
    "y_train = train['NHY']\n",
    "X_test = test.loc[:,train.columns!='NHY']\n",
    "y_test = test[('NHY')]\n",
    "print(X_train.shape)\n",
    "print('test counts: {}'.format(y_test.value_counts()))\n",
    "\n",
    "train.head()"
   ]
  },
  {
   "cell_type": "markdown",
   "metadata": {},
   "source": [
    "### Take care of the classes unbalance"
   ]
  },
  {
   "cell_type": "code",
   "execution_count": 7,
   "metadata": {},
   "outputs": [
    {
     "data": {
      "text/plain": [
       "5.0    478\n",
       "4.0    478\n",
       "3.0    478\n",
       "2.0    478\n",
       "1.0    478\n",
       "0.0    478\n",
       "Name: NHY, dtype: int64"
      ]
     },
     "execution_count": 7,
     "metadata": {},
     "output_type": "execute_result"
    }
   ],
   "source": [
    "from sklearn.utils import resample\n",
    "\n",
    "train_majority = train[train.NHY==0.0]\n",
    "train_minority_1 = train[train.NHY==1.0]\n",
    "train_minority_2= train[train.NHY==2.0]\n",
    "train_minority_3= train[train.NHY==3.0]\n",
    "train_minority_4=train[train.NHY==4.0]\n",
    "train_minority_5=train[train.NHY==5.0]\n",
    "\n",
    "# Upsample minority class\n",
    "train_minority_upsampled_1 = resample(train_minority_1, \n",
    "                                 replace=True,     # sample with replacement\n",
    "                                 n_samples=train_majority.shape[0],  # to match majority class\n",
    "                                 random_state=123) # reproducible results\n",
    "train_minority_upsampled_2 = resample(train_minority_2, \n",
    "                                 replace=True,     # sample with replacement\n",
    "                                 n_samples=train_majority.shape[0],  # to match majority class\n",
    "                                 random_state=123) # reproducible results\n",
    "train_minority_upsampled_3 = resample(train_minority_3, \n",
    "                                 replace=True,     # sample with replacement\n",
    "                                 n_samples=train_majority.shape[0],  # to match majority class\n",
    "                                 random_state=123) # reproducible results\n",
    "train_minority_upsampled_4= resample(train_minority_4, \n",
    "                                 replace=True,     # sample with replacement\n",
    "                                 n_samples=train_majority.shape[0],  # to match majority class\n",
    "                                 random_state=123) # reproducible results\n",
    "train_minority_upsampled_5= resample(train_minority_5, \n",
    "                                 replace=True,     # sample with replacement\n",
    "                                 n_samples=train_majority.shape[0],  # to match majority class\n",
    "                                 random_state=123) # reproducible results\n",
    "\n",
    "# Combine majority class with upsampled minority class\n",
    "train_upsampled = pd.concat([train_majority, train_minority_upsampled_1,train_minority_upsampled_2,\n",
    "                             train_minority_upsampled_3,train_minority_upsampled_4,\n",
    "                             train_minority_upsampled_5])\n",
    "\n",
    "# Show new class counts\n",
    "train_upsampled.NHY.value_counts()"
   ]
  },
  {
   "cell_type": "code",
   "execution_count": 8,
   "metadata": {},
   "outputs": [],
   "source": [
    "X_train_up = train_upsampled.loc[:,train.columns!='NHY']\n",
    "y_train_up= train_upsampled['NHY']"
   ]
  },
  {
   "cell_type": "code",
   "execution_count": 9,
   "metadata": {},
   "outputs": [
    {
     "data": {
      "text/plain": [
       "'3.5.6 |Anaconda, Inc.| (default, Aug 26 2018, 16:30:03) \\n[GCC 4.2.1 Compatible Clang 4.0.1 (tags/RELEASE_401/final)]'"
      ]
     },
     "execution_count": 9,
     "metadata": {},
     "output_type": "execute_result"
    }
   ],
   "source": [
    "import sys\n",
    "sys.version"
   ]
  },
  {
   "cell_type": "markdown",
   "metadata": {},
   "source": [
    "from imblearn.over_sampling import SMOTE\n",
    "X_resampled, y_resampled = SMOTE().fit_sample(X_train, y_train)\n",
    "X_resampled.shape\n",
    "logreg_smote = LogisticRegression(random_state=0).fit(X_resampled, y_resampled)"
   ]
  },
  {
   "cell_type": "code",
   "execution_count": null,
   "metadata": {},
   "outputs": [],
   "source": [
    "#X_resampled, y_resampled = ADASYN().fit_sample(X, y)\n",
    "#clf_adasyn = LinearSVC().fit(X_resampled, y_resampled)"
   ]
  },
  {
   "cell_type": "markdown",
   "metadata": {},
   "source": [
    "## 3. Model Training"
   ]
  },
  {
   "cell_type": "markdown",
   "metadata": {},
   "source": [
    "### Dummy Classifier"
   ]
  },
  {
   "cell_type": "code",
   "execution_count": null,
   "metadata": {},
   "outputs": [],
   "source": [
    "from sklearn.dummy import DummyClassifier\n",
    "dummy=DummyClassifier()\n",
    "dummy.fit(X_train, y_train)"
   ]
  },
  {
   "cell_type": "code",
   "execution_count": null,
   "metadata": {},
   "outputs": [],
   "source": [
    "print(\"Train-Score: %.4f, Test-Accuracy: %.4f\" % (dummy.score(X_train, y_train), dummy.score(X_test, y_test)))"
   ]
  },
  {
   "cell_type": "markdown",
   "metadata": {},
   "source": [
    "### Logistic Regression"
   ]
  },
  {
   "cell_type": "code",
   "execution_count": null,
   "metadata": {},
   "outputs": [],
   "source": [
    "from sklearn.linear_model import LogisticRegression\n",
    "logreg = LogisticRegression(multi_class='multinomial',solver='newton-cg',random_state=0)\n",
    "logreg.fit(X_train, y_train)"
   ]
  },
  {
   "cell_type": "code",
   "execution_count": null,
   "metadata": {},
   "outputs": [],
   "source": [
    "logreg_up=LogisticRegression(multi_class='multinomial',solver='newton-cg',random_state=1)\n",
    "logreg_up.fit(X_train_up, y_train_up)"
   ]
  },
  {
   "cell_type": "markdown",
   "metadata": {},
   "source": [
    "### Random Forest"
   ]
  },
  {
   "cell_type": "code",
   "execution_count": null,
   "metadata": {},
   "outputs": [],
   "source": [
    "rfc_up = RandomForestClassifier(n_estimators=100, random_state=1)\n",
    "rfc_up.fit(X_train_up, y_train_up)"
   ]
  },
  {
   "cell_type": "code",
   "execution_count": 11,
   "metadata": {},
   "outputs": [
    {
     "data": {
      "text/plain": [
       "RandomForestClassifier(bootstrap=True, class_weight=None, criterion='gini',\n",
       "            max_depth=None, max_features='auto', max_leaf_nodes=None,\n",
       "            min_impurity_decrease=0.0, min_impurity_split=None,\n",
       "            min_samples_leaf=1, min_samples_split=2,\n",
       "            min_weight_fraction_leaf=0.0, n_estimators=100, n_jobs=1,\n",
       "            oob_score=False, random_state=0, verbose=0, warm_start=False)"
      ]
     },
     "execution_count": 11,
     "metadata": {},
     "output_type": "execute_result"
    }
   ],
   "source": [
    "rfc = RandomForestClassifier(n_estimators=100, random_state=0)\n",
    "rfc.fit(X_train, y_train)"
   ]
  },
  {
   "cell_type": "code",
   "execution_count": 12,
   "metadata": {},
   "outputs": [
    {
     "name": "stdout",
     "output_type": "stream",
     "text": [
      "Train-Score-rfc: 1.0000, Test-Accuracy-rfc: 0.8748\n"
     ]
    }
   ],
   "source": [
    "print(\"Train-Score-rfc: %.4f, Test-Accuracy-rfc: %.4f\" % (rfc.score(X_train, y_train), rfc.score(X_test, y_test)))"
   ]
  },
  {
   "cell_type": "code",
   "execution_count": 18,
   "metadata": {},
   "outputs": [
    {
     "data": {
      "text/plain": [
       "17.92"
      ]
     },
     "execution_count": 18,
     "metadata": {},
     "output_type": "execute_result"
    }
   ],
   "source": [
    "#for estimator in rfc.estimators_:\n",
    "    #print(estimator.tree_.max_depth)\n",
    "np.mean([estimator.tree_.max_depth for estimator in rfc.estimators_])"
   ]
  },
  {
   "cell_type": "markdown",
   "metadata": {},
   "source": [
    "### XGBoost"
   ]
  },
  {
   "cell_type": "code",
   "execution_count": 17,
   "metadata": {},
   "outputs": [
    {
     "name": "stdout",
     "output_type": "stream",
     "text": [
      "Train-Accuracy: 98.80%, Test-Accuracy: 88.47%\n"
     ]
    }
   ],
   "source": [
    "from xgboost import XGBClassifier\n",
    "xgb = XGBClassifier(n_jobs=-1,seed=0)\n",
    "xgb.fit(X_train, y_train)\n",
    "print(\"Train-Accuracy: %.2f%%, Test-Accuracy: %.2f%%\" % (100. * xgb.score(X_train, y_train), \n",
    "                                                         100. * xgb.score(X_test, y_test)))"
   ]
  },
  {
   "cell_type": "markdown",
   "metadata": {},
   "source": [
    "### feature importance\n",
    "do a pairplot of the important features in the original dataset"
   ]
  },
  {
   "cell_type": "code",
   "execution_count": 18,
   "metadata": {},
   "outputs": [
    {
     "name": "stdout",
     "output_type": "stream",
     "text": [
      "[0.59281574]\n"
     ]
    },
    {
     "data": {
      "text/html": [
       "<div>\n",
       "<style scoped>\n",
       "    .dataframe tbody tr th:only-of-type {\n",
       "        vertical-align: middle;\n",
       "    }\n",
       "\n",
       "    .dataframe tbody tr th {\n",
       "        vertical-align: top;\n",
       "    }\n",
       "\n",
       "    .dataframe thead th {\n",
       "        text-align: right;\n",
       "    }\n",
       "</style>\n",
       "<table border=\"1\" class=\"dataframe\">\n",
       "  <thead>\n",
       "    <tr style=\"text-align: right;\">\n",
       "      <th></th>\n",
       "      <th>importance</th>\n",
       "    </tr>\n",
       "  </thead>\n",
       "  <tbody>\n",
       "    <tr>\n",
       "      <th>DOMSIDE</th>\n",
       "      <td>0.068395</td>\n",
       "    </tr>\n",
       "    <tr>\n",
       "      <th>PRIMDIAG</th>\n",
       "      <td>0.050340</td>\n",
       "    </tr>\n",
       "    <tr>\n",
       "      <th>PDDXDT_diff_days</th>\n",
       "      <td>0.049499</td>\n",
       "    </tr>\n",
       "    <tr>\n",
       "      <th>DFRIGIDP</th>\n",
       "      <td>0.029434</td>\n",
       "    </tr>\n",
       "    <tr>\n",
       "      <th>NP3FACXP</th>\n",
       "      <td>0.027966</td>\n",
       "    </tr>\n",
       "    <tr>\n",
       "      <th>PD_MED_USE</th>\n",
       "      <td>0.025725</td>\n",
       "    </tr>\n",
       "    <tr>\n",
       "      <th>NP3BRADY</th>\n",
       "      <td>0.023187</td>\n",
       "    </tr>\n",
       "    <tr>\n",
       "      <th>PDMEDYN</th>\n",
       "      <td>0.021384</td>\n",
       "    </tr>\n",
       "    <tr>\n",
       "      <th>DFPGDIST</th>\n",
       "      <td>0.019051</td>\n",
       "    </tr>\n",
       "    <tr>\n",
       "      <th>DXBRADY</th>\n",
       "      <td>0.018643</td>\n",
       "    </tr>\n",
       "    <tr>\n",
       "      <th>NP3PSTBL</th>\n",
       "      <td>0.017734</td>\n",
       "    </tr>\n",
       "    <tr>\n",
       "      <th>NP3FTAPL</th>\n",
       "      <td>0.016833</td>\n",
       "    </tr>\n",
       "    <tr>\n",
       "      <th>ON_OFF_DOSE</th>\n",
       "      <td>0.016464</td>\n",
       "    </tr>\n",
       "    <tr>\n",
       "      <th>NP3RIGLU</th>\n",
       "      <td>0.015966</td>\n",
       "    </tr>\n",
       "    <tr>\n",
       "      <th>DXTREMOR</th>\n",
       "      <td>0.015703</td>\n",
       "    </tr>\n",
       "    <tr>\n",
       "      <th>NP3SPCH</th>\n",
       "      <td>0.015645</td>\n",
       "    </tr>\n",
       "    <tr>\n",
       "      <th>DFRTREMP</th>\n",
       "      <td>0.013837</td>\n",
       "    </tr>\n",
       "    <tr>\n",
       "      <th>NP3RIGN</th>\n",
       "      <td>0.013447</td>\n",
       "    </tr>\n",
       "    <tr>\n",
       "      <th>NP3GAIT</th>\n",
       "      <td>0.013207</td>\n",
       "    </tr>\n",
       "    <tr>\n",
       "      <th>NP3TTAPR</th>\n",
       "      <td>0.013056</td>\n",
       "    </tr>\n",
       "    <tr>\n",
       "      <th>NP3TTAPL</th>\n",
       "      <td>0.012697</td>\n",
       "    </tr>\n",
       "    <tr>\n",
       "      <th>DFBRADYP</th>\n",
       "      <td>0.012640</td>\n",
       "    </tr>\n",
       "    <tr>\n",
       "      <th>NP3PRSPR</th>\n",
       "      <td>0.012530</td>\n",
       "    </tr>\n",
       "    <tr>\n",
       "      <th>NP3PRSPL</th>\n",
       "      <td>0.012164</td>\n",
       "    </tr>\n",
       "    <tr>\n",
       "      <th>NP3POSTR</th>\n",
       "      <td>0.012136</td>\n",
       "    </tr>\n",
       "    <tr>\n",
       "      <th>NP3HMOVL</th>\n",
       "      <td>0.012119</td>\n",
       "    </tr>\n",
       "    <tr>\n",
       "      <th>DFRIGIDA</th>\n",
       "      <td>0.011302</td>\n",
       "    </tr>\n",
       "    <tr>\n",
       "      <th>NP3HMOVR</th>\n",
       "      <td>0.011259</td>\n",
       "    </tr>\n",
       "    <tr>\n",
       "      <th>NP2TRMR</th>\n",
       "      <td>0.010451</td>\n",
       "    </tr>\n",
       "  </tbody>\n",
       "</table>\n",
       "</div>"
      ],
      "text/plain": [
       "                  importance\n",
       "DOMSIDE             0.068395\n",
       "PRIMDIAG            0.050340\n",
       "PDDXDT_diff_days    0.049499\n",
       "DFRIGIDP            0.029434\n",
       "NP3FACXP            0.027966\n",
       "PD_MED_USE          0.025725\n",
       "NP3BRADY            0.023187\n",
       "PDMEDYN             0.021384\n",
       "DFPGDIST            0.019051\n",
       "DXBRADY             0.018643\n",
       "NP3PSTBL            0.017734\n",
       "NP3FTAPL            0.016833\n",
       "ON_OFF_DOSE         0.016464\n",
       "NP3RIGLU            0.015966\n",
       "DXTREMOR            0.015703\n",
       "NP3SPCH             0.015645\n",
       "DFRTREMP            0.013837\n",
       "NP3RIGN             0.013447\n",
       "NP3GAIT             0.013207\n",
       "NP3TTAPR            0.013056\n",
       "NP3TTAPL            0.012697\n",
       "DFBRADYP            0.012640\n",
       "NP3PRSPR            0.012530\n",
       "NP3PRSPL            0.012164\n",
       "NP3POSTR            0.012136\n",
       "NP3HMOVL            0.012119\n",
       "DFRIGIDA            0.011302\n",
       "NP3HMOVR            0.011259\n",
       "NP2TRMR             0.010451"
      ]
     },
     "execution_count": 18,
     "metadata": {},
     "output_type": "execute_result"
    }
   ],
   "source": [
    "feature_importances = pd.DataFrame(rfc.feature_importances_,\n",
    "                                   index = X_train.columns,\n",
    "                                    columns=['importance']).sort_values('importance',ascending=False)\n",
    "ImportantFeatures=feature_importances[feature_importances.values>=0.01]\n",
    "print(sum(ImportantFeatures.values))\n",
    "ImportantFeatures"
   ]
  },
  {
   "cell_type": "code",
   "execution_count": 19,
   "metadata": {},
   "outputs": [
    {
     "data": {
      "text/html": [
       "<div>\n",
       "<style scoped>\n",
       "    .dataframe tbody tr th:only-of-type {\n",
       "        vertical-align: middle;\n",
       "    }\n",
       "\n",
       "    .dataframe tbody tr th {\n",
       "        vertical-align: top;\n",
       "    }\n",
       "\n",
       "    .dataframe thead th {\n",
       "        text-align: right;\n",
       "    }\n",
       "</style>\n",
       "<table border=\"1\" class=\"dataframe\">\n",
       "  <thead>\n",
       "    <tr style=\"text-align: right;\">\n",
       "      <th></th>\n",
       "      <th>importance</th>\n",
       "    </tr>\n",
       "  </thead>\n",
       "  <tbody>\n",
       "    <tr>\n",
       "      <th>NP3GAIT</th>\n",
       "      <td>0.049861</td>\n",
       "    </tr>\n",
       "    <tr>\n",
       "      <th>PDDXDT_diff_days</th>\n",
       "      <td>0.038741</td>\n",
       "    </tr>\n",
       "    <tr>\n",
       "      <th>NP3PSTBL</th>\n",
       "      <td>0.032142</td>\n",
       "    </tr>\n",
       "    <tr>\n",
       "      <th>NP3RISNG</th>\n",
       "      <td>0.032013</td>\n",
       "    </tr>\n",
       "    <tr>\n",
       "      <th>NP2HYGN</th>\n",
       "      <td>0.024876</td>\n",
       "    </tr>\n",
       "    <tr>\n",
       "      <th>DOMSIDE</th>\n",
       "      <td>0.024634</td>\n",
       "    </tr>\n",
       "    <tr>\n",
       "      <th>BIRTHDT</th>\n",
       "      <td>0.024566</td>\n",
       "    </tr>\n",
       "    <tr>\n",
       "      <th>NP3RIGLU</th>\n",
       "      <td>0.021358</td>\n",
       "    </tr>\n",
       "    <tr>\n",
       "      <th>NP3LGAGL</th>\n",
       "      <td>0.020716</td>\n",
       "    </tr>\n",
       "    <tr>\n",
       "      <th>NP2FREZ</th>\n",
       "      <td>0.020642</td>\n",
       "    </tr>\n",
       "    <tr>\n",
       "      <th>NP3BRADY</th>\n",
       "      <td>0.016656</td>\n",
       "    </tr>\n",
       "    <tr>\n",
       "      <th>NP2TURN</th>\n",
       "      <td>0.016257</td>\n",
       "    </tr>\n",
       "    <tr>\n",
       "      <th>NP2WALK</th>\n",
       "      <td>0.016230</td>\n",
       "    </tr>\n",
       "    <tr>\n",
       "      <th>NP2RISE</th>\n",
       "      <td>0.015784</td>\n",
       "    </tr>\n",
       "    <tr>\n",
       "      <th>NP3LGAGR</th>\n",
       "      <td>0.014827</td>\n",
       "    </tr>\n",
       "    <tr>\n",
       "      <th>NP3FACXP</th>\n",
       "      <td>0.014586</td>\n",
       "    </tr>\n",
       "    <tr>\n",
       "      <th>PRIMDIAG</th>\n",
       "      <td>0.014544</td>\n",
       "    </tr>\n",
       "    <tr>\n",
       "      <th>NP2DRES</th>\n",
       "      <td>0.013896</td>\n",
       "    </tr>\n",
       "    <tr>\n",
       "      <th>NP3HMOVR</th>\n",
       "      <td>0.013442</td>\n",
       "    </tr>\n",
       "    <tr>\n",
       "      <th>NP3FTAPL</th>\n",
       "      <td>0.013320</td>\n",
       "    </tr>\n",
       "    <tr>\n",
       "      <th>NP3TTAPL</th>\n",
       "      <td>0.013224</td>\n",
       "    </tr>\n",
       "    <tr>\n",
       "      <th>NP3PRSPR</th>\n",
       "      <td>0.012477</td>\n",
       "    </tr>\n",
       "    <tr>\n",
       "      <th>SYSSUP</th>\n",
       "      <td>0.010759</td>\n",
       "    </tr>\n",
       "    <tr>\n",
       "      <th>NP3RTCON</th>\n",
       "      <td>0.010737</td>\n",
       "    </tr>\n",
       "    <tr>\n",
       "      <th>NP3PRSPL</th>\n",
       "      <td>0.010551</td>\n",
       "    </tr>\n",
       "    <tr>\n",
       "      <th>NP2TRMR</th>\n",
       "      <td>0.010537</td>\n",
       "    </tr>\n",
       "    <tr>\n",
       "      <th>NP2HOBB</th>\n",
       "      <td>0.010303</td>\n",
       "    </tr>\n",
       "    <tr>\n",
       "      <th>NP1ANXS</th>\n",
       "      <td>0.010206</td>\n",
       "    </tr>\n",
       "    <tr>\n",
       "      <th>NP3HMOVL</th>\n",
       "      <td>0.010155</td>\n",
       "    </tr>\n",
       "  </tbody>\n",
       "</table>\n",
       "</div>"
      ],
      "text/plain": [
       "                  importance\n",
       "NP3GAIT             0.049861\n",
       "PDDXDT_diff_days    0.038741\n",
       "NP3PSTBL            0.032142\n",
       "NP3RISNG            0.032013\n",
       "NP2HYGN             0.024876\n",
       "DOMSIDE             0.024634\n",
       "BIRTHDT             0.024566\n",
       "NP3RIGLU            0.021358\n",
       "NP3LGAGL            0.020716\n",
       "NP2FREZ             0.020642\n",
       "NP3BRADY            0.016656\n",
       "NP2TURN             0.016257\n",
       "NP2WALK             0.016230\n",
       "NP2RISE             0.015784\n",
       "NP3LGAGR            0.014827\n",
       "NP3FACXP            0.014586\n",
       "PRIMDIAG            0.014544\n",
       "NP2DRES             0.013896\n",
       "NP3HMOVR            0.013442\n",
       "NP3FTAPL            0.013320\n",
       "NP3TTAPL            0.013224\n",
       "NP3PRSPR            0.012477\n",
       "SYSSUP              0.010759\n",
       "NP3RTCON            0.010737\n",
       "NP3PRSPL            0.010551\n",
       "NP2TRMR             0.010537\n",
       "NP2HOBB             0.010303\n",
       "NP1ANXS             0.010206\n",
       "NP3HMOVL            0.010155"
      ]
     },
     "execution_count": 19,
     "metadata": {},
     "output_type": "execute_result"
    }
   ],
   "source": [
    "feature_importances_up = pd.DataFrame(rfc_up.feature_importances_,\n",
    "                                   index = X_train.columns,\n",
    "                                    columns=['importance']).sort_values('importance',ascending=False)\n",
    "ImportantFeatures_up=feature_importances_up[feature_importances.values>=0.01]\n",
    "ImportantFeatures_up"
   ]
  },
  {
   "cell_type": "code",
   "execution_count": 20,
   "metadata": {},
   "outputs": [
    {
     "data": {
      "text/plain": [
       "Index(['DOMSIDE', 'PRIMDIAG', 'PDDXDT_diff_days', 'DFRIGIDP', 'NP3FACXP',\n",
       "       'PD_MED_USE', 'NP3BRADY', 'PDMEDYN', 'DFPGDIST', 'DXBRADY', 'NP3PSTBL',\n",
       "       'NP3FTAPL', 'ON_OFF_DOSE', 'NP3RIGLU', 'DXTREMOR', 'NP3SPCH',\n",
       "       'DFRTREMP', 'NP3RIGN', 'NP3GAIT', 'NP3TTAPR', 'NP3TTAPL', 'DFBRADYP',\n",
       "       'NP3PRSPR', 'NP3PRSPL', 'NP3POSTR', 'NP3HMOVL', 'DFRIGIDA', 'NP3HMOVR',\n",
       "       'NP2TRMR'],\n",
       "      dtype='object')"
      ]
     },
     "execution_count": 20,
     "metadata": {},
     "output_type": "execute_result"
    }
   ],
   "source": [
    "import seaborn as sns\n",
    "ImportantFeatures.index\n",
    "#sns.barplot(x=ImportantFeatures,y=ImportantFeatures.index, orient=\"h\")"
   ]
  },
  {
   "cell_type": "markdown",
   "metadata": {},
   "source": [
    "## 4. Evaluation: Calculating, plotting metrics"
   ]
  },
  {
   "cell_type": "code",
   "execution_count": 24,
   "metadata": {},
   "outputs": [
    {
     "name": "stdout",
     "output_type": "stream",
     "text": [
      "Train-Score-logreg: 0.9889, Test-Accuracy-logreg: 0.8429\n",
      "Train-Score-logreg-up: 0.9972, Test-Accuracy-logreg-up: 0.8171\n",
      "Train-Score-rfc-up: 1.0000, Test-Accuracy-rfc: 0.8946\n"
     ]
    }
   ],
   "source": [
    "print(\"Train-Score-logreg: %.4f, Test-Accuracy-logreg: %.4f\" % (logreg.score(X_train, y_train), logreg.score(X_test, y_test)))\n",
    "print(\"Train-Score-logreg-up: %.4f, Test-Accuracy-logreg-up: %.4f\" % (logreg_up.score(X_train_up, y_train_up), logreg_up.score(X_test, y_test)))\n",
    "print(\"Train-Score-rfc-up: %.4f, Test-Accuracy-rfc: %.4f\" % (rfc_up.score(X_train_up, y_train_up), rfc_up.score(X_test, y_test)))"
   ]
  },
  {
   "cell_type": "markdown",
   "metadata": {},
   "source": [
    "### Confusion Matrix"
   ]
  },
  {
   "cell_type": "code",
   "execution_count": 26,
   "metadata": {},
   "outputs": [
    {
     "data": {
      "text/plain": [
       "<matplotlib.axes._subplots.AxesSubplot at 0x1a0b4bebe0>"
      ]
     },
     "execution_count": 26,
     "metadata": {},
     "output_type": "execute_result"
    },
    {
     "data": {
      "image/png": "[encoded data removed]",
      "text/plain": [
       "<Figure size 432x288 with 2 Axes>"
      ]
     },
     "metadata": {},
     "output_type": "display_data"
    }
   ],
   "source": [
    "y_pred_logreg=logreg.predict(X_test)\n",
    "cm_logreg=confusion_matrix(y_test,y_pred_logreg)\n",
    "cm_logreg_df=pd.DataFrame(cm_logreg,index=[0,1,2,3,4,5],columns=[0,1,2,3,4,5])\n",
    "import seaborn as sns\n",
    "sns.heatmap(cm_logreg_df,annot=True,cmap='viridis')"
   ]
  },
  {
   "cell_type": "code",
   "execution_count": 27,
   "metadata": {},
   "outputs": [
    {
     "data": {
      "text/plain": [
       "<matplotlib.axes._subplots.AxesSubplot at 0x1a0c330198>"
      ]
     },
     "execution_count": 27,
     "metadata": {},
     "output_type": "execute_result"
    },
    {
     "data": {
      "image/png": "[encoded data removed]",
      "text/plain": [
       "<Figure size 432x288 with 2 Axes>"
      ]
     },
     "metadata": {},
     "output_type": "display_data"
    }
   ],
   "source": [
    "y_pred_rfc=rfc.predict(X_test)\n",
    "cm_rfc=confusion_matrix(y_test,y_pred_rfc)\n",
    "cm_rfc_df=pd.DataFrame(cm_rfc,index=[0,1,2,3,4,5],columns=[0,1,2,3,4,5])\n",
    "sns.heatmap(cm_rfc_df,annot=True,cmap='viridis')"
   ]
  },
  {
   "cell_type": "markdown",
   "metadata": {},
   "source": [
    "### classification report"
   ]
  },
  {
   "cell_type": "code",
   "execution_count": 29,
   "metadata": {},
   "outputs": [
    {
     "name": "stdout",
     "output_type": "stream",
     "text": [
      "             precision    recall  f1-score   support\n",
      "\n",
      "        0.0       0.97      0.97      0.97       205\n",
      "        1.0       0.56      0.43      0.48        56\n",
      "        2.0       0.84      0.89      0.87       217\n",
      "        3.0       0.33      0.28      0.30        18\n",
      "        4.0       0.25      0.33      0.29         6\n",
      "        5.0       0.00      0.00      0.00         1\n",
      "\n",
      "avg / total       0.83      0.84      0.84       503\n",
      "\n"
     ]
    }
   ],
   "source": [
    "from sklearn.metrics import classification_report\n",
    "report_logreg = classification_report(y_test, \n",
    "                      y_pred_logreg)\n",
    "print(report_logreg)"
   ]
  },
  {
   "cell_type": "code",
   "execution_count": 30,
   "metadata": {},
   "outputs": [
    {
     "name": "stdout",
     "output_type": "stream",
     "text": [
      "             precision    recall  f1-score   support\n",
      "\n",
      "        0.0       0.97      1.00      0.98       205\n",
      "        1.0       0.88      0.38      0.53        56\n",
      "        2.0       0.82      0.97      0.89       217\n",
      "        3.0       0.40      0.22      0.29        18\n",
      "        4.0       0.00      0.00      0.00         6\n",
      "        5.0       0.00      0.00      0.00         1\n",
      "\n",
      "avg / total       0.86      0.87      0.85       503\n",
      "\n"
     ]
    }
   ],
   "source": [
    "report_rfc = classification_report(y_test, \n",
    "                      y_pred_rfc)\n",
    "print(report_rfc)"
   ]
  },
  {
   "cell_type": "code",
   "execution_count": 31,
   "metadata": {},
   "outputs": [
    {
     "name": "stdout",
     "output_type": "stream",
     "text": [
      "             precision    recall  f1-score   support\n",
      "\n",
      "        0.0       0.97      0.99      0.98       205\n",
      "        1.0       0.73      0.68      0.70        56\n",
      "        2.0       0.89      0.93      0.91       217\n",
      "        3.0       0.50      0.33      0.40        18\n",
      "        4.0       0.50      0.17      0.25         6\n",
      "        5.0       0.00      0.00      0.00         1\n",
      "\n",
      "avg / total       0.88      0.89      0.89       503\n",
      "\n"
     ]
    }
   ],
   "source": [
    "y_pred_rfc_up=rfc_up.predict(X_test)\n",
    "report_rfc_up = classification_report(y_test, \n",
    "                      y_pred_rfc_up)\n",
    "print(report_rfc_up)"
   ]
  },
  {
   "cell_type": "markdown",
   "metadata": {},
   "source": [
    "## 5. Cross-Validation"
   ]
  },
  {
   "cell_type": "code",
   "execution_count": 32,
   "metadata": {
    "scrolled": true
   },
   "outputs": [],
   "source": [
    "from sklearn.cross_validation import LeaveOneOut, StratifiedKFold\n",
    "from sklearn.model_selection import cross_val_score\n",
    "#cv_score=cross_val_score(logreg,data,target,cv=5,n_jobs=-1)\n",
    "#print(cv_score)\n",
    "\n",
    "# C = 1/lambda, the parameter of the sigmoid function\n",
    "# lambda = 0.001, 0.005, 0.01, 0.05, ..., 1, 5, 10, 50"
   ]
  },
  {
   "cell_type": "code",
   "execution_count": 33,
   "metadata": {},
   "outputs": [],
   "source": [
    "#print(cv_score.mean())"
   ]
  },
  {
   "cell_type": "code",
   "execution_count": 34,
   "metadata": {},
   "outputs": [
    {
     "name": "stdout",
     "output_type": "stream",
     "text": [
      "[0.82492582 0.8694362  0.85416667 0.82582583 0.83987915]\n",
      "0.8428467328750393\n"
     ]
    }
   ],
   "source": [
    "cv_score_rfc=cross_val_score(rfc,data,target,cv=5,n_jobs=-1)\n",
    "print(cv_score_rfc)\n",
    "print(cv_score_rfc.mean())"
   ]
  },
  {
   "cell_type": "markdown",
   "metadata": {},
   "source": [
    "## 6. Hyperparameter tuning with GridSearchCV"
   ]
  },
  {
   "cell_type": "code",
   "execution_count": 36,
   "metadata": {},
   "outputs": [],
   "source": [
    "def grid_search(param_grid, est_params, estimator, X_train, y_train, cv=3):\n",
    "    est = estimator(**est_params, njobs=-1)\n",
    "    grid_search=GridSearchCV(estimator, param_grid,cv=cv)\n",
    "    grid_search.fit(X_train,y_train)\n",
    "    print(\"Best estimator:\\n{}\".format(grid_search2.best_estimator_))\n",
    "    print(\"Best parameters: {}\".format(grid_search2.best_params_))\n",
    "    print(\"Best cross-validation score: {:.2f}\".format(grid_search2.best_score_))\n",
    "    return grid_search\n",
    "\n",
    "\n",
    "param_grid_rfc={'n_estimators':[10,15,20],\n",
    "               'max_features':[10,50,100],\n",
    "               'max_leaf_nodes':[None,25,50,100]}\n",
    "from sklearn.model_selection import GridSearchCV\n",
    "grid_search=GridSearchCV(RandomForestClassifier(n_jobs=-1),param_grid_rfc,cv=5)"
   ]
  },
  {
   "cell_type": "code",
   "execution_count": 20,
   "metadata": {},
   "outputs": [],
   "source": [
    "param_grid_rfc={'n_estimators':[500],\n",
    "               'max_features':[10,20,30],\n",
    "               'max_depth':[None,5,15]}\n",
    "from sklearn.model_selection import GridSearchCV\n",
    "grid_search2=GridSearchCV(RandomForestClassifier(n_jobs=-1,),param_grid_rfc,cv=3)"
   ]
  },
  {
   "cell_type": "code",
   "execution_count": 22,
   "metadata": {},
   "outputs": [
    {
     "data": {
      "text/plain": [
       "GridSearchCV(cv=3, error_score='raise',\n",
       "       estimator=RandomForestClassifier(bootstrap=True, class_weight=None, criterion='gini',\n",
       "            max_depth=None, max_features='auto', max_leaf_nodes=None,\n",
       "            min_impurity_decrease=0.0, min_impurity_split=None,\n",
       "            min_samples_leaf=1, min_samples_split=2,\n",
       "            min_weight_fraction_leaf=0.0, n_estimators=10, n_jobs=-1,\n",
       "            oob_score=False, random_state=None, verbose=0,\n",
       "            warm_start=False),\n",
       "       fit_params=None, iid=True, n_jobs=1,\n",
       "       param_grid={'max_features': [10, 20, 30], 'n_estimators': [500], 'max_depth': [None, 5, 15]},\n",
       "       pre_dispatch='2*n_jobs', refit=True, return_train_score='warn',\n",
       "       scoring=None, verbose=0)"
      ]
     },
     "execution_count": 22,
     "metadata": {},
     "output_type": "execute_result"
    }
   ],
   "source": [
    "grid_search2.fit(X_train,y_train)"
   ]
  },
  {
   "cell_type": "code",
   "execution_count": 21,
   "metadata": {},
   "outputs": [
    {
     "ename": "NameError",
     "evalue": "name 'grid_search' is not defined",
     "output_type": "error",
     "traceback": [
      "\u001b[0;31m---------------------------------------------------------------------------\u001b[0m",
      "\u001b[0;31mNameError\u001b[0m                                 Traceback (most recent call last)",
      "\u001b[0;32m<ipython-input-21-7912bbd68fbd>\u001b[0m in \u001b[0;36m<module>\u001b[0;34m()\u001b[0m\n\u001b[0;32m----> 1\u001b[0;31m \u001b[0mgrid_search\u001b[0m\u001b[0;34m.\u001b[0m\u001b[0mfit\u001b[0m\u001b[0;34m(\u001b[0m\u001b[0mX_train\u001b[0m\u001b[0;34m,\u001b[0m\u001b[0my_train\u001b[0m\u001b[0;34m)\u001b[0m\u001b[0;34m\u001b[0m\u001b[0m\n\u001b[0m",
      "\u001b[0;31mNameError\u001b[0m: name 'grid_search' is not defined"
     ]
    }
   ],
   "source": [
    "grid_search.fit(X_train,y_train)"
   ]
  },
  {
   "cell_type": "code",
   "execution_count": 23,
   "metadata": {},
   "outputs": [
    {
     "name": "stdout",
     "output_type": "stream",
     "text": [
      "Best estimator:\n",
      "RandomForestClassifier(bootstrap=True, class_weight=None, criterion='gini',\n",
      "            max_depth=None, max_features=30, max_leaf_nodes=None,\n",
      "            min_impurity_decrease=0.0, min_impurity_split=None,\n",
      "            min_samples_leaf=1, min_samples_split=2,\n",
      "            min_weight_fraction_leaf=0.0, n_estimators=500, n_jobs=-1,\n",
      "            oob_score=False, random_state=None, verbose=0,\n",
      "            warm_start=False)\n",
      "Best parameters: {'max_depth': None, 'n_estimators': 500, 'max_features': 30}\n",
      "Best cross-validation score: 0.84\n"
     ]
    }
   ],
   "source": [
    "print(\"Best estimator:\\n{}\".format(grid_search2.best_estimator_))\n",
    "print(\"Best parameters: {}\".format(grid_search2.best_params_))\n",
    "print(\"Best cross-validation score: {:.2f}\".format(grid_search2.best_score_))"
   ]
  },
  {
   "cell_type": "code",
   "execution_count": 24,
   "metadata": {},
   "outputs": [
    {
     "data": {
      "text/plain": [
       "{'mean_fit_time': array([1.46182474, 1.83686304, 1.71982805, 1.38273033, 1.38505737,\n",
       "        1.56746276, 1.41736547, 1.63185398, 1.79949101]),\n",
       " 'mean_score_time': array([0.24215206, 0.21035099, 0.27913833, 0.20706836, 0.2086846 ,\n",
       "        0.20877163, 0.20933263, 0.24411305, 0.24179141]),\n",
       " 'mean_test_score': array([0.82664389, 0.83859949, 0.84372331, 0.80358668, 0.81810418,\n",
       "        0.82152007, 0.83176772, 0.83603757, 0.83859949]),\n",
       " 'mean_train_score': array([1.        , 1.        , 1.        , 0.82921048, 0.85738393,\n",
       "        0.86934868, 0.9991453 , 1.        , 1.        ]),\n",
       " 'param_max_depth': masked_array(data=[None, None, None, 5, 5, 5, 15, 15, 15],\n",
       "              mask=[False, False, False, False, False, False, False, False,\n",
       "                    False],\n",
       "        fill_value='?',\n",
       "             dtype=object),\n",
       " 'param_max_features': masked_array(data=[10, 20, 30, 10, 20, 30, 10, 20, 30],\n",
       "              mask=[False, False, False, False, False, False, False, False,\n",
       "                    False],\n",
       "        fill_value='?',\n",
       "             dtype=object),\n",
       " 'param_n_estimators': masked_array(data=[500, 500, 500, 500, 500, 500, 500, 500, 500],\n",
       "              mask=[False, False, False, False, False, False, False, False,\n",
       "                    False],\n",
       "        fill_value='?',\n",
       "             dtype=object),\n",
       " 'params': [{'max_depth': None, 'max_features': 10, 'n_estimators': 500},\n",
       "  {'max_depth': None, 'max_features': 20, 'n_estimators': 500},\n",
       "  {'max_depth': None, 'max_features': 30, 'n_estimators': 500},\n",
       "  {'max_depth': 5, 'max_features': 10, 'n_estimators': 500},\n",
       "  {'max_depth': 5, 'max_features': 20, 'n_estimators': 500},\n",
       "  {'max_depth': 5, 'max_features': 30, 'n_estimators': 500},\n",
       "  {'max_depth': 15, 'max_features': 10, 'n_estimators': 500},\n",
       "  {'max_depth': 15, 'max_features': 20, 'n_estimators': 500},\n",
       "  {'max_depth': 15, 'max_features': 30, 'n_estimators': 500}],\n",
       " 'rank_test_score': array([6, 2, 1, 9, 8, 7, 5, 4, 2], dtype=int32),\n",
       " 'split0_test_score': array([0.82397959, 0.83928571, 0.84183673, 0.80102041, 0.81377551,\n",
       "        0.81377551, 0.82908163, 0.83673469, 0.83928571]),\n",
       " 'split0_train_score': array([1.        , 1.        , 1.        , 0.83311938, 0.85622593,\n",
       "        0.87548139, 0.9987163 , 1.        , 1.        ]),\n",
       " 'split1_test_score': array([0.82051282, 0.83589744, 0.83589744, 0.80769231, 0.81538462,\n",
       "        0.82307692, 0.83333333, 0.82307692, 0.83076923]),\n",
       " 'split1_train_score': array([1.        , 1.        , 1.        , 0.8284251 , 0.85403329,\n",
       "        0.86555698, 0.99871959, 1.        , 1.        ]),\n",
       " 'split2_test_score': array([0.83547558, 0.84061697, 0.85347044, 0.80205656, 0.8251928 ,\n",
       "        0.8277635 , 0.83290488, 0.84832905, 0.84575835]),\n",
       " 'split2_train_score': array([1.        , 1.        , 1.        , 0.82608696, 0.86189258,\n",
       "        0.86700767, 1.        , 1.        , 1.        ]),\n",
       " 'std_fit_time': array([0.1143141 , 0.16503541, 0.05121267, 0.00593124, 0.00397299,\n",
       "        0.03274272, 0.03871461, 0.04799099, 0.08893936]),\n",
       " 'std_score_time': array([0.04541607, 0.00208308, 0.05202124, 0.00078871, 0.00200106,\n",
       "        0.00140148, 0.00043706, 0.04877061, 0.04633004]),\n",
       " 'std_test_score': array([0.00638798, 0.00198529, 0.00729037, 0.00293195, 0.00504262,\n",
       "        0.00581674, 0.00191343, 0.01030998, 0.0061321 ]),\n",
       " 'std_train_score': array([0.        , 0.        , 0.        , 0.0029242 , 0.00331138,\n",
       "        0.00437673, 0.00060437, 0.        , 0.        ])}"
      ]
     },
     "execution_count": 24,
     "metadata": {},
     "output_type": "execute_result"
    }
   ],
   "source": [
    "grid_search2.cv_results_"
   ]
  },
  {
   "cell_type": "code",
   "execution_count": 42,
   "metadata": {},
   "outputs": [
    {
     "name": "stdout",
     "output_type": "stream",
     "text": [
      "Best estimator:\n",
      "RandomForestClassifier(bootstrap=True, class_weight=None, criterion='gini',\n",
      "            max_depth=None, max_features=100, max_leaf_nodes=None,\n",
      "            min_impurity_decrease=0.0, min_impurity_split=None,\n",
      "            min_samples_leaf=1, min_samples_split=2,\n",
      "            min_weight_fraction_leaf=0.0, n_estimators=15, n_jobs=-1,\n",
      "            oob_score=False, random_state=None, verbose=0,\n",
      "            warm_start=False)\n",
      "Best parameters: {'max_features': 100, 'max_leaf_nodes': None, 'n_estimators': 15}\n",
      "Best cross-validation score: 0.85\n"
     ]
    }
   ],
   "source": [
    "print(\"Best estimator:\\n{}\".format(grid_search.best_estimator_))\n",
    "print(\"Best parameters: {}\".format(grid_search.best_params_))\n",
    "print(\"Best cross-validation score: {:.2f}\".format(grid_search.best_score_))"
   ]
  },
  {
   "cell_type": "markdown",
   "metadata": {},
   "source": [
    "# II. Time-series prediction (input timestep=3)"
   ]
  },
  {
   "cell_type": "code",
   "execution_count": 25,
   "metadata": {},
   "outputs": [
    {
     "name": "stdout",
     "output_type": "stream",
     "text": [
      "(4784, 379)\n",
      "(4113, 376)\n"
     ]
    },
    {
     "data": {
      "text/plain": [
       "6    852\n",
       "7    714\n",
       "2    586\n",
       "3    564\n",
       "5    525\n",
       "4    512\n",
       "8    360\n",
       "Name: num_visits, dtype: int64"
      ]
     },
     "execution_count": 25,
     "metadata": {},
     "output_type": "execute_result"
    }
   ],
   "source": [
    "def patients_selection(df, threshold=6):\n",
    "    '''return a dataframe containing only the patients with number of visits > threshold'''\n",
    "    if 'PATNO' in df.columns: \n",
    "        visits_number_by_pat=df.groupby('PATNO').size().sort_values(ascending=False)\n",
    "        mask_sel=visits_number_by_pat>=threshold\n",
    "        patients_sel=list(mask_sel[mask_sel.values==True].index)\n",
    "        df=df.loc[df['PATNO'].isin(patients_sel),:]\n",
    "        df=df.sort_values('PATNO')\n",
    "        return (patients_sel, df)\n",
    "    else:\n",
    "        return 0\n",
    "\n",
    "file_path='/Users/alicemartin/02_DSR_Project/parkinson-disease-project/output/pre-processing/dfFinal.csv'\n",
    "df2=pd.read_csv(file_path)\n",
    "print(df2.shape)\n",
    "df_th2=patients_selection(df,threshold=2)[1]\n",
    "print(df_th2.shape)\n",
    "df_th2['num_visits'].value_counts()"
   ]
  },
  {
   "cell_type": "markdown",
   "metadata": {},
   "source": [
    "### padding for patients with visits <4"
   ]
  },
  {
   "cell_type": "code",
   "execution_count": 26,
   "metadata": {},
   "outputs": [
    {
     "name": "stdout",
     "output_type": "stream",
     "text": [
      "(774, 375)\n",
      "(4113, 375)\n",
      "(4887, 375)\n",
      "(293, 188)\n"
     ]
    }
   ],
   "source": [
    "rowstoAdd=df_th2[df_th2['num_visits']==2].groupby('PATNO').median()\n",
    "rowstoAdd['VISIT_ID']=3\n",
    "rowstoAdd['visitsdiff_days']=3*61\n",
    "rowstoAdd['lastDate_diff_days']=rowstoAdd['lastDate_diff_days']-rowstoAdd['visitsdiff_days']\n",
    "rowstoAdd['PDDXDT_diff_days']=rowstoAdd['PDDXDT_diff_days'].where(rowstoAdd['PDDXDT_diff_days']==0,\n",
    "                                                                 rowstoAdd['PDDXDT_diff_days']+rowstoAdd['visitsdiff_days'])\n",
    "maskMED=rowstoAdd['PDMEDT_diff_days']!=0\n",
    "rowstoAdd.loc[maskMED,'PDMEDT_diff_days']=rowstoAdd.loc[maskMED,'PDMEDT_diff_days']+rowstoAdd.loc[maskMED,'visitsdiff_days']\n",
    "maskSURG=rowstoAdd['PDSURGDT_diff_days']!=0\n",
    "rowstoAdd.loc[maskSURG,'PDSURGDT_diff_days']=rowstoAdd.loc[maskSURG,'PDSURGDT_diff_days']+rowstoAdd.loc[maskSURG,'visitsdiff_days']\n",
    "\n",
    "rowstoAdd2=df_th2[df_th2['num_visits']==2].groupby('PATNO').median()\n",
    "rowstoAdd2['VISIT_ID']=4\n",
    "rowstoAdd2['visitsdiff_days']=3*61\n",
    "rowstoAdd2['lastDate_diff_days']=rowstoAdd2['lastDate_diff_days']-rowstoAdd2['visitsdiff_days']\n",
    "rowstoAdd2['PDDXDT_diff_days']=rowstoAdd2['PDDXDT_diff_days'].where(rowstoAdd2['PDDXDT_diff_days']==0,\n",
    "                                                                 rowstoAdd2['PDDXDT_diff_days']+rowstoAdd2['visitsdiff_days'])\n",
    "\n",
    "rowstoAdd2.loc[maskMED,'PDMEDT_diff_days']=rowstoAdd2.loc[maskMED,'PDMEDT_diff_days']+rowstoAdd2.loc[maskMED,'visitsdiff_days']\n",
    "rowstoAdd2.loc[maskSURG,'PDSURGDT_diff_days']=rowstoAdd2.loc[maskSURG,'PDSURGDT_diff_days']+rowstoAdd2.loc[maskSURG,'visitsdiff_days']\n",
    "\n",
    "\n",
    "rows3toAdd=df_th2[df_th2['num_visits']==3].groupby('PATNO').median()\n",
    "rows3toAdd['VISIT_ID']=4\n",
    "rows3toAdd['visitsdiff_days']=3*61\n",
    "rows3toAdd['lastDate_diff_days']=rows3toAdd['lastDate_diff_days']-rows3toAdd['visitsdiff_days']\n",
    "rows3toAdd['PDDXDT_diff_days']=rows3toAdd['PDDXDT_diff_days'].where(rows3toAdd['PDDXDT_diff_days']==0,\n",
    "                                                                 rows3toAdd['PDDXDT_diff_days']+rows3toAdd['visitsdiff_days'])\n",
    "mask3MED=rows3toAdd['PDMEDT_diff_days']!=0\n",
    "rows3toAdd.loc[mask3MED,'PDMEDT_diff_days']=rows3toAdd.loc[mask3MED,'PDMEDT_diff_days']+rows3toAdd.loc[mask3MED,'visitsdiff_days']\n",
    "mask3SURG=rows3toAdd['PDSURGDT_diff_days']!=0\n",
    "rows3toAdd.loc[mask3SURG,'PDSURGDT_diff_days']=rows3toAdd.loc[mask3SURG,'PDSURGDT_diff_days']+rows3toAdd.loc[mask3SURG,'visitsdiff_days']\n",
    "\n",
    "rowspadding=pd.concat([rowstoAdd,rowstoAdd2,rows3toAdd])\n",
    "rowspadding['num_visits']=4\n",
    "rowspadding.reset_index(inplace=True)\n",
    "print(rowspadding.shape)\n",
    "dfpad_th4=df_th2.drop(columns='INFODT_date')\n",
    "print(dfpad_th4.shape)\n",
    "dfpad_th4=pd.concat([dfpad_th4,rowspadding])\n",
    "print(dfpad_th4.shape)\n",
    "dfpad_th4['num_visits'].replace(2,4,inplace=True)\n",
    "dfpad_th4['num_visits'].replace(3,4,inplace=True)\n",
    "dfpad_th4.reset_index(drop=True,inplace=True)\n",
    "dfpad_th4.head()\n",
    "print((len(rowstoAdd),len(rows3toAdd)))"
   ]
  },
  {
   "cell_type": "markdown",
   "metadata": {},
   "source": [
    "### cropping for number of visits > 4"
   ]
  },
  {
   "cell_type": "code",
   "execution_count": 27,
   "metadata": {},
   "outputs": [
    {
     "name": "stdout",
     "output_type": "stream",
     "text": [
      "(4887, 376)\n",
      "875\n",
      "(4012, 375)\n",
      "number pf patients:1003\n"
     ]
    },
    {
     "data": {
      "text/plain": [
       "{0.0, 1.0, 2.0, 3.0, 4.0, 5.0}"
      ]
     },
     "execution_count": 27,
     "metadata": {},
     "output_type": "execute_result"
    }
   ],
   "source": [
    "dfpad_th4['visits_thresold']=dfpad_th4['VISIT_ID']-(dfpad_th4['num_visits']-4)\n",
    "print(dfpad_th4.shape)\n",
    "rowsToDrop=dfpad_th4[(dfpad_th4['num_visits']>4) & (dfpad_th4['visits_thresold']<=0)].index\n",
    "print(len(rowsToDrop))\n",
    "dfpaddrop_th4=dfpad_th4.drop(index=list(rowsToDrop),columns='visits_thresold')\n",
    "dfpaddrop_th4['NHY']=dfpaddrop_th4['NHY'].apply(lambda x: round(x,0))\n",
    "print(dfpaddrop_th4.shape)\n",
    "print('number pf patients:{}'.format(len(set(dfpaddrop_th4['PATNO']))))\n",
    "set(dfpaddrop_th4['NHY'])"
   ]
  },
  {
   "cell_type": "markdown",
   "metadata": {},
   "source": [
    "### creating data and targets"
   ]
  },
  {
   "cell_type": "code",
   "execution_count": 28,
   "metadata": {},
   "outputs": [
    {
     "name": "stdout",
     "output_type": "stream",
     "text": [
      "(3009, 374)\n"
     ]
    },
    {
     "data": {
      "text/html": [
       "<div>\n",
       "<style scoped>\n",
       "    .dataframe tbody tr th:only-of-type {\n",
       "        vertical-align: middle;\n",
       "    }\n",
       "\n",
       "    .dataframe tbody tr th {\n",
       "        vertical-align: top;\n",
       "    }\n",
       "\n",
       "    .dataframe thead th {\n",
       "        text-align: right;\n",
       "    }\n",
       "</style>\n",
       "<table border=\"1\" class=\"dataframe\">\n",
       "  <thead>\n",
       "    <tr style=\"text-align: right;\">\n",
       "      <th></th>\n",
       "      <th>NP1COG</th>\n",
       "      <th>NP1HALL</th>\n",
       "      <th>NP1DPRS</th>\n",
       "      <th>NP1ANXS</th>\n",
       "      <th>NP1APAT</th>\n",
       "      <th>NP1DDS</th>\n",
       "      <th>NP2SPCH</th>\n",
       "      <th>NP2SALV</th>\n",
       "      <th>NP2SWAL</th>\n",
       "      <th>NP2EAT</th>\n",
       "      <th>...</th>\n",
       "      <th>DXPOSINS</th>\n",
       "      <th>DXOTHSX</th>\n",
       "      <th>DOMSIDE</th>\n",
       "      <th>num_visits</th>\n",
       "      <th>VISIT_ID</th>\n",
       "      <th>visitsdiff_days</th>\n",
       "      <th>lastDate_diff_days</th>\n",
       "      <th>PDDXDT_diff_days</th>\n",
       "      <th>PDMEDT_diff_days</th>\n",
       "      <th>PDSURGDT_diff_days</th>\n",
       "    </tr>\n",
       "    <tr>\n",
       "      <th>PATNO</th>\n",
       "      <th></th>\n",
       "      <th></th>\n",
       "      <th></th>\n",
       "      <th></th>\n",
       "      <th></th>\n",
       "      <th></th>\n",
       "      <th></th>\n",
       "      <th></th>\n",
       "      <th></th>\n",
       "      <th></th>\n",
       "      <th></th>\n",
       "      <th></th>\n",
       "      <th></th>\n",
       "      <th></th>\n",
       "      <th></th>\n",
       "      <th></th>\n",
       "      <th></th>\n",
       "      <th></th>\n",
       "      <th></th>\n",
       "      <th></th>\n",
       "      <th></th>\n",
       "    </tr>\n",
       "  </thead>\n",
       "  <tbody>\n",
       "    <tr>\n",
       "      <th>3001</th>\n",
       "      <td>0.0</td>\n",
       "      <td>0.0</td>\n",
       "      <td>0.0</td>\n",
       "      <td>1.0</td>\n",
       "      <td>0.0</td>\n",
       "      <td>0.0</td>\n",
       "      <td>0.0</td>\n",
       "      <td>0.0</td>\n",
       "      <td>0.0</td>\n",
       "      <td>1.0</td>\n",
       "      <td>...</td>\n",
       "      <td>0.0</td>\n",
       "      <td>0.0</td>\n",
       "      <td>2.0</td>\n",
       "      <td>7</td>\n",
       "      <td>4</td>\n",
       "      <td>335</td>\n",
       "      <td>1552.0</td>\n",
       "      <td>1461.0</td>\n",
       "      <td>0.0</td>\n",
       "      <td>0.0</td>\n",
       "    </tr>\n",
       "    <tr>\n",
       "      <th>3001</th>\n",
       "      <td>0.0</td>\n",
       "      <td>0.0</td>\n",
       "      <td>0.0</td>\n",
       "      <td>1.0</td>\n",
       "      <td>0.0</td>\n",
       "      <td>0.0</td>\n",
       "      <td>0.0</td>\n",
       "      <td>0.0</td>\n",
       "      <td>1.0</td>\n",
       "      <td>1.0</td>\n",
       "      <td>...</td>\n",
       "      <td>0.0</td>\n",
       "      <td>0.0</td>\n",
       "      <td>2.0</td>\n",
       "      <td>7</td>\n",
       "      <td>5</td>\n",
       "      <td>365</td>\n",
       "      <td>1187.0</td>\n",
       "      <td>1826.0</td>\n",
       "      <td>0.0</td>\n",
       "      <td>0.0</td>\n",
       "    </tr>\n",
       "    <tr>\n",
       "      <th>3001</th>\n",
       "      <td>1.0</td>\n",
       "      <td>0.0</td>\n",
       "      <td>1.0</td>\n",
       "      <td>1.0</td>\n",
       "      <td>0.0</td>\n",
       "      <td>0.0</td>\n",
       "      <td>0.0</td>\n",
       "      <td>0.0</td>\n",
       "      <td>1.0</td>\n",
       "      <td>0.0</td>\n",
       "      <td>...</td>\n",
       "      <td>0.0</td>\n",
       "      <td>0.0</td>\n",
       "      <td>2.0</td>\n",
       "      <td>7</td>\n",
       "      <td>6</td>\n",
       "      <td>427</td>\n",
       "      <td>760.0</td>\n",
       "      <td>2253.0</td>\n",
       "      <td>0.0</td>\n",
       "      <td>0.0</td>\n",
       "    </tr>\n",
       "    <tr>\n",
       "      <th>3002</th>\n",
       "      <td>2.0</td>\n",
       "      <td>0.0</td>\n",
       "      <td>3.0</td>\n",
       "      <td>1.0</td>\n",
       "      <td>2.0</td>\n",
       "      <td>0.0</td>\n",
       "      <td>1.0</td>\n",
       "      <td>1.0</td>\n",
       "      <td>1.0</td>\n",
       "      <td>1.0</td>\n",
       "      <td>...</td>\n",
       "      <td>0.0</td>\n",
       "      <td>1.0</td>\n",
       "      <td>1.0</td>\n",
       "      <td>6</td>\n",
       "      <td>3</td>\n",
       "      <td>365</td>\n",
       "      <td>1917.0</td>\n",
       "      <td>1155.0</td>\n",
       "      <td>0.0</td>\n",
       "      <td>0.0</td>\n",
       "    </tr>\n",
       "    <tr>\n",
       "      <th>3002</th>\n",
       "      <td>1.0</td>\n",
       "      <td>1.0</td>\n",
       "      <td>0.0</td>\n",
       "      <td>2.0</td>\n",
       "      <td>0.0</td>\n",
       "      <td>1.0</td>\n",
       "      <td>2.0</td>\n",
       "      <td>3.0</td>\n",
       "      <td>1.0</td>\n",
       "      <td>1.0</td>\n",
       "      <td>...</td>\n",
       "      <td>0.0</td>\n",
       "      <td>1.0</td>\n",
       "      <td>1.0</td>\n",
       "      <td>6</td>\n",
       "      <td>4</td>\n",
       "      <td>699</td>\n",
       "      <td>1218.0</td>\n",
       "      <td>1854.0</td>\n",
       "      <td>0.0</td>\n",
       "      <td>0.0</td>\n",
       "    </tr>\n",
       "  </tbody>\n",
       "</table>\n",
       "<p>5 rows × 373 columns</p>\n",
       "</div>"
      ],
      "text/plain": [
       "       NP1COG  NP1HALL  NP1DPRS  NP1ANXS  NP1APAT  NP1DDS  NP2SPCH  NP2SALV  \\\n",
       "PATNO                                                                         \n",
       "3001      0.0      0.0      0.0      1.0      0.0     0.0      0.0      0.0   \n",
       "3001      0.0      0.0      0.0      1.0      0.0     0.0      0.0      0.0   \n",
       "3001      1.0      0.0      1.0      1.0      0.0     0.0      0.0      0.0   \n",
       "3002      2.0      0.0      3.0      1.0      2.0     0.0      1.0      1.0   \n",
       "3002      1.0      1.0      0.0      2.0      0.0     1.0      2.0      3.0   \n",
       "\n",
       "       NP2SWAL  NP2EAT         ...          DXPOSINS  DXOTHSX  DOMSIDE  \\\n",
       "PATNO                          ...                                       \n",
       "3001       0.0     1.0         ...               0.0      0.0      2.0   \n",
       "3001       1.0     1.0         ...               0.0      0.0      2.0   \n",
       "3001       1.0     0.0         ...               0.0      0.0      2.0   \n",
       "3002       1.0     1.0         ...               0.0      1.0      1.0   \n",
       "3002       1.0     1.0         ...               0.0      1.0      1.0   \n",
       "\n",
       "       num_visits  VISIT_ID  visitsdiff_days  lastDate_diff_days  \\\n",
       "PATNO                                                              \n",
       "3001            7         4              335              1552.0   \n",
       "3001            7         5              365              1187.0   \n",
       "3001            7         6              427               760.0   \n",
       "3002            6         3              365              1917.0   \n",
       "3002            6         4              699              1218.0   \n",
       "\n",
       "       PDDXDT_diff_days  PDMEDT_diff_days  PDSURGDT_diff_days  \n",
       "PATNO                                                          \n",
       "3001             1461.0               0.0                 0.0  \n",
       "3001             1826.0               0.0                 0.0  \n",
       "3001             2253.0               0.0                 0.0  \n",
       "3002             1155.0               0.0                 0.0  \n",
       "3002             1854.0               0.0                 0.0  \n",
       "\n",
       "[5 rows x 373 columns]"
      ]
     },
     "execution_count": 28,
     "metadata": {},
     "output_type": "execute_result"
    }
   ],
   "source": [
    "datatoDrop=dfpaddrop_th4[dfpaddrop_th4['num_visits']==dfpaddrop_th4['VISIT_ID']]\n",
    "data_TS=dfpaddrop_th4.drop(index=list(datatoDrop.index),columns=['MSEADLG'])\n",
    "print(data_TS.shape)\n",
    "data_TS.sort_values(['PATNO','VISIT_ID'],inplace=True)\n",
    "data_TS.set_index(keys=['PATNO'],inplace=True)\n",
    "data_TS.head()"
   ]
  },
  {
   "cell_type": "code",
   "execution_count": 29,
   "metadata": {},
   "outputs": [
    {
     "name": "stdout",
     "output_type": "stream",
     "text": [
      "(3009,)\n"
     ]
    },
    {
     "data": {
      "text/plain": [
       "[0.0, 1.0, 2.0, 3.0, 4.0, 5.0]"
      ]
     },
     "execution_count": 29,
     "metadata": {},
     "output_type": "execute_result"
    }
   ],
   "source": [
    "targettoDrop=dfpaddrop_th4[dfpaddrop_th4['VISIT_ID']==dfpaddrop_th4['num_visits']-3]\n",
    "len(targettoDrop)\n",
    "target_TS=dfpaddrop_th4.drop(index=list(datatoDrop.index))\n",
    "target_TS.sort_values(['PATNO','VISIT_ID'],inplace=True)\n",
    "target_TS.set_index(keys=['PATNO'],inplace=True)\n",
    "target_TS=target_TS['NHY']\n",
    "print(target_TS.shape)\n",
    "list(set(target_TS.values))"
   ]
  },
  {
   "cell_type": "markdown",
   "metadata": {},
   "source": [
    "## III. Without cropping (time series of different length witn min length=4)"
   ]
  },
  {
   "cell_type": "code",
   "execution_count": 30,
   "metadata": {},
   "outputs": [
    {
     "name": "stdout",
     "output_type": "stream",
     "text": [
      "(4887, 376)\n",
      "(1003, 376)\n",
      "(3884, 373)\n",
      "(1003, 376)\n",
      "(3884,)\n"
     ]
    },
    {
     "data": {
      "text/plain": [
       "[0.0, 1.0, 2.0, 3.0, 4.0, 5.0]"
      ]
     },
     "execution_count": 30,
     "metadata": {},
     "output_type": "execute_result"
    }
   ],
   "source": [
    "dfpad_th4['NHY']=dfpad_th4['NHY'].apply(lambda x: round(x,0))\n",
    "dfpad_th4.sort_values(['PATNO','VISIT_ID'],inplace=True)\n",
    "print(dfpad_th4.shape)\n",
    "\n",
    "datatoDrop=dfpad_th4[dfpad_th4['num_visits']==dfpad_th4['VISIT_ID']]\n",
    "print(datatoDrop.shape)\n",
    "data_TS=dfpad_th4.drop(index=list(datatoDrop.index),columns=['MSEADLG','visits_thresold'])\n",
    "data_TS.set_index(keys=['PATNO'],inplace=True)\n",
    "print(data_TS.shape)\n",
    "dd=data_TS['NHY']\n",
    "\n",
    "targettoDrop=dfpad_th4[dfpad_th4['VISIT_ID']==1]\n",
    "print(targettoDrop.shape)\n",
    "target_TS=dfpad_th4.drop(index=list(targettoDrop.index))\n",
    "target_TS.set_index(keys=['PATNO'],inplace=True)\n",
    "assert len(target_TS)==len(data_TS)\n",
    "assert set(data_TS.index)==set(target_TS.index)\n",
    "target_TS=target_TS['NHY']\n",
    "print(target_TS.shape)\n",
    "list(set(target_TS.values))"
   ]
  },
  {
   "cell_type": "markdown",
   "metadata": {},
   "source": [
    "### Training ML models (Logistic Regression, RandomForest, XGBoost)"
   ]
  },
  {
   "cell_type": "markdown",
   "metadata": {},
   "source": [
    "#### custom train/test split for time-series data"
   ]
  },
  {
   "cell_type": "code",
   "execution_count": 31,
   "metadata": {
    "scrolled": true
   },
   "outputs": [
    {
     "name": "stdout",
     "output_type": "stream",
     "text": [
      "201.0\n",
      "(787, 373)\n",
      "(3097, 373)\n",
      "(787,)\n",
      "(3097,)\n"
     ]
    }
   ],
   "source": [
    "print(round(0.2*len(set(data_TS.index)),0))\n",
    "np.random.seed(123)\n",
    "pat_testset=np.random.choice(list(set(data_TS.index)),201,replace=False)\n",
    "X_test=data_TS.loc[pat_testset,:]\n",
    "X_test.head(50)\n",
    "print(X_test.shape)\n",
    "X_train=data_TS.drop(index=pat_testset)\n",
    "print(X_train.shape)\n",
    "y_test=target_TS[pat_testset]\n",
    "print(y_test.shape)\n",
    "assert set(y_test.index)==set(X_test.index)\n",
    "y_train=target_TS.drop(index=pat_testset)\n",
    "print(y_train.shape)\n",
    "assert set(y_train.index)==set(X_train.index)"
   ]
  },
  {
   "cell_type": "markdown",
   "metadata": {},
   "source": [
    "#### DummyClassifier"
   ]
  },
  {
   "cell_type": "code",
   "execution_count": 32,
   "metadata": {},
   "outputs": [
    {
     "data": {
      "text/plain": [
       "DummyClassifier(constant=None, random_state=None, strategy='stratified')"
      ]
     },
     "execution_count": 32,
     "metadata": {},
     "output_type": "execute_result"
    }
   ],
   "source": [
    "from sklearn.dummy import DummyClassifier\n",
    "dummy=DummyClassifier()\n",
    "dummy.fit(X_train, y_train)"
   ]
  },
  {
   "cell_type": "code",
   "execution_count": 33,
   "metadata": {},
   "outputs": [
    {
     "name": "stdout",
     "output_type": "stream",
     "text": [
      "Train-Score-dummy: 0.3807, Test-Accuracy-dummy: 0.4193\n"
     ]
    }
   ],
   "source": [
    "print(\"Train-Score-dummy: %.4f, Test-Accuracy-dummy: %.4f\" % (dummy.score(X_train, y_train), dummy.score(X_test, y_test)))"
   ]
  },
  {
   "cell_type": "markdown",
   "metadata": {},
   "source": [
    "#### Logistic Regression"
   ]
  },
  {
   "cell_type": "code",
   "execution_count": 34,
   "metadata": {},
   "outputs": [
    {
     "data": {
      "text/plain": [
       "LogisticRegression(C=1.0, class_weight=None, dual=False, fit_intercept=True,\n",
       "          intercept_scaling=1, max_iter=100, multi_class='multinomial',\n",
       "          n_jobs=1, penalty='l2', random_state=0, solver='newton-cg',\n",
       "          tol=0.0001, verbose=0, warm_start=False)"
      ]
     },
     "execution_count": 34,
     "metadata": {},
     "output_type": "execute_result"
    }
   ],
   "source": [
    "from sklearn.linear_model import LogisticRegression\n",
    "logreg_TS = LogisticRegression(multi_class='multinomial',solver='newton-cg',random_state=0)\n",
    "logreg_TS.fit(X_train, y_train)"
   ]
  },
  {
   "cell_type": "code",
   "execution_count": 35,
   "metadata": {},
   "outputs": [
    {
     "name": "stdout",
     "output_type": "stream",
     "text": [
      "Train-Score-logreg: 0.8802, Test-Accuracy-logreg: 0.7789\n"
     ]
    }
   ],
   "source": [
    "print(\"Train-Score-logreg: %.4f, Test-Accuracy-logreg: %.4f\" % (logreg_TS.score(X_train, y_train), logreg_TS.score(X_test, y_test)))"
   ]
  },
  {
   "cell_type": "markdown",
   "metadata": {},
   "source": [
    "#### Random Forest"
   ]
  },
  {
   "cell_type": "code",
   "execution_count": 36,
   "metadata": {},
   "outputs": [
    {
     "data": {
      "text/plain": [
       "RandomForestClassifier(bootstrap=True, class_weight=None, criterion='gini',\n",
       "            max_depth=None, max_features='auto', max_leaf_nodes=None,\n",
       "            min_impurity_decrease=0.0, min_impurity_split=None,\n",
       "            min_samples_leaf=1, min_samples_split=2,\n",
       "            min_weight_fraction_leaf=0.0, n_estimators=100, n_jobs=-1,\n",
       "            oob_score=False, random_state=1, verbose=0, warm_start=False)"
      ]
     },
     "execution_count": 36,
     "metadata": {},
     "output_type": "execute_result"
    }
   ],
   "source": [
    "rfc_TS = RandomForestClassifier(n_estimators=100, random_state=1,n_jobs=-1)\n",
    "rfc_TS.fit(X_train, y_train)"
   ]
  },
  {
   "cell_type": "code",
   "execution_count": 37,
   "metadata": {},
   "outputs": [
    {
     "name": "stdout",
     "output_type": "stream",
     "text": [
      "Train-Score-rfc: 1.0000, Test-Accuracy-rfc: 0.8221\n"
     ]
    }
   ],
   "source": [
    "print(\"Train-Score-rfc: %.4f, Test-Accuracy-rfc: %.4f\" % (rfc_TS.score(X_train, y_train), rfc_TS.score(X_test, y_test)))"
   ]
  },
  {
   "cell_type": "markdown",
   "metadata": {},
   "source": [
    "### PLotting the results. "
   ]
  },
  {
   "cell_type": "code",
   "execution_count": 39,
   "metadata": {},
   "outputs": [
    {
     "name": "stdout",
     "output_type": "stream",
     "text": [
      "787\n",
      "787\n"
     ]
    },
    {
     "data": {
      "text/html": [
       "<div>\n",
       "<style scoped>\n",
       "    .dataframe tbody tr th:only-of-type {\n",
       "        vertical-align: middle;\n",
       "    }\n",
       "\n",
       "    .dataframe tbody tr th {\n",
       "        vertical-align: top;\n",
       "    }\n",
       "\n",
       "    .dataframe thead th {\n",
       "        text-align: right;\n",
       "    }\n",
       "</style>\n",
       "<table border=\"1\" class=\"dataframe\">\n",
       "  <thead>\n",
       "    <tr style=\"text-align: right;\">\n",
       "      <th></th>\n",
       "      <th>PATNO</th>\n",
       "      <th>num_visits</th>\n",
       "      <th>VISIT_ID</th>\n",
       "      <th>NHY</th>\n",
       "      <th>VISIT_ID_future</th>\n",
       "      <th>trueLabel</th>\n",
       "      <th>prediction_logreg</th>\n",
       "      <th>prediction_rfc</th>\n",
       "    </tr>\n",
       "  </thead>\n",
       "  <tbody>\n",
       "    <tr>\n",
       "      <th>0</th>\n",
       "      <td>51659</td>\n",
       "      <td>4</td>\n",
       "      <td>1</td>\n",
       "      <td>3.0</td>\n",
       "      <td>2</td>\n",
       "      <td>3.0</td>\n",
       "      <td>2.0</td>\n",
       "      <td>2.0</td>\n",
       "    </tr>\n",
       "    <tr>\n",
       "      <th>1</th>\n",
       "      <td>51659</td>\n",
       "      <td>4</td>\n",
       "      <td>2</td>\n",
       "      <td>3.0</td>\n",
       "      <td>3</td>\n",
       "      <td>3.0</td>\n",
       "      <td>2.0</td>\n",
       "      <td>2.0</td>\n",
       "    </tr>\n",
       "    <tr>\n",
       "      <th>2</th>\n",
       "      <td>51659</td>\n",
       "      <td>4</td>\n",
       "      <td>3</td>\n",
       "      <td>3.0</td>\n",
       "      <td>4</td>\n",
       "      <td>3.0</td>\n",
       "      <td>2.0</td>\n",
       "      <td>2.0</td>\n",
       "    </tr>\n",
       "    <tr>\n",
       "      <th>3</th>\n",
       "      <td>50009</td>\n",
       "      <td>4</td>\n",
       "      <td>1</td>\n",
       "      <td>0.0</td>\n",
       "      <td>2</td>\n",
       "      <td>0.0</td>\n",
       "      <td>0.0</td>\n",
       "      <td>0.0</td>\n",
       "    </tr>\n",
       "    <tr>\n",
       "      <th>4</th>\n",
       "      <td>50009</td>\n",
       "      <td>4</td>\n",
       "      <td>2</td>\n",
       "      <td>0.0</td>\n",
       "      <td>3</td>\n",
       "      <td>0.0</td>\n",
       "      <td>0.0</td>\n",
       "      <td>0.0</td>\n",
       "    </tr>\n",
       "  </tbody>\n",
       "</table>\n",
       "</div>"
      ],
      "text/plain": [
       "   PATNO  num_visits  VISIT_ID  NHY  VISIT_ID_future  trueLabel  \\\n",
       "0  51659           4         1  3.0                2        3.0   \n",
       "1  51659           4         2  3.0                3        3.0   \n",
       "2  51659           4         3  3.0                4        3.0   \n",
       "3  50009           4         1  0.0                2        0.0   \n",
       "4  50009           4         2  0.0                3        0.0   \n",
       "\n",
       "   prediction_logreg  prediction_rfc  \n",
       "0                2.0             2.0  \n",
       "1                2.0             2.0  \n",
       "2                2.0             2.0  \n",
       "3                0.0             0.0  \n",
       "4                0.0             0.0  "
      ]
     },
     "execution_count": 39,
     "metadata": {},
     "output_type": "execute_result"
    }
   ],
   "source": [
    "y_pred_logreg=logreg_TS.predict(X_test)\n",
    "predictions_logreg=pd.Series(y_pred_logreg,index=y_test.index)\n",
    "\n",
    "y_test_pred_logreg=pd.concat([y_test,predictions_logreg],axis=1)\n",
    "y_test_pred_logreg.rename(columns={'NHY':'trueLabel',0:'prediction_logreg'},inplace=True)\n",
    "\n",
    "VISIT_ID=[2]\n",
    "for i in range(1,len(y_test_pred_logreg)):\n",
    "    if (y_test_pred_logreg.index[i]==y_test_pred_logreg.index[i-1]):\n",
    "        visit=VISIT_ID[len(VISIT_ID)-1]+1\n",
    "    else:\n",
    "        visit=2\n",
    "    VISIT_ID.append(visit)\n",
    "print(len(VISIT_ID))\n",
    "y_test_pred_logreg['VISIT_ID_future']=VISIT_ID\n",
    "\n",
    "y_pred_rfc=pd.Series(rfc_TS.predict(X_test),index=y_test.index)\n",
    "y_pred_rfc.name='prediction_rfc'\n",
    "\n",
    "test_all=pd.concat([X_test,y_test_pred_logreg, y_pred_rfc],axis=1)\n",
    "print(len(test_all))\n",
    "results_toplot=test_all[['num_visits','VISIT_ID','NHY','VISIT_ID_future','trueLabel','prediction_logreg','prediction_rfc']]\n",
    "results_toplot.reset_index(inplace=True)\n",
    "results_toplot.head()"
   ]
  },
  {
   "cell_type": "code",
   "execution_count": 40,
   "metadata": {},
   "outputs": [
    {
     "data": {
      "image/png": "[encoded data removed]",
      "text/plain": [
       "<Figure size 4320x4320 with 23 Axes>"
      ]
     },
     "metadata": {},
     "output_type": "display_data"
    }
   ],
   "source": [
    "def patients_sampling(df,sample_size=25,seed=123):\n",
    "    np.random.seed(seed)\n",
    "    sample=list(np.random.randint(0,len(set(df['PATNO'])),sample_size+1))\n",
    "    patients_sample=pd.Series(list(set(df['PATNO'])))[sample]\n",
    "    patients_sample=list(patients_sample.values)\n",
    "    sub_df=df.loc[df['PATNO'].isin(patients_sample),:]\n",
    "    return sub_df\n",
    "df_toPlot=patients_sampling(results_toplot)\n",
    "\n",
    "fig = plt.figure(figsize=(60,60))\n",
    "num_pat=len(set(df_toPlot['PATNO']))\n",
    "for pat,num in zip(list(set(df_toPlot['PATNO'])),range(1,num_pat+1)):\n",
    "    df0=df_toPlot[df_toPlot['PATNO']==pat]\n",
    "    ax = fig.add_subplot(5,5,num)\n",
    "    ax.plot(df0['VISIT_ID'], df0['NHY'],marker='o', markerfacecolor='blue', markersize=15, \n",
    "            color='skyblue', linewidth=4,label='NHY history')\n",
    "    ax.plot(df0['VISIT_ID_future'], df0['trueLabel'],marker='o',markersize=15,\n",
    "            color='blue',linestyle='dashed',linewidth=4,label='True Label')\n",
    "    ax.plot(df0['VISIT_ID_future'], df0['prediction_logreg'], marker='x', \n",
    "            color='black', linewidth=4, linestyle='dotted', label='logreg')\n",
    "    ax.plot(df0['VISIT_ID_future'], df0['prediction_rfc'], marker='x', \n",
    "            color='green', linewidth=4, linestyle='dotted', label='rfc')\n",
    "    ax.set_xlim([0.5, 8.5])\n",
    "    ax.set_ylim([-0.5, 5])\n",
    "    ax.set_title(pat,fontdict={'fontsize':20})\n",
    "    ax.legend(fontsize='x-large')\n",
    "plt.tight_layout()\n",
    "#fig.figure.suptitle('true labels vs predictions')\n",
    "plt.savefig('/Users/alicemartin/02_DSR_Project/parkinson-disease-project/output/ML_predictions/predictions_graph_123.png')\n",
    "plt.show()      "
   ]
  },
  {
   "cell_type": "markdown",
   "metadata": {},
   "source": [
    "### Features importance"
   ]
  },
  {
   "cell_type": "code",
   "execution_count": null,
   "metadata": {},
   "outputs": [],
   "source": [
    "feature_importances = pd.DataFrame(rfc_TS.feature_importances_,\n",
    "                                   index = X_train.columns,\n",
    "                                    columns=['importance']).sort_values('importance',ascending=False)\n",
    "ImportantFeatures_TS=feature_importances[feature_importances.values>=0.01]\n",
    "print(ImportantFeatures.values.sum())\n",
    "ImportantFeatures_TS\n",
    "#feature_importances"
   ]
  },
  {
   "cell_type": "code",
   "execution_count": null,
   "metadata": {},
   "outputs": [],
   "source": []
  }
 ],
 "metadata": {
  "kernelspec": {
   "display_name": "Python [default]",
   "language": "python",
   "name": "python3"
  },
  "language_info": {
   "codemirror_mode": {
    "name": "ipython",
    "version": 3
   },
   "file_extension": ".py",
   "mimetype": "text/x-python",
   "name": "python",
   "nbconvert_exporter": "python",
   "pygments_lexer": "ipython3",
   "version": "3.5.6"
  }
 },
 "nbformat": 4,
 "nbformat_minor": 2
}
