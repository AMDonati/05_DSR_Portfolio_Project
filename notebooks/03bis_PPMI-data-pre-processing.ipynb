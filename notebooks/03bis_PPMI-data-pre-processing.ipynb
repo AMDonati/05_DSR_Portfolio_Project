{
 "cells": [
  {
   "cell_type": "markdown",
   "metadata": {},
   "source": [
    "### To do - August 20th\n",
    "* Drop or fill NaN values: medications dataset & Non_motor assessments to do. \n",
    "* Add non 'TS features' as described below\n",
    "* fill NaN values in the final merged df\n",
    "* Do some mods on the time variables (INFODT,visits...)\n",
    "* Save final df as csv files in output/pre-processing"
   ]
  },
  {
   "cell_type": "markdown",
   "metadata": {},
   "source": [
    "### Data Frame Merging Roadmap\n",
    "#### 1. PD Feat\n",
    "* DIAGFEAT\n",
    "* EPWORTH\n",
    "* LNSPD\n",
    "* REMSLEEP\n",
    "* SCOPAAUT\n",
    "* COGATG\n",
    "* HVLT\n",
    "* MOCA\n",
    "* GDSSHORT\n",
    "* SDM\n",
    "* STAI\n",
    "* BENTONOD\n",
    "* QUIPCS\n",
    "\n",
    "#### 2. Gen Medical info\n",
    "* GENPHYEX\n",
    "* PENEURO\n",
    "* PENEURO2\n",
    "* VITAL\n",
    "#### 3. PD Progression measurements (motors)\n",
    "* NUPDRS1\n",
    "* NUPDRS2P\n",
    "* NUPDR3\n",
    "* NUPDRS4\n",
    "* (PASELT)\n",
    "* MODSEADL\n",
    "\n",
    "#### 4. Medications data\n",
    "* PDMEDUSE\n",
    "* (CURRCOND)\n",
    "* SURGPD\n",
    "\n",
    "#### 5. Non TS Features\n",
    "* SCREEN - Gen Med info\n",
    "* PDFEAT - PD feat\n",
    "* MHXGEN - Gen Med info\n",
    "* Biospecimen_analysis: ? \n",
    "* LUMBAR - Gen Med info\n",
    "* PRIMDX - PD Feat\n",
    "* PRODIAG - PD Feat\n",
    "* to add: time since the last hospital visit - PD Feat\n",
    "\n",
    "#### 6. Targets (from num3)\n",
    "    *MSEADLG\n",
    "    *NHY\n",
    "    \n",
    "#### Around 400 features!!"
   ]
  },
  {
   "cell_type": "code",
   "execution_count": 1,
   "metadata": {},
   "outputs": [],
   "source": [
    "#imports \n",
    "import numpy as np \n",
    "import pandas as pd \n",
    "import matplotlib.pyplot as plt\n",
    "import urllib.parse\n",
    "from glob import glob\n",
    "import os\n",
    "import ntpath \n",
    "import zipfile\n",
    "\n",
    "PPMI_path='/Users/alicemartin/02_DSR_Project/parkinson-disease-project/data/'"
   ]
  },
  {
   "cell_type": "code",
   "execution_count": 2,
   "metadata": {},
   "outputs": [],
   "source": [
    "def reading_csv_files(folder_path):\n",
    "    # saving all the csv files in a dataframe\n",
    "    import os\n",
    "    import glob\n",
    "    # glob.glob('*.csv') #find all the csv files in a pathname. \n",
    "    os.chdir(folder_path)\n",
    "    csv_files = [i for i in glob.glob('*.csv')]\n",
    "\n",
    "    # Reading each csv file and storing them in a dictionnary containing the file name and the dataframe\n",
    "    dict_files={}\n",
    "    files_names=[]\n",
    "    for files in csv_files:\n",
    "        df=pd.read_csv(files,engine='python')\n",
    "        basepath, filename=ntpath.split(files)\n",
    "        files_names.append(filename)\n",
    "        dict_files[filename]=df\n",
    "\n",
    "    # Calculating the # of rows and features for each dataframe and storing them in a list of tuples\n",
    "    shape_df=[]\n",
    "    for i in range(0,len(dict_files.keys())):\n",
    "        nrows, ncols=(len(dict_files[files_names[i]]),len(dict_files[files_names[i]].columns))\n",
    "        shape_df.append((nrows,ncols))\n",
    "\n",
    "    return (shape_df,files_names,dict_files)"
   ]
  },
  {
   "cell_type": "code",
   "execution_count": 3,
   "metadata": {},
   "outputs": [],
   "source": [
    "def number_of_patients(df):\n",
    "    '''return the number of patients in each csv files'''\n",
    "    if 'PATNO' in df.columns:\n",
    "        patients=len(list(set(df['PATNO'])))\n",
    "    else: \n",
    "        patients=0\n",
    "    return patients"
   ]
  },
  {
   "cell_type": "code",
   "execution_count": 4,
   "metadata": {},
   "outputs": [],
   "source": [
    "def number_of_events(df): \n",
    "    '''return the number of events covered by each csv file'''\n",
    "    if 'EVENT_ID' in df.columns:\n",
    "        events=len(list(set(df['EVENT_ID'])))\n",
    "    else: \n",
    "        events=0\n",
    "    return events"
   ]
  },
  {
   "cell_type": "code",
   "execution_count": 5,
   "metadata": {},
   "outputs": [],
   "source": [
    "def features_selection(list_df_SEL):\n",
    "    '''do features selection for each df,sel in list_df_sel (dictionnary)'''\n",
    "    return "
   ]
  },
  {
   "cell_type": "code",
   "execution_count": 6,
   "metadata": {},
   "outputs": [],
   "source": [
    "def patients_selection(df, threshold=6):\n",
    "    '''return a dataframe containing only the patients with number of visits > threshold'''\n",
    "    if 'PATNO' in df.columns: \n",
    "        visits_number_by_pat=df.groupby('PATNO').size().sort_values(ascending=False)\n",
    "        mask_sel=visits_number_by_pat>=threshold\n",
    "        patients_sel=list(mask_sel[mask_sel.values==True].index)\n",
    "        df=df.loc[df['PATNO'].isin(patients_sel),:]\n",
    "        df=df.sort_values('PATNO')\n",
    "        return (patients_sel, df)\n",
    "    else:\n",
    "        return 0"
   ]
  },
  {
   "cell_type": "code",
   "execution_count": 7,
   "metadata": {},
   "outputs": [],
   "source": [
    "def PD_patients_selection(df):\n",
    "    folder_path='/Users/alicemartin/02_DSR_Project/parkinson-disease-project/data/PPMI-final-dataset-382018/1-Subject-Characteristics/'\n",
    "    files_names=reading_csv_files(folder_path)[1]\n",
    "    dict_files=reading_csv_files(folder_path)[2]\n",
    "\n",
    "    ### Patient_Status - actually useful for selecting only the PD patients in each table\n",
    "    PRODROMA=dict_files[files_names[0]]\n",
    "    PD_cat=['PD','REGPD','GENPD']\n",
    "    PD_patients=list(PRODROMA.loc[PRODROMA['RECRUITMENT_CAT'].isin(PD_cat),'PATNO'])\n",
    "    sub_df=df.loc[df['PATNO'].isin(PD_patients),:]\n",
    "    return (PD_patients,sub_df)"
   ]
  },
  {
   "cell_type": "code",
   "execution_count": 8,
   "metadata": {},
   "outputs": [],
   "source": [
    "def table_analysis(list_df,df_names,threshold=6): \n",
    "    '''return a dataframe with: \n",
    "    -as rows: list of df\n",
    "    -as columns: \n",
    "        - total number of observations=rows\n",
    "        - total number of features=columns after features_selection - features_selection function \n",
    "        - number of events\n",
    "        - number of PD patients by using PRODROMA info - number_of_patients function\n",
    "        - number of patients with # of visits > threshold - number_of_patients function\n",
    "        - shape of final df after selections of rows and columns\n",
    "        -number of NaN values in the final df\n",
    "        NB: takes as input the df with features selection. \n",
    "    '''   \n",
    "    # initialisation df\n",
    "    col=['observations_tot','features','events_num','patients_num','patients_sel','len_df_sel','NaN_values']\n",
    "    df_df=pd.DataFrame(columns=col,index=df_names)\n",
    "\n",
    "    # remplissage of dataframe for each row\n",
    "    for i,df in enumerate(list_df): \n",
    "        df_df.iloc[i,:]['observations_tot']=len(df)\n",
    "        df_df.iloc[i,:]['features']=len(df.columns)\n",
    "        df_df.iloc[i,:]['events_num']=number_of_events(df)\n",
    "        df_df.iloc[i,:]['patients_num']=number_of_patients(df)\n",
    "        \n",
    "        if not patients_selection(df)==0:\n",
    "            df=patients_selection(df,threshold=threshold)[1]\n",
    "            df=PD_patients_selection(df)[1]          \n",
    "            df_df.iloc[i,:]['patients_sel']=len(set(df['PATNO']))\n",
    "        else: \n",
    "            if 'PATNO' in df.columns:\n",
    "                df=PD_patients_selection(df)[1]\n",
    "                df_df.iloc[i,:]['patients_sel']=len(set(df['PATNO']))\n",
    "            else:\n",
    "                df_df.iloc[i,:]['patients_sel']=0            \n",
    "        df_df.iloc[i,:]['len_df_sel']=len(df)\n",
    "        df_df.iloc[i,:]['NaN_values']=(df.isnull().sum().sum())/(df_df.iloc[i,:]['len_df_sel']*df_df.iloc[i,:]['features'])\n",
    "        \n",
    "    return df_df"
   ]
  },
  {
   "cell_type": "code",
   "execution_count": 9,
   "metadata": {},
   "outputs": [],
   "source": [
    "def INFODT_date(df):\n",
    "    if 'INFODT' in df.columns: \n",
    "        df['INFODT_date']=df['INFODT'].apply(lambda x: datetime.strptime(x,'%m/%Y'))\n",
    "    return df"
   ]
  },
  {
   "cell_type": "code",
   "execution_count": 10,
   "metadata": {},
   "outputs": [],
   "source": [
    "def merge(df_left,df_right,on=['PATNO','EVENT_ID','INFODT'],how='inner'): \n",
    "    df=pd.merge(df_left,df_right,on=on,how=how)\n",
    "    return df"
   ]
  },
  {
   "cell_type": "code",
   "execution_count": 11,
   "metadata": {},
   "outputs": [],
   "source": [
    "def merge_multiple_df(list_df,on=['PATNO','EVENT_ID','INFODT'],how='inner'): \n",
    "    ## Dropping useless columns: \n",
    "    for df in list_df: \n",
    "        if all(a in ['REC_ID','PAG_NAME'] for a in list(df.columns)):\n",
    "            df.drop(columns=['REC_ID','PAG_NAME'],inplace=True)\n",
    "        elif 'REC_ID' in list(df.columns):\n",
    "            df.drop(columns=['REC_ID'],inplace=True)\n",
    "        elif 'PAG_NAME' in list(df.columns):\n",
    "            df.drop(columns=['PAG_NAME'],inplace=True)\n",
    "\n",
    "    ## Merging the PD features\n",
    "    merged_df=merge(list_df[0],list_df[1],on=on,how=how)\n",
    "    print((len(merged_df)),len(set(merged_df['PATNO'])))\n",
    "    for df in list_df[2:]: \n",
    "        merged_df=merge(merged_df,df,on=on,how=how)\n",
    "        print((len(merged_df)),len(set(merged_df['PATNO'])))\n",
    "    return merged_df"
   ]
  },
  {
   "cell_type": "markdown",
   "metadata": {},
   "source": [
    "### Loading and selecting features in tables"
   ]
  },
  {
   "cell_type": "code",
   "execution_count": 114,
   "metadata": {},
   "outputs": [
    {
     "name": "stderr",
     "output_type": "stream",
     "text": [
      "/anaconda3/lib/python3.6/site-packages/pandas/core/generic.py:5430: SettingWithCopyWarning:\n",
      "\n",
      "\n",
      "A value is trying to be set on a copy of a slice from a DataFrame\n",
      "\n",
      "See the caveats in the documentation: http://pandas.pydata.org/pandas-docs/stable/indexing.html#indexing-view-versus-copy\n",
      "\n",
      "/anaconda3/lib/python3.6/site-packages/pandas/core/frame.py:3778: SettingWithCopyWarning:\n",
      "\n",
      "\n",
      "A value is trying to be set on a copy of a slice from a DataFrame\n",
      "\n",
      "See the caveats in the documentation: http://pandas.pydata.org/pandas-docs/stable/indexing.html#indexing-view-versus-copy\n",
      "\n"
     ]
    },
    {
     "name": "stdout",
     "output_type": "stream",
     "text": [
      "789\n"
     ]
    }
   ],
   "source": [
    "## 5-Medical History\n",
    "### PDFEAT is important - keep it.\n",
    "\n",
    "folder_path='/Users/alicemartin/02_DSR_Project/parkinson-disease-project/data/PPMI-final-dataset-382018/5-Medical-History/'\n",
    "files_names=reading_csv_files(folder_path)[1]\n",
    "dict_files=reading_csv_files(folder_path)[2]\n",
    "\n",
    "### 'Diagnostic_Features.csv': useful: Feat-PD - 1670 patients.\n",
    "DIAGFEAT=dict_files[files_names[1]]\n",
    "SEL=['REC_ID', 'PATNO', 'EVENT_ID','INFODT',\n",
    "       'DFSTROKE', 'DFRSKFCT', 'DFPRESNT', 'DFRPROG', 'DFSTATIC', 'DFHEMPRK',\n",
    "       'DFAGESX', 'DFOTHCRS', 'DFRTREMP', 'DFRTREMA', 'DFPATREM',\n",
    "       'DFOTHTRM', 'DFRIGIDP', 'DFRIGIDA', 'DFAXRIG', 'DFUNIRIG',\n",
    "       'DFTONE', 'DFOTHRIG', 'DFBRADYP', 'DFBRADYA', 'DFAKINES',\n",
    "       'DFBRPLUS', 'DFOTHABR', 'DFPGDIST', 'DFGAIT', 'DFFREEZ',\n",
    "       'DFFALLS', 'DFOTHPG', 'DFPSYCH', 'DFCOGNIT', 'DFDYSTON',\n",
    "       'DFCHOREA', 'DFMYOCLO', 'DFOTHHYP', 'DFHEMTRO', 'DFPSHYPO',\n",
    "       'DFSEXDYS', 'DFURDYS', 'DFBWLDYS', 'DFOCULO', 'DFEYELID', 'DFNEURAB',\n",
    "       'DFDOPRSP', 'DFRAPSPE', 'DFBULBAR', 'DFCTSCAN', 'DFMRI', 'DFATYP']\n",
    "DIAGFEAT_sel=DIAGFEAT[SEL]\n",
    "\n",
    "\n",
    "### General_Physical_Exam: useful: Feat-Gen - 2047 patients\n",
    "GENPHYEX=dict_files[files_names[5]]\n",
    "SEL=['REC_ID', 'PATNO', 'EVENT_ID','INFODT',\n",
    "       'PESEQ', 'ABNORM']\n",
    "GENPHYEX_sel=GENPHYEX[SEL]\n",
    "\n",
    "### 'General_Neurological_Exam.csv': useful: Feat-Gen - 2048 patients\n",
    "PENEURO=dict_files[files_names[7]]\n",
    "SEL=['REC_ID', 'PATNO', 'EVENT_ID','INFODT',\n",
    "       'MSRARSP','MSLARSP','MSRLRSP',\n",
    "       'MSLLRSP', 'COFNRRSP', 'COFNLRSP',\n",
    "       'COHSRRSP', 'COHSLRSP', 'SENRARSP',\n",
    "       'SENLARSP', 'SENRLRSP', 'SENLLRSP',\n",
    "       'RFLRARSP', 'RFLLARSP', 'RFLRLRSP',\n",
    "       'RFLLLRSP', 'PLRRRSP', 'PLRLRSP']\n",
    "PENEURO_sel=PENEURO[SEL]\n",
    "\n",
    "### 'Neurological_Exam_-_Cranial_Nerves.csv': useful: Feat-PD - 2049 patients\n",
    "PENEURO2=dict_files[files_names[13]]\n",
    "SEL=['REC_ID', 'PATNO', 'EVENT_ID','INFODT',\n",
    "       'CN1RSP','CN2RSP', 'CN346RSP','CN5RSP',\n",
    "     'CN7RSP', 'CN8RSP', 'CN910RSP',\n",
    "       'CN11RSP', 'CN12RSP']\n",
    "PENEURO2_sel=PENEURO2[SEL]\n",
    "\n",
    "\n",
    "### 'Vital_Signs.csv': useful: Feat-Gen\n",
    "### 2047 patients\n",
    "VITAL=dict_files[files_names[15]]\n",
    "SEL=['REC_ID', 'PATNO', 'EVENT_ID','INFODT', 'SYSSUP', 'DIASUP', 'HRSUP',\n",
    "       'SYSSTND', 'DIASTND', 'HRSTND']\n",
    "VITAL_sel=VITAL[SEL]\n",
    "\n",
    "## 6-Motor-Assessments - all of them can be useful. \n",
    "#* UPDRS1 assesses non-motor experiences of daily-living \n",
    "#* UPDRS2P assesses motor experiences of daily living\n",
    "#* UPDRS3 assesses motor signs of PD. Includes Hoehn & Yahr Stage. \n",
    "#* UPDRS4 assesses motor complications, dyskinesias, & moto fluctuations using historical & objective information.\n",
    "\n",
    "folder_path='/Users/alicemartin/02_DSR_Project/parkinson-disease-project/data/PPMI-final-dataset-382018/6-Motor-Assessments/'\n",
    "files_names=reading_csv_files(folder_path)[1]\n",
    "dict_files=reading_csv_files(folder_path)[2]\n",
    "\n",
    "### 'MDS_UPDRS_Part_I__Patient_Questionnaire.csv' - 2011 patients\n",
    "NUPDR1SP=dict_files[files_names[0]]\n",
    "\n",
    "### 'MDS_UPDRS_Part_I.csv' - 2010 patients - \n",
    "NUPDRS1=dict_files[files_names[2]]\n",
    "SEL=['REC_ID', 'PATNO', 'EVENT_ID','INFODT',\n",
    "       'NP1COG', 'NP1HALL', 'NP1DPRS', 'NP1ANXS', 'NP1APAT',\n",
    "       'NP1DDS']\n",
    "NUPDRS1_sel=NUPDRS1[SEL]\n",
    "\n",
    "### 'MDS_UPDRS_Part_II__Patient_Questionnaire.csv' - 2011 patients\n",
    "NUPDRS2P=dict_files[files_names[11]]\n",
    "SEL=['REC_ID', 'PATNO', 'EVENT_ID','INFODT',\n",
    "       'NP2SPCH', 'NP2SALV', 'NP2SWAL', 'NP2EAT', 'NP2DRES',\n",
    "       'NP2HYGN', 'NP2HWRT', 'NP2HOBB', 'NP2TURN', 'NP2TRMR', 'NP2RISE',\n",
    "       'NP2WALK', 'NP2FREZ']\n",
    "NUPDRS2P_sel=NUPDRS2P[SEL]\n",
    "\n",
    "### 'MDS_UPDRS_Part_III.csv' - 2010 patients\n",
    "NUPDRS3=dict_files[files_names[7]]\n",
    "SEL=['REC_ID', 'PATNO', 'EVENT_ID','INFODT','NP3SPCH', 'NP3FACXP', 'NP3RIGN', 'NP3RIGRU',\n",
    "       'NP3RIGLU', 'PN3RIGRL', 'NP3RIGLL', 'NP3FTAPR', 'NP3FTAPL', 'NP3HMOVR',\n",
    "       'NP3HMOVL', 'NP3PRSPR', 'NP3PRSPL', 'NP3TTAPR', 'NP3TTAPL', 'NP3LGAGR',\n",
    "       'NP3LGAGL', 'NP3RISNG', 'NP3GAIT', 'NP3FRZGT', 'NP3PSTBL', 'NP3POSTR',\n",
    "       'NP3BRADY', 'NP3PTRMR', 'NP3PTRML', 'NP3KTRMR', 'NP3KTRML', 'NP3RTARU',\n",
    "       'NP3RTALU', 'NP3RTARL', 'NP3RTALL', 'NP3RTALJ', 'NP3RTCON', 'DYSKPRES','NHY','ON_OFF_DOSE',\n",
    "       'PD_MED_USE']\n",
    "NUPDRS3_sel=NUPDRS3[SEL]\n",
    "\n",
    "target_NHY=NUPDRS3[['PATNO','INFODT','NHY']]\n",
    "\n",
    "\n",
    "### 'MDS_UPDRS_Part_IV.csv' - 860 patients\n",
    "NUPDRS4=dict_files[files_names[5]]\n",
    "SEL=['REC_ID', 'PATNO', 'EVENT_ID','INFODT',\n",
    "       'NP4WDYSK', 'NP4DYSKI', 'NP4OFF', 'NP4FLCTI', 'NP4FLCTX', 'NP4DYSTN']\n",
    "NUPDRS4_sel=NUPDRS4[SEL]\n",
    "\n",
    "### 'PASE_-_Household_Activity.csv' - 1248 patients\n",
    "PASE=dict_files[files_names[3]]\n",
    "\n",
    "### 'PASE_-_Leisure_Time_Activity.csv' - 1248 patients\n",
    "PASELT=dict_files[files_names[10]]\n",
    "\n",
    "### 'Modified_Schwab_+_England_ADL.csv' - 1837 patients\n",
    "MODSEADL=dict_files[files_names[6]]\n",
    "SEL=['REC_ID', 'PATNO', 'EVENT_ID','INFODT',\n",
    "       'MSEADLG']\n",
    "MODSEADL=MODSEADL[SEL]\n",
    "target_MSEADLG=MODSEADL[['PATNO','INFODT','MSEADLG']]\n",
    "\n",
    "## 7-Non-motor-assessments - all of them can be useful but we might need to choose. \n",
    "### Do a correlation analysis and ask doctors which ones are the more relevant. \n",
    "\n",
    "folder_path='/Users/alicemartin/02_DSR_Project/parkinson-disease-project/data/PPMI-final-dataset-382018/7-Non-motor-assessments/'\n",
    "files_names=reading_csv_files(folder_path)[1]\n",
    "dict_files=reading_csv_files(folder_path)[2]\n",
    "\n",
    "### 'University_of_Pennsylvania_Smell_ID_Test.csv' - 1799 patients - OLFACTION\n",
    "UPSIT=dict_files[files_names[0]]\n",
    "\n",
    "### 'Epworth_Sleepiness_Scale.csv - 1343 patients - SLEEP. \n",
    "EPWORTH=dict_files[files_names[2]]\n",
    "\n",
    "### 'Letter_-_Number_Sequencing__PD_.csv' - 1341 patients. - MEMORY. \n",
    "LNSPD=dict_files[files_names[3]]\n",
    "\n",
    "### 'Olfactory_UPSIT.csv' - 4468 patients - OLFACTION. \n",
    "#### NB: only take the 2 last columns as features (TOTAL_CORRECT, UPSIIT_PRCNTGE)\n",
    "OLFACT=dict_files[files_names[4]]\n",
    "col_old=list(OLFACT.columns)\n",
    "col_new=['PAT_NO', 'PROTOCOL_ID', 'INFODT', 'SCENT_10_RESPONSE',\n",
    "       'SCENT_09_RESPONSE', 'SCENT_08_RESPONSE', 'SCENT_07_RESPONSE',\n",
    "       'SCENT_06_RESPONSE', 'SCENT_05_RESPONSE', 'SCENT_04_RESPONSE',\n",
    "       'SCENT_03_RESPONSE', 'SCENT_02_RESPONSE', 'SCENT_01_RESPONSE',\n",
    "       'SCENT_20_RESPONSE', 'SCENT_19_RESPONSE', 'SCENT_18_RESPONSE',\n",
    "       'SCENT_17_RESPONSE', 'SCENT_16_RESPONSE', 'SCENT_15_RESPONSE',\n",
    "       'SCENT_14_RESPONSE', 'SCENT_13_RESPONSE', 'SCENT_12_RESPONSE',\n",
    "       'SCENT_11_RESPONSE', 'SCENT_30_RESPONSE', 'SCENT_29_RESPONSE',\n",
    "       'SCENT_28_RESPONSE', 'SCENT_27_RESPONSE', 'SCENT_26_RESPONSE',\n",
    "       'SCENT_25_RESPONSE', 'SCENT_24_RESPONSE', 'SCENT_23_RESPONSE',\n",
    "       'SCENT_22_RESPONSE', 'SCENT_21_RESPONSE', 'SCENT_40_RESPONSE',\n",
    "       'SCENT_39_RESPONSE', 'SCENT_38_RESPONSE', 'SCENT_37_RESPONSE',\n",
    "       'SCENT_36_RESPONSE', 'SCENT_35_RESPONSE', 'SCENT_34_RESPONSE',\n",
    "       'SCENT_33_RESPONSE', 'SCENT_32_RESPONSE', 'SCENT_31_RESPONSE',\n",
    "       'SCENT_10_CORRECT', 'SCENT_09_CORRECT', 'SCENT_08_CORRECT',\n",
    "       'SCENT_07_CORRECT', 'SCENT_06_CORRECT', 'SCENT_05_CORRECT',\n",
    "       'SCENT_04_CORRECT', 'SCENT_03_CORRECT', 'SCENT_02_CORRECT',\n",
    "       'SCENT_01_CORRECT', 'SCENT_20_CORRECT', 'SCENT_19_CORRECT',\n",
    "       'SCENT_18_CORRECT', 'SCENT_17_CORRECT', 'SCENT_16_CORRECT',\n",
    "       'SCENT_15_CORRECT', 'SCENT_14_CORRECT', 'SCENT_13_CORRECT',\n",
    "       'SCENT_12_CORRECT', 'SCENT_11_CORRECT', 'SCENT_30_CORRECT',\n",
    "       'SCENT_29_CORRECT', 'SCENT_28_CORRECT', 'SCENT_27_CORRECT',\n",
    "       'SCENT_26_CORRECT', 'SCENT_25_CORRECT', 'SCENT_24_CORRECT',\n",
    "       'SCENT_23_CORRECT', 'SCENT_22_CORRECT', 'SCENT_21_CORRECT',\n",
    "       'SCENT_40_CORRECT', 'SCENT_39_CORRECT', 'SCENT_38_CORRECT',\n",
    "       'SCENT_37_CORRECT', 'SCENT_36_CORRECT', 'SCENT_35_CORRECT',\n",
    "       'SCENT_34_CORRECT', 'SCENT_33_CORRECT', 'SCENT_32_CORRECT',\n",
    "       'SCENT_31_CORRECT', 'TOTAL_CORRECT', 'UPSIIT_PRCNTGE']\n",
    "col=dict(zip(col_old,col_new))\n",
    "OLFACT.rename(columns=col,inplace=True)\n",
    "SEL=['PAT_NO', 'PROTOCOL_ID', 'INFODT','TOTAL_CORRECT', 'UPSIIT_PRCNTGE']\n",
    "OLFACT_sel=OLFACT[SEL]\n",
    "\n",
    "### 'REM_Sleep_Disorder_Questionnaire.csv' - 1810 patients - SLEEP. \n",
    "REMSLEEP=dict_files[files_names[5]]\n",
    "\n",
    "### 'Cognitive_Assessments.csv' - 1172 patients\n",
    "COGTIME=dict_files[files_names[6]]\n",
    "\n",
    "### 'SCOPA-AUT.csv' - 1345 patients - AUTOMATIC DYSFUNCTIONS\n",
    "SCOPAAUT=dict_files[files_names[7]]\n",
    "\n",
    "### Cognitive_Categorization.csv' - 1302 patients - DEMENTIA/MILD COGNITIVE IMPAIRMENT\n",
    "COGCATG=dict_files[files_names[8]]\n",
    "\n",
    "### 'Hopkins_Verbal_Learning_Test.csv' - 1341 patients - MEMORY\n",
    "HVLT=dict_files[files_names[9]]\n",
    "\n",
    "### 'Montreal_Cognitive_Assessment__MoCA_.csv' - 2054 patients - MILD COGNITIVE IMPAIRMENT - PD \n",
    "MOCA=dict_files[files_names[10]]\n",
    "                \n",
    "### 'Semantic_Fluency.csv' - 1342 patients - Lexical/Semantic Fluency\n",
    "SFT=dict_files[files_names[11]]\n",
    "\n",
    "### 'Geriatric_Depression_Scale__Short_.csv' - 1478 patients - DEPRESSION\n",
    "GDSSHORT=dict_files[files_names[12]]\n",
    "\n",
    "### 'Symbol_Digit_Modalities.csv' - 1340 patients - COGNITIVE IMPAIRMENT. \n",
    "SDM=dict_files[files_names[13]]\n",
    "\n",
    "### 'State-Trait_Anxiety_Inventory.csv' - 1474 patients - DEPRESSION\n",
    "STAI=dict_files[files_names[14]]\n",
    "\n",
    "### 'Benton_Judgment_of_Line_Orientation.csv' - 1341 patients - SPATIAL PERCEPTION/ORIENTATION \n",
    "BENTONOD=dict_files[files_names[15]]\n",
    "\n",
    "### 'QUIP_Current_Short.csv' - 1346 patients - COMPULSIVE DISORDERS\n",
    "QUIPCS=dict_files[files_names[16]]\n",
    "\n",
    "SEL_EP=['PATNO', 'EVENT_ID', 'INFODT', 'PTCGBOTH', 'ESS1', 'ESS2',\n",
    "       'ESS3', 'ESS4', 'ESS5', 'ESS6', 'ESS7', 'ESS8']\n",
    "SEL_LNSPD=['PATNO', 'EVENT_ID', 'INFODT','LNS_TOTRAW', 'AGE_ASSESS_LNS', 'DVS_LNS']\n",
    "SEL_REM=['PATNO', 'EVENT_ID', 'INFODT', 'PTCGBOTH', 'DRMVIVID',\n",
    "       'DRMAGRAC', 'DRMNOCTB', 'SLPLMBMV', 'SLPINJUR', 'DRMVERBL', 'DRMFIGHT',\n",
    "       'DRMUMV', 'DRMOBJFL', 'MVAWAKEN', 'DRMREMEM', 'SLPDSTRB', 'STROKE',\n",
    "       'HETRA', 'PARKISM', 'RLS', 'NARCLPSY', 'DEPRS', 'EPILEPSY', 'BRNINFM']\n",
    "SEL_SCOPA=['PATNO', 'EVENT_ID', 'INFODT', 'PTCGBOTH', 'SCAU1', 'SCAU2',\n",
    "       'SCAU3', 'SCAU4', 'SCAU5', 'SCAU6', 'SCAU7', 'SCAU8', 'SCAU9', 'SCAU10',\n",
    "       'SCAU11', 'SCAU12', 'SCAU13', 'SCAU14', 'SCAU15', 'SCAU16', 'SCAU17',\n",
    "       'SCAU18', 'SCAU19', 'SCAU20', 'SCAU21','SCAU26B','SCAU26C','SCAU26D']\n",
    "SEL_COG=['PATNO', 'EVENT_ID', 'INFODT', 'PTCGBOTH', 'COGDECLN',\n",
    "       'FNCDTCOG', 'COGSTATE', 'COGDXCL', 'RVWNPSY']\n",
    "SEL_HVLT=['PATNO', 'EVENT_ID', 'INFODT', 'HVLTRT1', 'HVLTRT2',\n",
    "       'HVLTRT3', 'HVLTRDLY', 'HVLTREC', 'HVLTFPRL', 'HVLTFPUN', 'HVLTVRSN','DVT_TOTAL_RECALL',\n",
    "        'DVT_DELAYED_RECALL','DVT_RETENTION', 'DVT_RECOG_DISC_INDEX']\n",
    "SEL_MOCA=['PATNO', 'EVENT_ID', 'INFODT', 'MCAALTTM', 'MCACUBE',\n",
    "       'MCACLCKC', 'MCACLCKN', 'MCACLCKH', 'MCALION', 'MCARHINO', 'MCACAMEL',\n",
    "       'MCAFDS', 'MCABDS', 'MCAVIGIL', 'MCASER7', 'MCASNTNC', 'MCAVFNUM',\n",
    "       'MCAVF', 'MCAABSTR', 'MCAREC1', 'MCAREC2', 'MCAREC3', 'MCAREC4',\n",
    "       'MCAREC5','MCATOT']\n",
    "SEL_GDS=['PATNO', 'EVENT_ID', 'INFODT', 'GDSSATIS', 'GDSDROPD',\n",
    "       'GDSEMPTY', 'GDSBORED', 'GDSGSPIR', 'GDSAFRAD', 'GDSHAPPY', 'GDSHLPLS',\n",
    "       'GDSHOME', 'GDSMEMRY', 'GDSALIVE', 'GDSWRTLS', 'GDSENRGY', 'GDSHOPLS',\n",
    "       'GDSBETER']\n",
    "SEL_SDM=['PATNO', 'EVENT_ID', 'INFODT', 'SDMTOTAL', 'SDMTVRSN','DVSD_SDM', 'DVT_SDM']\n",
    "SEL_STAI=['PATNO', 'EVENT_ID', 'INFODT', 'STAIAD1', 'STAIAD2',\n",
    "       'STAIAD3', 'STAIAD4', 'STAIAD5', 'STAIAD6', 'STAIAD7', 'STAIAD8',\n",
    "       'STAIAD9', 'STAIAD10', 'STAIAD11', 'STAIAD12', 'STAIAD13', 'STAIAD14',\n",
    "       'STAIAD15', 'STAIAD16', 'STAIAD17', 'STAIAD18', 'STAIAD19', 'STAIAD20',\n",
    "       'STAIAD21', 'STAIAD22', 'STAIAD23', 'STAIAD24', 'STAIAD25', 'STAIAD26',\n",
    "       'STAIAD27', 'STAIAD28', 'STAIAD29', 'STAIAD30', 'STAIAD31', 'STAIAD32',\n",
    "       'STAIAD33', 'STAIAD34', 'STAIAD35', 'STAIAD36', 'STAIAD37', 'STAIAD38',\n",
    "       'STAIAD39', 'STAIAD40']\n",
    "SEL_BENTON=['PATNO', 'EVENT_ID', 'INFODT','JLO_TOTRAW', 'JLO_TOTCALC',\n",
    "       'AGE_ASSESS_JLO', 'DVS_JLO_MSSA', 'DVS_JLO_MSSAE']\n",
    "SEL_QUIPCS=['PATNO', 'EVENT_ID', 'INFODT', 'PTINBOTH', 'TMGAMBLE',\n",
    "       'CNTRLGMB', 'TMSEX', 'CNTRLSEX', 'TMBUY', 'CNTRLBUY', 'TMEAT',\n",
    "       'CNTRLEAT', 'TMTORACT', 'TMTMTACT', 'TMTRWD', 'TMDISMED', 'CNTRLDSM']\n",
    "\n",
    "NM_assessments_df=[EPWORTH,LNSPD,REMSLEEP,SCOPAAUT,COGCATG,HVLT,MOCA,GDSSHORT,SDM,STAI,BENTONOD,QUIPCS]\n",
    "SEL_NM=[SEL_EP,SEL_LNSPD,SEL_REM,SEL_SCOPA,SEL_COG,SEL_HVLT,SEL_MOCA,SEL_GDS,\n",
    "        SEL_SDM,SEL_STAI,SEL_BENTON,SEL_QUIPCS]\n",
    "NM_sel_df=list()\n",
    "for sel,df in zip(SEL_NM,NM_assessments_df):\n",
    "        NM_sel_df.append(df[sel])\n",
    "        \n",
    "[EPWORTH,LNSPD,REMSLEEP,SCOPAAUT,COGCATG,HVLT,MOCA,GDSSHORT,SDM,STAI,BENTONOD,QUIPCS]=[i for i in NM_sel_df]\n",
    "\n",
    "folder_path='/Users/alicemartin/02_DSR_Project/parkinson-disease-project/data/PPMI-final-dataset-382018/5-Medical-History/'\n",
    "files_names=reading_csv_files(folder_path)[1]\n",
    "dict_files=reading_csv_files(folder_path)[2]\n",
    "\n",
    "### Use of PD Medication: useful: Meds - but not to be used for now.\n",
    "PDMEDUSE=dict_files[files_names[4]]\n",
    "SEL=['REC_ID', 'PATNO', 'EVENT_ID', 'INFODT',\n",
    "       'PDMEDYN', 'ONLDOPA', 'ONDOPAG', 'ONOTHER', 'FULNUPDR', 'PDMEDDT']\n",
    "PDMEDUSE_sel=PDMEDUSE[SEL]\n",
    "\n",
    "### 'Concomitant_Medications.csv': useful: Meds - no time to exploit this stuff. \n",
    "CMED=dict_files[files_names[6]]\n",
    "\n",
    "### 'Current_Medical_Conditions_Log.csv': Meds\n",
    "CURRCOND=dict_files[files_names[8]]\n",
    "CURRCOND.columns\n",
    "SEL=['REC_ID', 'PATNO', 'EVENT_ID','SEQNO',\n",
    "       'CONDCAT', 'DIAGYR','CONDTERM', 'RESOLVD', 'RESYR',\n",
    "       'HLGTNAME', 'HLT_NAME','PT_CODE','SOCABBR1', 'VMEDDRA']\n",
    "CURRCOND_sel=CURRCOND[SEL]\n",
    "\n",
    "### 'Surgery_for_Parkinson_Disease.csv': useful: Meds - but not to be used for now.\n",
    "SURGPD=dict_files[files_names[12]]\n",
    "SURGPD.columns\n",
    "SEL=['REC_ID','PATNO', 'EVENT_ID','INFODT',\n",
    "       'PDSURG', 'PDSURGDT', 'PDSURGTP']\n",
    "SURGPD_sel=SURGPD[SEL]\n",
    "\n",
    "## Non TS features. \n",
    "folder_path='/Users/alicemartin/02_DSR_Project/parkinson-disease-project/data/PPMI-final-dataset-382018/1-Subject-Characteristics/'\n",
    "files_names=reading_csv_files(folder_path)[1]\n",
    "dict_files=reading_csv_files(folder_path)[2]\n",
    "\n",
    "### Screening__Demographics - 2144 patients (all pop)\n",
    "#### NOT TS DATA\n",
    "SCREEN=dict_files[files_names[3]]\n",
    "SEL=['REC_ID', 'PATNO','BIRTHDT', 'GENDER','P3GRP','CURRENT_APPRDX','APPRDX']\n",
    "SCREEN_sel=SCREEN[SEL]\n",
    "zeros=pd.Series(np.zeros(len(SCREEN_sel)))\n",
    "SCREEN_sel['P3GRP'].fillna(value=zeros,inplace=True)\n",
    "# fill NaN values of P3GRP with '0' (non podroma people)\n",
    "#SCREEN_sel.isnull().sum()\n",
    "\n",
    "folder_path='/Users/alicemartin/02_DSR_Project/parkinson-disease-project/data/PPMI-final-dataset-382018/5-Medical-History/'\n",
    "files_names=reading_csv_files(folder_path)[1]\n",
    "dict_files=reading_csv_files(folder_path)[2]\n",
    "\n",
    "### 'PD_Features.csv': useful: Feat-PD - caution: these are actually not timeseries but examination only done at screening (SC), BL & V04\n",
    "### 1017 patients\n",
    "PDFEAT=dict_files[files_names[14]]\n",
    "SEL=['REC_ID', 'PATNO', 'SXMO',\n",
    "       'SXYEAR', 'PDDXDT', 'DXTREMOR', 'DXRIGID', 'DXBRADY',\n",
    "       'DXPOSINS', 'DXOTHSX','DOMSIDE']\n",
    "PDFEAT_sel=PDFEAT[SEL]\n",
    "\n",
    "### 'General_Medical_History.csv': useful: Feat-Gen - 2067 patients\n",
    "#### NOT TS DATA...\n",
    "MHXGEN=dict_files[files_names[3]]\n",
    "SEL=['REC_ID', 'PATNO', 'EVENT_ID','INFODT','MHROW']\n",
    "# I need probably to select less features here\n",
    "MHXGEN_sel=MHXGEN[SEL]\n",
    "\n",
    "## Biospecimen\n",
    "folder_path='/Users/alicemartin/02_DSR_Project/parkinson-disease-project/data/PPMI-final-dataset-382018/2-Biospecimen/'\n",
    "files_names=reading_csv_files(folder_path)[1]\n",
    "dict_files=reading_csv_files(folder_path)[2]\n",
    "\n",
    "### Pilot_Biospecimen_Analysis_Results - useful: Feat-bio - 664 patients...\n",
    "Biospecimen_Analysis=dict_files[files_names[6]]\n",
    "SEL=['PATNO', 'DIAGNOSIS', 'CLINICAL_EVENT','TESTNAME',\n",
    "       'TESTVALUE']\n",
    "Biospecimen_Analysis_sel=Biospecimen_Analysis[SEL]\n",
    "Biospecimen_Analysis_sel.rename(columns={'CLINICAL_EVENT':'EVENT_ID'},inplace=True)\n",
    "\n",
    "### Lumbar_Puncture_Sample_Collection - useful: Feat-bio - 1344 patients\n",
    "LUMBAR=dict_files[files_names[9]]\n",
    "\n",
    "SEL=['REC_ID','PATNO', 'EVENT_ID','INFODT','CSFSPNRT',\n",
    "     'SMPDSCRD','RBCRSLT','WBCRSLT','TOPRRSLT','TGLCRSLT']\n",
    "LUMBAR_sel=LUMBAR[SEL]\n",
    "\n",
    "### Additionnal feature: PRIMDX. \n",
    "folder_path='/Users/alicemartin/02_DSR_Project/parkinson-disease-project/data/PPMI-final-dataset-382018/3-Enrollment/'\n",
    "files_names=reading_csv_files(folder_path)[1]\n",
    "dict_files=reading_csv_files(folder_path)[2]\n",
    "\n",
    "### 'Primary_Diagnosis.csv' - useful: Feat-Gen - 789 patients... (only PD patients?)\n",
    "PRIMDXPD=dict_files[files_names[8]]\n",
    "SEL=['REC_ID','PATNO', 'EVENT_ID','INFODT',\n",
    "       'PRIMDIAG']\n",
    "print(number_of_patients(PRIMDXPD))\n",
    "PRIMDXPD_sel=PRIMDXPD[SEL]\n",
    "\n",
    "### 'Prodromal_Diagnostic_Questionnaire.csv': useful: Feat-Gen (PRIMDIAG & PSLVL2) \n",
    "#### NB: PSLV2 evaluates the proba of the patient being PD: might be useful for early PD. But not to be used in the main analysis as a feature (only for Prodromal & Genetic Cohort - i.e 800 subjects) \n",
    "folder_path='/Users/alicemartin/02_DSR_Project/parkinson-disease-project/data/PPMI-final-dataset-382018/5-Medical-History/'\n",
    "files_names=reading_csv_files(folder_path)[1]\n",
    "dict_files=reading_csv_files(folder_path)[2]\n",
    "\n",
    "PRODIAG=dict_files[files_names[0]]\n",
    "SEL=['REC_ID', 'F_STATUS', 'PATNO', 'EVENT_ID','PRIMDIAG', 'PSLVL2']\n",
    "PRODIAG_sel=PRODIAG[SEL]"
   ]
  },
  {
   "cell_type": "code",
   "execution_count": 13,
   "metadata": {},
   "outputs": [
    {
     "name": "stderr",
     "output_type": "stream",
     "text": [
      "/anaconda3/lib/python3.6/site-packages/pandas/core/generic.py:5430: SettingWithCopyWarning: \n",
      "A value is trying to be set on a copy of a slice from a DataFrame\n",
      "\n",
      "See the caveats in the documentation: http://pandas.pydata.org/pandas-docs/stable/indexing.html#indexing-view-versus-copy\n",
      "  self._update_inplace(new_data)\n"
     ]
    }
   ],
   "source": [
    "SCREEN_sel.head()\n",
    "zeros=pd.Series(np.zeros(len(SCREEN_sel)))\n",
    "SCREEN_sel['P3GRP'].fillna(value=zeros,inplace=True)\n",
    "# fill NaN values of P3GRP with '0' (non podroma people)\n",
    "#SCREEN_sel.isnull().sum()"
   ]
  },
  {
   "cell_type": "code",
   "execution_count": 14,
   "metadata": {},
   "outputs": [
    {
     "data": {
      "text/html": [
       "<div>\n",
       "<style scoped>\n",
       "    .dataframe tbody tr th:only-of-type {\n",
       "        vertical-align: middle;\n",
       "    }\n",
       "\n",
       "    .dataframe tbody tr th {\n",
       "        vertical-align: top;\n",
       "    }\n",
       "\n",
       "    .dataframe thead th {\n",
       "        text-align: right;\n",
       "    }\n",
       "</style>\n",
       "<table border=\"1\" class=\"dataframe\">\n",
       "  <thead>\n",
       "    <tr style=\"text-align: right;\">\n",
       "      <th></th>\n",
       "      <th>REC_ID</th>\n",
       "      <th>PATNO</th>\n",
       "      <th>BIRTHDT</th>\n",
       "      <th>GENDER</th>\n",
       "      <th>P3GRP</th>\n",
       "      <th>CURRENT_APPRDX</th>\n",
       "      <th>APPRDX</th>\n",
       "    </tr>\n",
       "  </thead>\n",
       "  <tbody>\n",
       "    <tr>\n",
       "      <th>0</th>\n",
       "      <td>224392801</td>\n",
       "      <td>3400</td>\n",
       "      <td>1971.0</td>\n",
       "      <td>0.0</td>\n",
       "      <td>0.0</td>\n",
       "      <td>1.0</td>\n",
       "      <td>1.0</td>\n",
       "    </tr>\n",
       "    <tr>\n",
       "      <th>1</th>\n",
       "      <td>224394301</td>\n",
       "      <td>3401</td>\n",
       "      <td>1954.0</td>\n",
       "      <td>1.0</td>\n",
       "      <td>0.0</td>\n",
       "      <td>2.0</td>\n",
       "      <td>2.0</td>\n",
       "    </tr>\n",
       "    <tr>\n",
       "      <th>2</th>\n",
       "      <td>224398401</td>\n",
       "      <td>3402</td>\n",
       "      <td>1964.0</td>\n",
       "      <td>2.0</td>\n",
       "      <td>0.0</td>\n",
       "      <td>3.0</td>\n",
       "      <td>3.0</td>\n",
       "    </tr>\n",
       "    <tr>\n",
       "      <th>3</th>\n",
       "      <td>224400201</td>\n",
       "      <td>3403</td>\n",
       "      <td>1941.0</td>\n",
       "      <td>2.0</td>\n",
       "      <td>0.0</td>\n",
       "      <td>1.0</td>\n",
       "      <td>1.0</td>\n",
       "    </tr>\n",
       "    <tr>\n",
       "      <th>4</th>\n",
       "      <td>224718101</td>\n",
       "      <td>3404</td>\n",
       "      <td>1954.0</td>\n",
       "      <td>0.0</td>\n",
       "      <td>0.0</td>\n",
       "      <td>2.0</td>\n",
       "      <td>2.0</td>\n",
       "    </tr>\n",
       "  </tbody>\n",
       "</table>\n",
       "</div>"
      ],
      "text/plain": [
       "      REC_ID  PATNO  BIRTHDT  GENDER  P3GRP  CURRENT_APPRDX  APPRDX\n",
       "0  224392801   3400   1971.0     0.0    0.0             1.0     1.0\n",
       "1  224394301   3401   1954.0     1.0    0.0             2.0     2.0\n",
       "2  224398401   3402   1964.0     2.0    0.0             3.0     3.0\n",
       "3  224400201   3403   1941.0     2.0    0.0             1.0     1.0\n",
       "4  224718101   3404   1954.0     0.0    0.0             2.0     2.0"
      ]
     },
     "execution_count": 14,
     "metadata": {},
     "output_type": "execute_result"
    }
   ],
   "source": [
    "SCREEN_sel.head()"
   ]
  },
  {
   "cell_type": "code",
   "execution_count": 15,
   "metadata": {},
   "outputs": [
    {
     "data": {
      "text/plain": [
       "REC_ID         0\n",
       "PATNO          0\n",
       "EVENT_ID       0\n",
       "INFODT         0\n",
       "CSFSPNRT    1365\n",
       "SMPDSCRD    1360\n",
       "RBCRSLT     1717\n",
       "WBCRSLT     1701\n",
       "TOPRRSLT    1706\n",
       "TGLCRSLT    1712\n",
       "dtype: int64"
      ]
     },
     "execution_count": 15,
     "metadata": {},
     "output_type": "execute_result"
    }
   ],
   "source": [
    "LUMBAR_sel.head()\n",
    "LUMBAR_sel.isnull().sum()\n",
    "# Fill NaN values...\n",
    "# Fill it with the average for humans (Blood cell count, glucose, protein rate, spin rate)\n",
    "# Bloody tap is a binary variable, so fill it with 0 or 1."
   ]
  },
  {
   "cell_type": "code",
   "execution_count": 16,
   "metadata": {},
   "outputs": [
    {
     "name": "stderr",
     "output_type": "stream",
     "text": [
      "/anaconda3/lib/python3.6/site-packages/ipykernel_launcher.py:1: SettingWithCopyWarning: \n",
      "A value is trying to be set on a copy of a slice from a DataFrame.\n",
      "Try using .loc[row_indexer,col_indexer] = value instead\n",
      "\n",
      "See the caveats in the documentation: http://pandas.pydata.org/pandas-docs/stable/indexing.html#indexing-view-versus-copy\n",
      "  \"\"\"Entry point for launching an IPython kernel.\n"
     ]
    }
   ],
   "source": [
    "PRIMDXPD_sel['PSLVL2']=0\n",
    "PRIMDX_PRODIAG=pd.concat([PRIMDXPD_sel,PRODIAG_sel],sort=False)\n",
    "#PRIMDX_PRODIAG.tail()\n",
    "#len(set(PRIMDX_PRODIAG.PATNO))\n",
    "# Fill NaN values for 'INFODT' by extrapolating from other tables."
   ]
  },
  {
   "cell_type": "markdown",
   "metadata": {},
   "source": [
    "## General Medical Records df"
   ]
  },
  {
   "cell_type": "code",
   "execution_count": 47,
   "metadata": {
    "scrolled": true
   },
   "outputs": [
    {
     "name": "stdout",
     "output_type": "stream",
     "text": [
      "24349 2044\n",
      "24349 2044\n",
      "21632 1798\n",
      "21632 1798\n",
      "576835 1798\n"
     ]
    }
   ],
   "source": [
    "Medical_Gen_df=[GENPHYEX_sel,PENEURO_sel,PENEURO2_sel,VITAL_sel]\n",
    "Medical_General=merge_multiple_df(Medical_Gen_df)\n",
    "Medical_General=merge(Medical_General,LUMBAR_sel,how='left')\n",
    "print(len(Medical_General),len(set(Medical_General.PATNO)))\n",
    "Medical_General=merge(Medical_General,MHXGEN_sel,how='left')\n",
    "print(len(Medical_General),len(set(Medical_General.PATNO)))\n",
    "\n",
    "Medical_General.rename(columns={'EVENT_ID_x':'EVENT_ID'},inplace=True)\n",
    "Medical_General.drop(columns=['REC_ID_x','REC_ID_y'],inplace=True)\n",
    "\n",
    "\n",
    "\n",
    "Medical_General['ABNORM'].fillna(0,inplace=True)\n",
    "Medical_General['MHROW'].fillna(0,inplace=True)\n",
    "Medical_General['SMPDSCRD'].fillna(0,inplace=True)\n",
    "\n",
    "# filling NaN values with col average:\n",
    "col_averages=list()\n",
    "colToAverage=['SYSSUP', 'DIASUP', 'HRSUP', 'SYSSTND', 'DIASTND', 'HRSTND',\n",
    "       'CSFSPNRT','RBCRSLT', 'WBCRSLT', 'TOPRRSLT', 'TGLCRSLT']\n",
    "for col in colToAverage:\n",
    "    colAv=round(Medical_General[col].mean(),1)\n",
    "    col_averages.append(colAv)\n",
    "    Medical_General[col].fillna(colAv,inplace=True)\n",
    "    \n",
    "# dropping the rest of NaN values:\n",
    "Medical_General.dropna(inplace=True)"
   ]
  },
  {
   "cell_type": "markdown",
   "metadata": {},
   "source": [
    "## PD features"
   ]
  },
  {
   "cell_type": "code",
   "execution_count": 101,
   "metadata": {},
   "outputs": [
    {
     "name": "stdout",
     "output_type": "stream",
     "text": [
      "5739 1670\n",
      "5739 1670\n"
     ]
    }
   ],
   "source": [
    "print(len(DIAGFEAT_sel),len(set(DIAGFEAT_sel.PATNO)))\n",
    "PD_features_df=[DIAGFEAT_sel,PRIMDX_PRODIAG]\n",
    "PD_features=merge_multiple_df(PD_features_df,how='left')\n",
    "PD_features=merge(PD_features,Biospecimen_Analysis_sel,on=['PATNO','EVENT_ID'],how='left')\n",
    "PD_features.drop(columns='F_STATUS',inplace=True)\n",
    "PD_features.head()\n",
    "\n",
    "# fill PRIMDIAG with '1' if PD, '0' otherwise\n",
    "mask_na=[i for i in range(len(PD_features)) if PD_features['PRIMDIAG'].isnull()[i]==True]\n",
    "PD_features_na=PD_features.iloc[mask_na,:]\n",
    "PD_patients_na=PD_patients_selection(PD_features_na)[0]\n",
    "mask_na_PD=PD_features_na['PATNO'].isin(PD_patients_na)\n",
    "fillNa_PRIMDIAG=list(np.where(mask_na_PD,1,0))\n",
    "ser_na_PD=pd.Series(data=fillNa_PRIMDIAG,index=mask_na)\n",
    "\n",
    "PD_features['PRIMDIAG'].fillna(ser_na_PD,inplace=True)\n",
    "PD_features['PSLVL2'].fillna(0,inplace=True)\n",
    "PD_features['DIAGNOSIS'].fillna(0,inplace=True)\n",
    "PD_features['TESTNAME'].fillna(0,inplace=True)\n",
    "PD_features['TESTVALUE'].fillna(0,inplace=True)\n",
    "\n",
    "PD_features.dropna(inplace=True)\n",
    "PD_features.isnull().sum()"
   ]
  },
  {
   "cell_type": "markdown",
   "metadata": {},
   "source": [
    "## PD Progression Measurements df"
   ]
  },
  {
   "cell_type": "code",
   "execution_count": 21,
   "metadata": {},
   "outputs": [
    {
     "name": "stderr",
     "output_type": "stream",
     "text": [
      "/anaconda3/lib/python3.6/site-packages/pandas/core/frame.py:3694: SettingWithCopyWarning: \n",
      "A value is trying to be set on a copy of a slice from a DataFrame\n",
      "\n",
      "See the caveats in the documentation: http://pandas.pydata.org/pandas-docs/stable/indexing.html#indexing-view-versus-copy\n",
      "  errors=errors)\n"
     ]
    },
    {
     "name": "stdout",
     "output_type": "stream",
     "text": [
      "11206 2009\n",
      "12639 2007\n"
     ]
    },
    {
     "data": {
      "text/html": [
       "<div>\n",
       "<style scoped>\n",
       "    .dataframe tbody tr th:only-of-type {\n",
       "        vertical-align: middle;\n",
       "    }\n",
       "\n",
       "    .dataframe tbody tr th {\n",
       "        vertical-align: top;\n",
       "    }\n",
       "\n",
       "    .dataframe thead th {\n",
       "        text-align: right;\n",
       "    }\n",
       "</style>\n",
       "<table border=\"1\" class=\"dataframe\">\n",
       "  <thead>\n",
       "    <tr style=\"text-align: right;\">\n",
       "      <th></th>\n",
       "      <th>PATNO</th>\n",
       "      <th>EVENT_ID</th>\n",
       "      <th>INFODT</th>\n",
       "      <th>NP1COG</th>\n",
       "      <th>NP1HALL</th>\n",
       "      <th>NP1DPRS</th>\n",
       "      <th>NP1ANXS</th>\n",
       "      <th>NP1APAT</th>\n",
       "      <th>NP1DDS</th>\n",
       "      <th>NP2SPCH</th>\n",
       "      <th>...</th>\n",
       "      <th>DYSKPRES</th>\n",
       "      <th>ON_OFF_DOSE</th>\n",
       "      <th>PD_MED_USE</th>\n",
       "      <th>REC_ID</th>\n",
       "      <th>NP4WDYSK</th>\n",
       "      <th>NP4DYSKI</th>\n",
       "      <th>NP4OFF</th>\n",
       "      <th>NP4FLCTI</th>\n",
       "      <th>NP4FLCTX</th>\n",
       "      <th>NP4DYSTN</th>\n",
       "    </tr>\n",
       "  </thead>\n",
       "  <tbody>\n",
       "    <tr>\n",
       "      <th>0</th>\n",
       "      <td>3402</td>\n",
       "      <td>SC</td>\n",
       "      <td>07/2010</td>\n",
       "      <td>0.0</td>\n",
       "      <td>0.0</td>\n",
       "      <td>1.0</td>\n",
       "      <td>0.0</td>\n",
       "      <td>2.0</td>\n",
       "      <td>0.0</td>\n",
       "      <td>0.0</td>\n",
       "      <td>...</td>\n",
       "      <td>0.0</td>\n",
       "      <td>0.0</td>\n",
       "      <td>0</td>\n",
       "      <td>NaN</td>\n",
       "      <td>NaN</td>\n",
       "      <td>NaN</td>\n",
       "      <td>NaN</td>\n",
       "      <td>NaN</td>\n",
       "      <td>NaN</td>\n",
       "      <td>NaN</td>\n",
       "    </tr>\n",
       "    <tr>\n",
       "      <th>1</th>\n",
       "      <td>3400</td>\n",
       "      <td>BL</td>\n",
       "      <td>07/2010</td>\n",
       "      <td>0.0</td>\n",
       "      <td>0.0</td>\n",
       "      <td>2.0</td>\n",
       "      <td>3.0</td>\n",
       "      <td>2.0</td>\n",
       "      <td>0.0</td>\n",
       "      <td>0.0</td>\n",
       "      <td>...</td>\n",
       "      <td>0.0</td>\n",
       "      <td>0.0</td>\n",
       "      <td>0</td>\n",
       "      <td>NaN</td>\n",
       "      <td>NaN</td>\n",
       "      <td>NaN</td>\n",
       "      <td>NaN</td>\n",
       "      <td>NaN</td>\n",
       "      <td>NaN</td>\n",
       "      <td>NaN</td>\n",
       "    </tr>\n",
       "    <tr>\n",
       "      <th>2</th>\n",
       "      <td>3403</td>\n",
       "      <td>SC</td>\n",
       "      <td>07/2010</td>\n",
       "      <td>0.0</td>\n",
       "      <td>0.0</td>\n",
       "      <td>0.0</td>\n",
       "      <td>0.0</td>\n",
       "      <td>0.0</td>\n",
       "      <td>0.0</td>\n",
       "      <td>0.0</td>\n",
       "      <td>...</td>\n",
       "      <td>0.0</td>\n",
       "      <td>0.0</td>\n",
       "      <td>0</td>\n",
       "      <td>NaN</td>\n",
       "      <td>NaN</td>\n",
       "      <td>NaN</td>\n",
       "      <td>NaN</td>\n",
       "      <td>NaN</td>\n",
       "      <td>NaN</td>\n",
       "      <td>NaN</td>\n",
       "    </tr>\n",
       "    <tr>\n",
       "      <th>3</th>\n",
       "      <td>3404</td>\n",
       "      <td>BL</td>\n",
       "      <td>07/2010</td>\n",
       "      <td>0.0</td>\n",
       "      <td>0.0</td>\n",
       "      <td>0.0</td>\n",
       "      <td>0.0</td>\n",
       "      <td>0.0</td>\n",
       "      <td>0.0</td>\n",
       "      <td>0.0</td>\n",
       "      <td>...</td>\n",
       "      <td>0.0</td>\n",
       "      <td>0.0</td>\n",
       "      <td>0</td>\n",
       "      <td>NaN</td>\n",
       "      <td>NaN</td>\n",
       "      <td>NaN</td>\n",
       "      <td>NaN</td>\n",
       "      <td>NaN</td>\n",
       "      <td>NaN</td>\n",
       "      <td>NaN</td>\n",
       "    </tr>\n",
       "    <tr>\n",
       "      <th>4</th>\n",
       "      <td>3406</td>\n",
       "      <td>SC</td>\n",
       "      <td>07/2010</td>\n",
       "      <td>0.0</td>\n",
       "      <td>0.0</td>\n",
       "      <td>0.0</td>\n",
       "      <td>1.0</td>\n",
       "      <td>1.0</td>\n",
       "      <td>0.0</td>\n",
       "      <td>0.0</td>\n",
       "      <td>...</td>\n",
       "      <td>0.0</td>\n",
       "      <td>0.0</td>\n",
       "      <td>0</td>\n",
       "      <td>NaN</td>\n",
       "      <td>NaN</td>\n",
       "      <td>NaN</td>\n",
       "      <td>NaN</td>\n",
       "      <td>NaN</td>\n",
       "      <td>NaN</td>\n",
       "      <td>NaN</td>\n",
       "    </tr>\n",
       "  </tbody>\n",
       "</table>\n",
       "<p>5 rows × 65 columns</p>\n",
       "</div>"
      ],
      "text/plain": [
       "   PATNO EVENT_ID   INFODT  NP1COG  NP1HALL  NP1DPRS  NP1ANXS  NP1APAT  \\\n",
       "0   3402       SC  07/2010     0.0      0.0      1.0      0.0      2.0   \n",
       "1   3400       BL  07/2010     0.0      0.0      2.0      3.0      2.0   \n",
       "2   3403       SC  07/2010     0.0      0.0      0.0      0.0      0.0   \n",
       "3   3404       BL  07/2010     0.0      0.0      0.0      0.0      0.0   \n",
       "4   3406       SC  07/2010     0.0      0.0      0.0      1.0      1.0   \n",
       "\n",
       "   NP1DDS  NP2SPCH    ...     DYSKPRES  ON_OFF_DOSE  PD_MED_USE  REC_ID  \\\n",
       "0     0.0      0.0    ...          0.0          0.0           0     NaN   \n",
       "1     0.0      0.0    ...          0.0          0.0           0     NaN   \n",
       "2     0.0      0.0    ...          0.0          0.0           0     NaN   \n",
       "3     0.0      0.0    ...          0.0          0.0           0     NaN   \n",
       "4     0.0      0.0    ...          0.0          0.0           0     NaN   \n",
       "\n",
       "   NP4WDYSK  NP4DYSKI  NP4OFF  NP4FLCTI  NP4FLCTX  NP4DYSTN  \n",
       "0       NaN       NaN     NaN       NaN       NaN       NaN  \n",
       "1       NaN       NaN     NaN       NaN       NaN       NaN  \n",
       "2       NaN       NaN     NaN       NaN       NaN       NaN  \n",
       "3       NaN       NaN     NaN       NaN       NaN       NaN  \n",
       "4       NaN       NaN     NaN       NaN       NaN       NaN  \n",
       "\n",
       "[5 rows x 65 columns]"
      ]
     },
     "execution_count": 21,
     "metadata": {},
     "output_type": "execute_result"
    }
   ],
   "source": [
    "PD_Progression_df=[NUPDRS1_sel,NUPDRS2P_sel,NUPDRS3_sel]\n",
    "# Add PASELT? : if so you need to add a 'INFODT'field...\n",
    "PD_Progression_motor=merge_multiple_df(PD_Progression_df)\n",
    "PD_Progression_motor=merge(PD_Progression_motor,NUPDRS4_sel,how='left')\n",
    "PD_Progression_motor.drop(columns='NHY',inplace=True)\n",
    "PD_Progression_motor['ON_OFF_DOSE'].fillna(value=0,inplace=True)\n",
    "# Fill ON_OFF_DOSE with 0 when NaN.\n",
    "# Change with how='left' for NH3.\n",
    "PD_Progression_motor.head()\n",
    "\n",
    "col=['NP4WDYSK', 'NP4DYSKI', 'NP4OFF',\n",
    "       'NP4FLCTI', 'NP4FLCTX', 'NP4DYSTN']\n",
    "for cols in col:\n",
    "    PD_Progression_motor[cols].fillna(value=0,inplace=True)\n",
    "\n",
    "for col in list(PD_Progression_motor.columns):\n",
    "    PD_Progression_motor[col].fillna(0,inplace=True)"
   ]
  },
  {
   "cell_type": "markdown",
   "metadata": {},
   "source": [
    "## Non-motor assessments df"
   ]
  },
  {
   "cell_type": "code",
   "execution_count": 115,
   "metadata": {},
   "outputs": [
    {
     "name": "stdout",
     "output_type": "stream",
     "text": [
      "5240 1333\n",
      "5233 1333\n",
      "5228 1333\n",
      "4424 1293\n",
      "4420 1293\n",
      "3614 1091\n",
      "3610 1091\n",
      "3602 1089\n",
      "3593 1089\n",
      "3585 1089\n",
      "3579 1088\n"
     ]
    },
    {
     "data": {
      "text/html": [
       "<div>\n",
       "<style scoped>\n",
       "    .dataframe tbody tr th:only-of-type {\n",
       "        vertical-align: middle;\n",
       "    }\n",
       "\n",
       "    .dataframe tbody tr th {\n",
       "        vertical-align: top;\n",
       "    }\n",
       "\n",
       "    .dataframe thead th {\n",
       "        text-align: right;\n",
       "    }\n",
       "</style>\n",
       "<table border=\"1\" class=\"dataframe\">\n",
       "  <thead>\n",
       "    <tr style=\"text-align: right;\">\n",
       "      <th></th>\n",
       "      <th>PATNO</th>\n",
       "      <th>EVENT_ID</th>\n",
       "      <th>INFODT</th>\n",
       "      <th>PTCGBOTH_x</th>\n",
       "      <th>ESS1</th>\n",
       "      <th>ESS2</th>\n",
       "      <th>ESS3</th>\n",
       "      <th>ESS4</th>\n",
       "      <th>ESS5</th>\n",
       "      <th>ESS6</th>\n",
       "      <th>...</th>\n",
       "      <th>CNTRLSEX</th>\n",
       "      <th>TMBUY</th>\n",
       "      <th>CNTRLBUY</th>\n",
       "      <th>TMEAT</th>\n",
       "      <th>CNTRLEAT</th>\n",
       "      <th>TMTORACT</th>\n",
       "      <th>TMTMTACT</th>\n",
       "      <th>TMTRWD</th>\n",
       "      <th>TMDISMED</th>\n",
       "      <th>CNTRLDSM</th>\n",
       "    </tr>\n",
       "  </thead>\n",
       "  <tbody>\n",
       "    <tr>\n",
       "      <th>0</th>\n",
       "      <td>3102</td>\n",
       "      <td>ST</td>\n",
       "      <td>11/2011</td>\n",
       "      <td>1.0</td>\n",
       "      <td>3.0</td>\n",
       "      <td>2.0</td>\n",
       "      <td>1.0</td>\n",
       "      <td>2.0</td>\n",
       "      <td>3.0</td>\n",
       "      <td>1.0</td>\n",
       "      <td>...</td>\n",
       "      <td>0.0</td>\n",
       "      <td>0.0</td>\n",
       "      <td>0.0</td>\n",
       "      <td>0.0</td>\n",
       "      <td>0.0</td>\n",
       "      <td>0.0</td>\n",
       "      <td>0.0</td>\n",
       "      <td>0.0</td>\n",
       "      <td>N</td>\n",
       "      <td>N</td>\n",
       "    </tr>\n",
       "    <tr>\n",
       "      <th>1</th>\n",
       "      <td>3630</td>\n",
       "      <td>V06</td>\n",
       "      <td>11/2014</td>\n",
       "      <td>1.0</td>\n",
       "      <td>1.0</td>\n",
       "      <td>0.0</td>\n",
       "      <td>0.0</td>\n",
       "      <td>1.0</td>\n",
       "      <td>3.0</td>\n",
       "      <td>0.0</td>\n",
       "      <td>...</td>\n",
       "      <td>0.0</td>\n",
       "      <td>1.0</td>\n",
       "      <td>0.0</td>\n",
       "      <td>0.0</td>\n",
       "      <td>0.0</td>\n",
       "      <td>0.0</td>\n",
       "      <td>0.0</td>\n",
       "      <td>0.0</td>\n",
       "      <td>0</td>\n",
       "      <td>0</td>\n",
       "    </tr>\n",
       "    <tr>\n",
       "      <th>2</th>\n",
       "      <td>3404</td>\n",
       "      <td>V06</td>\n",
       "      <td>07/2012</td>\n",
       "      <td>1.0</td>\n",
       "      <td>0.0</td>\n",
       "      <td>1.0</td>\n",
       "      <td>0.0</td>\n",
       "      <td>0.0</td>\n",
       "      <td>1.0</td>\n",
       "      <td>0.0</td>\n",
       "      <td>...</td>\n",
       "      <td>0.0</td>\n",
       "      <td>0.0</td>\n",
       "      <td>0.0</td>\n",
       "      <td>0.0</td>\n",
       "      <td>0.0</td>\n",
       "      <td>0.0</td>\n",
       "      <td>0.0</td>\n",
       "      <td>0.0</td>\n",
       "      <td>N</td>\n",
       "      <td>N</td>\n",
       "    </tr>\n",
       "    <tr>\n",
       "      <th>3</th>\n",
       "      <td>3429</td>\n",
       "      <td>V04</td>\n",
       "      <td>08/2012</td>\n",
       "      <td>1.0</td>\n",
       "      <td>0.0</td>\n",
       "      <td>0.0</td>\n",
       "      <td>0.0</td>\n",
       "      <td>0.0</td>\n",
       "      <td>0.0</td>\n",
       "      <td>0.0</td>\n",
       "      <td>...</td>\n",
       "      <td>0.0</td>\n",
       "      <td>0.0</td>\n",
       "      <td>0.0</td>\n",
       "      <td>0.0</td>\n",
       "      <td>0.0</td>\n",
       "      <td>0.0</td>\n",
       "      <td>0.0</td>\n",
       "      <td>0.0</td>\n",
       "      <td>N</td>\n",
       "      <td>N</td>\n",
       "    </tr>\n",
       "    <tr>\n",
       "      <th>4</th>\n",
       "      <td>3428</td>\n",
       "      <td>V04</td>\n",
       "      <td>08/2012</td>\n",
       "      <td>1.0</td>\n",
       "      <td>1.0</td>\n",
       "      <td>1.0</td>\n",
       "      <td>1.0</td>\n",
       "      <td>1.0</td>\n",
       "      <td>3.0</td>\n",
       "      <td>1.0</td>\n",
       "      <td>...</td>\n",
       "      <td>0.0</td>\n",
       "      <td>0.0</td>\n",
       "      <td>0.0</td>\n",
       "      <td>0.0</td>\n",
       "      <td>0.0</td>\n",
       "      <td>0.0</td>\n",
       "      <td>0.0</td>\n",
       "      <td>0.0</td>\n",
       "      <td>N</td>\n",
       "      <td>N</td>\n",
       "    </tr>\n",
       "  </tbody>\n",
       "</table>\n",
       "<p>5 rows × 179 columns</p>\n",
       "</div>"
      ],
      "text/plain": [
       "   PATNO EVENT_ID   INFODT  PTCGBOTH_x  ESS1  ESS2  ESS3  ESS4  ESS5  ESS6  \\\n",
       "0   3102       ST  11/2011         1.0   3.0   2.0   1.0   2.0   3.0   1.0   \n",
       "1   3630      V06  11/2014         1.0   1.0   0.0   0.0   1.0   3.0   0.0   \n",
       "2   3404      V06  07/2012         1.0   0.0   1.0   0.0   0.0   1.0   0.0   \n",
       "3   3429      V04  08/2012         1.0   0.0   0.0   0.0   0.0   0.0   0.0   \n",
       "4   3428      V04  08/2012         1.0   1.0   1.0   1.0   1.0   3.0   1.0   \n",
       "\n",
       "     ...     CNTRLSEX  TMBUY  CNTRLBUY  TMEAT  CNTRLEAT  TMTORACT  TMTMTACT  \\\n",
       "0    ...          0.0    0.0       0.0    0.0       0.0       0.0       0.0   \n",
       "1    ...          0.0    1.0       0.0    0.0       0.0       0.0       0.0   \n",
       "2    ...          0.0    0.0       0.0    0.0       0.0       0.0       0.0   \n",
       "3    ...          0.0    0.0       0.0    0.0       0.0       0.0       0.0   \n",
       "4    ...          0.0    0.0       0.0    0.0       0.0       0.0       0.0   \n",
       "\n",
       "   TMTRWD  TMDISMED  CNTRLDSM  \n",
       "0     0.0         N         N  \n",
       "1     0.0         0         0  \n",
       "2     0.0         N         N  \n",
       "3     0.0         N         N  \n",
       "4     0.0         N         N  \n",
       "\n",
       "[5 rows x 179 columns]"
      ]
     },
     "execution_count": 115,
     "metadata": {},
     "output_type": "execute_result"
    }
   ],
   "source": [
    "NM_assessments=merge_multiple_df(NM_sel_df)\n",
    "NM_assessments.head()\n",
    "\n",
    "#TMDISMED and CNTRLDSM to remove or encode?"
   ]
  },
  {
   "cell_type": "code",
   "execution_count": 123,
   "metadata": {},
   "outputs": [
    {
     "name": "stdout",
     "output_type": "stream",
     "text": [
      "[47.2, -0.3, 12.5, 25.0]\n"
     ]
    },
    {
     "data": {
      "text/plain": [
       "DVT_SDM                 80\n",
       "DVSD_SDM                80\n",
       "SCAU26D                 16\n",
       "JLO_TOTRAW              11\n",
       "JLO_TOTCALC             11\n",
       "AGE_ASSESS_JLO          11\n",
       "DVS_JLO_MSSA            11\n",
       "DVS_JLO_MSSAE           11\n",
       "DVT_RECOG_DISC_INDEX    10\n",
       "HVLTFPUN                 9\n",
       "HVLTREC                  9\n",
       "DRMNOCTB                 9\n",
       "HVLTFPRL                 9\n",
       "STAIAD24                 8\n",
       "STAIAD25                 7\n",
       "STAIAD36                 7\n",
       "STAIAD19                 6\n",
       "STAIAD28                 6\n",
       "STAIAD23                 6\n",
       "STAIAD20                 6\n",
       "SCAU7                    6\n",
       "STAIAD17                 6\n",
       "STAIAD16                 6\n",
       "SCAU14                   6\n",
       "STAIAD30                 6\n",
       "STAIAD14                 6\n",
       "STAIAD8                  6\n",
       "STAIAD6                  6\n",
       "STAIAD29                 6\n",
       "STAIAD18                 6\n",
       "                        ..\n",
       "GDSHAPPY                 1\n",
       "MVAWAKEN                 1\n",
       "SDMTVRSN                 1\n",
       "DRMOBJFL                 1\n",
       "PARKISM                  1\n",
       "DRMREMEM                 1\n",
       "SCAU1                    1\n",
       "SCAU21                   1\n",
       "SCAU19                   1\n",
       "SCAU17                   1\n",
       "SCAU16                   1\n",
       "HVLTVRSN                 1\n",
       "SLPDSTRB                 1\n",
       "SCAU2                    1\n",
       "SCAU6                    1\n",
       "BRNINFM                  1\n",
       "EPILEPSY                 1\n",
       "DEPRS                    1\n",
       "NARCLPSY                 1\n",
       "RLS                      1\n",
       "FNCDTCOG                 1\n",
       "HETRA                    1\n",
       "STROKE                   1\n",
       "DVT_TOTAL_RECALL         0\n",
       "HVLTRT3                  0\n",
       "HVLTRT2                  0\n",
       "HVLTRT1                  0\n",
       "INFODT                   0\n",
       "EVENT_ID                 0\n",
       "PATNO                    0\n",
       "Length: 179, dtype: int64"
      ]
     },
     "execution_count": 123,
     "metadata": {},
     "output_type": "execute_result"
    }
   ],
   "source": [
    "# filling NaN values with col average:\n",
    "col_averages=list()\n",
    "colToAverage=['DVT_SDM','DVSD_SDM','JLO_TOTRAW','JLO_TOTCALC']\n",
    "for col in colToAverage:\n",
    "    colAv=round(NM_assessments[col].mean(),1)\n",
    "    col_averages.append(colAv)\n",
    "    NM_assessments[col].fillna(colAv,inplace=True)\n",
    "#DVT_SDM,SVSD_SDM,DVS_JLO...: average\n",
    "#SCAU26D: 0\n",
    "print(col_averages)\n",
    "NM_assessments.isnull().sum().sort_values(ascending=False)"
   ]
  },
  {
   "cell_type": "markdown",
   "metadata": {},
   "source": [
    "## Medications data df - 0.43 % of NaN values!! > use fillna values"
   ]
  },
  {
   "cell_type": "code",
   "execution_count": 26,
   "metadata": {},
   "outputs": [
    {
     "name": "stdout",
     "output_type": "stream",
     "text": [
      "6668 909\n",
      "0.4260272945410918\n"
     ]
    },
    {
     "name": "stderr",
     "output_type": "stream",
     "text": [
      "/anaconda3/lib/python3.6/site-packages/pandas/core/frame.py:3694: SettingWithCopyWarning: \n",
      "A value is trying to be set on a copy of a slice from a DataFrame\n",
      "\n",
      "See the caveats in the documentation: http://pandas.pydata.org/pandas-docs/stable/indexing.html#indexing-view-versus-copy\n",
      "  errors=errors)\n"
     ]
    },
    {
     "data": {
      "text/html": [
       "<div>\n",
       "<style scoped>\n",
       "    .dataframe tbody tr th:only-of-type {\n",
       "        vertical-align: middle;\n",
       "    }\n",
       "\n",
       "    .dataframe tbody tr th {\n",
       "        vertical-align: top;\n",
       "    }\n",
       "\n",
       "    .dataframe thead th {\n",
       "        text-align: right;\n",
       "    }\n",
       "</style>\n",
       "<table border=\"1\" class=\"dataframe\">\n",
       "  <thead>\n",
       "    <tr style=\"text-align: right;\">\n",
       "      <th></th>\n",
       "      <th>PATNO</th>\n",
       "      <th>EVENT_ID</th>\n",
       "      <th>INFODT</th>\n",
       "      <th>PDMEDYN</th>\n",
       "      <th>ONLDOPA</th>\n",
       "      <th>ONDOPAG</th>\n",
       "      <th>ONOTHER</th>\n",
       "      <th>FULNUPDR</th>\n",
       "      <th>PDMEDDT</th>\n",
       "      <th>PDSURG</th>\n",
       "      <th>PDSURGDT</th>\n",
       "      <th>PDSURGTP</th>\n",
       "    </tr>\n",
       "  </thead>\n",
       "  <tbody>\n",
       "    <tr>\n",
       "      <th>0</th>\n",
       "      <td>3403</td>\n",
       "      <td>V01</td>\n",
       "      <td>10/2010</td>\n",
       "      <td>0</td>\n",
       "      <td>NaN</td>\n",
       "      <td>NaN</td>\n",
       "      <td>NaN</td>\n",
       "      <td>1</td>\n",
       "      <td>NaN</td>\n",
       "      <td>NaN</td>\n",
       "      <td>NaN</td>\n",
       "      <td>NaN</td>\n",
       "    </tr>\n",
       "    <tr>\n",
       "      <th>1</th>\n",
       "      <td>3400</td>\n",
       "      <td>V01</td>\n",
       "      <td>10/2010</td>\n",
       "      <td>0</td>\n",
       "      <td>NaN</td>\n",
       "      <td>NaN</td>\n",
       "      <td>NaN</td>\n",
       "      <td>1</td>\n",
       "      <td>NaN</td>\n",
       "      <td>NaN</td>\n",
       "      <td>NaN</td>\n",
       "      <td>NaN</td>\n",
       "    </tr>\n",
       "    <tr>\n",
       "      <th>2</th>\n",
       "      <td>3406</td>\n",
       "      <td>V01</td>\n",
       "      <td>11/2010</td>\n",
       "      <td>0</td>\n",
       "      <td>NaN</td>\n",
       "      <td>NaN</td>\n",
       "      <td>NaN</td>\n",
       "      <td>1</td>\n",
       "      <td>NaN</td>\n",
       "      <td>NaN</td>\n",
       "      <td>NaN</td>\n",
       "      <td>NaN</td>\n",
       "    </tr>\n",
       "    <tr>\n",
       "      <th>3</th>\n",
       "      <td>3400</td>\n",
       "      <td>ST</td>\n",
       "      <td>12/2010</td>\n",
       "      <td>0</td>\n",
       "      <td>NaN</td>\n",
       "      <td>NaN</td>\n",
       "      <td>NaN</td>\n",
       "      <td>1</td>\n",
       "      <td>NaN</td>\n",
       "      <td>NaN</td>\n",
       "      <td>NaN</td>\n",
       "      <td>NaN</td>\n",
       "    </tr>\n",
       "    <tr>\n",
       "      <th>4</th>\n",
       "      <td>3407</td>\n",
       "      <td>V01</td>\n",
       "      <td>01/2011</td>\n",
       "      <td>0</td>\n",
       "      <td>NaN</td>\n",
       "      <td>NaN</td>\n",
       "      <td>NaN</td>\n",
       "      <td>1</td>\n",
       "      <td>NaN</td>\n",
       "      <td>NaN</td>\n",
       "      <td>NaN</td>\n",
       "      <td>NaN</td>\n",
       "    </tr>\n",
       "  </tbody>\n",
       "</table>\n",
       "</div>"
      ],
      "text/plain": [
       "   PATNO EVENT_ID   INFODT  PDMEDYN  ONLDOPA  ONDOPAG  ONOTHER FULNUPDR  \\\n",
       "0   3403      V01  10/2010        0      NaN      NaN      NaN        1   \n",
       "1   3400      V01  10/2010        0      NaN      NaN      NaN        1   \n",
       "2   3406      V01  11/2010        0      NaN      NaN      NaN        1   \n",
       "3   3400       ST  12/2010        0      NaN      NaN      NaN        1   \n",
       "4   3407      V01  01/2011        0      NaN      NaN      NaN        1   \n",
       "\n",
       "  PDMEDDT  PDSURG PDSURGDT  PDSURGTP  \n",
       "0     NaN     NaN      NaN       NaN  \n",
       "1     NaN     NaN      NaN       NaN  \n",
       "2     NaN     NaN      NaN       NaN  \n",
       "3     NaN     NaN      NaN       NaN  \n",
       "4     NaN     NaN      NaN       NaN  "
      ]
     },
     "execution_count": 26,
     "metadata": {},
     "output_type": "execute_result"
    }
   ],
   "source": [
    "medications_df=[PDMEDUSE_sel,SURGPD_sel]\n",
    "medications_data=merge_multiple_df(medications_df,how='left')\n",
    "print(medications_data.isnull().sum().sum()/(len(medications_data)*len(medications_data.columns)))\n",
    "medications_data.head()\n",
    "# NaN values to be filled.\n",
    "# PDSURG: 0\n",
    "# PDSURGTP: 4\n",
    "#PDMEDDT, PDSURGTP: to encode (diff between INFODT & feat)"
   ]
  },
  {
   "cell_type": "markdown",
   "metadata": {},
   "source": [
    "## Targets df - MSEADLG & Hoehn & Yahr Scale"
   ]
  },
  {
   "cell_type": "code",
   "execution_count": 125,
   "metadata": {},
   "outputs": [
    {
     "data": {
      "text/plain": [
       "PATNO      0\n",
       "INFODT     0\n",
       "NHY        0\n",
       "MSEADLG    0\n",
       "dtype: int64"
      ]
     },
     "execution_count": 125,
     "metadata": {},
     "output_type": "execute_result"
    }
   ],
   "source": [
    "targets=pd.merge(target_NHY,target_MSEADLG,on=['PATNO','INFODT'])\n",
    "targets.dropna(inplace=True)\n",
    "targets.isnull().sum()\n",
    "# NaN values probably to be dropped. "
   ]
  },
  {
   "cell_type": "code",
   "execution_count": 127,
   "metadata": {},
   "outputs": [
    {
     "name": "stdout",
     "output_type": "stream",
     "text": [
      "363\n"
     ]
    },
    {
     "data": {
      "text/html": [
       "<div>\n",
       "<style scoped>\n",
       "    .dataframe tbody tr th:only-of-type {\n",
       "        vertical-align: middle;\n",
       "    }\n",
       "\n",
       "    .dataframe tbody tr th {\n",
       "        vertical-align: top;\n",
       "    }\n",
       "\n",
       "    .dataframe thead th {\n",
       "        text-align: right;\n",
       "    }\n",
       "</style>\n",
       "<table border=\"1\" class=\"dataframe\">\n",
       "  <thead>\n",
       "    <tr style=\"text-align: right;\">\n",
       "      <th></th>\n",
       "      <th>observations_tot</th>\n",
       "      <th>features</th>\n",
       "      <th>events_num</th>\n",
       "      <th>patients_num</th>\n",
       "      <th>patients_sel</th>\n",
       "      <th>len_df_sel</th>\n",
       "      <th>NaN_values</th>\n",
       "    </tr>\n",
       "  </thead>\n",
       "  <tbody>\n",
       "    <tr>\n",
       "      <th>PD_features</th>\n",
       "      <td>5722</td>\n",
       "      <td>56</td>\n",
       "      <td>19</td>\n",
       "      <td>1668</td>\n",
       "      <td>681</td>\n",
       "      <td>3091</td>\n",
       "      <td>0</td>\n",
       "    </tr>\n",
       "    <tr>\n",
       "      <th>Non-Motor_assessments</th>\n",
       "      <td>3579</td>\n",
       "      <td>179</td>\n",
       "      <td>12</td>\n",
       "      <td>1088</td>\n",
       "      <td>533</td>\n",
       "      <td>2175</td>\n",
       "      <td>0.00107365</td>\n",
       "    </tr>\n",
       "    <tr>\n",
       "      <th>Medical_General</th>\n",
       "      <td>576824</td>\n",
       "      <td>45</td>\n",
       "      <td>8</td>\n",
       "      <td>1797</td>\n",
       "      <td>943</td>\n",
       "      <td>303055</td>\n",
       "      <td>0</td>\n",
       "    </tr>\n",
       "    <tr>\n",
       "      <th>PD_Progression_motor</th>\n",
       "      <td>12639</td>\n",
       "      <td>65</td>\n",
       "      <td>20</td>\n",
       "      <td>2007</td>\n",
       "      <td>814</td>\n",
       "      <td>8811</td>\n",
       "      <td>0</td>\n",
       "    </tr>\n",
       "    <tr>\n",
       "      <th>medications_data</th>\n",
       "      <td>6668</td>\n",
       "      <td>12</td>\n",
       "      <td>21</td>\n",
       "      <td>909</td>\n",
       "      <td>697</td>\n",
       "      <td>5969</td>\n",
       "      <td>0.417169</td>\n",
       "    </tr>\n",
       "    <tr>\n",
       "      <th>targets</th>\n",
       "      <td>12057</td>\n",
       "      <td>4</td>\n",
       "      <td>0</td>\n",
       "      <td>1831</td>\n",
       "      <td>814</td>\n",
       "      <td>9171</td>\n",
       "      <td>0</td>\n",
       "    </tr>\n",
       "  </tbody>\n",
       "</table>\n",
       "</div>"
      ],
      "text/plain": [
       "                      observations_tot features events_num patients_num  \\\n",
       "PD_features                       5722       56         19         1668   \n",
       "Non-Motor_assessments             3579      179         12         1088   \n",
       "Medical_General                 576824       45          8         1797   \n",
       "PD_Progression_motor             12639       65         20         2007   \n",
       "medications_data                  6668       12         21          909   \n",
       "targets                          12057        4          0         1831   \n",
       "\n",
       "                      patients_sel len_df_sel  NaN_values  \n",
       "PD_features                    681       3091           0  \n",
       "Non-Motor_assessments          533       2175  0.00107365  \n",
       "Medical_General                943     303055           0  \n",
       "PD_Progression_motor           814       8811           0  \n",
       "medications_data               697       5969    0.417169  \n",
       "targets                        814       9171           0  "
      ]
     },
     "execution_count": 127,
     "metadata": {},
     "output_type": "execute_result"
    }
   ],
   "source": [
    "list_df=[PD_features,NM_assessments,Medical_General,PD_Progression_motor,medications_data,targets]\n",
    "df_names=['PD_features','Non-Motor_assessments','Medical_General','PD_Progression_motor','medications_data','targets']\n",
    "dataset_analysis_final_df6=table_analysis(list_df,df_names)\n",
    "dataset_analysis_final_df4=table_analysis(list_df,df_names,4)\n",
    "dataset_analysis_final_df2=table_analysis(list_df,df_names,2)\n",
    "\n",
    "print(dataset_analysis_final_df2['features'].sum()-5*3-2+19)\n",
    "dataset_analysis_final_df2"
   ]
  },
  {
   "cell_type": "code",
   "execution_count": 29,
   "metadata": {},
   "outputs": [
    {
     "data": {
      "text/html": [
       "<div>\n",
       "<style scoped>\n",
       "    .dataframe tbody tr th:only-of-type {\n",
       "        vertical-align: middle;\n",
       "    }\n",
       "\n",
       "    .dataframe tbody tr th {\n",
       "        vertical-align: top;\n",
       "    }\n",
       "\n",
       "    .dataframe thead th {\n",
       "        text-align: right;\n",
       "    }\n",
       "</style>\n",
       "<table border=\"1\" class=\"dataframe\">\n",
       "  <thead>\n",
       "    <tr style=\"text-align: right;\">\n",
       "      <th></th>\n",
       "      <th>PD_features</th>\n",
       "      <th>Non-Motor_assessments</th>\n",
       "      <th>Medical_General</th>\n",
       "      <th>PD_Progression_motor</th>\n",
       "      <th>medications_data</th>\n",
       "      <th>targets</th>\n",
       "    </tr>\n",
       "  </thead>\n",
       "  <tbody>\n",
       "    <tr>\n",
       "      <th>2</th>\n",
       "      <td>3105</td>\n",
       "      <td>2175</td>\n",
       "      <td>303066</td>\n",
       "      <td>8811</td>\n",
       "      <td>5969</td>\n",
       "      <td>9182</td>\n",
       "    </tr>\n",
       "    <tr>\n",
       "      <th>4</th>\n",
       "      <td>2608</td>\n",
       "      <td>1692</td>\n",
       "      <td>303066</td>\n",
       "      <td>8473</td>\n",
       "      <td>5745</td>\n",
       "      <td>8890</td>\n",
       "    </tr>\n",
       "    <tr>\n",
       "      <th>6</th>\n",
       "      <td>1300</td>\n",
       "      <td>625</td>\n",
       "      <td>303066</td>\n",
       "      <td>8177</td>\n",
       "      <td>5324</td>\n",
       "      <td>8625</td>\n",
       "    </tr>\n",
       "  </tbody>\n",
       "</table>\n",
       "</div>"
      ],
      "text/plain": [
       "  PD_features Non-Motor_assessments Medical_General PD_Progression_motor  \\\n",
       "2        3105                  2175          303066                 8811   \n",
       "4        2608                  1692          303066                 8473   \n",
       "6        1300                   625          303066                 8177   \n",
       "\n",
       "  medications_data targets  \n",
       "2             5969    9182  \n",
       "4             5745    8890  \n",
       "6             5324    8625  "
      ]
     },
     "execution_count": 29,
     "metadata": {},
     "output_type": "execute_result"
    }
   ],
   "source": [
    "def sel_for_plot(df,rowSel, colSel,num):\n",
    "    df=df.loc[rowSel,colSel]\n",
    "    NewCols=[c+'{}'.format(num) for c in colSel]\n",
    "    colRenamed=dict(zip(colSel,NewCols))\n",
    "    df.rename(columns=colRenamed,inplace=True)\n",
    "    return df\n",
    "\n",
    "rowSel=df_names\n",
    "colSel=['patients_sel','len_df_sel']\n",
    "df_to_plot6=sel_for_plot(dataset_analysis_final_df6,rowSel=rowSel,colSel=colSel,num=6)\n",
    "df_to_plot4=sel_for_plot(dataset_analysis_final_df4,rowSel=rowSel,colSel=colSel,num=4)\n",
    "df_to_plot2=sel_for_plot(dataset_analysis_final_df2,rowSel=rowSel,colSel=colSel,num=2)\n",
    "\n",
    "df_to_plot=pd.merge(df_to_plot2,df_to_plot4,left_index=True,right_index=True)\n",
    "df_to_plot=pd.merge(df_to_plot,df_to_plot6,left_index=True,right_index=True)\n",
    "df_to_plot=df_to_plot.T\n",
    "df_to_plot['Measure']=list(np.tile(('len_patients','len_df_sel'),3))\n",
    "df_to_plot['Visits_threshold']=list(np.repeat((2,4,6),2))\n",
    "\n",
    "def select_measure(df,rowSel): \n",
    "    df=df.loc[rowSel,:]\n",
    "    df.drop(columns='Measure',inplace=True)\n",
    "    df.rename(index=dict(zip(list(df.index),list(df['Visits_threshold'].values))),inplace=True)\n",
    "    df.drop(columns='Visits_threshold',inplace=True)\n",
    "    return df\n",
    "\n",
    "dfPlot_patients=select_measure(df_to_plot,['patients_sel2','patients_sel4','patients_sel6'])\n",
    "\n",
    "dfPlot_samples=select_measure(df_to_plot,['len_df_sel2','len_df_sel4','len_df_sel6'])\n",
    "dfPlot_samples"
   ]
  },
  {
   "cell_type": "code",
   "execution_count": 30,
   "metadata": {},
   "outputs": [
    {
     "data": {
      "text/html": [
       "<script>requirejs.config({paths: { 'plotly': ['https://cdn.plot.ly/plotly-latest.min']},});if(!window.Plotly) {{require(['plotly'],function(plotly) {window.Plotly=plotly;});}}</script>"
      ],
      "text/vnd.plotly.v1+html": [
       "<script>requirejs.config({paths: { 'plotly': ['https://cdn.plot.ly/plotly-latest.min']},});if(!window.Plotly) {{require(['plotly'],function(plotly) {window.Plotly=plotly;});}}</script>"
      ]
     },
     "metadata": {},
     "output_type": "display_data"
    },
    {
     "data": {
      "application/vnd.plotly.v1+json": {
       "data": [
        {
         "marker": {
          "color": "rgba(255, 153, 51, 0.6)",
          "line": {
           "color": "rgba(255, 153, 51, 1.0)",
           "width": 1
          }
         },
         "name": "PD_features",
         "orientation": "v",
         "text": "",
         "type": "bar",
         "x": [
          2,
          4,
          6
         ],
         "y": [
          683,
          476,
          195
         ]
        },
        {
         "marker": {
          "color": "rgba(55, 128, 191, 0.6)",
          "line": {
           "color": "rgba(55, 128, 191, 1.0)",
           "width": 1
          }
         },
         "name": "Non-Motor_assessments",
         "orientation": "v",
         "text": "",
         "type": "bar",
         "x": [
          2,
          4,
          6
         ],
         "y": [
          533,
          334,
          104
         ]
        },
        {
         "marker": {
          "color": "rgba(50, 171, 96, 0.6)",
          "line": {
           "color": "rgba(50, 171, 96, 1.0)",
           "width": 1
          }
         },
         "name": "Medical_General",
         "orientation": "v",
         "text": "",
         "type": "bar",
         "x": [
          2,
          4,
          6
         ],
         "y": [
          944,
          944,
          944
         ]
        },
        {
         "marker": {
          "color": "rgba(128, 0, 128, 0.6)",
          "line": {
           "color": "rgba(128, 0, 128, 1.0)",
           "width": 1
          }
         },
         "name": "PD_Progression_motor",
         "orientation": "v",
         "text": "",
         "type": "bar",
         "x": [
          2,
          4,
          6
         ],
         "y": [
          814,
          668,
          603
         ]
        },
        {
         "marker": {
          "color": "rgba(219, 64, 82, 0.6)",
          "line": {
           "color": "rgba(219, 64, 82, 1.0)",
           "width": 1
          }
         },
         "name": "medications_data",
         "orientation": "v",
         "text": "",
         "type": "bar",
         "x": [
          2,
          4,
          6
         ],
         "y": [
          697,
          607,
          514
         ]
        },
        {
         "marker": {
          "color": "rgba(0, 128, 128, 0.6)",
          "line": {
           "color": "rgba(0, 128, 128, 1.0)",
           "width": 1
          }
         },
         "name": "targets",
         "orientation": "v",
         "text": "",
         "type": "bar",
         "x": [
          2,
          4,
          6
         ],
         "y": [
          814,
          687,
          629
         ]
        }
       ],
       "layout": {
        "legend": {
         "bgcolor": "#F5F6F9",
         "font": {
          "color": "#4D5663"
         }
        },
        "paper_bgcolor": "#F5F6F9",
        "plot_bgcolor": "#F5F6F9",
        "title": "number of patients per table for each number of visits threshold",
        "titlefont": {
         "color": "#4D5663"
        },
        "xaxis1": {
         "gridcolor": "#E1E5ED",
         "showgrid": true,
         "tickfont": {
          "color": "#4D5663"
         },
         "title": "number of visits thresold",
         "titlefont": {
          "color": "#4D5663"
         },
         "zerolinecolor": "#E1E5ED"
        },
        "yaxis1": {
         "gridcolor": "#E1E5ED",
         "showgrid": true,
         "tickfont": {
          "color": "#4D5663"
         },
         "title": "number of patients per table",
         "titlefont": {
          "color": "#4D5663"
         },
         "zerolinecolor": "#E1E5ED"
        }
       }
      },
      "text/html": [
       "<div id=\"f68b6e23-d63b-411f-9b62-ae74d49e82dc\" style=\"height: 525px; width: 100%;\" class=\"plotly-graph-div\"></div><script type=\"text/javascript\">require([\"plotly\"], function(Plotly) { window.PLOTLYENV=window.PLOTLYENV || {};window.PLOTLYENV.BASE_URL=\"https://plot.ly\";Plotly.newPlot(\"f68b6e23-d63b-411f-9b62-ae74d49e82dc\", [{\"type\": \"bar\", \"x\": [2, 4, 6], \"y\": [683, 476, 195], \"name\": \"PD_features\", \"text\": \"\", \"marker\": {\"color\": \"rgba(255, 153, 51, 0.6)\", \"line\": {\"color\": \"rgba(255, 153, 51, 1.0)\", \"width\": 1}}, \"orientation\": \"v\"}, {\"type\": \"bar\", \"x\": [2, 4, 6], \"y\": [533, 334, 104], \"name\": \"Non-Motor_assessments\", \"text\": \"\", \"marker\": {\"color\": \"rgba(55, 128, 191, 0.6)\", \"line\": {\"color\": \"rgba(55, 128, 191, 1.0)\", \"width\": 1}}, \"orientation\": \"v\"}, {\"type\": \"bar\", \"x\": [2, 4, 6], \"y\": [944, 944, 944], \"name\": \"Medical_General\", \"text\": \"\", \"marker\": {\"color\": \"rgba(50, 171, 96, 0.6)\", \"line\": {\"color\": \"rgba(50, 171, 96, 1.0)\", \"width\": 1}}, \"orientation\": \"v\"}, {\"type\": \"bar\", \"x\": [2, 4, 6], \"y\": [814, 668, 603], \"name\": \"PD_Progression_motor\", \"text\": \"\", \"marker\": {\"color\": \"rgba(128, 0, 128, 0.6)\", \"line\": {\"color\": \"rgba(128, 0, 128, 1.0)\", \"width\": 1}}, \"orientation\": \"v\"}, {\"type\": \"bar\", \"x\": [2, 4, 6], \"y\": [697, 607, 514], \"name\": \"medications_data\", \"text\": \"\", \"marker\": {\"color\": \"rgba(219, 64, 82, 0.6)\", \"line\": {\"color\": \"rgba(219, 64, 82, 1.0)\", \"width\": 1}}, \"orientation\": \"v\"}, {\"type\": \"bar\", \"x\": [2, 4, 6], \"y\": [814, 687, 629], \"name\": \"targets\", \"text\": \"\", \"marker\": {\"color\": \"rgba(0, 128, 128, 0.6)\", \"line\": {\"color\": \"rgba(0, 128, 128, 1.0)\", \"width\": 1}}, \"orientation\": \"v\"}], {\"legend\": {\"bgcolor\": \"#F5F6F9\", \"font\": {\"color\": \"#4D5663\"}}, \"paper_bgcolor\": \"#F5F6F9\", \"plot_bgcolor\": \"#F5F6F9\", \"yaxis1\": {\"tickfont\": {\"color\": \"#4D5663\"}, \"gridcolor\": \"#E1E5ED\", \"titlefont\": {\"color\": \"#4D5663\"}, \"zerolinecolor\": \"#E1E5ED\", \"showgrid\": true, \"title\": \"number of patients per table\"}, \"xaxis1\": {\"tickfont\": {\"color\": \"#4D5663\"}, \"gridcolor\": \"#E1E5ED\", \"titlefont\": {\"color\": \"#4D5663\"}, \"zerolinecolor\": \"#E1E5ED\", \"showgrid\": true, \"title\": \"number of visits thresold\"}, \"titlefont\": {\"color\": \"#4D5663\"}, \"title\": \"number of patients per table for each number of visits threshold\"}, {\"showLink\": true, \"linkText\": \"Export to plot.ly\"})});</script>"
      ],
      "text/vnd.plotly.v1+html": [
       "<div id=\"f68b6e23-d63b-411f-9b62-ae74d49e82dc\" style=\"height: 525px; width: 100%;\" class=\"plotly-graph-div\"></div><script type=\"text/javascript\">require([\"plotly\"], function(Plotly) { window.PLOTLYENV=window.PLOTLYENV || {};window.PLOTLYENV.BASE_URL=\"https://plot.ly\";Plotly.newPlot(\"f68b6e23-d63b-411f-9b62-ae74d49e82dc\", [{\"type\": \"bar\", \"x\": [2, 4, 6], \"y\": [683, 476, 195], \"name\": \"PD_features\", \"text\": \"\", \"marker\": {\"color\": \"rgba(255, 153, 51, 0.6)\", \"line\": {\"color\": \"rgba(255, 153, 51, 1.0)\", \"width\": 1}}, \"orientation\": \"v\"}, {\"type\": \"bar\", \"x\": [2, 4, 6], \"y\": [533, 334, 104], \"name\": \"Non-Motor_assessments\", \"text\": \"\", \"marker\": {\"color\": \"rgba(55, 128, 191, 0.6)\", \"line\": {\"color\": \"rgba(55, 128, 191, 1.0)\", \"width\": 1}}, \"orientation\": \"v\"}, {\"type\": \"bar\", \"x\": [2, 4, 6], \"y\": [944, 944, 944], \"name\": \"Medical_General\", \"text\": \"\", \"marker\": {\"color\": \"rgba(50, 171, 96, 0.6)\", \"line\": {\"color\": \"rgba(50, 171, 96, 1.0)\", \"width\": 1}}, \"orientation\": \"v\"}, {\"type\": \"bar\", \"x\": [2, 4, 6], \"y\": [814, 668, 603], \"name\": \"PD_Progression_motor\", \"text\": \"\", \"marker\": {\"color\": \"rgba(128, 0, 128, 0.6)\", \"line\": {\"color\": \"rgba(128, 0, 128, 1.0)\", \"width\": 1}}, \"orientation\": \"v\"}, {\"type\": \"bar\", \"x\": [2, 4, 6], \"y\": [697, 607, 514], \"name\": \"medications_data\", \"text\": \"\", \"marker\": {\"color\": \"rgba(219, 64, 82, 0.6)\", \"line\": {\"color\": \"rgba(219, 64, 82, 1.0)\", \"width\": 1}}, \"orientation\": \"v\"}, {\"type\": \"bar\", \"x\": [2, 4, 6], \"y\": [814, 687, 629], \"name\": \"targets\", \"text\": \"\", \"marker\": {\"color\": \"rgba(0, 128, 128, 0.6)\", \"line\": {\"color\": \"rgba(0, 128, 128, 1.0)\", \"width\": 1}}, \"orientation\": \"v\"}], {\"legend\": {\"bgcolor\": \"#F5F6F9\", \"font\": {\"color\": \"#4D5663\"}}, \"paper_bgcolor\": \"#F5F6F9\", \"plot_bgcolor\": \"#F5F6F9\", \"yaxis1\": {\"tickfont\": {\"color\": \"#4D5663\"}, \"gridcolor\": \"#E1E5ED\", \"titlefont\": {\"color\": \"#4D5663\"}, \"zerolinecolor\": \"#E1E5ED\", \"showgrid\": true, \"title\": \"number of patients per table\"}, \"xaxis1\": {\"tickfont\": {\"color\": \"#4D5663\"}, \"gridcolor\": \"#E1E5ED\", \"titlefont\": {\"color\": \"#4D5663\"}, \"zerolinecolor\": \"#E1E5ED\", \"showgrid\": true, \"title\": \"number of visits thresold\"}, \"titlefont\": {\"color\": \"#4D5663\"}, \"title\": \"number of patients per table for each number of visits threshold\"}, {\"showLink\": true, \"linkText\": \"Export to plot.ly\"})});</script>"
      ]
     },
     "metadata": {},
     "output_type": "display_data"
    }
   ],
   "source": [
    "import cufflinks as cf\n",
    "# Configure it to work offline:\n",
    "cf.go_offline(connected=True)\n",
    "\n",
    "dfPlot_patients.iplot(kind='bar',\n",
    "                              bins=list(dfPlot_patients.index),\n",
    "                              title='number of patients per table for each number of visits threshold',\n",
    "                              xTitle='number of visits thresold',\n",
    "                            yTitle='number of patients per table')"
   ]
  },
  {
   "cell_type": "code",
   "execution_count": 31,
   "metadata": {},
   "outputs": [
    {
     "data": {
      "application/vnd.plotly.v1+json": {
       "data": [
        {
         "marker": {
          "color": "rgba(255, 153, 51, 0.6)",
          "line": {
           "color": "rgba(255, 153, 51, 1.0)",
           "width": 1
          }
         },
         "name": "PD_features",
         "orientation": "v",
         "text": "",
         "type": "bar",
         "x": [
          2,
          4,
          6
         ],
         "y": [
          3105,
          2608,
          1300
         ]
        },
        {
         "marker": {
          "color": "rgba(55, 128, 191, 0.6)",
          "line": {
           "color": "rgba(55, 128, 191, 1.0)",
           "width": 1
          }
         },
         "name": "Non-Motor_assessments",
         "orientation": "v",
         "text": "",
         "type": "bar",
         "x": [
          2,
          4,
          6
         ],
         "y": [
          2175,
          1692,
          625
         ]
        },
        {
         "marker": {
          "color": "rgba(50, 171, 96, 0.6)",
          "line": {
           "color": "rgba(50, 171, 96, 1.0)",
           "width": 1
          }
         },
         "name": "PD_Progression_motor",
         "orientation": "v",
         "text": "",
         "type": "bar",
         "x": [
          2,
          4,
          6
         ],
         "y": [
          8811,
          8473,
          8177
         ]
        },
        {
         "marker": {
          "color": "rgba(128, 0, 128, 0.6)",
          "line": {
           "color": "rgba(128, 0, 128, 1.0)",
           "width": 1
          }
         },
         "name": "medications_data",
         "orientation": "v",
         "text": "",
         "type": "bar",
         "x": [
          2,
          4,
          6
         ],
         "y": [
          5969,
          5745,
          5324
         ]
        },
        {
         "marker": {
          "color": "rgba(219, 64, 82, 0.6)",
          "line": {
           "color": "rgba(219, 64, 82, 1.0)",
           "width": 1
          }
         },
         "name": "targets",
         "orientation": "v",
         "text": "",
         "type": "bar",
         "x": [
          2,
          4,
          6
         ],
         "y": [
          9182,
          8890,
          8625
         ]
        }
       ],
       "layout": {
        "legend": {
         "bgcolor": "#F5F6F9",
         "font": {
          "color": "#4D5663"
         }
        },
        "paper_bgcolor": "#F5F6F9",
        "plot_bgcolor": "#F5F6F9",
        "title": "number of samples per table for each number of visits threshold",
        "titlefont": {
         "color": "#4D5663"
        },
        "xaxis1": {
         "gridcolor": "#E1E5ED",
         "showgrid": true,
         "tickfont": {
          "color": "#4D5663"
         },
         "title": "number of visits thresold",
         "titlefont": {
          "color": "#4D5663"
         },
         "zerolinecolor": "#E1E5ED"
        },
        "yaxis1": {
         "gridcolor": "#E1E5ED",
         "showgrid": true,
         "tickfont": {
          "color": "#4D5663"
         },
         "title": "number of samples per table",
         "titlefont": {
          "color": "#4D5663"
         },
         "zerolinecolor": "#E1E5ED"
        }
       }
      },
      "text/html": [
       "<div id=\"03290aea-79e8-43ba-8483-faa9f7a498d9\" style=\"height: 525px; width: 100%;\" class=\"plotly-graph-div\"></div><script type=\"text/javascript\">require([\"plotly\"], function(Plotly) { window.PLOTLYENV=window.PLOTLYENV || {};window.PLOTLYENV.BASE_URL=\"https://plot.ly\";Plotly.newPlot(\"03290aea-79e8-43ba-8483-faa9f7a498d9\", [{\"type\": \"bar\", \"x\": [2, 4, 6], \"y\": [3105, 2608, 1300], \"name\": \"PD_features\", \"text\": \"\", \"marker\": {\"color\": \"rgba(255, 153, 51, 0.6)\", \"line\": {\"color\": \"rgba(255, 153, 51, 1.0)\", \"width\": 1}}, \"orientation\": \"v\"}, {\"type\": \"bar\", \"x\": [2, 4, 6], \"y\": [2175, 1692, 625], \"name\": \"Non-Motor_assessments\", \"text\": \"\", \"marker\": {\"color\": \"rgba(55, 128, 191, 0.6)\", \"line\": {\"color\": \"rgba(55, 128, 191, 1.0)\", \"width\": 1}}, \"orientation\": \"v\"}, {\"type\": \"bar\", \"x\": [2, 4, 6], \"y\": [8811, 8473, 8177], \"name\": \"PD_Progression_motor\", \"text\": \"\", \"marker\": {\"color\": \"rgba(50, 171, 96, 0.6)\", \"line\": {\"color\": \"rgba(50, 171, 96, 1.0)\", \"width\": 1}}, \"orientation\": \"v\"}, {\"type\": \"bar\", \"x\": [2, 4, 6], \"y\": [5969, 5745, 5324], \"name\": \"medications_data\", \"text\": \"\", \"marker\": {\"color\": \"rgba(128, 0, 128, 0.6)\", \"line\": {\"color\": \"rgba(128, 0, 128, 1.0)\", \"width\": 1}}, \"orientation\": \"v\"}, {\"type\": \"bar\", \"x\": [2, 4, 6], \"y\": [9182, 8890, 8625], \"name\": \"targets\", \"text\": \"\", \"marker\": {\"color\": \"rgba(219, 64, 82, 0.6)\", \"line\": {\"color\": \"rgba(219, 64, 82, 1.0)\", \"width\": 1}}, \"orientation\": \"v\"}], {\"legend\": {\"bgcolor\": \"#F5F6F9\", \"font\": {\"color\": \"#4D5663\"}}, \"paper_bgcolor\": \"#F5F6F9\", \"plot_bgcolor\": \"#F5F6F9\", \"yaxis1\": {\"tickfont\": {\"color\": \"#4D5663\"}, \"gridcolor\": \"#E1E5ED\", \"titlefont\": {\"color\": \"#4D5663\"}, \"zerolinecolor\": \"#E1E5ED\", \"showgrid\": true, \"title\": \"number of samples per table\"}, \"xaxis1\": {\"tickfont\": {\"color\": \"#4D5663\"}, \"gridcolor\": \"#E1E5ED\", \"titlefont\": {\"color\": \"#4D5663\"}, \"zerolinecolor\": \"#E1E5ED\", \"showgrid\": true, \"title\": \"number of visits thresold\"}, \"titlefont\": {\"color\": \"#4D5663\"}, \"title\": \"number of samples per table for each number of visits threshold\"}, {\"showLink\": true, \"linkText\": \"Export to plot.ly\"})});</script>"
      ],
      "text/vnd.plotly.v1+html": [
       "<div id=\"03290aea-79e8-43ba-8483-faa9f7a498d9\" style=\"height: 525px; width: 100%;\" class=\"plotly-graph-div\"></div><script type=\"text/javascript\">require([\"plotly\"], function(Plotly) { window.PLOTLYENV=window.PLOTLYENV || {};window.PLOTLYENV.BASE_URL=\"https://plot.ly\";Plotly.newPlot(\"03290aea-79e8-43ba-8483-faa9f7a498d9\", [{\"type\": \"bar\", \"x\": [2, 4, 6], \"y\": [3105, 2608, 1300], \"name\": \"PD_features\", \"text\": \"\", \"marker\": {\"color\": \"rgba(255, 153, 51, 0.6)\", \"line\": {\"color\": \"rgba(255, 153, 51, 1.0)\", \"width\": 1}}, \"orientation\": \"v\"}, {\"type\": \"bar\", \"x\": [2, 4, 6], \"y\": [2175, 1692, 625], \"name\": \"Non-Motor_assessments\", \"text\": \"\", \"marker\": {\"color\": \"rgba(55, 128, 191, 0.6)\", \"line\": {\"color\": \"rgba(55, 128, 191, 1.0)\", \"width\": 1}}, \"orientation\": \"v\"}, {\"type\": \"bar\", \"x\": [2, 4, 6], \"y\": [8811, 8473, 8177], \"name\": \"PD_Progression_motor\", \"text\": \"\", \"marker\": {\"color\": \"rgba(50, 171, 96, 0.6)\", \"line\": {\"color\": \"rgba(50, 171, 96, 1.0)\", \"width\": 1}}, \"orientation\": \"v\"}, {\"type\": \"bar\", \"x\": [2, 4, 6], \"y\": [5969, 5745, 5324], \"name\": \"medications_data\", \"text\": \"\", \"marker\": {\"color\": \"rgba(128, 0, 128, 0.6)\", \"line\": {\"color\": \"rgba(128, 0, 128, 1.0)\", \"width\": 1}}, \"orientation\": \"v\"}, {\"type\": \"bar\", \"x\": [2, 4, 6], \"y\": [9182, 8890, 8625], \"name\": \"targets\", \"text\": \"\", \"marker\": {\"color\": \"rgba(219, 64, 82, 0.6)\", \"line\": {\"color\": \"rgba(219, 64, 82, 1.0)\", \"width\": 1}}, \"orientation\": \"v\"}], {\"legend\": {\"bgcolor\": \"#F5F6F9\", \"font\": {\"color\": \"#4D5663\"}}, \"paper_bgcolor\": \"#F5F6F9\", \"plot_bgcolor\": \"#F5F6F9\", \"yaxis1\": {\"tickfont\": {\"color\": \"#4D5663\"}, \"gridcolor\": \"#E1E5ED\", \"titlefont\": {\"color\": \"#4D5663\"}, \"zerolinecolor\": \"#E1E5ED\", \"showgrid\": true, \"title\": \"number of samples per table\"}, \"xaxis1\": {\"tickfont\": {\"color\": \"#4D5663\"}, \"gridcolor\": \"#E1E5ED\", \"titlefont\": {\"color\": \"#4D5663\"}, \"zerolinecolor\": \"#E1E5ED\", \"showgrid\": true, \"title\": \"number of visits thresold\"}, \"titlefont\": {\"color\": \"#4D5663\"}, \"title\": \"number of samples per table for each number of visits threshold\"}, {\"showLink\": true, \"linkText\": \"Export to plot.ly\"})});</script>"
      ]
     },
     "metadata": {},
     "output_type": "display_data"
    }
   ],
   "source": [
    "dfPlot_samples2=dfPlot_samples.drop(columns='Medical_General')\n",
    "dfPlot_samples2.iplot(kind='bar',\n",
    "                              bins=list(dfPlot_samples2.index),\n",
    "                              title='number of samples per table for each number of visits threshold',\n",
    "                              xTitle='number of visits thresold',\n",
    "                            yTitle='number of samples per table')"
   ]
  },
  {
   "cell_type": "markdown",
   "metadata": {},
   "source": [
    "## Merging all df"
   ]
  },
  {
   "cell_type": "code",
   "execution_count": 32,
   "metadata": {},
   "outputs": [
    {
     "data": {
      "text/plain": [
       "1423"
      ]
     },
     "execution_count": 32,
     "metadata": {},
     "output_type": "execute_result"
    }
   ],
   "source": [
    "intersect=list(((set(PD_features['PATNO'])) & (set(Medical_General['PATNO']))))\n",
    "len(intersect)"
   ]
  },
  {
   "cell_type": "code",
   "execution_count": 33,
   "metadata": {},
   "outputs": [
    {
     "ename": "NameError",
     "evalue": "name 'all_df' is not defined",
     "output_type": "error",
     "traceback": [
      "\u001b[0;31m---------------------------------------------------------------------------\u001b[0m",
      "\u001b[0;31mNameError\u001b[0m                                 Traceback (most recent call last)",
      "\u001b[0;32m<ipython-input-33-8b285f8690d3>\u001b[0m in \u001b[0;36m<module>\u001b[0;34m()\u001b[0m\n\u001b[1;32m      1\u001b[0m \u001b[0;31m## issue to solve!!!\u001b[0m\u001b[0;34m\u001b[0m\u001b[0;34m\u001b[0m\u001b[0m\n\u001b[1;32m      2\u001b[0m \u001b[0mall_features\u001b[0m\u001b[0;34m=\u001b[0m\u001b[0;34m[\u001b[0m\u001b[0mPD_features\u001b[0m\u001b[0;34m,\u001b[0m\u001b[0mMedical_General\u001b[0m\u001b[0;34m,\u001b[0m\u001b[0mPD_Progression_motor\u001b[0m\u001b[0;34m,\u001b[0m\u001b[0mmedications_data\u001b[0m\u001b[0;34m,\u001b[0m\u001b[0mtargets\u001b[0m\u001b[0;34m]\u001b[0m\u001b[0;34m\u001b[0m\u001b[0m\n\u001b[0;32m----> 3\u001b[0;31m \u001b[0mdf_allFeatures\u001b[0m\u001b[0;34m=\u001b[0m\u001b[0mmerge_multiple_df\u001b[0m\u001b[0;34m(\u001b[0m\u001b[0mall_df\u001b[0m\u001b[0;34m,\u001b[0m\u001b[0mon\u001b[0m\u001b[0;34m=\u001b[0m\u001b[0;34m[\u001b[0m\u001b[0;34m'PATNO'\u001b[0m\u001b[0;34m,\u001b[0m\u001b[0;34m'INFODT'\u001b[0m\u001b[0;34m]\u001b[0m\u001b[0;34m)\u001b[0m\u001b[0;34m\u001b[0m\u001b[0m\n\u001b[0m\u001b[1;32m      4\u001b[0m \u001b[0mdf_allFeatures\u001b[0m\u001b[0;34m\u001b[0m\u001b[0m\n",
      "\u001b[0;31mNameError\u001b[0m: name 'all_df' is not defined"
     ]
    }
   ],
   "source": [
    "## issue to solve!!! \n",
    "all_features=[PD_features,Medical_General,PD_Progression_motor,medications_data,targets]\n",
    "df_allFeatures=merge_multiple_df(all_df,on=['PATNO','INFODT'])\n",
    "df_allFeatures"
   ]
  },
  {
   "cell_type": "code",
   "execution_count": null,
   "metadata": {},
   "outputs": [],
   "source": []
  }
 ],
 "metadata": {
  "kernelspec": {
   "display_name": "Python 3",
   "language": "python",
   "name": "python3"
  },
  "language_info": {
   "codemirror_mode": {
    "name": "ipython",
    "version": 3
   },
   "file_extension": ".py",
   "mimetype": "text/x-python",
   "name": "python",
   "nbconvert_exporter": "python",
   "pygments_lexer": "ipython3",
   "version": "3.6.4"
  }
 },
 "nbformat": 4,
 "nbformat_minor": 2
}
