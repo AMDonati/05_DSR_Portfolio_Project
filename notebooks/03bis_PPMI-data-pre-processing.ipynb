{
 "cells": [
  {
   "cell_type": "markdown",
   "metadata": {},
   "source": [
    "### To do - August 20th\n",
    "* Look at the 4 merged df and do additionnal features selection\n",
    "* Drop or fill NaN values\n",
    "* Save final df as csv files in output/pre-processing"
   ]
  },
  {
   "cell_type": "markdown",
   "metadata": {},
   "source": [
    "### Data Frame Merging Roadmap\n",
    "#### 1. PD Feat\n",
    "* DIAGFEAT\n",
    "* EPWORTH\n",
    "* LNSPD\n",
    "* REMSLEEP\n",
    "* SCOPAAUT\n",
    "* COGATG\n",
    "* HVLT\n",
    "* MOCA\n",
    "* GDSSHORT\n",
    "* SDM\n",
    "* STAI\n",
    "* BENTONOD\n",
    "* QUIPCS\n",
    "#### 2. Gen Medical info\n",
    "* GENPHYEX\n",
    "* PENEURO\n",
    "* PENEURO2\n",
    "* VITAL\n",
    "#### 3. PD Progression measurements (motors)\n",
    "* NUPDRS1\n",
    "* NUPDRS2P\n",
    "* NUPDR3\n",
    "* NUPDRS4\n",
    "* (PASELT)\n",
    "* MODSEADL\n",
    "#### 4. Medications data\n",
    "* PDMEDUSE\n",
    "* (CURRCOND)\n",
    "* SURGPD"
   ]
  },
  {
   "cell_type": "code",
   "execution_count": 1,
   "metadata": {},
   "outputs": [],
   "source": [
    "#imports \n",
    "import numpy as np \n",
    "import pandas as pd \n",
    "import matplotlib.pyplot as plt\n",
    "import urllib.parse\n",
    "from glob import glob\n",
    "import os\n",
    "import ntpath \n",
    "import zipfile\n",
    "\n",
    "PPMI_path='/Users/alicemartin/02_DSR_Project/parkinson-disease-project/data/'"
   ]
  },
  {
   "cell_type": "code",
   "execution_count": 2,
   "metadata": {},
   "outputs": [],
   "source": [
    "def reading_csv_files(folder_path):\n",
    "    # saving all the csv files in a dataframe\n",
    "    import os\n",
    "    import glob\n",
    "    # glob.glob('*.csv') #find all the csv files in a pathname. \n",
    "    os.chdir(folder_path)\n",
    "    csv_files = [i for i in glob.glob('*.csv')]\n",
    "\n",
    "    # Reading each csv file and storing them in a dictionnary containing the file name and the dataframe\n",
    "    dict_files={}\n",
    "    files_names=[]\n",
    "    for files in csv_files:\n",
    "        df=pd.read_csv(files,engine='python')\n",
    "        basepath, filename=ntpath.split(files)\n",
    "        files_names.append(filename)\n",
    "        dict_files[filename]=df\n",
    "\n",
    "    # Calculating the # of rows and features for each dataframe and storing them in a list of tuples\n",
    "    shape_df=[]\n",
    "    for i in range(0,len(dict_files.keys())):\n",
    "        nrows, ncols=(len(dict_files[files_names[i]]),len(dict_files[files_names[i]].columns))\n",
    "        shape_df.append((nrows,ncols))\n",
    "\n",
    "    return (shape_df,files_names,dict_files)"
   ]
  },
  {
   "cell_type": "code",
   "execution_count": 3,
   "metadata": {},
   "outputs": [],
   "source": [
    "def number_of_patients(df):\n",
    "    '''return the number of patients in each csv files'''\n",
    "    if 'PATNO' in df.columns:\n",
    "        patients=len(list(set(df['PATNO'])))\n",
    "    else: \n",
    "        patients=0\n",
    "    return patients"
   ]
  },
  {
   "cell_type": "code",
   "execution_count": 4,
   "metadata": {},
   "outputs": [],
   "source": [
    "def number_of_events(df): \n",
    "    '''return the number of events covered by each csv file'''\n",
    "    if 'EVENT_ID' in df.columns:\n",
    "        events=len(list(set(df['EVENT_ID'])))\n",
    "    else: \n",
    "        events=0\n",
    "    return events"
   ]
  },
  {
   "cell_type": "code",
   "execution_count": 5,
   "metadata": {},
   "outputs": [],
   "source": [
    "def features_selection(list_df_SEL):\n",
    "    '''do features selection for each df,sel in list_df_sel (dictionnary)'''\n",
    "    return "
   ]
  },
  {
   "cell_type": "code",
   "execution_count": 6,
   "metadata": {},
   "outputs": [],
   "source": [
    "def patients_selection(df, threshold=6):\n",
    "    '''return a dataframe containing only the patients with number of visits > threshold'''\n",
    "    if 'PATNO' in df.columns: \n",
    "        visits_number_by_pat=df.groupby('PATNO').size().sort_values(ascending=False)\n",
    "        mask_sel=visits_number_by_pat>=threshold\n",
    "        patients_sel=list(mask_sel[mask_sel.values==True].index)\n",
    "        df=df.loc[df['PATNO'].isin(patients_sel),:]\n",
    "        df=df.sort_values('PATNO')\n",
    "        return (patients_sel, df)\n",
    "    else:\n",
    "        return 0"
   ]
  },
  {
   "cell_type": "code",
   "execution_count": 7,
   "metadata": {},
   "outputs": [],
   "source": [
    "def PD_patients_selection(df):\n",
    "    folder_path='/Users/alicemartin/02_DSR_Project/parkinson-disease-project/data/PPMI-final-dataset-382018/1-Subject-Characteristics/'\n",
    "    files_names=reading_csv_files(folder_path)[1]\n",
    "    dict_files=reading_csv_files(folder_path)[2]\n",
    "\n",
    "    ### Patient_Status - actually useful for selecting only the PD patients in each table\n",
    "    PRODROMA=dict_files[files_names[0]]\n",
    "    PD_cat=['PD','REGPD','GENPD']\n",
    "    PD_patients=list(PRODROMA.loc[PRODROMA['RECRUITMENT_CAT'].isin(PD_cat),'PATNO'])\n",
    "    sub_df=df.loc[df['PATNO'].isin(PD_patients),:]\n",
    "    return (PD_patients,sub_df)"
   ]
  },
  {
   "cell_type": "code",
   "execution_count": 8,
   "metadata": {},
   "outputs": [],
   "source": [
    "def table_analysis(list_df,df_names,threshold=6): \n",
    "    '''return a dataframe with: \n",
    "    -as rows: list of df\n",
    "    -as columns: \n",
    "        - total number of observations=rows\n",
    "        - total number of features=columns after features_selection - features_selection function \n",
    "        - number of events\n",
    "        - number of PD patients by using PRODROMA info - number_of_patients function\n",
    "        - number of patients with # of visits > threshold - number_of_patients function\n",
    "        - shape of final df after selections of rows and columns\n",
    "        -number of NaN values in the final df\n",
    "        NB: takes as input the df with features selection. \n",
    "    '''   \n",
    "    # initialisation df\n",
    "    col=['observations_tot','features','events_num','patients_num','patients_sel','len_df_sel','NaN_values']\n",
    "    df_df=pd.DataFrame(columns=col,index=df_names)\n",
    "\n",
    "    # remplissage of dataframe for each row\n",
    "    for i,df in enumerate(list_df): \n",
    "        df_df.iloc[i,:]['observations_tot']=len(df)\n",
    "        df_df.iloc[i,:]['features']=len(df.columns)\n",
    "        df_df.iloc[i,:]['events_num']=number_of_events(df)\n",
    "        df_df.iloc[i,:]['patients_num']=number_of_patients(df)\n",
    "        \n",
    "        if not patients_selection(df)==0:\n",
    "            df=patients_selection(df,threshold=threshold)[1]\n",
    "            df=PD_patients_selection(df)[1]          \n",
    "            df_df.iloc[i,:]['patients_sel']=len(set(df['PATNO']))\n",
    "        else: \n",
    "            if 'PATNO' in df.columns:\n",
    "                df=PD_patients_selection(df)[1]\n",
    "                df_df.iloc[i,:]['patients_sel']=len(set(df['PATNO']))\n",
    "            else:\n",
    "                df_df.iloc[i,:]['patients_sel']=0            \n",
    "        df_df.iloc[i,:]['len_df_sel']=len(df)\n",
    "        df_df.iloc[i,:]['NaN_values']=(df.isnull().sum().sum())/(df_df.iloc[i,:]['len_df_sel']*df_df.iloc[i,:]['features'])\n",
    "        \n",
    "    return df_df"
   ]
  },
  {
   "cell_type": "code",
   "execution_count": 31,
   "metadata": {},
   "outputs": [],
   "source": [
    "def INFODT_date(df):\n",
    "    if 'INFODT' in df.columns: \n",
    "        df['INFODT_date']=df['INFODT'].apply(lambda x: datetime.strptime(x,'%m/%Y'))\n",
    "    return df"
   ]
  },
  {
   "cell_type": "code",
   "execution_count": 44,
   "metadata": {},
   "outputs": [],
   "source": [
    "def merge(df_left,df_right,on=['PATNO','EVENT_ID','INFODT'],how='inner'): \n",
    "    df=pd.merge(df_left,df_right,on=on,how=how)\n",
    "    return df"
   ]
  },
  {
   "cell_type": "code",
   "execution_count": 45,
   "metadata": {},
   "outputs": [],
   "source": [
    "def merge_multiple_df(list_df): \n",
    "    ## Merging the PD features\n",
    "    merged_df=merge(list_df[0],list_df[1])\n",
    "    print((len(merged_df)),len(set(merged_df['PATNO'])))\n",
    "    for df in list_df[2:]: \n",
    "        merged_df=merge(merged_df,df)\n",
    "        print((len(merged_df)),len(set(merged_df['PATNO'])))\n",
    "    return merged_df"
   ]
  },
  {
   "cell_type": "markdown",
   "metadata": {},
   "source": [
    "## 5-Medical History\n",
    "### PDFEAT is important - keep it."
   ]
  },
  {
   "cell_type": "code",
   "execution_count": 36,
   "metadata": {},
   "outputs": [],
   "source": [
    "## 5-Medical History\n",
    "### PDFEAT is important - keep it.\n",
    "\n",
    "folder_path='/Users/alicemartin/02_DSR_Project/parkinson-disease-project/data/PPMI-final-dataset-382018/5-Medical-History/'\n",
    "files_names=reading_csv_files(folder_path)[1]\n",
    "dict_files=reading_csv_files(folder_path)[2]\n",
    "\n",
    "### 'Diagnostic_Features.csv': useful: Feat-PD - 1670 patients.\n",
    "DIAGFEAT=dict_files[files_names[1]]\n",
    "SEL=['REC_ID', 'PATNO', 'EVENT_ID', 'PAG_NAME', 'INFODT',\n",
    "       'DFSTROKE', 'DFRSKFCT', 'DFPRESNT', 'DFRPROG', 'DFSTATIC', 'DFHEMPRK',\n",
    "       'DFAGESX', 'DFOTHCRS', 'DFCRSCM', 'DFRTREMP', 'DFRTREMA', 'DFPATREM',\n",
    "       'DFOTHTRM', 'DFTREMCM', 'DFRIGIDP', 'DFRIGIDA', 'DFAXRIG', 'DFUNIRIG',\n",
    "       'DFTONE', 'DFOTHRIG', 'DFRIGCM', 'DFBRADYP', 'DFBRADYA', 'DFAKINES',\n",
    "       'DFBRPLUS', 'DFOTHABR', 'DFABRCM', 'DFPGDIST', 'DFGAIT', 'DFFREEZ',\n",
    "       'DFFALLS', 'DFOTHPG', 'DFPGCM', 'DFPSYCH', 'DFCOGNIT', 'DFDYSTON',\n",
    "       'DFCHOREA', 'DFMYOCLO', 'DFOTHHYP', 'DFHYPCM', 'DFHEMTRO', 'DFPSHYPO',\n",
    "       'DFSEXDYS', 'DFURDYS', 'DFBWLDYS', 'DFOCULO', 'DFEYELID', 'DFNEURAB',\n",
    "       'DFDOPRSP', 'DFRAPSPE', 'DFBULBAR', 'DFCTSCAN', 'DFMRI', 'DFATYP']\n",
    "DIAGFEAT_sel=DIAGFEAT[SEL]\n",
    "\n",
    "### 'General_Medical_History.csv': useful: Feat-Gen - 2067 patients\n",
    "#### NOT TS DATA...\n",
    "MHXGEN=dict_files[files_names[3]]\n",
    "SEL=['REC_ID', 'PATNO', 'EVENT_ID', 'PAG_NAME', 'INFODT',\n",
    "       'MHCAT', 'MHROW', 'MHHX', 'MHACTRES', 'MHDIAGYR', \n",
    "     'PT_CODE', 'PT_NAME', 'HLT_NAME', 'SOCABBR1']\n",
    "# I need probably to select less features here\n",
    "MHXGEN_sel=MHXGEN[SEL]\n",
    "\n",
    "### General_Physical_Exam: useful: Feat-Gen - 2047 patients\n",
    "GENPHYEX=dict_files[files_names[5]]\n",
    "SEL=['REC_ID', 'PATNO', 'EVENT_ID', 'PAG_NAME', 'INFODT',\n",
    "       'PESEQ', 'PECAT', 'ABNORM']\n",
    "GENPHYEX_sel=GENPHYEX[SEL]\n",
    "\n",
    "### 'General_Neurological_Exam.csv': useful: Feat-Gen - 2048 patients\n",
    "PENEURO=dict_files[files_names[7]]\n",
    "SEL=['REC_ID', 'PATNO', 'EVENT_ID', 'PAG_NAME', 'INFODT',\n",
    "       'MSRARSP', 'MSRACM', 'MSLARSP', 'MSLACM', 'MSRLRSP', 'MSRLCM',\n",
    "       'MSLLRSP', 'MSLLCM', 'COFNRRSP', 'COFNRCM', 'COFNLRSP', 'COFNLCM',\n",
    "       'COHSRRSP', 'COHSRCM', 'COHSLRSP', 'COHSLCM', 'SENRARSP', 'SENRACM',\n",
    "       'SENLARSP', 'SENLACM', 'SENRLRSP', 'SENRLCM', 'SENLLRSP', 'SENLLCM',\n",
    "       'RFLRARSP', 'RFLRACM', 'RFLLARSP', 'RFLLACM', 'RFLRLRSP', 'RFLRLCM',\n",
    "       'RFLLLRSP', 'RFLLLCM', 'PLRRRSP', 'PLRRCM', 'PLRLRSP', 'PLRLCM']\n",
    "PENEURO_sel=PENEURO[SEL]\n",
    "\n",
    "### 'Neurological_Exam_-_Cranial_Nerves.csv': useful: Feat-PD - 2049 patients\n",
    "PENEURO2=dict_files[files_names[13]]\n",
    "SEL=['REC_ID', 'PATNO', 'EVENT_ID', 'PAG_NAME', 'INFODT',\n",
    "       'CN1RSP','CN2RSP', 'CN346RSP','CN5RSP',\n",
    "     'CN7RSP', 'CN8RSP', 'CN910RSP',\n",
    "       'CN11RSP', 'CN12RSP']\n",
    "PENEURO2_sel=PENEURO2[SEL]\n",
    "\n",
    "### 'PD_Features.csv': useful: Feat-PD - caution: these are actually not timeseries but examination only done at screening (SC), BL & V04\n",
    "### 1017 patients\n",
    "PDFEAT=dict_files[files_names[14]]\n",
    "SEL=['REC_ID', 'PATNO', 'EVENT_ID', 'PAG_NAME', 'INFODT', 'SXMO',\n",
    "       'SXYEAR', 'PDDXDT', 'DXTREMOR', 'DXRIGID', 'DXBRADY',\n",
    "       'DXPOSINS', 'DXOTHSX','DOMSIDE']\n",
    "PDFEAT_sel=PDFEAT[SEL]\n",
    "#list(set(PDFEAT_sel['DXOTHCM'])) - see if we remove the comment feature or not.\n",
    "\n",
    "### 'Vital_Signs.csv': useful: Feat-Gen\n",
    "### 2047 patients\n",
    "VITAL=dict_files[files_names[15]]\n",
    "SEL=['REC_ID', 'PATNO', 'EVENT_ID', 'PAG_NAME', 'INFODT',\n",
    "       'WGTKG', 'HTCM', 'TEMPC', 'SYSSUP', 'DIASUP', 'HRSUP',\n",
    "       'SYSSTND', 'DIASTND', 'HRSTND']\n",
    "VITAL_sel=VITAL[SEL]\n",
    "\n",
    "## 6-Motor-Assessments - all of them can be useful. \n",
    "#* UPDRS1 assesses non-motor experiences of daily-living \n",
    "#* UPDRS2P assesses motor experiences of daily living\n",
    "#* UPDRS3 assesses motor signs of PD. Includes Hoehn & Yahr Stage. \n",
    "#* UPDRS4 assesses motor complications, dyskinesias, & moto fluctuations using historical & objective information.\n",
    "\n",
    "folder_path='/Users/alicemartin/02_DSR_Project/parkinson-disease-project/data/PPMI-final-dataset-382018/6-Motor-Assessments/'\n",
    "files_names=reading_csv_files(folder_path)[1]\n",
    "dict_files=reading_csv_files(folder_path)[2]\n",
    "\n",
    "### 'MDS_UPDRS_Part_I__Patient_Questionnaire.csv' - 2011 patients\n",
    "NUPDR1SP=dict_files[files_names[0]]\n",
    "\n",
    "### 'MDS_UPDRS_Part_I.csv' - 2010 patients - \n",
    "NUPDRS1=dict_files[files_names[2]]\n",
    "SEL=['REC_ID', 'PATNO', 'EVENT_ID', 'PAG_NAME', 'INFODT',\n",
    "       'NP1COG', 'NP1HALL', 'NP1DPRS', 'NP1ANXS', 'NP1APAT',\n",
    "       'NP1DDS']\n",
    "NUPDRS1_sel=NUPDRS1[SEL]\n",
    "\n",
    "### 'MDS_UPDRS_Part_II__Patient_Questionnaire.csv' - 2011 patients\n",
    "NUPDRS2P=dict_files[files_names[11]]\n",
    "SEL=['REC_ID', 'PATNO', 'EVENT_ID', 'PAG_NAME', 'INFODT',\n",
    "       'NP2SPCH', 'NP2SALV', 'NP2SWAL', 'NP2EAT', 'NP2DRES',\n",
    "       'NP2HYGN', 'NP2HWRT', 'NP2HOBB', 'NP2TURN', 'NP2TRMR', 'NP2RISE',\n",
    "       'NP2WALK', 'NP2FREZ']\n",
    "NUPDRS2P_sel=NUPDRS2P[SEL]\n",
    "\n",
    "### 'MDS_UPDRS_Part_III.csv' - 2010 patients\n",
    "NUPDRS3=dict_files[files_names[7]]\n",
    "SEL=['REC_ID', 'PATNO', 'EVENT_ID', 'PAG_NAME', 'INFODT',\n",
    "       'CMEDTM', 'NP3SPCH', 'NP3FACXP', 'NP3RIGN', 'NP3RIGRU',\n",
    "       'NP3RIGLU', 'PN3RIGRL', 'NP3RIGLL', 'NP3FTAPR', 'NP3FTAPL', 'NP3HMOVR',\n",
    "       'NP3HMOVL', 'NP3PRSPR', 'NP3PRSPL', 'NP3TTAPR', 'NP3TTAPL', 'NP3LGAGR',\n",
    "       'NP3LGAGL', 'NP3RISNG', 'NP3GAIT', 'NP3FRZGT', 'NP3PSTBL', 'NP3POSTR',\n",
    "       'NP3BRADY', 'NP3PTRMR', 'NP3PTRML', 'NP3KTRMR', 'NP3KTRML', 'NP3RTARU',\n",
    "       'NP3RTALU', 'NP3RTARL', 'NP3RTALL', 'NP3RTALJ', 'NP3RTCON', 'DYSKPRES',\n",
    "       'DYSKIRAT', 'NHY', 'ANNUAL_TIME_BTW_DOSE_NUPDRS', 'ON_OFF_DOSE',\n",
    "       'PD_MED_USE']\n",
    "NUPDRS3_sel=NUPDRS3[SEL]\n",
    "\n",
    "### 'MDS_UPDRS_Part_IV.csv' - 860 patients\n",
    "NUPDRS4=dict_files[files_names[5]]\n",
    "SEL=['REC_ID', 'PATNO', 'EVENT_ID', 'PAG_NAME', 'INFODT',\n",
    "       'NP4WDYSK', 'NP4DYSKI', 'NP4OFF', 'NP4FLCTI', 'NP4FLCTX', 'NP4DYSTN']\n",
    "NUPDRS4_sel=NUPDRS4[SEL]\n",
    "\n",
    "### 'PASE_-_Household_Activity.csv' - 1248 patients\n",
    "PASE=dict_files[files_names[3]]\n",
    "\n",
    "### 'PASE_-_Leisure_Time_Activity.csv' - 1248 patients\n",
    "PASELT=dict_files[files_names[10]]\n",
    "\n",
    "### 'Modified_Schwab_+_England_ADL.csv' - 1837 patients\n",
    "MODSEADL=dict_files[files_names[6]]\n",
    "\n",
    "## 7-Non-motor-assessments - all of them can be useful but we might need to choose. \n",
    "### Do a correlation analysis and ask doctors which ones are the more relevant. \n",
    "\n",
    "folder_path='/Users/alicemartin/02_DSR_Project/parkinson-disease-project/data/PPMI-final-dataset-382018/7-Non-motor-assessments/'\n",
    "files_names=reading_csv_files(folder_path)[1]\n",
    "dict_files=reading_csv_files(folder_path)[2]\n",
    "\n",
    "### 'University_of_Pennsylvania_Smell_ID_Test.csv' - 1799 patients - OLFACTION\n",
    "UPSIT=dict_files[files_names[0]]\n",
    "UPSIT.head()\n",
    "\n",
    "### 'Epworth_Sleepiness_Scale.csv - 1343 patients - SLEEP. \n",
    "EPWORTH=dict_files[files_names[2]]\n",
    "EPWORTH.head()\n",
    "\n",
    "### 'Letter_-_Number_Sequencing__PD_.csv' - 1341 patients. - MEMORY. \n",
    "LNSPD=dict_files[files_names[3]]\n",
    "LNSPD.head()\n",
    "\n",
    "### 'Olfactory_UPSIT.csv' - 4468 patients - OLFACTION. \n",
    "#### NB: only take the 2 last columns as features (TOTAL_CORRECT, UPSIIT_PRCNTGE)\n",
    "OLFACT=dict_files[files_names[4]]\n",
    "col_old=list(OLFACT.columns)\n",
    "col_new=['PAT_NO', 'PROTOCOL_ID', 'INFODT', 'SCENT_10_RESPONSE',\n",
    "       'SCENT_09_RESPONSE', 'SCENT_08_RESPONSE', 'SCENT_07_RESPONSE',\n",
    "       'SCENT_06_RESPONSE', 'SCENT_05_RESPONSE', 'SCENT_04_RESPONSE',\n",
    "       'SCENT_03_RESPONSE', 'SCENT_02_RESPONSE', 'SCENT_01_RESPONSE',\n",
    "       'SCENT_20_RESPONSE', 'SCENT_19_RESPONSE', 'SCENT_18_RESPONSE',\n",
    "       'SCENT_17_RESPONSE', 'SCENT_16_RESPONSE', 'SCENT_15_RESPONSE',\n",
    "       'SCENT_14_RESPONSE', 'SCENT_13_RESPONSE', 'SCENT_12_RESPONSE',\n",
    "       'SCENT_11_RESPONSE', 'SCENT_30_RESPONSE', 'SCENT_29_RESPONSE',\n",
    "       'SCENT_28_RESPONSE', 'SCENT_27_RESPONSE', 'SCENT_26_RESPONSE',\n",
    "       'SCENT_25_RESPONSE', 'SCENT_24_RESPONSE', 'SCENT_23_RESPONSE',\n",
    "       'SCENT_22_RESPONSE', 'SCENT_21_RESPONSE', 'SCENT_40_RESPONSE',\n",
    "       'SCENT_39_RESPONSE', 'SCENT_38_RESPONSE', 'SCENT_37_RESPONSE',\n",
    "       'SCENT_36_RESPONSE', 'SCENT_35_RESPONSE', 'SCENT_34_RESPONSE',\n",
    "       'SCENT_33_RESPONSE', 'SCENT_32_RESPONSE', 'SCENT_31_RESPONSE',\n",
    "       'SCENT_10_CORRECT', 'SCENT_09_CORRECT', 'SCENT_08_CORRECT',\n",
    "       'SCENT_07_CORRECT', 'SCENT_06_CORRECT', 'SCENT_05_CORRECT',\n",
    "       'SCENT_04_CORRECT', 'SCENT_03_CORRECT', 'SCENT_02_CORRECT',\n",
    "       'SCENT_01_CORRECT', 'SCENT_20_CORRECT', 'SCENT_19_CORRECT',\n",
    "       'SCENT_18_CORRECT', 'SCENT_17_CORRECT', 'SCENT_16_CORRECT',\n",
    "       'SCENT_15_CORRECT', 'SCENT_14_CORRECT', 'SCENT_13_CORRECT',\n",
    "       'SCENT_12_CORRECT', 'SCENT_11_CORRECT', 'SCENT_30_CORRECT',\n",
    "       'SCENT_29_CORRECT', 'SCENT_28_CORRECT', 'SCENT_27_CORRECT',\n",
    "       'SCENT_26_CORRECT', 'SCENT_25_CORRECT', 'SCENT_24_CORRECT',\n",
    "       'SCENT_23_CORRECT', 'SCENT_22_CORRECT', 'SCENT_21_CORRECT',\n",
    "       'SCENT_40_CORRECT', 'SCENT_39_CORRECT', 'SCENT_38_CORRECT',\n",
    "       'SCENT_37_CORRECT', 'SCENT_36_CORRECT', 'SCENT_35_CORRECT',\n",
    "       'SCENT_34_CORRECT', 'SCENT_33_CORRECT', 'SCENT_32_CORRECT',\n",
    "       'SCENT_31_CORRECT', 'TOTAL_CORRECT', 'UPSIIT_PRCNTGE']\n",
    "col=dict(zip(col_old,col_new))\n",
    "OLFACT.rename(columns=col,inplace=True)\n",
    "SEL=['PAT_NO', 'PROTOCOL_ID', 'INFODT','TOTAL_CORRECT', 'UPSIIT_PRCNTGE']\n",
    "OLFACT_sel=OLFACT[SEL]\n",
    "\n",
    "### 'REM_Sleep_Disorder_Questionnaire.csv' - 1810 patients - SLEEP. \n",
    "REMSLEEP=dict_files[files_names[5]]\n",
    "REMSLEEP.head()\n",
    "\n",
    "### 'Cognitive_Assessments.csv' - 1172 patients\n",
    "COGTIME=dict_files[files_names[6]]\n",
    "COGTIME.head()\n",
    "\n",
    "### 'SCOPA-AUT.csv' - 1345 patients - AUTOMATIC DYSFUNCTIONS\n",
    "SCOPAAUT=dict_files[files_names[7]]\n",
    "SCOPAAUT.head()\n",
    "\n",
    "### Cognitive_Categorization.csv' - 1302 patients - DEMENTIA/MILD COGNITIVE IMPAIRMENT\n",
    "COGCATG=dict_files[files_names[8]]\n",
    "COGCATG.head()\n",
    "\n",
    "### 'Hopkins_Verbal_Learning_Test.csv' - 1341 patients - MEMORY\n",
    "HVLT=dict_files[files_names[9]]\n",
    "HVLT.head()\n",
    "\n",
    "### 'Montreal_Cognitive_Assessment__MoCA_.csv' - 2054 patients - MILD COGNITIVE IMPAIRMENT - PD \n",
    "MOCA=dict_files[files_names[10]]\n",
    "MOCA.head()\n",
    "\n",
    "### 'Semantic_Fluency.csv' - 1342 patients - Lexical/Semantic Fluency\n",
    "SFT=dict_files[files_names[11]]\n",
    "SFT.head()\n",
    "\n",
    "### 'Geriatric_Depression_Scale__Short_.csv' - 1478 patients - DEPRESSION\n",
    "GDSSHORT=dict_files[files_names[12]]\n",
    "GDSSHORT.head()\n",
    "\n",
    "### 'Symbol_Digit_Modalities.csv' - 1340 patients - COGNITIVE IMPAIRMENT. \n",
    "SDM=dict_files[files_names[13]]\n",
    "SDM.head()\n",
    "\n",
    "### 'State-Trait_Anxiety_Inventory.csv' - 1474 patients - DEPRESSION\n",
    "STAI=dict_files[files_names[14]]\n",
    "STAI.head()\n",
    "\n",
    "### 'Benton_Judgment_of_Line_Orientation.csv' - 1341 patients - SPATIAL PERCEPTION/ORIENTATION \n",
    "BENTONOD=dict_files[files_names[15]]\n",
    "BENTONOD.head()\n",
    "\n",
    "### 'QUIP_Current_Short.csv' - 1346 patients - COMPULSIVE DISORDERS\n",
    "QUIPCS=dict_files[files_names[16]]"
   ]
  },
  {
   "cell_type": "code",
   "execution_count": 47,
   "metadata": {},
   "outputs": [
    {
     "name": "stdout",
     "output_type": "stream",
     "text": [
      "3644 1105\n",
      "3023 985\n",
      "3022 985\n",
      "3019 985\n",
      "3006 985\n",
      "3002 985\n",
      "2926 980\n",
      "2924 980\n",
      "2917 978\n",
      "2910 978\n",
      "2904 977\n",
      "2899 976\n"
     ]
    }
   ],
   "source": [
    "## Merging the PD features\n",
    "PD_feat_df=[DIAGFEAT_sel,EPWORTH,LNSPD,REMSLEEP,SCOPAAUT,COGCATG,HVLT,MOCA,GDSSHORT,SDM,STAI,BENTONOD,QUIPCS]\n",
    "PD_features=merge(PD_feat_df[0],PD_feat_df[1])\n",
    "print((len(PD_features)),len(set(PD_features['PATNO'])))\n",
    "for df in PD_feat_df[2:]: \n",
    "    PD_features=merge(PD_features,df)\n",
    "    print((len(PD_features)),len(set(PD_features['PATNO'])))\n",
    "#PD_features.head()"
   ]
  },
  {
   "cell_type": "markdown",
   "metadata": {},
   "source": [
    "## PD Features df"
   ]
  },
  {
   "cell_type": "code",
   "execution_count": 50,
   "metadata": {},
   "outputs": [
    {
     "name": "stdout",
     "output_type": "stream",
     "text": [
      "3644 1105\n",
      "3023 985\n",
      "3022 985\n",
      "3019 985\n",
      "3006 985\n",
      "3002 985\n",
      "2926 980\n",
      "2924 980\n",
      "2917 978\n",
      "2910 978\n",
      "2904 977\n",
      "2899 976\n"
     ]
    }
   ],
   "source": [
    "PD_feat_df=[DIAGFEAT_sel,EPWORTH,LNSPD,REMSLEEP,SCOPAAUT,COGCATG,HVLT,MOCA,GDSSHORT,SDM,STAI,BENTONOD,QUIPCS]\n",
    "PD_features=merge_multiple_df(PD_feat_df)\n",
    "#PD_features.head()"
   ]
  },
  {
   "cell_type": "markdown",
   "metadata": {},
   "source": [
    "## General Medical Records df"
   ]
  },
  {
   "cell_type": "code",
   "execution_count": 61,
   "metadata": {
    "scrolled": true
   },
   "outputs": [
    {
     "name": "stdout",
     "output_type": "stream",
     "text": [
      "24349 2044\n",
      "24349 2044\n",
      "21632 1798\n"
     ]
    }
   ],
   "source": [
    "Medical_Gen_df=[GENPHYEX_sel,PENEURO_sel,PENEURO2_sel,VITAL_sel]\n",
    "Medical_General=merge_multiple_df(Medical_Gen_df)"
   ]
  },
  {
   "cell_type": "markdown",
   "metadata": {},
   "source": [
    "## PD Progression Measurements df"
   ]
  },
  {
   "cell_type": "code",
   "execution_count": 54,
   "metadata": {},
   "outputs": [
    {
     "name": "stdout",
     "output_type": "stream",
     "text": [
      "11206 2009\n",
      "12639 2007\n",
      "5941 858\n",
      "5900 841\n"
     ]
    }
   ],
   "source": [
    "PD_Progression_df=[NUPDRS1_sel,NUPDRS2P_sel,NUPDRS3_sel,NUPDRS4_sel,MODSEADL]\n",
    "# Add PASELT? : if so you need to add a 'INFODT'field...\n",
    "PD_Progression_motor=merge_multiple_df(PD_Progression_df)"
   ]
  },
  {
   "cell_type": "code",
   "execution_count": 35,
   "metadata": {},
   "outputs": [
    {
     "name": "stderr",
     "output_type": "stream",
     "text": [
      "/anaconda3/lib/python3.6/site-packages/ipykernel_launcher.py:36: RuntimeWarning: invalid value encountered in long_scalars\n"
     ]
    }
   ],
   "source": [
    "list_df=[DIAGFEAT_sel,MHXGEN_sel,GENPHYEX_sel,PENEURO_sel,PENEURO2_sel,VITAL_sel,\n",
    "NUPDRS1,NUPDRS2P,NUPDRS3,NUPDS4,PASE,PASELT,MODSEADL,\n",
    "UPSIT,EPWORTH,LNSPD,OLFACT_sel,REMSLEEP,COGTIME,SCOPAAUT,COGCATG,HVLT,\n",
    "MOCA,SFT,GDSSHORT,SDM,STAI,BENTONOD,QUIPCS]\n",
    "df_names=['DIAGFEAT','MHXGEN','GENPHYEX','PENEURO','PENEURO2','VITAL',\n",
    "'NUPDRS1','NUPDRS2P','NUPDRS3','NUPDRS4','PASE','PASELT','MODSEADL',\n",
    "'UPSIT','EPWORTH','LNSPD','OLFACT','REMSLEEP','COGTIME','SCOPAAUT','COGCATG','HVLT',\n",
    "'MOCA','SFT','GDSSHORT','SDM','STAI','BENTONOD','QUIPCS']\n",
    "dataset_analysis_maintables=table_analysis(list_df,df_names)\n",
    "#dataset_analysis_maintables"
   ]
  },
  {
   "cell_type": "markdown",
   "metadata": {},
   "source": [
    "## Medications data - to be used later on."
   ]
  },
  {
   "cell_type": "code",
   "execution_count": 62,
   "metadata": {},
   "outputs": [],
   "source": [
    "folder_path='/Users/alicemartin/02_DSR_Project/parkinson-disease-project/data/PPMI-final-dataset-382018/5-Medical-History/'\n",
    "files_names=reading_csv_files(folder_path)[1]\n",
    "dict_files=reading_csv_files(folder_path)[2]\n",
    "\n",
    "### Use of PD Medication: useful: Meds - but not to be used for now.\n",
    "PDMEDUSE=dict_files[files_names[4]]\n",
    "SEL=['REC_ID', 'PATNO', 'EVENT_ID', 'PAG_NAME', 'INFODT',\n",
    "       'PDMEDYN', 'ONLDOPA', 'ONDOPAG', 'ONOTHER', 'FULNUPDR', 'PDMEDDT',\n",
    "       'PDMEDTM', 'NUPDRTM']\n",
    "PDMEDUSE_sel=PDMEDUSE[SEL]\n",
    "\n",
    "### 'Concomitant_Medications.csv': useful: Meds - no time to exploit this stuff. \n",
    "CMED=dict_files[files_names[6]]\n",
    "\n",
    "### 'Current_Medical_Conditions_Log.csv': Meds\n",
    "CURRCOND=dict_files[files_names[8]]\n",
    "CURRCOND.columns\n",
    "SEL=['REC_ID', 'PATNO', 'EVENT_ID', 'PAG_NAME', 'SEQNO',\n",
    "       'CONDCAT', 'DIAGYR','CONDTERM', 'RESOLVD', 'RESYR',\n",
    "       'HLGTNAME', 'HLT_NAME','PT_CODE','SOCABBR1', 'VMEDDRA']\n",
    "CURRCOND_sel=CURRCOND[SEL]\n",
    "\n",
    "### 'Adverse_Event_Log.csv': useful: Meds - but not to be used for now.\n",
    "#### Measures the adverse events occurring after LUMBAR PUNCTURE, SPECT, AV-133 PET Imaging, \n",
    "#florbetaben imaging, skin biopsy.  -USELESS\n",
    "\n",
    "AE=dict_files[files_names[9]]\n",
    "SEL=['REC_ID', 'PATNO', 'EVENT_ID', 'PAG_NAME', 'AESEQ',\n",
    "       'AETERM', 'STARTDT','STOPDT', 'AESEVER', 'SAE',\n",
    "       'AERELAT', 'RELDSCAN', 'RELLP', 'RELPRCDR', 'RELAV133', 'RELFB',\n",
    "       'RELSKBIO', 'AEOUTCOM', 'AEFLUP',\n",
    "       'PT_CODE', 'PT_NAME', 'HLT_NAME', 'HLGTNAME', 'SOCABBR1', 'VMEDDRA']\n",
    "AE_sel=AE[SEL]\n",
    "\n",
    "### 'Surgery_for_Parkinson_Disease.csv': useful: Meds - but not to be used for now.\n",
    "SURGPD=dict_files[files_names[12]]\n",
    "SURGPD.columns\n",
    "SEL=['REC_ID','PATNO', 'EVENT_ID', 'PAG_NAME', 'INFODT',\n",
    "       'PDSURG', 'PDSURGDT', 'PDSURGTP']\n",
    "SURGPD_sel=SURGPD[SEL]"
   ]
  },
  {
   "cell_type": "markdown",
   "metadata": {},
   "source": [
    "## Medications data df - 0.43 % of NaN values!! > use fillna values"
   ]
  },
  {
   "cell_type": "code",
   "execution_count": 65,
   "metadata": {},
   "outputs": [
    {
     "name": "stdout",
     "output_type": "stream",
     "text": [
      "3109 800\n"
     ]
    },
    {
     "data": {
      "text/plain": [
       "0.43799834097949925"
      ]
     },
     "execution_count": 65,
     "metadata": {},
     "output_type": "execute_result"
    }
   ],
   "source": [
    "medications_df=[PDMEDUSE,SURGPD]\n",
    "medications_data=merge_multiple_df(medications_df)\n",
    "medications_data.isnull().sum().sum()/(len(medications_data)*len(medications_data.columns))"
   ]
  },
  {
   "cell_type": "code",
   "execution_count": 55,
   "metadata": {
    "scrolled": true
   },
   "outputs": [],
   "source": [
    "list_df=[PDMEDUSE_sel,CURRCOND_sel,AE_sel,SURGPD_sel]\n",
    "df_names=['PDMEDUSE','CURRCOND','AE','SURGPD']\n",
    "dataset_analysis_meds=table_analysis(list_df,df_names)\n",
    "#dataset_analysis_meds"
   ]
  },
  {
   "cell_type": "markdown",
   "metadata": {},
   "source": [
    "# Additionnal data that will be used later on (imaging data and medication data)"
   ]
  },
  {
   "cell_type": "markdown",
   "metadata": {},
   "source": [
    "## 4-Imaging - dataset not to be used for the time being.\n",
    "### Info about Imaging Data pages 98 to 101 in the study protocol. "
   ]
  },
  {
   "cell_type": "code",
   "execution_count": 17,
   "metadata": {},
   "outputs": [],
   "source": [
    "folder_path='/Users/alicemartin/02_DSR_Project/parkinson-disease-project/data/PPMI-final-dataset-382018/4-Imaging/'\n",
    "files_names=reading_csv_files(folder_path)[1]\n",
    "dict_files=reading_csv_files(folder_path)[2]\n",
    "\n",
    "### FBB_Analysis_Data.csv\n",
    "FBBANAL=dict_files[files_names[0]]\n",
    "# no selection to do. \n",
    "\n",
    "### AV-133_Imaging.csv\n",
    "AVIMAG=dict_files[files_names[2]]\n",
    "SEL=['REC_ID','PATNO', 'EVENT_ID', 'PAG_NAME', 'INFODT', 'PETCMPLT','VMATRSLT']\n",
    "AVIMAG_sel=AVIMAG[SEL]\n",
    "\n",
    "### DaTscan_Imaging.csv\n",
    "DATSCAN=dict_files[files_names[3]]\n",
    "DATSCAN.columns\n",
    "SEL=['REC_ID','PATNO', 'EVENT_ID', 'PAG_NAME', 'INFODT',\n",
    "       'DATSCAN','VSINTRPT','VSRPTELG']\n",
    "DATSCAN_sel=DATSCAN[SEL]\n",
    "\n",
    "### AV-133_SBR_Results.csv\n",
    "ind_av133_sbr=dict_files[files_names[5]]\n",
    "col_old=list(ind_av133_sbr.columns)\n",
    "col_new=['PATNO',\n",
    " 'EVENT_ID',\n",
    " 'INFODT',\n",
    " 'TIMEPOINT',\n",
    " 'RCAUD-S',\n",
    " 'RPUTANT-S',\n",
    " 'RPUTPOST-S',\n",
    " 'LCAUD-S',\n",
    " 'LPUTANT-S',\n",
    " 'LPUTPOST-S',\n",
    " 'update_stamp']\n",
    "col=dict(zip(col_old,col_new))\n",
    "ind_av133_sbr.rename(columns=col,inplace=True)\n",
    "SEL=['PATNO', 'EVENT_ID', 'INFODT', 'RCAUD-S', 'RPUTANT-S',\n",
    "       'RPUTPOST-S', 'LCAUD-S', 'LPUTANT-S', 'LPUTPOST-S']\n",
    "ind_av133_sbr_sel=ind_av133_sbr[SEL]\n",
    "\n",
    "### Magnetic_Resonance_Imaging.csv\n",
    "MRI=dict_files[files_names[6]]\n",
    "SEL=['REC_ID', 'PATNO', 'EVENT_ID', 'PAG_NAME', 'INFODT',\n",
    "       'MRICMPLT', 'MRIWDTI', 'MRIWRSS', 'MRIRSLT',\n",
    "       'PDMEDYN', 'ONLDOPA', 'ONDOPAG']\n",
    "MRI_sel=MRI[SEL]\n",
    "\n",
    "### DTI_Regions_of_Interest\n",
    "DTIROI=dict_files[files_names[7]]\n",
    "SEL=['PATNO', 'PAG_NAME', 'INFODT', 'Measure','ROI1', 'ROI2',\n",
    "       'ROI3', 'ROI4', 'ROI5', 'ROI6', 'REF1', 'REF2']\n",
    "DTIROI_sel=DTIROI[SEL]\n",
    "\n",
    "### DaTSCAN_SPECT_Visual_Interpretation_Assessment.csv - not found in data dictionary...\n",
    "SPECT_vis_assess=dict_files[files_names[8]]\n",
    "#SPECT_vis_assess.head()"
   ]
  },
  {
   "cell_type": "code",
   "execution_count": 18,
   "metadata": {},
   "outputs": [
    {
     "name": "stderr",
     "output_type": "stream",
     "text": [
      "/anaconda3/lib/python3.6/site-packages/ipykernel_launcher.py:36: RuntimeWarning: invalid value encountered in long_scalars\n"
     ]
    },
    {
     "data": {
      "text/html": [
       "<div>\n",
       "<style scoped>\n",
       "    .dataframe tbody tr th:only-of-type {\n",
       "        vertical-align: middle;\n",
       "    }\n",
       "\n",
       "    .dataframe tbody tr th {\n",
       "        vertical-align: top;\n",
       "    }\n",
       "\n",
       "    .dataframe thead th {\n",
       "        text-align: right;\n",
       "    }\n",
       "</style>\n",
       "<table border=\"1\" class=\"dataframe\">\n",
       "  <thead>\n",
       "    <tr style=\"text-align: right;\">\n",
       "      <th></th>\n",
       "      <th>observations_tot</th>\n",
       "      <th>features</th>\n",
       "      <th>events_num</th>\n",
       "      <th>patients_num</th>\n",
       "      <th>patients_sel</th>\n",
       "      <th>len_df_sel</th>\n",
       "      <th>NaN_values</th>\n",
       "    </tr>\n",
       "  </thead>\n",
       "  <tbody>\n",
       "    <tr>\n",
       "      <th>FBBANAL</th>\n",
       "      <td>88</td>\n",
       "      <td>37</td>\n",
       "      <td>6</td>\n",
       "      <td>88</td>\n",
       "      <td>0</td>\n",
       "      <td>0</td>\n",
       "      <td>NaN</td>\n",
       "    </tr>\n",
       "    <tr>\n",
       "      <th>AVIMAG</th>\n",
       "      <td>87</td>\n",
       "      <td>7</td>\n",
       "      <td>9</td>\n",
       "      <td>36</td>\n",
       "      <td>16</td>\n",
       "      <td>57</td>\n",
       "      <td>0.105263</td>\n",
       "    </tr>\n",
       "    <tr>\n",
       "      <th>DATSCAN</th>\n",
       "      <td>2483</td>\n",
       "      <td>8</td>\n",
       "      <td>16</td>\n",
       "      <td>1045</td>\n",
       "      <td>414</td>\n",
       "      <td>1637</td>\n",
       "      <td>0.213653</td>\n",
       "    </tr>\n",
       "    <tr>\n",
       "      <th>ind_av133_sbr</th>\n",
       "      <td>80</td>\n",
       "      <td>9</td>\n",
       "      <td>6</td>\n",
       "      <td>35</td>\n",
       "      <td>14</td>\n",
       "      <td>50</td>\n",
       "      <td>0</td>\n",
       "    </tr>\n",
       "    <tr>\n",
       "      <th>MRI</th>\n",
       "      <td>2125</td>\n",
       "      <td>12</td>\n",
       "      <td>16</td>\n",
       "      <td>1326</td>\n",
       "      <td>188</td>\n",
       "      <td>713</td>\n",
       "      <td>0.3241</td>\n",
       "    </tr>\n",
       "    <tr>\n",
       "      <th>DTIROI</th>\n",
       "      <td>1200</td>\n",
       "      <td>12</td>\n",
       "      <td>0</td>\n",
       "      <td>263</td>\n",
       "      <td>195</td>\n",
       "      <td>872</td>\n",
       "      <td>0</td>\n",
       "    </tr>\n",
       "  </tbody>\n",
       "</table>\n",
       "</div>"
      ],
      "text/plain": [
       "              observations_tot features events_num patients_num patients_sel  \\\n",
       "FBBANAL                     88       37          6           88            0   \n",
       "AVIMAG                      87        7          9           36           16   \n",
       "DATSCAN                   2483        8         16         1045          414   \n",
       "ind_av133_sbr               80        9          6           35           14   \n",
       "MRI                       2125       12         16         1326          188   \n",
       "DTIROI                    1200       12          0          263          195   \n",
       "\n",
       "              len_df_sel NaN_values  \n",
       "FBBANAL                0        NaN  \n",
       "AVIMAG                57   0.105263  \n",
       "DATSCAN             1637   0.213653  \n",
       "ind_av133_sbr         50          0  \n",
       "MRI                  713     0.3241  \n",
       "DTIROI               872          0  "
      ]
     },
     "execution_count": 18,
     "metadata": {},
     "output_type": "execute_result"
    }
   ],
   "source": [
    "list_df=[FBBANAL,AVIMAG_sel,DATSCAN_sel,ind_av133_sbr_sel,MRI_sel,DTIROI_sel]\n",
    "df_names=['FBBANAL','AVIMAG','DATSCAN','ind_av133_sbr','MRI','DTIROI']\n",
    "dataset_analysis_imaging=table_analysis(list_df,df_names,threshold=3) #threshold=3 to have more \n",
    "dataset_analysis_imaging"
   ]
  },
  {
   "cell_type": "code",
   "execution_count": null,
   "metadata": {},
   "outputs": [],
   "source": []
  }
 ],
 "metadata": {
  "kernelspec": {
   "display_name": "Python 3",
   "language": "python",
   "name": "python3"
  },
  "language_info": {
   "codemirror_mode": {
    "name": "ipython",
    "version": 3
   },
   "file_extension": ".py",
   "mimetype": "text/x-python",
   "name": "python",
   "nbconvert_exporter": "python",
   "pygments_lexer": "ipython3",
   "version": "3.6.4"
  }
 },
 "nbformat": 4,
 "nbformat_minor": 2
}
