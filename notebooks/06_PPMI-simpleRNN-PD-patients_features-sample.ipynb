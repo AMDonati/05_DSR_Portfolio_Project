{
 "cells": [
  {
   "cell_type": "markdown",
   "metadata": {},
   "source": [
    "## REFERENCES"
   ]
  },
  {
   "cell_type": "markdown",
   "metadata": {},
   "source": [
    "## GITHUB repos: \n",
    "### code\n",
    "* **Hands-On Machine Learning w/scikit-learn and TensorFlow book: https://github.com/AMDonati/handson-ml**\n",
    "* **Tristan Deep Dive class**: https://github.com/AMDonati/dsr-apr-2018\n",
    "* Data viz - Jesus: \n",
    " > http://localhost:8888/notebooks/00_TRAINING/02_DSR/VIZ_course/PLOTLY/code_for_slides.ipynb\n",
    " > http://localhost:8888/notebooks/01_Dev/02_Python-tutorials_Jupyter-notebooks/03_Python_forDS_Udemy/Plotly%20and%20cufflinks_AM.ipynb\n",
    "\n",
    "### documentation\n",
    "* https://github.com/AMDonati/handong1587.github.io/blob/master/_posts/deep_learning/2015-10-09-rnn-and-lstm.md\n",
    "* https://github.com/AMDonati/Deep-Learning-Papers-Reading-Roadmap\n",
    "\n",
    "### Specific to time-series: \n",
    "* https://github.com/ChadFulton/tsa-notebooks\n",
    "* https://github.com/maxim5/time-series-machine-learning\n",
    "\n",
    "### time-series w/ DL\n",
    "* https://github.com/fchollet/deep-learning-with-python-notebooks/blob/master/6.3-advanced-usage-of-recurrent-neural-networks.ipynb\n",
    "* https://github.com/AMDonati/Deep-Learning-in-Time-Series\n",
    "* https://github.com/BenjiKCF/Neural-Network-with-Financial-Time-Series-Data\n",
    "\n",
    "### time-series w/ DL on EHR data\n",
    "* https://github.com/AMDonati/Deep-Neural-Networks-HealthCare/tree/master/Project%209%20--%20Deep%20Learning%20RNN%20for%20Predicting%20%20Glucose%20Concentration%20for%20Diabetes1%20Patients\n",
    "* https://github.com/AMDonati/Deep-Neural-Networks-HealthCare/tree/master/Project%209%20--%20Deep%20Learning%20RNN%20for%20Predicting%20%20Glucose%20Concentration%20for%20Diabetes1%20Patients\n",
    "* https://github.com/AMDonati/doctorai\n",
    "\n",
    "### Specific to multi-label classification: \n",
    "https://github.com/nkartik94/Multi-Label-Text-Classification\n",
    "\n",
    "## Kaggle Kernels\n",
    "* https://www.kaggle.com/c/web-traffic-time-series-forecasting\n",
    "* https://www.kaggle.com/c/melbourne-university-seizure-prediction/kernels\n",
    "* https://www.kaggle.com/c/msk-redefining-cancer-treatment/kernels"
   ]
  },
  {
   "cell_type": "markdown",
   "metadata": {},
   "source": [
    "## FRAMEWORK\n",
    "1. Data-processing\n",
    "2. Plotting the data\n",
    "3. Preparing the data for the ML algo:\n",
    "    * Dimensionality reduction? \n",
    "    * Standardization/ normalisation? \n",
    "    * split train/val/test\n",
    "    * do something special for the multi-label classification problem?\n",
    "4. Select and train the model\n",
    "5. Model Evaluation: plot the results\n",
    "    * Fine-tune the model\n",
    "    * Cross-validation\n",
    "    * Metrics plotting"
   ]
  },
  {
   "cell_type": "markdown",
   "metadata": {},
   "source": [
    "## 0. Imports & functions"
   ]
  },
  {
   "cell_type": "code",
   "execution_count": 1,
   "metadata": {},
   "outputs": [],
   "source": [
    "#imports \n",
    "import numpy as np \n",
    "import pandas as pd \n",
    "import matplotlib.pyplot as plt\n",
    "import plotly.plotly as py\n",
    "import cufflinks as cf\n",
    "import seaborn as sns\n",
    "import urllib.parse\n",
    "from glob import glob\n",
    "import os\n",
    "import ntpath \n",
    "import zipfile\n",
    "from datetime import datetime\n",
    "\n",
    "#and enable the offline mode in the notebook (not needed in Jupyter Lab)\n",
    "#py.offline.init_notebook_mode(connected=True)\n",
    "\n",
    "import warnings\n",
    "warnings.filterwarnings('ignore')\n",
    "\n",
    "#paths\n",
    "#PPMI_zippath='/Users/alicemartin/02_DSR_Project/parkinson-disease-project/data/PPMI-final-dataset-382018.zip'\n",
    "PPMI_path='/Users/alicemartin/02_DSR_Project/parkinson-disease-project/data/'"
   ]
  },
  {
   "cell_type": "code",
   "execution_count": 2,
   "metadata": {},
   "outputs": [],
   "source": [
    "#!pip install cufflinks --upgrade"
   ]
  },
  {
   "cell_type": "code",
   "execution_count": 3,
   "metadata": {},
   "outputs": [],
   "source": [
    "def reading_csv_files(folder_path):\n",
    "    # saving all the csv files in a dataframe\n",
    "    import os\n",
    "    import glob\n",
    "    # glob.glob('*.csv') #find all the csv files in a pathname. \n",
    "    os.chdir(folder_path)\n",
    "    csv_files = [i for i in glob.glob('*.csv')]\n",
    "\n",
    "    # Reading each csv file and storing them in a dictionnary containing the file name and the dataframe\n",
    "    dict_files={}\n",
    "    files_names=[]\n",
    "    for files in csv_files:\n",
    "        df=pd.read_csv(files,engine='python')\n",
    "        basepath, filename=ntpath.split(files)\n",
    "        files_names.append(filename)\n",
    "        dict_files[filename]=df\n",
    "        \n",
    "    # Calculating the # of rows and features for each dataframe and storing them in a list of tuples\n",
    "    shape_df=[]\n",
    "    for i in range(0,len(dict_files.keys())):\n",
    "        nrows, ncols=(len(dict_files[files_names[i]]),len(dict_files[files_names[i]].columns))\n",
    "        shape_df.append((nrows,ncols))\n",
    "\n",
    "    return (shape_df,files_names,dict_files)"
   ]
  },
  {
   "cell_type": "code",
   "execution_count": 4,
   "metadata": {},
   "outputs": [],
   "source": [
    "def number_of_patients(df):\n",
    "    '''return the number of patients in each csv files and the number of events'''\n",
    "    patients=len(list(set(df['PATNO'])))\n",
    "    if 'EVENT_ID' in df.columns:\n",
    "        events=len(list(set(df['EVENT_ID'])))\n",
    "    else:\n",
    "        events='no TS data'\n",
    "    return (patients,events)"
   ]
  },
  {
   "cell_type": "code",
   "execution_count": 5,
   "metadata": {},
   "outputs": [],
   "source": [
    "def features_selection(df, SEL):\n",
    "    '''cleanier way to do features selection in each csv file'''\n",
    "    return df_sel"
   ]
  },
  {
   "cell_type": "code",
   "execution_count": 55,
   "metadata": {},
   "outputs": [],
   "source": [
    "def patients_selection(df, threshold):\n",
    "    '''return a dataframe containing only the patients with number of visits > threshold'''\n",
    "    if 'PATNO' in df.columns: \n",
    "        visits_number_by_pat=df.groupby('PATNO').size().sort_values(ascending=False)\n",
    "        mask_sel=visits_number_by_pat>=threshold\n",
    "        patients_sel=list(mask_sel[mask_sel.values==True].index)\n",
    "        df=df.loc[df['PATNO'].isin(patients_sel),:]\n",
    "        df=df.sort_values('PATNO')\n",
    "        return (patients_sel, df)\n",
    "    else:\n",
    "        print(\"There is no 'PATNO' column in the dataframe\")"
   ]
  },
  {
   "cell_type": "code",
   "execution_count": 58,
   "metadata": {},
   "outputs": [],
   "source": [
    "def plotting_MSEADLG(df, sample_size=10):\n",
    "    '''EDA on labels '''"
   ]
  },
  {
   "cell_type": "code",
   "execution_count": 63,
   "metadata": {},
   "outputs": [],
   "source": [
    "def plotting_features(df,sample=10):\n",
    "    '''EDA on features'''"
   ]
  },
  {
   "cell_type": "code",
   "execution_count": null,
   "metadata": {},
   "outputs": [],
   "source": [
    "def feat_variance_analysis(df,sample=10): \n",
    "    "
   ]
  },
  {
   "cell_type": "markdown",
   "metadata": {},
   "source": [
    "## 1. Data-processing"
   ]
  },
  {
   "cell_type": "markdown",
   "metadata": {},
   "source": [
    "###  Getting the PD people.\n"
   ]
  },
  {
   "cell_type": "code",
   "execution_count": 64,
   "metadata": {},
   "outputs": [
    {
     "name": "stdout",
     "output_type": "stream",
     "text": [
      "number of PD patients:876\n"
     ]
    },
    {
     "data": {
      "text/html": [
       "<div>\n",
       "<style scoped>\n",
       "    .dataframe tbody tr th:only-of-type {\n",
       "        vertical-align: middle;\n",
       "    }\n",
       "\n",
       "    .dataframe tbody tr th {\n",
       "        vertical-align: top;\n",
       "    }\n",
       "\n",
       "    .dataframe thead th {\n",
       "        text-align: right;\n",
       "    }\n",
       "</style>\n",
       "<table border=\"1\" class=\"dataframe\">\n",
       "  <thead>\n",
       "    <tr style=\"text-align: right;\">\n",
       "      <th></th>\n",
       "      <th>REC_ID</th>\n",
       "      <th>PATNO</th>\n",
       "      <th>EVENT_ID</th>\n",
       "      <th>PAG_NAME</th>\n",
       "      <th>CONSNTDT</th>\n",
       "      <th>APPRDX</th>\n",
       "      <th>CURRENT_APPRDX</th>\n",
       "      <th>P3GRP</th>\n",
       "      <th>BIRTHDT</th>\n",
       "      <th>GENDER</th>\n",
       "      <th>HISPLAT</th>\n",
       "      <th>RAINDALS</th>\n",
       "      <th>RAASIAN</th>\n",
       "      <th>RABLACK</th>\n",
       "      <th>RAHAWOPI</th>\n",
       "      <th>RAWHITE</th>\n",
       "      <th>RANOS</th>\n",
       "      <th>PRJENRDT</th>\n",
       "    </tr>\n",
       "  </thead>\n",
       "  <tbody>\n",
       "    <tr>\n",
       "      <th>0</th>\n",
       "      <td>224392801</td>\n",
       "      <td>3400</td>\n",
       "      <td>CONSENT</td>\n",
       "      <td>SCREEN</td>\n",
       "      <td>06/2010</td>\n",
       "      <td>1.0</td>\n",
       "      <td>1.0</td>\n",
       "      <td>NaN</td>\n",
       "      <td>1971.0</td>\n",
       "      <td>0.0</td>\n",
       "      <td>0.0</td>\n",
       "      <td>0.0</td>\n",
       "      <td>0.0</td>\n",
       "      <td>0.0</td>\n",
       "      <td>0.0</td>\n",
       "      <td>1.0</td>\n",
       "      <td>0.0</td>\n",
       "      <td>07/2010</td>\n",
       "    </tr>\n",
       "  </tbody>\n",
       "</table>\n",
       "</div>"
      ],
      "text/plain": [
       "      REC_ID  PATNO EVENT_ID PAG_NAME CONSNTDT  APPRDX  CURRENT_APPRDX  P3GRP  \\\n",
       "0  224392801   3400  CONSENT   SCREEN  06/2010     1.0             1.0    NaN   \n",
       "\n",
       "   BIRTHDT  GENDER  HISPLAT  RAINDALS  RAASIAN  RABLACK  RAHAWOPI  RAWHITE  \\\n",
       "0   1971.0     0.0      0.0       0.0      0.0      0.0       0.0      1.0   \n",
       "\n",
       "   RANOS PRJENRDT  \n",
       "0    0.0  07/2010  "
      ]
     },
     "execution_count": 64,
     "metadata": {},
     "output_type": "execute_result"
    }
   ],
   "source": [
    "folder_path='/Users/alicemartin/02_DSR_Project/parkinson-disease-project/data/PPMI-final-dataset-382018/1-Subject-Characteristics/'\n",
    "files_names=reading_csv_files(folder_path)[1]\n",
    "dict_files=reading_csv_files(folder_path)[2]\n",
    "\n",
    "### Patient_Status - actually useful for selecting only the PD patients in each table\n",
    "PRODROMA=dict_files[files_names[0]]\n",
    "PD_cat=['PD','REGPD','GENPD']\n",
    "\n",
    "mask=PRODROMA['ENROLL_CAT'].isin(PD_cat)\n",
    "# might be better to use the other cat variable because ENROLL_CAT contains ~320 NaN. \n",
    "PD_patients=list(PRODROMA.loc[mask,'PATNO'])\n",
    "print('number of PD patients:{}'.format(len(PD_patients)))\n",
    "\n",
    "### Screening__Demographics - useful\n",
    "#### NOT TS DATA\n",
    "SCREEN=dict_files[files_names[3]]\n",
    "SEL=['REC_ID', 'PATNO', 'EVENT_ID', 'PAG_NAME',\n",
    "       'CONSNTDT', 'APPRDX', 'CURRENT_APPRDX', 'P3GRP', 'BIRTHDT', 'GENDER',\n",
    "       'HISPLAT', 'RAINDALS', 'RAASIAN', 'RABLACK', 'RAHAWOPI', 'RAWHITE',\n",
    "       'RANOS', 'PRJENRDT']\n",
    "SCREEN_sel=SCREEN[SEL]\n",
    "SCREEN_sel.head(1)"
   ]
  },
  {
   "cell_type": "markdown",
   "metadata": {},
   "source": [
    "### Creating the dataset with selected features."
   ]
  },
  {
   "cell_type": "code",
   "execution_count": 8,
   "metadata": {},
   "outputs": [
    {
     "data": {
      "text/html": [
       "<div>\n",
       "<style scoped>\n",
       "    .dataframe tbody tr th:only-of-type {\n",
       "        vertical-align: middle;\n",
       "    }\n",
       "\n",
       "    .dataframe tbody tr th {\n",
       "        vertical-align: top;\n",
       "    }\n",
       "\n",
       "    .dataframe thead th {\n",
       "        text-align: right;\n",
       "    }\n",
       "</style>\n",
       "<table border=\"1\" class=\"dataframe\">\n",
       "  <thead>\n",
       "    <tr style=\"text-align: right;\">\n",
       "      <th></th>\n",
       "      <th>REC_ID</th>\n",
       "      <th>PATNO</th>\n",
       "      <th>EVENT_ID</th>\n",
       "      <th>INFODT</th>\n",
       "      <th>DFSTROKE</th>\n",
       "      <th>DFRSKFCT</th>\n",
       "      <th>DFPRESNT</th>\n",
       "      <th>DFRPROG</th>\n",
       "      <th>DFSTATIC</th>\n",
       "      <th>DFHEMPRK</th>\n",
       "      <th>...</th>\n",
       "      <th>DFPSHYPO</th>\n",
       "      <th>DFSEXDYS</th>\n",
       "      <th>DFURDYS</th>\n",
       "      <th>DFBWLDYS</th>\n",
       "      <th>DFOCULO</th>\n",
       "      <th>DFEYELID</th>\n",
       "      <th>DFNEURAB</th>\n",
       "      <th>DFRAPSPE</th>\n",
       "      <th>DFBULBAR</th>\n",
       "      <th>DFATYP</th>\n",
       "    </tr>\n",
       "  </thead>\n",
       "  <tbody>\n",
       "    <tr>\n",
       "      <th>0</th>\n",
       "      <td>544962901</td>\n",
       "      <td>3051</td>\n",
       "      <td>V12</td>\n",
       "      <td>11/2015</td>\n",
       "      <td>0.0</td>\n",
       "      <td>0.0</td>\n",
       "      <td>0.0</td>\n",
       "      <td>0.0</td>\n",
       "      <td>0.0</td>\n",
       "      <td>0.0</td>\n",
       "      <td>...</td>\n",
       "      <td>0.0</td>\n",
       "      <td>0.0</td>\n",
       "      <td>1.0</td>\n",
       "      <td>1.0</td>\n",
       "      <td>0.0</td>\n",
       "      <td>0.0</td>\n",
       "      <td>0.0</td>\n",
       "      <td>0.0</td>\n",
       "      <td>0.0</td>\n",
       "      <td>0.0</td>\n",
       "    </tr>\n",
       "    <tr>\n",
       "      <th>1</th>\n",
       "      <td>378904801</td>\n",
       "      <td>3051</td>\n",
       "      <td>V06</td>\n",
       "      <td>11/2012</td>\n",
       "      <td>0.0</td>\n",
       "      <td>0.0</td>\n",
       "      <td>0.0</td>\n",
       "      <td>0.0</td>\n",
       "      <td>0.0</td>\n",
       "      <td>0.0</td>\n",
       "      <td>...</td>\n",
       "      <td>0.0</td>\n",
       "      <td>1.0</td>\n",
       "      <td>1.0</td>\n",
       "      <td>0.0</td>\n",
       "      <td>0.0</td>\n",
       "      <td>0.0</td>\n",
       "      <td>0.0</td>\n",
       "      <td>0.0</td>\n",
       "      <td>0.0</td>\n",
       "      <td>0.0</td>\n",
       "    </tr>\n",
       "    <tr>\n",
       "      <th>2</th>\n",
       "      <td>659585301</td>\n",
       "      <td>3051</td>\n",
       "      <td>V14</td>\n",
       "      <td>10/2017</td>\n",
       "      <td>0.0</td>\n",
       "      <td>0.0</td>\n",
       "      <td>0.0</td>\n",
       "      <td>0.0</td>\n",
       "      <td>0.0</td>\n",
       "      <td>0.0</td>\n",
       "      <td>...</td>\n",
       "      <td>1.0</td>\n",
       "      <td>1.0</td>\n",
       "      <td>1.0</td>\n",
       "      <td>1.0</td>\n",
       "      <td>0.0</td>\n",
       "      <td>0.0</td>\n",
       "      <td>0.0</td>\n",
       "      <td>0.0</td>\n",
       "      <td>0.0</td>\n",
       "      <td>0.0</td>\n",
       "    </tr>\n",
       "    <tr>\n",
       "      <th>3</th>\n",
       "      <td>595650601</td>\n",
       "      <td>3051</td>\n",
       "      <td>V13</td>\n",
       "      <td>10/2016</td>\n",
       "      <td>0.0</td>\n",
       "      <td>0.0</td>\n",
       "      <td>0.0</td>\n",
       "      <td>0.0</td>\n",
       "      <td>0.0</td>\n",
       "      <td>0.0</td>\n",
       "      <td>...</td>\n",
       "      <td>0.0</td>\n",
       "      <td>1.0</td>\n",
       "      <td>1.0</td>\n",
       "      <td>1.0</td>\n",
       "      <td>0.0</td>\n",
       "      <td>0.0</td>\n",
       "      <td>0.0</td>\n",
       "      <td>0.0</td>\n",
       "      <td>0.0</td>\n",
       "      <td>0.0</td>\n",
       "    </tr>\n",
       "    <tr>\n",
       "      <th>4</th>\n",
       "      <td>417112701</td>\n",
       "      <td>3051</td>\n",
       "      <td>V08</td>\n",
       "      <td>11/2013</td>\n",
       "      <td>0.0</td>\n",
       "      <td>0.0</td>\n",
       "      <td>0.0</td>\n",
       "      <td>0.0</td>\n",
       "      <td>0.0</td>\n",
       "      <td>0.0</td>\n",
       "      <td>...</td>\n",
       "      <td>0.0</td>\n",
       "      <td>0.0</td>\n",
       "      <td>0.0</td>\n",
       "      <td>0.0</td>\n",
       "      <td>0.0</td>\n",
       "      <td>0.0</td>\n",
       "      <td>0.0</td>\n",
       "      <td>0.0</td>\n",
       "      <td>0.0</td>\n",
       "      <td>0.0</td>\n",
       "    </tr>\n",
       "  </tbody>\n",
       "</table>\n",
       "<p>5 rows × 55 columns</p>\n",
       "</div>"
      ],
      "text/plain": [
       "      REC_ID  PATNO EVENT_ID   INFODT  DFSTROKE  DFRSKFCT  DFPRESNT  DFRPROG  \\\n",
       "0  544962901   3051      V12  11/2015       0.0       0.0       0.0      0.0   \n",
       "1  378904801   3051      V06  11/2012       0.0       0.0       0.0      0.0   \n",
       "2  659585301   3051      V14  10/2017       0.0       0.0       0.0      0.0   \n",
       "3  595650601   3051      V13  10/2016       0.0       0.0       0.0      0.0   \n",
       "4  417112701   3051      V08  11/2013       0.0       0.0       0.0      0.0   \n",
       "\n",
       "   DFSTATIC  DFHEMPRK   ...    DFPSHYPO  DFSEXDYS DFURDYS  DFBWLDYS  DFOCULO  \\\n",
       "0       0.0       0.0   ...         0.0       0.0     1.0       1.0      0.0   \n",
       "1       0.0       0.0   ...         0.0       1.0     1.0       0.0      0.0   \n",
       "2       0.0       0.0   ...         1.0       1.0     1.0       1.0      0.0   \n",
       "3       0.0       0.0   ...         0.0       1.0     1.0       1.0      0.0   \n",
       "4       0.0       0.0   ...         0.0       0.0     0.0       0.0      0.0   \n",
       "\n",
       "   DFEYELID  DFNEURAB DFRAPSPE  DFBULBAR  DFATYP  \n",
       "0       0.0       0.0      0.0       0.0     0.0  \n",
       "1       0.0       0.0      0.0       0.0     0.0  \n",
       "2       0.0       0.0      0.0       0.0     0.0  \n",
       "3       0.0       0.0      0.0       0.0     0.0  \n",
       "4       0.0       0.0      0.0       0.0     0.0  \n",
       "\n",
       "[5 rows x 55 columns]"
      ]
     },
     "execution_count": 8,
     "metadata": {},
     "output_type": "execute_result"
    }
   ],
   "source": [
    "folder_path='/Users/alicemartin/02_DSR_Project/parkinson-disease-project/data/PPMI-final-dataset-382018/5-Medical-History/'\n",
    "files_names=reading_csv_files(folder_path)[1]\n",
    "dict_files=reading_csv_files(folder_path)[2]\n",
    "\n",
    "### 'Diagnostic_Features.csv': useful: Feat-PD - 1670 patients.\n",
    "DIAGFEAT=dict_files[files_names[1]]\n",
    "#DIAGFEAT.head()\n",
    "#DIAGFEAT.columns\n",
    "#using SEL2 for now: removing features with Non applicable values\n",
    "SEL2=[ 'REC_ID','PATNO', 'EVENT_ID','INFODT',\n",
    "       'DFSTROKE', 'DFRSKFCT', 'DFPRESNT', 'DFRPROG', 'DFSTATIC', 'DFHEMPRK',\n",
    "       'DFAGESX', 'DFOTHCRS', 'DFCRSCM', 'DFRTREMP', 'DFRTREMA', 'DFPATREM',\n",
    "       'DFOTHTRM', 'DFTREMCM', 'DFRIGIDP', 'DFRIGIDA', 'DFAXRIG', 'DFUNIRIG',\n",
    "       'DFTONE', 'DFOTHRIG', 'DFRIGCM', 'DFBRADYP', 'DFBRADYA', 'DFAKINES',\n",
    "       'DFBRPLUS', 'DFOTHABR', 'DFABRCM', 'DFPGDIST', 'DFGAIT', 'DFFREEZ',\n",
    "       'DFFALLS', 'DFOTHPG', 'DFPGCM', 'DFPSYCH', 'DFCOGNIT', 'DFDYSTON',\n",
    "       'DFCHOREA', 'DFMYOCLO', 'DFOTHHYP', 'DFHYPCM', 'DFHEMTRO', 'DFPSHYPO',\n",
    "       'DFSEXDYS', 'DFURDYS', 'DFBWLDYS', 'DFOCULO', 'DFEYELID', 'DFNEURAB',\n",
    "       'DFRAPSPE', 'DFBULBAR','DFATYP']\n",
    "\n",
    "## features removed.\n",
    "#SEL2=SEL.remove('DFCTSCAN')\n",
    "#SEL2=SEL.remove('DFDOPRSP')\n",
    "#SEL2=SEL.remove('DFMRI')\n",
    "\n",
    "#DIAGFEAT_sel_PDpat=DIAGFEAT_sel.loc[DIAGFEAT_sel['PATNO']isin(PD_patients),:]\n",
    "#print(number_of_patients(DIAGFEAT_sel_PDpat))\n",
    "\n",
    "# seleting the patients and features\n",
    "patients_sel=patients_selection(DIAGFEAT,6)[0]\n",
    "DIAGFEAT_sel=patients_selection(DIAGFEAT,6)[1]\n",
    "DIAGFEAT_sel=DIAGFEAT_sel[SEL2]\n",
    "DIAGFEAT_sel.reset_index(drop=True,inplace=True)\n",
    "DIAGFEAT_sel.head()\n"
   ]
  },
  {
   "cell_type": "markdown",
   "metadata": {},
   "source": [
    "### Creating the Labels."
   ]
  },
  {
   "cell_type": "code",
   "execution_count": 9,
   "metadata": {},
   "outputs": [
    {
     "name": "stdout",
     "output_type": "stream",
     "text": [
      "(320, 18)\n"
     ]
    },
    {
     "data": {
      "text/html": [
       "<div>\n",
       "<style scoped>\n",
       "    .dataframe tbody tr th:only-of-type {\n",
       "        vertical-align: middle;\n",
       "    }\n",
       "\n",
       "    .dataframe tbody tr th {\n",
       "        vertical-align: top;\n",
       "    }\n",
       "\n",
       "    .dataframe thead th {\n",
       "        text-align: right;\n",
       "    }\n",
       "</style>\n",
       "<table border=\"1\" class=\"dataframe\">\n",
       "  <thead>\n",
       "    <tr style=\"text-align: right;\">\n",
       "      <th></th>\n",
       "      <th>REC_ID</th>\n",
       "      <th>PATNO</th>\n",
       "      <th>EVENT_ID</th>\n",
       "      <th>INFODT</th>\n",
       "      <th>MSEADLG</th>\n",
       "    </tr>\n",
       "  </thead>\n",
       "  <tbody>\n",
       "    <tr>\n",
       "      <th>506</th>\n",
       "      <td>320322201</td>\n",
       "      <td>3051</td>\n",
       "      <td>V04</td>\n",
       "      <td>11/2011</td>\n",
       "      <td>95.0</td>\n",
       "    </tr>\n",
       "    <tr>\n",
       "      <th>4405</th>\n",
       "      <td>478012101</td>\n",
       "      <td>3051</td>\n",
       "      <td>V10</td>\n",
       "      <td>11/2014</td>\n",
       "      <td>80.0</td>\n",
       "    </tr>\n",
       "    <tr>\n",
       "      <th>3626</th>\n",
       "      <td>436854001</td>\n",
       "      <td>3051</td>\n",
       "      <td>V09</td>\n",
       "      <td>04/2014</td>\n",
       "      <td>85.0</td>\n",
       "    </tr>\n",
       "    <tr>\n",
       "      <th>956</th>\n",
       "      <td>346352601</td>\n",
       "      <td>3051</td>\n",
       "      <td>V05</td>\n",
       "      <td>05/2012</td>\n",
       "      <td>95.0</td>\n",
       "    </tr>\n",
       "    <tr>\n",
       "      <th>3039</th>\n",
       "      <td>417119301</td>\n",
       "      <td>3051</td>\n",
       "      <td>V08</td>\n",
       "      <td>11/2013</td>\n",
       "      <td>85.0</td>\n",
       "    </tr>\n",
       "  </tbody>\n",
       "</table>\n",
       "</div>"
      ],
      "text/plain": [
       "         REC_ID  PATNO EVENT_ID   INFODT  MSEADLG\n",
       "506   320322201   3051      V04  11/2011     95.0\n",
       "4405  478012101   3051      V10  11/2014     80.0\n",
       "3626  436854001   3051      V09  04/2014     85.0\n",
       "956   346352601   3051      V05  05/2012     95.0\n",
       "3039  417119301   3051      V08  11/2013     85.0"
      ]
     },
     "execution_count": 9,
     "metadata": {},
     "output_type": "execute_result"
    }
   ],
   "source": [
    "### 'Modified_Schwab_+_England_ADL.csv' - 1837 patients\n",
    "\n",
    "folder_path='/Users/alicemartin/02_DSR_Project/parkinson-disease-project/data/PPMI-final-dataset-382018/6-Motor-Assessments/'\n",
    "files_names=reading_csv_files(folder_path)[1]\n",
    "dict_files=reading_csv_files(folder_path)[2]\n",
    "\n",
    "MODSEADL=dict_files[files_names[6]]\n",
    "\n",
    "# seleting the patients and features\n",
    "patients_sel=patients_selection(MODSEADL,6)[0]\n",
    "MODSEADL_sel=patients_selection(MODSEADL,6)[1]\n",
    "SEL=['REC_ID','PATNO','EVENT_ID','INFODT','MSEADLG']\n",
    "MODSEADL_sel=MODSEADL_sel[SEL]\n",
    "\n",
    "# finding the patient set intersection between features and labels \n",
    "labels_pat=patients_selection(MODSEADL,6)[0] \n",
    "feat_pat=patients_selection(DIAGFEAT_sel,6)[0]\n",
    "intersect=list(set(labels_pat) & set(feat_pat)) # ok cool: all the patients in DIAGFEAT are in MODSEADL. \n",
    "#print(len(intersect))\n",
    "\n",
    "# selecting only the intersect patients.\n",
    "MODSEADL_sel2=MODSEADL_sel.loc[MODSEADL_sel['PATNO'].isin(intersect),:]\n",
    "print(number_of_patients(MODSEADL_sel2))\n",
    "#MODSEADL_sel2.reset_index(drop=True,inplace=True)\n",
    "MODSEADL_sel2.head()"
   ]
  },
  {
   "cell_type": "code",
   "execution_count": 10,
   "metadata": {},
   "outputs": [
    {
     "data": {
      "text/html": [
       "<div>\n",
       "<style scoped>\n",
       "    .dataframe tbody tr th:only-of-type {\n",
       "        vertical-align: middle;\n",
       "    }\n",
       "\n",
       "    .dataframe tbody tr th {\n",
       "        vertical-align: top;\n",
       "    }\n",
       "\n",
       "    .dataframe thead th {\n",
       "        text-align: right;\n",
       "    }\n",
       "</style>\n",
       "<table border=\"1\" class=\"dataframe\">\n",
       "  <thead>\n",
       "    <tr style=\"text-align: right;\">\n",
       "      <th></th>\n",
       "      <th>REC_ID_x</th>\n",
       "      <th>PATNO</th>\n",
       "      <th>EVENT_ID</th>\n",
       "      <th>INFODT</th>\n",
       "      <th>DFSTROKE</th>\n",
       "      <th>DFRSKFCT</th>\n",
       "      <th>DFPRESNT</th>\n",
       "      <th>DFRPROG</th>\n",
       "      <th>DFSTATIC</th>\n",
       "      <th>DFHEMPRK</th>\n",
       "      <th>...</th>\n",
       "      <th>DFURDYS</th>\n",
       "      <th>DFBWLDYS</th>\n",
       "      <th>DFOCULO</th>\n",
       "      <th>DFEYELID</th>\n",
       "      <th>DFNEURAB</th>\n",
       "      <th>DFRAPSPE</th>\n",
       "      <th>DFBULBAR</th>\n",
       "      <th>DFATYP</th>\n",
       "      <th>REC_ID_y</th>\n",
       "      <th>MSEADLG</th>\n",
       "    </tr>\n",
       "  </thead>\n",
       "  <tbody>\n",
       "    <tr>\n",
       "      <th>0</th>\n",
       "      <td>544962901</td>\n",
       "      <td>3051</td>\n",
       "      <td>V12</td>\n",
       "      <td>11/2015</td>\n",
       "      <td>0.0</td>\n",
       "      <td>0.0</td>\n",
       "      <td>0.0</td>\n",
       "      <td>0.0</td>\n",
       "      <td>0.0</td>\n",
       "      <td>0.0</td>\n",
       "      <td>...</td>\n",
       "      <td>1.0</td>\n",
       "      <td>1.0</td>\n",
       "      <td>0.0</td>\n",
       "      <td>0.0</td>\n",
       "      <td>0.0</td>\n",
       "      <td>0.0</td>\n",
       "      <td>0.0</td>\n",
       "      <td>0.0</td>\n",
       "      <td>544964201.0</td>\n",
       "      <td>75.0</td>\n",
       "    </tr>\n",
       "    <tr>\n",
       "      <th>1</th>\n",
       "      <td>378904801</td>\n",
       "      <td>3051</td>\n",
       "      <td>V06</td>\n",
       "      <td>11/2012</td>\n",
       "      <td>0.0</td>\n",
       "      <td>0.0</td>\n",
       "      <td>0.0</td>\n",
       "      <td>0.0</td>\n",
       "      <td>0.0</td>\n",
       "      <td>0.0</td>\n",
       "      <td>...</td>\n",
       "      <td>1.0</td>\n",
       "      <td>0.0</td>\n",
       "      <td>0.0</td>\n",
       "      <td>0.0</td>\n",
       "      <td>0.0</td>\n",
       "      <td>0.0</td>\n",
       "      <td>0.0</td>\n",
       "      <td>0.0</td>\n",
       "      <td>378915401.0</td>\n",
       "      <td>95.0</td>\n",
       "    </tr>\n",
       "    <tr>\n",
       "      <th>2</th>\n",
       "      <td>659585301</td>\n",
       "      <td>3051</td>\n",
       "      <td>V14</td>\n",
       "      <td>10/2017</td>\n",
       "      <td>0.0</td>\n",
       "      <td>0.0</td>\n",
       "      <td>0.0</td>\n",
       "      <td>0.0</td>\n",
       "      <td>0.0</td>\n",
       "      <td>0.0</td>\n",
       "      <td>...</td>\n",
       "      <td>1.0</td>\n",
       "      <td>1.0</td>\n",
       "      <td>0.0</td>\n",
       "      <td>0.0</td>\n",
       "      <td>0.0</td>\n",
       "      <td>0.0</td>\n",
       "      <td>0.0</td>\n",
       "      <td>0.0</td>\n",
       "      <td>659589001.0</td>\n",
       "      <td>90.0</td>\n",
       "    </tr>\n",
       "    <tr>\n",
       "      <th>3</th>\n",
       "      <td>595650601</td>\n",
       "      <td>3051</td>\n",
       "      <td>V13</td>\n",
       "      <td>10/2016</td>\n",
       "      <td>0.0</td>\n",
       "      <td>0.0</td>\n",
       "      <td>0.0</td>\n",
       "      <td>0.0</td>\n",
       "      <td>0.0</td>\n",
       "      <td>0.0</td>\n",
       "      <td>...</td>\n",
       "      <td>1.0</td>\n",
       "      <td>1.0</td>\n",
       "      <td>0.0</td>\n",
       "      <td>0.0</td>\n",
       "      <td>0.0</td>\n",
       "      <td>0.0</td>\n",
       "      <td>0.0</td>\n",
       "      <td>0.0</td>\n",
       "      <td>595656701.0</td>\n",
       "      <td>80.0</td>\n",
       "    </tr>\n",
       "    <tr>\n",
       "      <th>4</th>\n",
       "      <td>417112701</td>\n",
       "      <td>3051</td>\n",
       "      <td>V08</td>\n",
       "      <td>11/2013</td>\n",
       "      <td>0.0</td>\n",
       "      <td>0.0</td>\n",
       "      <td>0.0</td>\n",
       "      <td>0.0</td>\n",
       "      <td>0.0</td>\n",
       "      <td>0.0</td>\n",
       "      <td>...</td>\n",
       "      <td>0.0</td>\n",
       "      <td>0.0</td>\n",
       "      <td>0.0</td>\n",
       "      <td>0.0</td>\n",
       "      <td>0.0</td>\n",
       "      <td>0.0</td>\n",
       "      <td>0.0</td>\n",
       "      <td>0.0</td>\n",
       "      <td>417119301.0</td>\n",
       "      <td>85.0</td>\n",
       "    </tr>\n",
       "  </tbody>\n",
       "</table>\n",
       "<p>5 rows × 57 columns</p>\n",
       "</div>"
      ],
      "text/plain": [
       "    REC_ID_x  PATNO EVENT_ID   INFODT  DFSTROKE  DFRSKFCT  DFPRESNT  DFRPROG  \\\n",
       "0  544962901   3051      V12  11/2015       0.0       0.0       0.0      0.0   \n",
       "1  378904801   3051      V06  11/2012       0.0       0.0       0.0      0.0   \n",
       "2  659585301   3051      V14  10/2017       0.0       0.0       0.0      0.0   \n",
       "3  595650601   3051      V13  10/2016       0.0       0.0       0.0      0.0   \n",
       "4  417112701   3051      V08  11/2013       0.0       0.0       0.0      0.0   \n",
       "\n",
       "   DFSTATIC  DFHEMPRK   ...     DFURDYS  DFBWLDYS DFOCULO  DFEYELID  DFNEURAB  \\\n",
       "0       0.0       0.0   ...         1.0       1.0     0.0       0.0       0.0   \n",
       "1       0.0       0.0   ...         1.0       0.0     0.0       0.0       0.0   \n",
       "2       0.0       0.0   ...         1.0       1.0     0.0       0.0       0.0   \n",
       "3       0.0       0.0   ...         1.0       1.0     0.0       0.0       0.0   \n",
       "4       0.0       0.0   ...         0.0       0.0     0.0       0.0       0.0   \n",
       "\n",
       "   DFRAPSPE  DFBULBAR DFATYP     REC_ID_y  MSEADLG  \n",
       "0       0.0       0.0    0.0  544964201.0     75.0  \n",
       "1       0.0       0.0    0.0  378915401.0     95.0  \n",
       "2       0.0       0.0    0.0  659589001.0     90.0  \n",
       "3       0.0       0.0    0.0  595656701.0     80.0  \n",
       "4       0.0       0.0    0.0  417119301.0     85.0  \n",
       "\n",
       "[5 rows x 57 columns]"
      ]
     },
     "execution_count": 10,
     "metadata": {},
     "output_type": "execute_result"
    }
   ],
   "source": [
    "# merging features & label for plotting: \n",
    "#MODSEADL_sel2=MODSEADL_sel.loc[intersect,:]\n",
    "diagfeat_EADL=pd.merge(DIAGFEAT_sel,MODSEADL_sel2,on=['PATNO','EVENT_ID','INFODT'],how='left')\n",
    "diagfeat_EADL.head()"
   ]
  },
  {
   "cell_type": "markdown",
   "metadata": {},
   "source": [
    "## 2-Plotting. "
   ]
  },
  {
   "cell_type": "code",
   "execution_count": 11,
   "metadata": {},
   "outputs": [
    {
     "data": {
      "image/png": "[encoded data removed]",
      "text/plain": [
       "<Figure size 432x288 with 1 Axes>"
      ]
     },
     "metadata": {},
     "output_type": "display_data"
    }
   ],
   "source": [
    "df_3051=diagfeat_EADL.loc[diagfeat_EADL['PATNO']==3051,:]\n",
    "plt.plot(df_3051['INFODT'], df_3051['MSEADLG'])\n",
    "plt.show()"
   ]
  },
  {
   "cell_type": "code",
   "execution_count": 60,
   "metadata": {},
   "outputs": [
    {
     "data": {
      "text/html": [
       "<script>requirejs.config({paths: { 'plotly': ['https://cdn.plot.ly/plotly-latest.min']},});if(!window.Plotly) {{require(['plotly'],function(plotly) {window.Plotly=plotly;});}}</script>"
      ],
      "text/vnd.plotly.v1+html": [
       "<script>requirejs.config({paths: { 'plotly': ['https://cdn.plot.ly/plotly-latest.min']},});if(!window.Plotly) {{require(['plotly'],function(plotly) {window.Plotly=plotly;});}}</script>"
      ]
     },
     "metadata": {},
     "output_type": "display_data"
    },
    {
     "data": {
      "application/vnd.plotly.v1+json": {
       "data": [
        {
         "line": {
          "color": "rgba(255, 153, 51, 1.0)",
          "dash": "solid",
          "width": 1.3
         },
         "mode": "lines",
         "name": "DFSTROKE",
         "text": "",
         "type": "scatter",
         "x": [
          "11/2015",
          "11/2012",
          "10/2017",
          "10/2016",
          "11/2013",
          "11/2014"
         ],
         "y": [
          0,
          0,
          0,
          0,
          0,
          0
         ]
        },
        {
         "line": {
          "color": "rgba(55, 128, 191, 1.0)",
          "dash": "solid",
          "width": 1.3
         },
         "mode": "lines",
         "name": "DFRSKFCT",
         "text": "",
         "type": "scatter",
         "x": [
          "11/2015",
          "11/2012",
          "10/2017",
          "10/2016",
          "11/2013",
          "11/2014"
         ],
         "y": [
          0,
          0,
          0,
          0,
          0,
          0
         ]
        },
        {
         "line": {
          "color": "rgba(50, 171, 96, 1.0)",
          "dash": "solid",
          "width": 1.3
         },
         "mode": "lines",
         "name": "DFPRESNT",
         "text": "",
         "type": "scatter",
         "x": [
          "11/2015",
          "11/2012",
          "10/2017",
          "10/2016",
          "11/2013",
          "11/2014"
         ],
         "y": [
          0,
          0,
          0,
          0,
          0,
          0
         ]
        },
        {
         "line": {
          "color": "rgba(128, 0, 128, 1.0)",
          "dash": "solid",
          "width": 1.3
         },
         "mode": "lines",
         "name": "DFRPROG",
         "text": "",
         "type": "scatter",
         "x": [
          "11/2015",
          "11/2012",
          "10/2017",
          "10/2016",
          "11/2013",
          "11/2014"
         ],
         "y": [
          0,
          0,
          0,
          0,
          0,
          0
         ]
        },
        {
         "line": {
          "color": "rgba(219, 64, 82, 1.0)",
          "dash": "solid",
          "width": 1.3
         },
         "mode": "lines",
         "name": "DFSTATIC",
         "text": "",
         "type": "scatter",
         "x": [
          "11/2015",
          "11/2012",
          "10/2017",
          "10/2016",
          "11/2013",
          "11/2014"
         ],
         "y": [
          0,
          0,
          0,
          0,
          0,
          0
         ]
        },
        {
         "line": {
          "color": "rgba(0, 128, 128, 1.0)",
          "dash": "solid",
          "width": 1.3
         },
         "mode": "lines",
         "name": "DFHEMPRK",
         "text": "",
         "type": "scatter",
         "x": [
          "11/2015",
          "11/2012",
          "10/2017",
          "10/2016",
          "11/2013",
          "11/2014"
         ],
         "y": [
          0,
          0,
          0,
          0,
          0,
          0
         ]
        },
        {
         "line": {
          "color": "rgba(255, 255, 51, 1.0)",
          "dash": "solid",
          "width": 1.3
         },
         "mode": "lines",
         "name": "DFAGESX",
         "text": "",
         "type": "scatter",
         "x": [
          "11/2015",
          "11/2012",
          "10/2017",
          "10/2016",
          "11/2013",
          "11/2014"
         ],
         "y": [
          0,
          0,
          0,
          0,
          0,
          0
         ]
        },
        {
         "line": {
          "color": "rgba(128, 128, 0, 1.0)",
          "dash": "solid",
          "width": 1.3
         },
         "mode": "lines",
         "name": "DFOTHCRS",
         "text": "",
         "type": "scatter",
         "x": [
          "11/2015",
          "11/2012",
          "10/2017",
          "10/2016",
          "11/2013",
          "11/2014"
         ],
         "y": [
          0,
          0,
          0,
          0,
          0,
          0
         ]
        },
        {
         "line": {
          "color": "rgba(251, 128, 114, 1.0)",
          "dash": "solid",
          "width": 1.3
         },
         "mode": "lines",
         "name": "DFCRSCM",
         "text": "",
         "type": "scatter",
         "x": [
          "11/2015",
          "11/2012",
          "10/2017",
          "10/2016",
          "11/2013",
          "11/2014"
         ],
         "y": [
          "",
          "",
          "",
          "",
          "",
          ""
         ]
        },
        {
         "line": {
          "color": "rgba(128, 177, 211, 1.0)",
          "dash": "solid",
          "width": 1.3
         },
         "mode": "lines",
         "name": "DFRTREMP",
         "text": "",
         "type": "scatter",
         "x": [
          "11/2015",
          "11/2012",
          "10/2017",
          "10/2016",
          "11/2013",
          "11/2014"
         ],
         "y": [
          1,
          1,
          1,
          1,
          1,
          1
         ]
        },
        {
         "line": {
          "color": "rgba(128, 177, 211, 0.8999999999999999)",
          "dash": "solid",
          "width": 1.3
         },
         "mode": "lines",
         "name": "DFRTREMA",
         "text": "",
         "type": "scatter",
         "x": [
          "11/2015",
          "11/2012",
          "10/2017",
          "10/2016",
          "11/2013",
          "11/2014"
         ],
         "y": [
          0,
          0,
          0,
          0,
          0,
          0
         ]
        },
        {
         "line": {
          "color": "rgba(255, 153, 51, 0.8999999999999999)",
          "dash": "solid",
          "width": 1.3
         },
         "mode": "lines",
         "name": "DFPATREM",
         "text": "",
         "type": "scatter",
         "x": [
          "11/2015",
          "11/2012",
          "10/2017",
          "10/2016",
          "11/2013",
          "11/2014"
         ],
         "y": [
          0,
          0,
          0,
          0,
          0,
          0
         ]
        },
        {
         "line": {
          "color": "rgba(55, 128, 191, 0.8999999999999999)",
          "dash": "solid",
          "width": 1.3
         },
         "mode": "lines",
         "name": "DFOTHTRM",
         "text": "",
         "type": "scatter",
         "x": [
          "11/2015",
          "11/2012",
          "10/2017",
          "10/2016",
          "11/2013",
          "11/2014"
         ],
         "y": [
          0,
          0,
          0,
          0,
          0,
          0
         ]
        },
        {
         "line": {
          "color": "rgba(50, 171, 96, 0.8999999999999999)",
          "dash": "solid",
          "width": 1.3
         },
         "mode": "lines",
         "name": "DFTREMCM",
         "text": "",
         "type": "scatter",
         "x": [
          "11/2015",
          "11/2012",
          "10/2017",
          "10/2016",
          "11/2013",
          "11/2014"
         ],
         "y": [
          "",
          "",
          "",
          "",
          "",
          ""
         ]
        },
        {
         "line": {
          "color": "rgba(128, 0, 128, 0.8999999999999999)",
          "dash": "solid",
          "width": 1.3
         },
         "mode": "lines",
         "name": "DFRIGIDP",
         "text": "",
         "type": "scatter",
         "x": [
          "11/2015",
          "11/2012",
          "10/2017",
          "10/2016",
          "11/2013",
          "11/2014"
         ],
         "y": [
          1,
          1,
          1,
          1,
          1,
          1
         ]
        },
        {
         "line": {
          "color": "rgba(219, 64, 82, 0.8999999999999999)",
          "dash": "solid",
          "width": 1.3
         },
         "mode": "lines",
         "name": "DFRIGIDA",
         "text": "",
         "type": "scatter",
         "x": [
          "11/2015",
          "11/2012",
          "10/2017",
          "10/2016",
          "11/2013",
          "11/2014"
         ],
         "y": [
          0,
          0,
          0,
          0,
          0,
          0
         ]
        },
        {
         "line": {
          "color": "rgba(0, 128, 128, 0.8999999999999999)",
          "dash": "solid",
          "width": 1.3
         },
         "mode": "lines",
         "name": "DFAXRIG",
         "text": "",
         "type": "scatter",
         "x": [
          "11/2015",
          "11/2012",
          "10/2017",
          "10/2016",
          "11/2013",
          "11/2014"
         ],
         "y": [
          0,
          0,
          0,
          0,
          0,
          0
         ]
        },
        {
         "line": {
          "color": "rgba(255, 255, 51, 0.8999999999999999)",
          "dash": "solid",
          "width": 1.3
         },
         "mode": "lines",
         "name": "DFUNIRIG",
         "text": "",
         "type": "scatter",
         "x": [
          "11/2015",
          "11/2012",
          "10/2017",
          "10/2016",
          "11/2013",
          "11/2014"
         ],
         "y": [
          0,
          0,
          0,
          0,
          0,
          0
         ]
        },
        {
         "line": {
          "color": "rgba(128, 128, 0, 0.8999999999999999)",
          "dash": "solid",
          "width": 1.3
         },
         "mode": "lines",
         "name": "DFTONE",
         "text": "",
         "type": "scatter",
         "x": [
          "11/2015",
          "11/2012",
          "10/2017",
          "10/2016",
          "11/2013",
          "11/2014"
         ],
         "y": [
          0,
          0,
          0,
          0,
          0,
          0
         ]
        },
        {
         "line": {
          "color": "rgba(251, 128, 114, 0.8999999999999999)",
          "dash": "solid",
          "width": 1.3
         },
         "mode": "lines",
         "name": "DFOTHRIG",
         "text": "",
         "type": "scatter",
         "x": [
          "11/2015",
          "11/2012",
          "10/2017",
          "10/2016",
          "11/2013",
          "11/2014"
         ],
         "y": [
          0,
          0,
          0,
          0,
          0,
          0
         ]
        },
        {
         "line": {
          "color": "rgba(251, 128, 114, 0.7999999999999998)",
          "dash": "solid",
          "width": 1.3
         },
         "mode": "lines",
         "name": "DFRIGCM",
         "text": "",
         "type": "scatter",
         "x": [
          "11/2015",
          "11/2012",
          "10/2017",
          "10/2016",
          "11/2013",
          "11/2014"
         ],
         "y": [
          "",
          "",
          "",
          "",
          "",
          ""
         ]
        },
        {
         "line": {
          "color": "rgba(128, 177, 211, 0.7999999999999998)",
          "dash": "solid",
          "width": 1.3
         },
         "mode": "lines",
         "name": "DFBRADYP",
         "text": "",
         "type": "scatter",
         "x": [
          "11/2015",
          "11/2012",
          "10/2017",
          "10/2016",
          "11/2013",
          "11/2014"
         ],
         "y": [
          1,
          1,
          1,
          1,
          1,
          1
         ]
        },
        {
         "line": {
          "color": "rgba(255, 153, 51, 0.7999999999999998)",
          "dash": "solid",
          "width": 1.3
         },
         "mode": "lines",
         "name": "DFBRADYA",
         "text": "",
         "type": "scatter",
         "x": [
          "11/2015",
          "11/2012",
          "10/2017",
          "10/2016",
          "11/2013",
          "11/2014"
         ],
         "y": [
          0,
          0,
          0,
          0,
          0,
          0
         ]
        },
        {
         "line": {
          "color": "rgba(55, 128, 191, 0.7999999999999998)",
          "dash": "solid",
          "width": 1.3
         },
         "mode": "lines",
         "name": "DFAKINES",
         "text": "",
         "type": "scatter",
         "x": [
          "11/2015",
          "11/2012",
          "10/2017",
          "10/2016",
          "11/2013",
          "11/2014"
         ],
         "y": [
          0,
          0,
          0,
          0,
          0,
          0
         ]
        },
        {
         "line": {
          "color": "rgba(50, 171, 96, 0.7999999999999998)",
          "dash": "solid",
          "width": 1.3
         },
         "mode": "lines",
         "name": "DFBRPLUS",
         "text": "",
         "type": "scatter",
         "x": [
          "11/2015",
          "11/2012",
          "10/2017",
          "10/2016",
          "11/2013",
          "11/2014"
         ],
         "y": [
          0,
          0,
          0,
          0,
          0,
          0
         ]
        },
        {
         "line": {
          "color": "rgba(128, 0, 128, 0.7999999999999998)",
          "dash": "solid",
          "width": 1.3
         },
         "mode": "lines",
         "name": "DFOTHABR",
         "text": "",
         "type": "scatter",
         "x": [
          "11/2015",
          "11/2012",
          "10/2017",
          "10/2016",
          "11/2013",
          "11/2014"
         ],
         "y": [
          0,
          0,
          0,
          0,
          0,
          0
         ]
        },
        {
         "line": {
          "color": "rgba(219, 64, 82, 0.7999999999999998)",
          "dash": "solid",
          "width": 1.3
         },
         "mode": "lines",
         "name": "DFABRCM",
         "text": "",
         "type": "scatter",
         "x": [
          "11/2015",
          "11/2012",
          "10/2017",
          "10/2016",
          "11/2013",
          "11/2014"
         ],
         "y": [
          "",
          "",
          "",
          "",
          "",
          ""
         ]
        },
        {
         "line": {
          "color": "rgba(0, 128, 128, 0.7999999999999998)",
          "dash": "solid",
          "width": 1.3
         },
         "mode": "lines",
         "name": "DFPGDIST",
         "text": "",
         "type": "scatter",
         "x": [
          "11/2015",
          "11/2012",
          "10/2017",
          "10/2016",
          "11/2013",
          "11/2014"
         ],
         "y": [
          1,
          1,
          1,
          1,
          1,
          1
         ]
        },
        {
         "line": {
          "color": "rgba(255, 255, 51, 0.7999999999999998)",
          "dash": "solid",
          "width": 1.3
         },
         "mode": "lines",
         "name": "DFGAIT",
         "text": "",
         "type": "scatter",
         "x": [
          "11/2015",
          "11/2012",
          "10/2017",
          "10/2016",
          "11/2013",
          "11/2014"
         ],
         "y": [
          0,
          0,
          0,
          0,
          0,
          0
         ]
        },
        {
         "line": {
          "color": "rgba(128, 128, 0, 0.7999999999999998)",
          "dash": "solid",
          "width": 1.3
         },
         "mode": "lines",
         "name": "DFFREEZ",
         "text": "",
         "type": "scatter",
         "x": [
          "11/2015",
          "11/2012",
          "10/2017",
          "10/2016",
          "11/2013",
          "11/2014"
         ],
         "y": [
          0,
          0,
          0,
          0,
          0,
          0
         ]
        },
        {
         "line": {
          "color": "rgba(128, 128, 0, 0.7)",
          "dash": "solid",
          "width": 1.3
         },
         "mode": "lines",
         "name": "DFFALLS",
         "text": "",
         "type": "scatter",
         "x": [
          "11/2015",
          "11/2012",
          "10/2017",
          "10/2016",
          "11/2013",
          "11/2014"
         ],
         "y": [
          0,
          0,
          0,
          0,
          0,
          0
         ]
        },
        {
         "line": {
          "color": "rgba(251, 128, 114, 0.7)",
          "dash": "solid",
          "width": 1.3
         },
         "mode": "lines",
         "name": "DFOTHPG",
         "text": "",
         "type": "scatter",
         "x": [
          "11/2015",
          "11/2012",
          "10/2017",
          "10/2016",
          "11/2013",
          "11/2014"
         ],
         "y": [
          0,
          0,
          0,
          0,
          0,
          0
         ]
        },
        {
         "line": {
          "color": "rgba(128, 177, 211, 0.7)",
          "dash": "solid",
          "width": 1.3
         },
         "mode": "lines",
         "name": "DFPGCM",
         "text": "",
         "type": "scatter",
         "x": [
          "11/2015",
          "11/2012",
          "10/2017",
          "10/2016",
          "11/2013",
          "11/2014"
         ],
         "y": [
          "",
          "",
          "",
          "",
          "",
          ""
         ]
        },
        {
         "line": {
          "color": "rgba(255, 153, 51, 0.7)",
          "dash": "solid",
          "width": 1.3
         },
         "mode": "lines",
         "name": "DFPSYCH",
         "text": "",
         "type": "scatter",
         "x": [
          "11/2015",
          "11/2012",
          "10/2017",
          "10/2016",
          "11/2013",
          "11/2014"
         ],
         "y": [
          0,
          0,
          0,
          0,
          0,
          0
         ]
        },
        {
         "line": {
          "color": "rgba(55, 128, 191, 0.7)",
          "dash": "solid",
          "width": 1.3
         },
         "mode": "lines",
         "name": "DFCOGNIT",
         "text": "",
         "type": "scatter",
         "x": [
          "11/2015",
          "11/2012",
          "10/2017",
          "10/2016",
          "11/2013",
          "11/2014"
         ],
         "y": [
          0,
          0,
          0,
          0,
          0,
          0
         ]
        },
        {
         "line": {
          "color": "rgba(50, 171, 96, 0.7)",
          "dash": "solid",
          "width": 1.3
         },
         "mode": "lines",
         "name": "DFDYSTON",
         "text": "",
         "type": "scatter",
         "x": [
          "11/2015",
          "11/2012",
          "10/2017",
          "10/2016",
          "11/2013",
          "11/2014"
         ],
         "y": [
          0,
          0,
          0,
          0,
          0,
          0
         ]
        },
        {
         "line": {
          "color": "rgba(128, 0, 128, 0.7)",
          "dash": "solid",
          "width": 1.3
         },
         "mode": "lines",
         "name": "DFCHOREA",
         "text": "",
         "type": "scatter",
         "x": [
          "11/2015",
          "11/2012",
          "10/2017",
          "10/2016",
          "11/2013",
          "11/2014"
         ],
         "y": [
          0,
          0,
          0,
          0,
          0,
          0
         ]
        },
        {
         "line": {
          "color": "rgba(219, 64, 82, 0.7)",
          "dash": "solid",
          "width": 1.3
         },
         "mode": "lines",
         "name": "DFMYOCLO",
         "text": "",
         "type": "scatter",
         "x": [
          "11/2015",
          "11/2012",
          "10/2017",
          "10/2016",
          "11/2013",
          "11/2014"
         ],
         "y": [
          0,
          0,
          0,
          0,
          0,
          0
         ]
        },
        {
         "line": {
          "color": "rgba(0, 128, 128, 0.7)",
          "dash": "solid",
          "width": 1.3
         },
         "mode": "lines",
         "name": "DFOTHHYP",
         "text": "",
         "type": "scatter",
         "x": [
          "11/2015",
          "11/2012",
          "10/2017",
          "10/2016",
          "11/2013",
          "11/2014"
         ],
         "y": [
          0,
          0,
          0,
          0,
          0,
          0
         ]
        },
        {
         "line": {
          "color": "rgba(255, 255, 51, 0.7)",
          "dash": "solid",
          "width": 1.3
         },
         "mode": "lines",
         "name": "DFHYPCM",
         "text": "",
         "type": "scatter",
         "x": [
          "11/2015",
          "11/2012",
          "10/2017",
          "10/2016",
          "11/2013",
          "11/2014"
         ],
         "y": [
          "",
          "",
          "",
          "",
          "",
          ""
         ]
        },
        {
         "line": {
          "color": "rgba(255, 255, 51, 0.5999999999999999)",
          "dash": "solid",
          "width": 1.3
         },
         "mode": "lines",
         "name": "DFHEMTRO",
         "text": "",
         "type": "scatter",
         "x": [
          "11/2015",
          "11/2012",
          "10/2017",
          "10/2016",
          "11/2013",
          "11/2014"
         ],
         "y": [
          0,
          0,
          0,
          0,
          0,
          0
         ]
        },
        {
         "line": {
          "color": "rgba(128, 128, 0, 0.5999999999999999)",
          "dash": "solid",
          "width": 1.3
         },
         "mode": "lines",
         "name": "DFPSHYPO",
         "text": "",
         "type": "scatter",
         "x": [
          "11/2015",
          "11/2012",
          "10/2017",
          "10/2016",
          "11/2013",
          "11/2014"
         ],
         "y": [
          0,
          0,
          1,
          0,
          0,
          0
         ]
        },
        {
         "line": {
          "color": "rgba(251, 128, 114, 0.5999999999999999)",
          "dash": "solid",
          "width": 1.3
         },
         "mode": "lines",
         "name": "DFSEXDYS",
         "text": "",
         "type": "scatter",
         "x": [
          "11/2015",
          "11/2012",
          "10/2017",
          "10/2016",
          "11/2013",
          "11/2014"
         ],
         "y": [
          0,
          1,
          1,
          1,
          0,
          0
         ]
        },
        {
         "line": {
          "color": "rgba(128, 177, 211, 0.5999999999999999)",
          "dash": "solid",
          "width": 1.3
         },
         "mode": "lines",
         "name": "DFURDYS",
         "text": "",
         "type": "scatter",
         "x": [
          "11/2015",
          "11/2012",
          "10/2017",
          "10/2016",
          "11/2013",
          "11/2014"
         ],
         "y": [
          1,
          1,
          1,
          1,
          0,
          0
         ]
        },
        {
         "line": {
          "color": "rgba(255, 153, 51, 0.5999999999999999)",
          "dash": "solid",
          "width": 1.3
         },
         "mode": "lines",
         "name": "DFBWLDYS",
         "text": "",
         "type": "scatter",
         "x": [
          "11/2015",
          "11/2012",
          "10/2017",
          "10/2016",
          "11/2013",
          "11/2014"
         ],
         "y": [
          1,
          0,
          1,
          1,
          0,
          0
         ]
        },
        {
         "line": {
          "color": "rgba(55, 128, 191, 0.5999999999999999)",
          "dash": "solid",
          "width": 1.3
         },
         "mode": "lines",
         "name": "DFOCULO",
         "text": "",
         "type": "scatter",
         "x": [
          "11/2015",
          "11/2012",
          "10/2017",
          "10/2016",
          "11/2013",
          "11/2014"
         ],
         "y": [
          0,
          0,
          0,
          0,
          0,
          0
         ]
        },
        {
         "line": {
          "color": "rgba(50, 171, 96, 0.5999999999999999)",
          "dash": "solid",
          "width": 1.3
         },
         "mode": "lines",
         "name": "DFEYELID",
         "text": "",
         "type": "scatter",
         "x": [
          "11/2015",
          "11/2012",
          "10/2017",
          "10/2016",
          "11/2013",
          "11/2014"
         ],
         "y": [
          0,
          0,
          0,
          0,
          0,
          0
         ]
        },
        {
         "line": {
          "color": "rgba(128, 0, 128, 0.5999999999999999)",
          "dash": "solid",
          "width": 1.3
         },
         "mode": "lines",
         "name": "DFNEURAB",
         "text": "",
         "type": "scatter",
         "x": [
          "11/2015",
          "11/2012",
          "10/2017",
          "10/2016",
          "11/2013",
          "11/2014"
         ],
         "y": [
          0,
          0,
          0,
          0,
          0,
          0
         ]
        },
        {
         "line": {
          "color": "rgba(219, 64, 82, 0.5999999999999999)",
          "dash": "solid",
          "width": 1.3
         },
         "mode": "lines",
         "name": "DFRAPSPE",
         "text": "",
         "type": "scatter",
         "x": [
          "11/2015",
          "11/2012",
          "10/2017",
          "10/2016",
          "11/2013",
          "11/2014"
         ],
         "y": [
          0,
          0,
          0,
          0,
          0,
          0
         ]
        },
        {
         "line": {
          "color": "rgba(0, 128, 128, 0.5999999999999999)",
          "dash": "solid",
          "width": 1.3
         },
         "mode": "lines",
         "name": "DFBULBAR",
         "text": "",
         "type": "scatter",
         "x": [
          "11/2015",
          "11/2012",
          "10/2017",
          "10/2016",
          "11/2013",
          "11/2014"
         ],
         "y": [
          0,
          0,
          0,
          0,
          0,
          0
         ]
        },
        {
         "line": {
          "color": "rgba(0, 128, 128, 0.49999999999999983)",
          "dash": "solid",
          "width": 1.3
         },
         "mode": "lines",
         "name": "DFATYP",
         "text": "",
         "type": "scatter",
         "x": [
          "11/2015",
          "11/2012",
          "10/2017",
          "10/2016",
          "11/2013",
          "11/2014"
         ],
         "y": [
          0,
          0,
          0,
          0,
          0,
          0
         ]
        }
       ],
       "layout": {
        "legend": {
         "bgcolor": "#F5F6F9",
         "font": {
          "color": "#4D5663"
         }
        },
        "paper_bgcolor": "#F5F6F9",
        "plot_bgcolor": "#F5F6F9",
        "titlefont": {
         "color": "#4D5663"
        },
        "xaxis1": {
         "gridcolor": "#E1E5ED",
         "showgrid": true,
         "tickfont": {
          "color": "#4D5663"
         },
         "title": "",
         "titlefont": {
          "color": "#4D5663"
         },
         "zerolinecolor": "#E1E5ED"
        },
        "yaxis1": {
         "gridcolor": "#E1E5ED",
         "showgrid": true,
         "tickfont": {
          "color": "#4D5663"
         },
         "title": "",
         "titlefont": {
          "color": "#4D5663"
         },
         "zerolinecolor": "#E1E5ED"
        }
       }
      },
      "text/html": [
       "<div id=\"c52441b9-1728-4a9e-b4d8-4e8385431106\" style=\"height: 525px; width: 100%;\" class=\"plotly-graph-div\"></div><script type=\"text/javascript\">require([\"plotly\"], function(Plotly) { window.PLOTLYENV=window.PLOTLYENV || {};window.PLOTLYENV.BASE_URL=\"https://plot.ly\";Plotly.newPlot(\"c52441b9-1728-4a9e-b4d8-4e8385431106\", [{\"type\": \"scatter\", \"x\": [\"11/2015\", \"11/2012\", \"10/2017\", \"10/2016\", \"11/2013\", \"11/2014\"], \"y\": [0.0, 0.0, 0.0, 0.0, 0.0, 0.0], \"name\": \"DFSTROKE\", \"text\": \"\", \"line\": {\"color\": \"rgba(255, 153, 51, 1.0)\", \"width\": 1.3, \"dash\": \"solid\"}, \"mode\": \"lines\"}, {\"type\": \"scatter\", \"x\": [\"11/2015\", \"11/2012\", \"10/2017\", \"10/2016\", \"11/2013\", \"11/2014\"], \"y\": [0.0, 0.0, 0.0, 0.0, 0.0, 0.0], \"name\": \"DFRSKFCT\", \"text\": \"\", \"line\": {\"color\": \"rgba(55, 128, 191, 1.0)\", \"width\": 1.3, \"dash\": \"solid\"}, \"mode\": \"lines\"}, {\"type\": \"scatter\", \"x\": [\"11/2015\", \"11/2012\", \"10/2017\", \"10/2016\", \"11/2013\", \"11/2014\"], \"y\": [0.0, 0.0, 0.0, 0.0, 0.0, 0.0], \"name\": \"DFPRESNT\", \"text\": \"\", \"line\": {\"color\": \"rgba(50, 171, 96, 1.0)\", \"width\": 1.3, \"dash\": \"solid\"}, \"mode\": \"lines\"}, {\"type\": \"scatter\", \"x\": [\"11/2015\", \"11/2012\", \"10/2017\", \"10/2016\", \"11/2013\", \"11/2014\"], \"y\": [0.0, 0.0, 0.0, 0.0, 0.0, 0.0], \"name\": \"DFRPROG\", \"text\": \"\", \"line\": {\"color\": \"rgba(128, 0, 128, 1.0)\", \"width\": 1.3, \"dash\": \"solid\"}, \"mode\": \"lines\"}, {\"type\": \"scatter\", \"x\": [\"11/2015\", \"11/2012\", \"10/2017\", \"10/2016\", \"11/2013\", \"11/2014\"], \"y\": [0.0, 0.0, 0.0, 0.0, 0.0, 0.0], \"name\": \"DFSTATIC\", \"text\": \"\", \"line\": {\"color\": \"rgba(219, 64, 82, 1.0)\", \"width\": 1.3, \"dash\": \"solid\"}, \"mode\": \"lines\"}, {\"type\": \"scatter\", \"x\": [\"11/2015\", \"11/2012\", \"10/2017\", \"10/2016\", \"11/2013\", \"11/2014\"], \"y\": [0.0, 0.0, 0.0, 0.0, 0.0, 0.0], \"name\": \"DFHEMPRK\", \"text\": \"\", \"line\": {\"color\": \"rgba(0, 128, 128, 1.0)\", \"width\": 1.3, \"dash\": \"solid\"}, \"mode\": \"lines\"}, {\"type\": \"scatter\", \"x\": [\"11/2015\", \"11/2012\", \"10/2017\", \"10/2016\", \"11/2013\", \"11/2014\"], \"y\": [0.0, 0.0, 0.0, 0.0, 0.0, 0.0], \"name\": \"DFAGESX\", \"text\": \"\", \"line\": {\"color\": \"rgba(255, 255, 51, 1.0)\", \"width\": 1.3, \"dash\": \"solid\"}, \"mode\": \"lines\"}, {\"type\": \"scatter\", \"x\": [\"11/2015\", \"11/2012\", \"10/2017\", \"10/2016\", \"11/2013\", \"11/2014\"], \"y\": [0.0, 0.0, 0.0, 0.0, 0.0, 0.0], \"name\": \"DFOTHCRS\", \"text\": \"\", \"line\": {\"color\": \"rgba(128, 128, 0, 1.0)\", \"width\": 1.3, \"dash\": \"solid\"}, \"mode\": \"lines\"}, {\"type\": \"scatter\", \"x\": [\"11/2015\", \"11/2012\", \"10/2017\", \"10/2016\", \"11/2013\", \"11/2014\"], \"y\": [\"\", \"\", \"\", \"\", \"\", \"\"], \"name\": \"DFCRSCM\", \"text\": \"\", \"line\": {\"color\": \"rgba(251, 128, 114, 1.0)\", \"width\": 1.3, \"dash\": \"solid\"}, \"mode\": \"lines\"}, {\"type\": \"scatter\", \"x\": [\"11/2015\", \"11/2012\", \"10/2017\", \"10/2016\", \"11/2013\", \"11/2014\"], \"y\": [1.0, 1.0, 1.0, 1.0, 1.0, 1.0], \"name\": \"DFRTREMP\", \"text\": \"\", \"line\": {\"color\": \"rgba(128, 177, 211, 1.0)\", \"width\": 1.3, \"dash\": \"solid\"}, \"mode\": \"lines\"}, {\"type\": \"scatter\", \"x\": [\"11/2015\", \"11/2012\", \"10/2017\", \"10/2016\", \"11/2013\", \"11/2014\"], \"y\": [0.0, 0.0, 0.0, 0.0, 0.0, 0.0], \"name\": \"DFRTREMA\", \"text\": \"\", \"line\": {\"color\": \"rgba(128, 177, 211, 0.8999999999999999)\", \"width\": 1.3, \"dash\": \"solid\"}, \"mode\": \"lines\"}, {\"type\": \"scatter\", \"x\": [\"11/2015\", \"11/2012\", \"10/2017\", \"10/2016\", \"11/2013\", \"11/2014\"], \"y\": [0.0, 0.0, 0.0, 0.0, 0.0, 0.0], \"name\": \"DFPATREM\", \"text\": \"\", \"line\": {\"color\": \"rgba(255, 153, 51, 0.8999999999999999)\", \"width\": 1.3, \"dash\": \"solid\"}, \"mode\": \"lines\"}, {\"type\": \"scatter\", \"x\": [\"11/2015\", \"11/2012\", \"10/2017\", \"10/2016\", \"11/2013\", \"11/2014\"], \"y\": [0.0, 0.0, 0.0, 0.0, 0.0, 0.0], \"name\": \"DFOTHTRM\", \"text\": \"\", \"line\": {\"color\": \"rgba(55, 128, 191, 0.8999999999999999)\", \"width\": 1.3, \"dash\": \"solid\"}, \"mode\": \"lines\"}, {\"type\": \"scatter\", \"x\": [\"11/2015\", \"11/2012\", \"10/2017\", \"10/2016\", \"11/2013\", \"11/2014\"], \"y\": [\"\", \"\", \"\", \"\", \"\", \"\"], \"name\": \"DFTREMCM\", \"text\": \"\", \"line\": {\"color\": \"rgba(50, 171, 96, 0.8999999999999999)\", \"width\": 1.3, \"dash\": \"solid\"}, \"mode\": \"lines\"}, {\"type\": \"scatter\", \"x\": [\"11/2015\", \"11/2012\", \"10/2017\", \"10/2016\", \"11/2013\", \"11/2014\"], \"y\": [1.0, 1.0, 1.0, 1.0, 1.0, 1.0], \"name\": \"DFRIGIDP\", \"text\": \"\", \"line\": {\"color\": \"rgba(128, 0, 128, 0.8999999999999999)\", \"width\": 1.3, \"dash\": \"solid\"}, \"mode\": \"lines\"}, {\"type\": \"scatter\", \"x\": [\"11/2015\", \"11/2012\", \"10/2017\", \"10/2016\", \"11/2013\", \"11/2014\"], \"y\": [0.0, 0.0, 0.0, 0.0, 0.0, 0.0], \"name\": \"DFRIGIDA\", \"text\": \"\", \"line\": {\"color\": \"rgba(219, 64, 82, 0.8999999999999999)\", \"width\": 1.3, \"dash\": \"solid\"}, \"mode\": \"lines\"}, {\"type\": \"scatter\", \"x\": [\"11/2015\", \"11/2012\", \"10/2017\", \"10/2016\", \"11/2013\", \"11/2014\"], \"y\": [0.0, 0.0, 0.0, 0.0, 0.0, 0.0], \"name\": \"DFAXRIG\", \"text\": \"\", \"line\": {\"color\": \"rgba(0, 128, 128, 0.8999999999999999)\", \"width\": 1.3, \"dash\": \"solid\"}, \"mode\": \"lines\"}, {\"type\": \"scatter\", \"x\": [\"11/2015\", \"11/2012\", \"10/2017\", \"10/2016\", \"11/2013\", \"11/2014\"], \"y\": [0.0, 0.0, 0.0, 0.0, 0.0, 0.0], \"name\": \"DFUNIRIG\", \"text\": \"\", \"line\": {\"color\": \"rgba(255, 255, 51, 0.8999999999999999)\", \"width\": 1.3, \"dash\": \"solid\"}, \"mode\": \"lines\"}, {\"type\": \"scatter\", \"x\": [\"11/2015\", \"11/2012\", \"10/2017\", \"10/2016\", \"11/2013\", \"11/2014\"], \"y\": [0.0, 0.0, 0.0, 0.0, 0.0, 0.0], \"name\": \"DFTONE\", \"text\": \"\", \"line\": {\"color\": \"rgba(128, 128, 0, 0.8999999999999999)\", \"width\": 1.3, \"dash\": \"solid\"}, \"mode\": \"lines\"}, {\"type\": \"scatter\", \"x\": [\"11/2015\", \"11/2012\", \"10/2017\", \"10/2016\", \"11/2013\", \"11/2014\"], \"y\": [0.0, 0.0, 0.0, 0.0, 0.0, 0.0], \"name\": \"DFOTHRIG\", \"text\": \"\", \"line\": {\"color\": \"rgba(251, 128, 114, 0.8999999999999999)\", \"width\": 1.3, \"dash\": \"solid\"}, \"mode\": \"lines\"}, {\"type\": \"scatter\", \"x\": [\"11/2015\", \"11/2012\", \"10/2017\", \"10/2016\", \"11/2013\", \"11/2014\"], \"y\": [\"\", \"\", \"\", \"\", \"\", \"\"], \"name\": \"DFRIGCM\", \"text\": \"\", \"line\": {\"color\": \"rgba(251, 128, 114, 0.7999999999999998)\", \"width\": 1.3, \"dash\": \"solid\"}, \"mode\": \"lines\"}, {\"type\": \"scatter\", \"x\": [\"11/2015\", \"11/2012\", \"10/2017\", \"10/2016\", \"11/2013\", \"11/2014\"], \"y\": [1.0, 1.0, 1.0, 1.0, 1.0, 1.0], \"name\": \"DFBRADYP\", \"text\": \"\", \"line\": {\"color\": \"rgba(128, 177, 211, 0.7999999999999998)\", \"width\": 1.3, \"dash\": \"solid\"}, \"mode\": \"lines\"}, {\"type\": \"scatter\", \"x\": [\"11/2015\", \"11/2012\", \"10/2017\", \"10/2016\", \"11/2013\", \"11/2014\"], \"y\": [0.0, 0.0, 0.0, 0.0, 0.0, 0.0], \"name\": \"DFBRADYA\", \"text\": \"\", \"line\": {\"color\": \"rgba(255, 153, 51, 0.7999999999999998)\", \"width\": 1.3, \"dash\": \"solid\"}, \"mode\": \"lines\"}, {\"type\": \"scatter\", \"x\": [\"11/2015\", \"11/2012\", \"10/2017\", \"10/2016\", \"11/2013\", \"11/2014\"], \"y\": [0.0, 0.0, 0.0, 0.0, 0.0, 0.0], \"name\": \"DFAKINES\", \"text\": \"\", \"line\": {\"color\": \"rgba(55, 128, 191, 0.7999999999999998)\", \"width\": 1.3, \"dash\": \"solid\"}, \"mode\": \"lines\"}, {\"type\": \"scatter\", \"x\": [\"11/2015\", \"11/2012\", \"10/2017\", \"10/2016\", \"11/2013\", \"11/2014\"], \"y\": [0.0, 0.0, 0.0, 0.0, 0.0, 0.0], \"name\": \"DFBRPLUS\", \"text\": \"\", \"line\": {\"color\": \"rgba(50, 171, 96, 0.7999999999999998)\", \"width\": 1.3, \"dash\": \"solid\"}, \"mode\": \"lines\"}, {\"type\": \"scatter\", \"x\": [\"11/2015\", \"11/2012\", \"10/2017\", \"10/2016\", \"11/2013\", \"11/2014\"], \"y\": [0.0, 0.0, 0.0, 0.0, 0.0, 0.0], \"name\": \"DFOTHABR\", \"text\": \"\", \"line\": {\"color\": \"rgba(128, 0, 128, 0.7999999999999998)\", \"width\": 1.3, \"dash\": \"solid\"}, \"mode\": \"lines\"}, {\"type\": \"scatter\", \"x\": [\"11/2015\", \"11/2012\", \"10/2017\", \"10/2016\", \"11/2013\", \"11/2014\"], \"y\": [\"\", \"\", \"\", \"\", \"\", \"\"], \"name\": \"DFABRCM\", \"text\": \"\", \"line\": {\"color\": \"rgba(219, 64, 82, 0.7999999999999998)\", \"width\": 1.3, \"dash\": \"solid\"}, \"mode\": \"lines\"}, {\"type\": \"scatter\", \"x\": [\"11/2015\", \"11/2012\", \"10/2017\", \"10/2016\", \"11/2013\", \"11/2014\"], \"y\": [1.0, 1.0, 1.0, 1.0, 1.0, 1.0], \"name\": \"DFPGDIST\", \"text\": \"\", \"line\": {\"color\": \"rgba(0, 128, 128, 0.7999999999999998)\", \"width\": 1.3, \"dash\": \"solid\"}, \"mode\": \"lines\"}, {\"type\": \"scatter\", \"x\": [\"11/2015\", \"11/2012\", \"10/2017\", \"10/2016\", \"11/2013\", \"11/2014\"], \"y\": [0.0, 0.0, 0.0, 0.0, 0.0, 0.0], \"name\": \"DFGAIT\", \"text\": \"\", \"line\": {\"color\": \"rgba(255, 255, 51, 0.7999999999999998)\", \"width\": 1.3, \"dash\": \"solid\"}, \"mode\": \"lines\"}, {\"type\": \"scatter\", \"x\": [\"11/2015\", \"11/2012\", \"10/2017\", \"10/2016\", \"11/2013\", \"11/2014\"], \"y\": [0.0, 0.0, 0.0, 0.0, 0.0, 0.0], \"name\": \"DFFREEZ\", \"text\": \"\", \"line\": {\"color\": \"rgba(128, 128, 0, 0.7999999999999998)\", \"width\": 1.3, \"dash\": \"solid\"}, \"mode\": \"lines\"}, {\"type\": \"scatter\", \"x\": [\"11/2015\", \"11/2012\", \"10/2017\", \"10/2016\", \"11/2013\", \"11/2014\"], \"y\": [0.0, 0.0, 0.0, 0.0, 0.0, 0.0], \"name\": \"DFFALLS\", \"text\": \"\", \"line\": {\"color\": \"rgba(128, 128, 0, 0.7)\", \"width\": 1.3, \"dash\": \"solid\"}, \"mode\": \"lines\"}, {\"type\": \"scatter\", \"x\": [\"11/2015\", \"11/2012\", \"10/2017\", \"10/2016\", \"11/2013\", \"11/2014\"], \"y\": [0.0, 0.0, 0.0, 0.0, 0.0, 0.0], \"name\": \"DFOTHPG\", \"text\": \"\", \"line\": {\"color\": \"rgba(251, 128, 114, 0.7)\", \"width\": 1.3, \"dash\": \"solid\"}, \"mode\": \"lines\"}, {\"type\": \"scatter\", \"x\": [\"11/2015\", \"11/2012\", \"10/2017\", \"10/2016\", \"11/2013\", \"11/2014\"], \"y\": [\"\", \"\", \"\", \"\", \"\", \"\"], \"name\": \"DFPGCM\", \"text\": \"\", \"line\": {\"color\": \"rgba(128, 177, 211, 0.7)\", \"width\": 1.3, \"dash\": \"solid\"}, \"mode\": \"lines\"}, {\"type\": \"scatter\", \"x\": [\"11/2015\", \"11/2012\", \"10/2017\", \"10/2016\", \"11/2013\", \"11/2014\"], \"y\": [0.0, 0.0, 0.0, 0.0, 0.0, 0.0], \"name\": \"DFPSYCH\", \"text\": \"\", \"line\": {\"color\": \"rgba(255, 153, 51, 0.7)\", \"width\": 1.3, \"dash\": \"solid\"}, \"mode\": \"lines\"}, {\"type\": \"scatter\", \"x\": [\"11/2015\", \"11/2012\", \"10/2017\", \"10/2016\", \"11/2013\", \"11/2014\"], \"y\": [0.0, 0.0, 0.0, 0.0, 0.0, 0.0], \"name\": \"DFCOGNIT\", \"text\": \"\", \"line\": {\"color\": \"rgba(55, 128, 191, 0.7)\", \"width\": 1.3, \"dash\": \"solid\"}, \"mode\": \"lines\"}, {\"type\": \"scatter\", \"x\": [\"11/2015\", \"11/2012\", \"10/2017\", \"10/2016\", \"11/2013\", \"11/2014\"], \"y\": [0.0, 0.0, 0.0, 0.0, 0.0, 0.0], \"name\": \"DFDYSTON\", \"text\": \"\", \"line\": {\"color\": \"rgba(50, 171, 96, 0.7)\", \"width\": 1.3, \"dash\": \"solid\"}, \"mode\": \"lines\"}, {\"type\": \"scatter\", \"x\": [\"11/2015\", \"11/2012\", \"10/2017\", \"10/2016\", \"11/2013\", \"11/2014\"], \"y\": [0.0, 0.0, 0.0, 0.0, 0.0, 0.0], \"name\": \"DFCHOREA\", \"text\": \"\", \"line\": {\"color\": \"rgba(128, 0, 128, 0.7)\", \"width\": 1.3, \"dash\": \"solid\"}, \"mode\": \"lines\"}, {\"type\": \"scatter\", \"x\": [\"11/2015\", \"11/2012\", \"10/2017\", \"10/2016\", \"11/2013\", \"11/2014\"], \"y\": [0.0, 0.0, 0.0, 0.0, 0.0, 0.0], \"name\": \"DFMYOCLO\", \"text\": \"\", \"line\": {\"color\": \"rgba(219, 64, 82, 0.7)\", \"width\": 1.3, \"dash\": \"solid\"}, \"mode\": \"lines\"}, {\"type\": \"scatter\", \"x\": [\"11/2015\", \"11/2012\", \"10/2017\", \"10/2016\", \"11/2013\", \"11/2014\"], \"y\": [0.0, 0.0, 0.0, 0.0, 0.0, 0.0], \"name\": \"DFOTHHYP\", \"text\": \"\", \"line\": {\"color\": \"rgba(0, 128, 128, 0.7)\", \"width\": 1.3, \"dash\": \"solid\"}, \"mode\": \"lines\"}, {\"type\": \"scatter\", \"x\": [\"11/2015\", \"11/2012\", \"10/2017\", \"10/2016\", \"11/2013\", \"11/2014\"], \"y\": [\"\", \"\", \"\", \"\", \"\", \"\"], \"name\": \"DFHYPCM\", \"text\": \"\", \"line\": {\"color\": \"rgba(255, 255, 51, 0.7)\", \"width\": 1.3, \"dash\": \"solid\"}, \"mode\": \"lines\"}, {\"type\": \"scatter\", \"x\": [\"11/2015\", \"11/2012\", \"10/2017\", \"10/2016\", \"11/2013\", \"11/2014\"], \"y\": [0.0, 0.0, 0.0, 0.0, 0.0, 0.0], \"name\": \"DFHEMTRO\", \"text\": \"\", \"line\": {\"color\": \"rgba(255, 255, 51, 0.5999999999999999)\", \"width\": 1.3, \"dash\": \"solid\"}, \"mode\": \"lines\"}, {\"type\": \"scatter\", \"x\": [\"11/2015\", \"11/2012\", \"10/2017\", \"10/2016\", \"11/2013\", \"11/2014\"], \"y\": [0.0, 0.0, 1.0, 0.0, 0.0, 0.0], \"name\": \"DFPSHYPO\", \"text\": \"\", \"line\": {\"color\": \"rgba(128, 128, 0, 0.5999999999999999)\", \"width\": 1.3, \"dash\": \"solid\"}, \"mode\": \"lines\"}, {\"type\": \"scatter\", \"x\": [\"11/2015\", \"11/2012\", \"10/2017\", \"10/2016\", \"11/2013\", \"11/2014\"], \"y\": [0.0, 1.0, 1.0, 1.0, 0.0, 0.0], \"name\": \"DFSEXDYS\", \"text\": \"\", \"line\": {\"color\": \"rgba(251, 128, 114, 0.5999999999999999)\", \"width\": 1.3, \"dash\": \"solid\"}, \"mode\": \"lines\"}, {\"type\": \"scatter\", \"x\": [\"11/2015\", \"11/2012\", \"10/2017\", \"10/2016\", \"11/2013\", \"11/2014\"], \"y\": [1.0, 1.0, 1.0, 1.0, 0.0, 0.0], \"name\": \"DFURDYS\", \"text\": \"\", \"line\": {\"color\": \"rgba(128, 177, 211, 0.5999999999999999)\", \"width\": 1.3, \"dash\": \"solid\"}, \"mode\": \"lines\"}, {\"type\": \"scatter\", \"x\": [\"11/2015\", \"11/2012\", \"10/2017\", \"10/2016\", \"11/2013\", \"11/2014\"], \"y\": [1.0, 0.0, 1.0, 1.0, 0.0, 0.0], \"name\": \"DFBWLDYS\", \"text\": \"\", \"line\": {\"color\": \"rgba(255, 153, 51, 0.5999999999999999)\", \"width\": 1.3, \"dash\": \"solid\"}, \"mode\": \"lines\"}, {\"type\": \"scatter\", \"x\": [\"11/2015\", \"11/2012\", \"10/2017\", \"10/2016\", \"11/2013\", \"11/2014\"], \"y\": [0.0, 0.0, 0.0, 0.0, 0.0, 0.0], \"name\": \"DFOCULO\", \"text\": \"\", \"line\": {\"color\": \"rgba(55, 128, 191, 0.5999999999999999)\", \"width\": 1.3, \"dash\": \"solid\"}, \"mode\": \"lines\"}, {\"type\": \"scatter\", \"x\": [\"11/2015\", \"11/2012\", \"10/2017\", \"10/2016\", \"11/2013\", \"11/2014\"], \"y\": [0.0, 0.0, 0.0, 0.0, 0.0, 0.0], \"name\": \"DFEYELID\", \"text\": \"\", \"line\": {\"color\": \"rgba(50, 171, 96, 0.5999999999999999)\", \"width\": 1.3, \"dash\": \"solid\"}, \"mode\": \"lines\"}, {\"type\": \"scatter\", \"x\": [\"11/2015\", \"11/2012\", \"10/2017\", \"10/2016\", \"11/2013\", \"11/2014\"], \"y\": [0.0, 0.0, 0.0, 0.0, 0.0, 0.0], \"name\": \"DFNEURAB\", \"text\": \"\", \"line\": {\"color\": \"rgba(128, 0, 128, 0.5999999999999999)\", \"width\": 1.3, \"dash\": \"solid\"}, \"mode\": \"lines\"}, {\"type\": \"scatter\", \"x\": [\"11/2015\", \"11/2012\", \"10/2017\", \"10/2016\", \"11/2013\", \"11/2014\"], \"y\": [0.0, 0.0, 0.0, 0.0, 0.0, 0.0], \"name\": \"DFRAPSPE\", \"text\": \"\", \"line\": {\"color\": \"rgba(219, 64, 82, 0.5999999999999999)\", \"width\": 1.3, \"dash\": \"solid\"}, \"mode\": \"lines\"}, {\"type\": \"scatter\", \"x\": [\"11/2015\", \"11/2012\", \"10/2017\", \"10/2016\", \"11/2013\", \"11/2014\"], \"y\": [0.0, 0.0, 0.0, 0.0, 0.0, 0.0], \"name\": \"DFBULBAR\", \"text\": \"\", \"line\": {\"color\": \"rgba(0, 128, 128, 0.5999999999999999)\", \"width\": 1.3, \"dash\": \"solid\"}, \"mode\": \"lines\"}, {\"type\": \"scatter\", \"x\": [\"11/2015\", \"11/2012\", \"10/2017\", \"10/2016\", \"11/2013\", \"11/2014\"], \"y\": [0.0, 0.0, 0.0, 0.0, 0.0, 0.0], \"name\": \"DFATYP\", \"text\": \"\", \"line\": {\"color\": \"rgba(0, 128, 128, 0.49999999999999983)\", \"width\": 1.3, \"dash\": \"solid\"}, \"mode\": \"lines\"}], {\"legend\": {\"bgcolor\": \"#F5F6F9\", \"font\": {\"color\": \"#4D5663\"}}, \"paper_bgcolor\": \"#F5F6F9\", \"plot_bgcolor\": \"#F5F6F9\", \"yaxis1\": {\"tickfont\": {\"color\": \"#4D5663\"}, \"gridcolor\": \"#E1E5ED\", \"titlefont\": {\"color\": \"#4D5663\"}, \"zerolinecolor\": \"#E1E5ED\", \"showgrid\": true, \"title\": \"\"}, \"xaxis1\": {\"tickfont\": {\"color\": \"#4D5663\"}, \"gridcolor\": \"#E1E5ED\", \"titlefont\": {\"color\": \"#4D5663\"}, \"zerolinecolor\": \"#E1E5ED\", \"showgrid\": true, \"title\": \"\"}, \"titlefont\": {\"color\": \"#4D5663\"}}, {\"showLink\": true, \"linkText\": \"Export to plot.ly\"})});</script>"
      ],
      "text/vnd.plotly.v1+html": [
       "<div id=\"c52441b9-1728-4a9e-b4d8-4e8385431106\" style=\"height: 525px; width: 100%;\" class=\"plotly-graph-div\"></div><script type=\"text/javascript\">require([\"plotly\"], function(Plotly) { window.PLOTLYENV=window.PLOTLYENV || {};window.PLOTLYENV.BASE_URL=\"https://plot.ly\";Plotly.newPlot(\"c52441b9-1728-4a9e-b4d8-4e8385431106\", [{\"type\": \"scatter\", \"x\": [\"11/2015\", \"11/2012\", \"10/2017\", \"10/2016\", \"11/2013\", \"11/2014\"], \"y\": [0.0, 0.0, 0.0, 0.0, 0.0, 0.0], \"name\": \"DFSTROKE\", \"text\": \"\", \"line\": {\"color\": \"rgba(255, 153, 51, 1.0)\", \"width\": 1.3, \"dash\": \"solid\"}, \"mode\": \"lines\"}, {\"type\": \"scatter\", \"x\": [\"11/2015\", \"11/2012\", \"10/2017\", \"10/2016\", \"11/2013\", \"11/2014\"], \"y\": [0.0, 0.0, 0.0, 0.0, 0.0, 0.0], \"name\": \"DFRSKFCT\", \"text\": \"\", \"line\": {\"color\": \"rgba(55, 128, 191, 1.0)\", \"width\": 1.3, \"dash\": \"solid\"}, \"mode\": \"lines\"}, {\"type\": \"scatter\", \"x\": [\"11/2015\", \"11/2012\", \"10/2017\", \"10/2016\", \"11/2013\", \"11/2014\"], \"y\": [0.0, 0.0, 0.0, 0.0, 0.0, 0.0], \"name\": \"DFPRESNT\", \"text\": \"\", \"line\": {\"color\": \"rgba(50, 171, 96, 1.0)\", \"width\": 1.3, \"dash\": \"solid\"}, \"mode\": \"lines\"}, {\"type\": \"scatter\", \"x\": [\"11/2015\", \"11/2012\", \"10/2017\", \"10/2016\", \"11/2013\", \"11/2014\"], \"y\": [0.0, 0.0, 0.0, 0.0, 0.0, 0.0], \"name\": \"DFRPROG\", \"text\": \"\", \"line\": {\"color\": \"rgba(128, 0, 128, 1.0)\", \"width\": 1.3, \"dash\": \"solid\"}, \"mode\": \"lines\"}, {\"type\": \"scatter\", \"x\": [\"11/2015\", \"11/2012\", \"10/2017\", \"10/2016\", \"11/2013\", \"11/2014\"], \"y\": [0.0, 0.0, 0.0, 0.0, 0.0, 0.0], \"name\": \"DFSTATIC\", \"text\": \"\", \"line\": {\"color\": \"rgba(219, 64, 82, 1.0)\", \"width\": 1.3, \"dash\": \"solid\"}, \"mode\": \"lines\"}, {\"type\": \"scatter\", \"x\": [\"11/2015\", \"11/2012\", \"10/2017\", \"10/2016\", \"11/2013\", \"11/2014\"], \"y\": [0.0, 0.0, 0.0, 0.0, 0.0, 0.0], \"name\": \"DFHEMPRK\", \"text\": \"\", \"line\": {\"color\": \"rgba(0, 128, 128, 1.0)\", \"width\": 1.3, \"dash\": \"solid\"}, \"mode\": \"lines\"}, {\"type\": \"scatter\", \"x\": [\"11/2015\", \"11/2012\", \"10/2017\", \"10/2016\", \"11/2013\", \"11/2014\"], \"y\": [0.0, 0.0, 0.0, 0.0, 0.0, 0.0], \"name\": \"DFAGESX\", \"text\": \"\", \"line\": {\"color\": \"rgba(255, 255, 51, 1.0)\", \"width\": 1.3, \"dash\": \"solid\"}, \"mode\": \"lines\"}, {\"type\": \"scatter\", \"x\": [\"11/2015\", \"11/2012\", \"10/2017\", \"10/2016\", \"11/2013\", \"11/2014\"], \"y\": [0.0, 0.0, 0.0, 0.0, 0.0, 0.0], \"name\": \"DFOTHCRS\", \"text\": \"\", \"line\": {\"color\": \"rgba(128, 128, 0, 1.0)\", \"width\": 1.3, \"dash\": \"solid\"}, \"mode\": \"lines\"}, {\"type\": \"scatter\", \"x\": [\"11/2015\", \"11/2012\", \"10/2017\", \"10/2016\", \"11/2013\", \"11/2014\"], \"y\": [\"\", \"\", \"\", \"\", \"\", \"\"], \"name\": \"DFCRSCM\", \"text\": \"\", \"line\": {\"color\": \"rgba(251, 128, 114, 1.0)\", \"width\": 1.3, \"dash\": \"solid\"}, \"mode\": \"lines\"}, {\"type\": \"scatter\", \"x\": [\"11/2015\", \"11/2012\", \"10/2017\", \"10/2016\", \"11/2013\", \"11/2014\"], \"y\": [1.0, 1.0, 1.0, 1.0, 1.0, 1.0], \"name\": \"DFRTREMP\", \"text\": \"\", \"line\": {\"color\": \"rgba(128, 177, 211, 1.0)\", \"width\": 1.3, \"dash\": \"solid\"}, \"mode\": \"lines\"}, {\"type\": \"scatter\", \"x\": [\"11/2015\", \"11/2012\", \"10/2017\", \"10/2016\", \"11/2013\", \"11/2014\"], \"y\": [0.0, 0.0, 0.0, 0.0, 0.0, 0.0], \"name\": \"DFRTREMA\", \"text\": \"\", \"line\": {\"color\": \"rgba(128, 177, 211, 0.8999999999999999)\", \"width\": 1.3, \"dash\": \"solid\"}, \"mode\": \"lines\"}, {\"type\": \"scatter\", \"x\": [\"11/2015\", \"11/2012\", \"10/2017\", \"10/2016\", \"11/2013\", \"11/2014\"], \"y\": [0.0, 0.0, 0.0, 0.0, 0.0, 0.0], \"name\": \"DFPATREM\", \"text\": \"\", \"line\": {\"color\": \"rgba(255, 153, 51, 0.8999999999999999)\", \"width\": 1.3, \"dash\": \"solid\"}, \"mode\": \"lines\"}, {\"type\": \"scatter\", \"x\": [\"11/2015\", \"11/2012\", \"10/2017\", \"10/2016\", \"11/2013\", \"11/2014\"], \"y\": [0.0, 0.0, 0.0, 0.0, 0.0, 0.0], \"name\": \"DFOTHTRM\", \"text\": \"\", \"line\": {\"color\": \"rgba(55, 128, 191, 0.8999999999999999)\", \"width\": 1.3, \"dash\": \"solid\"}, \"mode\": \"lines\"}, {\"type\": \"scatter\", \"x\": [\"11/2015\", \"11/2012\", \"10/2017\", \"10/2016\", \"11/2013\", \"11/2014\"], \"y\": [\"\", \"\", \"\", \"\", \"\", \"\"], \"name\": \"DFTREMCM\", \"text\": \"\", \"line\": {\"color\": \"rgba(50, 171, 96, 0.8999999999999999)\", \"width\": 1.3, \"dash\": \"solid\"}, \"mode\": \"lines\"}, {\"type\": \"scatter\", \"x\": [\"11/2015\", \"11/2012\", \"10/2017\", \"10/2016\", \"11/2013\", \"11/2014\"], \"y\": [1.0, 1.0, 1.0, 1.0, 1.0, 1.0], \"name\": \"DFRIGIDP\", \"text\": \"\", \"line\": {\"color\": \"rgba(128, 0, 128, 0.8999999999999999)\", \"width\": 1.3, \"dash\": \"solid\"}, \"mode\": \"lines\"}, {\"type\": \"scatter\", \"x\": [\"11/2015\", \"11/2012\", \"10/2017\", \"10/2016\", \"11/2013\", \"11/2014\"], \"y\": [0.0, 0.0, 0.0, 0.0, 0.0, 0.0], \"name\": \"DFRIGIDA\", \"text\": \"\", \"line\": {\"color\": \"rgba(219, 64, 82, 0.8999999999999999)\", \"width\": 1.3, \"dash\": \"solid\"}, \"mode\": \"lines\"}, {\"type\": \"scatter\", \"x\": [\"11/2015\", \"11/2012\", \"10/2017\", \"10/2016\", \"11/2013\", \"11/2014\"], \"y\": [0.0, 0.0, 0.0, 0.0, 0.0, 0.0], \"name\": \"DFAXRIG\", \"text\": \"\", \"line\": {\"color\": \"rgba(0, 128, 128, 0.8999999999999999)\", \"width\": 1.3, \"dash\": \"solid\"}, \"mode\": \"lines\"}, {\"type\": \"scatter\", \"x\": [\"11/2015\", \"11/2012\", \"10/2017\", \"10/2016\", \"11/2013\", \"11/2014\"], \"y\": [0.0, 0.0, 0.0, 0.0, 0.0, 0.0], \"name\": \"DFUNIRIG\", \"text\": \"\", \"line\": {\"color\": \"rgba(255, 255, 51, 0.8999999999999999)\", \"width\": 1.3, \"dash\": \"solid\"}, \"mode\": \"lines\"}, {\"type\": \"scatter\", \"x\": [\"11/2015\", \"11/2012\", \"10/2017\", \"10/2016\", \"11/2013\", \"11/2014\"], \"y\": [0.0, 0.0, 0.0, 0.0, 0.0, 0.0], \"name\": \"DFTONE\", \"text\": \"\", \"line\": {\"color\": \"rgba(128, 128, 0, 0.8999999999999999)\", \"width\": 1.3, \"dash\": \"solid\"}, \"mode\": \"lines\"}, {\"type\": \"scatter\", \"x\": [\"11/2015\", \"11/2012\", \"10/2017\", \"10/2016\", \"11/2013\", \"11/2014\"], \"y\": [0.0, 0.0, 0.0, 0.0, 0.0, 0.0], \"name\": \"DFOTHRIG\", \"text\": \"\", \"line\": {\"color\": \"rgba(251, 128, 114, 0.8999999999999999)\", \"width\": 1.3, \"dash\": \"solid\"}, \"mode\": \"lines\"}, {\"type\": \"scatter\", \"x\": [\"11/2015\", \"11/2012\", \"10/2017\", \"10/2016\", \"11/2013\", \"11/2014\"], \"y\": [\"\", \"\", \"\", \"\", \"\", \"\"], \"name\": \"DFRIGCM\", \"text\": \"\", \"line\": {\"color\": \"rgba(251, 128, 114, 0.7999999999999998)\", \"width\": 1.3, \"dash\": \"solid\"}, \"mode\": \"lines\"}, {\"type\": \"scatter\", \"x\": [\"11/2015\", \"11/2012\", \"10/2017\", \"10/2016\", \"11/2013\", \"11/2014\"], \"y\": [1.0, 1.0, 1.0, 1.0, 1.0, 1.0], \"name\": \"DFBRADYP\", \"text\": \"\", \"line\": {\"color\": \"rgba(128, 177, 211, 0.7999999999999998)\", \"width\": 1.3, \"dash\": \"solid\"}, \"mode\": \"lines\"}, {\"type\": \"scatter\", \"x\": [\"11/2015\", \"11/2012\", \"10/2017\", \"10/2016\", \"11/2013\", \"11/2014\"], \"y\": [0.0, 0.0, 0.0, 0.0, 0.0, 0.0], \"name\": \"DFBRADYA\", \"text\": \"\", \"line\": {\"color\": \"rgba(255, 153, 51, 0.7999999999999998)\", \"width\": 1.3, \"dash\": \"solid\"}, \"mode\": \"lines\"}, {\"type\": \"scatter\", \"x\": [\"11/2015\", \"11/2012\", \"10/2017\", \"10/2016\", \"11/2013\", \"11/2014\"], \"y\": [0.0, 0.0, 0.0, 0.0, 0.0, 0.0], \"name\": \"DFAKINES\", \"text\": \"\", \"line\": {\"color\": \"rgba(55, 128, 191, 0.7999999999999998)\", \"width\": 1.3, \"dash\": \"solid\"}, \"mode\": \"lines\"}, {\"type\": \"scatter\", \"x\": [\"11/2015\", \"11/2012\", \"10/2017\", \"10/2016\", \"11/2013\", \"11/2014\"], \"y\": [0.0, 0.0, 0.0, 0.0, 0.0, 0.0], \"name\": \"DFBRPLUS\", \"text\": \"\", \"line\": {\"color\": \"rgba(50, 171, 96, 0.7999999999999998)\", \"width\": 1.3, \"dash\": \"solid\"}, \"mode\": \"lines\"}, {\"type\": \"scatter\", \"x\": [\"11/2015\", \"11/2012\", \"10/2017\", \"10/2016\", \"11/2013\", \"11/2014\"], \"y\": [0.0, 0.0, 0.0, 0.0, 0.0, 0.0], \"name\": \"DFOTHABR\", \"text\": \"\", \"line\": {\"color\": \"rgba(128, 0, 128, 0.7999999999999998)\", \"width\": 1.3, \"dash\": \"solid\"}, \"mode\": \"lines\"}, {\"type\": \"scatter\", \"x\": [\"11/2015\", \"11/2012\", \"10/2017\", \"10/2016\", \"11/2013\", \"11/2014\"], \"y\": [\"\", \"\", \"\", \"\", \"\", \"\"], \"name\": \"DFABRCM\", \"text\": \"\", \"line\": {\"color\": \"rgba(219, 64, 82, 0.7999999999999998)\", \"width\": 1.3, \"dash\": \"solid\"}, \"mode\": \"lines\"}, {\"type\": \"scatter\", \"x\": [\"11/2015\", \"11/2012\", \"10/2017\", \"10/2016\", \"11/2013\", \"11/2014\"], \"y\": [1.0, 1.0, 1.0, 1.0, 1.0, 1.0], \"name\": \"DFPGDIST\", \"text\": \"\", \"line\": {\"color\": \"rgba(0, 128, 128, 0.7999999999999998)\", \"width\": 1.3, \"dash\": \"solid\"}, \"mode\": \"lines\"}, {\"type\": \"scatter\", \"x\": [\"11/2015\", \"11/2012\", \"10/2017\", \"10/2016\", \"11/2013\", \"11/2014\"], \"y\": [0.0, 0.0, 0.0, 0.0, 0.0, 0.0], \"name\": \"DFGAIT\", \"text\": \"\", \"line\": {\"color\": \"rgba(255, 255, 51, 0.7999999999999998)\", \"width\": 1.3, \"dash\": \"solid\"}, \"mode\": \"lines\"}, {\"type\": \"scatter\", \"x\": [\"11/2015\", \"11/2012\", \"10/2017\", \"10/2016\", \"11/2013\", \"11/2014\"], \"y\": [0.0, 0.0, 0.0, 0.0, 0.0, 0.0], \"name\": \"DFFREEZ\", \"text\": \"\", \"line\": {\"color\": \"rgba(128, 128, 0, 0.7999999999999998)\", \"width\": 1.3, \"dash\": \"solid\"}, \"mode\": \"lines\"}, {\"type\": \"scatter\", \"x\": [\"11/2015\", \"11/2012\", \"10/2017\", \"10/2016\", \"11/2013\", \"11/2014\"], \"y\": [0.0, 0.0, 0.0, 0.0, 0.0, 0.0], \"name\": \"DFFALLS\", \"text\": \"\", \"line\": {\"color\": \"rgba(128, 128, 0, 0.7)\", \"width\": 1.3, \"dash\": \"solid\"}, \"mode\": \"lines\"}, {\"type\": \"scatter\", \"x\": [\"11/2015\", \"11/2012\", \"10/2017\", \"10/2016\", \"11/2013\", \"11/2014\"], \"y\": [0.0, 0.0, 0.0, 0.0, 0.0, 0.0], \"name\": \"DFOTHPG\", \"text\": \"\", \"line\": {\"color\": \"rgba(251, 128, 114, 0.7)\", \"width\": 1.3, \"dash\": \"solid\"}, \"mode\": \"lines\"}, {\"type\": \"scatter\", \"x\": [\"11/2015\", \"11/2012\", \"10/2017\", \"10/2016\", \"11/2013\", \"11/2014\"], \"y\": [\"\", \"\", \"\", \"\", \"\", \"\"], \"name\": \"DFPGCM\", \"text\": \"\", \"line\": {\"color\": \"rgba(128, 177, 211, 0.7)\", \"width\": 1.3, \"dash\": \"solid\"}, \"mode\": \"lines\"}, {\"type\": \"scatter\", \"x\": [\"11/2015\", \"11/2012\", \"10/2017\", \"10/2016\", \"11/2013\", \"11/2014\"], \"y\": [0.0, 0.0, 0.0, 0.0, 0.0, 0.0], \"name\": \"DFPSYCH\", \"text\": \"\", \"line\": {\"color\": \"rgba(255, 153, 51, 0.7)\", \"width\": 1.3, \"dash\": \"solid\"}, \"mode\": \"lines\"}, {\"type\": \"scatter\", \"x\": [\"11/2015\", \"11/2012\", \"10/2017\", \"10/2016\", \"11/2013\", \"11/2014\"], \"y\": [0.0, 0.0, 0.0, 0.0, 0.0, 0.0], \"name\": \"DFCOGNIT\", \"text\": \"\", \"line\": {\"color\": \"rgba(55, 128, 191, 0.7)\", \"width\": 1.3, \"dash\": \"solid\"}, \"mode\": \"lines\"}, {\"type\": \"scatter\", \"x\": [\"11/2015\", \"11/2012\", \"10/2017\", \"10/2016\", \"11/2013\", \"11/2014\"], \"y\": [0.0, 0.0, 0.0, 0.0, 0.0, 0.0], \"name\": \"DFDYSTON\", \"text\": \"\", \"line\": {\"color\": \"rgba(50, 171, 96, 0.7)\", \"width\": 1.3, \"dash\": \"solid\"}, \"mode\": \"lines\"}, {\"type\": \"scatter\", \"x\": [\"11/2015\", \"11/2012\", \"10/2017\", \"10/2016\", \"11/2013\", \"11/2014\"], \"y\": [0.0, 0.0, 0.0, 0.0, 0.0, 0.0], \"name\": \"DFCHOREA\", \"text\": \"\", \"line\": {\"color\": \"rgba(128, 0, 128, 0.7)\", \"width\": 1.3, \"dash\": \"solid\"}, \"mode\": \"lines\"}, {\"type\": \"scatter\", \"x\": [\"11/2015\", \"11/2012\", \"10/2017\", \"10/2016\", \"11/2013\", \"11/2014\"], \"y\": [0.0, 0.0, 0.0, 0.0, 0.0, 0.0], \"name\": \"DFMYOCLO\", \"text\": \"\", \"line\": {\"color\": \"rgba(219, 64, 82, 0.7)\", \"width\": 1.3, \"dash\": \"solid\"}, \"mode\": \"lines\"}, {\"type\": \"scatter\", \"x\": [\"11/2015\", \"11/2012\", \"10/2017\", \"10/2016\", \"11/2013\", \"11/2014\"], \"y\": [0.0, 0.0, 0.0, 0.0, 0.0, 0.0], \"name\": \"DFOTHHYP\", \"text\": \"\", \"line\": {\"color\": \"rgba(0, 128, 128, 0.7)\", \"width\": 1.3, \"dash\": \"solid\"}, \"mode\": \"lines\"}, {\"type\": \"scatter\", \"x\": [\"11/2015\", \"11/2012\", \"10/2017\", \"10/2016\", \"11/2013\", \"11/2014\"], \"y\": [\"\", \"\", \"\", \"\", \"\", \"\"], \"name\": \"DFHYPCM\", \"text\": \"\", \"line\": {\"color\": \"rgba(255, 255, 51, 0.7)\", \"width\": 1.3, \"dash\": \"solid\"}, \"mode\": \"lines\"}, {\"type\": \"scatter\", \"x\": [\"11/2015\", \"11/2012\", \"10/2017\", \"10/2016\", \"11/2013\", \"11/2014\"], \"y\": [0.0, 0.0, 0.0, 0.0, 0.0, 0.0], \"name\": \"DFHEMTRO\", \"text\": \"\", \"line\": {\"color\": \"rgba(255, 255, 51, 0.5999999999999999)\", \"width\": 1.3, \"dash\": \"solid\"}, \"mode\": \"lines\"}, {\"type\": \"scatter\", \"x\": [\"11/2015\", \"11/2012\", \"10/2017\", \"10/2016\", \"11/2013\", \"11/2014\"], \"y\": [0.0, 0.0, 1.0, 0.0, 0.0, 0.0], \"name\": \"DFPSHYPO\", \"text\": \"\", \"line\": {\"color\": \"rgba(128, 128, 0, 0.5999999999999999)\", \"width\": 1.3, \"dash\": \"solid\"}, \"mode\": \"lines\"}, {\"type\": \"scatter\", \"x\": [\"11/2015\", \"11/2012\", \"10/2017\", \"10/2016\", \"11/2013\", \"11/2014\"], \"y\": [0.0, 1.0, 1.0, 1.0, 0.0, 0.0], \"name\": \"DFSEXDYS\", \"text\": \"\", \"line\": {\"color\": \"rgba(251, 128, 114, 0.5999999999999999)\", \"width\": 1.3, \"dash\": \"solid\"}, \"mode\": \"lines\"}, {\"type\": \"scatter\", \"x\": [\"11/2015\", \"11/2012\", \"10/2017\", \"10/2016\", \"11/2013\", \"11/2014\"], \"y\": [1.0, 1.0, 1.0, 1.0, 0.0, 0.0], \"name\": \"DFURDYS\", \"text\": \"\", \"line\": {\"color\": \"rgba(128, 177, 211, 0.5999999999999999)\", \"width\": 1.3, \"dash\": \"solid\"}, \"mode\": \"lines\"}, {\"type\": \"scatter\", \"x\": [\"11/2015\", \"11/2012\", \"10/2017\", \"10/2016\", \"11/2013\", \"11/2014\"], \"y\": [1.0, 0.0, 1.0, 1.0, 0.0, 0.0], \"name\": \"DFBWLDYS\", \"text\": \"\", \"line\": {\"color\": \"rgba(255, 153, 51, 0.5999999999999999)\", \"width\": 1.3, \"dash\": \"solid\"}, \"mode\": \"lines\"}, {\"type\": \"scatter\", \"x\": [\"11/2015\", \"11/2012\", \"10/2017\", \"10/2016\", \"11/2013\", \"11/2014\"], \"y\": [0.0, 0.0, 0.0, 0.0, 0.0, 0.0], \"name\": \"DFOCULO\", \"text\": \"\", \"line\": {\"color\": \"rgba(55, 128, 191, 0.5999999999999999)\", \"width\": 1.3, \"dash\": \"solid\"}, \"mode\": \"lines\"}, {\"type\": \"scatter\", \"x\": [\"11/2015\", \"11/2012\", \"10/2017\", \"10/2016\", \"11/2013\", \"11/2014\"], \"y\": [0.0, 0.0, 0.0, 0.0, 0.0, 0.0], \"name\": \"DFEYELID\", \"text\": \"\", \"line\": {\"color\": \"rgba(50, 171, 96, 0.5999999999999999)\", \"width\": 1.3, \"dash\": \"solid\"}, \"mode\": \"lines\"}, {\"type\": \"scatter\", \"x\": [\"11/2015\", \"11/2012\", \"10/2017\", \"10/2016\", \"11/2013\", \"11/2014\"], \"y\": [0.0, 0.0, 0.0, 0.0, 0.0, 0.0], \"name\": \"DFNEURAB\", \"text\": \"\", \"line\": {\"color\": \"rgba(128, 0, 128, 0.5999999999999999)\", \"width\": 1.3, \"dash\": \"solid\"}, \"mode\": \"lines\"}, {\"type\": \"scatter\", \"x\": [\"11/2015\", \"11/2012\", \"10/2017\", \"10/2016\", \"11/2013\", \"11/2014\"], \"y\": [0.0, 0.0, 0.0, 0.0, 0.0, 0.0], \"name\": \"DFRAPSPE\", \"text\": \"\", \"line\": {\"color\": \"rgba(219, 64, 82, 0.5999999999999999)\", \"width\": 1.3, \"dash\": \"solid\"}, \"mode\": \"lines\"}, {\"type\": \"scatter\", \"x\": [\"11/2015\", \"11/2012\", \"10/2017\", \"10/2016\", \"11/2013\", \"11/2014\"], \"y\": [0.0, 0.0, 0.0, 0.0, 0.0, 0.0], \"name\": \"DFBULBAR\", \"text\": \"\", \"line\": {\"color\": \"rgba(0, 128, 128, 0.5999999999999999)\", \"width\": 1.3, \"dash\": \"solid\"}, \"mode\": \"lines\"}, {\"type\": \"scatter\", \"x\": [\"11/2015\", \"11/2012\", \"10/2017\", \"10/2016\", \"11/2013\", \"11/2014\"], \"y\": [0.0, 0.0, 0.0, 0.0, 0.0, 0.0], \"name\": \"DFATYP\", \"text\": \"\", \"line\": {\"color\": \"rgba(0, 128, 128, 0.49999999999999983)\", \"width\": 1.3, \"dash\": \"solid\"}, \"mode\": \"lines\"}], {\"legend\": {\"bgcolor\": \"#F5F6F9\", \"font\": {\"color\": \"#4D5663\"}}, \"paper_bgcolor\": \"#F5F6F9\", \"plot_bgcolor\": \"#F5F6F9\", \"yaxis1\": {\"tickfont\": {\"color\": \"#4D5663\"}, \"gridcolor\": \"#E1E5ED\", \"titlefont\": {\"color\": \"#4D5663\"}, \"zerolinecolor\": \"#E1E5ED\", \"showgrid\": true, \"title\": \"\"}, \"xaxis1\": {\"tickfont\": {\"color\": \"#4D5663\"}, \"gridcolor\": \"#E1E5ED\", \"titlefont\": {\"color\": \"#4D5663\"}, \"zerolinecolor\": \"#E1E5ED\", \"showgrid\": true, \"title\": \"\"}, \"titlefont\": {\"color\": \"#4D5663\"}}, {\"showLink\": true, \"linkText\": \"Export to plot.ly\"})});</script>"
      ]
     },
     "metadata": {},
     "output_type": "display_data"
    }
   ],
   "source": [
    "import cufflinks as cf\n",
    "# Configure it to work offline:\n",
    "cf.go_offline(connected=True)\n",
    "\n",
    "df_3051=diagfeat_EADL.loc[diagfeat_EADL['PATNO']==3051,:]\n",
    "df_3051.set_index('INFODT',inplace=True)\n",
    "df_3051['var_sumfeat']=df_3051.iloc[:,range(3,54)].sum(axis=1)\n",
    "df_3051_sumfeat=df_3051.loc[:,'var_sumfeat']\n",
    "df_3051_plot=df_3051.iloc[:,range(3,54)]\n",
    "\n",
    "df_3051_plot.iplot(kind='scatter',filename='PATNO 3051 Diag Feat over time')\n",
    "#find something better than scatter plot. "
   ]
  },
  {
   "cell_type": "code",
   "execution_count": 62,
   "metadata": {},
   "outputs": [
    {
     "data": {
      "application/vnd.plotly.v1+json": {
       "data": [
        {
         "line": {
          "color": "rgba(255, 153, 51, 1.0)",
          "dash": "solid",
          "width": 1.3
         },
         "mode": "lines",
         "name": "var_sumfeat",
         "text": "",
         "type": "scatter",
         "x": [
          "11/2015",
          "11/2012",
          "10/2017",
          "10/2016",
          "11/2013",
          "11/2014"
         ],
         "y": [
          6,
          6,
          8,
          7,
          4,
          4
         ]
        }
       ],
       "layout": {
        "legend": {
         "bgcolor": "#F5F6F9",
         "font": {
          "color": "#4D5663"
         }
        },
        "paper_bgcolor": "#F5F6F9",
        "plot_bgcolor": "#F5F6F9",
        "titlefont": {
         "color": "#4D5663"
        },
        "xaxis1": {
         "gridcolor": "#E1E5ED",
         "showgrid": true,
         "tickfont": {
          "color": "#4D5663"
         },
         "title": "",
         "titlefont": {
          "color": "#4D5663"
         },
         "zerolinecolor": "#E1E5ED"
        },
        "yaxis1": {
         "gridcolor": "#E1E5ED",
         "showgrid": true,
         "tickfont": {
          "color": "#4D5663"
         },
         "title": "",
         "titlefont": {
          "color": "#4D5663"
         },
         "zerolinecolor": "#E1E5ED"
        }
       }
      },
      "text/html": [
       "<div id=\"c24753b9-af59-44e5-9277-9d3b27e958f7\" style=\"height: 525px; width: 100%;\" class=\"plotly-graph-div\"></div><script type=\"text/javascript\">require([\"plotly\"], function(Plotly) { window.PLOTLYENV=window.PLOTLYENV || {};window.PLOTLYENV.BASE_URL=\"https://plot.ly\";Plotly.newPlot(\"c24753b9-af59-44e5-9277-9d3b27e958f7\", [{\"type\": \"scatter\", \"x\": [\"11/2015\", \"11/2012\", \"10/2017\", \"10/2016\", \"11/2013\", \"11/2014\"], \"y\": [6.0, 6.0, 8.0, 7.0, 4.0, 4.0], \"name\": \"var_sumfeat\", \"text\": \"\", \"line\": {\"color\": \"rgba(255, 153, 51, 1.0)\", \"width\": 1.3, \"dash\": \"solid\"}, \"mode\": \"lines\"}], {\"legend\": {\"bgcolor\": \"#F5F6F9\", \"font\": {\"color\": \"#4D5663\"}}, \"paper_bgcolor\": \"#F5F6F9\", \"plot_bgcolor\": \"#F5F6F9\", \"yaxis1\": {\"tickfont\": {\"color\": \"#4D5663\"}, \"gridcolor\": \"#E1E5ED\", \"titlefont\": {\"color\": \"#4D5663\"}, \"zerolinecolor\": \"#E1E5ED\", \"showgrid\": true, \"title\": \"\"}, \"xaxis1\": {\"tickfont\": {\"color\": \"#4D5663\"}, \"gridcolor\": \"#E1E5ED\", \"titlefont\": {\"color\": \"#4D5663\"}, \"zerolinecolor\": \"#E1E5ED\", \"showgrid\": true, \"title\": \"\"}, \"titlefont\": {\"color\": \"#4D5663\"}}, {\"showLink\": true, \"linkText\": \"Export to plot.ly\"})});</script>"
      ],
      "text/vnd.plotly.v1+html": [
       "<div id=\"c24753b9-af59-44e5-9277-9d3b27e958f7\" style=\"height: 525px; width: 100%;\" class=\"plotly-graph-div\"></div><script type=\"text/javascript\">require([\"plotly\"], function(Plotly) { window.PLOTLYENV=window.PLOTLYENV || {};window.PLOTLYENV.BASE_URL=\"https://plot.ly\";Plotly.newPlot(\"c24753b9-af59-44e5-9277-9d3b27e958f7\", [{\"type\": \"scatter\", \"x\": [\"11/2015\", \"11/2012\", \"10/2017\", \"10/2016\", \"11/2013\", \"11/2014\"], \"y\": [6.0, 6.0, 8.0, 7.0, 4.0, 4.0], \"name\": \"var_sumfeat\", \"text\": \"\", \"line\": {\"color\": \"rgba(255, 153, 51, 1.0)\", \"width\": 1.3, \"dash\": \"solid\"}, \"mode\": \"lines\"}], {\"legend\": {\"bgcolor\": \"#F5F6F9\", \"font\": {\"color\": \"#4D5663\"}}, \"paper_bgcolor\": \"#F5F6F9\", \"plot_bgcolor\": \"#F5F6F9\", \"yaxis1\": {\"tickfont\": {\"color\": \"#4D5663\"}, \"gridcolor\": \"#E1E5ED\", \"titlefont\": {\"color\": \"#4D5663\"}, \"zerolinecolor\": \"#E1E5ED\", \"showgrid\": true, \"title\": \"\"}, \"xaxis1\": {\"tickfont\": {\"color\": \"#4D5663\"}, \"gridcolor\": \"#E1E5ED\", \"titlefont\": {\"color\": \"#4D5663\"}, \"zerolinecolor\": \"#E1E5ED\", \"showgrid\": true, \"title\": \"\"}, \"titlefont\": {\"color\": \"#4D5663\"}}, {\"showLink\": true, \"linkText\": \"Export to plot.ly\"})});</script>"
      ]
     },
     "metadata": {},
     "output_type": "display_data"
    }
   ],
   "source": [
    "df_3051_sumfeat.iplot(kind='scatter',filename='PATNO 3051 Diag Feat over time')"
   ]
  },
  {
   "cell_type": "code",
   "execution_count": 18,
   "metadata": {},
   "outputs": [],
   "source": [
    "# Plotting the labels of multiple patients\n",
    "np.random.seed(123)\n",
    "sample_10=list(np.random.randint(0,number_of_patients(diagfeat_EADL)[0],10))\n",
    "patients_sample=pd.Series(list(set(diagfeat_EADL['PATNO'])))[sample_10]\n",
    "patients_sample=list(patients_sample.values)\n",
    "patients_sample\n",
    "sub_df=diagfeat_EADL.loc[diagfeat_EADL['PATNO'].isin(patients_sample),:]\n",
    "sub_df['INFODT_date']=sub_df['INFODT'].apply(lambda x: datetime.strptime(x,'%m/%Y'))"
   ]
  },
  {
   "cell_type": "code",
   "execution_count": 45,
   "metadata": {},
   "outputs": [
    {
     "data": {
      "text/plain": [
       "<seaborn.axisgrid.FacetGrid at 0x1a2389ee10>"
      ]
     },
     "execution_count": 45,
     "metadata": {},
     "output_type": "execute_result"
    },
    {
     "data": {
      "image/png": "[encoded data removed]",
      "text/plain": [
       "<Figure size 7200x720 with 10 Axes>"
      ]
     },
     "metadata": {},
     "output_type": "display_data"
    }
   ],
   "source": [
    "# https://seaborn.pydata.org/examples/faceted_histogram.html\n",
    "sns.set(style=\"darkgrid\")\n",
    "g = sns.FacetGrid(sub_df, col=\"PATNO\", margin_titles=True,size=10)\n",
    "#bins = np.linspace(0, 60, 13)\n",
    "g.map(plt.hist, \"MSEADLG\", color=\"steelblue\")"
   ]
  },
  {
   "cell_type": "code",
   "execution_count": 51,
   "metadata": {},
   "outputs": [
    {
     "data": {
      "text/plain": [
       "<seaborn.axisgrid.FacetGrid at 0x1a2bbd7438>"
      ]
     },
     "execution_count": 51,
     "metadata": {},
     "output_type": "execute_result"
    },
    {
     "data": {
      "image/png": "[encoded data removed]",
      "text/plain": [
       "<Figure size 2160x216 with 10 Axes>"
      ]
     },
     "metadata": {},
     "output_type": "display_data"
    }
   ],
   "source": [
    "sns.set(style=\"darkgrid\")\n",
    "g = sns.FacetGrid(sub_df, col=\"PATNO\", margin_titles=True)\n",
    "#bins = np.linspace(0, 60, 13)\n",
    "g.map(plt.plot, \"MSEADLG\", color=\"steelblue\")"
   ]
  },
  {
   "cell_type": "code",
   "execution_count": 50,
   "metadata": {},
   "outputs": [
    {
     "data": {
      "image/png": "[encoded data removed]",
      "text/plain": [
       "<Figure size 432x288 with 1 Axes>"
      ]
     },
     "metadata": {},
     "output_type": "display_data"
    }
   ],
   "source": [
    "ax = sns.stripplot(x=\"PATNO\", y=\"MSEADLG\",data=sub_df, jitter=True)\n",
    "#plt.setp(ax.get_legend().get_texts(), fontsize='22') # for legend text\n",
    "#plt.setp(ax.get_legend().get_title(), fontsize='32') # for legend title\n",
    "plt.show()"
   ]
  },
  {
   "cell_type": "code",
   "execution_count": 33,
   "metadata": {},
   "outputs": [
    {
     "data": {
      "text/plain": [
       "<matplotlib.axes._subplots.AxesSubplot at 0x1a13c4b748>"
      ]
     },
     "execution_count": 33,
     "metadata": {},
     "output_type": "execute_result"
    },
    {
     "data": {
      "image/png": "[encoded data removed]",
      "text/plain": [
       "<Figure size 432x288 with 1 Axes>"
      ]
     },
     "metadata": {},
     "output_type": "display_data"
    }
   ],
   "source": [
    "# Plot the lines on two facets\n",
    "sns.boxplot(y=\"MSEADLG\",\n",
    "            x=\"PATNO\", data=sub_df)"
   ]
  },
  {
   "cell_type": "code",
   "execution_count": null,
   "metadata": {},
   "outputs": [],
   "source": [
    "sub_df=diagfeat_EADL.loc[diagfeat_EADL['PATNO']==patients_sample[0],:]\n",
    "#sub_df"
   ]
  },
  {
   "cell_type": "markdown",
   "metadata": {},
   "source": [
    "# Code from F.Chollet on temperatures forecast - to adapt to my problem"
   ]
  },
  {
   "cell_type": "markdown",
   "metadata": {},
   "source": [
    "## 3-Preparing the data for the RNN"
   ]
  },
  {
   "cell_type": "markdown",
   "metadata": {},
   "source": [
    "### Normalization\n",
    "`mean = float_data[:200000].mean(axis=0)\n",
    "float_data -= mean\n",
    "std = float_data[:200000].std(axis=0)\n",
    "float_data /= std`"
   ]
  },
  {
   "cell_type": "code",
   "execution_count": null,
   "metadata": {},
   "outputs": [],
   "source": [
    "## implementing generator\n",
    "def generator(data, lookback, delay, min_index, max_index,\n",
    "              shuffle=False, batch_size=128, step=6):\n",
    "    if max_index is None:\n",
    "        max_index = len(data) - delay - 1\n",
    "    i = min_index + lookback\n",
    "    while 1:\n",
    "        if shuffle:\n",
    "            rows = np.random.randint(\n",
    "                min_index + lookback, max_index, size=batch_size)\n",
    "        else:\n",
    "            if i + batch_size >= max_index:\n",
    "                i = min_index + lookback\n",
    "            rows = np.arange(i, min(i + batch_size, max_index))\n",
    "            i += len(rows)\n",
    "\n",
    "        samples = np.zeros((len(rows),\n",
    "                           lookback // step,\n",
    "                           data.shape[-1]))\n",
    "        targets = np.zeros((len(rows),))\n",
    "        for j, row in enumerate(rows):\n",
    "            indices = range(rows[j] - lookback, rows[j], step)\n",
    "            samples[j] = data[indices]\n",
    "            targets[j] = data[rows[j] + delay][1]\n",
    "        yield samples, targets"
   ]
  },
  {
   "cell_type": "code",
   "execution_count": null,
   "metadata": {},
   "outputs": [],
   "source": [
    "### train/val/test split\n",
    "lookback = 1440\n",
    "step = 6\n",
    "delay = 144\n",
    "batch_size = 128\n",
    "\n",
    "train_gen = generator(float_data,\n",
    "                      lookback=lookback,\n",
    "                      delay=delay,\n",
    "                      min_index=0,\n",
    "                      max_index=200000,\n",
    "                      shuffle=True,\n",
    "                      step=step, \n",
    "                      batch_size=batch_size)\n",
    "val_gen = generator(float_data,\n",
    "                    lookback=lookback,\n",
    "                    delay=delay,\n",
    "                    min_index=200001,\n",
    "                    max_index=300000,\n",
    "                    step=step,\n",
    "                    batch_size=batch_size)\n",
    "test_gen = generator(float_data,\n",
    "                     lookback=lookback,\n",
    "                     delay=delay,\n",
    "                     min_index=300001,\n",
    "                     max_index=None,\n",
    "                     step=step,\n",
    "                     batch_size=batch_size)\n",
    "\n",
    "# This is how many steps to draw from `val_gen`\n",
    "# in order to see the whole validation set:\n",
    "val_steps = (300000 - 200001 - lookback) // batch_size\n",
    "\n",
    "# This is how many steps to draw from `test_gen`\n",
    "# in order to see the whole test set:\n",
    "test_steps = (len(float_data) - 300001 - lookback) // batch_size"
   ]
  },
  {
   "cell_type": "markdown",
   "metadata": {},
   "source": [
    "## 4- Training w/ baselines. "
   ]
  },
  {
   "cell_type": "code",
   "execution_count": null,
   "metadata": {},
   "outputs": [],
   "source": [
    "def evaluate_naive_method():\n",
    "    batch_maes = []\n",
    "    for step in range(val_steps):\n",
    "        samples, targets = next(val_gen)\n",
    "        preds = samples[:, -1, 1]\n",
    "        mae = np.mean(np.abs(preds - targets))\n",
    "        batch_maes.append(mae)\n",
    "    print(np.mean(batch_maes))\n",
    "    \n",
    "evaluate_naive_method()\n",
    "\n",
    "\n",
    "#### simple NN: \n",
    "from keras.models import Sequential\n",
    "from keras import layers\n",
    "from keras.optimizers import RMSprop\n",
    "\n",
    "model = Sequential()\n",
    "model.add(layers.Flatten(input_shape=(lookback // step, float_data.shape[-1])))\n",
    "model.add(layers.Dense(32, activation='relu'))\n",
    "model.add(layers.Dense(1))\n",
    "\n",
    "model.compile(optimizer=RMSprop(), loss='mae')\n",
    "history = model.fit_generator(train_gen,\n",
    "                              steps_per_epoch=500,\n",
    "                              epochs=20,\n",
    "                              validation_data=val_gen,\n",
    "                              validation_steps=val_steps)\n",
    "\n",
    "import matplotlib.pyplot as plt\n",
    "\n",
    "loss = history.history['loss']\n",
    "val_loss = history.history['val_loss']\n",
    "\n",
    "epochs = range(len(loss))\n",
    "\n",
    "plt.figure()\n",
    "\n",
    "plt.plot(epochs, loss, 'bo', label='Training loss')\n",
    "plt.plot(epochs, val_loss, 'b', label='Validation loss')\n",
    "plt.title('Training and validation loss')\n",
    "plt.legend()\n",
    "\n",
    "plt.show()"
   ]
  },
  {
   "cell_type": "markdown",
   "metadata": {},
   "source": [
    "## 4-Training w a RNN"
   ]
  },
  {
   "cell_type": "markdown",
   "metadata": {},
   "source": [
    "### first RNN. "
   ]
  },
  {
   "cell_type": "code",
   "execution_count": null,
   "metadata": {},
   "outputs": [],
   "source": [
    "from keras.models import Sequential\n",
    "from keras import layers\n",
    "from keras.optimizers import RMSprop\n",
    "\n",
    "model = Sequential()\n",
    "model.add(layers.GRU(32, input_shape=(None, float_data.shape[-1])))\n",
    "model.add(layers.Dense(1))\n",
    "\n",
    "model.compile(optimizer=RMSprop(), loss='mae')\n",
    "history = model.fit_generator(train_gen,\n",
    "                              steps_per_epoch=500,\n",
    "                              epochs=20,\n",
    "                              validation_data=val_gen,\n",
    "                              validation_steps=val_steps)\n",
    "#### plotting results\n",
    "\n",
    "loss = history.history['loss']\n",
    "val_loss = history.history['val_loss']\n",
    "\n",
    "epochs = range(len(loss))\n",
    "\n",
    "plt.figure()\n",
    "\n",
    "plt.plot(epochs, loss, 'bo', label='Training loss')\n",
    "plt.plot(epochs, val_loss, 'b', label='Validation loss')\n",
    "plt.title('Training and validation loss')\n",
    "plt.legend()\n",
    "\n",
    "plt.show()"
   ]
  },
  {
   "cell_type": "markdown",
   "metadata": {},
   "source": [
    "### adding dropout layers to prevent overfitting"
   ]
  },
  {
   "cell_type": "code",
   "execution_count": null,
   "metadata": {},
   "outputs": [],
   "source": [
    "from keras.models import Sequential\n",
    "from keras import layers\n",
    "from keras.optimizers import RMSprop\n",
    "\n",
    "model = Sequential()\n",
    "model.add(layers.GRU(32,\n",
    "                     dropout=0.2,\n",
    "                     recurrent_dropout=0.2,\n",
    "                     input_shape=(None, float_data.shape[-1])))\n",
    "model.add(layers.Dense(1))\n",
    "\n",
    "model.compile(optimizer=RMSprop(), loss='mae')\n",
    "history = model.fit_generator(train_gen,\n",
    "                              steps_per_epoch=500,\n",
    "                              epochs=40,\n",
    "                              validation_data=val_gen,\n",
    "                              validation_steps=val_steps)\n",
    "\n",
    "#### plotting the results\n",
    "loss = history.history['loss']\n",
    "val_loss = history.history['val_loss']\n",
    "\n",
    "epochs = range(len(loss))\n",
    "\n",
    "plt.figure()\n",
    "\n",
    "plt.plot(epochs, loss, 'bo', label='Training loss')\n",
    "plt.plot(epochs, val_loss, 'b', label='Validation loss')\n",
    "plt.title('Training and validation loss')\n",
    "plt.legend()\n",
    "\n",
    "plt.show()"
   ]
  },
  {
   "cell_type": "markdown",
   "metadata": {},
   "source": [
    "### stacking more layers"
   ]
  },
  {
   "cell_type": "code",
   "execution_count": null,
   "metadata": {},
   "outputs": [],
   "source": [
    "from keras.models import Sequential\n",
    "from keras import layers\n",
    "from keras.optimizers import RMSprop\n",
    "\n",
    "model = Sequential()\n",
    "model.add(layers.GRU(32,\n",
    "                     dropout=0.1,\n",
    "                     recurrent_dropout=0.5,\n",
    "                     return_sequences=True,\n",
    "                     input_shape=(None, float_data.shape[-1])))\n",
    "model.add(layers.GRU(64, activation='relu',\n",
    "                     dropout=0.1, \n",
    "                     recurrent_dropout=0.5))\n",
    "model.add(layers.Dense(1))\n",
    "\n",
    "model.compile(optimizer=RMSprop(), loss='mae')\n",
    "history = model.fit_generator(train_gen,\n",
    "                              steps_per_epoch=500,\n",
    "                              epochs=40,\n",
    "                              validation_data=val_gen,\n",
    "                              validation_steps=val_steps)\n",
    "\n",
    "#### plotting the results. \n",
    "loss = history.history['loss']\n",
    "val_loss = history.history['val_loss']\n",
    "\n",
    "epochs = range(len(loss))\n",
    "\n",
    "plt.figure()\n",
    "\n",
    "plt.plot(epochs, loss, 'bo', label='Training loss')\n",
    "plt.plot(epochs, val_loss, 'b', label='Validation loss')\n",
    "plt.title('Training and validation loss')\n",
    "plt.legend()\n",
    "\n",
    "plt.show()"
   ]
  },
  {
   "cell_type": "code",
   "execution_count": null,
   "metadata": {},
   "outputs": [],
   "source": []
  },
  {
   "cell_type": "code",
   "execution_count": null,
   "metadata": {},
   "outputs": [],
   "source": []
  },
  {
   "cell_type": "markdown",
   "metadata": {},
   "source": [
    "## TO USE LATER ON (multi-label classification)"
   ]
  },
  {
   "cell_type": "code",
   "execution_count": null,
   "metadata": {},
   "outputs": [],
   "source": [
    "folder_path='/Users/alicemartin/02_DSR_Project/parkinson-disease-project/data/PPMI-final-dataset-382018/6-Motor-Assessments/'\n",
    "files_names=reading_csv_files(folder_path)[1]\n",
    "dict_files=reading_csv_files(folder_path)[2]\n",
    "\n",
    "### 'MDS_UPDRS_Part_I.csv' - 2010 patients\n",
    "\n",
    "NUPDRS1=dict_files[files_names[2]]\n",
    "print(number_of_patients(NUPDRS1))\n",
    "NUPDRS1.head()\n",
    "\n",
    "### 'MDS_UPDRS_Part_III.csv' - 2010 patients\n",
    "\n",
    "NUPDRS3=dict_files[files_names[7]]\n",
    "print(number_of_patients(NUPDRS3))\n",
    "NUPDRS3.head()"
   ]
  },
  {
   "cell_type": "code",
   "execution_count": null,
   "metadata": {},
   "outputs": [],
   "source": [
    "### 'General_Neurological_Exam.csv': useful: Feat-Gen - 2048 patients\n",
    "\n",
    "PENEURO=dict_files[files_names[7]]\n",
    "SEL=['REC_ID', 'PATNO', 'EVENT_ID', 'PAG_NAME', 'INFODT',\n",
    "       'MSRARSP', 'MSRACM', 'MSLARSP', 'MSLACM', 'MSRLRSP', 'MSRLCM',\n",
    "       'MSLLRSP', 'MSLLCM', 'COFNRRSP', 'COFNRCM', 'COFNLRSP', 'COFNLCM',\n",
    "       'COHSRRSP', 'COHSRCM', 'COHSLRSP', 'COHSLCM', 'SENRARSP', 'SENRACM',\n",
    "       'SENLARSP', 'SENLACM', 'SENRLRSP', 'SENRLCM', 'SENLLRSP', 'SENLLCM',\n",
    "       'RFLRARSP', 'RFLRACM', 'RFLLARSP', 'RFLLACM', 'RFLRLRSP', 'RFLRLCM',\n",
    "       'RFLLLRSP', 'RFLLLCM', 'PLRRRSP', 'PLRRCM', 'PLRLRSP', 'PLRLCM']\n",
    "print(number_of_patients(PENEURO))\n",
    "PENEURO_sel=PENEURO[SEL]\n",
    "PENEURO_sel.head()\n",
    "#list(set(PENEURO['EVENT_ID']))\n",
    "\n",
    "### 'Neurological_Exam_-_Cranial_Nerves.csv': useful: Feat-PD - 2049 patients\n",
    "\n",
    "PENEURO2=dict_files[files_names[13]]\n",
    "PENEURO2.head()\n",
    "PENEURO2.columns\n",
    "\n",
    "SEL=['REC_ID', 'PATNO', 'EVENT_ID', 'PAG_NAME', 'INFODT',\n",
    "       'CN1RSP','CN2RSP', 'CN346RSP','CN5RSP',\n",
    "     'CN7RSP', 'CN8RSP', 'CN910RSP',\n",
    "       'CN11RSP', 'CN12RSP']\n",
    "print(number_of_patients(PENEURO2))\n",
    "PENEURO2_sel=PENEURO2[SEL]\n",
    "PENEURO2_sel.head()\n",
    "#list(set(PENEURO['EVENT_ID']))"
   ]
  },
  {
   "cell_type": "code",
   "execution_count": 56,
   "metadata": {},
   "outputs": [
    {
     "ename": "IndexError",
     "evalue": "list index out of range",
     "output_type": "error",
     "traceback": [
      "\u001b[0;31m---------------------------------------------------------------------------\u001b[0m",
      "\u001b[0;31mIndexError\u001b[0m                                Traceback (most recent call last)",
      "\u001b[0;32m<ipython-input-56-9f057e7676bd>\u001b[0m in \u001b[0;36m<module>\u001b[0;34m()\u001b[0m\n\u001b[1;32m      2\u001b[0m \u001b[0;31m### 2047 patients\u001b[0m\u001b[0;34m\u001b[0m\u001b[0;34m\u001b[0m\u001b[0m\n\u001b[1;32m      3\u001b[0m \u001b[0;34m\u001b[0m\u001b[0m\n\u001b[0;32m----> 4\u001b[0;31m \u001b[0mVITAL\u001b[0m\u001b[0;34m=\u001b[0m\u001b[0mdict_files\u001b[0m\u001b[0;34m[\u001b[0m\u001b[0mfiles_names\u001b[0m\u001b[0;34m[\u001b[0m\u001b[0;36m15\u001b[0m\u001b[0;34m]\u001b[0m\u001b[0;34m]\u001b[0m\u001b[0;34m\u001b[0m\u001b[0m\n\u001b[0m\u001b[1;32m      5\u001b[0m \u001b[0;31m#VITAL.head()\u001b[0m\u001b[0;34m\u001b[0m\u001b[0;34m\u001b[0m\u001b[0m\n\u001b[1;32m      6\u001b[0m \u001b[0;31m#VITAL.columns\u001b[0m\u001b[0;34m\u001b[0m\u001b[0;34m\u001b[0m\u001b[0m\n",
      "\u001b[0;31mIndexError\u001b[0m: list index out of range"
     ]
    }
   ],
   "source": [
    "### 'Vital_Signs.csv': useful: Feat-Gen\n",
    "### 2047 patients\n",
    "\n",
    "VITAL=dict_files[files_names[15]]\n",
    "#VITAL.head()\n",
    "#VITAL.columns\n",
    "\n",
    "SEL=['REC_ID', 'PATNO', 'EVENT_ID', 'PAG_NAME', 'INFODT',\n",
    "       'WGTKG', 'HTCM', 'TEMPC', 'SYSSUP', 'DIASUP', 'HRSUP',\n",
    "       'SYSSTND', 'DIASTND', 'HRSTND']\n",
    "print(number_of_patients(VITAL))\n",
    "VITAL_sel=VITAL[SEL]\n",
    "VITAL_sel.head()"
   ]
  },
  {
   "cell_type": "markdown",
   "metadata": {},
   "source": [
    "### Plotly code bugging: understand why."
   ]
  },
  {
   "cell_type": "markdown",
   "metadata": {},
   "source": [
    "#plotting with plotly \n",
    "import plotly as py\n",
    "py.offline.init_notebook_mode(connected=True)\n",
    "import plotly.graph_objs as go\n",
    "\n",
    "#Traces\n",
    "data=[]\n",
    "for i in patients_sample: \n",
    "    sub_df=diagfeat_EADL.loc[diagfeat_EADL['PATNO']==i,:]\n",
    "    sub_df['INFODT_date']=sub_df['INFODT'].apply(lambda x: datetime.strptime(x,'%m/%Y'))\n",
    "    #print(len(sub_df))\n",
    "    sub_df.dropna(inplace=True)\n",
    "    #trace=dict(type='scatter',x=sub_df['INFODT'],\n",
    "              # y=sub_df['MSEADLG'],\n",
    "              # name='PATNO{}'.format(i))\n",
    "    trace=go.Scatter(x=sub_df['INFODT_date'],y=sub_df['MSEADLG'],name='PATNO{}'.format(i))\n",
    "    data.append(trace)\n",
    "#Figure\n",
    "#fig=go.Figure(data)"
   ]
  },
  {
   "cell_type": "markdown",
   "metadata": {},
   "source": [
    "## GARBAGE. "
   ]
  },
  {
   "cell_type": "code",
   "execution_count": null,
   "metadata": {},
   "outputs": [],
   "source": [
    "## 3-Enrollment \n",
    "\n",
    "folder_path='/Users/alicemartin/02_DSR_Project/parkinson-disease-project/data/PPMI-final-dataset-382018/3-Enrollment/'\n",
    "files_names=reading_csv_files(folder_path)[1]\n",
    "dict_files=reading_csv_files(folder_path)[2]\n",
    "\n",
    "### 'Primary_Diagnosis.csv' - useful: Feat-Gen - 789 patients... \n",
    "### 54% of them are PD patients.\n",
    "\n",
    "### 'Primary_Diagnosis.csv' - useful: Feat-Gen\n",
    "PRIMDXPD=dict_files[files_names[8]]\n",
    "#PRIMDXPD.head()\n",
    "#PRIMDXPD.columns\n",
    "\n",
    "SEL=['REC_ID', 'F_STATUS', 'PATNO', 'EVENT_ID', 'PAG_NAME', 'INFODT',\n",
    "       'PRIMDIAG', 'OTHNEURO']\n",
    "print(number_of_patients(PRIMDXPD))\n",
    "PRIMDXPD_sel=PRIMDXPD[SEL]\n",
    "#list(set(PRIMDXPD['EVENT_ID']))\n",
    "print(list(set(PRIMDXPD_sel['PRIMDIAG'])))\n",
    "PRIMDXPD_sel.head()\n",
    "patients_PRIMDXPD=list(set(PRIMDXPD['PATNO']))\n",
    "mask_PD=pd.Series(patients_PRIMDXPD).isin(PD_patients)\n",
    "np.average(mask_PD)"
   ]
  }
 ],
 "metadata": {
  "kernelspec": {
   "display_name": "Python 3",
   "language": "python",
   "name": "python3"
  },
  "language_info": {
   "codemirror_mode": {
    "name": "ipython",
    "version": 3
   },
   "file_extension": ".py",
   "mimetype": "text/x-python",
   "name": "python",
   "nbconvert_exporter": "python",
   "pygments_lexer": "ipython3",
   "version": "3.6.4"
  }
 },
 "nbformat": 4,
 "nbformat_minor": 2
}
