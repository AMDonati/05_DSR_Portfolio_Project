{
 "cells": [
  {
   "cell_type": "markdown",
   "metadata": {},
   "source": [
    "## TO DO: \n",
    "#### Understand what is the source of the perfect training accuracy: \n",
    "* data leakage? overfitting? unbalanced dataset? \n",
    "* do cross-validation \n",
    "* Look at the heatmap of the motor assessments (UPDRS & MSEADLG) to see if there are high correlation with NHY\n",
    "* Logistic Regression: play on the C parameter\n",
    "* RF: play on the parameters that can reduce overfitting\n",
    "\n",
    "* prepare the time-series dataset: sequence length: 4 with min of 2 (rest is padding), with 3 as input. "
   ]
  },
  {
   "cell_type": "markdown",
   "metadata": {},
   "source": [
    "## REFERENCES"
   ]
  },
  {
   "cell_type": "markdown",
   "metadata": {},
   "source": [
    "#### NOTEBOOKS - classic ML\n",
    "* [DSR- Gerrit- intro to ML] (http://localhost:8889/notebooks/00_TRAINING/02_DSR/05_ML_Geritt_Week2/Machine%20Learning%20-%20DSR%20Intro.ipynb)\n",
    "* [DSR-Gerrit- Boosting & XGBoost]\n",
    "http://localhost:8889/notebooks/00_TRAINING/02_DSR/05_ML_Geritt_Week2/Boosting%20and%20XGBoost.ipynb\n",
    "* [DSR-Gerrit- RF]\n",
    "(http://localhost:8889/notebooks/00_TRAINING/02_DSR/05_ML_Geritt_Week2/%20RF%20notebooks/DecisionTrees_Intro.ipynb)\n",
    "* [DSR-Gerrit-Evaluation models] (http://localhost:8889/notebooks/00_TRAINING/02_DSR/05_ML_Geritt_Week2/exercises/Evaluation%20Solutions.ipynb)\n",
    "* [DSR-Gerrit- Bayesian Learning]\n",
    "(http://localhost:8889/notebooks/00_TRAINING/02_DSR/05_ML_Geritt_Week2/exercises/Bayesian%20Learning%20Solutions.ipynb)\n",
    "* [DSR-Rachel-ML Pipelines]\n",
    "(http://localhost:8889/notebooks/00_TRAINING/02_DSR/10_DSR_Model_Pipelines_Rachel/1.3%20Pipelines%20.ipynb)\n",
    "#### GITHUB repos: \n",
    "* **Hands-On Machine Learning w/scikit-learn and TensorFlow book: https://github.com/AMDonati/handson-ml**\n",
    "* sci-kit learn: https://github.com/AMDonati/scikit-learn/tree/master/sklearn\n",
    "* https://github.com/AMDonati/data-science-ipython-notebooks\n",
    "* Data Science w/ Python handbook: https://github.com/AMDonati/PythonDataScienceHandbook\n",
    "* https://github.com/AMDonati/machine-learning-cheat-sheet\n",
    "#### Specific to time-series: \n",
    "* https://github.com/ChadFulton/tsa-notebooks\n",
    "* https://github.com/maxim5/time-series-machine-learning"
   ]
  },
  {
   "cell_type": "markdown",
   "metadata": {},
   "source": [
    "## FRAMEWORK\n",
    "3. Preparing the data for the ML algo:\n",
    "    * Dimensionality reduction? \n",
    "    * Standardization/ normalisation? \n",
    "    * split train/val/test\n",
    "    * do something special for the multi-label classification problem?\n",
    "4. Select and train the model\n",
    "5. Model Evaluation: \n",
    "    * Fine-tune the model\n",
    "    * Cross-validtion\n",
    "    * Metrics plotting"
   ]
  },
  {
   "cell_type": "markdown",
   "metadata": {},
   "source": [
    "## 0. Imports & functions"
   ]
  },
  {
   "cell_type": "code",
   "execution_count": 1,
   "metadata": {},
   "outputs": [
    {
     "name": "stderr",
     "output_type": "stream",
     "text": [
      "/anaconda3/lib/python3.6/site-packages/sklearn/cross_validation.py:41: DeprecationWarning: This module was deprecated in version 0.18 in favor of the model_selection module into which all the refactored classes and functions are moved. Also note that the interface of the new CV iterators are different from that of this module. This module will be removed in 0.20.\n",
      "  \"This module will be removed in 0.20.\", DeprecationWarning)\n"
     ]
    }
   ],
   "source": [
    "#imports \n",
    "import numpy as np \n",
    "import pandas as pd \n",
    "import matplotlib.pyplot as plt\n",
    "\n",
    "import sklearn\n",
    "from sklearn.dummy import DummyRegressor\n",
    "from sklearn.linear_model import LogisticRegression\n",
    "from sklearn.model_selection import train_test_split\n",
    "from sklearn.ensemble import RandomForestClassifier\n",
    "from sklearn.metrics import classification_report\n",
    "from sklearn.metrics import roc_curve\n",
    "import sklearn.cross_validation as cv\n",
    "from sklearn.model_selection import ShuffleSplit\n",
    "from sklearn.model_selection import GridSearchCV\n",
    "from sklearn.model_selection import validation_curve\n",
    "from sklearn.metrics import confusion_matrix\n",
    "\n",
    "\n",
    "import warnings\n",
    "warnings.filterwarnings('ignore')"
   ]
  },
  {
   "cell_type": "code",
   "execution_count": 54,
   "metadata": {},
   "outputs": [
    {
     "name": "stdout",
     "output_type": "stream",
     "text": [
      "Collecting imbalanced-learn\n",
      "  Using cached https://files.pythonhosted.org/packages/80/a4/900463a3c0af082aed9c5a43f4ec317a9469710c5ef80496c9abc26ed0ca/imbalanced_learn-0.3.3-py3-none-any.whl\n",
      "Requirement already satisfied, skipping upgrade: scikit-learn in /Users/alicemartin/miniconda3/lib/python3.6/site-packages (from imbalanced-learn) (0.19.2)\n",
      "Requirement already satisfied, skipping upgrade: numpy in /Users/alicemartin/miniconda3/lib/python3.6/site-packages (from imbalanced-learn) (1.15.0)\n",
      "Requirement already satisfied, skipping upgrade: scipy in /Users/alicemartin/miniconda3/lib/python3.6/site-packages (from imbalanced-learn) (1.1.0)\n",
      "Installing collected packages: imbalanced-learn\n",
      "  Found existing installation: imbalanced-learn 0.3.1\n",
      "    Uninstalling imbalanced-learn-0.3.1:\n",
      "      Successfully uninstalled imbalanced-learn-0.3.1\n",
      "Successfully installed imbalanced-learn-0.3.3\n"
     ]
    }
   ],
   "source": [
    "!pip install -U imbalanced-learn"
   ]
  },
  {
   "cell_type": "markdown",
   "metadata": {},
   "source": [
    "### 1. Building a model: template"
   ]
  },
  {
   "cell_type": "markdown",
   "metadata": {},
   "source": [
    "\n",
    "#### C = 1/lambda, the parameter of the sigmoid function\n",
    "#### lambda = 0.001, 0.005, 0.01, 0.05, ..., 1, 5, 10, 50\n",
    "from sklearn.metrics import classification_report\n",
    "report = classification_report(y_test, \n",
    "                      logreg.predict(X_test), \n",
    "                      #labels=data.feature_names,\n",
    "                      target_names=data.target_names)\n",
    "print(report)"
   ]
  },
  {
   "cell_type": "markdown",
   "metadata": {},
   "source": [
    "### Models to train\n",
    "0. Persistence baseline\n",
    "1. RF regressor for features importance\n",
    "2. Logistic Regression for times-series forecast (with sample weighted loss?)\n",
    "2. RF/ XGBoost for time-series prediction"
   ]
  },
  {
   "cell_type": "markdown",
   "metadata": {},
   "source": [
    "### About the use of RF as a features importance selector: \n",
    "* https://towardsdatascience.com/running-random-forests-inspect-the-feature-importances-with-this-code-2b00dd72b92e\n",
    "* https://medium.com/the-artificial-impostor/feature-importance-measures-for-tree-models-part-i-47f187c1a2c3\n",
    "* https://chrisalbon.com/machine_learning/trees_and_forests/feature_selection_using_random_forest/"
   ]
  },
  {
   "cell_type": "markdown",
   "metadata": {},
   "source": [
    "### Run a random forest on the 2 possible labels (NHY & MODEADL)\n",
    "### Take different targets values to see how it evolves. \n",
    "### Take also all samples with the mean. \n",
    "* DiagFeat\n",
    "* Non-Motor Assessments\n",
    "* Motor Assessments\n",
    "* General Medical Data"
   ]
  },
  {
   "cell_type": "markdown",
   "metadata": {},
   "source": [
    "# I. Features importance & Non TS classification of Disease Progression"
   ]
  },
  {
   "cell_type": "markdown",
   "metadata": {},
   "source": [
    "## 1. Data preparation"
   ]
  },
  {
   "cell_type": "code",
   "execution_count": 3,
   "metadata": {},
   "outputs": [
    {
     "data": {
      "text/html": [
       "<div>\n",
       "<style scoped>\n",
       "    .dataframe tbody tr th:only-of-type {\n",
       "        vertical-align: middle;\n",
       "    }\n",
       "\n",
       "    .dataframe tbody tr th {\n",
       "        vertical-align: top;\n",
       "    }\n",
       "\n",
       "    .dataframe thead th {\n",
       "        text-align: right;\n",
       "    }\n",
       "</style>\n",
       "<table border=\"1\" class=\"dataframe\">\n",
       "  <thead>\n",
       "    <tr style=\"text-align: right;\">\n",
       "      <th></th>\n",
       "      <th>PATNO</th>\n",
       "      <th>INFODT_date</th>\n",
       "      <th>NP1COG</th>\n",
       "      <th>NP1HALL</th>\n",
       "      <th>NP1DPRS</th>\n",
       "      <th>NP1ANXS</th>\n",
       "      <th>NP1APAT</th>\n",
       "      <th>NP1DDS</th>\n",
       "      <th>NP2SPCH</th>\n",
       "      <th>NP2SALV</th>\n",
       "      <th>...</th>\n",
       "      <th>DXPOSINS</th>\n",
       "      <th>DXOTHSX</th>\n",
       "      <th>DOMSIDE</th>\n",
       "      <th>num_visits</th>\n",
       "      <th>VISIT_ID</th>\n",
       "      <th>visitsdiff_days</th>\n",
       "      <th>lastDate_diff_days</th>\n",
       "      <th>PDDXDT_diff_days</th>\n",
       "      <th>PDMEDT_diff_days</th>\n",
       "      <th>PDSURGDT_diff_days</th>\n",
       "    </tr>\n",
       "  </thead>\n",
       "  <tbody>\n",
       "    <tr>\n",
       "      <th>0</th>\n",
       "      <td>3001</td>\n",
       "      <td>2011-02-01</td>\n",
       "      <td>0.0</td>\n",
       "      <td>0.0</td>\n",
       "      <td>0.0</td>\n",
       "      <td>1.0</td>\n",
       "      <td>0.0</td>\n",
       "      <td>0.0</td>\n",
       "      <td>0.0</td>\n",
       "      <td>0.0</td>\n",
       "      <td>...</td>\n",
       "      <td>0</td>\n",
       "      <td>0</td>\n",
       "      <td>2</td>\n",
       "      <td>7</td>\n",
       "      <td>1</td>\n",
       "      <td>0</td>\n",
       "      <td>2707</td>\n",
       "      <td>306</td>\n",
       "      <td>0</td>\n",
       "      <td>0</td>\n",
       "    </tr>\n",
       "    <tr>\n",
       "      <th>1</th>\n",
       "      <td>3001</td>\n",
       "      <td>2012-03-01</td>\n",
       "      <td>1.0</td>\n",
       "      <td>0.0</td>\n",
       "      <td>1.0</td>\n",
       "      <td>1.0</td>\n",
       "      <td>1.0</td>\n",
       "      <td>0.0</td>\n",
       "      <td>0.0</td>\n",
       "      <td>0.0</td>\n",
       "      <td>...</td>\n",
       "      <td>0</td>\n",
       "      <td>0</td>\n",
       "      <td>2</td>\n",
       "      <td>7</td>\n",
       "      <td>2</td>\n",
       "      <td>394</td>\n",
       "      <td>2313</td>\n",
       "      <td>700</td>\n",
       "      <td>0</td>\n",
       "      <td>0</td>\n",
       "    </tr>\n",
       "    <tr>\n",
       "      <th>2</th>\n",
       "      <td>3001</td>\n",
       "      <td>2013-05-01</td>\n",
       "      <td>0.0</td>\n",
       "      <td>0.0</td>\n",
       "      <td>0.0</td>\n",
       "      <td>0.0</td>\n",
       "      <td>0.0</td>\n",
       "      <td>0.0</td>\n",
       "      <td>0.0</td>\n",
       "      <td>0.0</td>\n",
       "      <td>...</td>\n",
       "      <td>0</td>\n",
       "      <td>0</td>\n",
       "      <td>2</td>\n",
       "      <td>7</td>\n",
       "      <td>3</td>\n",
       "      <td>426</td>\n",
       "      <td>1887</td>\n",
       "      <td>1126</td>\n",
       "      <td>0</td>\n",
       "      <td>0</td>\n",
       "    </tr>\n",
       "    <tr>\n",
       "      <th>3</th>\n",
       "      <td>3001</td>\n",
       "      <td>2014-04-01</td>\n",
       "      <td>0.0</td>\n",
       "      <td>0.0</td>\n",
       "      <td>0.0</td>\n",
       "      <td>1.0</td>\n",
       "      <td>0.0</td>\n",
       "      <td>0.0</td>\n",
       "      <td>0.0</td>\n",
       "      <td>0.0</td>\n",
       "      <td>...</td>\n",
       "      <td>0</td>\n",
       "      <td>0</td>\n",
       "      <td>2</td>\n",
       "      <td>7</td>\n",
       "      <td>4</td>\n",
       "      <td>335</td>\n",
       "      <td>1552</td>\n",
       "      <td>1461</td>\n",
       "      <td>0</td>\n",
       "      <td>0</td>\n",
       "    </tr>\n",
       "    <tr>\n",
       "      <th>4</th>\n",
       "      <td>3001</td>\n",
       "      <td>2015-04-01</td>\n",
       "      <td>0.0</td>\n",
       "      <td>0.0</td>\n",
       "      <td>0.0</td>\n",
       "      <td>1.0</td>\n",
       "      <td>0.0</td>\n",
       "      <td>0.0</td>\n",
       "      <td>0.0</td>\n",
       "      <td>0.0</td>\n",
       "      <td>...</td>\n",
       "      <td>0</td>\n",
       "      <td>0</td>\n",
       "      <td>2</td>\n",
       "      <td>7</td>\n",
       "      <td>5</td>\n",
       "      <td>365</td>\n",
       "      <td>1187</td>\n",
       "      <td>1826</td>\n",
       "      <td>0</td>\n",
       "      <td>0</td>\n",
       "    </tr>\n",
       "  </tbody>\n",
       "</table>\n",
       "<p>5 rows × 376 columns</p>\n",
       "</div>"
      ],
      "text/plain": [
       "   PATNO INFODT_date  NP1COG  NP1HALL  NP1DPRS  NP1ANXS  NP1APAT  NP1DDS  \\\n",
       "0   3001  2011-02-01     0.0      0.0      0.0      1.0      0.0     0.0   \n",
       "1   3001  2012-03-01     1.0      0.0      1.0      1.0      1.0     0.0   \n",
       "2   3001  2013-05-01     0.0      0.0      0.0      0.0      0.0     0.0   \n",
       "3   3001  2014-04-01     0.0      0.0      0.0      1.0      0.0     0.0   \n",
       "4   3001  2015-04-01     0.0      0.0      0.0      1.0      0.0     0.0   \n",
       "\n",
       "   NP2SPCH  NP2SALV         ...          DXPOSINS  DXOTHSX  DOMSIDE  \\\n",
       "0      0.0      0.0         ...                 0        0        2   \n",
       "1      0.0      0.0         ...                 0        0        2   \n",
       "2      0.0      0.0         ...                 0        0        2   \n",
       "3      0.0      0.0         ...                 0        0        2   \n",
       "4      0.0      0.0         ...                 0        0        2   \n",
       "\n",
       "   num_visits  VISIT_ID  visitsdiff_days  lastDate_diff_days  \\\n",
       "0           7         1                0                2707   \n",
       "1           7         2              394                2313   \n",
       "2           7         3              426                1887   \n",
       "3           7         4              335                1552   \n",
       "4           7         5              365                1187   \n",
       "\n",
       "   PDDXDT_diff_days  PDMEDT_diff_days  PDSURGDT_diff_days  \n",
       "0               306                 0                   0  \n",
       "1               700                 0                   0  \n",
       "2              1126                 0                   0  \n",
       "3              1461                 0                   0  \n",
       "4              1826                 0                   0  \n",
       "\n",
       "[5 rows x 376 columns]"
      ]
     },
     "execution_count": 3,
     "metadata": {},
     "output_type": "execute_result"
    }
   ],
   "source": [
    "file_path='/Users/alicemartin/02_DSR_Project/parkinson-disease-project/output/pre-processing/dfFinal.csv'\n",
    "df=pd.read_csv(file_path)\n",
    "df.drop(columns='Unnamed: 0',inplace=True)\n",
    "df.drop(columns=['EVENT_ID','INFODT'],inplace=True)\n",
    "#df.set_index(keys=['PATNO'],inplace=True)\n",
    "df.head()"
   ]
  },
  {
   "cell_type": "code",
   "execution_count": 4,
   "metadata": {},
   "outputs": [
    {
     "data": {
      "text/html": [
       "<div>\n",
       "<style scoped>\n",
       "    .dataframe tbody tr th:only-of-type {\n",
       "        vertical-align: middle;\n",
       "    }\n",
       "\n",
       "    .dataframe tbody tr th {\n",
       "        vertical-align: top;\n",
       "    }\n",
       "\n",
       "    .dataframe thead th {\n",
       "        text-align: right;\n",
       "    }\n",
       "</style>\n",
       "<table border=\"1\" class=\"dataframe\">\n",
       "  <thead>\n",
       "    <tr style=\"text-align: right;\">\n",
       "      <th></th>\n",
       "      <th>NP1COG</th>\n",
       "      <th>NP1HALL</th>\n",
       "      <th>NP1DPRS</th>\n",
       "      <th>NP1ANXS</th>\n",
       "      <th>NP1APAT</th>\n",
       "      <th>NP1DDS</th>\n",
       "      <th>NP2SPCH</th>\n",
       "      <th>NP2SALV</th>\n",
       "      <th>NP2SWAL</th>\n",
       "      <th>NP2EAT</th>\n",
       "      <th>...</th>\n",
       "      <th>DXRIGID</th>\n",
       "      <th>DXBRADY</th>\n",
       "      <th>DXPOSINS</th>\n",
       "      <th>DXOTHSX</th>\n",
       "      <th>DOMSIDE</th>\n",
       "      <th>num_visits</th>\n",
       "      <th>lastDate_diff_days</th>\n",
       "      <th>PDDXDT_diff_days</th>\n",
       "      <th>PDMEDT_diff_days</th>\n",
       "      <th>PDSURGDT_diff_days</th>\n",
       "    </tr>\n",
       "    <tr>\n",
       "      <th>PATNO</th>\n",
       "      <th></th>\n",
       "      <th></th>\n",
       "      <th></th>\n",
       "      <th></th>\n",
       "      <th></th>\n",
       "      <th></th>\n",
       "      <th></th>\n",
       "      <th></th>\n",
       "      <th></th>\n",
       "      <th></th>\n",
       "      <th></th>\n",
       "      <th></th>\n",
       "      <th></th>\n",
       "      <th></th>\n",
       "      <th></th>\n",
       "      <th></th>\n",
       "      <th></th>\n",
       "      <th></th>\n",
       "      <th></th>\n",
       "      <th></th>\n",
       "      <th></th>\n",
       "    </tr>\n",
       "  </thead>\n",
       "  <tbody>\n",
       "    <tr>\n",
       "      <th>3001</th>\n",
       "      <td>0.0</td>\n",
       "      <td>0.0</td>\n",
       "      <td>0.0</td>\n",
       "      <td>1.0</td>\n",
       "      <td>0.0</td>\n",
       "      <td>0.0</td>\n",
       "      <td>0.0</td>\n",
       "      <td>0.0</td>\n",
       "      <td>0.0</td>\n",
       "      <td>0.0</td>\n",
       "      <td>...</td>\n",
       "      <td>1.0</td>\n",
       "      <td>1.0</td>\n",
       "      <td>0.0</td>\n",
       "      <td>0.0</td>\n",
       "      <td>2.0</td>\n",
       "      <td>7.0</td>\n",
       "      <td>1552.0</td>\n",
       "      <td>1461.0</td>\n",
       "      <td>0.0</td>\n",
       "      <td>0.0</td>\n",
       "    </tr>\n",
       "    <tr>\n",
       "      <th>3002</th>\n",
       "      <td>1.0</td>\n",
       "      <td>0.0</td>\n",
       "      <td>1.0</td>\n",
       "      <td>1.0</td>\n",
       "      <td>0.0</td>\n",
       "      <td>0.0</td>\n",
       "      <td>1.5</td>\n",
       "      <td>2.5</td>\n",
       "      <td>1.0</td>\n",
       "      <td>1.0</td>\n",
       "      <td>...</td>\n",
       "      <td>0.0</td>\n",
       "      <td>1.0</td>\n",
       "      <td>0.0</td>\n",
       "      <td>1.0</td>\n",
       "      <td>1.0</td>\n",
       "      <td>6.0</td>\n",
       "      <td>1567.5</td>\n",
       "      <td>1504.5</td>\n",
       "      <td>0.0</td>\n",
       "      <td>0.0</td>\n",
       "    </tr>\n",
       "    <tr>\n",
       "      <th>3003</th>\n",
       "      <td>0.0</td>\n",
       "      <td>0.0</td>\n",
       "      <td>0.0</td>\n",
       "      <td>0.0</td>\n",
       "      <td>0.0</td>\n",
       "      <td>0.0</td>\n",
       "      <td>2.0</td>\n",
       "      <td>0.0</td>\n",
       "      <td>1.0</td>\n",
       "      <td>1.0</td>\n",
       "      <td>...</td>\n",
       "      <td>1.0</td>\n",
       "      <td>1.0</td>\n",
       "      <td>1.0</td>\n",
       "      <td>1.0</td>\n",
       "      <td>2.0</td>\n",
       "      <td>7.0</td>\n",
       "      <td>1552.0</td>\n",
       "      <td>1857.0</td>\n",
       "      <td>0.0</td>\n",
       "      <td>0.0</td>\n",
       "    </tr>\n",
       "    <tr>\n",
       "      <th>3006</th>\n",
       "      <td>0.0</td>\n",
       "      <td>0.0</td>\n",
       "      <td>0.5</td>\n",
       "      <td>1.0</td>\n",
       "      <td>0.0</td>\n",
       "      <td>0.0</td>\n",
       "      <td>2.5</td>\n",
       "      <td>0.0</td>\n",
       "      <td>1.0</td>\n",
       "      <td>1.0</td>\n",
       "      <td>...</td>\n",
       "      <td>1.0</td>\n",
       "      <td>1.0</td>\n",
       "      <td>0.0</td>\n",
       "      <td>0.0</td>\n",
       "      <td>2.0</td>\n",
       "      <td>2.0</td>\n",
       "      <td>2465.5</td>\n",
       "      <td>333.5</td>\n",
       "      <td>0.0</td>\n",
       "      <td>0.0</td>\n",
       "    </tr>\n",
       "    <tr>\n",
       "      <th>3007</th>\n",
       "      <td>1.0</td>\n",
       "      <td>0.0</td>\n",
       "      <td>0.0</td>\n",
       "      <td>0.0</td>\n",
       "      <td>0.0</td>\n",
       "      <td>0.0</td>\n",
       "      <td>0.0</td>\n",
       "      <td>3.0</td>\n",
       "      <td>0.0</td>\n",
       "      <td>1.0</td>\n",
       "      <td>...</td>\n",
       "      <td>1.0</td>\n",
       "      <td>1.0</td>\n",
       "      <td>0.0</td>\n",
       "      <td>1.0</td>\n",
       "      <td>2.0</td>\n",
       "      <td>1.0</td>\n",
       "      <td>2648.0</td>\n",
       "      <td>90.0</td>\n",
       "      <td>0.0</td>\n",
       "      <td>0.0</td>\n",
       "    </tr>\n",
       "  </tbody>\n",
       "</table>\n",
       "<p>5 rows × 372 columns</p>\n",
       "</div>"
      ],
      "text/plain": [
       "       NP1COG  NP1HALL  NP1DPRS  NP1ANXS  NP1APAT  NP1DDS  NP2SPCH  NP2SALV  \\\n",
       "PATNO                                                                         \n",
       "3001      0.0      0.0      0.0      1.0      0.0     0.0      0.0      0.0   \n",
       "3002      1.0      0.0      1.0      1.0      0.0     0.0      1.5      2.5   \n",
       "3003      0.0      0.0      0.0      0.0      0.0     0.0      2.0      0.0   \n",
       "3006      0.0      0.0      0.5      1.0      0.0     0.0      2.5      0.0   \n",
       "3007      1.0      0.0      0.0      0.0      0.0     0.0      0.0      3.0   \n",
       "\n",
       "       NP2SWAL  NP2EAT         ...          DXRIGID  DXBRADY  DXPOSINS  \\\n",
       "PATNO                          ...                                       \n",
       "3001       0.0     0.0         ...              1.0      1.0       0.0   \n",
       "3002       1.0     1.0         ...              0.0      1.0       0.0   \n",
       "3003       1.0     1.0         ...              1.0      1.0       1.0   \n",
       "3006       1.0     1.0         ...              1.0      1.0       0.0   \n",
       "3007       0.0     1.0         ...              1.0      1.0       0.0   \n",
       "\n",
       "       DXOTHSX  DOMSIDE  num_visits  lastDate_diff_days  PDDXDT_diff_days  \\\n",
       "PATNO                                                                       \n",
       "3001       0.0      2.0         7.0              1552.0            1461.0   \n",
       "3002       1.0      1.0         6.0              1567.5            1504.5   \n",
       "3003       1.0      2.0         7.0              1552.0            1857.0   \n",
       "3006       0.0      2.0         2.0              2465.5             333.5   \n",
       "3007       1.0      2.0         1.0              2648.0              90.0   \n",
       "\n",
       "       PDMEDT_diff_days  PDSURGDT_diff_days  \n",
       "PATNO                                        \n",
       "3001                0.0                 0.0  \n",
       "3002                0.0                 0.0  \n",
       "3003                0.0                 0.0  \n",
       "3006                0.0                 0.0  \n",
       "3007                0.0                 0.0  \n",
       "\n",
       "[5 rows x 372 columns]"
      ]
     },
     "execution_count": 4,
     "metadata": {},
     "output_type": "execute_result"
    }
   ],
   "source": [
    "dfAgg=df.groupby('PATNO').agg('median')\n",
    "dfAgg.drop(columns=['visitsdiff_days','VISIT_ID'],inplace=True)\n",
    "dfAgg['NHY']=dfAgg['NHY'].apply(lambda x: round(x,0))\n",
    "dfAgg.head()"
   ]
  },
  {
   "cell_type": "code",
   "execution_count": 5,
   "metadata": {},
   "outputs": [
    {
     "data": {
      "text/plain": [
       "2.0    692\n",
       "0.0    683\n",
       "1.0    203\n",
       "3.0     69\n",
       "4.0     24\n",
       "5.0      3\n",
       "Name: NHY, dtype: int64"
      ]
     },
     "execution_count": 5,
     "metadata": {},
     "output_type": "execute_result"
    }
   ],
   "source": [
    "dfAgg['NHY'].value_counts()"
   ]
  },
  {
   "cell_type": "markdown",
   "metadata": {},
   "source": [
    "## 2. Split train, test"
   ]
  },
  {
   "cell_type": "code",
   "execution_count": 6,
   "metadata": {},
   "outputs": [
    {
     "data": {
      "text/html": [
       "<div>\n",
       "<style scoped>\n",
       "    .dataframe tbody tr th:only-of-type {\n",
       "        vertical-align: middle;\n",
       "    }\n",
       "\n",
       "    .dataframe tbody tr th {\n",
       "        vertical-align: top;\n",
       "    }\n",
       "\n",
       "    .dataframe thead th {\n",
       "        text-align: right;\n",
       "    }\n",
       "</style>\n",
       "<table border=\"1\" class=\"dataframe\">\n",
       "  <thead>\n",
       "    <tr style=\"text-align: right;\">\n",
       "      <th></th>\n",
       "      <th>NP1COG</th>\n",
       "      <th>NP1HALL</th>\n",
       "      <th>NP1DPRS</th>\n",
       "      <th>NP1ANXS</th>\n",
       "      <th>NP1APAT</th>\n",
       "      <th>NP1DDS</th>\n",
       "      <th>NP2SPCH</th>\n",
       "      <th>NP2SALV</th>\n",
       "      <th>NP2SWAL</th>\n",
       "      <th>NP2EAT</th>\n",
       "      <th>...</th>\n",
       "      <th>DXRIGID</th>\n",
       "      <th>DXBRADY</th>\n",
       "      <th>DXPOSINS</th>\n",
       "      <th>DXOTHSX</th>\n",
       "      <th>DOMSIDE</th>\n",
       "      <th>num_visits</th>\n",
       "      <th>lastDate_diff_days</th>\n",
       "      <th>PDDXDT_diff_days</th>\n",
       "      <th>PDMEDT_diff_days</th>\n",
       "      <th>PDSURGDT_diff_days</th>\n",
       "    </tr>\n",
       "    <tr>\n",
       "      <th>PATNO</th>\n",
       "      <th></th>\n",
       "      <th></th>\n",
       "      <th></th>\n",
       "      <th></th>\n",
       "      <th></th>\n",
       "      <th></th>\n",
       "      <th></th>\n",
       "      <th></th>\n",
       "      <th></th>\n",
       "      <th></th>\n",
       "      <th></th>\n",
       "      <th></th>\n",
       "      <th></th>\n",
       "      <th></th>\n",
       "      <th></th>\n",
       "      <th></th>\n",
       "      <th></th>\n",
       "      <th></th>\n",
       "      <th></th>\n",
       "      <th></th>\n",
       "      <th></th>\n",
       "    </tr>\n",
       "  </thead>\n",
       "  <tbody>\n",
       "    <tr>\n",
       "      <th>12898</th>\n",
       "      <td>0.0</td>\n",
       "      <td>0.0</td>\n",
       "      <td>0.0</td>\n",
       "      <td>0.0</td>\n",
       "      <td>0.0</td>\n",
       "      <td>0.0</td>\n",
       "      <td>0.0</td>\n",
       "      <td>0.0</td>\n",
       "      <td>0.0</td>\n",
       "      <td>0.0</td>\n",
       "      <td>...</td>\n",
       "      <td>0.0</td>\n",
       "      <td>0.0</td>\n",
       "      <td>0.0</td>\n",
       "      <td>0.0</td>\n",
       "      <td>0.0</td>\n",
       "      <td>1.0</td>\n",
       "      <td>1734.0</td>\n",
       "      <td>0.0</td>\n",
       "      <td>0.0</td>\n",
       "      <td>0.0</td>\n",
       "    </tr>\n",
       "    <tr>\n",
       "      <th>41544</th>\n",
       "      <td>0.0</td>\n",
       "      <td>0.0</td>\n",
       "      <td>0.0</td>\n",
       "      <td>0.0</td>\n",
       "      <td>0.0</td>\n",
       "      <td>0.0</td>\n",
       "      <td>0.0</td>\n",
       "      <td>0.0</td>\n",
       "      <td>0.0</td>\n",
       "      <td>0.0</td>\n",
       "      <td>...</td>\n",
       "      <td>0.0</td>\n",
       "      <td>0.0</td>\n",
       "      <td>0.0</td>\n",
       "      <td>0.0</td>\n",
       "      <td>0.0</td>\n",
       "      <td>2.0</td>\n",
       "      <td>745.5</td>\n",
       "      <td>0.0</td>\n",
       "      <td>0.0</td>\n",
       "      <td>0.0</td>\n",
       "    </tr>\n",
       "    <tr>\n",
       "      <th>41284</th>\n",
       "      <td>0.0</td>\n",
       "      <td>0.0</td>\n",
       "      <td>0.0</td>\n",
       "      <td>0.0</td>\n",
       "      <td>0.0</td>\n",
       "      <td>0.0</td>\n",
       "      <td>0.0</td>\n",
       "      <td>0.0</td>\n",
       "      <td>0.0</td>\n",
       "      <td>0.0</td>\n",
       "      <td>...</td>\n",
       "      <td>0.0</td>\n",
       "      <td>0.0</td>\n",
       "      <td>0.0</td>\n",
       "      <td>0.0</td>\n",
       "      <td>0.0</td>\n",
       "      <td>4.0</td>\n",
       "      <td>455.0</td>\n",
       "      <td>0.0</td>\n",
       "      <td>0.0</td>\n",
       "      <td>0.0</td>\n",
       "    </tr>\n",
       "    <tr>\n",
       "      <th>53015</th>\n",
       "      <td>0.0</td>\n",
       "      <td>0.0</td>\n",
       "      <td>0.0</td>\n",
       "      <td>0.0</td>\n",
       "      <td>0.0</td>\n",
       "      <td>0.0</td>\n",
       "      <td>0.0</td>\n",
       "      <td>0.0</td>\n",
       "      <td>0.0</td>\n",
       "      <td>0.0</td>\n",
       "      <td>...</td>\n",
       "      <td>0.0</td>\n",
       "      <td>0.0</td>\n",
       "      <td>0.0</td>\n",
       "      <td>0.0</td>\n",
       "      <td>0.0</td>\n",
       "      <td>1.0</td>\n",
       "      <td>791.0</td>\n",
       "      <td>0.0</td>\n",
       "      <td>0.0</td>\n",
       "      <td>0.0</td>\n",
       "    </tr>\n",
       "    <tr>\n",
       "      <th>4080</th>\n",
       "      <td>0.0</td>\n",
       "      <td>0.0</td>\n",
       "      <td>0.0</td>\n",
       "      <td>0.0</td>\n",
       "      <td>0.0</td>\n",
       "      <td>0.0</td>\n",
       "      <td>0.0</td>\n",
       "      <td>1.0</td>\n",
       "      <td>0.0</td>\n",
       "      <td>1.0</td>\n",
       "      <td>...</td>\n",
       "      <td>1.0</td>\n",
       "      <td>1.0</td>\n",
       "      <td>0.0</td>\n",
       "      <td>0.0</td>\n",
       "      <td>2.0</td>\n",
       "      <td>1.0</td>\n",
       "      <td>2099.0</td>\n",
       "      <td>30.0</td>\n",
       "      <td>0.0</td>\n",
       "      <td>0.0</td>\n",
       "    </tr>\n",
       "  </tbody>\n",
       "</table>\n",
       "<p>5 rows × 372 columns</p>\n",
       "</div>"
      ],
      "text/plain": [
       "       NP1COG  NP1HALL  NP1DPRS  NP1ANXS  NP1APAT  NP1DDS  NP2SPCH  NP2SALV  \\\n",
       "PATNO                                                                         \n",
       "12898     0.0      0.0      0.0      0.0      0.0     0.0      0.0      0.0   \n",
       "41544     0.0      0.0      0.0      0.0      0.0     0.0      0.0      0.0   \n",
       "41284     0.0      0.0      0.0      0.0      0.0     0.0      0.0      0.0   \n",
       "53015     0.0      0.0      0.0      0.0      0.0     0.0      0.0      0.0   \n",
       "4080      0.0      0.0      0.0      0.0      0.0     0.0      0.0      1.0   \n",
       "\n",
       "       NP2SWAL  NP2EAT         ...          DXRIGID  DXBRADY  DXPOSINS  \\\n",
       "PATNO                          ...                                       \n",
       "12898      0.0     0.0         ...              0.0      0.0       0.0   \n",
       "41544      0.0     0.0         ...              0.0      0.0       0.0   \n",
       "41284      0.0     0.0         ...              0.0      0.0       0.0   \n",
       "53015      0.0     0.0         ...              0.0      0.0       0.0   \n",
       "4080       0.0     1.0         ...              1.0      1.0       0.0   \n",
       "\n",
       "       DXOTHSX  DOMSIDE  num_visits  lastDate_diff_days  PDDXDT_diff_days  \\\n",
       "PATNO                                                                       \n",
       "12898      0.0      0.0         1.0              1734.0               0.0   \n",
       "41544      0.0      0.0         2.0               745.5               0.0   \n",
       "41284      0.0      0.0         4.0               455.0               0.0   \n",
       "53015      0.0      0.0         1.0               791.0               0.0   \n",
       "4080       0.0      2.0         1.0              2099.0              30.0   \n",
       "\n",
       "       PDMEDT_diff_days  PDSURGDT_diff_days  \n",
       "PATNO                                        \n",
       "12898               0.0                 0.0  \n",
       "41544               0.0                 0.0  \n",
       "41284               0.0                 0.0  \n",
       "53015               0.0                 0.0  \n",
       "4080                0.0                 0.0  \n",
       "\n",
       "[5 rows x 372 columns]"
      ]
     },
     "execution_count": 6,
     "metadata": {},
     "output_type": "execute_result"
    }
   ],
   "source": [
    "from sklearn.model_selection import train_test_split\n",
    "train, test = train_test_split(dfAgg, test_size=0.3, random_state=0)\n",
    "train.to_pickle(\"./train_nonTS.pickle\")\n",
    "test.to_pickle(\"./test_nonTS.pickle\")\n",
    "train.head()"
   ]
  },
  {
   "cell_type": "code",
   "execution_count": 7,
   "metadata": {},
   "outputs": [
    {
     "data": {
      "text/plain": [
       "0.0    478\n",
       "2.0    475\n",
       "1.0    147\n",
       "3.0     51\n",
       "4.0     18\n",
       "5.0      2\n",
       "Name: NHY, dtype: int64"
      ]
     },
     "execution_count": 7,
     "metadata": {},
     "output_type": "execute_result"
    }
   ],
   "source": [
    "train.NHY.value_counts()"
   ]
  },
  {
   "cell_type": "code",
   "execution_count": 8,
   "metadata": {},
   "outputs": [
    {
     "data": {
      "text/plain": [
       "(1171, 371)"
      ]
     },
     "execution_count": 8,
     "metadata": {},
     "output_type": "execute_result"
    }
   ],
   "source": [
    "X_train = train.loc[:,train.columns!='NHY']\n",
    "y_train = train['NHY']\n",
    "X_test = test.loc[:,train.columns!='NHY']\n",
    "y_test = test[('NHY')]\n",
    "X_train.shape"
   ]
  },
  {
   "cell_type": "code",
   "execution_count": 9,
   "metadata": {},
   "outputs": [
    {
     "data": {
      "text/plain": [
       "2.0    217\n",
       "0.0    205\n",
       "1.0     56\n",
       "3.0     18\n",
       "4.0      6\n",
       "5.0      1\n",
       "Name: NHY, dtype: int64"
      ]
     },
     "execution_count": 9,
     "metadata": {},
     "output_type": "execute_result"
    }
   ],
   "source": [
    "y_test.value_counts()"
   ]
  },
  {
   "cell_type": "markdown",
   "metadata": {},
   "source": [
    "### Take care of the classes unbalance"
   ]
  },
  {
   "cell_type": "code",
   "execution_count": 10,
   "metadata": {},
   "outputs": [
    {
     "data": {
      "text/plain": [
       "5.0    478\n",
       "4.0    478\n",
       "3.0    478\n",
       "2.0    478\n",
       "1.0    478\n",
       "0.0    478\n",
       "Name: NHY, dtype: int64"
      ]
     },
     "execution_count": 10,
     "metadata": {},
     "output_type": "execute_result"
    }
   ],
   "source": [
    "from sklearn.utils import resample\n",
    "\n",
    "train_majority = train[train.NHY==0.0]\n",
    "train_minority_1 = train[train.NHY==1.0]\n",
    "train_minority_2= train[train.NHY==2.0]\n",
    "train_minority_3= train[train.NHY==3.0]\n",
    "train_minority_4=train[train.NHY==4.0]\n",
    "train_minority_5=train[train.NHY==5.0]\n",
    "\n",
    "# Upsample minority class\n",
    "train_minority_upsampled_1 = resample(train_minority_1, \n",
    "                                 replace=True,     # sample with replacement\n",
    "                                 n_samples=train_majority.shape[0],  # to match majority class\n",
    "                                 random_state=123) # reproducible results\n",
    "train_minority_upsampled_2 = resample(train_minority_2, \n",
    "                                 replace=True,     # sample with replacement\n",
    "                                 n_samples=train_majority.shape[0],  # to match majority class\n",
    "                                 random_state=123) # reproducible results\n",
    "train_minority_upsampled_3 = resample(train_minority_3, \n",
    "                                 replace=True,     # sample with replacement\n",
    "                                 n_samples=train_majority.shape[0],  # to match majority class\n",
    "                                 random_state=123) # reproducible results\n",
    "train_minority_upsampled_4= resample(train_minority_4, \n",
    "                                 replace=True,     # sample with replacement\n",
    "                                 n_samples=train_majority.shape[0],  # to match majority class\n",
    "                                 random_state=123) # reproducible results\n",
    "train_minority_upsampled_5= resample(train_minority_5, \n",
    "                                 replace=True,     # sample with replacement\n",
    "                                 n_samples=train_majority.shape[0],  # to match majority class\n",
    "                                 random_state=123) # reproducible results\n",
    "\n",
    "# Combine majority class with upsampled minority class\n",
    "train_upsampled = pd.concat([train_majority, train_minority_upsampled_1,train_minority_upsampled_2,\n",
    "                             train_minority_upsampled_3,train_minority_upsampled_4,\n",
    "                             train_minority_upsampled_5])\n",
    "\n",
    "# Show new class counts\n",
    "train_upsampled.NHY.value_counts()"
   ]
  },
  {
   "cell_type": "code",
   "execution_count": 11,
   "metadata": {},
   "outputs": [],
   "source": [
    "X_train_up = train_upsampled.loc[:,train.columns!='NHY']\n",
    "y_train_up= train_upsampled['NHY']"
   ]
  },
  {
   "cell_type": "code",
   "execution_count": 55,
   "metadata": {},
   "outputs": [
    {
     "ename": "ModuleNotFoundError",
     "evalue": "No module named 'imblearn'",
     "output_type": "error",
     "traceback": [
      "\u001b[0;31m---------------------------------------------------------------------------\u001b[0m",
      "\u001b[0;31mModuleNotFoundError\u001b[0m                       Traceback (most recent call last)",
      "\u001b[0;32m<ipython-input-55-fd360e5643e8>\u001b[0m in \u001b[0;36m<module>\u001b[0;34m()\u001b[0m\n\u001b[0;32m----> 1\u001b[0;31m \u001b[0;32mfrom\u001b[0m \u001b[0mimblearn\u001b[0m\u001b[0;34m.\u001b[0m\u001b[0mover_sampling\u001b[0m \u001b[0;32mimport\u001b[0m \u001b[0mSMOTE\u001b[0m\u001b[0;34m\u001b[0m\u001b[0m\n\u001b[0m\u001b[1;32m      2\u001b[0m \u001b[0mX_resampled\u001b[0m\u001b[0;34m,\u001b[0m \u001b[0my_resampled\u001b[0m \u001b[0;34m=\u001b[0m \u001b[0mSMOTE\u001b[0m\u001b[0;34m(\u001b[0m\u001b[0;34m)\u001b[0m\u001b[0;34m.\u001b[0m\u001b[0mfit_sample\u001b[0m\u001b[0;34m(\u001b[0m\u001b[0mX_train\u001b[0m\u001b[0;34m,\u001b[0m \u001b[0my_train\u001b[0m\u001b[0;34m)\u001b[0m\u001b[0;34m\u001b[0m\u001b[0m\n\u001b[1;32m      3\u001b[0m \u001b[0mX_resampled\u001b[0m\u001b[0;34m.\u001b[0m\u001b[0mshape\u001b[0m\u001b[0;34m\u001b[0m\u001b[0m\n\u001b[1;32m      4\u001b[0m \u001b[0mlogreg_smote\u001b[0m \u001b[0;34m=\u001b[0m \u001b[0mLogisticRegression\u001b[0m\u001b[0;34m(\u001b[0m\u001b[0mrandom_state\u001b[0m\u001b[0;34m=\u001b[0m\u001b[0;36m0\u001b[0m\u001b[0;34m)\u001b[0m\u001b[0;34m.\u001b[0m\u001b[0mfit\u001b[0m\u001b[0;34m(\u001b[0m\u001b[0mX_resampled\u001b[0m\u001b[0;34m,\u001b[0m \u001b[0my_resampled\u001b[0m\u001b[0;34m)\u001b[0m\u001b[0;34m\u001b[0m\u001b[0m\n",
      "\u001b[0;31mModuleNotFoundError\u001b[0m: No module named 'imblearn'"
     ]
    }
   ],
   "source": [
    "from imblearn.over_sampling import SMOTE\n",
    "X_resampled, y_resampled = SMOTE().fit_sample(X_train, y_train)\n",
    "X_resampled.shape\n",
    "logreg_smote = LogisticRegression(random_state=0).fit(X_resampled, y_resampled)"
   ]
  },
  {
   "cell_type": "code",
   "execution_count": null,
   "metadata": {},
   "outputs": [],
   "source": [
    "#X_resampled, y_resampled = ADASYN().fit_sample(X, y)\n",
    "#clf_adasyn = LinearSVC().fit(X_resampled, y_resampled)"
   ]
  },
  {
   "cell_type": "markdown",
   "metadata": {},
   "source": [
    "## 3. Model Training"
   ]
  },
  {
   "cell_type": "markdown",
   "metadata": {},
   "source": [
    "### Dummy Classifier"
   ]
  },
  {
   "cell_type": "code",
   "execution_count": 13,
   "metadata": {},
   "outputs": [
    {
     "data": {
      "text/plain": [
       "DummyClassifier(constant=None, random_state=None, strategy='stratified')"
      ]
     },
     "execution_count": 13,
     "metadata": {},
     "output_type": "execute_result"
    }
   ],
   "source": [
    "from sklearn.dummy import DummyClassifier\n",
    "dummy=DummyClassifier()\n",
    "dummy.fit(X_train, y_train)"
   ]
  },
  {
   "cell_type": "code",
   "execution_count": 14,
   "metadata": {},
   "outputs": [
    {
     "name": "stdout",
     "output_type": "stream",
     "text": [
      "Train-Score: 0.3365, Test-Accuracy: 0.3459\n"
     ]
    }
   ],
   "source": [
    "print(\"Train-Score: %.4f, Test-Accuracy: %.4f\" % (dummy.score(X_train, y_train), dummy.score(X_test, y_test)))"
   ]
  },
  {
   "cell_type": "markdown",
   "metadata": {},
   "source": [
    "### Logistic Regression"
   ]
  },
  {
   "cell_type": "code",
   "execution_count": 16,
   "metadata": {},
   "outputs": [
    {
     "data": {
      "text/plain": [
       "LogisticRegression(C=1.0, class_weight=None, dual=False, fit_intercept=True,\n",
       "          intercept_scaling=1, max_iter=100, multi_class='multinomial',\n",
       "          n_jobs=1, penalty='l2', random_state=0, solver='newton-cg',\n",
       "          tol=0.0001, verbose=0, warm_start=False)"
      ]
     },
     "execution_count": 16,
     "metadata": {},
     "output_type": "execute_result"
    }
   ],
   "source": [
    "from sklearn.linear_model import LogisticRegression\n",
    "logreg = LogisticRegression(multi_class='multinomial',solver='newton-cg',random_state=0)\n",
    "logreg.fit(X_train, y_train)"
   ]
  },
  {
   "cell_type": "code",
   "execution_count": 17,
   "metadata": {},
   "outputs": [
    {
     "data": {
      "text/plain": [
       "LogisticRegression(C=1.0, class_weight=None, dual=False, fit_intercept=True,\n",
       "          intercept_scaling=1, max_iter=100, multi_class='multinomial',\n",
       "          n_jobs=1, penalty='l2', random_state=1, solver='newton-cg',\n",
       "          tol=0.0001, verbose=0, warm_start=False)"
      ]
     },
     "execution_count": 17,
     "metadata": {},
     "output_type": "execute_result"
    }
   ],
   "source": [
    "logreg_up=LogisticRegression(multi_class='multinomial',solver='newton-cg',random_state=1)\n",
    "logreg_up.fit(X_train_up, y_train_up)"
   ]
  },
  {
   "cell_type": "markdown",
   "metadata": {},
   "source": [
    "### Random Forest"
   ]
  },
  {
   "cell_type": "code",
   "execution_count": 18,
   "metadata": {},
   "outputs": [
    {
     "data": {
      "text/plain": [
       "RandomForestClassifier(bootstrap=True, class_weight=None, criterion='gini',\n",
       "            max_depth=None, max_features='auto', max_leaf_nodes=None,\n",
       "            min_impurity_decrease=0.0, min_impurity_split=None,\n",
       "            min_samples_leaf=1, min_samples_split=2,\n",
       "            min_weight_fraction_leaf=0.0, n_estimators=100, n_jobs=1,\n",
       "            oob_score=False, random_state=1, verbose=0, warm_start=False)"
      ]
     },
     "execution_count": 18,
     "metadata": {},
     "output_type": "execute_result"
    }
   ],
   "source": [
    "rfc_up = RandomForestClassifier(n_estimators=100, random_state=1)\n",
    "rfc_up.fit(X_train_up, y_train_up)"
   ]
  },
  {
   "cell_type": "code",
   "execution_count": 19,
   "metadata": {},
   "outputs": [
    {
     "data": {
      "text/plain": [
       "RandomForestClassifier(bootstrap=True, class_weight=None, criterion='gini',\n",
       "            max_depth=None, max_features='auto', max_leaf_nodes=None,\n",
       "            min_impurity_decrease=0.0, min_impurity_split=None,\n",
       "            min_samples_leaf=1, min_samples_split=2,\n",
       "            min_weight_fraction_leaf=0.0, n_estimators=100, n_jobs=1,\n",
       "            oob_score=False, random_state=0, verbose=0, warm_start=False)"
      ]
     },
     "execution_count": 19,
     "metadata": {},
     "output_type": "execute_result"
    }
   ],
   "source": [
    "rfc = RandomForestClassifier(n_estimators=100, random_state=0)\n",
    "rfc.fit(X_train, y_train)"
   ]
  },
  {
   "cell_type": "code",
   "execution_count": 20,
   "metadata": {},
   "outputs": [
    {
     "name": "stdout",
     "output_type": "stream",
     "text": [
      "Train-Score-rfc: 1.0000, Test-Accuracy-rfc: 0.8728\n"
     ]
    }
   ],
   "source": [
    "print(\"Train-Score-rfc: %.4f, Test-Accuracy-rfc: %.4f\" % (rfc.score(X_train, y_train), rfc.score(X_test, y_test)))"
   ]
  },
  {
   "cell_type": "markdown",
   "metadata": {},
   "source": [
    "### feature importance\n",
    "do a pairplot of the important features in the original dataset"
   ]
  },
  {
   "cell_type": "code",
   "execution_count": 34,
   "metadata": {},
   "outputs": [
    {
     "data": {
      "text/html": [
       "<div>\n",
       "<style scoped>\n",
       "    .dataframe tbody tr th:only-of-type {\n",
       "        vertical-align: middle;\n",
       "    }\n",
       "\n",
       "    .dataframe tbody tr th {\n",
       "        vertical-align: top;\n",
       "    }\n",
       "\n",
       "    .dataframe thead th {\n",
       "        text-align: right;\n",
       "    }\n",
       "</style>\n",
       "<table border=\"1\" class=\"dataframe\">\n",
       "  <thead>\n",
       "    <tr style=\"text-align: right;\">\n",
       "      <th></th>\n",
       "      <th>importance</th>\n",
       "    </tr>\n",
       "  </thead>\n",
       "  <tbody>\n",
       "    <tr>\n",
       "      <th>DOMSIDE</th>\n",
       "      <td>0.062937</td>\n",
       "    </tr>\n",
       "    <tr>\n",
       "      <th>PDDXDT_diff_days</th>\n",
       "      <td>0.061990</td>\n",
       "    </tr>\n",
       "    <tr>\n",
       "      <th>PRIMDIAG</th>\n",
       "      <td>0.056511</td>\n",
       "    </tr>\n",
       "    <tr>\n",
       "      <th>PD_MED_USE</th>\n",
       "      <td>0.030121</td>\n",
       "    </tr>\n",
       "    <tr>\n",
       "      <th>DFRIGIDP</th>\n",
       "      <td>0.028758</td>\n",
       "    </tr>\n",
       "    <tr>\n",
       "      <th>NP3BRADY</th>\n",
       "      <td>0.027750</td>\n",
       "    </tr>\n",
       "    <tr>\n",
       "      <th>NP3FACXP</th>\n",
       "      <td>0.024785</td>\n",
       "    </tr>\n",
       "    <tr>\n",
       "      <th>DXBRADY</th>\n",
       "      <td>0.024602</td>\n",
       "    </tr>\n",
       "    <tr>\n",
       "      <th>MSEADLG</th>\n",
       "      <td>0.023797</td>\n",
       "    </tr>\n",
       "    <tr>\n",
       "      <th>ON_OFF_DOSE</th>\n",
       "      <td>0.023562</td>\n",
       "    </tr>\n",
       "    <tr>\n",
       "      <th>DFRTREMP</th>\n",
       "      <td>0.015248</td>\n",
       "    </tr>\n",
       "    <tr>\n",
       "      <th>DXTREMOR</th>\n",
       "      <td>0.014060</td>\n",
       "    </tr>\n",
       "    <tr>\n",
       "      <th>DXRIGID</th>\n",
       "      <td>0.013732</td>\n",
       "    </tr>\n",
       "    <tr>\n",
       "      <th>NP3PSTBL</th>\n",
       "      <td>0.013448</td>\n",
       "    </tr>\n",
       "    <tr>\n",
       "      <th>DFRIGIDA</th>\n",
       "      <td>0.013247</td>\n",
       "    </tr>\n",
       "    <tr>\n",
       "      <th>NP3SPCH</th>\n",
       "      <td>0.012573</td>\n",
       "    </tr>\n",
       "    <tr>\n",
       "      <th>NP3LGAGR</th>\n",
       "      <td>0.012552</td>\n",
       "    </tr>\n",
       "    <tr>\n",
       "      <th>NP3RIGLU</th>\n",
       "      <td>0.012489</td>\n",
       "    </tr>\n",
       "    <tr>\n",
       "      <th>NP3FTAPL</th>\n",
       "      <td>0.012118</td>\n",
       "    </tr>\n",
       "    <tr>\n",
       "      <th>NP3LGAGL</th>\n",
       "      <td>0.011758</td>\n",
       "    </tr>\n",
       "    <tr>\n",
       "      <th>DFBRADYP</th>\n",
       "      <td>0.011739</td>\n",
       "    </tr>\n",
       "    <tr>\n",
       "      <th>NP3POSTR</th>\n",
       "      <td>0.010939</td>\n",
       "    </tr>\n",
       "    <tr>\n",
       "      <th>lastDate_diff_days</th>\n",
       "      <td>0.010806</td>\n",
       "    </tr>\n",
       "    <tr>\n",
       "      <th>NP3PRSPL</th>\n",
       "      <td>0.010688</td>\n",
       "    </tr>\n",
       "  </tbody>\n",
       "</table>\n",
       "</div>"
      ],
      "text/plain": [
       "                    importance\n",
       "DOMSIDE               0.062937\n",
       "PDDXDT_diff_days      0.061990\n",
       "PRIMDIAG              0.056511\n",
       "PD_MED_USE            0.030121\n",
       "DFRIGIDP              0.028758\n",
       "NP3BRADY              0.027750\n",
       "NP3FACXP              0.024785\n",
       "DXBRADY               0.024602\n",
       "MSEADLG               0.023797\n",
       "ON_OFF_DOSE           0.023562\n",
       "DFRTREMP              0.015248\n",
       "DXTREMOR              0.014060\n",
       "DXRIGID               0.013732\n",
       "NP3PSTBL              0.013448\n",
       "DFRIGIDA              0.013247\n",
       "NP3SPCH               0.012573\n",
       "NP3LGAGR              0.012552\n",
       "NP3RIGLU              0.012489\n",
       "NP3FTAPL              0.012118\n",
       "NP3LGAGL              0.011758\n",
       "DFBRADYP              0.011739\n",
       "NP3POSTR              0.010939\n",
       "lastDate_diff_days    0.010806\n",
       "NP3PRSPL              0.010688"
      ]
     },
     "execution_count": 34,
     "metadata": {},
     "output_type": "execute_result"
    }
   ],
   "source": [
    "feature_importances = pd.DataFrame(rfc.feature_importances_,\n",
    "                                   index = X_train.columns,\n",
    "                                    columns=['importance']).sort_values('importance',ascending=False)\n",
    "ImportantFeatures=feature_importances[feature_importances.values>=0.01]\n",
    "ImportantFeatures"
   ]
  },
  {
   "cell_type": "code",
   "execution_count": 44,
   "metadata": {},
   "outputs": [
    {
     "data": {
      "text/html": [
       "<div>\n",
       "<style scoped>\n",
       "    .dataframe tbody tr th:only-of-type {\n",
       "        vertical-align: middle;\n",
       "    }\n",
       "\n",
       "    .dataframe tbody tr th {\n",
       "        vertical-align: top;\n",
       "    }\n",
       "\n",
       "    .dataframe thead th {\n",
       "        text-align: right;\n",
       "    }\n",
       "</style>\n",
       "<table border=\"1\" class=\"dataframe\">\n",
       "  <thead>\n",
       "    <tr style=\"text-align: right;\">\n",
       "      <th></th>\n",
       "      <th>importance</th>\n",
       "    </tr>\n",
       "  </thead>\n",
       "  <tbody>\n",
       "    <tr>\n",
       "      <th>PDDXDT_diff_days</th>\n",
       "      <td>0.036929</td>\n",
       "    </tr>\n",
       "    <tr>\n",
       "      <th>NP3PSTBL</th>\n",
       "      <td>0.036495</td>\n",
       "    </tr>\n",
       "    <tr>\n",
       "      <th>NP3GAIT</th>\n",
       "      <td>0.034670</td>\n",
       "    </tr>\n",
       "    <tr>\n",
       "      <th>NP3RISNG</th>\n",
       "      <td>0.028487</td>\n",
       "    </tr>\n",
       "    <tr>\n",
       "      <th>BIRTHDT</th>\n",
       "      <td>0.022086</td>\n",
       "    </tr>\n",
       "    <tr>\n",
       "      <th>MSEADLG</th>\n",
       "      <td>0.021774</td>\n",
       "    </tr>\n",
       "    <tr>\n",
       "      <th>NP2WALK</th>\n",
       "      <td>0.021529</td>\n",
       "    </tr>\n",
       "    <tr>\n",
       "      <th>NP3LGAGL</th>\n",
       "      <td>0.018049</td>\n",
       "    </tr>\n",
       "    <tr>\n",
       "      <th>DOMSIDE</th>\n",
       "      <td>0.017493</td>\n",
       "    </tr>\n",
       "    <tr>\n",
       "      <th>NP2DRES</th>\n",
       "      <td>0.017204</td>\n",
       "    </tr>\n",
       "    <tr>\n",
       "      <th>NP2FREZ</th>\n",
       "      <td>0.016970</td>\n",
       "    </tr>\n",
       "    <tr>\n",
       "      <th>NP3BRADY</th>\n",
       "      <td>0.016078</td>\n",
       "    </tr>\n",
       "    <tr>\n",
       "      <th>NP2HYGN</th>\n",
       "      <td>0.015474</td>\n",
       "    </tr>\n",
       "    <tr>\n",
       "      <th>NP3POSTR</th>\n",
       "      <td>0.014869</td>\n",
       "    </tr>\n",
       "    <tr>\n",
       "      <th>NP2RISE</th>\n",
       "      <td>0.014781</td>\n",
       "    </tr>\n",
       "    <tr>\n",
       "      <th>SYSSUP</th>\n",
       "      <td>0.014605</td>\n",
       "    </tr>\n",
       "    <tr>\n",
       "      <th>NP3RIGLU</th>\n",
       "      <td>0.014456</td>\n",
       "    </tr>\n",
       "    <tr>\n",
       "      <th>NP3TTAPL</th>\n",
       "      <td>0.013826</td>\n",
       "    </tr>\n",
       "    <tr>\n",
       "      <th>NP3FACXP</th>\n",
       "      <td>0.013563</td>\n",
       "    </tr>\n",
       "    <tr>\n",
       "      <th>PRIMDIAG</th>\n",
       "      <td>0.013425</td>\n",
       "    </tr>\n",
       "    <tr>\n",
       "      <th>NP3RIGN</th>\n",
       "      <td>0.012837</td>\n",
       "    </tr>\n",
       "    <tr>\n",
       "      <th>NP3FTAPL</th>\n",
       "      <td>0.012684</td>\n",
       "    </tr>\n",
       "    <tr>\n",
       "      <th>DFRIGIDP</th>\n",
       "      <td>0.012319</td>\n",
       "    </tr>\n",
       "    <tr>\n",
       "      <th>NP3HMOVL</th>\n",
       "      <td>0.012172</td>\n",
       "    </tr>\n",
       "  </tbody>\n",
       "</table>\n",
       "</div>"
      ],
      "text/plain": [
       "                  importance\n",
       "PDDXDT_diff_days    0.036929\n",
       "NP3PSTBL            0.036495\n",
       "NP3GAIT             0.034670\n",
       "NP3RISNG            0.028487\n",
       "BIRTHDT             0.022086\n",
       "MSEADLG             0.021774\n",
       "NP2WALK             0.021529\n",
       "NP3LGAGL            0.018049\n",
       "DOMSIDE             0.017493\n",
       "NP2DRES             0.017204\n",
       "NP2FREZ             0.016970\n",
       "NP3BRADY            0.016078\n",
       "NP2HYGN             0.015474\n",
       "NP3POSTR            0.014869\n",
       "NP2RISE             0.014781\n",
       "SYSSUP              0.014605\n",
       "NP3RIGLU            0.014456\n",
       "NP3TTAPL            0.013826\n",
       "NP3FACXP            0.013563\n",
       "PRIMDIAG            0.013425\n",
       "NP3RIGN             0.012837\n",
       "NP3FTAPL            0.012684\n",
       "DFRIGIDP            0.012319\n",
       "NP3HMOVL            0.012172"
      ]
     },
     "execution_count": 44,
     "metadata": {},
     "output_type": "execute_result"
    }
   ],
   "source": [
    "feature_importances_up = pd.DataFrame(rfc_up.feature_importances_,\n",
    "                                   index = X_train.columns,\n",
    "                                    columns=['importance']).sort_values('importance',ascending=False)\n",
    "ImportantFeatures_up=feature_importances_up[feature_importances.values>=0.01]\n",
    "ImportantFeatures_up"
   ]
  },
  {
   "cell_type": "code",
   "execution_count": 43,
   "metadata": {},
   "outputs": [
    {
     "data": {
      "text/plain": [
       "Index(['DOMSIDE', 'PDDXDT_diff_days', 'PRIMDIAG', 'PD_MED_USE', 'DFRIGIDP',\n",
       "       'NP3BRADY', 'NP3FACXP', 'DXBRADY', 'MSEADLG', 'ON_OFF_DOSE', 'DFRTREMP',\n",
       "       'DXTREMOR', 'DXRIGID', 'NP3PSTBL', 'DFRIGIDA', 'NP3SPCH', 'NP3LGAGR',\n",
       "       'NP3RIGLU', 'NP3FTAPL', 'NP3LGAGL', 'DFBRADYP', 'NP3POSTR',\n",
       "       'lastDate_diff_days', 'NP3PRSPL'],\n",
       "      dtype='object')"
      ]
     },
     "execution_count": 43,
     "metadata": {},
     "output_type": "execute_result"
    }
   ],
   "source": [
    "import seaborn as sns\n",
    "ImportantFeatures.index\n",
    "#sns.barplot(x=ImportantFeatures,y=ImportantFeatures.index, orient=\"h\")"
   ]
  },
  {
   "cell_type": "markdown",
   "metadata": {},
   "source": [
    "## 4. Evaluation: Calculating, plotting metrics"
   ]
  },
  {
   "cell_type": "code",
   "execution_count": 45,
   "metadata": {},
   "outputs": [
    {
     "name": "stdout",
     "output_type": "stream",
     "text": [
      "Train-Score-logreg: 0.9889, Test-Accuracy-logreg: 0.8509\n",
      "Train-Score-logreg-up: 0.9965, Test-Accuracy-logreg-up: 0.8171\n",
      "Train-Score-rfc-up: 1.0000, Test-Accuracy-rfc: 0.8986\n"
     ]
    }
   ],
   "source": [
    "print(\"Train-Score-logreg: %.4f, Test-Accuracy-logreg: %.4f\" % (logreg.score(X_train, y_train), logreg.score(X_test, y_test)))\n",
    "print(\"Train-Score-logreg-up: %.4f, Test-Accuracy-logreg-up: %.4f\" % (logreg_up.score(X_train_up, y_train_up), logreg_up.score(X_test, y_test)))\n",
    "print(\"Train-Score-rfc-up: %.4f, Test-Accuracy-rfc: %.4f\" % (rfc_up.score(X_train_up, y_train_up), rfc_up.score(X_test, y_test)))"
   ]
  },
  {
   "cell_type": "markdown",
   "metadata": {},
   "source": [
    "### Confusion Matrix"
   ]
  },
  {
   "cell_type": "code",
   "execution_count": 29,
   "metadata": {},
   "outputs": [
    {
     "data": {
      "text/plain": [
       "array([[200,   4,   1,   0,   0,   0],\n",
       "       [  5,  24,  26,   1,   0,   0],\n",
       "       [  2,  13, 196,   6,   0,   0],\n",
       "       [  0,   0,   9,   5,   3,   1],\n",
       "       [  0,   0,   0,   3,   3,   0],\n",
       "       [  0,   0,   0,   0,   1,   0]])"
      ]
     },
     "execution_count": 29,
     "metadata": {},
     "output_type": "execute_result"
    }
   ],
   "source": [
    "y_pred_logreg=logreg.predict(X_test)\n",
    "cm_logreg=confusion_matrix(y_test,y_pred_logreg)\n",
    "cm_logreg_df=pd.DataFrame(cm_logreg,index=[0,1,2,3,4,5],columns=[0,1,2,3,4,5])\n",
    "cm_logreg"
   ]
  },
  {
   "cell_type": "code",
   "execution_count": 30,
   "metadata": {},
   "outputs": [
    {
     "data": {
      "text/plain": [
       "<matplotlib.axes._subplots.AxesSubplot at 0x1a185afd30>"
      ]
     },
     "execution_count": 30,
     "metadata": {},
     "output_type": "execute_result"
    },
    {
     "data": {
      "image/png": "[encoded data removed]",
      "text/plain": [
       "<Figure size 432x288 with 2 Axes>"
      ]
     },
     "metadata": {},
     "output_type": "display_data"
    }
   ],
   "source": [
    "import seaborn as sns\n",
    "sns.heatmap(cm_logreg_df,annot=True,cmap='viridis')"
   ]
  },
  {
   "cell_type": "code",
   "execution_count": 31,
   "metadata": {},
   "outputs": [
    {
     "data": {
      "text/plain": [
       "array([[203,   2,   0,   0,   0,   0],\n",
       "       [  3,  23,  30,   0,   0,   0],\n",
       "       [  3,   5, 208,   1,   0,   0],\n",
       "       [  0,   0,  14,   4,   0,   0],\n",
       "       [  0,   0,   1,   4,   1,   0],\n",
       "       [  0,   0,   0,   0,   1,   0]])"
      ]
     },
     "execution_count": 31,
     "metadata": {},
     "output_type": "execute_result"
    }
   ],
   "source": [
    "y_pred_rfc=rfc.predict(X_test)\n",
    "cm_rfc=confusion_matrix(y_test,y_pred_rfc)\n",
    "cm_rfc_df=pd.DataFrame(cm_rfc,index=[0,1,2,3,4,5],columns=[0,1,2,3,4,5])\n",
    "cm_rfc"
   ]
  },
  {
   "cell_type": "code",
   "execution_count": 32,
   "metadata": {},
   "outputs": [
    {
     "data": {
      "text/plain": [
       "<matplotlib.axes._subplots.AxesSubplot at 0x1a186bdbe0>"
      ]
     },
     "execution_count": 32,
     "metadata": {},
     "output_type": "execute_result"
    },
    {
     "data": {
      "image/png": "[encoded data removed]",
      "text/plain": [
       "<Figure size 432x288 with 2 Axes>"
      ]
     },
     "metadata": {},
     "output_type": "display_data"
    }
   ],
   "source": [
    "sns.heatmap(cm_rfc_df,annot=True,cmap='viridis')"
   ]
  },
  {
   "cell_type": "markdown",
   "metadata": {},
   "source": [
    "### classification report"
   ]
  },
  {
   "cell_type": "code",
   "execution_count": 48,
   "metadata": {},
   "outputs": [
    {
     "name": "stdout",
     "output_type": "stream",
     "text": [
      "             precision    recall  f1-score   support\n",
      "\n",
      "        0.0       0.97      0.98      0.97       205\n",
      "        1.0       0.59      0.43      0.49        56\n",
      "        2.0       0.84      0.90      0.87       217\n",
      "        3.0       0.33      0.28      0.30        18\n",
      "        4.0       0.43      0.50      0.46         6\n",
      "        5.0       0.00      0.00      0.00         1\n",
      "\n",
      "avg / total       0.84      0.85      0.84       503\n",
      "\n"
     ]
    }
   ],
   "source": [
    "from sklearn.metrics import classification_report\n",
    "report_logreg = classification_report(y_test, \n",
    "                      y_pred_logreg)\n",
    "print(report_logreg)"
   ]
  },
  {
   "cell_type": "code",
   "execution_count": 50,
   "metadata": {},
   "outputs": [
    {
     "name": "stdout",
     "output_type": "stream",
     "text": [
      "             precision    recall  f1-score   support\n",
      "\n",
      "        0.0       0.97      0.99      0.98       205\n",
      "        1.0       0.77      0.41      0.53        56\n",
      "        2.0       0.82      0.96      0.89       217\n",
      "        3.0       0.44      0.22      0.30        18\n",
      "        4.0       0.50      0.17      0.25         6\n",
      "        5.0       0.00      0.00      0.00         1\n",
      "\n",
      "avg / total       0.86      0.87      0.85       503\n",
      "\n"
     ]
    }
   ],
   "source": [
    "report_rfc = classification_report(y_test, \n",
    "                      y_pred_rfc)\n",
    "print(report_rfc)"
   ]
  },
  {
   "cell_type": "code",
   "execution_count": 51,
   "metadata": {},
   "outputs": [
    {
     "name": "stdout",
     "output_type": "stream",
     "text": [
      "             precision    recall  f1-score   support\n",
      "\n",
      "        0.0       0.98      0.99      0.98       205\n",
      "        1.0       0.76      0.73      0.75        56\n",
      "        2.0       0.90      0.93      0.91       217\n",
      "        3.0       0.40      0.33      0.36        18\n",
      "        4.0       0.00      0.00      0.00         6\n",
      "        5.0       0.00      0.00      0.00         1\n",
      "\n",
      "avg / total       0.88      0.90      0.89       503\n",
      "\n"
     ]
    }
   ],
   "source": [
    "y_pred_rfc_up=rfc_up.predict(X_test)\n",
    "report_rfc_up = classification_report(y_test, \n",
    "                      y_pred_rfc_up)\n",
    "print(report_rfc_up)"
   ]
  },
  {
   "cell_type": "markdown",
   "metadata": {},
   "source": [
    "## 5. Cross-Validation"
   ]
  },
  {
   "cell_type": "markdown",
   "metadata": {},
   "source": [
    "### Manual implementation"
   ]
  },
  {
   "cell_type": "markdown",
   "metadata": {},
   "source": [
    "def create_kfold_mask(num_samples, k):\n",
    "    masks = []\n",
    "    fold_size = num_samples // k\n",
    "    \n",
    "    for i in range(k):\n",
    "        mask = np.zeros(num_samples, dtype=bool)\n",
    "        mask[i*fold_size:(i+1)*fold_size] = True\n",
    "        masks.append(mask)\n",
    "        \n",
    "    return masks\n",
    "\n",
    "masks = create_kfold_mask(150, 10)\n",
    "plt.matshow(masks)\n",
    "\n",
    "mask = masks[0]\n",
    "print(X_versi[mask]) # selects the test sample\n",
    "print(len(X_versi[~mask])) # selects training sample, ~ is binary negation"
   ]
  },
  {
   "cell_type": "markdown",
   "metadata": {},
   "source": [
    "### random shuffle to avoid class unbalance\n",
    "`print(y_versi)\n",
    "num_sample = len(X_versi)\n",
    "np.random.seed(3)\n",
    "permutation = np.random.permutation(num_sample)\n",
    "X_versi, y_versi = X_versi[permutation], y_versi[permutation]`"
   ]
  },
  {
   "cell_type": "code",
   "execution_count": 57,
   "metadata": {},
   "outputs": [],
   "source": [
    "# Fit the k-fold CV to the classifier\n",
    "from sklearn.metrics import f1_score\n",
    "def cv_k_fold_classifier(clf, k, X, y):\n",
    "    training_scores = []\n",
    "    test_scores = []\n",
    "   \n",
    "    # Your code\n",
    "    n = len(X)\n",
    "    masks = create_kfold_mask(n, k)\n",
    "    \n",
    "    for mask in masks:\n",
    "        X_train, y_train = X[~mask], y[~mask]\n",
    "        clf.fit(X_train, y_train)\n",
    "        # training_scores.append(clf.score(X_train, y_train))\n",
    "        training_scores.append(f1_score(clf.predict(X_train), y_train))\n",
    "        X_test, y_test = X[mask], y[mask]\n",
    "        # test_scores.append(clf.score(X_test, y_test))\n",
    "        test_scores.append(f1_score(clf.predict(X_test), y_test))\n",
    "    \n",
    "    return training_scores, test_scores"
   ]
  },
  {
   "cell_type": "markdown",
   "metadata": {},
   "source": [
    "### automatic implementation via the cv sklearn library"
   ]
  },
  {
   "cell_type": "code",
   "execution_count": null,
   "metadata": {},
   "outputs": [],
   "source": [
    "# Other CV methods do not require labels only the length of the labels\n",
    "plot_cv(cv.KFold(len(y), n_folds=10)) # like we implemented\n",
    "plot_cv(cv.ShuffleSplit(len(y), n_iter=10, test_size=0.3)) # like training_test_split with test 30% of data"
   ]
  },
  {
   "cell_type": "code",
   "execution_count": null,
   "metadata": {},
   "outputs": [],
   "source": [
    "import sklearn.cross_validation as cv\n",
    "\n",
    "# Helper to plot scikit CV\n",
    "def plot_cv(cv):\n",
    "    masks = []\n",
    "    for train, test in cv: # this shows you how to use the cv results!\n",
    "        # i.e. X_train, y_train = X[train], y[train]\n",
    "        mask = np.zeros(cv.n, dtype=bool)\n",
    "        mask[test] = 1\n",
    "        masks.append(mask)\n",
    "    \n",
    "    plt.matshow(masks)\n",
    "    \n",
    "kfold = cv.StratifiedKFold(y, n_folds=10) # using it on the original multi-class labels\n",
    "plot_cv(kfold)"
   ]
  },
  {
   "cell_type": "markdown",
   "metadata": {},
   "source": [
    "### example of CV on iris dataset"
   ]
  },
  {
   "cell_type": "code",
   "execution_count": null,
   "metadata": {},
   "outputs": [],
   "source": [
    "# Solution Exercise 2.2\n",
    "\n",
    "virgin_idx = y == 2\n",
    "y_virgin = np.zeros(len(y))\n",
    "y_virgin[virgin_idx] = 1\n",
    "\n",
    "from sklearn import grid_search\n",
    "from sklearn.cross_validation import LeaveOneOut, StratifiedKFold\n",
    "\n",
    "parameters = {\n",
    "    'kernel':('linear', 'rbf'), \n",
    "    'C':[0.1, 0.2, 0.5, 1, 2, 5, 10, 20, 50, 100]\n",
    "}\n",
    "\n",
    "svc = SVC()\n",
    "\n",
    "# a)\n",
    "clf = grid_search.GridSearchCV(svc, parameters, scoring='accuracy', cv=StratifiedKFold(y_virgin, 2))\n",
    "clf.fit(X, y_virgin) \n",
    "\n",
    "best_clf_a = clf.best_estimator_\n",
    "\n",
    "y_score = best_clf_a.decision_function(X)\n",
    "fpr_a, tpr_a, _ = metrics.roc_curve(y_virgin, y_score, pos_label=1)\n",
    "\n",
    "print(\"Best Classifier (2-fold): %s\" % best_clf_a)\n",
    "print(\"Best Accuracy (2-fold): %.4f\" % clf.best_score_)\n",
    "# b)\n",
    "clf = grid_search.GridSearchCV(svc, parameters, scoring='accuracy', cv=LeaveOneOut(150))\n",
    "clf.fit(X, y_virgin)   \n",
    "\n",
    "best_clf_b = clf.best_estimator_\n",
    "\n",
    "y_score = best_clf_b.decision_function(X)\n",
    "fpr_b, tpr_b, _ = metrics.roc_curve(y_virgin, y_score, pos_label=1)\n",
    "plot_roc_curves([fpr_a, fpr_b], [tpr_a, tpr_b])\n",
    "\n",
    "print(\"Best Classifier (LOOCV): %s\" % best_clf_b)\n",
    "print(\"Best Accuracy (LOOCV): %.4f\" % clf.best_score_)"
   ]
  },
  {
   "cell_type": "markdown",
   "metadata": {},
   "source": [
    "### validation curve? "
   ]
  },
  {
   "cell_type": "code",
   "execution_count": null,
   "metadata": {},
   "outputs": [],
   "source": []
  }
 ],
 "metadata": {
  "kernelspec": {
   "display_name": "Python 3",
   "language": "python",
   "name": "python3"
  },
  "language_info": {
   "codemirror_mode": {
    "name": "ipython",
    "version": 3
   },
   "file_extension": ".py",
   "mimetype": "text/x-python",
   "name": "python",
   "nbconvert_exporter": "python",
   "pygments_lexer": "ipython3",
   "version": "3.6.4"
  }
 },
 "nbformat": 4,
 "nbformat_minor": 2
}
