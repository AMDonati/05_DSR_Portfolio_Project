{
 "cells": [
  {
   "cell_type": "code",
   "execution_count": 1,
   "metadata": {},
   "outputs": [],
   "source": [
    "#imports \n",
    "import numpy as np \n",
    "import pandas as pd \n",
    "import matplotlib.pyplot as plt\n",
    "import urllib.parse\n",
    "from glob import glob\n",
    "import os\n",
    "import ntpath \n",
    "import zipfile\n",
    "\n",
    "#paths\n",
    "#PPMI_zippath='/Users/alicemartin/02_DSR_Project/parkinson-disease-project/data/PPMI-final-dataset-382018.zip'\n",
    "PPMI_path='/Users/alicemartin/02_DSR_Project/parkinson-disease-project/data/'"
   ]
  },
  {
   "cell_type": "code",
   "execution_count": 2,
   "metadata": {},
   "outputs": [],
   "source": [
    "def reading_csv_files(folder_path):\n",
    "    # saving all the csv files in a dataframe\n",
    "    import os\n",
    "    import glob\n",
    "    # glob.glob('*.csv') #find all the csv files in a pathname. \n",
    "    os.chdir(folder_path)\n",
    "    csv_files = [i for i in glob.glob('*.csv')]\n",
    "\n",
    "    # Reading each csv file and storing them in a dictionnary containing the file name and the dataframe\n",
    "    dict_files={}\n",
    "    files_names=[]\n",
    "    for files in csv_files:\n",
    "    #for i, files in enumerate(csv_files): \n",
    "        df=pd.read_csv(files,engine='python')\n",
    "        basepath, filename=ntpath.split(files)\n",
    "        files_names.append(filename)\n",
    "        dict_files[filename]=df\n",
    "\n",
    "    # Calculating the # of rows and features for each dataframe and storing them in a list of tuples\n",
    "    shape_df=[]\n",
    "    for i in range(0,len(dict_files.keys())):\n",
    "        nrows, ncols=(len(dict_files[files_names[i]]),len(dict_files[files_names[i]].columns))\n",
    "        shape_df.append((nrows,ncols))\n",
    "\n",
    "    return (shape_df,files_names,dict_files)"
   ]
  },
  {
   "cell_type": "code",
   "execution_count": 3,
   "metadata": {},
   "outputs": [],
   "source": [
    "def number_of_patients(df):\n",
    "    '''return the number of patients in each csv files'''\n",
    "    patients=len(list(set(df['PATNO'])))\n",
    "    if 'EVENT_ID' in df.columns:\n",
    "        events=len(list(set(df['EVENT_ID'])))\n",
    "    else:\n",
    "        events='no TS data'\n",
    "    return (patients,events)"
   ]
  },
  {
   "cell_type": "code",
   "execution_count": 23,
   "metadata": {},
   "outputs": [],
   "source": [
    "def features_selection(df, SEL):\n",
    "    '''cleanier way to do features selection in each csv file'''\n",
    "    return df_sel"
   ]
  },
  {
   "cell_type": "markdown",
   "metadata": {},
   "source": [
    "Inline-style: \n",
    "![1-Subject-Characteristics](https://github.com/AMDonati/parkinson-disease-project/blob/master/assets%20/1-subject-characteristics.png)\n",
    "![2-Biospecimen](https://github.com/AMDonati/parkinson-disease-project/blob/master/assets%20/2-Biospecimen.png)\n",
    "![3-Enrollment](https://github.com/AMDonati/parkinson-disease-project/blob/master/assets%20/3-Enrollment.png)\n",
    "![4-Imaging](https://github.com/AMDonati/parkinson-disease-project/blob/master/assets%20/4-Medical.png)\n",
    "![5-Medical-History](https://github.com/AMDonati/parkinson-disease-project/blob/master/assets%20/5-Imaging.png)\n",
    "![6-Motor-Assessments](https://github.com/AMDonati/parkinson-disease-project/blob/master/assets%20/6-Motor-Assessments.png)\n",
    "![7-Non-Motor-Assessments](https://github.com/AMDonati/parkinson-disease-project/blob/master/assets%20/7-Non-Motor-Assessments.png)"
   ]
  },
  {
   "cell_type": "markdown",
   "metadata": {},
   "source": [
    "## 1-Subject-Characteristics"
   ]
  },
  {
   "cell_type": "code",
   "execution_count": 5,
   "metadata": {},
   "outputs": [],
   "source": [
    "folder_path='/Users/alicemartin/02_DSR_Project/parkinson-disease-project/data/PPMI-final-dataset-382018/1-Subject-Characteristics/'\n",
    "files_names=reading_csv_files(folder_path)[1]\n",
    "dict_files=reading_csv_files(folder_path)[2]"
   ]
  },
  {
   "cell_type": "markdown",
   "metadata": {},
   "source": [
    "### Screening__Demographics - useful\n",
    "#### NOT TS DATA"
   ]
  },
  {
   "cell_type": "code",
   "execution_count": 6,
   "metadata": {},
   "outputs": [
    {
     "name": "stdout",
     "output_type": "stream",
     "text": [
      "(2144, 1)\n"
     ]
    },
    {
     "data": {
      "text/html": [
       "<div>\n",
       "<style scoped>\n",
       "    .dataframe tbody tr th:only-of-type {\n",
       "        vertical-align: middle;\n",
       "    }\n",
       "\n",
       "    .dataframe tbody tr th {\n",
       "        vertical-align: top;\n",
       "    }\n",
       "\n",
       "    .dataframe thead th {\n",
       "        text-align: right;\n",
       "    }\n",
       "</style>\n",
       "<table border=\"1\" class=\"dataframe\">\n",
       "  <thead>\n",
       "    <tr style=\"text-align: right;\">\n",
       "      <th></th>\n",
       "      <th>REC_ID</th>\n",
       "      <th>PATNO</th>\n",
       "      <th>EVENT_ID</th>\n",
       "      <th>PAG_NAME</th>\n",
       "      <th>CONSNTDT</th>\n",
       "      <th>APPRDX</th>\n",
       "      <th>CURRENT_APPRDX</th>\n",
       "      <th>P3GRP</th>\n",
       "      <th>BIRTHDT</th>\n",
       "      <th>GENDER</th>\n",
       "      <th>HISPLAT</th>\n",
       "      <th>RAINDALS</th>\n",
       "      <th>RAASIAN</th>\n",
       "      <th>RABLACK</th>\n",
       "      <th>RAHAWOPI</th>\n",
       "      <th>RAWHITE</th>\n",
       "      <th>RANOS</th>\n",
       "      <th>PRJENRDT</th>\n",
       "    </tr>\n",
       "  </thead>\n",
       "  <tbody>\n",
       "    <tr>\n",
       "      <th>0</th>\n",
       "      <td>224392801</td>\n",
       "      <td>3400</td>\n",
       "      <td>CONSENT</td>\n",
       "      <td>SCREEN</td>\n",
       "      <td>06/2010</td>\n",
       "      <td>1.0</td>\n",
       "      <td>1.0</td>\n",
       "      <td>NaN</td>\n",
       "      <td>1971.0</td>\n",
       "      <td>0.0</td>\n",
       "      <td>0.0</td>\n",
       "      <td>0.0</td>\n",
       "      <td>0.0</td>\n",
       "      <td>0.0</td>\n",
       "      <td>0.0</td>\n",
       "      <td>1.0</td>\n",
       "      <td>0.0</td>\n",
       "      <td>07/2010</td>\n",
       "    </tr>\n",
       "    <tr>\n",
       "      <th>1</th>\n",
       "      <td>224394301</td>\n",
       "      <td>3401</td>\n",
       "      <td>CONSENT</td>\n",
       "      <td>SCREEN</td>\n",
       "      <td>06/2010</td>\n",
       "      <td>2.0</td>\n",
       "      <td>2.0</td>\n",
       "      <td>NaN</td>\n",
       "      <td>1954.0</td>\n",
       "      <td>1.0</td>\n",
       "      <td>0.0</td>\n",
       "      <td>0.0</td>\n",
       "      <td>0.0</td>\n",
       "      <td>0.0</td>\n",
       "      <td>0.0</td>\n",
       "      <td>1.0</td>\n",
       "      <td>0.0</td>\n",
       "      <td>07/2010</td>\n",
       "    </tr>\n",
       "    <tr>\n",
       "      <th>2</th>\n",
       "      <td>224398401</td>\n",
       "      <td>3402</td>\n",
       "      <td>CONSENT</td>\n",
       "      <td>SCREEN</td>\n",
       "      <td>06/2010</td>\n",
       "      <td>3.0</td>\n",
       "      <td>3.0</td>\n",
       "      <td>NaN</td>\n",
       "      <td>1964.0</td>\n",
       "      <td>2.0</td>\n",
       "      <td>0.0</td>\n",
       "      <td>0.0</td>\n",
       "      <td>0.0</td>\n",
       "      <td>0.0</td>\n",
       "      <td>0.0</td>\n",
       "      <td>1.0</td>\n",
       "      <td>0.0</td>\n",
       "      <td>10/2011</td>\n",
       "    </tr>\n",
       "    <tr>\n",
       "      <th>3</th>\n",
       "      <td>224400201</td>\n",
       "      <td>3403</td>\n",
       "      <td>CONSENT</td>\n",
       "      <td>SCREEN</td>\n",
       "      <td>06/2010</td>\n",
       "      <td>1.0</td>\n",
       "      <td>1.0</td>\n",
       "      <td>NaN</td>\n",
       "      <td>1941.0</td>\n",
       "      <td>2.0</td>\n",
       "      <td>0.0</td>\n",
       "      <td>0.0</td>\n",
       "      <td>0.0</td>\n",
       "      <td>0.0</td>\n",
       "      <td>0.0</td>\n",
       "      <td>1.0</td>\n",
       "      <td>0.0</td>\n",
       "      <td>07/2010</td>\n",
       "    </tr>\n",
       "    <tr>\n",
       "      <th>4</th>\n",
       "      <td>224718101</td>\n",
       "      <td>3404</td>\n",
       "      <td>CONSENT</td>\n",
       "      <td>SCREEN</td>\n",
       "      <td>06/2010</td>\n",
       "      <td>2.0</td>\n",
       "      <td>2.0</td>\n",
       "      <td>NaN</td>\n",
       "      <td>1954.0</td>\n",
       "      <td>0.0</td>\n",
       "      <td>0.0</td>\n",
       "      <td>0.0</td>\n",
       "      <td>0.0</td>\n",
       "      <td>0.0</td>\n",
       "      <td>0.0</td>\n",
       "      <td>1.0</td>\n",
       "      <td>0.0</td>\n",
       "      <td>07/2010</td>\n",
       "    </tr>\n",
       "  </tbody>\n",
       "</table>\n",
       "</div>"
      ],
      "text/plain": [
       "      REC_ID  PATNO EVENT_ID PAG_NAME CONSNTDT  APPRDX  CURRENT_APPRDX  P3GRP  \\\n",
       "0  224392801   3400  CONSENT   SCREEN  06/2010     1.0             1.0    NaN   \n",
       "1  224394301   3401  CONSENT   SCREEN  06/2010     2.0             2.0    NaN   \n",
       "2  224398401   3402  CONSENT   SCREEN  06/2010     3.0             3.0    NaN   \n",
       "3  224400201   3403  CONSENT   SCREEN  06/2010     1.0             1.0    NaN   \n",
       "4  224718101   3404  CONSENT   SCREEN  06/2010     2.0             2.0    NaN   \n",
       "\n",
       "   BIRTHDT  GENDER  HISPLAT  RAINDALS  RAASIAN  RABLACK  RAHAWOPI  RAWHITE  \\\n",
       "0   1971.0     0.0      0.0       0.0      0.0      0.0       0.0      1.0   \n",
       "1   1954.0     1.0      0.0       0.0      0.0      0.0       0.0      1.0   \n",
       "2   1964.0     2.0      0.0       0.0      0.0      0.0       0.0      1.0   \n",
       "3   1941.0     2.0      0.0       0.0      0.0      0.0       0.0      1.0   \n",
       "4   1954.0     0.0      0.0       0.0      0.0      0.0       0.0      1.0   \n",
       "\n",
       "   RANOS PRJENRDT  \n",
       "0    0.0  07/2010  \n",
       "1    0.0  07/2010  \n",
       "2    0.0  10/2011  \n",
       "3    0.0  07/2010  \n",
       "4    0.0  07/2010  "
      ]
     },
     "execution_count": 6,
     "metadata": {},
     "output_type": "execute_result"
    }
   ],
   "source": [
    "SCREEN=dict_files[files_names[3]]\n",
    "#SCREEN.head()\n",
    "#list(set(SCREEN['EVENT_ID']))\n",
    "#SCREEN.columns\n",
    "\n",
    "SEL=['REC_ID', 'PATNO', 'EVENT_ID', 'PAG_NAME',\n",
    "       'CONSNTDT', 'APPRDX', 'CURRENT_APPRDX', 'P3GRP', 'BIRTHDT', 'GENDER',\n",
    "       'HISPLAT', 'RAINDALS', 'RAASIAN', 'RABLACK', 'RAHAWOPI', 'RAWHITE',\n",
    "       'RANOS', 'PRJENRDT']\n",
    "SCREEN_sel=SCREEN[SEL]\n",
    "#list(set(SCREEN_sel['EVENT_ID']))\n",
    "print(number_of_patients(SCREEN))\n",
    "SCREEN_sel.head()"
   ]
  },
  {
   "cell_type": "markdown",
   "metadata": {},
   "source": [
    "## 2-Biospecimen"
   ]
  },
  {
   "cell_type": "code",
   "execution_count": 7,
   "metadata": {},
   "outputs": [],
   "source": [
    "folder_path='/Users/alicemartin/02_DSR_Project/parkinson-disease-project/data/PPMI-final-dataset-382018/2-Biospecimen/'\n",
    "files_names=reading_csv_files(folder_path)[1]\n",
    "dict_files=reading_csv_files(folder_path)[2]"
   ]
  },
  {
   "cell_type": "markdown",
   "metadata": {},
   "source": [
    "### Genetic_Results_Tests - useful: Feat-bio - 1116 patients\n",
    "#### NOT TS DATA"
   ]
  },
  {
   "cell_type": "code",
   "execution_count": 8,
   "metadata": {},
   "outputs": [
    {
     "name": "stdout",
     "output_type": "stream",
     "text": [
      "(1116, 1)\n"
     ]
    },
    {
     "data": {
      "text/html": [
       "<div>\n",
       "<style scoped>\n",
       "    .dataframe tbody tr th:only-of-type {\n",
       "        vertical-align: middle;\n",
       "    }\n",
       "\n",
       "    .dataframe tbody tr th {\n",
       "        vertical-align: top;\n",
       "    }\n",
       "\n",
       "    .dataframe thead th {\n",
       "        text-align: right;\n",
       "    }\n",
       "</style>\n",
       "<table border=\"1\" class=\"dataframe\">\n",
       "  <thead>\n",
       "    <tr style=\"text-align: right;\">\n",
       "      <th></th>\n",
       "      <th>REC_ID</th>\n",
       "      <th>PATNO</th>\n",
       "      <th>EVENT_ID</th>\n",
       "      <th>PAG_NAME</th>\n",
       "      <th>INFODT</th>\n",
       "      <th>GENECAT</th>\n",
       "      <th>LRRKCD</th>\n",
       "      <th>MUTRSLT</th>\n",
       "    </tr>\n",
       "  </thead>\n",
       "  <tbody>\n",
       "    <tr>\n",
       "      <th>0</th>\n",
       "      <td>426136501</td>\n",
       "      <td>41386</td>\n",
       "      <td>GMU</td>\n",
       "      <td>MUTRSLT</td>\n",
       "      <td>01/2014</td>\n",
       "      <td>1</td>\n",
       "      <td>1.0</td>\n",
       "      <td>1</td>\n",
       "    </tr>\n",
       "    <tr>\n",
       "      <th>1</th>\n",
       "      <td>445446201</td>\n",
       "      <td>50157</td>\n",
       "      <td>GMU</td>\n",
       "      <td>MUTRSLT</td>\n",
       "      <td>06/2014</td>\n",
       "      <td>1</td>\n",
       "      <td>1.0</td>\n",
       "      <td>1</td>\n",
       "    </tr>\n",
       "    <tr>\n",
       "      <th>2</th>\n",
       "      <td>422444501</td>\n",
       "      <td>40819</td>\n",
       "      <td>GMU</td>\n",
       "      <td>MUTRSLT</td>\n",
       "      <td>01/2014</td>\n",
       "      <td>1</td>\n",
       "      <td>1.0</td>\n",
       "      <td>1</td>\n",
       "    </tr>\n",
       "    <tr>\n",
       "      <th>3</th>\n",
       "      <td>423319501</td>\n",
       "      <td>40577</td>\n",
       "      <td>GMU</td>\n",
       "      <td>MUTRSLT</td>\n",
       "      <td>01/2014</td>\n",
       "      <td>1</td>\n",
       "      <td>1.0</td>\n",
       "      <td>1</td>\n",
       "    </tr>\n",
       "    <tr>\n",
       "      <th>4</th>\n",
       "      <td>493347201</td>\n",
       "      <td>41564</td>\n",
       "      <td>GMU</td>\n",
       "      <td>MUTRSLT</td>\n",
       "      <td>01/2015</td>\n",
       "      <td>1</td>\n",
       "      <td>1.0</td>\n",
       "      <td>1</td>\n",
       "    </tr>\n",
       "  </tbody>\n",
       "</table>\n",
       "</div>"
      ],
      "text/plain": [
       "      REC_ID  PATNO EVENT_ID PAG_NAME   INFODT  GENECAT  LRRKCD  MUTRSLT\n",
       "0  426136501  41386      GMU  MUTRSLT  01/2014        1     1.0        1\n",
       "1  445446201  50157      GMU  MUTRSLT  06/2014        1     1.0        1\n",
       "2  422444501  40819      GMU  MUTRSLT  01/2014        1     1.0        1\n",
       "3  423319501  40577      GMU  MUTRSLT  01/2014        1     1.0        1\n",
       "4  493347201  41564      GMU  MUTRSLT  01/2015        1     1.0        1"
      ]
     },
     "execution_count": 8,
     "metadata": {},
     "output_type": "execute_result"
    }
   ],
   "source": [
    "MUTRSLT=dict_files[files_names[3]]\n",
    "#MUTRSLT.head()\n",
    "#MUTRSLT.columns\n",
    "\n",
    "SEL=['REC_ID','PATNO', 'EVENT_ID', 'PAG_NAME', 'INFODT',\n",
    "       'GENECAT', 'LRRKCD', 'MUTRSLT']\n",
    "MUTRSLT_sel=MUTRSLT[SEL]\n",
    "print(number_of_patients(MUTRSLT))\n",
    "MUTRSLT_sel.head()\n",
    "#list(set(MUTRSLT_sel['EVENT_ID']))"
   ]
  },
  {
   "cell_type": "markdown",
   "metadata": {},
   "source": [
    "### Pilot_Biospecimen_Analysis_Results - useful: Feat-bio\n",
    "#### Understand if the cohort of patient IDs are different from the classic PPMI cohort.\n",
    "#### NOT TS DATA."
   ]
  },
  {
   "cell_type": "code",
   "execution_count": 9,
   "metadata": {},
   "outputs": [
    {
     "name": "stdout",
     "output_type": "stream",
     "text": [
      "(664, 'no TS data')\n"
     ]
    },
    {
     "data": {
      "text/html": [
       "<div>\n",
       "<style scoped>\n",
       "    .dataframe tbody tr th:only-of-type {\n",
       "        vertical-align: middle;\n",
       "    }\n",
       "\n",
       "    .dataframe tbody tr th {\n",
       "        vertical-align: top;\n",
       "    }\n",
       "\n",
       "    .dataframe thead th {\n",
       "        text-align: right;\n",
       "    }\n",
       "</style>\n",
       "<table border=\"1\" class=\"dataframe\">\n",
       "  <thead>\n",
       "    <tr style=\"text-align: right;\">\n",
       "      <th></th>\n",
       "      <th>PATNO</th>\n",
       "      <th>DIAGNOSIS</th>\n",
       "      <th>CLINICAL_EVENT</th>\n",
       "      <th>TYPE</th>\n",
       "      <th>TESTNAME</th>\n",
       "      <th>TESTVALUE</th>\n",
       "      <th>RUNDATE</th>\n",
       "      <th>PROJECTID</th>\n",
       "    </tr>\n",
       "  </thead>\n",
       "  <tbody>\n",
       "    <tr>\n",
       "      <th>0</th>\n",
       "      <td>3400</td>\n",
       "      <td>PD</td>\n",
       "      <td>BL</td>\n",
       "      <td>Cerebrospinal Fluid</td>\n",
       "      <td>Abeta 42</td>\n",
       "      <td>207</td>\n",
       "      <td>2011-07-21</td>\n",
       "      <td>101</td>\n",
       "    </tr>\n",
       "    <tr>\n",
       "      <th>1</th>\n",
       "      <td>3400</td>\n",
       "      <td>PD</td>\n",
       "      <td>BL</td>\n",
       "      <td>Cerebrospinal Fluid</td>\n",
       "      <td>p-Tau181P</td>\n",
       "      <td>14</td>\n",
       "      <td>2011-07-21</td>\n",
       "      <td>101</td>\n",
       "    </tr>\n",
       "    <tr>\n",
       "      <th>2</th>\n",
       "      <td>3400</td>\n",
       "      <td>PD</td>\n",
       "      <td>BL</td>\n",
       "      <td>Cerebrospinal Fluid</td>\n",
       "      <td>Total tau</td>\n",
       "      <td>10</td>\n",
       "      <td>2011-07-21</td>\n",
       "      <td>101</td>\n",
       "    </tr>\n",
       "    <tr>\n",
       "      <th>3</th>\n",
       "      <td>3400</td>\n",
       "      <td>PD</td>\n",
       "      <td>ST</td>\n",
       "      <td>Cerebrospinal Fluid</td>\n",
       "      <td>Abeta 42</td>\n",
       "      <td>231</td>\n",
       "      <td>2011-07-15</td>\n",
       "      <td>101</td>\n",
       "    </tr>\n",
       "    <tr>\n",
       "      <th>4</th>\n",
       "      <td>3400</td>\n",
       "      <td>PD</td>\n",
       "      <td>ST</td>\n",
       "      <td>Cerebrospinal Fluid</td>\n",
       "      <td>p-Tau181P</td>\n",
       "      <td>21</td>\n",
       "      <td>2011-07-15</td>\n",
       "      <td>101</td>\n",
       "    </tr>\n",
       "  </tbody>\n",
       "</table>\n",
       "</div>"
      ],
      "text/plain": [
       "   PATNO DIAGNOSIS CLINICAL_EVENT                 TYPE   TESTNAME TESTVALUE  \\\n",
       "0   3400        PD             BL  Cerebrospinal Fluid   Abeta 42       207   \n",
       "1   3400        PD             BL  Cerebrospinal Fluid  p-Tau181P        14   \n",
       "2   3400        PD             BL  Cerebrospinal Fluid  Total tau        10   \n",
       "3   3400        PD             ST  Cerebrospinal Fluid   Abeta 42       231   \n",
       "4   3400        PD             ST  Cerebrospinal Fluid  p-Tau181P        21   \n",
       "\n",
       "      RUNDATE  PROJECTID  \n",
       "0  2011-07-21        101  \n",
       "1  2011-07-21        101  \n",
       "2  2011-07-21        101  \n",
       "3  2011-07-15        101  \n",
       "4  2011-07-15        101  "
      ]
     },
     "execution_count": 9,
     "metadata": {},
     "output_type": "execute_result"
    }
   ],
   "source": [
    "### Pilot_Biospecimen_Analysis_Results - useful: Feat-bio\n",
    "Biospecimen_Analysis=dict_files[files_names[6]]\n",
    "#Biospecimen_Analysis.head()\n",
    "#len(list(set(PILOTRSLT['PATNO'])))\n",
    "#Biospecimen_Analysis.columns\n",
    "\n",
    "SEL=['PATNO', 'DIAGNOSIS', 'CLINICAL_EVENT', 'TYPE', 'TESTNAME',\n",
    "       'TESTVALUE','RUNDATE', 'PROJECTID']\n",
    "print(number_of_patients(Biospecimen_Analysis))\n",
    "Biospecimen_Analysis_sel=Biospecimen_Analysis[SEL]\n",
    "Biospecimen_Analysis_sel.head()\n",
    "#list(set(Biospecimen_Analysis_sel['DIAGNOSIS']))"
   ]
  },
  {
   "cell_type": "markdown",
   "metadata": {},
   "source": [
    "about Cerobrospinal fluid: https://en.wikipedia.org/wiki/Cerebrospinal_fluid"
   ]
  },
  {
   "cell_type": "markdown",
   "metadata": {},
   "source": [
    "### Lumbar_Puncture_Sample_Collection - useful: Feat-bio - 1344 patients"
   ]
  },
  {
   "cell_type": "code",
   "execution_count": 10,
   "metadata": {},
   "outputs": [
    {
     "name": "stdout",
     "output_type": "stream",
     "text": [
      "(1344, 20)\n"
     ]
    },
    {
     "data": {
      "text/html": [
       "<div>\n",
       "<style scoped>\n",
       "    .dataframe tbody tr th:only-of-type {\n",
       "        vertical-align: middle;\n",
       "    }\n",
       "\n",
       "    .dataframe tbody tr th {\n",
       "        vertical-align: top;\n",
       "    }\n",
       "\n",
       "    .dataframe thead th {\n",
       "        text-align: right;\n",
       "    }\n",
       "</style>\n",
       "<table border=\"1\" class=\"dataframe\">\n",
       "  <thead>\n",
       "    <tr style=\"text-align: right;\">\n",
       "      <th></th>\n",
       "      <th>REC_ID</th>\n",
       "      <th>PATNO</th>\n",
       "      <th>EVENT_ID</th>\n",
       "      <th>PAG_NAME</th>\n",
       "      <th>INFODT</th>\n",
       "      <th>FASTSTAT</th>\n",
       "      <th>PDMEDYN</th>\n",
       "      <th>PDMEDDT</th>\n",
       "      <th>PDMEDTM</th>\n",
       "      <th>SMPDSCRD</th>\n",
       "      <th>RBCRSLT</th>\n",
       "      <th>WBCRSLT</th>\n",
       "      <th>TOPRRSLT</th>\n",
       "      <th>TGLCRSLT</th>\n",
       "      <th>SPFI</th>\n",
       "      <th>FLUORO</th>\n",
       "    </tr>\n",
       "  </thead>\n",
       "  <tbody>\n",
       "    <tr>\n",
       "      <th>0</th>\n",
       "      <td>232556301</td>\n",
       "      <td>3401</td>\n",
       "      <td>BL</td>\n",
       "      <td>LUMBAR</td>\n",
       "      <td>07/2010</td>\n",
       "      <td>NaN</td>\n",
       "      <td>0.0</td>\n",
       "      <td>NaN</td>\n",
       "      <td>NaN</td>\n",
       "      <td>0</td>\n",
       "      <td>0.0</td>\n",
       "      <td>1.0</td>\n",
       "      <td>20.0</td>\n",
       "      <td>63.0</td>\n",
       "      <td>0.0</td>\n",
       "      <td>0.0</td>\n",
       "    </tr>\n",
       "    <tr>\n",
       "      <th>1</th>\n",
       "      <td>232568401</td>\n",
       "      <td>3403</td>\n",
       "      <td>BL</td>\n",
       "      <td>LUMBAR</td>\n",
       "      <td>07/2010</td>\n",
       "      <td>NaN</td>\n",
       "      <td>0.0</td>\n",
       "      <td>NaN</td>\n",
       "      <td>NaN</td>\n",
       "      <td>0</td>\n",
       "      <td>0.0</td>\n",
       "      <td>1.0</td>\n",
       "      <td>19.0</td>\n",
       "      <td>56.0</td>\n",
       "      <td>0.0</td>\n",
       "      <td>0.0</td>\n",
       "    </tr>\n",
       "    <tr>\n",
       "      <th>2</th>\n",
       "      <td>233649201</td>\n",
       "      <td>3400</td>\n",
       "      <td>BL</td>\n",
       "      <td>LUMBAR</td>\n",
       "      <td>07/2010</td>\n",
       "      <td>NaN</td>\n",
       "      <td>0.0</td>\n",
       "      <td>NaN</td>\n",
       "      <td>NaN</td>\n",
       "      <td>0</td>\n",
       "      <td>76.0</td>\n",
       "      <td>1.0</td>\n",
       "      <td>75.0</td>\n",
       "      <td>55.0</td>\n",
       "      <td>0.0</td>\n",
       "      <td>0.0</td>\n",
       "    </tr>\n",
       "    <tr>\n",
       "      <th>3</th>\n",
       "      <td>235052301</td>\n",
       "      <td>3404</td>\n",
       "      <td>BL</td>\n",
       "      <td>LUMBAR</td>\n",
       "      <td>07/2010</td>\n",
       "      <td>NaN</td>\n",
       "      <td>0.0</td>\n",
       "      <td>NaN</td>\n",
       "      <td>NaN</td>\n",
       "      <td>0</td>\n",
       "      <td>1.0</td>\n",
       "      <td>2.0</td>\n",
       "      <td>38.0</td>\n",
       "      <td>59.0</td>\n",
       "      <td>0.0</td>\n",
       "      <td>0.0</td>\n",
       "    </tr>\n",
       "    <tr>\n",
       "      <th>4</th>\n",
       "      <td>236619201</td>\n",
       "      <td>3405</td>\n",
       "      <td>BL</td>\n",
       "      <td>LUMBAR</td>\n",
       "      <td>07/2010</td>\n",
       "      <td>NaN</td>\n",
       "      <td>0.0</td>\n",
       "      <td>NaN</td>\n",
       "      <td>NaN</td>\n",
       "      <td>NaN</td>\n",
       "      <td>NaN</td>\n",
       "      <td>NaN</td>\n",
       "      <td>NaN</td>\n",
       "      <td>NaN</td>\n",
       "      <td>NaN</td>\n",
       "      <td>NaN</td>\n",
       "    </tr>\n",
       "  </tbody>\n",
       "</table>\n",
       "</div>"
      ],
      "text/plain": [
       "      REC_ID  PATNO EVENT_ID PAG_NAME   INFODT  FASTSTAT  PDMEDYN PDMEDDT  \\\n",
       "0  232556301   3401       BL   LUMBAR  07/2010       NaN      0.0     NaN   \n",
       "1  232568401   3403       BL   LUMBAR  07/2010       NaN      0.0     NaN   \n",
       "2  233649201   3400       BL   LUMBAR  07/2010       NaN      0.0     NaN   \n",
       "3  235052301   3404       BL   LUMBAR  07/2010       NaN      0.0     NaN   \n",
       "4  236619201   3405       BL   LUMBAR  07/2010       NaN      0.0     NaN   \n",
       "\n",
       "  PDMEDTM SMPDSCRD  RBCRSLT  WBCRSLT  TOPRRSLT  TGLCRSLT  SPFI  FLUORO  \n",
       "0     NaN        0      0.0      1.0      20.0      63.0   0.0     0.0  \n",
       "1     NaN        0      0.0      1.0      19.0      56.0   0.0     0.0  \n",
       "2     NaN        0     76.0      1.0      75.0      55.0   0.0     0.0  \n",
       "3     NaN        0      1.0      2.0      38.0      59.0   0.0     0.0  \n",
       "4     NaN      NaN      NaN      NaN       NaN       NaN   NaN     NaN  "
      ]
     },
     "execution_count": 10,
     "metadata": {},
     "output_type": "execute_result"
    }
   ],
   "source": [
    "LUMBAR=dict_files[files_names[9]]\n",
    "#LUMBAR.head()\n",
    "#LUMBAR.columns\n",
    "\n",
    "### Only features useful I think: white cell blood count, red blood cell count, total glucose, total protein.\n",
    "\n",
    "SEL=['REC_ID','PATNO', 'EVENT_ID', 'PAG_NAME', 'INFODT', 'FASTSTAT','PDMEDYN', 'PDMEDDT', 'PDMEDTM',\n",
    "     'SMPDSCRD','RBCRSLT','WBCRSLT','TOPRRSLT','TGLCRSLT','SPFI','FLUORO']\n",
    "print(number_of_patients(LUMBAR))\n",
    "LUMBAR_sel=LUMBAR[SEL]\n",
    "LUMBAR_sel.head()\n",
    "#list(set(LUMBAR_sel['EVENT_ID']))"
   ]
  },
  {
   "cell_type": "markdown",
   "metadata": {},
   "source": [
    "## 3-Enrollment - useless?"
   ]
  },
  {
   "cell_type": "code",
   "execution_count": 11,
   "metadata": {},
   "outputs": [],
   "source": [
    "folder_path='/Users/alicemartin/02_DSR_Project/parkinson-disease-project/data/PPMI-final-dataset-382018/3-Enrollment/'\n",
    "files_names=reading_csv_files(folder_path)[1]\n",
    "dict_files=reading_csv_files(folder_path)[2]"
   ]
  },
  {
   "cell_type": "markdown",
   "metadata": {},
   "source": [
    "### 'Primary_Diagnosis.csv' - useful: Feat-Gen - 789 patients... (Control Group not included?)"
   ]
  },
  {
   "cell_type": "code",
   "execution_count": 12,
   "metadata": {},
   "outputs": [
    {
     "name": "stdout",
     "output_type": "stream",
     "text": [
      "(789, 15)\n"
     ]
    },
    {
     "data": {
      "text/html": [
       "<div>\n",
       "<style scoped>\n",
       "    .dataframe tbody tr th:only-of-type {\n",
       "        vertical-align: middle;\n",
       "    }\n",
       "\n",
       "    .dataframe tbody tr th {\n",
       "        vertical-align: top;\n",
       "    }\n",
       "\n",
       "    .dataframe thead th {\n",
       "        text-align: right;\n",
       "    }\n",
       "</style>\n",
       "<table border=\"1\" class=\"dataframe\">\n",
       "  <thead>\n",
       "    <tr style=\"text-align: right;\">\n",
       "      <th></th>\n",
       "      <th>REC_ID</th>\n",
       "      <th>F_STATUS</th>\n",
       "      <th>PATNO</th>\n",
       "      <th>EVENT_ID</th>\n",
       "      <th>PAG_NAME</th>\n",
       "      <th>INFODT</th>\n",
       "      <th>PRIMDIAG</th>\n",
       "      <th>OTHNEURO</th>\n",
       "    </tr>\n",
       "  </thead>\n",
       "  <tbody>\n",
       "    <tr>\n",
       "      <th>0</th>\n",
       "      <td>226859501</td>\n",
       "      <td>V</td>\n",
       "      <td>3401</td>\n",
       "      <td>SC</td>\n",
       "      <td>PRIMDXPD</td>\n",
       "      <td>06/2010</td>\n",
       "      <td>17.0</td>\n",
       "      <td>NaN</td>\n",
       "    </tr>\n",
       "    <tr>\n",
       "      <th>1</th>\n",
       "      <td>232502501</td>\n",
       "      <td>V</td>\n",
       "      <td>3405</td>\n",
       "      <td>SC</td>\n",
       "      <td>PRIMDXPD</td>\n",
       "      <td>07/2010</td>\n",
       "      <td>17.0</td>\n",
       "      <td>NaN</td>\n",
       "    </tr>\n",
       "    <tr>\n",
       "      <th>2</th>\n",
       "      <td>226902401</td>\n",
       "      <td>V</td>\n",
       "      <td>3403</td>\n",
       "      <td>SC</td>\n",
       "      <td>PRIMDXPD</td>\n",
       "      <td>06/2010</td>\n",
       "      <td>1.0</td>\n",
       "      <td>NaN</td>\n",
       "    </tr>\n",
       "    <tr>\n",
       "      <th>3</th>\n",
       "      <td>232739901</td>\n",
       "      <td>V</td>\n",
       "      <td>3404</td>\n",
       "      <td>SC</td>\n",
       "      <td>PRIMDXPD</td>\n",
       "      <td>06/2010</td>\n",
       "      <td>17.0</td>\n",
       "      <td>NaN</td>\n",
       "    </tr>\n",
       "    <tr>\n",
       "      <th>4</th>\n",
       "      <td>232697801</td>\n",
       "      <td>V</td>\n",
       "      <td>3406</td>\n",
       "      <td>SC</td>\n",
       "      <td>PRIMDXPD</td>\n",
       "      <td>07/2010</td>\n",
       "      <td>1.0</td>\n",
       "      <td>NaN</td>\n",
       "    </tr>\n",
       "  </tbody>\n",
       "</table>\n",
       "</div>"
      ],
      "text/plain": [
       "      REC_ID F_STATUS  PATNO EVENT_ID  PAG_NAME   INFODT  PRIMDIAG OTHNEURO\n",
       "0  226859501        V   3401       SC  PRIMDXPD  06/2010      17.0      NaN\n",
       "1  232502501        V   3405       SC  PRIMDXPD  07/2010      17.0      NaN\n",
       "2  226902401        V   3403       SC  PRIMDXPD  06/2010       1.0      NaN\n",
       "3  232739901        V   3404       SC  PRIMDXPD  06/2010      17.0      NaN\n",
       "4  232697801        V   3406       SC  PRIMDXPD  07/2010       1.0      NaN"
      ]
     },
     "execution_count": 12,
     "metadata": {},
     "output_type": "execute_result"
    }
   ],
   "source": [
    "### 'Primary_Diagnosis.csv' - useful: Feat-Gen\n",
    "PRIMDXPD=dict_files[files_names[8]]\n",
    "#PRIMDXPD.head()\n",
    "#PRIMDXPD.columns\n",
    "\n",
    "SEL=['REC_ID', 'F_STATUS', 'PATNO', 'EVENT_ID', 'PAG_NAME', 'INFODT',\n",
    "       'PRIMDIAG', 'OTHNEURO']\n",
    "print(number_of_patients(PRIMDXPD))\n",
    "PRIMDXPD_sel=PRIMDXPD[SEL]\n",
    "PRIMDXPD_sel.head()\n",
    "#list(set(PRIMDXPD['EVENT_ID']))"
   ]
  },
  {
   "cell_type": "markdown",
   "metadata": {},
   "source": [
    "### 5-Medical History"
   ]
  },
  {
   "cell_type": "code",
   "execution_count": 13,
   "metadata": {},
   "outputs": [],
   "source": [
    "folder_path='/Users/alicemartin/02_DSR_Project/parkinson-disease-project/data/PPMI-final-dataset-382018/5-Medical-History/'\n",
    "files_names=reading_csv_files(folder_path)[1]\n",
    "dict_files=reading_csv_files(folder_path)[2]"
   ]
  },
  {
   "cell_type": "markdown",
   "metadata": {},
   "source": [
    "### 'Diagnostic_Features.csv': useful: Feat-PD - 1670 patients."
   ]
  },
  {
   "cell_type": "code",
   "execution_count": 15,
   "metadata": {},
   "outputs": [
    {
     "name": "stdout",
     "output_type": "stream",
     "text": [
      "(1670, 19)\n"
     ]
    },
    {
     "data": {
      "text/html": [
       "<div>\n",
       "<style scoped>\n",
       "    .dataframe tbody tr th:only-of-type {\n",
       "        vertical-align: middle;\n",
       "    }\n",
       "\n",
       "    .dataframe tbody tr th {\n",
       "        vertical-align: top;\n",
       "    }\n",
       "\n",
       "    .dataframe thead th {\n",
       "        text-align: right;\n",
       "    }\n",
       "</style>\n",
       "<table border=\"1\" class=\"dataframe\">\n",
       "  <thead>\n",
       "    <tr style=\"text-align: right;\">\n",
       "      <th></th>\n",
       "      <th>REC_ID</th>\n",
       "      <th>PATNO</th>\n",
       "      <th>EVENT_ID</th>\n",
       "      <th>PAG_NAME</th>\n",
       "      <th>INFODT</th>\n",
       "      <th>DFSTROKE</th>\n",
       "      <th>DFRSKFCT</th>\n",
       "      <th>DFPRESNT</th>\n",
       "      <th>DFRPROG</th>\n",
       "      <th>DFSTATIC</th>\n",
       "      <th>...</th>\n",
       "      <th>DFBWLDYS</th>\n",
       "      <th>DFOCULO</th>\n",
       "      <th>DFEYELID</th>\n",
       "      <th>DFNEURAB</th>\n",
       "      <th>DFDOPRSP</th>\n",
       "      <th>DFRAPSPE</th>\n",
       "      <th>DFBULBAR</th>\n",
       "      <th>DFCTSCAN</th>\n",
       "      <th>DFMRI</th>\n",
       "      <th>DFATYP</th>\n",
       "    </tr>\n",
       "  </thead>\n",
       "  <tbody>\n",
       "    <tr>\n",
       "      <th>0</th>\n",
       "      <td>358812401</td>\n",
       "      <td>3428</td>\n",
       "      <td>V04</td>\n",
       "      <td>DIAGFEAT</td>\n",
       "      <td>08/2012</td>\n",
       "      <td>0.0</td>\n",
       "      <td>0.0</td>\n",
       "      <td>0.0</td>\n",
       "      <td>0.0</td>\n",
       "      <td>0.0</td>\n",
       "      <td>...</td>\n",
       "      <td>0.0</td>\n",
       "      <td>0.0</td>\n",
       "      <td>0.0</td>\n",
       "      <td>0.0</td>\n",
       "      <td>0</td>\n",
       "      <td>0.0</td>\n",
       "      <td>0.0</td>\n",
       "      <td>0</td>\n",
       "      <td>0</td>\n",
       "      <td>0.0</td>\n",
       "    </tr>\n",
       "    <tr>\n",
       "      <th>1</th>\n",
       "      <td>364251801</td>\n",
       "      <td>3433</td>\n",
       "      <td>V04</td>\n",
       "      <td>DIAGFEAT</td>\n",
       "      <td>09/2012</td>\n",
       "      <td>0.0</td>\n",
       "      <td>0.0</td>\n",
       "      <td>0.0</td>\n",
       "      <td>0.0</td>\n",
       "      <td>0.0</td>\n",
       "      <td>...</td>\n",
       "      <td>0.0</td>\n",
       "      <td>0.0</td>\n",
       "      <td>0.0</td>\n",
       "      <td>0.0</td>\n",
       "      <td>N</td>\n",
       "      <td>0.0</td>\n",
       "      <td>0.0</td>\n",
       "      <td>0</td>\n",
       "      <td>0</td>\n",
       "      <td>0.0</td>\n",
       "    </tr>\n",
       "    <tr>\n",
       "      <th>2</th>\n",
       "      <td>366180201</td>\n",
       "      <td>3166</td>\n",
       "      <td>V04</td>\n",
       "      <td>DIAGFEAT</td>\n",
       "      <td>10/2012</td>\n",
       "      <td>0.0</td>\n",
       "      <td>0.0</td>\n",
       "      <td>0.0</td>\n",
       "      <td>0.0</td>\n",
       "      <td>0.0</td>\n",
       "      <td>...</td>\n",
       "      <td>0.0</td>\n",
       "      <td>0.0</td>\n",
       "      <td>0.0</td>\n",
       "      <td>0.0</td>\n",
       "      <td>N</td>\n",
       "      <td>0.0</td>\n",
       "      <td>0.0</td>\n",
       "      <td>N</td>\n",
       "      <td>0</td>\n",
       "      <td>0.0</td>\n",
       "    </tr>\n",
       "    <tr>\n",
       "      <th>3</th>\n",
       "      <td>369126801</td>\n",
       "      <td>3162</td>\n",
       "      <td>V04</td>\n",
       "      <td>DIAGFEAT</td>\n",
       "      <td>10/2012</td>\n",
       "      <td>0.0</td>\n",
       "      <td>0.0</td>\n",
       "      <td>0.0</td>\n",
       "      <td>0.0</td>\n",
       "      <td>0.0</td>\n",
       "      <td>...</td>\n",
       "      <td>0.0</td>\n",
       "      <td>0.0</td>\n",
       "      <td>0.0</td>\n",
       "      <td>0.0</td>\n",
       "      <td>N</td>\n",
       "      <td>0.0</td>\n",
       "      <td>0.0</td>\n",
       "      <td>N</td>\n",
       "      <td>N</td>\n",
       "      <td>0.0</td>\n",
       "    </tr>\n",
       "    <tr>\n",
       "      <th>4</th>\n",
       "      <td>362799201</td>\n",
       "      <td>3432</td>\n",
       "      <td>ST</td>\n",
       "      <td>DIAGFEAT</td>\n",
       "      <td>08/2012</td>\n",
       "      <td>0.0</td>\n",
       "      <td>0.0</td>\n",
       "      <td>0.0</td>\n",
       "      <td>0.0</td>\n",
       "      <td>0.0</td>\n",
       "      <td>...</td>\n",
       "      <td>0.0</td>\n",
       "      <td>0.0</td>\n",
       "      <td>0.0</td>\n",
       "      <td>0.0</td>\n",
       "      <td>N</td>\n",
       "      <td>0.0</td>\n",
       "      <td>0.0</td>\n",
       "      <td>0</td>\n",
       "      <td>0</td>\n",
       "      <td>0.0</td>\n",
       "    </tr>\n",
       "  </tbody>\n",
       "</table>\n",
       "<p>5 rows × 59 columns</p>\n",
       "</div>"
      ],
      "text/plain": [
       "      REC_ID  PATNO EVENT_ID  PAG_NAME   INFODT  DFSTROKE  DFRSKFCT  DFPRESNT  \\\n",
       "0  358812401   3428      V04  DIAGFEAT  08/2012       0.0       0.0       0.0   \n",
       "1  364251801   3433      V04  DIAGFEAT  09/2012       0.0       0.0       0.0   \n",
       "2  366180201   3166      V04  DIAGFEAT  10/2012       0.0       0.0       0.0   \n",
       "3  369126801   3162      V04  DIAGFEAT  10/2012       0.0       0.0       0.0   \n",
       "4  362799201   3432       ST  DIAGFEAT  08/2012       0.0       0.0       0.0   \n",
       "\n",
       "   DFRPROG  DFSTATIC   ...    DFBWLDYS  DFOCULO  DFEYELID DFNEURAB  DFDOPRSP  \\\n",
       "0      0.0       0.0   ...         0.0      0.0       0.0      0.0         0   \n",
       "1      0.0       0.0   ...         0.0      0.0       0.0      0.0         N   \n",
       "2      0.0       0.0   ...         0.0      0.0       0.0      0.0         N   \n",
       "3      0.0       0.0   ...         0.0      0.0       0.0      0.0         N   \n",
       "4      0.0       0.0   ...         0.0      0.0       0.0      0.0         N   \n",
       "\n",
       "   DFRAPSPE  DFBULBAR  DFCTSCAN DFMRI  DFATYP  \n",
       "0       0.0       0.0         0     0     0.0  \n",
       "1       0.0       0.0         0     0     0.0  \n",
       "2       0.0       0.0         N     0     0.0  \n",
       "3       0.0       0.0         N     N     0.0  \n",
       "4       0.0       0.0         0     0     0.0  \n",
       "\n",
       "[5 rows x 59 columns]"
      ]
     },
     "execution_count": 15,
     "metadata": {},
     "output_type": "execute_result"
    }
   ],
   "source": [
    "DIAGFEAT=dict_files[files_names[1]]\n",
    "DIAGFEAT.head()\n",
    "#DIAGFEAT.columns\n",
    "\n",
    "SEL=['REC_ID', 'PATNO', 'EVENT_ID', 'PAG_NAME', 'INFODT',\n",
    "       'DFSTROKE', 'DFRSKFCT', 'DFPRESNT', 'DFRPROG', 'DFSTATIC', 'DFHEMPRK',\n",
    "       'DFAGESX', 'DFOTHCRS', 'DFCRSCM', 'DFRTREMP', 'DFRTREMA', 'DFPATREM',\n",
    "       'DFOTHTRM', 'DFTREMCM', 'DFRIGIDP', 'DFRIGIDA', 'DFAXRIG', 'DFUNIRIG',\n",
    "       'DFTONE', 'DFOTHRIG', 'DFRIGCM', 'DFBRADYP', 'DFBRADYA', 'DFAKINES',\n",
    "       'DFBRPLUS', 'DFOTHABR', 'DFABRCM', 'DFPGDIST', 'DFGAIT', 'DFFREEZ',\n",
    "       'DFFALLS', 'DFOTHPG', 'DFPGCM', 'DFPSYCH', 'DFCOGNIT', 'DFDYSTON',\n",
    "       'DFCHOREA', 'DFMYOCLO', 'DFOTHHYP', 'DFHYPCM', 'DFHEMTRO', 'DFPSHYPO',\n",
    "       'DFSEXDYS', 'DFURDYS', 'DFBWLDYS', 'DFOCULO', 'DFEYELID', 'DFNEURAB',\n",
    "       'DFDOPRSP', 'DFRAPSPE', 'DFBULBAR', 'DFCTSCAN', 'DFMRI', 'DFATYP']\n",
    "print(number_of_patients(DIAGFEAT))\n",
    "DIAGFEAT_sel=DIAGFEAT[SEL]\n",
    "DIAGFEAT_sel.head()\n",
    "#list(set(DIAGFEAT_sel['EVENT_ID']))"
   ]
  },
  {
   "cell_type": "markdown",
   "metadata": {},
   "source": [
    "### 'General_Medical_History.csv': useful: Feat-Gen - 2067 patients\n",
    "#### NOT TS DATA..."
   ]
  },
  {
   "cell_type": "code",
   "execution_count": 17,
   "metadata": {},
   "outputs": [
    {
     "name": "stdout",
     "output_type": "stream",
     "text": [
      "(2067, 2)\n"
     ]
    },
    {
     "data": {
      "text/html": [
       "<div>\n",
       "<style scoped>\n",
       "    .dataframe tbody tr th:only-of-type {\n",
       "        vertical-align: middle;\n",
       "    }\n",
       "\n",
       "    .dataframe tbody tr th {\n",
       "        vertical-align: top;\n",
       "    }\n",
       "\n",
       "    .dataframe thead th {\n",
       "        text-align: right;\n",
       "    }\n",
       "</style>\n",
       "<table border=\"1\" class=\"dataframe\">\n",
       "  <thead>\n",
       "    <tr style=\"text-align: right;\">\n",
       "      <th></th>\n",
       "      <th>REC_ID</th>\n",
       "      <th>F_STATUS</th>\n",
       "      <th>PATNO</th>\n",
       "      <th>EVENT_ID</th>\n",
       "      <th>PAG_NAME</th>\n",
       "      <th>INFODT</th>\n",
       "      <th>MHCAT</th>\n",
       "      <th>MHROW</th>\n",
       "      <th>MHHX</th>\n",
       "      <th>MHACTRES</th>\n",
       "      <th>MHDIAGYR</th>\n",
       "      <th>PT_CODE</th>\n",
       "      <th>PT_NAME</th>\n",
       "      <th>HLT_NAME</th>\n",
       "      <th>SOCABBR1</th>\n",
       "    </tr>\n",
       "  </thead>\n",
       "  <tbody>\n",
       "    <tr>\n",
       "      <th>0</th>\n",
       "      <td>226698901</td>\n",
       "      <td>V</td>\n",
       "      <td>3400</td>\n",
       "      <td>SC</td>\n",
       "      <td>MHXGEN</td>\n",
       "      <td>06/2010</td>\n",
       "      <td>1f. ENT</td>\n",
       "      <td>1</td>\n",
       "      <td>1.0</td>\n",
       "      <td>1.0</td>\n",
       "      <td>1987.0</td>\n",
       "      <td>10015090.0</td>\n",
       "      <td>Epistaxis</td>\n",
       "      <td>Nasal disorders NEC</td>\n",
       "      <td>Resp</td>\n",
       "    </tr>\n",
       "    <tr>\n",
       "      <th>1</th>\n",
       "      <td>226700701</td>\n",
       "      <td>V</td>\n",
       "      <td>3400</td>\n",
       "      <td>SC</td>\n",
       "      <td>MHXGEN</td>\n",
       "      <td>06/2010</td>\n",
       "      <td>1l. Gynecologic/Urologic</td>\n",
       "      <td>1</td>\n",
       "      <td>1.0</td>\n",
       "      <td>1.0</td>\n",
       "      <td>2005.0</td>\n",
       "      <td>10013935.0</td>\n",
       "      <td>Dysmenorrhoea</td>\n",
       "      <td>Menstruation and uterine bleeding NEC</td>\n",
       "      <td>Repro</td>\n",
       "    </tr>\n",
       "    <tr>\n",
       "      <th>2</th>\n",
       "      <td>226701901</td>\n",
       "      <td>V</td>\n",
       "      <td>3400</td>\n",
       "      <td>SC</td>\n",
       "      <td>MHXGEN</td>\n",
       "      <td>06/2010</td>\n",
       "      <td>1p. Neurologic (other than disease under study)</td>\n",
       "      <td>1</td>\n",
       "      <td>0.0</td>\n",
       "      <td>NaN</td>\n",
       "      <td>NaN</td>\n",
       "      <td>NaN</td>\n",
       "      <td>NaN</td>\n",
       "      <td>NaN</td>\n",
       "      <td>NaN</td>\n",
       "    </tr>\n",
       "    <tr>\n",
       "      <th>3</th>\n",
       "      <td>226702601</td>\n",
       "      <td>V</td>\n",
       "      <td>3400</td>\n",
       "      <td>SC</td>\n",
       "      <td>MHXGEN</td>\n",
       "      <td>06/2010</td>\n",
       "      <td>1r. Allergy / Immunologic (Note drug allergies)</td>\n",
       "      <td>2</td>\n",
       "      <td>1.0</td>\n",
       "      <td>1.0</td>\n",
       "      <td>1981.0</td>\n",
       "      <td>10020751.0</td>\n",
       "      <td>Hypersensitivity</td>\n",
       "      <td>Allergic conditions NEC</td>\n",
       "      <td>Immun</td>\n",
       "    </tr>\n",
       "    <tr>\n",
       "      <th>4</th>\n",
       "      <td>226870201</td>\n",
       "      <td>V</td>\n",
       "      <td>3401</td>\n",
       "      <td>SC</td>\n",
       "      <td>MHXGEN</td>\n",
       "      <td>06/2010</td>\n",
       "      <td>1o. Hemato/lymphatic</td>\n",
       "      <td>1</td>\n",
       "      <td>0.0</td>\n",
       "      <td>NaN</td>\n",
       "      <td>NaN</td>\n",
       "      <td>NaN</td>\n",
       "      <td>NaN</td>\n",
       "      <td>NaN</td>\n",
       "      <td>NaN</td>\n",
       "    </tr>\n",
       "  </tbody>\n",
       "</table>\n",
       "</div>"
      ],
      "text/plain": [
       "      REC_ID F_STATUS  PATNO EVENT_ID PAG_NAME   INFODT  \\\n",
       "0  226698901        V   3400       SC   MHXGEN  06/2010   \n",
       "1  226700701        V   3400       SC   MHXGEN  06/2010   \n",
       "2  226701901        V   3400       SC   MHXGEN  06/2010   \n",
       "3  226702601        V   3400       SC   MHXGEN  06/2010   \n",
       "4  226870201        V   3401       SC   MHXGEN  06/2010   \n",
       "\n",
       "                                             MHCAT  MHROW  MHHX  MHACTRES  \\\n",
       "0                                          1f. ENT      1   1.0       1.0   \n",
       "1                         1l. Gynecologic/Urologic      1   1.0       1.0   \n",
       "2  1p. Neurologic (other than disease under study)      1   0.0       NaN   \n",
       "3  1r. Allergy / Immunologic (Note drug allergies)      2   1.0       1.0   \n",
       "4                             1o. Hemato/lymphatic      1   0.0       NaN   \n",
       "\n",
       "   MHDIAGYR     PT_CODE           PT_NAME  \\\n",
       "0    1987.0  10015090.0         Epistaxis   \n",
       "1    2005.0  10013935.0     Dysmenorrhoea   \n",
       "2       NaN         NaN               NaN   \n",
       "3    1981.0  10020751.0  Hypersensitivity   \n",
       "4       NaN         NaN               NaN   \n",
       "\n",
       "                                HLT_NAME SOCABBR1  \n",
       "0                    Nasal disorders NEC     Resp  \n",
       "1  Menstruation and uterine bleeding NEC    Repro  \n",
       "2                                    NaN      NaN  \n",
       "3                Allergic conditions NEC    Immun  \n",
       "4                                    NaN      NaN  "
      ]
     },
     "execution_count": 17,
     "metadata": {},
     "output_type": "execute_result"
    }
   ],
   "source": [
    "MHXGEN=dict_files[files_names[3]]\n",
    "#MHXGEN.head()\n",
    "#MHXGEN.columns\n",
    "\n",
    "SEL=['REC_ID', 'F_STATUS', 'PATNO', 'EVENT_ID', 'PAG_NAME', 'INFODT',\n",
    "       'MHCAT', 'MHROW', 'MHHX', 'MHACTRES', 'MHDIAGYR', \n",
    "     'PT_CODE', 'PT_NAME', 'HLT_NAME', 'SOCABBR1']\n",
    "# I need probably to select less features here\n",
    "print(number_of_patients(MHXGEN))\n",
    "MHXGEN_sel=MHXGEN[SEL]\n",
    "MHXGEN_sel.head()\n",
    "#list(set(MHXGEN['EVENT_ID']))"
   ]
  },
  {
   "cell_type": "markdown",
   "metadata": {},
   "source": [
    "### General_Physical_Exam: useful: Feat-Gen - 2047 patients"
   ]
  },
  {
   "cell_type": "code",
   "execution_count": 18,
   "metadata": {},
   "outputs": [
    {
     "name": "stdout",
     "output_type": "stream",
     "text": [
      "(2047, 8)\n"
     ]
    },
    {
     "data": {
      "text/html": [
       "<div>\n",
       "<style scoped>\n",
       "    .dataframe tbody tr th:only-of-type {\n",
       "        vertical-align: middle;\n",
       "    }\n",
       "\n",
       "    .dataframe tbody tr th {\n",
       "        vertical-align: top;\n",
       "    }\n",
       "\n",
       "    .dataframe thead th {\n",
       "        text-align: right;\n",
       "    }\n",
       "</style>\n",
       "<table border=\"1\" class=\"dataframe\">\n",
       "  <thead>\n",
       "    <tr style=\"text-align: right;\">\n",
       "      <th></th>\n",
       "      <th>REC_ID</th>\n",
       "      <th>PATNO</th>\n",
       "      <th>EVENT_ID</th>\n",
       "      <th>PAG_NAME</th>\n",
       "      <th>INFODT</th>\n",
       "      <th>PESEQ</th>\n",
       "      <th>PECAT</th>\n",
       "      <th>ABNORM</th>\n",
       "    </tr>\n",
       "  </thead>\n",
       "  <tbody>\n",
       "    <tr>\n",
       "      <th>0</th>\n",
       "      <td>226890001</td>\n",
       "      <td>3402</td>\n",
       "      <td>SC</td>\n",
       "      <td>GENPHYEX</td>\n",
       "      <td>06/2010</td>\n",
       "      <td>3</td>\n",
       "      <td>Eyes</td>\n",
       "      <td>0.0</td>\n",
       "    </tr>\n",
       "    <tr>\n",
       "      <th>1</th>\n",
       "      <td>226890301</td>\n",
       "      <td>3402</td>\n",
       "      <td>SC</td>\n",
       "      <td>GENPHYEX</td>\n",
       "      <td>06/2010</td>\n",
       "      <td>6</td>\n",
       "      <td>Cardiovascular (including peripheral vascular)</td>\n",
       "      <td>0.0</td>\n",
       "    </tr>\n",
       "    <tr>\n",
       "      <th>2</th>\n",
       "      <td>226890601</td>\n",
       "      <td>3402</td>\n",
       "      <td>SC</td>\n",
       "      <td>GENPHYEX</td>\n",
       "      <td>06/2010</td>\n",
       "      <td>9</td>\n",
       "      <td>Neurological</td>\n",
       "      <td>0.0</td>\n",
       "    </tr>\n",
       "    <tr>\n",
       "      <th>3</th>\n",
       "      <td>232699801</td>\n",
       "      <td>3406</td>\n",
       "      <td>SC</td>\n",
       "      <td>GENPHYEX</td>\n",
       "      <td>07/2010</td>\n",
       "      <td>8</td>\n",
       "      <td>Musculoskeletal</td>\n",
       "      <td>0.0</td>\n",
       "    </tr>\n",
       "    <tr>\n",
       "      <th>4</th>\n",
       "      <td>232700101</td>\n",
       "      <td>3406</td>\n",
       "      <td>SC</td>\n",
       "      <td>GENPHYEX</td>\n",
       "      <td>07/2010</td>\n",
       "      <td>11</td>\n",
       "      <td>Other (Specify location and describe)</td>\n",
       "      <td>0.0</td>\n",
       "    </tr>\n",
       "  </tbody>\n",
       "</table>\n",
       "</div>"
      ],
      "text/plain": [
       "      REC_ID  PATNO EVENT_ID  PAG_NAME   INFODT  PESEQ  \\\n",
       "0  226890001   3402       SC  GENPHYEX  06/2010      3   \n",
       "1  226890301   3402       SC  GENPHYEX  06/2010      6   \n",
       "2  226890601   3402       SC  GENPHYEX  06/2010      9   \n",
       "3  232699801   3406       SC  GENPHYEX  07/2010      8   \n",
       "4  232700101   3406       SC  GENPHYEX  07/2010     11   \n",
       "\n",
       "                                            PECAT  ABNORM  \n",
       "0                                            Eyes     0.0  \n",
       "1  Cardiovascular (including peripheral vascular)     0.0  \n",
       "2                                    Neurological     0.0  \n",
       "3                                 Musculoskeletal     0.0  \n",
       "4           Other (Specify location and describe)     0.0  "
      ]
     },
     "execution_count": 18,
     "metadata": {},
     "output_type": "execute_result"
    }
   ],
   "source": [
    "GENPHYEX=dict_files[files_names[5]]\n",
    "#GENPHYEX.head()\n",
    "#GENPHYEX.columns\n",
    "\n",
    "SEL=['REC_ID', 'PATNO', 'EVENT_ID', 'PAG_NAME', 'INFODT',\n",
    "       'PESEQ', 'PECAT', 'ABNORM']\n",
    "print(number_of_patients(GENPHYEX))\n",
    "GENPHYEX_sel=GENPHYEX[SEL]\n",
    "GENPHYEX_sel.head()\n",
    "#list(set(GENPHYEX['EVENT_ID']))"
   ]
  },
  {
   "cell_type": "markdown",
   "metadata": {},
   "source": [
    "### 'General_Neurological_Exam.csv': useful: Feat-Gen - 2048 patients"
   ]
  },
  {
   "cell_type": "code",
   "execution_count": 22,
   "metadata": {},
   "outputs": [
    {
     "name": "stdout",
     "output_type": "stream",
     "text": [
      "(2048, 15)\n"
     ]
    },
    {
     "data": {
      "text/html": [
       "<div>\n",
       "<style scoped>\n",
       "    .dataframe tbody tr th:only-of-type {\n",
       "        vertical-align: middle;\n",
       "    }\n",
       "\n",
       "    .dataframe tbody tr th {\n",
       "        vertical-align: top;\n",
       "    }\n",
       "\n",
       "    .dataframe thead th {\n",
       "        text-align: right;\n",
       "    }\n",
       "</style>\n",
       "<table border=\"1\" class=\"dataframe\">\n",
       "  <thead>\n",
       "    <tr style=\"text-align: right;\">\n",
       "      <th></th>\n",
       "      <th>REC_ID</th>\n",
       "      <th>PATNO</th>\n",
       "      <th>EVENT_ID</th>\n",
       "      <th>PAG_NAME</th>\n",
       "      <th>INFODT</th>\n",
       "      <th>MSRARSP</th>\n",
       "      <th>MSRACM</th>\n",
       "      <th>MSLARSP</th>\n",
       "      <th>MSLACM</th>\n",
       "      <th>MSRLRSP</th>\n",
       "      <th>...</th>\n",
       "      <th>RFLLARSP</th>\n",
       "      <th>RFLLACM</th>\n",
       "      <th>RFLRLRSP</th>\n",
       "      <th>RFLRLCM</th>\n",
       "      <th>RFLLLRSP</th>\n",
       "      <th>RFLLLCM</th>\n",
       "      <th>PLRRRSP</th>\n",
       "      <th>PLRRCM</th>\n",
       "      <th>PLRLRSP</th>\n",
       "      <th>PLRLCM</th>\n",
       "    </tr>\n",
       "  </thead>\n",
       "  <tbody>\n",
       "    <tr>\n",
       "      <th>0</th>\n",
       "      <td>232741801</td>\n",
       "      <td>3404</td>\n",
       "      <td>SC</td>\n",
       "      <td>PENEURO</td>\n",
       "      <td>06/2010</td>\n",
       "      <td>0</td>\n",
       "      <td>NaN</td>\n",
       "      <td>0</td>\n",
       "      <td>NaN</td>\n",
       "      <td>0</td>\n",
       "      <td>...</td>\n",
       "      <td>1.0</td>\n",
       "      <td>NaN</td>\n",
       "      <td>1.0</td>\n",
       "      <td>NaN</td>\n",
       "      <td>1.0</td>\n",
       "      <td>NaN</td>\n",
       "      <td>0.0</td>\n",
       "      <td>NaN</td>\n",
       "      <td>0.0</td>\n",
       "      <td>NaN</td>\n",
       "    </tr>\n",
       "    <tr>\n",
       "      <th>1</th>\n",
       "      <td>232698601</td>\n",
       "      <td>3406</td>\n",
       "      <td>SC</td>\n",
       "      <td>PENEURO</td>\n",
       "      <td>07/2010</td>\n",
       "      <td>0</td>\n",
       "      <td>NaN</td>\n",
       "      <td>0</td>\n",
       "      <td>NaN</td>\n",
       "      <td>0</td>\n",
       "      <td>...</td>\n",
       "      <td>2.0</td>\n",
       "      <td>NaN</td>\n",
       "      <td>2.0</td>\n",
       "      <td>NaN</td>\n",
       "      <td>2.0</td>\n",
       "      <td>NaN</td>\n",
       "      <td>0.0</td>\n",
       "      <td>NaN</td>\n",
       "      <td>0.0</td>\n",
       "      <td>NaN</td>\n",
       "    </tr>\n",
       "    <tr>\n",
       "      <th>2</th>\n",
       "      <td>226889601</td>\n",
       "      <td>3402</td>\n",
       "      <td>SC</td>\n",
       "      <td>PENEURO</td>\n",
       "      <td>06/2010</td>\n",
       "      <td>0</td>\n",
       "      <td>NaN</td>\n",
       "      <td>0</td>\n",
       "      <td>NaN</td>\n",
       "      <td>0</td>\n",
       "      <td>...</td>\n",
       "      <td>2.0</td>\n",
       "      <td>NaN</td>\n",
       "      <td>2.0</td>\n",
       "      <td>NaN</td>\n",
       "      <td>2.0</td>\n",
       "      <td>NaN</td>\n",
       "      <td>0.0</td>\n",
       "      <td>NaN</td>\n",
       "      <td>0.0</td>\n",
       "      <td>NaN</td>\n",
       "    </tr>\n",
       "    <tr>\n",
       "      <th>3</th>\n",
       "      <td>226914401</td>\n",
       "      <td>3403</td>\n",
       "      <td>SC</td>\n",
       "      <td>PENEURO</td>\n",
       "      <td>06/2010</td>\n",
       "      <td>0</td>\n",
       "      <td>NaN</td>\n",
       "      <td>0</td>\n",
       "      <td>NaN</td>\n",
       "      <td>1</td>\n",
       "      <td>...</td>\n",
       "      <td>3.0</td>\n",
       "      <td>NaN</td>\n",
       "      <td>3.0</td>\n",
       "      <td>NaN</td>\n",
       "      <td>3.0</td>\n",
       "      <td>NaN</td>\n",
       "      <td>0.0</td>\n",
       "      <td>NaN</td>\n",
       "      <td>0.0</td>\n",
       "      <td>NaN</td>\n",
       "    </tr>\n",
       "    <tr>\n",
       "      <th>4</th>\n",
       "      <td>226840201</td>\n",
       "      <td>3400</td>\n",
       "      <td>SC</td>\n",
       "      <td>PENEURO</td>\n",
       "      <td>06/2010</td>\n",
       "      <td>0</td>\n",
       "      <td>NaN</td>\n",
       "      <td>0</td>\n",
       "      <td>NaN</td>\n",
       "      <td>0</td>\n",
       "      <td>...</td>\n",
       "      <td>2.0</td>\n",
       "      <td>NaN</td>\n",
       "      <td>2.0</td>\n",
       "      <td>NaN</td>\n",
       "      <td>2.0</td>\n",
       "      <td>NaN</td>\n",
       "      <td>0.0</td>\n",
       "      <td>NaN</td>\n",
       "      <td>1.0</td>\n",
       "      <td>NaN</td>\n",
       "    </tr>\n",
       "  </tbody>\n",
       "</table>\n",
       "<p>5 rows × 41 columns</p>\n",
       "</div>"
      ],
      "text/plain": [
       "      REC_ID  PATNO EVENT_ID PAG_NAME   INFODT  MSRARSP MSRACM  MSLARSP  \\\n",
       "0  232741801   3404       SC  PENEURO  06/2010        0    NaN        0   \n",
       "1  232698601   3406       SC  PENEURO  07/2010        0    NaN        0   \n",
       "2  226889601   3402       SC  PENEURO  06/2010        0    NaN        0   \n",
       "3  226914401   3403       SC  PENEURO  06/2010        0    NaN        0   \n",
       "4  226840201   3400       SC  PENEURO  06/2010        0    NaN        0   \n",
       "\n",
       "  MSLACM  MSRLRSP   ...   RFLLARSP  RFLLACM RFLRLRSP  RFLRLCM RFLLLRSP  \\\n",
       "0    NaN        0   ...        1.0      NaN      1.0      NaN      1.0   \n",
       "1    NaN        0   ...        2.0      NaN      2.0      NaN      2.0   \n",
       "2    NaN        0   ...        2.0      NaN      2.0      NaN      2.0   \n",
       "3    NaN        1   ...        3.0      NaN      3.0      NaN      3.0   \n",
       "4    NaN        0   ...        2.0      NaN      2.0      NaN      2.0   \n",
       "\n",
       "   RFLLLCM PLRRRSP  PLRRCM PLRLRSP  PLRLCM  \n",
       "0      NaN     0.0     NaN     0.0     NaN  \n",
       "1      NaN     0.0     NaN     0.0     NaN  \n",
       "2      NaN     0.0     NaN     0.0     NaN  \n",
       "3      NaN     0.0     NaN     0.0     NaN  \n",
       "4      NaN     0.0     NaN     1.0     NaN  \n",
       "\n",
       "[5 rows x 41 columns]"
      ]
     },
     "execution_count": 22,
     "metadata": {},
     "output_type": "execute_result"
    }
   ],
   "source": [
    "PENEURO=dict_files[files_names[7]]\n",
    "#PENEURO.head()\n",
    "#PENEURO.columns\n",
    "\n",
    "SEL=['REC_ID', 'PATNO', 'EVENT_ID', 'PAG_NAME', 'INFODT',\n",
    "       'MSRARSP', 'MSRACM', 'MSLARSP', 'MSLACM', 'MSRLRSP', 'MSRLCM',\n",
    "       'MSLLRSP', 'MSLLCM', 'COFNRRSP', 'COFNRCM', 'COFNLRSP', 'COFNLCM',\n",
    "       'COHSRRSP', 'COHSRCM', 'COHSLRSP', 'COHSLCM', 'SENRARSP', 'SENRACM',\n",
    "       'SENLARSP', 'SENLACM', 'SENRLRSP', 'SENRLCM', 'SENLLRSP', 'SENLLCM',\n",
    "       'RFLRARSP', 'RFLRACM', 'RFLLARSP', 'RFLLACM', 'RFLRLRSP', 'RFLRLCM',\n",
    "       'RFLLLRSP', 'RFLLLCM', 'PLRRRSP', 'PLRRCM', 'PLRLRSP', 'PLRLCM']\n",
    "print(number_of_patients(PENEURO))\n",
    "PENEURO_sel=PENEURO[SEL]\n",
    "PENEURO_sel.head()\n",
    "#list(set(PENEURO['EVENT_ID']))"
   ]
  },
  {
   "cell_type": "markdown",
   "metadata": {},
   "source": [
    "### 'Neurological_Exam_-_Cranial_Nerves.csv': useful: Feat-PD - 2049 patients"
   ]
  },
  {
   "cell_type": "code",
   "execution_count": null,
   "metadata": {},
   "outputs": [],
   "source": [
    "PENEURO2=dict_files[files_names[13]]\n",
    "PENEURO2.head()\n",
    "PENEURO2.columns\n",
    "\n",
    "SEL=['REC_ID', 'PATNO', 'EVENT_ID', 'PAG_NAME', 'INFODT',\n",
    "       'CN1RSP','CN2RSP', 'CN346RSP','CN5RSP',\n",
    "     'CN7RSP', 'CN8RSP', 'CN910RSP',\n",
    "       'CN11RSP', 'CN12RSP']\n",
    "print(number_of_patients(PENEURO2))\n",
    "PENEURO2_sel=PENEURO2[SEL]\n",
    "PENEURO2_sel.head()\n",
    "#list(set(PENEURO['EVENT_ID']))"
   ]
  },
  {
   "cell_type": "markdown",
   "metadata": {},
   "source": [
    "### 'PD_Features.csv': useful: Feat-PD - caution: these are actually not timeseries but examination only done at screening (SC), BL & V04\n",
    "### 1017 patients"
   ]
  },
  {
   "cell_type": "code",
   "execution_count": null,
   "metadata": {},
   "outputs": [],
   "source": [
    "PDFEAT=dict_files[files_names[14]]\n",
    "#PDFEAT.head()\n",
    "#PDFEAT.columns\n",
    "\n",
    "SEL=['REC_ID', 'PATNO', 'EVENT_ID', 'PAG_NAME', 'INFODT', 'SXMO',\n",
    "       'SXYEAR', 'PDDXDT', 'PDDXEST', 'DXTREMOR', 'DXRIGID', 'DXBRADY',\n",
    "       'DXPOSINS', 'DXOTHSX', 'DXOTHCM', 'DOMSIDE']\n",
    "print(number_of_patients(PDFEAT))\n",
    "PDFEAT_sel=PDFEAT[SEL]\n",
    "PDFEAT_sel.head()\n",
    "#list(set(PDFEAT_sel['DXOTHCM'])) - see if we remove the comment feature or not.\n",
    "#list(set(PDFEAT['EVENT_ID']))"
   ]
  },
  {
   "cell_type": "markdown",
   "metadata": {},
   "source": [
    "### 'Vital_Signs.csv': useful: Feat-Gen\n",
    "### 2047 patients"
   ]
  },
  {
   "cell_type": "code",
   "execution_count": null,
   "metadata": {},
   "outputs": [],
   "source": [
    "VITAL=dict_files[files_names[15]]\n",
    "#VITAL.head()\n",
    "#VITAL.columns\n",
    "\n",
    "SEL=['REC_ID', 'PATNO', 'EVENT_ID', 'PAG_NAME', 'INFODT',\n",
    "       'WGTKG', 'HTCM', 'TEMPC', 'SYSSUP', 'DIASUP', 'HRSUP',\n",
    "       'SYSSTND', 'DIASTND', 'HRSTND']\n",
    "print(number_of_patients(VITAL))\n",
    "VITAL_sel=VITAL[SEL]\n",
    "VITAL_sel.head()"
   ]
  },
  {
   "cell_type": "markdown",
   "metadata": {},
   "source": [
    "## 6-Motor-Assessments - all of them can be useful. \n",
    "#### But we might make the choice to not take all of them. \n",
    "#### For assessing the disease state (the labels), I think we should focus on the UPDRS1,3,&4 and take the other assessments as features"
   ]
  },
  {
   "cell_type": "code",
   "execution_count": null,
   "metadata": {},
   "outputs": [],
   "source": [
    "folder_path='/Users/alicemartin/02_DSR_Project/parkinson-disease-project/data/PPMI-final-dataset-382018/6-Motor-Assessments/'\n",
    "files_names=reading_csv_files(folder_path)[1]\n",
    "dict_files=reading_csv_files(folder_path)[2]"
   ]
  },
  {
   "cell_type": "markdown",
   "metadata": {},
   "source": [
    "### 'MDS_UPDRS_Part_I__Patient_Questionnaire.csv' - 2011 patients"
   ]
  },
  {
   "cell_type": "code",
   "execution_count": null,
   "metadata": {},
   "outputs": [],
   "source": [
    "NUPDR1SP=dict_files[files_names[0]]\n",
    "print(number_of_patients(NUPDR1SP))\n",
    "NUPDR1SP.head()"
   ]
  },
  {
   "cell_type": "markdown",
   "metadata": {},
   "source": [
    "### 'MDS_UPDRS_Part_I.csv' - 2010 patients"
   ]
  },
  {
   "cell_type": "code",
   "execution_count": null,
   "metadata": {},
   "outputs": [],
   "source": [
    "NUPDRS1=dict_files[files_names[2]]\n",
    "print(number_of_patients(NUPDRS1))\n",
    "NUPDRS1.head()"
   ]
  },
  {
   "cell_type": "markdown",
   "metadata": {},
   "source": [
    "### 'MDS_UPDRS_Part_II__Patient_Questionnaire.csv' - 2011 patients"
   ]
  },
  {
   "cell_type": "code",
   "execution_count": null,
   "metadata": {},
   "outputs": [],
   "source": [
    "NUPDRS2P=dict_files[files_names[11]]\n",
    "print(number_of_patients(NUPDRS2P))\n",
    "NUPDRS2P.head()"
   ]
  },
  {
   "cell_type": "markdown",
   "metadata": {},
   "source": [
    "### 'MDS_UPDRS_Part_III.csv' - 2010 patients"
   ]
  },
  {
   "cell_type": "code",
   "execution_count": null,
   "metadata": {},
   "outputs": [],
   "source": [
    "NUPDRS3=dict_files[files_names[7]]\n",
    "print(number_of_patients(NUPDRS3))\n",
    "NUPDRS3.head()"
   ]
  },
  {
   "cell_type": "markdown",
   "metadata": {},
   "source": [
    "### 'MDS_UPDRS_Part_IV.csv' - 860 patients"
   ]
  },
  {
   "cell_type": "code",
   "execution_count": null,
   "metadata": {},
   "outputs": [],
   "source": [
    "NUPDRS4=dict_files[files_names[5]]\n",
    "print(number_of_patients(NUPDRS4))\n",
    "NUPDRS4.head()"
   ]
  },
  {
   "cell_type": "markdown",
   "metadata": {},
   "source": [
    "### 'PASE_-_Household_Activity.csv' - 1248 patients"
   ]
  },
  {
   "cell_type": "code",
   "execution_count": null,
   "metadata": {},
   "outputs": [],
   "source": [
    "PASE=dict_files[files_names[3]]\n",
    "print(number_of_patients(PASE))\n",
    "PASE.head()"
   ]
  },
  {
   "cell_type": "markdown",
   "metadata": {},
   "source": [
    "### 'PASE_-_Leisure_Time_Activity.csv' - 1248 patients"
   ]
  },
  {
   "cell_type": "code",
   "execution_count": null,
   "metadata": {},
   "outputs": [],
   "source": [
    "PASELT=dict_files[files_names[10]]\n",
    "print(number_of_patients(PASELT))\n",
    "PASELT.head()"
   ]
  },
  {
   "cell_type": "markdown",
   "metadata": {},
   "source": [
    "### 'Modified_Schwab_+_England_ADL.csv' - 1837 patients"
   ]
  },
  {
   "cell_type": "code",
   "execution_count": null,
   "metadata": {},
   "outputs": [],
   "source": [
    "MODSEADL=dict_files[files_names[6]]\n",
    "print(number_of_patients(MODSEADL))\n",
    "MODSEADL.head()"
   ]
  },
  {
   "cell_type": "markdown",
   "metadata": {},
   "source": [
    "### 'TAP-PD_OPDM_Assessment.csv' - only 173 patients...\n"
   ]
  },
  {
   "cell_type": "code",
   "execution_count": null,
   "metadata": {
    "scrolled": false
   },
   "outputs": [],
   "source": [
    "TAPOPDM=dict_files[files_names[8]]\n",
    "print(number_of_patients(TAPOPDM))\n",
    "TAPOPDM.head()"
   ]
  },
  {
   "cell_type": "markdown",
   "metadata": {},
   "source": [
    "### 'TAP-PD_OPDM_Use_Questionnaire.csv' - only 32 patients"
   ]
  },
  {
   "cell_type": "code",
   "execution_count": null,
   "metadata": {
    "scrolled": true
   },
   "outputs": [],
   "source": [
    "TAPUSE=dict_files[files_names[1]]\n",
    "print(number_of_patients(TAPUSE))\n",
    "TAPUSE.head()"
   ]
  },
  {
   "cell_type": "markdown",
   "metadata": {},
   "source": [
    "### 'Gait_Data___Arm_swing.csv' - not sure if we should consider this dataset. - only 62 patients..."
   ]
  },
  {
   "cell_type": "code",
   "execution_count": null,
   "metadata": {},
   "outputs": [],
   "source": [
    "GAITDATA=dict_files[files_names[4]]\n",
    "print(number_of_patients(GAITDATA))\n",
    "GAITDATA.head()"
   ]
  },
  {
   "cell_type": "markdown",
   "metadata": {},
   "source": [
    "### 'TAP-PD_Kinetics_Device_Testing.csv' - Idem for this one- not sure it is essential to consider it.\n",
    "#### NO TS data. \n",
    "### Only 32 patients..."
   ]
  },
  {
   "cell_type": "code",
   "execution_count": null,
   "metadata": {},
   "outputs": [],
   "source": [
    "KINETICS=dict_files[files_names[9]]\n",
    "print(number_of_patients(KINETICS))\n",
    "KINETICS.head()"
   ]
  },
  {
   "cell_type": "markdown",
   "metadata": {},
   "source": [
    "## 7-Non-motor-assessments - all of them can be useful but we might need to choose. \n",
    "### Do a correlation analysis and ask doctors which ones are the more relevant. "
   ]
  },
  {
   "cell_type": "code",
   "execution_count": null,
   "metadata": {},
   "outputs": [],
   "source": [
    "folder_path='/Users/alicemartin/02_DSR_Project/parkinson-disease-project/data/PPMI-final-dataset-382018/7-Non-motor-assessments/'\n",
    "files_names=reading_csv_files(folder_path)[1]\n",
    "dict_files=reading_csv_files(folder_path)[2]"
   ]
  },
  {
   "cell_type": "markdown",
   "metadata": {},
   "source": [
    "### 'University_of_Pennsylvania_Smell_ID_Test.csv' - 1799 patients"
   ]
  },
  {
   "cell_type": "code",
   "execution_count": null,
   "metadata": {},
   "outputs": [],
   "source": [
    "UPSIT=dict_files[files_names[0]]\n",
    "print(number_of_patients(UPSIT))\n",
    "UPSIT.head()"
   ]
  },
  {
   "cell_type": "markdown",
   "metadata": {},
   "source": [
    "### 'Features_of_REM_Behavior_Disorder.csv' - only 80 patients...\n",
    "#### NOT TS data."
   ]
  },
  {
   "cell_type": "code",
   "execution_count": null,
   "metadata": {},
   "outputs": [],
   "source": [
    "REMBHVDS=dict_files[files_names[1]]\n",
    "print(number_of_patients(REMBHVDS))\n",
    "REMBHVDS.head()"
   ]
  },
  {
   "cell_type": "markdown",
   "metadata": {},
   "source": [
    "### 'Epworth_Sleepiness_Scale.csv - 1343 patients."
   ]
  },
  {
   "cell_type": "code",
   "execution_count": null,
   "metadata": {},
   "outputs": [],
   "source": [
    "EPWORTH=dict_files[files_names[2]]\n",
    "print(number_of_patients(EPWORTH))\n",
    "EPWORTH.head()"
   ]
  },
  {
   "cell_type": "markdown",
   "metadata": {},
   "source": [
    "### 'Letter_-_Number_Sequencing__PD_.csv' - 1341 patients."
   ]
  },
  {
   "cell_type": "code",
   "execution_count": null,
   "metadata": {},
   "outputs": [],
   "source": [
    "LNSPD=dict_files[files_names[3]]\n",
    "print(number_of_patients(LNSPD))\n",
    "LNSPD.head()"
   ]
  },
  {
   "cell_type": "markdown",
   "metadata": {},
   "source": [
    "### 'Olfactory_UPSIT.csv' - 4468 patients\n",
    "#### NB: only take the 2 last columns as features (TOTAL_CORRECT, UPSIIT_PRCNTGE)"
   ]
  },
  {
   "cell_type": "code",
   "execution_count": null,
   "metadata": {},
   "outputs": [],
   "source": [
    "OLFACT=dict_files[files_names[4]]\n",
    "#print(number_of_patients(OLFACT))\n",
    "print(len(list(set(OLFACT['SUBJECT_ID']))))\n",
    "OLFACT.head()"
   ]
  },
  {
   "cell_type": "markdown",
   "metadata": {},
   "source": [
    "### 'REM_Sleep_Disorder_Questionnaire.csv' - 1810 patients"
   ]
  },
  {
   "cell_type": "code",
   "execution_count": null,
   "metadata": {},
   "outputs": [],
   "source": [
    "REMSLEEP=dict_files[files_names[5]]\n",
    "print(number_of_patients(REMSLEEP))\n",
    "REMSLEEP.head()"
   ]
  },
  {
   "cell_type": "markdown",
   "metadata": {},
   "source": [
    "### 'Cognitive_Assessments.csv' - 1172 patients"
   ]
  },
  {
   "cell_type": "code",
   "execution_count": null,
   "metadata": {},
   "outputs": [],
   "source": [
    "COGTIME=dict_files[files_names[6]]\n",
    "print(number_of_patients(COGTIME))\n",
    "COGTIME.head()"
   ]
  },
  {
   "cell_type": "markdown",
   "metadata": {},
   "source": [
    "### 'SCOPA-AUT.csv' - 1345 patients"
   ]
  },
  {
   "cell_type": "code",
   "execution_count": null,
   "metadata": {},
   "outputs": [],
   "source": [
    "SCOPAAUT=dict_files[files_names[7]]\n",
    "print(number_of_patients(SCOPAAUT))\n",
    "SCOPAAUT.head()"
   ]
  },
  {
   "cell_type": "markdown",
   "metadata": {},
   "source": [
    "### Cognitive_Categorization.csv' - 1302 patients"
   ]
  },
  {
   "cell_type": "code",
   "execution_count": null,
   "metadata": {},
   "outputs": [],
   "source": [
    "COGCATG=dict_files[files_names[8]]\n",
    "print(number_of_patients(COGCATG))\n",
    "COGCATG.head()"
   ]
  },
  {
   "cell_type": "markdown",
   "metadata": {},
   "source": [
    "### 'Hopkins_Verbal_Learning_Test.csv' - 1341 patients"
   ]
  },
  {
   "cell_type": "code",
   "execution_count": null,
   "metadata": {},
   "outputs": [],
   "source": [
    "HVLT=dict_files[files_names[9]]\n",
    "print(number_of_patients(HVLT))\n",
    "HVLT.head()"
   ]
  },
  {
   "cell_type": "markdown",
   "metadata": {},
   "source": [
    "### 'Montreal_Cognitive_Assessment__MoCA_.csv' - 2054 patients"
   ]
  },
  {
   "cell_type": "code",
   "execution_count": null,
   "metadata": {},
   "outputs": [],
   "source": [
    "MOCA=dict_files[files_names[10]]\n",
    "print(number_of_patients(MOCA))\n",
    "MOCA.head()"
   ]
  },
  {
   "cell_type": "markdown",
   "metadata": {},
   "source": [
    "### 'Semantic_Fluency.csv' - 1342 patients"
   ]
  },
  {
   "cell_type": "code",
   "execution_count": null,
   "metadata": {},
   "outputs": [],
   "source": [
    "SFT=dict_files[files_names[11]]\n",
    "print(number_of_patients(SFT))\n",
    "SFT.head()"
   ]
  },
  {
   "cell_type": "markdown",
   "metadata": {},
   "source": [
    "### 'Geriatric_Depression_Scale__Short_.csv' - 1478 patients"
   ]
  },
  {
   "cell_type": "code",
   "execution_count": null,
   "metadata": {},
   "outputs": [],
   "source": [
    "GDSSHORT=dict_files[files_names[12]]\n",
    "print(number_of_patients(GDSSHORT))\n",
    "GDSSHORT.head()"
   ]
  },
  {
   "cell_type": "markdown",
   "metadata": {},
   "source": [
    "### 'Symbol_Digit_Modalities.csv' - 1340 patients"
   ]
  },
  {
   "cell_type": "code",
   "execution_count": null,
   "metadata": {},
   "outputs": [],
   "source": [
    "SDM=dict_files[files_names[13]]\n",
    "print(number_of_patients(SDM))\n",
    "SDM.head()"
   ]
  },
  {
   "cell_type": "markdown",
   "metadata": {},
   "source": [
    "### 'State-Trait_Anxiety_Inventory.csv' - 1474 patients"
   ]
  },
  {
   "cell_type": "code",
   "execution_count": null,
   "metadata": {},
   "outputs": [],
   "source": [
    "STAI=dict_files[files_names[14]]\n",
    "print(number_of_patients(STAI))\n",
    "STAI.head()"
   ]
  },
  {
   "cell_type": "markdown",
   "metadata": {},
   "source": [
    "### 'Benton_Judgment_of_Line_Orientation.csv' - 1341 patients"
   ]
  },
  {
   "cell_type": "code",
   "execution_count": null,
   "metadata": {},
   "outputs": [],
   "source": [
    "BENTONOD=dict_files[files_names[15]]\n",
    "print(number_of_patients(BENTONOD))\n",
    "BENTONOD.head()"
   ]
  },
  {
   "cell_type": "markdown",
   "metadata": {},
   "source": [
    "### 'QUIP_Current_Short.csv' - 1346 patients"
   ]
  },
  {
   "cell_type": "code",
   "execution_count": null,
   "metadata": {},
   "outputs": [],
   "source": [
    "QUIPCS=dict_files[files_names[16]]\n",
    "print(number_of_patients(QUIPCS))\n",
    "QUIPCS.head()"
   ]
  },
  {
   "cell_type": "markdown",
   "metadata": {},
   "source": [
    "# Datasets to investigate"
   ]
  },
  {
   "cell_type": "markdown",
   "metadata": {},
   "source": [
    "### Blood_Chemistry__Hematology - Contains information about patient blood. \n",
    "### Ask doctors if really useful. "
   ]
  },
  {
   "cell_type": "code",
   "execution_count": null,
   "metadata": {},
   "outputs": [],
   "source": [
    "COVANCE=dict_files[files_names[12]]\n",
    "#COVANCE.head()"
   ]
  },
  {
   "cell_type": "markdown",
   "metadata": {},
   "source": [
    "### IUSM_Catalog - DNK - most likely useless\n",
    "#### seems ti be only metadata on the lab collections.\n",
    "Look @ the PPMI doc to understand what is this table"
   ]
  },
  {
   "cell_type": "code",
   "execution_count": null,
   "metadata": {},
   "outputs": [],
   "source": [
    "IUSMCAT=dict_files[files_names[14]]\n",
    "#IUSMCAT.head()"
   ]
  },
  {
   "cell_type": "markdown",
   "metadata": {},
   "source": [
    "# Additionnal data that will be used later on (imaging data and medication data)"
   ]
  },
  {
   "cell_type": "markdown",
   "metadata": {},
   "source": [
    "## 4-Imaging - dataset not to be used for the time being."
   ]
  },
  {
   "cell_type": "code",
   "execution_count": null,
   "metadata": {},
   "outputs": [],
   "source": [
    "folder_path='/Users/alicemartin/02_DSR_Project/parkinson-disease-project/data/PPMI-final-dataset-382018/4-Imaging/'\n",
    "files_names=reading_csv_files(folder_path)[1]\n",
    "dict_files=reading_csv_files(folder_path)[2]"
   ]
  },
  {
   "cell_type": "markdown",
   "metadata": {},
   "source": [
    "### FBB_Analysis_Data.csv"
   ]
  },
  {
   "cell_type": "code",
   "execution_count": null,
   "metadata": {},
   "outputs": [],
   "source": [
    "FBBANAL=dict_files[files_names[0]]\n",
    "#FBBANAL.head()"
   ]
  },
  {
   "cell_type": "markdown",
   "metadata": {},
   "source": [
    "### AV-133_Image_Metadata.csv"
   ]
  },
  {
   "cell_type": "code",
   "execution_count": null,
   "metadata": {},
   "outputs": [],
   "source": [
    "AV133META=dict_files[files_names[1]]\n",
    "#AV133META.head()"
   ]
  },
  {
   "cell_type": "markdown",
   "metadata": {},
   "source": [
    "### AV-133_Imaging.csv"
   ]
  },
  {
   "cell_type": "code",
   "execution_count": null,
   "metadata": {},
   "outputs": [],
   "source": [
    "AVIMAG=dict_files[files_names[2]]\n",
    "#AVIMAG.head()"
   ]
  },
  {
   "cell_type": "markdown",
   "metadata": {},
   "source": [
    "### DaTscan_Imaging.csv"
   ]
  },
  {
   "cell_type": "code",
   "execution_count": null,
   "metadata": {},
   "outputs": [],
   "source": [
    "DATSCAN=dict_files[files_names[3]]\n",
    "#DATSCAN.head()"
   ]
  },
  {
   "cell_type": "markdown",
   "metadata": {},
   "source": [
    "### SPECT_Scan_Information_Source_Document.csv"
   ]
  },
  {
   "cell_type": "code",
   "execution_count": null,
   "metadata": {},
   "outputs": [],
   "source": [
    "SPECTSCANINFO=dict_files[files_names[4]]\n",
    "#SPECTSCANINFO.head()"
   ]
  },
  {
   "cell_type": "markdown",
   "metadata": {},
   "source": [
    "### AV-133_SBR_Results.csv"
   ]
  },
  {
   "cell_type": "code",
   "execution_count": null,
   "metadata": {},
   "outputs": [],
   "source": [
    "AV133SBRRSLT=dict_files[files_names[5]]\n",
    "#AV133SBRRSLT.head()"
   ]
  },
  {
   "cell_type": "markdown",
   "metadata": {},
   "source": [
    "### Magnetic_Resonance_Imaging.csv"
   ]
  },
  {
   "cell_type": "code",
   "execution_count": null,
   "metadata": {},
   "outputs": [],
   "source": [
    "MRI=dict_files[files_names[6]]\n",
    "#MRI.head()"
   ]
  },
  {
   "cell_type": "markdown",
   "metadata": {},
   "source": [
    "### DTI_Regions_of_Interest"
   ]
  },
  {
   "cell_type": "code",
   "execution_count": null,
   "metadata": {},
   "outputs": [],
   "source": [
    "DTIROI=dict_files[files_names[7]]\n",
    "#DTIROI.head()"
   ]
  },
  {
   "cell_type": "markdown",
   "metadata": {},
   "source": [
    "### DaTSCAN_SPECT_Visual_Interpretation_Assessment.csv"
   ]
  },
  {
   "cell_type": "code",
   "execution_count": null,
   "metadata": {},
   "outputs": [],
   "source": [
    "FBBMETA=dict_files[files_names[8]]\n",
    "#FBBMETA.head()"
   ]
  },
  {
   "cell_type": "markdown",
   "metadata": {},
   "source": [
    "### 'FBB_Metadata.csv'"
   ]
  },
  {
   "cell_type": "code",
   "execution_count": null,
   "metadata": {},
   "outputs": [],
   "source": [
    "FBBMETA=dict_files[files_names[9]]\n",
    "#FBBMETA.head()"
   ]
  },
  {
   "cell_type": "markdown",
   "metadata": {},
   "source": [
    "### 'MRI_Imaging_Data_Transfer_Information_Source_Document.csv'"
   ]
  },
  {
   "cell_type": "code",
   "execution_count": 21,
   "metadata": {},
   "outputs": [],
   "source": [
    "MRIINFO=dict_files[files_names[10]]\n",
    "#MRIINFO.head()"
   ]
  },
  {
   "cell_type": "markdown",
   "metadata": {},
   "source": [
    "## Medications data & misc data - to be used later on."
   ]
  },
  {
   "cell_type": "markdown",
   "metadata": {},
   "source": [
    "### Family_History_PD - most likely useful but not to be used for now.\n",
    "#### Can be useful for detecting early PD"
   ]
  },
  {
   "cell_type": "code",
   "execution_count": null,
   "metadata": {},
   "outputs": [],
   "source": [
    "FAMHXPD=dict_files[files_names[2]]\n",
    "#FAMHXPD.head()"
   ]
  },
  {
   "cell_type": "markdown",
   "metadata": {},
   "source": [
    "### 'Prodromal_Diagnostic_Questionnaire.csv': useful: Feat-Gen (PRIMDIAG & PSLVL2)\n",
    "#### NB: PSLV2 evaluates the proba of the patient being PD: might be useful for early PD. \n",
    "#### But not to be used in the main analysis as a feature (only for Prodromal - i.e 800 subjects)"
   ]
  },
  {
   "cell_type": "code",
   "execution_count": 20,
   "metadata": {},
   "outputs": [
    {
     "name": "stdout",
     "output_type": "stream",
     "text": [
      "(800, 16)\n"
     ]
    },
    {
     "data": {
      "text/html": [
       "<div>\n",
       "<style scoped>\n",
       "    .dataframe tbody tr th:only-of-type {\n",
       "        vertical-align: middle;\n",
       "    }\n",
       "\n",
       "    .dataframe tbody tr th {\n",
       "        vertical-align: top;\n",
       "    }\n",
       "\n",
       "    .dataframe thead th {\n",
       "        text-align: right;\n",
       "    }\n",
       "</style>\n",
       "<table border=\"1\" class=\"dataframe\">\n",
       "  <thead>\n",
       "    <tr style=\"text-align: right;\">\n",
       "      <th></th>\n",
       "      <th>REC_ID</th>\n",
       "      <th>F_STATUS</th>\n",
       "      <th>PATNO</th>\n",
       "      <th>EVENT_ID</th>\n",
       "      <th>PAG_NAME</th>\n",
       "      <th>PRIMDIAG</th>\n",
       "      <th>OTHNEURO</th>\n",
       "      <th>PSLVL2</th>\n",
       "    </tr>\n",
       "  </thead>\n",
       "  <tbody>\n",
       "    <tr>\n",
       "      <th>0</th>\n",
       "      <td>408770801</td>\n",
       "      <td>V</td>\n",
       "      <td>10362</td>\n",
       "      <td>SC</td>\n",
       "      <td>PRODDIAG</td>\n",
       "      <td>17</td>\n",
       "      <td>NaN</td>\n",
       "      <td>4</td>\n",
       "    </tr>\n",
       "    <tr>\n",
       "      <th>1</th>\n",
       "      <td>605736601</td>\n",
       "      <td>V</td>\n",
       "      <td>10405</td>\n",
       "      <td>SC</td>\n",
       "      <td>PRODDIAG</td>\n",
       "      <td>17</td>\n",
       "      <td>NaN</td>\n",
       "      <td>5</td>\n",
       "    </tr>\n",
       "    <tr>\n",
       "      <th>2</th>\n",
       "      <td>410987801</td>\n",
       "      <td>V</td>\n",
       "      <td>10496</td>\n",
       "      <td>SC</td>\n",
       "      <td>PRODDIAG</td>\n",
       "      <td>23</td>\n",
       "      <td>NaN</td>\n",
       "      <td>5</td>\n",
       "    </tr>\n",
       "    <tr>\n",
       "      <th>3</th>\n",
       "      <td>409586301</td>\n",
       "      <td>S</td>\n",
       "      <td>10606</td>\n",
       "      <td>SC</td>\n",
       "      <td>PRODDIAG</td>\n",
       "      <td>17</td>\n",
       "      <td>NaN</td>\n",
       "      <td>4</td>\n",
       "    </tr>\n",
       "    <tr>\n",
       "      <th>4</th>\n",
       "      <td>448326801</td>\n",
       "      <td>V</td>\n",
       "      <td>10662</td>\n",
       "      <td>SC</td>\n",
       "      <td>PRODDIAG</td>\n",
       "      <td>17</td>\n",
       "      <td>NaN</td>\n",
       "      <td>5</td>\n",
       "    </tr>\n",
       "  </tbody>\n",
       "</table>\n",
       "</div>"
      ],
      "text/plain": [
       "      REC_ID F_STATUS  PATNO EVENT_ID  PAG_NAME  PRIMDIAG OTHNEURO  PSLVL2\n",
       "0  408770801        V  10362       SC  PRODDIAG        17      NaN       4\n",
       "1  605736601        V  10405       SC  PRODDIAG        17      NaN       5\n",
       "2  410987801        V  10496       SC  PRODDIAG        23      NaN       5\n",
       "3  409586301        S  10606       SC  PRODDIAG        17      NaN       4\n",
       "4  448326801        V  10662       SC  PRODDIAG        17      NaN       5"
      ]
     },
     "execution_count": 20,
     "metadata": {},
     "output_type": "execute_result"
    }
   ],
   "source": [
    "PRODIAG=dict_files[files_names[0]]\n",
    "#PRODIAG.head()\n",
    "#PRODIAG.columns\n",
    "\n",
    "SEL=['REC_ID', 'F_STATUS', 'PATNO', 'EVENT_ID', 'PAG_NAME', 'PRIMDIAG',\n",
    "       'OTHNEURO', 'PSLVL2']\n",
    "print(number_of_patients(PRODIAG))\n",
    "PRODIAG_sel=PRODIAG[SEL]\n",
    "PRODIAG_sel.head()"
   ]
  },
  {
   "cell_type": "markdown",
   "metadata": {},
   "source": [
    "### 'Signature_Form.csv' - most likely useful: Meds - but not to be used for now.\n",
    "#### Can be useful for the meds log"
   ]
  },
  {
   "cell_type": "code",
   "execution_count": null,
   "metadata": {},
   "outputs": [],
   "source": [
    "SIG=dict_files[files_names[10]]\n",
    "#SIG.head()"
   ]
  },
  {
   "cell_type": "markdown",
   "metadata": {},
   "source": [
    "### Use of PD Medication: useful: Meds - but not to be used for now."
   ]
  },
  {
   "cell_type": "code",
   "execution_count": null,
   "metadata": {},
   "outputs": [],
   "source": [
    "PDMEDUSE=dict_files[files_names[4]]\n",
    "#PDMEDUSE.head()"
   ]
  },
  {
   "cell_type": "markdown",
   "metadata": {},
   "source": [
    "### 'Concomitant_Medications.csv': useful: Meds - But not to be used for now."
   ]
  },
  {
   "cell_type": "code",
   "execution_count": null,
   "metadata": {},
   "outputs": [],
   "source": [
    "CMED=dict_files[files_names[6]]\n",
    "#CMED.head()"
   ]
  },
  {
   "cell_type": "markdown",
   "metadata": {},
   "source": [
    "### 'Current_Medical_Conditions_Log.csv': useful: Meds - but not to be used for now. "
   ]
  },
  {
   "cell_type": "code",
   "execution_count": null,
   "metadata": {},
   "outputs": [],
   "source": [
    "### 'Current_Medical_Conditions_Log.csv': Meds\n",
    "CURRCOND=dict_files[files_names[8]]\n",
    "#CURRCOND.head()"
   ]
  },
  {
   "cell_type": "markdown",
   "metadata": {},
   "source": [
    "### 'Adverse_Event_Log.csv': useful: Meds - but not to be used for now.\n",
    "#### Measures the side effects of the meds taken for PD."
   ]
  },
  {
   "cell_type": "code",
   "execution_count": null,
   "metadata": {},
   "outputs": [],
   "source": [
    "LOG=dict_files[files_names[9]]\n",
    "#LOG.head()"
   ]
  },
  {
   "cell_type": "markdown",
   "metadata": {},
   "source": [
    "### 'Surgery_for_Parkinson_Disease.csv': useful: Meds - but not to be used for now."
   ]
  },
  {
   "cell_type": "code",
   "execution_count": null,
   "metadata": {},
   "outputs": [],
   "source": [
    "SURGPD=dict_files[files_names[12]]\n",
    "#SURGPD.head()"
   ]
  },
  {
   "cell_type": "markdown",
   "metadata": {},
   "source": [
    "## Datasets with two few data points (not enough patients)"
   ]
  },
  {
   "cell_type": "markdown",
   "metadata": {},
   "source": [
    "### Skin_Biopsy - useful: Feat-bio (wound closure) - only 26 patients..."
   ]
  },
  {
   "cell_type": "code",
   "execution_count": null,
   "metadata": {},
   "outputs": [],
   "source": [
    "SKBIO=dict_files[files_names[1]]\n",
    "#SKBIO.head()\n",
    "#SKBIO.columns\n",
    "\n",
    "SEL=['REC_ID','PATNO', 'EVENT_ID', 'PAG_NAME', 'INFODT','SKBIOCMP','WOUNDCLS']\n",
    "SKBIO_sel=SKBIO[SEL]\n",
    "print(number_of_patients(SKBIO))\n",
    "SKBIO_sel.head()\n",
    "#list(set(SKBIO_sel['EVENT_ID']))"
   ]
  },
  {
   "cell_type": "markdown",
   "metadata": {},
   "source": [
    "### IPSC_Labs: useful - Feat-bio: blood, liver disease, heparin(?), myeloma(?) stuff (linked to Med dose history)\n",
    "### ONLY 137 patients..."
   ]
  },
  {
   "cell_type": "code",
   "execution_count": null,
   "metadata": {},
   "outputs": [],
   "source": [
    "### ISPC_Labs: useful - Feat-bio\n",
    "#### Select only history of liver disease and multiple myeloma (can be useful for treatments strategies)\n",
    "IPSCLAB=dict_files[files_names[5]]\n",
    "#IPSCLAB.head()\n",
    "IPSCLAB.columns\n",
    "\n",
    "SEL=['REC_ID','PATNO', 'EVENT_ID', 'PAG_NAME', 'INFODT',\n",
    "       'PDMEDYN', 'PDMEDDT', 'PDMEDTM', 'WARFBEF', 'HEPBEF', 'HXLIVER',\n",
    "       'HXMMYLMA', 'BLDLTH', 'LTHTM', 'LTHINVN', 'BLDSST', 'BLDCPT']\n",
    "# we might be able to remove some features. \n",
    "print(number_of_patients(IPSCLAB))\n",
    "IPSCLAB_sel=IPSCLAB[SEL]\n",
    "IPSCLAB_sel.head()\n",
    "#list(set(IPSCLAB_sel['EVENT_ID']))"
   ]
  },
  {
   "cell_type": "markdown",
   "metadata": {},
   "source": [
    "### 'Clinical_Diagnosis_and_Management.csv': Feat-PD - only 73 patients..."
   ]
  },
  {
   "cell_type": "code",
   "execution_count": 16,
   "metadata": {},
   "outputs": [
    {
     "name": "stdout",
     "output_type": "stream",
     "text": [
      "(73, 11)\n"
     ]
    },
    {
     "data": {
      "text/html": [
       "<div>\n",
       "<style scoped>\n",
       "    .dataframe tbody tr th:only-of-type {\n",
       "        vertical-align: middle;\n",
       "    }\n",
       "\n",
       "    .dataframe tbody tr th {\n",
       "        vertical-align: top;\n",
       "    }\n",
       "\n",
       "    .dataframe thead th {\n",
       "        text-align: right;\n",
       "    }\n",
       "</style>\n",
       "<table border=\"1\" class=\"dataframe\">\n",
       "  <thead>\n",
       "    <tr style=\"text-align: right;\">\n",
       "      <th></th>\n",
       "      <th>REC_ID</th>\n",
       "      <th>PATNO</th>\n",
       "      <th>EVENT_ID</th>\n",
       "      <th>PAG_NAME</th>\n",
       "      <th>INFODT</th>\n",
       "      <th>PSLVL</th>\n",
       "      <th>DCNOMTR</th>\n",
       "      <th>DCRTREM</th>\n",
       "      <th>DCRIGID</th>\n",
       "      <th>DCBRADY</th>\n",
       "      <th>...</th>\n",
       "      <th>DXFNATHX</th>\n",
       "      <th>DXFOTH</th>\n",
       "      <th>DXFOTHCM</th>\n",
       "      <th>MNGCHNG</th>\n",
       "      <th>MNGTRTSX</th>\n",
       "      <th>MNGTRIAL</th>\n",
       "      <th>MNGTRTOT</th>\n",
       "      <th>MNGDXTST</th>\n",
       "      <th>MNGNOTRT</th>\n",
       "      <th>NEURWKDX</th>\n",
       "    </tr>\n",
       "  </thead>\n",
       "  <tbody>\n",
       "    <tr>\n",
       "      <th>0</th>\n",
       "      <td>317677601</td>\n",
       "      <td>3408</td>\n",
       "      <td>BL</td>\n",
       "      <td>CLINDX</td>\n",
       "      <td>10/2011</td>\n",
       "      <td>3</td>\n",
       "      <td>0</td>\n",
       "      <td>0.0</td>\n",
       "      <td>1.0</td>\n",
       "      <td>1.0</td>\n",
       "      <td>...</td>\n",
       "      <td>1.0</td>\n",
       "      <td>0.0</td>\n",
       "      <td>NaN</td>\n",
       "      <td>0</td>\n",
       "      <td>0.0</td>\n",
       "      <td>0.0</td>\n",
       "      <td>0.0</td>\n",
       "      <td>0.0</td>\n",
       "      <td>1.0</td>\n",
       "      <td>NaN</td>\n",
       "    </tr>\n",
       "    <tr>\n",
       "      <th>1</th>\n",
       "      <td>317614301</td>\n",
       "      <td>3520</td>\n",
       "      <td>BL</td>\n",
       "      <td>CLINDX</td>\n",
       "      <td>10/2011</td>\n",
       "      <td>2</td>\n",
       "      <td>0</td>\n",
       "      <td>1.0</td>\n",
       "      <td>1.0</td>\n",
       "      <td>1.0</td>\n",
       "      <td>...</td>\n",
       "      <td>NaN</td>\n",
       "      <td>NaN</td>\n",
       "      <td>NaN</td>\n",
       "      <td>0</td>\n",
       "      <td>0.0</td>\n",
       "      <td>0.0</td>\n",
       "      <td>0.0</td>\n",
       "      <td>0.0</td>\n",
       "      <td>1.0</td>\n",
       "      <td>NaN</td>\n",
       "    </tr>\n",
       "    <tr>\n",
       "      <th>2</th>\n",
       "      <td>318556601</td>\n",
       "      <td>3426</td>\n",
       "      <td>BL</td>\n",
       "      <td>CLINDX</td>\n",
       "      <td>10/2011</td>\n",
       "      <td>3</td>\n",
       "      <td>0</td>\n",
       "      <td>1.0</td>\n",
       "      <td>0.0</td>\n",
       "      <td>1.0</td>\n",
       "      <td>...</td>\n",
       "      <td>0.0</td>\n",
       "      <td>0.0</td>\n",
       "      <td>NaN</td>\n",
       "      <td>0</td>\n",
       "      <td>0.0</td>\n",
       "      <td>0.0</td>\n",
       "      <td>0.0</td>\n",
       "      <td>0.0</td>\n",
       "      <td>1.0</td>\n",
       "      <td>Sciatica</td>\n",
       "    </tr>\n",
       "    <tr>\n",
       "      <th>3</th>\n",
       "      <td>318628801</td>\n",
       "      <td>3512</td>\n",
       "      <td>V02</td>\n",
       "      <td>CLINDX</td>\n",
       "      <td>10/2011</td>\n",
       "      <td>2</td>\n",
       "      <td>0</td>\n",
       "      <td>1.0</td>\n",
       "      <td>1.0</td>\n",
       "      <td>0.0</td>\n",
       "      <td>...</td>\n",
       "      <td>NaN</td>\n",
       "      <td>NaN</td>\n",
       "      <td>NaN</td>\n",
       "      <td>0</td>\n",
       "      <td>0.0</td>\n",
       "      <td>0.0</td>\n",
       "      <td>0.0</td>\n",
       "      <td>0.0</td>\n",
       "      <td>0.0</td>\n",
       "      <td>NaN</td>\n",
       "    </tr>\n",
       "    <tr>\n",
       "      <th>4</th>\n",
       "      <td>318729401</td>\n",
       "      <td>3425</td>\n",
       "      <td>BL</td>\n",
       "      <td>CLINDX</td>\n",
       "      <td>10/2011</td>\n",
       "      <td>2</td>\n",
       "      <td>0</td>\n",
       "      <td>0.0</td>\n",
       "      <td>1.0</td>\n",
       "      <td>1.0</td>\n",
       "      <td>...</td>\n",
       "      <td>0.0</td>\n",
       "      <td>0.0</td>\n",
       "      <td>NaN</td>\n",
       "      <td>0</td>\n",
       "      <td>0.0</td>\n",
       "      <td>0.0</td>\n",
       "      <td>0.0</td>\n",
       "      <td>1.0</td>\n",
       "      <td>0.0</td>\n",
       "      <td>spinal stenosis</td>\n",
       "    </tr>\n",
       "  </tbody>\n",
       "</table>\n",
       "<p>5 rows × 28 columns</p>\n",
       "</div>"
      ],
      "text/plain": [
       "      REC_ID  PATNO EVENT_ID PAG_NAME   INFODT  PSLVL  DCNOMTR  DCRTREM  \\\n",
       "0  317677601   3408       BL   CLINDX  10/2011      3        0      0.0   \n",
       "1  317614301   3520       BL   CLINDX  10/2011      2        0      1.0   \n",
       "2  318556601   3426       BL   CLINDX  10/2011      3        0      1.0   \n",
       "3  318628801   3512      V02   CLINDX  10/2011      2        0      1.0   \n",
       "4  318729401   3425       BL   CLINDX  10/2011      2        0      0.0   \n",
       "\n",
       "   DCRIGID  DCBRADY       ...         DXFNATHX  DXFOTH  DXFOTHCM MNGCHNG  \\\n",
       "0      1.0      1.0       ...              1.0     0.0       NaN       0   \n",
       "1      1.0      1.0       ...              NaN     NaN       NaN       0   \n",
       "2      0.0      1.0       ...              0.0     0.0       NaN       0   \n",
       "3      1.0      0.0       ...              NaN     NaN       NaN       0   \n",
       "4      1.0      1.0       ...              0.0     0.0       NaN       0   \n",
       "\n",
       "   MNGTRTSX  MNGTRIAL  MNGTRTOT  MNGDXTST  MNGNOTRT         NEURWKDX  \n",
       "0       0.0       0.0       0.0       0.0       1.0              NaN  \n",
       "1       0.0       0.0       0.0       0.0       1.0              NaN  \n",
       "2       0.0       0.0       0.0       0.0       1.0         Sciatica  \n",
       "3       0.0       0.0       0.0       0.0       0.0              NaN  \n",
       "4       0.0       0.0       0.0       1.0       0.0  spinal stenosis  \n",
       "\n",
       "[5 rows x 28 columns]"
      ]
     },
     "execution_count": 16,
     "metadata": {},
     "output_type": "execute_result"
    }
   ],
   "source": [
    "### 'Clinical_Diagnosis_and_Management.csv': Feat-PD\n",
    "CLINDX=dict_files[files_names[2]]\n",
    "CLINDX.head()\n",
    "#CLINDX.columns\n",
    "\n",
    "SEL=['REC_ID', 'PATNO', 'EVENT_ID', 'PAG_NAME', 'INFODT',\n",
    "       'PSLVL', 'DCNOMTR', 'DCRTREM', 'DCRIGID', 'DCBRADY', 'DFPGDIST',\n",
    "       'DFOTH', 'PRIMDIAG', 'OTHNEURO', 'CLDXCHNG', 'DXFDTIMG',\n",
    "       'DXFCLSGN', 'DXFRSPMD', 'DXFNATHX', 'DXFOTH', 'DXFOTHCM', 'MNGCHNG',\n",
    "       'MNGTRTSX', 'MNGTRIAL', 'MNGTRTOT', 'MNGDXTST', 'MNGNOTRT',\n",
    "       'NEURWKDX']\n",
    "print(number_of_patients(CLINDX))\n",
    "CLINDX_sel=CLINDX[SEL]\n",
    "CLINDX_sel.head()\n",
    "#list(set(CLINDX_sel['EVENT_ID']))"
   ]
  }
 ],
 "metadata": {
  "kernelspec": {
   "display_name": "Python 3",
   "language": "python",
   "name": "python3"
  },
  "language_info": {
   "codemirror_mode": {
    "name": "ipython",
    "version": 3
   },
   "file_extension": ".py",
   "mimetype": "text/x-python",
   "name": "python",
   "nbconvert_exporter": "python",
   "pygments_lexer": "ipython3",
   "version": "3.6.4"
  }
 },
 "nbformat": 4,
 "nbformat_minor": 2
}
